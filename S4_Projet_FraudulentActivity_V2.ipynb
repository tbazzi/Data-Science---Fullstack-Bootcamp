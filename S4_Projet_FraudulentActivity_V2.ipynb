{
  "nbformat": 4,
  "nbformat_minor": 0,
  "metadata": {
    "colab": {
      "name": "S4_Projet_FraudulentActivity_V2.ipynb",
      "provenance": [],
      "collapsed_sections": [],
      "include_colab_link": true
    },
    "kernelspec": {
      "name": "python3",
      "display_name": "Python 3"
    }
  },
  "cells": [
    {
      "cell_type": "markdown",
      "metadata": {
        "id": "view-in-github",
        "colab_type": "text"
      },
      "source": [
        "<a href=\"https://colab.research.google.com/github/tbazzi/Data-Science---Fullstack-Bootcamp/blob/master/S4_Projet_FraudulentActivity_V2.ipynb\" target=\"_parent\"><img src=\"https://colab.research.google.com/assets/colab-badge.svg\" alt=\"Open In Colab\"/></a>"
      ]
    },
    {
      "cell_type": "code",
      "metadata": {
        "id": "aX7AG_Jo_zlZ",
        "colab_type": "code",
        "colab": {}
      },
      "source": [
        "import seaborn as sns\n",
        "import pandas as pd\n",
        "import numpy as np\n",
        "#import matplotlib as plt\n",
        "import matplotlib.pyplot as plt"
      ],
      "execution_count": 0,
      "outputs": []
    },
    {
      "cell_type": "code",
      "metadata": {
        "id": "OEDk-gO2AHHR",
        "colab_type": "code",
        "outputId": "e63bf3cb-fac9-4bc4-aa96-2f991d1225a5",
        "colab": {
          "base_uri": "https://localhost:8080/",
          "height": 128
        }
      },
      "source": [
        "from google.colab import drive\n",
        "drive.mount('/content/drive')"
      ],
      "execution_count": 2,
      "outputs": [
        {
          "output_type": "stream",
          "text": [
            "Go to this URL in a browser: https://accounts.google.com/o/oauth2/auth?client_id=947318989803-6bn6qk8qdgf4n4g3pfee6491hc0brc4i.apps.googleusercontent.com&redirect_uri=urn%3Aietf%3Awg%3Aoauth%3A2.0%3Aoob&scope=email%20https%3A%2F%2Fwww.googleapis.com%2Fauth%2Fdocs.test%20https%3A%2F%2Fwww.googleapis.com%2Fauth%2Fdrive%20https%3A%2F%2Fwww.googleapis.com%2Fauth%2Fdrive.photos.readonly%20https%3A%2F%2Fwww.googleapis.com%2Fauth%2Fpeopleapi.readonly&response_type=code\n",
            "\n",
            "Enter your authorization code:\n",
            "··········\n",
            "Mounted at /content/drive\n"
          ],
          "name": "stdout"
        }
      ]
    },
    {
      "cell_type": "code",
      "metadata": {
        "id": "S0sLWdMoAUhm",
        "colab_type": "code",
        "colab": {}
      },
      "source": [
        "data_fraud = pd.read_csv('/content/drive/My Drive/Fraud_Data_withIP.csv')\n"
      ],
      "execution_count": 0,
      "outputs": []
    },
    {
      "cell_type": "markdown",
      "metadata": {
        "id": "ZjoESlJuwBD_",
        "colab_type": "text"
      },
      "source": [
        "#Pre-processing et Visualisation"
      ]
    },
    {
      "cell_type": "code",
      "metadata": {
        "id": "pUw7Rq_jHmnk",
        "colab_type": "code",
        "outputId": "65784a1b-c35b-41ea-cdfd-dd6432ffbf49",
        "colab": {
          "base_uri": "https://localhost:8080/",
          "height": 206
        }
      },
      "source": [
        "data_fraud = data_fraud.drop(\"Unnamed: 0\", axis=1)\n",
        "data_fraud.head()\n"
      ],
      "execution_count": 29,
      "outputs": [
        {
          "output_type": "execute_result",
          "data": {
            "text/html": [
              "<div>\n",
              "<style scoped>\n",
              "    .dataframe tbody tr th:only-of-type {\n",
              "        vertical-align: middle;\n",
              "    }\n",
              "\n",
              "    .dataframe tbody tr th {\n",
              "        vertical-align: top;\n",
              "    }\n",
              "\n",
              "    .dataframe thead th {\n",
              "        text-align: right;\n",
              "    }\n",
              "</style>\n",
              "<table border=\"1\" class=\"dataframe\">\n",
              "  <thead>\n",
              "    <tr style=\"text-align: right;\">\n",
              "      <th></th>\n",
              "      <th>user_id</th>\n",
              "      <th>signup_time</th>\n",
              "      <th>purchase_time</th>\n",
              "      <th>purchase_value</th>\n",
              "      <th>device_id</th>\n",
              "      <th>source</th>\n",
              "      <th>browser</th>\n",
              "      <th>sex</th>\n",
              "      <th>age</th>\n",
              "      <th>ip_address</th>\n",
              "      <th>class</th>\n",
              "      <th>country</th>\n",
              "    </tr>\n",
              "  </thead>\n",
              "  <tbody>\n",
              "    <tr>\n",
              "      <th>0</th>\n",
              "      <td>62421</td>\n",
              "      <td>2015-02-16 00:17:05</td>\n",
              "      <td>2015-03-08 10:00:39</td>\n",
              "      <td>46</td>\n",
              "      <td>ZCLZTAJPCRAQX</td>\n",
              "      <td>Direct</td>\n",
              "      <td>Safari</td>\n",
              "      <td>M</td>\n",
              "      <td>36</td>\n",
              "      <td>52093</td>\n",
              "      <td>0</td>\n",
              "      <td>-1</td>\n",
              "    </tr>\n",
              "    <tr>\n",
              "      <th>1</th>\n",
              "      <td>173212</td>\n",
              "      <td>2015-03-08 04:03:22</td>\n",
              "      <td>2015-03-20 17:23:45</td>\n",
              "      <td>33</td>\n",
              "      <td>YFGYOALADBHLT</td>\n",
              "      <td>Ads</td>\n",
              "      <td>IE</td>\n",
              "      <td>F</td>\n",
              "      <td>30</td>\n",
              "      <td>93447</td>\n",
              "      <td>0</td>\n",
              "      <td>-1</td>\n",
              "    </tr>\n",
              "    <tr>\n",
              "      <th>2</th>\n",
              "      <td>242286</td>\n",
              "      <td>2015-05-17 16:45:54</td>\n",
              "      <td>2015-05-26 08:54:34</td>\n",
              "      <td>33</td>\n",
              "      <td>QZNVQTUITFTHH</td>\n",
              "      <td>Direct</td>\n",
              "      <td>FireFox</td>\n",
              "      <td>F</td>\n",
              "      <td>32</td>\n",
              "      <td>105818</td>\n",
              "      <td>0</td>\n",
              "      <td>-1</td>\n",
              "    </tr>\n",
              "    <tr>\n",
              "      <th>3</th>\n",
              "      <td>370003</td>\n",
              "      <td>2015-03-03 19:58:39</td>\n",
              "      <td>2015-05-28 21:09:13</td>\n",
              "      <td>33</td>\n",
              "      <td>PIBUQMBIELMMG</td>\n",
              "      <td>Ads</td>\n",
              "      <td>IE</td>\n",
              "      <td>M</td>\n",
              "      <td>40</td>\n",
              "      <td>117566</td>\n",
              "      <td>0</td>\n",
              "      <td>-1</td>\n",
              "    </tr>\n",
              "    <tr>\n",
              "      <th>4</th>\n",
              "      <td>119824</td>\n",
              "      <td>2015-03-20 00:31:27</td>\n",
              "      <td>2015-04-05 07:31:46</td>\n",
              "      <td>55</td>\n",
              "      <td>WFIIFCPIOGMHT</td>\n",
              "      <td>Ads</td>\n",
              "      <td>Safari</td>\n",
              "      <td>M</td>\n",
              "      <td>38</td>\n",
              "      <td>131423</td>\n",
              "      <td>0</td>\n",
              "      <td>-1</td>\n",
              "    </tr>\n",
              "  </tbody>\n",
              "</table>\n",
              "</div>"
            ],
            "text/plain": [
              "   user_id          signup_time        purchase_time  ...  ip_address class country\n",
              "0    62421  2015-02-16 00:17:05  2015-03-08 10:00:39  ...       52093     0      -1\n",
              "1   173212  2015-03-08 04:03:22  2015-03-20 17:23:45  ...       93447     0      -1\n",
              "2   242286  2015-05-17 16:45:54  2015-05-26 08:54:34  ...      105818     0      -1\n",
              "3   370003  2015-03-03 19:58:39  2015-05-28 21:09:13  ...      117566     0      -1\n",
              "4   119824  2015-03-20 00:31:27  2015-04-05 07:31:46  ...      131423     0      -1\n",
              "\n",
              "[5 rows x 12 columns]"
            ]
          },
          "metadata": {
            "tags": []
          },
          "execution_count": 29
        }
      ]
    },
    {
      "cell_type": "markdown",
      "metadata": {
        "id": "5h9TisfRwD4Z",
        "colab_type": "text"
      },
      "source": [
        "Calcul de difference de temps entre d'inscription et temps d'achat"
      ]
    },
    {
      "cell_type": "code",
      "metadata": {
        "id": "cNPLf1lL1g4g",
        "colab_type": "code",
        "outputId": "4bbd729b-0b4e-49aa-89c5-64fdfaba5cef",
        "colab": {
          "base_uri": "https://localhost:8080/",
          "height": 206
        }
      },
      "source": [
        "from datetime import datetime\n",
        "data_fraud[\"purchase_time\"] = data_fraud[\"purchase_time\"].apply(lambda x: int(datetime.timestamp(datetime.strptime(str(x),'%Y-%m-%d %H:%M:%S'))))\n",
        "data_fraud[\"signup_time\"] = data_fraud[\"signup_time\"].apply(lambda x: int(datetime.timestamp(datetime.strptime(str(x),'%Y-%m-%d %H:%M:%S'))))\n",
        "#data_fraud[\"time\"] = datetime.timestamp(datetime.strptime(str(data_fraud[\"purchase_time\"]),'%Y-%m-%d %H:%M:%S'))-datetime.timestamp(datetime.strptime(str(data_fraud[\"signup_time\"]),'%Y-%m-%d %H:%M:%S'))\n",
        "data_fraud.head()"
      ],
      "execution_count": 30,
      "outputs": [
        {
          "output_type": "execute_result",
          "data": {
            "text/html": [
              "<div>\n",
              "<style scoped>\n",
              "    .dataframe tbody tr th:only-of-type {\n",
              "        vertical-align: middle;\n",
              "    }\n",
              "\n",
              "    .dataframe tbody tr th {\n",
              "        vertical-align: top;\n",
              "    }\n",
              "\n",
              "    .dataframe thead th {\n",
              "        text-align: right;\n",
              "    }\n",
              "</style>\n",
              "<table border=\"1\" class=\"dataframe\">\n",
              "  <thead>\n",
              "    <tr style=\"text-align: right;\">\n",
              "      <th></th>\n",
              "      <th>user_id</th>\n",
              "      <th>signup_time</th>\n",
              "      <th>purchase_time</th>\n",
              "      <th>purchase_value</th>\n",
              "      <th>device_id</th>\n",
              "      <th>source</th>\n",
              "      <th>browser</th>\n",
              "      <th>sex</th>\n",
              "      <th>age</th>\n",
              "      <th>ip_address</th>\n",
              "      <th>class</th>\n",
              "      <th>country</th>\n",
              "    </tr>\n",
              "  </thead>\n",
              "  <tbody>\n",
              "    <tr>\n",
              "      <th>0</th>\n",
              "      <td>62421</td>\n",
              "      <td>1424045825</td>\n",
              "      <td>1425808839</td>\n",
              "      <td>46</td>\n",
              "      <td>ZCLZTAJPCRAQX</td>\n",
              "      <td>Direct</td>\n",
              "      <td>Safari</td>\n",
              "      <td>M</td>\n",
              "      <td>36</td>\n",
              "      <td>52093</td>\n",
              "      <td>0</td>\n",
              "      <td>-1</td>\n",
              "    </tr>\n",
              "    <tr>\n",
              "      <th>1</th>\n",
              "      <td>173212</td>\n",
              "      <td>1425787402</td>\n",
              "      <td>1426872225</td>\n",
              "      <td>33</td>\n",
              "      <td>YFGYOALADBHLT</td>\n",
              "      <td>Ads</td>\n",
              "      <td>IE</td>\n",
              "      <td>F</td>\n",
              "      <td>30</td>\n",
              "      <td>93447</td>\n",
              "      <td>0</td>\n",
              "      <td>-1</td>\n",
              "    </tr>\n",
              "    <tr>\n",
              "      <th>2</th>\n",
              "      <td>242286</td>\n",
              "      <td>1431881154</td>\n",
              "      <td>1432630474</td>\n",
              "      <td>33</td>\n",
              "      <td>QZNVQTUITFTHH</td>\n",
              "      <td>Direct</td>\n",
              "      <td>FireFox</td>\n",
              "      <td>F</td>\n",
              "      <td>32</td>\n",
              "      <td>105818</td>\n",
              "      <td>0</td>\n",
              "      <td>-1</td>\n",
              "    </tr>\n",
              "    <tr>\n",
              "      <th>3</th>\n",
              "      <td>370003</td>\n",
              "      <td>1425412719</td>\n",
              "      <td>1432847353</td>\n",
              "      <td>33</td>\n",
              "      <td>PIBUQMBIELMMG</td>\n",
              "      <td>Ads</td>\n",
              "      <td>IE</td>\n",
              "      <td>M</td>\n",
              "      <td>40</td>\n",
              "      <td>117566</td>\n",
              "      <td>0</td>\n",
              "      <td>-1</td>\n",
              "    </tr>\n",
              "    <tr>\n",
              "      <th>4</th>\n",
              "      <td>119824</td>\n",
              "      <td>1426811487</td>\n",
              "      <td>1428219106</td>\n",
              "      <td>55</td>\n",
              "      <td>WFIIFCPIOGMHT</td>\n",
              "      <td>Ads</td>\n",
              "      <td>Safari</td>\n",
              "      <td>M</td>\n",
              "      <td>38</td>\n",
              "      <td>131423</td>\n",
              "      <td>0</td>\n",
              "      <td>-1</td>\n",
              "    </tr>\n",
              "  </tbody>\n",
              "</table>\n",
              "</div>"
            ],
            "text/plain": [
              "   user_id  signup_time  purchase_time  ...  ip_address class country\n",
              "0    62421   1424045825     1425808839  ...       52093     0      -1\n",
              "1   173212   1425787402     1426872225  ...       93447     0      -1\n",
              "2   242286   1431881154     1432630474  ...      105818     0      -1\n",
              "3   370003   1425412719     1432847353  ...      117566     0      -1\n",
              "4   119824   1426811487     1428219106  ...      131423     0      -1\n",
              "\n",
              "[5 rows x 12 columns]"
            ]
          },
          "metadata": {
            "tags": []
          },
          "execution_count": 30
        }
      ]
    },
    {
      "cell_type": "code",
      "metadata": {
        "id": "9Quuhr0-xWMv",
        "colab_type": "code",
        "colab": {
          "base_uri": "https://localhost:8080/",
          "height": 595
        },
        "outputId": "31b8bc06-d105-4174-99f3-25b59a857c7a"
      },
      "source": [
        "s = data_fraud[data_fraud[\"class\"] == 1] \n",
        "s[\"time_diff\"] = (s[\"purchase_time\"]-s[\"signup_time\"])\n",
        "out = pd.cut(s[\"time_diff\"], bins=[0, 1000, 1000000, 10000000], include_lowest=True)\n",
        "ax = out.value_counts(sort=False).plot.bar(rot=0, color=\"b\", figsize=(20,8))\n",
        "#ax.set_xticklabels([c[1:-1].replace(\",\",\" to\") for c in out.cat.categories])\n",
        "plt.show()"
      ],
      "execution_count": 36,
      "outputs": [
        {
          "output_type": "stream",
          "text": [
            "/usr/local/lib/python3.6/dist-packages/ipykernel_launcher.py:2: SettingWithCopyWarning: \n",
            "A value is trying to be set on a copy of a slice from a DataFrame.\n",
            "Try using .loc[row_indexer,col_indexer] = value instead\n",
            "\n",
            "See the caveats in the documentation: http://pandas.pydata.org/pandas-docs/stable/indexing.html#indexing-view-versus-copy\n",
            "  \n"
          ],
          "name": "stderr"
        },
        {
          "output_type": "display_data",
          "data": {
            "image/png": "[encoded data removed]",
            "text/plain": [
              "<Figure size 1440x576 with 1 Axes>"
            ]
          },
          "metadata": {
            "tags": []
          }
        }
      ]
    },
    {
      "cell_type": "markdown",
      "metadata": {
        "id": "6sA56AFBwPD0",
        "colab_type": "text"
      },
      "source": [
        "Inverser la différence de temps pour donner plus de poids aux petites valeurs, puisqu'elle présentent de plus de risque"
      ]
    },
    {
      "cell_type": "code",
      "metadata": {
        "id": "fVhzytYB44bx",
        "colab_type": "code",
        "outputId": "8341989b-0e25-4188-b387-21d6280376e1",
        "colab": {
          "base_uri": "https://localhost:8080/",
          "height": 206
        }
      },
      "source": [
        "data_fraud[\"time\"] = 1/(data_fraud[\"purchase_time\"]-data_fraud[\"signup_time\"])\n",
        "data_fraud.head()"
      ],
      "execution_count": 6,
      "outputs": [
        {
          "output_type": "execute_result",
          "data": {
            "text/html": [
              "<div>\n",
              "<style scoped>\n",
              "    .dataframe tbody tr th:only-of-type {\n",
              "        vertical-align: middle;\n",
              "    }\n",
              "\n",
              "    .dataframe tbody tr th {\n",
              "        vertical-align: top;\n",
              "    }\n",
              "\n",
              "    .dataframe thead th {\n",
              "        text-align: right;\n",
              "    }\n",
              "</style>\n",
              "<table border=\"1\" class=\"dataframe\">\n",
              "  <thead>\n",
              "    <tr style=\"text-align: right;\">\n",
              "      <th></th>\n",
              "      <th>user_id</th>\n",
              "      <th>signup_time</th>\n",
              "      <th>purchase_time</th>\n",
              "      <th>purchase_value</th>\n",
              "      <th>device_id</th>\n",
              "      <th>source</th>\n",
              "      <th>browser</th>\n",
              "      <th>sex</th>\n",
              "      <th>age</th>\n",
              "      <th>ip_address</th>\n",
              "      <th>class</th>\n",
              "      <th>country</th>\n",
              "      <th>time</th>\n",
              "    </tr>\n",
              "  </thead>\n",
              "  <tbody>\n",
              "    <tr>\n",
              "      <th>0</th>\n",
              "      <td>62421</td>\n",
              "      <td>1424045825</td>\n",
              "      <td>1425808839</td>\n",
              "      <td>46</td>\n",
              "      <td>ZCLZTAJPCRAQX</td>\n",
              "      <td>Direct</td>\n",
              "      <td>Safari</td>\n",
              "      <td>M</td>\n",
              "      <td>36</td>\n",
              "      <td>52093</td>\n",
              "      <td>0</td>\n",
              "      <td>-1</td>\n",
              "      <td>5.672105e-07</td>\n",
              "    </tr>\n",
              "    <tr>\n",
              "      <th>1</th>\n",
              "      <td>173212</td>\n",
              "      <td>1425787402</td>\n",
              "      <td>1426872225</td>\n",
              "      <td>33</td>\n",
              "      <td>YFGYOALADBHLT</td>\n",
              "      <td>Ads</td>\n",
              "      <td>IE</td>\n",
              "      <td>F</td>\n",
              "      <td>30</td>\n",
              "      <td>93447</td>\n",
              "      <td>0</td>\n",
              "      <td>-1</td>\n",
              "      <td>9.218094e-07</td>\n",
              "    </tr>\n",
              "    <tr>\n",
              "      <th>2</th>\n",
              "      <td>242286</td>\n",
              "      <td>1431881154</td>\n",
              "      <td>1432630474</td>\n",
              "      <td>33</td>\n",
              "      <td>QZNVQTUITFTHH</td>\n",
              "      <td>Direct</td>\n",
              "      <td>FireFox</td>\n",
              "      <td>F</td>\n",
              "      <td>32</td>\n",
              "      <td>105818</td>\n",
              "      <td>0</td>\n",
              "      <td>-1</td>\n",
              "      <td>1.334543e-06</td>\n",
              "    </tr>\n",
              "    <tr>\n",
              "      <th>3</th>\n",
              "      <td>370003</td>\n",
              "      <td>1425412719</td>\n",
              "      <td>1432847353</td>\n",
              "      <td>33</td>\n",
              "      <td>PIBUQMBIELMMG</td>\n",
              "      <td>Ads</td>\n",
              "      <td>IE</td>\n",
              "      <td>M</td>\n",
              "      <td>40</td>\n",
              "      <td>117566</td>\n",
              "      <td>0</td>\n",
              "      <td>-1</td>\n",
              "      <td>1.345056e-07</td>\n",
              "    </tr>\n",
              "    <tr>\n",
              "      <th>4</th>\n",
              "      <td>119824</td>\n",
              "      <td>1426811487</td>\n",
              "      <td>1428219106</td>\n",
              "      <td>55</td>\n",
              "      <td>WFIIFCPIOGMHT</td>\n",
              "      <td>Ads</td>\n",
              "      <td>Safari</td>\n",
              "      <td>M</td>\n",
              "      <td>38</td>\n",
              "      <td>131423</td>\n",
              "      <td>0</td>\n",
              "      <td>-1</td>\n",
              "      <td>7.104195e-07</td>\n",
              "    </tr>\n",
              "  </tbody>\n",
              "</table>\n",
              "</div>"
            ],
            "text/plain": [
              "   user_id  signup_time  purchase_time  ...  class country          time\n",
              "0    62421   1424045825     1425808839  ...      0      -1  5.672105e-07\n",
              "1   173212   1425787402     1426872225  ...      0      -1  9.218094e-07\n",
              "2   242286   1431881154     1432630474  ...      0      -1  1.334543e-06\n",
              "3   370003   1425412719     1432847353  ...      0      -1  1.345056e-07\n",
              "4   119824   1426811487     1428219106  ...      0      -1  7.104195e-07\n",
              "\n",
              "[5 rows x 13 columns]"
            ]
          },
          "metadata": {
            "tags": []
          },
          "execution_count": 6
        }
      ]
    },
    {
      "cell_type": "code",
      "metadata": {
        "id": "HIQQlHGM44ZC",
        "colab_type": "code",
        "outputId": "59271f3c-9b7e-4fdb-fcd9-262540f13c3e",
        "colab": {
          "base_uri": "https://localhost:8080/",
          "height": 206
        }
      },
      "source": [
        "data_fraud = data_fraud.drop(\"signup_time\", axis=1)\n",
        "data_fraud = data_fraud.drop(\"purchase_time\", axis=1)\n",
        "data_fraud = data_fraud.drop(\"ip_address\", axis=1)\n",
        "data_fraud.head()\n"
      ],
      "execution_count": 7,
      "outputs": [
        {
          "output_type": "execute_result",
          "data": {
            "text/html": [
              "<div>\n",
              "<style scoped>\n",
              "    .dataframe tbody tr th:only-of-type {\n",
              "        vertical-align: middle;\n",
              "    }\n",
              "\n",
              "    .dataframe tbody tr th {\n",
              "        vertical-align: top;\n",
              "    }\n",
              "\n",
              "    .dataframe thead th {\n",
              "        text-align: right;\n",
              "    }\n",
              "</style>\n",
              "<table border=\"1\" class=\"dataframe\">\n",
              "  <thead>\n",
              "    <tr style=\"text-align: right;\">\n",
              "      <th></th>\n",
              "      <th>user_id</th>\n",
              "      <th>purchase_value</th>\n",
              "      <th>device_id</th>\n",
              "      <th>source</th>\n",
              "      <th>browser</th>\n",
              "      <th>sex</th>\n",
              "      <th>age</th>\n",
              "      <th>class</th>\n",
              "      <th>country</th>\n",
              "      <th>time</th>\n",
              "    </tr>\n",
              "  </thead>\n",
              "  <tbody>\n",
              "    <tr>\n",
              "      <th>0</th>\n",
              "      <td>62421</td>\n",
              "      <td>46</td>\n",
              "      <td>ZCLZTAJPCRAQX</td>\n",
              "      <td>Direct</td>\n",
              "      <td>Safari</td>\n",
              "      <td>M</td>\n",
              "      <td>36</td>\n",
              "      <td>0</td>\n",
              "      <td>-1</td>\n",
              "      <td>5.672105e-07</td>\n",
              "    </tr>\n",
              "    <tr>\n",
              "      <th>1</th>\n",
              "      <td>173212</td>\n",
              "      <td>33</td>\n",
              "      <td>YFGYOALADBHLT</td>\n",
              "      <td>Ads</td>\n",
              "      <td>IE</td>\n",
              "      <td>F</td>\n",
              "      <td>30</td>\n",
              "      <td>0</td>\n",
              "      <td>-1</td>\n",
              "      <td>9.218094e-07</td>\n",
              "    </tr>\n",
              "    <tr>\n",
              "      <th>2</th>\n",
              "      <td>242286</td>\n",
              "      <td>33</td>\n",
              "      <td>QZNVQTUITFTHH</td>\n",
              "      <td>Direct</td>\n",
              "      <td>FireFox</td>\n",
              "      <td>F</td>\n",
              "      <td>32</td>\n",
              "      <td>0</td>\n",
              "      <td>-1</td>\n",
              "      <td>1.334543e-06</td>\n",
              "    </tr>\n",
              "    <tr>\n",
              "      <th>3</th>\n",
              "      <td>370003</td>\n",
              "      <td>33</td>\n",
              "      <td>PIBUQMBIELMMG</td>\n",
              "      <td>Ads</td>\n",
              "      <td>IE</td>\n",
              "      <td>M</td>\n",
              "      <td>40</td>\n",
              "      <td>0</td>\n",
              "      <td>-1</td>\n",
              "      <td>1.345056e-07</td>\n",
              "    </tr>\n",
              "    <tr>\n",
              "      <th>4</th>\n",
              "      <td>119824</td>\n",
              "      <td>55</td>\n",
              "      <td>WFIIFCPIOGMHT</td>\n",
              "      <td>Ads</td>\n",
              "      <td>Safari</td>\n",
              "      <td>M</td>\n",
              "      <td>38</td>\n",
              "      <td>0</td>\n",
              "      <td>-1</td>\n",
              "      <td>7.104195e-07</td>\n",
              "    </tr>\n",
              "  </tbody>\n",
              "</table>\n",
              "</div>"
            ],
            "text/plain": [
              "   user_id  purchase_value      device_id  ... class country          time\n",
              "0    62421              46  ZCLZTAJPCRAQX  ...     0      -1  5.672105e-07\n",
              "1   173212              33  YFGYOALADBHLT  ...     0      -1  9.218094e-07\n",
              "2   242286              33  QZNVQTUITFTHH  ...     0      -1  1.334543e-06\n",
              "3   370003              33  PIBUQMBIELMMG  ...     0      -1  1.345056e-07\n",
              "4   119824              55  WFIIFCPIOGMHT  ...     0      -1  7.104195e-07\n",
              "\n",
              "[5 rows x 10 columns]"
            ]
          },
          "metadata": {
            "tags": []
          },
          "execution_count": 7
        }
      ]
    },
    {
      "cell_type": "code",
      "metadata": {
        "id": "mILB_IHihY8k",
        "colab_type": "code",
        "colab": {}
      },
      "source": [
        ""
      ],
      "execution_count": 0,
      "outputs": []
    },
    {
      "cell_type": "markdown",
      "metadata": {
        "id": "UqD69Hh1u7wZ",
        "colab_type": "text"
      },
      "source": [
        "grouper par device et faire un compteur de nombre de fraudes"
      ]
    },
    {
      "cell_type": "code",
      "metadata": {
        "id": "ydc5Pw7Qgr4J",
        "colab_type": "code",
        "colab": {}
      },
      "source": [
        "data_grouped_device = pd.DataFrame(data_fraud.groupby([\"device_id\", \"class\"]).size().reset_index(name='count'))\n",
        "devices = data_grouped_device[data_grouped_device[\"class\"] == 1]\n",
        "data_fraud[\"device_fraud\"] =\"\"\n",
        "for d in devices.values:\n",
        "  indexNames = data_fraud[data_fraud.device_id == d[0]].index\n",
        "  data_fraud.loc[indexNames, \"device_fraud\"] = int(d[2])\n"
      ],
      "execution_count": 0,
      "outputs": []
    },
    {
      "cell_type": "code",
      "metadata": {
        "id": "-vpt4cIW3WTD",
        "colab_type": "code",
        "outputId": "18959c67-6ca1-4bf9-b915-a1f66e7c2ce0",
        "colab": {
          "base_uri": "https://localhost:8080/",
          "height": 206
        }
      },
      "source": [
        "data_fraud[\"device_fraud\"] = data_fraud[\"device_fraud\"].apply(lambda x : int(x) if x !='' else 0)\n",
        "data_fraud.head()"
      ],
      "execution_count": 9,
      "outputs": [
        {
          "output_type": "execute_result",
          "data": {
            "text/html": [
              "<div>\n",
              "<style scoped>\n",
              "    .dataframe tbody tr th:only-of-type {\n",
              "        vertical-align: middle;\n",
              "    }\n",
              "\n",
              "    .dataframe tbody tr th {\n",
              "        vertical-align: top;\n",
              "    }\n",
              "\n",
              "    .dataframe thead th {\n",
              "        text-align: right;\n",
              "    }\n",
              "</style>\n",
              "<table border=\"1\" class=\"dataframe\">\n",
              "  <thead>\n",
              "    <tr style=\"text-align: right;\">\n",
              "      <th></th>\n",
              "      <th>user_id</th>\n",
              "      <th>purchase_value</th>\n",
              "      <th>device_id</th>\n",
              "      <th>source</th>\n",
              "      <th>browser</th>\n",
              "      <th>sex</th>\n",
              "      <th>age</th>\n",
              "      <th>class</th>\n",
              "      <th>country</th>\n",
              "      <th>time</th>\n",
              "      <th>device_fraud</th>\n",
              "    </tr>\n",
              "  </thead>\n",
              "  <tbody>\n",
              "    <tr>\n",
              "      <th>0</th>\n",
              "      <td>62421</td>\n",
              "      <td>46</td>\n",
              "      <td>ZCLZTAJPCRAQX</td>\n",
              "      <td>Direct</td>\n",
              "      <td>Safari</td>\n",
              "      <td>M</td>\n",
              "      <td>36</td>\n",
              "      <td>0</td>\n",
              "      <td>-1</td>\n",
              "      <td>5.672105e-07</td>\n",
              "      <td>0</td>\n",
              "    </tr>\n",
              "    <tr>\n",
              "      <th>1</th>\n",
              "      <td>173212</td>\n",
              "      <td>33</td>\n",
              "      <td>YFGYOALADBHLT</td>\n",
              "      <td>Ads</td>\n",
              "      <td>IE</td>\n",
              "      <td>F</td>\n",
              "      <td>30</td>\n",
              "      <td>0</td>\n",
              "      <td>-1</td>\n",
              "      <td>9.218094e-07</td>\n",
              "      <td>0</td>\n",
              "    </tr>\n",
              "    <tr>\n",
              "      <th>2</th>\n",
              "      <td>242286</td>\n",
              "      <td>33</td>\n",
              "      <td>QZNVQTUITFTHH</td>\n",
              "      <td>Direct</td>\n",
              "      <td>FireFox</td>\n",
              "      <td>F</td>\n",
              "      <td>32</td>\n",
              "      <td>0</td>\n",
              "      <td>-1</td>\n",
              "      <td>1.334543e-06</td>\n",
              "      <td>0</td>\n",
              "    </tr>\n",
              "    <tr>\n",
              "      <th>3</th>\n",
              "      <td>370003</td>\n",
              "      <td>33</td>\n",
              "      <td>PIBUQMBIELMMG</td>\n",
              "      <td>Ads</td>\n",
              "      <td>IE</td>\n",
              "      <td>M</td>\n",
              "      <td>40</td>\n",
              "      <td>0</td>\n",
              "      <td>-1</td>\n",
              "      <td>1.345056e-07</td>\n",
              "      <td>0</td>\n",
              "    </tr>\n",
              "    <tr>\n",
              "      <th>4</th>\n",
              "      <td>119824</td>\n",
              "      <td>55</td>\n",
              "      <td>WFIIFCPIOGMHT</td>\n",
              "      <td>Ads</td>\n",
              "      <td>Safari</td>\n",
              "      <td>M</td>\n",
              "      <td>38</td>\n",
              "      <td>0</td>\n",
              "      <td>-1</td>\n",
              "      <td>7.104195e-07</td>\n",
              "      <td>0</td>\n",
              "    </tr>\n",
              "  </tbody>\n",
              "</table>\n",
              "</div>"
            ],
            "text/plain": [
              "   user_id  purchase_value      device_id  ... country          time device_fraud\n",
              "0    62421              46  ZCLZTAJPCRAQX  ...      -1  5.672105e-07            0\n",
              "1   173212              33  YFGYOALADBHLT  ...      -1  9.218094e-07            0\n",
              "2   242286              33  QZNVQTUITFTHH  ...      -1  1.334543e-06            0\n",
              "3   370003              33  PIBUQMBIELMMG  ...      -1  1.345056e-07            0\n",
              "4   119824              55  WFIIFCPIOGMHT  ...      -1  7.104195e-07            0\n",
              "\n",
              "[5 rows x 11 columns]"
            ]
          },
          "metadata": {
            "tags": []
          },
          "execution_count": 9
        }
      ]
    },
    {
      "cell_type": "code",
      "metadata": {
        "id": "S-aeGzz_6YqB",
        "colab_type": "code",
        "colab": {}
      },
      "source": [
        "data_fraud = data_fraud.drop(\"device_id\", axis=1)"
      ],
      "execution_count": 0,
      "outputs": []
    },
    {
      "cell_type": "markdown",
      "metadata": {
        "id": "agLvDt9tu93L",
        "colab_type": "text"
      },
      "source": [
        "Tester s'il y a un impact du user id sur le risque de fraude"
      ]
    },
    {
      "cell_type": "code",
      "metadata": {
        "id": "2aPj-WpH6eBW",
        "colab_type": "code",
        "outputId": "b1725e59-e479-46a6-f58b-d5f22e73237c",
        "colab": {
          "base_uri": "https://localhost:8080/",
          "height": 49
        }
      },
      "source": [
        "data_grouped_user = pd.DataFrame(data_fraud.groupby([\"user_id\", \"class\"]).size().reset_index(name='count'))\n",
        "users = data_grouped_user[data_grouped_user[\"class\"] == 1]\n",
        "users[users[\"count\"]>1]"
      ],
      "execution_count": 11,
      "outputs": [
        {
          "output_type": "execute_result",
          "data": {
            "text/html": [
              "<div>\n",
              "<style scoped>\n",
              "    .dataframe tbody tr th:only-of-type {\n",
              "        vertical-align: middle;\n",
              "    }\n",
              "\n",
              "    .dataframe tbody tr th {\n",
              "        vertical-align: top;\n",
              "    }\n",
              "\n",
              "    .dataframe thead th {\n",
              "        text-align: right;\n",
              "    }\n",
              "</style>\n",
              "<table border=\"1\" class=\"dataframe\">\n",
              "  <thead>\n",
              "    <tr style=\"text-align: right;\">\n",
              "      <th></th>\n",
              "      <th>user_id</th>\n",
              "      <th>class</th>\n",
              "      <th>count</th>\n",
              "    </tr>\n",
              "  </thead>\n",
              "  <tbody>\n",
              "  </tbody>\n",
              "</table>\n",
              "</div>"
            ],
            "text/plain": [
              "Empty DataFrame\n",
              "Columns: [user_id, class, count]\n",
              "Index: []"
            ]
          },
          "metadata": {
            "tags": []
          },
          "execution_count": 11
        }
      ]
    },
    {
      "cell_type": "code",
      "metadata": {
        "id": "P--nI3bg7JYQ",
        "colab_type": "code",
        "outputId": "f0122679-7c88-4090-b48b-14682ec75e85",
        "colab": {
          "base_uri": "https://localhost:8080/",
          "height": 206
        }
      },
      "source": [
        "data_fraud = data_fraud.drop(\"user_id\", axis=1)\n",
        "data_fraud.head()"
      ],
      "execution_count": 12,
      "outputs": [
        {
          "output_type": "execute_result",
          "data": {
            "text/html": [
              "<div>\n",
              "<style scoped>\n",
              "    .dataframe tbody tr th:only-of-type {\n",
              "        vertical-align: middle;\n",
              "    }\n",
              "\n",
              "    .dataframe tbody tr th {\n",
              "        vertical-align: top;\n",
              "    }\n",
              "\n",
              "    .dataframe thead th {\n",
              "        text-align: right;\n",
              "    }\n",
              "</style>\n",
              "<table border=\"1\" class=\"dataframe\">\n",
              "  <thead>\n",
              "    <tr style=\"text-align: right;\">\n",
              "      <th></th>\n",
              "      <th>purchase_value</th>\n",
              "      <th>source</th>\n",
              "      <th>browser</th>\n",
              "      <th>sex</th>\n",
              "      <th>age</th>\n",
              "      <th>class</th>\n",
              "      <th>country</th>\n",
              "      <th>time</th>\n",
              "      <th>device_fraud</th>\n",
              "    </tr>\n",
              "  </thead>\n",
              "  <tbody>\n",
              "    <tr>\n",
              "      <th>0</th>\n",
              "      <td>46</td>\n",
              "      <td>Direct</td>\n",
              "      <td>Safari</td>\n",
              "      <td>M</td>\n",
              "      <td>36</td>\n",
              "      <td>0</td>\n",
              "      <td>-1</td>\n",
              "      <td>5.672105e-07</td>\n",
              "      <td>0</td>\n",
              "    </tr>\n",
              "    <tr>\n",
              "      <th>1</th>\n",
              "      <td>33</td>\n",
              "      <td>Ads</td>\n",
              "      <td>IE</td>\n",
              "      <td>F</td>\n",
              "      <td>30</td>\n",
              "      <td>0</td>\n",
              "      <td>-1</td>\n",
              "      <td>9.218094e-07</td>\n",
              "      <td>0</td>\n",
              "    </tr>\n",
              "    <tr>\n",
              "      <th>2</th>\n",
              "      <td>33</td>\n",
              "      <td>Direct</td>\n",
              "      <td>FireFox</td>\n",
              "      <td>F</td>\n",
              "      <td>32</td>\n",
              "      <td>0</td>\n",
              "      <td>-1</td>\n",
              "      <td>1.334543e-06</td>\n",
              "      <td>0</td>\n",
              "    </tr>\n",
              "    <tr>\n",
              "      <th>3</th>\n",
              "      <td>33</td>\n",
              "      <td>Ads</td>\n",
              "      <td>IE</td>\n",
              "      <td>M</td>\n",
              "      <td>40</td>\n",
              "      <td>0</td>\n",
              "      <td>-1</td>\n",
              "      <td>1.345056e-07</td>\n",
              "      <td>0</td>\n",
              "    </tr>\n",
              "    <tr>\n",
              "      <th>4</th>\n",
              "      <td>55</td>\n",
              "      <td>Ads</td>\n",
              "      <td>Safari</td>\n",
              "      <td>M</td>\n",
              "      <td>38</td>\n",
              "      <td>0</td>\n",
              "      <td>-1</td>\n",
              "      <td>7.104195e-07</td>\n",
              "      <td>0</td>\n",
              "    </tr>\n",
              "  </tbody>\n",
              "</table>\n",
              "</div>"
            ],
            "text/plain": [
              "   purchase_value  source  browser  ... country          time  device_fraud\n",
              "0              46  Direct   Safari  ...      -1  5.672105e-07             0\n",
              "1              33     Ads       IE  ...      -1  9.218094e-07             0\n",
              "2              33  Direct  FireFox  ...      -1  1.334543e-06             0\n",
              "3              33     Ads       IE  ...      -1  1.345056e-07             0\n",
              "4              55     Ads   Safari  ...      -1  7.104195e-07             0\n",
              "\n",
              "[5 rows x 9 columns]"
            ]
          },
          "metadata": {
            "tags": []
          },
          "execution_count": 12
        }
      ]
    },
    {
      "cell_type": "markdown",
      "metadata": {
        "id": "F8ySdCh0vPaA",
        "colab_type": "text"
      },
      "source": [
        "grouper par valeur d'achat pour voir s'il y a un pattern"
      ]
    },
    {
      "cell_type": "code",
      "metadata": {
        "id": "HZludyQ77cFV",
        "colab_type": "code",
        "colab": {
          "base_uri": "https://localhost:8080/",
          "height": 302
        },
        "outputId": "5ceeb43a-28bc-4c3c-ae4b-24b719940f75"
      },
      "source": [
        "data_grouped_pv = pd.DataFrame(data_fraud.groupby([\"purchase_value\", \"class\"]).size().reset_index(name='count'))\n",
        "pv = data_grouped_pv[data_grouped_pv[\"class\"] == 1]\n",
        "pv = pv.sort_values(by = \"purchase_value\", ascending= False)\n",
        "sns.distplot(pv.purchase_value, bins = 10)"
      ],
      "execution_count": 47,
      "outputs": [
        {
          "output_type": "execute_result",
          "data": {
            "text/plain": [
              "<matplotlib.axes._subplots.AxesSubplot at 0x7fcfd1f92ef0>"
            ]
          },
          "metadata": {
            "tags": []
          },
          "execution_count": 47
        },
        {
          "output_type": "display_data",
          "data": {
            "image/png": "[encoded data removed]",
            "text/plain": [
              "<Figure size 432x288 with 1 Axes>"
            ]
          },
          "metadata": {
            "tags": []
          }
        }
      ]
    },
    {
      "cell_type": "markdown",
      "metadata": {
        "id": "-2kNXc1lvzlh",
        "colab_type": "text"
      },
      "source": [
        "Grouper les fraudes par pays "
      ]
    },
    {
      "cell_type": "code",
      "metadata": {
        "id": "wbp40Ocf-Mnu",
        "colab_type": "code",
        "outputId": "134015d8-6698-4605-8c84-1564e54b58ac",
        "colab": {
          "base_uri": "https://localhost:8080/",
          "height": 430
        }
      },
      "source": [
        "data_fraud.country = data_fraud.country.apply(lambda x: \"unknown\" if x == '-1' else x)\n",
        "data_grouped_coun = pd.DataFrame(data_fraud.groupby([\"country\",\"class\"]).size().reset_index(name='count'))\n",
        "data_grouped_coun = data_grouped_coun[data_grouped_coun[\"class\"] == 1]\n",
        "\n",
        "data_fraud[\"coun_freq\"] =\"\"\n",
        "for d in data_grouped_coun.values:\n",
        "  indexNames = data_fraud[data_fraud.country == d[0]].index\n",
        "  data_fraud.loc[indexNames, \"coun_freq\"] = int(d[2])\n",
        "\n",
        "data_grouped_coun = data_grouped_coun.sort_values(by = \"count\", ascending=False)\n",
        "plt.figure(figsize=(30,6))\n",
        "sns.barplot(x = \"country\", y = \"count\", data = data_grouped_coun.iloc[:10,:])\n"
      ],
      "execution_count": 14,
      "outputs": [
        {
          "output_type": "execute_result",
          "data": {
            "text/plain": [
              "<matplotlib.axes._subplots.AxesSubplot at 0x7fcfddafb9e8>"
            ]
          },
          "metadata": {
            "tags": []
          },
          "execution_count": 14
        },
        {
          "output_type": "display_data",
          "data": {
            "image/png": "[encoded data removed]",
            "text/plain": [
              "<Figure size 2160x432 with 1 Axes>"
            ]
          },
          "metadata": {
            "tags": []
          }
        }
      ]
    },
    {
      "cell_type": "code",
      "metadata": {
        "id": "oT855Mi5EDUn",
        "colab_type": "code",
        "outputId": "d8de78b3-55c3-4be5-e0c1-c5728fd9c2fd",
        "colab": {
          "base_uri": "https://localhost:8080/",
          "height": 206
        }
      },
      "source": [
        "data_fraud.head()"
      ],
      "execution_count": 15,
      "outputs": [
        {
          "output_type": "execute_result",
          "data": {
            "text/html": [
              "<div>\n",
              "<style scoped>\n",
              "    .dataframe tbody tr th:only-of-type {\n",
              "        vertical-align: middle;\n",
              "    }\n",
              "\n",
              "    .dataframe tbody tr th {\n",
              "        vertical-align: top;\n",
              "    }\n",
              "\n",
              "    .dataframe thead th {\n",
              "        text-align: right;\n",
              "    }\n",
              "</style>\n",
              "<table border=\"1\" class=\"dataframe\">\n",
              "  <thead>\n",
              "    <tr style=\"text-align: right;\">\n",
              "      <th></th>\n",
              "      <th>purchase_value</th>\n",
              "      <th>source</th>\n",
              "      <th>browser</th>\n",
              "      <th>sex</th>\n",
              "      <th>age</th>\n",
              "      <th>class</th>\n",
              "      <th>country</th>\n",
              "      <th>time</th>\n",
              "      <th>device_fraud</th>\n",
              "      <th>coun_freq</th>\n",
              "    </tr>\n",
              "  </thead>\n",
              "  <tbody>\n",
              "    <tr>\n",
              "      <th>0</th>\n",
              "      <td>46</td>\n",
              "      <td>Direct</td>\n",
              "      <td>Safari</td>\n",
              "      <td>M</td>\n",
              "      <td>36</td>\n",
              "      <td>0</td>\n",
              "      <td>unknown</td>\n",
              "      <td>5.672105e-07</td>\n",
              "      <td>0</td>\n",
              "      <td>1883</td>\n",
              "    </tr>\n",
              "    <tr>\n",
              "      <th>1</th>\n",
              "      <td>33</td>\n",
              "      <td>Ads</td>\n",
              "      <td>IE</td>\n",
              "      <td>F</td>\n",
              "      <td>30</td>\n",
              "      <td>0</td>\n",
              "      <td>unknown</td>\n",
              "      <td>9.218094e-07</td>\n",
              "      <td>0</td>\n",
              "      <td>1883</td>\n",
              "    </tr>\n",
              "    <tr>\n",
              "      <th>2</th>\n",
              "      <td>33</td>\n",
              "      <td>Direct</td>\n",
              "      <td>FireFox</td>\n",
              "      <td>F</td>\n",
              "      <td>32</td>\n",
              "      <td>0</td>\n",
              "      <td>unknown</td>\n",
              "      <td>1.334543e-06</td>\n",
              "      <td>0</td>\n",
              "      <td>1883</td>\n",
              "    </tr>\n",
              "    <tr>\n",
              "      <th>3</th>\n",
              "      <td>33</td>\n",
              "      <td>Ads</td>\n",
              "      <td>IE</td>\n",
              "      <td>M</td>\n",
              "      <td>40</td>\n",
              "      <td>0</td>\n",
              "      <td>unknown</td>\n",
              "      <td>1.345056e-07</td>\n",
              "      <td>0</td>\n",
              "      <td>1883</td>\n",
              "    </tr>\n",
              "    <tr>\n",
              "      <th>4</th>\n",
              "      <td>55</td>\n",
              "      <td>Ads</td>\n",
              "      <td>Safari</td>\n",
              "      <td>M</td>\n",
              "      <td>38</td>\n",
              "      <td>0</td>\n",
              "      <td>unknown</td>\n",
              "      <td>7.104195e-07</td>\n",
              "      <td>0</td>\n",
              "      <td>1883</td>\n",
              "    </tr>\n",
              "  </tbody>\n",
              "</table>\n",
              "</div>"
            ],
            "text/plain": [
              "   purchase_value  source  browser  ...          time  device_fraud  coun_freq\n",
              "0              46  Direct   Safari  ...  5.672105e-07             0       1883\n",
              "1              33     Ads       IE  ...  9.218094e-07             0       1883\n",
              "2              33  Direct  FireFox  ...  1.334543e-06             0       1883\n",
              "3              33     Ads       IE  ...  1.345056e-07             0       1883\n",
              "4              55     Ads   Safari  ...  7.104195e-07             0       1883\n",
              "\n",
              "[5 rows x 10 columns]"
            ]
          },
          "metadata": {
            "tags": []
          },
          "execution_count": 15
        }
      ]
    },
    {
      "cell_type": "code",
      "metadata": {
        "id": "qh3RPjg8F_4K",
        "colab_type": "code",
        "outputId": "1304b8bd-ab6b-463e-b804-8a7279aaf2ce",
        "colab": {
          "base_uri": "https://localhost:8080/",
          "height": 206
        }
      },
      "source": [
        "data_fraud = data_fraud.drop(\"country\", axis=1)\n",
        "data_fraud.head()"
      ],
      "execution_count": 16,
      "outputs": [
        {
          "output_type": "execute_result",
          "data": {
            "text/html": [
              "<div>\n",
              "<style scoped>\n",
              "    .dataframe tbody tr th:only-of-type {\n",
              "        vertical-align: middle;\n",
              "    }\n",
              "\n",
              "    .dataframe tbody tr th {\n",
              "        vertical-align: top;\n",
              "    }\n",
              "\n",
              "    .dataframe thead th {\n",
              "        text-align: right;\n",
              "    }\n",
              "</style>\n",
              "<table border=\"1\" class=\"dataframe\">\n",
              "  <thead>\n",
              "    <tr style=\"text-align: right;\">\n",
              "      <th></th>\n",
              "      <th>purchase_value</th>\n",
              "      <th>source</th>\n",
              "      <th>browser</th>\n",
              "      <th>sex</th>\n",
              "      <th>age</th>\n",
              "      <th>class</th>\n",
              "      <th>time</th>\n",
              "      <th>device_fraud</th>\n",
              "      <th>coun_freq</th>\n",
              "    </tr>\n",
              "  </thead>\n",
              "  <tbody>\n",
              "    <tr>\n",
              "      <th>0</th>\n",
              "      <td>46</td>\n",
              "      <td>Direct</td>\n",
              "      <td>Safari</td>\n",
              "      <td>M</td>\n",
              "      <td>36</td>\n",
              "      <td>0</td>\n",
              "      <td>5.672105e-07</td>\n",
              "      <td>0</td>\n",
              "      <td>1883</td>\n",
              "    </tr>\n",
              "    <tr>\n",
              "      <th>1</th>\n",
              "      <td>33</td>\n",
              "      <td>Ads</td>\n",
              "      <td>IE</td>\n",
              "      <td>F</td>\n",
              "      <td>30</td>\n",
              "      <td>0</td>\n",
              "      <td>9.218094e-07</td>\n",
              "      <td>0</td>\n",
              "      <td>1883</td>\n",
              "    </tr>\n",
              "    <tr>\n",
              "      <th>2</th>\n",
              "      <td>33</td>\n",
              "      <td>Direct</td>\n",
              "      <td>FireFox</td>\n",
              "      <td>F</td>\n",
              "      <td>32</td>\n",
              "      <td>0</td>\n",
              "      <td>1.334543e-06</td>\n",
              "      <td>0</td>\n",
              "      <td>1883</td>\n",
              "    </tr>\n",
              "    <tr>\n",
              "      <th>3</th>\n",
              "      <td>33</td>\n",
              "      <td>Ads</td>\n",
              "      <td>IE</td>\n",
              "      <td>M</td>\n",
              "      <td>40</td>\n",
              "      <td>0</td>\n",
              "      <td>1.345056e-07</td>\n",
              "      <td>0</td>\n",
              "      <td>1883</td>\n",
              "    </tr>\n",
              "    <tr>\n",
              "      <th>4</th>\n",
              "      <td>55</td>\n",
              "      <td>Ads</td>\n",
              "      <td>Safari</td>\n",
              "      <td>M</td>\n",
              "      <td>38</td>\n",
              "      <td>0</td>\n",
              "      <td>7.104195e-07</td>\n",
              "      <td>0</td>\n",
              "      <td>1883</td>\n",
              "    </tr>\n",
              "  </tbody>\n",
              "</table>\n",
              "</div>"
            ],
            "text/plain": [
              "   purchase_value  source  browser  ...          time  device_fraud  coun_freq\n",
              "0              46  Direct   Safari  ...  5.672105e-07             0       1883\n",
              "1              33     Ads       IE  ...  9.218094e-07             0       1883\n",
              "2              33  Direct  FireFox  ...  1.334543e-06             0       1883\n",
              "3              33     Ads       IE  ...  1.345056e-07             0       1883\n",
              "4              55     Ads   Safari  ...  7.104195e-07             0       1883\n",
              "\n",
              "[5 rows x 9 columns]"
            ]
          },
          "metadata": {
            "tags": []
          },
          "execution_count": 16
        }
      ]
    },
    {
      "cell_type": "code",
      "metadata": {
        "id": "NQ1MrRUZ_BrI",
        "colab_type": "code",
        "colab": {}
      },
      "source": [
        "'''from sklearn import preprocessing\n",
        "le = preprocessing.LabelEncoder()\n",
        "cols = [\"source\",\t\"browser\",\t\"sex\"]\n",
        "for y in cols:\n",
        "  le.fit(data_fraud[y])\n",
        "  data_fraud[y] = le.transform(data_fraud[y])\n",
        "data_fraud.head()'''"
      ],
      "execution_count": 0,
      "outputs": []
    },
    {
      "cell_type": "code",
      "metadata": {
        "id": "ZAbs7_Rt_74u",
        "colab_type": "code",
        "outputId": "acfb11da-33aa-40df-9c7d-8c90b8178da3",
        "colab": {
          "base_uri": "https://localhost:8080/",
          "height": 199
        }
      },
      "source": [
        "data_fraud.isna().any()"
      ],
      "execution_count": 17,
      "outputs": [
        {
          "output_type": "execute_result",
          "data": {
            "text/plain": [
              "purchase_value    False\n",
              "source            False\n",
              "browser           False\n",
              "sex               False\n",
              "age               False\n",
              "class             False\n",
              "time              False\n",
              "device_fraud      False\n",
              "coun_freq         False\n",
              "dtype: bool"
            ]
          },
          "metadata": {
            "tags": []
          },
          "execution_count": 17
        }
      ]
    },
    {
      "cell_type": "markdown",
      "metadata": {
        "id": "-IG48rTew160",
        "colab_type": "text"
      },
      "source": [
        "Dummification"
      ]
    },
    {
      "cell_type": "code",
      "metadata": {
        "id": "9Nqx8gE4Dfnc",
        "colab_type": "code",
        "colab": {}
      },
      "source": [
        "data_fraud_dumm = pd.get_dummies(data_fraud, drop_first=True)\n"
      ],
      "execution_count": 0,
      "outputs": []
    },
    {
      "cell_type": "code",
      "metadata": {
        "id": "24RSjIcUG5da",
        "colab_type": "code",
        "outputId": "e27f25ba-34c8-4ef9-c9fc-86ecbaaff8b4",
        "colab": {
          "base_uri": "https://localhost:8080/",
          "height": 226
        }
      },
      "source": [
        "data_fraud_dumm.head()"
      ],
      "execution_count": 19,
      "outputs": [
        {
          "output_type": "execute_result",
          "data": {
            "text/html": [
              "<div>\n",
              "<style scoped>\n",
              "    .dataframe tbody tr th:only-of-type {\n",
              "        vertical-align: middle;\n",
              "    }\n",
              "\n",
              "    .dataframe tbody tr th {\n",
              "        vertical-align: top;\n",
              "    }\n",
              "\n",
              "    .dataframe thead th {\n",
              "        text-align: right;\n",
              "    }\n",
              "</style>\n",
              "<table border=\"1\" class=\"dataframe\">\n",
              "  <thead>\n",
              "    <tr style=\"text-align: right;\">\n",
              "      <th></th>\n",
              "      <th>purchase_value</th>\n",
              "      <th>age</th>\n",
              "      <th>class</th>\n",
              "      <th>time</th>\n",
              "      <th>device_fraud</th>\n",
              "      <th>source_Direct</th>\n",
              "      <th>source_SEO</th>\n",
              "      <th>browser_FireFox</th>\n",
              "      <th>browser_IE</th>\n",
              "      <th>browser_Opera</th>\n",
              "      <th>browser_Safari</th>\n",
              "      <th>sex_M</th>\n",
              "      <th>coun_freq_2</th>\n",
              "      <th>coun_freq_3</th>\n",
              "      <th>coun_freq_4</th>\n",
              "      <th>coun_freq_5</th>\n",
              "      <th>coun_freq_6</th>\n",
              "      <th>coun_freq_7</th>\n",
              "      <th>coun_freq_8</th>\n",
              "      <th>coun_freq_10</th>\n",
              "      <th>coun_freq_11</th>\n",
              "      <th>coun_freq_12</th>\n",
              "      <th>coun_freq_13</th>\n",
              "      <th>coun_freq_14</th>\n",
              "      <th>coun_freq_16</th>\n",
              "      <th>coun_freq_18</th>\n",
              "      <th>coun_freq_19</th>\n",
              "      <th>coun_freq_21</th>\n",
              "      <th>coun_freq_27</th>\n",
              "      <th>coun_freq_28</th>\n",
              "      <th>coun_freq_31</th>\n",
              "      <th>coun_freq_33</th>\n",
              "      <th>coun_freq_34</th>\n",
              "      <th>coun_freq_36</th>\n",
              "      <th>coun_freq_37</th>\n",
              "      <th>coun_freq_39</th>\n",
              "      <th>coun_freq_42</th>\n",
              "      <th>coun_freq_44</th>\n",
              "      <th>coun_freq_48</th>\n",
              "      <th>coun_freq_50</th>\n",
              "      <th>coun_freq_55</th>\n",
              "      <th>coun_freq_56</th>\n",
              "      <th>coun_freq_57</th>\n",
              "      <th>coun_freq_61</th>\n",
              "      <th>coun_freq_62</th>\n",
              "      <th>coun_freq_64</th>\n",
              "      <th>coun_freq_66</th>\n",
              "      <th>coun_freq_69</th>\n",
              "      <th>coun_freq_73</th>\n",
              "      <th>coun_freq_74</th>\n",
              "      <th>coun_freq_78</th>\n",
              "      <th>coun_freq_79</th>\n",
              "      <th>coun_freq_99</th>\n",
              "      <th>coun_freq_123</th>\n",
              "      <th>coun_freq_131</th>\n",
              "      <th>coun_freq_134</th>\n",
              "      <th>coun_freq_144</th>\n",
              "      <th>coun_freq_151</th>\n",
              "      <th>coun_freq_165</th>\n",
              "      <th>coun_freq_166</th>\n",
              "      <th>coun_freq_262</th>\n",
              "      <th>coun_freq_270</th>\n",
              "      <th>coun_freq_300</th>\n",
              "      <th>coun_freq_348</th>\n",
              "      <th>coun_freq_380</th>\n",
              "      <th>coun_freq_477</th>\n",
              "      <th>coun_freq_715</th>\n",
              "      <th>coun_freq_1043</th>\n",
              "      <th>coun_freq_1883</th>\n",
              "      <th>coun_freq_5551</th>\n",
              "      <th>coun_freq_</th>\n",
              "    </tr>\n",
              "  </thead>\n",
              "  <tbody>\n",
              "    <tr>\n",
              "      <th>0</th>\n",
              "      <td>46</td>\n",
              "      <td>36</td>\n",
              "      <td>0</td>\n",
              "      <td>5.672105e-07</td>\n",
              "      <td>0</td>\n",
              "      <td>1</td>\n",
              "      <td>0</td>\n",
              "      <td>0</td>\n",
              "      <td>0</td>\n",
              "      <td>0</td>\n",
              "      <td>1</td>\n",
              "      <td>1</td>\n",
              "      <td>0</td>\n",
              "      <td>0</td>\n",
              "      <td>0</td>\n",
              "      <td>0</td>\n",
              "      <td>0</td>\n",
              "      <td>0</td>\n",
              "      <td>0</td>\n",
              "      <td>0</td>\n",
              "      <td>0</td>\n",
              "      <td>0</td>\n",
              "      <td>0</td>\n",
              "      <td>0</td>\n",
              "      <td>0</td>\n",
              "      <td>0</td>\n",
              "      <td>0</td>\n",
              "      <td>0</td>\n",
              "      <td>0</td>\n",
              "      <td>0</td>\n",
              "      <td>0</td>\n",
              "      <td>0</td>\n",
              "      <td>0</td>\n",
              "      <td>0</td>\n",
              "      <td>0</td>\n",
              "      <td>0</td>\n",
              "      <td>0</td>\n",
              "      <td>0</td>\n",
              "      <td>0</td>\n",
              "      <td>0</td>\n",
              "      <td>0</td>\n",
              "      <td>0</td>\n",
              "      <td>0</td>\n",
              "      <td>0</td>\n",
              "      <td>0</td>\n",
              "      <td>0</td>\n",
              "      <td>0</td>\n",
              "      <td>0</td>\n",
              "      <td>0</td>\n",
              "      <td>0</td>\n",
              "      <td>0</td>\n",
              "      <td>0</td>\n",
              "      <td>0</td>\n",
              "      <td>0</td>\n",
              "      <td>0</td>\n",
              "      <td>0</td>\n",
              "      <td>0</td>\n",
              "      <td>0</td>\n",
              "      <td>0</td>\n",
              "      <td>0</td>\n",
              "      <td>0</td>\n",
              "      <td>0</td>\n",
              "      <td>0</td>\n",
              "      <td>0</td>\n",
              "      <td>0</td>\n",
              "      <td>0</td>\n",
              "      <td>0</td>\n",
              "      <td>0</td>\n",
              "      <td>1</td>\n",
              "      <td>0</td>\n",
              "      <td>0</td>\n",
              "    </tr>\n",
              "    <tr>\n",
              "      <th>1</th>\n",
              "      <td>33</td>\n",
              "      <td>30</td>\n",
              "      <td>0</td>\n",
              "      <td>9.218094e-07</td>\n",
              "      <td>0</td>\n",
              "      <td>0</td>\n",
              "      <td>0</td>\n",
              "      <td>0</td>\n",
              "      <td>1</td>\n",
              "      <td>0</td>\n",
              "      <td>0</td>\n",
              "      <td>0</td>\n",
              "      <td>0</td>\n",
              "      <td>0</td>\n",
              "      <td>0</td>\n",
              "      <td>0</td>\n",
              "      <td>0</td>\n",
              "      <td>0</td>\n",
              "      <td>0</td>\n",
              "      <td>0</td>\n",
              "      <td>0</td>\n",
              "      <td>0</td>\n",
              "      <td>0</td>\n",
              "      <td>0</td>\n",
              "      <td>0</td>\n",
              "      <td>0</td>\n",
              "      <td>0</td>\n",
              "      <td>0</td>\n",
              "      <td>0</td>\n",
              "      <td>0</td>\n",
              "      <td>0</td>\n",
              "      <td>0</td>\n",
              "      <td>0</td>\n",
              "      <td>0</td>\n",
              "      <td>0</td>\n",
              "      <td>0</td>\n",
              "      <td>0</td>\n",
              "      <td>0</td>\n",
              "      <td>0</td>\n",
              "      <td>0</td>\n",
              "      <td>0</td>\n",
              "      <td>0</td>\n",
              "      <td>0</td>\n",
              "      <td>0</td>\n",
              "      <td>0</td>\n",
              "      <td>0</td>\n",
              "      <td>0</td>\n",
              "      <td>0</td>\n",
              "      <td>0</td>\n",
              "      <td>0</td>\n",
              "      <td>0</td>\n",
              "      <td>0</td>\n",
              "      <td>0</td>\n",
              "      <td>0</td>\n",
              "      <td>0</td>\n",
              "      <td>0</td>\n",
              "      <td>0</td>\n",
              "      <td>0</td>\n",
              "      <td>0</td>\n",
              "      <td>0</td>\n",
              "      <td>0</td>\n",
              "      <td>0</td>\n",
              "      <td>0</td>\n",
              "      <td>0</td>\n",
              "      <td>0</td>\n",
              "      <td>0</td>\n",
              "      <td>0</td>\n",
              "      <td>0</td>\n",
              "      <td>1</td>\n",
              "      <td>0</td>\n",
              "      <td>0</td>\n",
              "    </tr>\n",
              "    <tr>\n",
              "      <th>2</th>\n",
              "      <td>33</td>\n",
              "      <td>32</td>\n",
              "      <td>0</td>\n",
              "      <td>1.334543e-06</td>\n",
              "      <td>0</td>\n",
              "      <td>1</td>\n",
              "      <td>0</td>\n",
              "      <td>1</td>\n",
              "      <td>0</td>\n",
              "      <td>0</td>\n",
              "      <td>0</td>\n",
              "      <td>0</td>\n",
              "      <td>0</td>\n",
              "      <td>0</td>\n",
              "      <td>0</td>\n",
              "      <td>0</td>\n",
              "      <td>0</td>\n",
              "      <td>0</td>\n",
              "      <td>0</td>\n",
              "      <td>0</td>\n",
              "      <td>0</td>\n",
              "      <td>0</td>\n",
              "      <td>0</td>\n",
              "      <td>0</td>\n",
              "      <td>0</td>\n",
              "      <td>0</td>\n",
              "      <td>0</td>\n",
              "      <td>0</td>\n",
              "      <td>0</td>\n",
              "      <td>0</td>\n",
              "      <td>0</td>\n",
              "      <td>0</td>\n",
              "      <td>0</td>\n",
              "      <td>0</td>\n",
              "      <td>0</td>\n",
              "      <td>0</td>\n",
              "      <td>0</td>\n",
              "      <td>0</td>\n",
              "      <td>0</td>\n",
              "      <td>0</td>\n",
              "      <td>0</td>\n",
              "      <td>0</td>\n",
              "      <td>0</td>\n",
              "      <td>0</td>\n",
              "      <td>0</td>\n",
              "      <td>0</td>\n",
              "      <td>0</td>\n",
              "      <td>0</td>\n",
              "      <td>0</td>\n",
              "      <td>0</td>\n",
              "      <td>0</td>\n",
              "      <td>0</td>\n",
              "      <td>0</td>\n",
              "      <td>0</td>\n",
              "      <td>0</td>\n",
              "      <td>0</td>\n",
              "      <td>0</td>\n",
              "      <td>0</td>\n",
              "      <td>0</td>\n",
              "      <td>0</td>\n",
              "      <td>0</td>\n",
              "      <td>0</td>\n",
              "      <td>0</td>\n",
              "      <td>0</td>\n",
              "      <td>0</td>\n",
              "      <td>0</td>\n",
              "      <td>0</td>\n",
              "      <td>0</td>\n",
              "      <td>1</td>\n",
              "      <td>0</td>\n",
              "      <td>0</td>\n",
              "    </tr>\n",
              "    <tr>\n",
              "      <th>3</th>\n",
              "      <td>33</td>\n",
              "      <td>40</td>\n",
              "      <td>0</td>\n",
              "      <td>1.345056e-07</td>\n",
              "      <td>0</td>\n",
              "      <td>0</td>\n",
              "      <td>0</td>\n",
              "      <td>0</td>\n",
              "      <td>1</td>\n",
              "      <td>0</td>\n",
              "      <td>0</td>\n",
              "      <td>1</td>\n",
              "      <td>0</td>\n",
              "      <td>0</td>\n",
              "      <td>0</td>\n",
              "      <td>0</td>\n",
              "      <td>0</td>\n",
              "      <td>0</td>\n",
              "      <td>0</td>\n",
              "      <td>0</td>\n",
              "      <td>0</td>\n",
              "      <td>0</td>\n",
              "      <td>0</td>\n",
              "      <td>0</td>\n",
              "      <td>0</td>\n",
              "      <td>0</td>\n",
              "      <td>0</td>\n",
              "      <td>0</td>\n",
              "      <td>0</td>\n",
              "      <td>0</td>\n",
              "      <td>0</td>\n",
              "      <td>0</td>\n",
              "      <td>0</td>\n",
              "      <td>0</td>\n",
              "      <td>0</td>\n",
              "      <td>0</td>\n",
              "      <td>0</td>\n",
              "      <td>0</td>\n",
              "      <td>0</td>\n",
              "      <td>0</td>\n",
              "      <td>0</td>\n",
              "      <td>0</td>\n",
              "      <td>0</td>\n",
              "      <td>0</td>\n",
              "      <td>0</td>\n",
              "      <td>0</td>\n",
              "      <td>0</td>\n",
              "      <td>0</td>\n",
              "      <td>0</td>\n",
              "      <td>0</td>\n",
              "      <td>0</td>\n",
              "      <td>0</td>\n",
              "      <td>0</td>\n",
              "      <td>0</td>\n",
              "      <td>0</td>\n",
              "      <td>0</td>\n",
              "      <td>0</td>\n",
              "      <td>0</td>\n",
              "      <td>0</td>\n",
              "      <td>0</td>\n",
              "      <td>0</td>\n",
              "      <td>0</td>\n",
              "      <td>0</td>\n",
              "      <td>0</td>\n",
              "      <td>0</td>\n",
              "      <td>0</td>\n",
              "      <td>0</td>\n",
              "      <td>0</td>\n",
              "      <td>1</td>\n",
              "      <td>0</td>\n",
              "      <td>0</td>\n",
              "    </tr>\n",
              "    <tr>\n",
              "      <th>4</th>\n",
              "      <td>55</td>\n",
              "      <td>38</td>\n",
              "      <td>0</td>\n",
              "      <td>7.104195e-07</td>\n",
              "      <td>0</td>\n",
              "      <td>0</td>\n",
              "      <td>0</td>\n",
              "      <td>0</td>\n",
              "      <td>0</td>\n",
              "      <td>0</td>\n",
              "      <td>1</td>\n",
              "      <td>1</td>\n",
              "      <td>0</td>\n",
              "      <td>0</td>\n",
              "      <td>0</td>\n",
              "      <td>0</td>\n",
              "      <td>0</td>\n",
              "      <td>0</td>\n",
              "      <td>0</td>\n",
              "      <td>0</td>\n",
              "      <td>0</td>\n",
              "      <td>0</td>\n",
              "      <td>0</td>\n",
              "      <td>0</td>\n",
              "      <td>0</td>\n",
              "      <td>0</td>\n",
              "      <td>0</td>\n",
              "      <td>0</td>\n",
              "      <td>0</td>\n",
              "      <td>0</td>\n",
              "      <td>0</td>\n",
              "      <td>0</td>\n",
              "      <td>0</td>\n",
              "      <td>0</td>\n",
              "      <td>0</td>\n",
              "      <td>0</td>\n",
              "      <td>0</td>\n",
              "      <td>0</td>\n",
              "      <td>0</td>\n",
              "      <td>0</td>\n",
              "      <td>0</td>\n",
              "      <td>0</td>\n",
              "      <td>0</td>\n",
              "      <td>0</td>\n",
              "      <td>0</td>\n",
              "      <td>0</td>\n",
              "      <td>0</td>\n",
              "      <td>0</td>\n",
              "      <td>0</td>\n",
              "      <td>0</td>\n",
              "      <td>0</td>\n",
              "      <td>0</td>\n",
              "      <td>0</td>\n",
              "      <td>0</td>\n",
              "      <td>0</td>\n",
              "      <td>0</td>\n",
              "      <td>0</td>\n",
              "      <td>0</td>\n",
              "      <td>0</td>\n",
              "      <td>0</td>\n",
              "      <td>0</td>\n",
              "      <td>0</td>\n",
              "      <td>0</td>\n",
              "      <td>0</td>\n",
              "      <td>0</td>\n",
              "      <td>0</td>\n",
              "      <td>0</td>\n",
              "      <td>0</td>\n",
              "      <td>1</td>\n",
              "      <td>0</td>\n",
              "      <td>0</td>\n",
              "    </tr>\n",
              "  </tbody>\n",
              "</table>\n",
              "</div>"
            ],
            "text/plain": [
              "   purchase_value  age  class  ...  coun_freq_1883  coun_freq_5551  coun_freq_\n",
              "0              46   36      0  ...               1               0           0\n",
              "1              33   30      0  ...               1               0           0\n",
              "2              33   32      0  ...               1               0           0\n",
              "3              33   40      0  ...               1               0           0\n",
              "4              55   38      0  ...               1               0           0\n",
              "\n",
              "[5 rows x 71 columns]"
            ]
          },
          "metadata": {
            "tags": []
          },
          "execution_count": 19
        }
      ]
    },
    {
      "cell_type": "code",
      "metadata": {
        "id": "jta1_P2y6IWk",
        "colab_type": "code",
        "colab": {}
      },
      "source": [
        "from sklearn.preprocessing import StandardScaler\n",
        "sc_x = StandardScaler()\n",
        "#X = data_fraud[[\"user_id\", \"purchase_value\", \"device_id\", \"source\", \"browser\", \"sex\", \"age\", \"country\", \"time\"]]\n",
        "X = data_fraud_dumm[[ \"purchase_value\", \"age\", \"time\", \"device_fraud\"]]\n",
        "X = sc_x.fit_transform(X)\n"
      ],
      "execution_count": 0,
      "outputs": []
    },
    {
      "cell_type": "code",
      "metadata": {
        "id": "mRwn3nGbA-2w",
        "colab_type": "code",
        "outputId": "464c4c7c-6151-449e-c9b2-d77636a1445b",
        "colab": {
          "base_uri": "https://localhost:8080/",
          "height": 92
        }
      },
      "source": [
        "from sklearn.preprocessing import KBinsDiscretizer\n",
        "est = KBinsDiscretizer(n_bins=3, encode='ordinal', strategy='quantile')\n",
        "est.fit(X)"
      ],
      "execution_count": 21,
      "outputs": [
        {
          "output_type": "stream",
          "text": [
            "/usr/local/lib/python3.6/dist-packages/sklearn/preprocessing/_discretization.py:193: UserWarning: Bins whose width are too small (i.e., <= 1e-8) in feature 3 are removed. Consider decreasing the number of bins.\n",
            "  'decreasing the number of bins.' % jj)\n"
          ],
          "name": "stderr"
        },
        {
          "output_type": "execute_result",
          "data": {
            "text/plain": [
              "KBinsDiscretizer(encode='ordinal', n_bins=3, strategy='quantile')"
            ]
          },
          "metadata": {
            "tags": []
          },
          "execution_count": 21
        }
      ]
    },
    {
      "cell_type": "code",
      "metadata": {
        "id": "KKSFeGjwHRpg",
        "colab_type": "code",
        "colab": {}
      },
      "source": [
        "from sklearn.model_selection import train_test_split\n",
        "y  = data_fraud[\"class\"]\n",
        "X_train, X_test, y_train, y_test = train_test_split(X, y, test_size = 0.3, random_state=42, stratify = y)"
      ],
      "execution_count": 0,
      "outputs": []
    },
    {
      "cell_type": "code",
      "metadata": {
        "id": "vF_iJLNGHPYi",
        "colab_type": "code",
        "outputId": "42b84c80-ccb7-4748-c81f-f5e92398f75e",
        "colab": {
          "base_uri": "https://localhost:8080/",
          "height": 53
        }
      },
      "source": [
        "from sklearn.model_selection import GridSearchCV\n",
        "from sklearn.ensemble import RandomForestClassifier\n",
        "parameters = {\n",
        "    'n_estimators'      : np.arange(1,2),\n",
        "    'max_depth'         : [8, 9, 10, 11, 12],\n",
        "    'random_state'      : [0],\n",
        "    'max_features': ['auto'],\n",
        "    'criterion' :['gini']\n",
        "}\n",
        "\n",
        "clfG = GridSearchCV(RandomForestClassifier(), parameters, cv=10, n_jobs=-1)\n",
        "clfG.fit(X_train, y_train)\n",
        "\n",
        "print(clfG.score(X_test, y_test))\n",
        "print(clfG.best_params_)\n"
      ],
      "execution_count": 0,
      "outputs": [
        {
          "output_type": "stream",
          "text": [
            "0.9864119645299334\n",
            "{'criterion': 'gini', 'max_depth': 8, 'max_features': 'auto', 'n_estimators': 1, 'random_state': 0}\n"
          ],
          "name": "stdout"
        }
      ]
    },
    {
      "cell_type": "code",
      "metadata": {
        "id": "B29P3K05JLAr",
        "colab_type": "code",
        "outputId": "a013f893-939f-43e0-a928-3b9d2c29a8b8",
        "colab": {
          "base_uri": "https://localhost:8080/",
          "height": 450
        }
      },
      "source": [
        "from sklearn.metrics import confusion_matrix\n",
        "y_pred = clfG.predict(X_test)\n",
        "cm = confusion_matrix(y_pred, y_test )\n",
        "fig, ax = plt.subplots(figsize=(10,7))  \n",
        "sns.heatmap(cm, annot=True, fmt=\"d\", ax = ax)"
      ],
      "execution_count": 0,
      "outputs": [
        {
          "output_type": "execute_result",
          "data": {
            "text/plain": [
              "<matplotlib.axes._subplots.AxesSubplot at 0x7f0e6b3896d8>"
            ]
          },
          "metadata": {
            "tags": []
          },
          "execution_count": 117
        },
        {
          "output_type": "display_data",
          "data": {
            "image/png": "[encoded data removed]",
            "text/plain": [
              "<Figure size 720x504 with 2 Axes>"
            ]
          },
          "metadata": {
            "tags": []
          }
        }
      ]
    },
    {
      "cell_type": "code",
      "metadata": {
        "id": "Do6YJKM1KPIH",
        "colab_type": "code",
        "outputId": "fdb49314-6c61-41d2-fe16-86b83d1f33d7",
        "colab": {
          "base_uri": "https://localhost:8080/",
          "height": 450
        }
      },
      "source": [
        "y_pred = clfG.predict(X)\n",
        "cm = confusion_matrix(y_pred, y)\n",
        "fig, ax = plt.subplots(figsize=(10,7))  \n",
        "sns.heatmap(cm, annot=True, fmt=\"d\", ax = ax)"
      ],
      "execution_count": 0,
      "outputs": [
        {
          "output_type": "execute_result",
          "data": {
            "text/plain": [
              "<matplotlib.axes._subplots.AxesSubplot at 0x7f0e6b2ad9b0>"
            ]
          },
          "metadata": {
            "tags": []
          },
          "execution_count": 118
        },
        {
          "output_type": "display_data",
          "data": {
            "image/png": "[encoded data removed]",
            "text/plain": [
              "<Figure size 720x504 with 2 Axes>"
            ]
          },
          "metadata": {
            "tags": []
          }
        }
      ]
    },
    {
      "cell_type": "code",
      "metadata": {
        "id": "Pwykk66Ys7hw",
        "colab_type": "code",
        "colab": {
          "base_uri": "https://localhost:8080/",
          "height": 35
        },
        "outputId": "49c931e1-0260-4055-cebf-c4ea440083bc"
      },
      "source": [
        "from sklearn.ensemble import RandomForestClassifier\n",
        "rfc = RandomForestClassifier(criterion= 'gini', max_depth= 8, max_features= 'auto', n_estimators= 1, random_state= 0)\n",
        "rfc.fit(X_train, y_train)\n",
        "rfc.score(X_test, y_test)"
      ],
      "execution_count": 23,
      "outputs": [
        {
          "output_type": "execute_result",
          "data": {
            "text/plain": [
              "0.9864119645299334"
            ]
          },
          "metadata": {
            "tags": []
          },
          "execution_count": 23
        }
      ]
    },
    {
      "cell_type": "code",
      "metadata": {
        "id": "EHELo4swt6Q7",
        "colab_type": "code",
        "colab": {
          "base_uri": "https://localhost:8080/",
          "height": 295
        },
        "outputId": "af31b7a7-71a9-4d95-9c63-66c0973cb669"
      },
      "source": [
        "#ROC-AUC\n",
        "from sklearn.metrics import roc_auc_score\n",
        "from sklearn.metrics import roc_curve\n",
        "logit_roc_auc = roc_auc_score(y, rfc.predict(X))\n",
        "fpr, tpr, thresholds = roc_curve(y, rfc.predict_proba(X)[:,1])\n",
        "plt.figure()\n",
        "plt.plot(fpr, tpr, label='Logistic Regression (area = %0.2f)' % logit_roc_auc)\n",
        "plt.plot([0, 1], [0, 1],'r--')\n",
        "plt.xlim([0.0, 1.0])\n",
        "plt.ylim([0.0, 1.05])\n",
        "plt.xlabel('False Positive Rate')\n",
        "plt.ylabel('True Positive Rate')\n",
        "plt.title('Receiver operating characteristic')\n",
        "plt.legend(loc=\"lower right\")\n",
        "plt.savefig('Log_ROC')\n",
        "plt.show()"
      ],
      "execution_count": 24,
      "outputs": [
        {
          "output_type": "display_data",
          "data": {
            "image/png": "[encoded data removed]",
            "text/plain": [
              "<Figure size 432x288 with 1 Axes>"
            ]
          },
          "metadata": {
            "tags": []
          }
        }
      ]
    },
    {
      "cell_type": "code",
      "metadata": {
        "id": "QHj0bgY-uJHX",
        "colab_type": "code",
        "colab": {
          "base_uri": "https://localhost:8080/",
          "height": 450
        },
        "outputId": "29c062e8-4258-47fa-d8f0-7c0dee2d207a"
      },
      "source": [
        "from sklearn.metrics import confusion_matrix\n",
        "y_pred = rfc.predict(X)\n",
        "cm = confusion_matrix(y_pred, y)\n",
        "fig, ax = plt.subplots(figsize=(10,7))  \n",
        "sns.heatmap(cm, annot=True, fmt=\"d\", ax = ax)"
      ],
      "execution_count": 26,
      "outputs": [
        {
          "output_type": "execute_result",
          "data": {
            "text/plain": [
              "<matplotlib.axes._subplots.AxesSubplot at 0x7fcfd5e6b5c0>"
            ]
          },
          "metadata": {
            "tags": []
          },
          "execution_count": 26
        },
        {
          "output_type": "display_data",
          "data": {
            "image/png": "[encoded data removed]",
            "text/plain": [
              "<Figure size 720x504 with 2 Axes>"
            ]
          },
          "metadata": {
            "tags": []
          }
        }
      ]
    }
  ]
}