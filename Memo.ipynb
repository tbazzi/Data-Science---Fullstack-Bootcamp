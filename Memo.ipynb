{
  "nbformat": 4,
  "nbformat_minor": 0,
  "metadata": {
    "colab": {
      "name": "Memo.ipynb",
      "provenance": [],
      "collapsed_sections": [],
      "include_colab_link": true
    },
    "kernelspec": {
      "name": "python3",
      "display_name": "Python 3"
    }
  },
  "cells": [
    {
      "cell_type": "markdown",
      "metadata": {
        "id": "view-in-github",
        "colab_type": "text"
      },
      "source": [
        "<a href=\"https://colab.research.google.com/github/tbazzi/Data-Science---Fullstack-Bootcamp/blob/master/Memo.ipynb\" target=\"_parent\"><img src=\"https://colab.research.google.com/assets/colab-badge.svg\" alt=\"Open In Colab\"/></a>"
      ]
    },
    {
      "cell_type": "code",
      "metadata": {
        "id": "3RWoZOrsvDHf",
        "colab_type": "code",
        "colab": {}
      },
      "source": [
        "import seaborn as sns\n",
        "import pandas as pd\n",
        "import numpy as np\n",
        "#import matplotlib as plt\n",
        "import matplotlib.pyplot as plt\n",
        "\n",
        "from sklearn.linear_model import LogisticRegression\n",
        "from sklearn.ensemble import AdaBoostClassifier, RandomForestClassifier, GradientBoostingClassifier\n",
        "import sklearn.naive_bayes as nb\n",
        "\n",
        "from fastai.vision import *"
      ],
      "execution_count": 0,
      "outputs": []
    },
    {
      "cell_type": "code",
      "metadata": {
        "id": "wwoCaNlZ1ysd",
        "colab_type": "code",
        "colab": {}
      },
      "source": [
        "from google.colab import drive\n",
        "drive.mount('/content/drive')\n",
        "\n",
        "\n",
        "#CSV\n",
        "pd.read_csv('/content/drive/My Drive/house_pricing.csv')\n",
        "\n",
        "#TEXT\n",
        "f=open(\"/content/drive/My Drive/ex2data1.txt\", \"r\")\n",
        "if f.mode == 'r':\n",
        "  contents = f.readlines()\n",
        "\n",
        "from google.colab import files\n",
        "\n",
        "uploaded = files.upload()\n",
        "\n",
        "for fn in uploaded.keys():\n",
        "  print('User uploaded file \"{name}\" with length {length} bytes'.format(\n",
        "      name=fn, length=len(uploaded[fn])))\n",
        "dataset = pd.read_csv(fn)\n",
        "\n",
        "#15 dernières colonnes\n",
        "dataset = dataset.iloc[:,-15:]\n",
        "\n",
        "#masque\n",
        "dataset[(dataset.SalePrice<500000) & (dataset.LotArea <20000)]\n",
        "#query\n",
        "dataset.query(\"SalePrice<500000 and LotArea<20000\"))\n",
        "data = data.query('{}<{}'.format(item, cal))\n",
        "data_fraud.assign(key=1).merge(bounds.assign(key=1), on='key').drop(columns='key').query('ip_address.between(lower_bound_ip_address, upper_bound_ip_address)').drop(columns=['lower_bound_ip_address', 'upper_bound_ip_address']).reset_index(drop=True)\n",
        "data_fraud['country'] = (data_fraud.ip_address.apply(lambda x: data_IP.query('lower_bound_ip_address <= @x <= upper_bound_ip_address').index.values).apply(lambda x: x[0] if len(x) else -1)).apply(lambda x: data_IP.country[x] if x != -1 else x)\n",
        "\n",
        "#lambda sur plusieurs colonnes\n",
        "zip_code[\"Key\"] = zip_code[[\"Lat\", \"Lon\"]].apply(lambda x: add(x), axis = 1)\n",
        "\n",
        "dataset = pd.get_dummies(dataset, drop_first= True)\n",
        "\n",
        "df1 = pd.merge_asof(data_fraud.iloc[:1000,:], df_temp,on='ip_address')\n",
        "\n",
        "#Definition fonction avec lambda\n",
        "get_y_labels = lambda x: camvid/\"labels\"/f'{x.stem}_P{x.suffix}'\n",
        "\n",
        "#DataFrame\n",
        "coun_lower = pd.DataFrame()\n",
        "#coun_lower = pd.DataFrame(data_IP[\"lower_bound_ip_address\"], columns = [\"lower_bound_ip_address\"], index = )\n",
        "coun_lower[\"lower_bound_ip_address\"] = data_IP[\"lower_bound_ip_address\"]\n",
        "coun_lower[\"country\"] = data_IP[\"country\"]\n",
        "\n",
        "#drop based on index\n",
        "indexNames = df1[(df1.country == \"Err\") & (df1.class_ == 1) & (df1.lower_bound_ip_address == 0)].index\n",
        "df1 = df1.drop(indexNames)\n",
        "\n",
        "#group\n",
        "grouped = df1.groupby([\"country\"]).size().reset_index(name='count')\n",
        "\n",
        "#Currency $ to float\n",
        "from re import sub\n",
        "from decimal import Decimal\n",
        "\n",
        "data.price  = data.price.apply(lambda x: float(Decimal(sub(r'[^\\d.]', '', x))))\n",
        "\n",
        "#DateTime\n",
        "from datetime import datetime\n",
        "df[\"Date/Time\"] = df[\"Date/Time\"].apply(lambda x: str(x).split(\" \"))\n",
        "df[\"Date/Time\"] = df[\"Date/Time\"].apply(lambda x: str(x[0]+ \" \"+ x[1].rjust(8, '0')))\n",
        "#df[\"Date/Time\"] = df[\"Date/Time\"].apply(lambda x: datetime.strptime(str(x),'%m/%d/%dY %H:%M:%S'))#7/1/2014 00:03:00\n",
        "df[\"Date/Time\"]= pd.to_datetime(df[\"Date/Time\"])\n",
        "df['p_year'] = df[\"Date/Time\"].apply(lambda x: x.year)\n",
        "df['p_month'] = df[\"Date/Time\"].apply(lambda x: x.month)\n",
        "df['p_day'] = df[\"Date/Time\"].apply(lambda x: x.day)\n",
        "df['hour'] = df[\"Date/Time\"].apply(lambda x: x.hour)\n",
        "df.head()\n",
        "\n",
        "#concatenation 2 colonnes dasn DF\n",
        "%time df[\"Key\"] = df[[\"Lat\", \"Lon\"]].apply(lambda x: \"\".join(x), axis)\n",
        "\n",
        "#downloas images\n",
        "download_images(\"/content/drive/My Drive/homme.csv\", \"/content/hommes\")\n",
        "\n",
        "#get_transforms permet de modifier l'image (étirer, symétrie...) pour varier le jeu de données\n",
        "data = ImageDataBunch.from_name_re(images, fnames, pat, ds_tfms=get_transforms(), size=224, bs = 64).normalize(imagenet_stats)\n"
      ],
      "execution_count": 0,
      "outputs": []
    },
    {
      "cell_type": "code",
      "metadata": {
        "id": "d6Te6s4iWkPl",
        "colab_type": "code",
        "colab": {}
      },
      "source": [
        "#NaN\n",
        "dataset.Cabin = dataset.Cabin.apply(lambda x: 1 if x == x else 0)"
      ],
      "execution_count": 0,
      "outputs": []
    },
    {
      "cell_type": "code",
      "metadata": {
        "id": "ZPjLm4mvmuiM",
        "colab_type": "code",
        "outputId": "6456f82e-37f0-45a7-cf6a-6577392bc928",
        "colab": {
          "base_uri": "https://localhost:8080/",
          "height": 53
        }
      },
      "source": [
        "import numpy as np\n",
        "\n",
        "A = np.array([[1, 2], \n",
        "              [3,4]])\n",
        "V = np.array([[2, 2]])\n",
        "\n",
        "print (A+V)\n",
        "\n",
        "import numpy as np\n",
        "\n",
        "def Array_shape(l):\n",
        "    l1 = l.split(\" \")\n",
        "    return np.reshape(l1, (3,3))\n",
        "\n",
        "if  __name__ =='__main__':\n",
        "    print(Array_shape(\"1 2 3 4 5 6 7 8 9\"))\n",
        "\n",
        "if __name__ == '__main__':\n",
        "    fptr = open(os.environ['OUTPUT_PATH'], 'w')\n",
        "\n",
        "    t = int(input())\n",
        "\n",
        "    for t_itr in range(t):\n",
        "        n = int(input())\n",
        "\n",
        "        result = handshake(n)\n",
        "\n",
        "        fptr.write(str(result) + '\\n')\n",
        "\n",
        "    fptr.close()\n"
      ],
      "execution_count": 0,
      "outputs": [
        {
          "output_type": "stream",
          "text": [
            "[[3 4]\n",
            " [5 6]]\n"
          ],
          "name": "stdout"
        }
      ]
    },
    {
      "cell_type": "code",
      "metadata": {
        "id": "bQeqlDRf9plT",
        "colab_type": "code",
        "outputId": "22474471-bdd1-45fb-a32b-051eb1fff465",
        "colab": {
          "base_uri": "https://localhost:8080/",
          "height": 72
        }
      },
      "source": [
        "import numpy as np\n",
        "\n",
        "def Array_shape(l):\n",
        "    l1 = l.split(\" \")\n",
        "    return np.reshape(l1, (3,3))\n",
        "\n",
        "print(Array_shape(\"1 2 3 4 5 6 7 8 9\"))\n",
        "\n"
      ],
      "execution_count": 0,
      "outputs": [
        {
          "output_type": "stream",
          "text": [
            "[['1' '2' '3']\n",
            " ['4' '5' '6']\n",
            " ['7' '8' '9']]\n"
          ],
          "name": "stdout"
        }
      ]
    },
    {
      "cell_type": "code",
      "metadata": {
        "id": "He9-5is093mJ",
        "colab_type": "code",
        "outputId": "5dc89956-87d7-4044-c76e-c167e988736e",
        "colab": {
          "base_uri": "https://localhost:8080/",
          "height": 90
        }
      },
      "source": [
        "import numpy as np\n",
        "import os\n",
        "\n",
        "def Array_shape(l):\n",
        "    l1 = l.split(\" \")\n",
        "    return np.reshape(l1, (3,3))\n",
        "\n",
        "    \n",
        "if __name__ == '__main__':\n",
        "   \n",
        "\n",
        "    t = str(input())\n",
        "\n",
        "    print(Array_shape(t))\n",
        "\n"
      ],
      "execution_count": 0,
      "outputs": [
        {
          "output_type": "stream",
          "text": [
            "1 2 3 4 5 6 7 8 9\n",
            "[['1' '2' '3']\n",
            " ['4' '5' '6']\n",
            " ['7' '8' '9']]\n"
          ],
          "name": "stdout"
        }
      ]
    },
    {
      "cell_type": "code",
      "metadata": {
        "id": "Tvm3ITFFBzAO",
        "colab_type": "code",
        "outputId": "f2857294-7eb4-4c58-c8a1-e7b959a0f9d0",
        "colab": {
          "base_uri": "https://localhost:8080/",
          "height": 53
        }
      },
      "source": [
        "import numpy\n",
        "\n",
        "def arrays(arr):\n",
        "    #for i in range(len(arr)):\n",
        "    #    arr[i] = float(arr[i])\n",
        "    #arr = numpy.flip(arr)\n",
        "    #arr = arr[::-1]\n",
        "    return numpy.array(arr[::-1], dtype = float)\n",
        "    #return arr\n",
        "\n",
        "\n",
        "\n",
        "arr = input().strip().split(' ')\n",
        "result = arrays(arr)\n",
        "print(result)"
      ],
      "execution_count": 0,
      "outputs": [
        {
          "output_type": "stream",
          "text": [
            "1 2 3 4 -8 -10\n",
            "[-10.  -8.   4.   3.   2.   1.]\n"
          ],
          "name": "stdout"
        }
      ]
    },
    {
      "cell_type": "code",
      "metadata": {
        "id": "-NWattXDVi3n",
        "colab_type": "code",
        "outputId": "47b054c0-2f8f-43ad-edd0-7db9a0f7f39b",
        "colab": {
          "base_uri": "https://localhost:8080/",
          "height": 162
        }
      },
      "source": [
        "import numpy as np\n",
        "\n",
        "arr_mn = input().strip().split(' ')\n",
        "arr_mn = np.array(arr_mn[::], dtype = int)\n",
        "lignes = []\n",
        "matrix = []\n",
        "for i in range(arr_mn[0]):\n",
        "    ligne = input().strip().split(' ')\n",
        "    ligne = np.array(ligne[::], dtype = int)\n",
        "    if len(matrix) == 0:\n",
        "      matrix = ligne\n",
        "    else:\n",
        "      #matrix = [matrix.values, ligne.values]\n",
        "      #matrix = np.array((matrix, ligne))\n",
        "      #matrix = np.concatenate((matrix, ligne), axis=0)\n",
        "      matrix = np.vstack((matrix,ligne))\n",
        "    #for j in ligne:\n",
        "    #  lignes.append(j)\n",
        "print(np.transpose(matrix))\n",
        "print(matrix.flatten())"
      ],
      "execution_count": 0,
      "outputs": [
        {
          "output_type": "stream",
          "text": [
            "3 3\n",
            "1 2 3\n",
            "4 5 6\n",
            "7 8 9\n",
            "[[1 4 7]\n",
            " [2 5 8]\n",
            " [3 6 9]]\n",
            "[1 2 3 4 5 6 7 8 9]\n"
          ],
          "name": "stdout"
        }
      ]
    },
    {
      "cell_type": "code",
      "metadata": {
        "id": "rltiUmGLMyge",
        "colab_type": "code",
        "colab": {}
      },
      "source": [
        "# Enter your code here. Read input from STDIN. Print output to STDOUT\n",
        "from scipy import stats\n",
        "\n",
        "\n",
        "n1 = int(input())\n",
        "list1 = list(map(int, input().split()))\n",
        "list1 = [ int(x) for x in list1 ]\n",
        "\n",
        "print(sum(list1)/n1)\n",
        "\n",
        "list1.sort()\n",
        "median = 0\n",
        "if n1 % 2 == 0:\n",
        "    index = int(n1/2)\n",
        "    median = (list1[index-1]+list1[index])/2\n",
        "else:\n",
        "    index = int(((n1+1)/2)-1)\n",
        "    median = list1[index]\n",
        "print(median)\n",
        "\n",
        "#print(min(list1))\n",
        "print(int(stats.mode(list1)[0]))\n",
        "\n",
        "\n"
      ],
      "execution_count": 0,
      "outputs": []
    },
    {
      "cell_type": "code",
      "metadata": {
        "id": "Y5lcydDWRg-S",
        "colab_type": "code",
        "outputId": "0de284a2-6d5b-4390-f95f-f92ea44e5941",
        "colab": {
          "base_uri": "https://localhost:8080/",
          "height": 108
        }
      },
      "source": [
        "m = int(input())\n",
        "grid = [] \n",
        "for i in range(0, m): \n",
        "    grid.append(input().strip())\n",
        "\n",
        "print(grid)\n"
      ],
      "execution_count": 0,
      "outputs": [
        {
          "output_type": "stream",
          "text": [
            "3\n",
            "---\n",
            "-m-\n",
            "p--\n",
            "['---', '-m-', 'p--']\n"
          ],
          "name": "stdout"
        }
      ]
    },
    {
      "cell_type": "code",
      "metadata": {
        "id": "CJtwOYsoSz2R",
        "colab_type": "code",
        "outputId": "5089001c-2161-4e52-f094-d90271227f4e",
        "colab": {
          "base_uri": "https://localhost:8080/",
          "height": 90
        }
      },
      "source": [
        "def displayPathtoPrincess(n,grid):\n",
        "    pos_bot = []\n",
        "    pos_pr = []\n",
        "    moves = []\n",
        "    pos = 0\n",
        "    NumberOfmoves = 0\n",
        "    for i in range(n):\n",
        "        pos = grid[i].find(\"m\")\n",
        "        if pos > -1:\n",
        "            pos_bot = [i, pos]\n",
        "        pos = grid[i].find(\"p\")\n",
        "        if pos > -1:\n",
        "            pos_pr = [i, pos]\n",
        "     \n",
        "    if pos_pr[0]>pos_bot[0]:\n",
        "        NumberOfmoves = pos_pr[0]- pos_bot[0]\n",
        "        for i in range(NumberOfmoves):\n",
        "          moves.append(\"DOWN\")\n",
        "    else:\n",
        "        if pos_pr[0]<pos_bot[0]:\n",
        "          NumberOfmoves = pos_bot[0]- pos_pr[0]\n",
        "          for i in range(NumberOfmoves):\n",
        "            moves.append(\"UP\")\n",
        "         \n",
        "    if pos_pr[1]>pos_bot[1]:\n",
        "        NumberOfmoves = pos_pr[1]- pos_bot[1]\n",
        "        for i in range(NumberOfmoves):\n",
        "          moves.append(\"RIGHT\")\n",
        "    else:\n",
        "        if pos_pr[1]<pos_bot[1]:\n",
        "          NumberOfmoves = pos_bot[1]- pos_pr[1]\n",
        "          for i in range(NumberOfmoves):\n",
        "            moves.append(\"LEFT\")\n",
        "\n",
        "    print(\"{} {}\".format(pos_bot, pos_pr))\n",
        "    for item in moves:\n",
        "      print(item)\n",
        "\n",
        "#displayPathtoPrincess(4,['----', '--m-', '----','p---'])\n",
        "#displayPathtoPrincess(3,['---', '-m-','p--'])\n",
        "displayPathtoPrincess(4,['m--p', '----', '----','----'])"
      ],
      "execution_count": 0,
      "outputs": [
        {
          "output_type": "stream",
          "text": [
            "[0, 0] [0, 3]\n",
            "RIGHT\n",
            "RIGHT\n",
            "RIGHT\n"
          ],
          "name": "stdout"
        }
      ]
    },
    {
      "cell_type": "code",
      "metadata": {
        "id": "zLkTG77uUMQM",
        "colab_type": "code",
        "outputId": "b16b693a-6d4d-45d3-95c9-dd73a68448f1",
        "colab": {
          "base_uri": "https://localhost:8080/",
          "height": 301
        }
      },
      "source": [
        "import seaborn as sns\n",
        "import pandas as pd\n",
        "\n",
        "titanic = sns.load_dataset(\"titanic\")\n",
        "#titanic.describe()\n",
        "#titanic.head()\n",
        "#titanic.sex.value_counts()\n",
        "sns.countplot(titanic.age)\n",
        "#Boite à moustache\n",
        "sns.boxplot(titanic.age)\n",
        "sns.distplot(titanic.fare, bins = 2, kde = False)"
      ],
      "execution_count": 0,
      "outputs": [
        {
          "output_type": "execute_result",
          "data": {
            "text/plain": [
              "<matplotlib.axes._subplots.AxesSubplot at 0x7f370928ec88>"
            ]
          },
          "metadata": {
            "tags": []
          },
          "execution_count": 23
        },
        {
          "output_type": "display_data",
          "data": {
            "image/png": "[encoded data removed]",
            "text/plain": [
              "<Figure size 432x288 with 1 Axes>"
            ]
          },
          "metadata": {
            "tags": []
          }
        }
      ]
    },
    {
      "cell_type": "code",
      "metadata": {
        "id": "-kpreKlD3zHS",
        "colab_type": "code",
        "colab": {}
      },
      "source": [
        "sns.catplot(x = \"room_type\", y = \"price\",kind=\"bar\", data = data)"
      ],
      "execution_count": 0,
      "outputs": []
    },
    {
      "cell_type": "code",
      "metadata": {
        "id": "x9NKBKuRcEoe",
        "colab_type": "code",
        "outputId": "fdc92d10-5b39-4854-c214-c6f15b70b930",
        "colab": {
          "base_uri": "https://localhost:8080/",
          "height": 301
        }
      },
      "source": [
        "age = titanic.age.fillna(titanic.age.mean())\n",
        "sns.distplot(age, bins = 5)"
      ],
      "execution_count": 0,
      "outputs": [
        {
          "output_type": "execute_result",
          "data": {
            "text/plain": [
              "<matplotlib.axes._subplots.AxesSubplot at 0x7f3708efbf60>"
            ]
          },
          "metadata": {
            "tags": []
          },
          "execution_count": 24
        },
        {
          "output_type": "display_data",
          "data": {
            "image/png": "[encoded data removed]",
            "text/plain": [
              "<Figure size 432x288 with 1 Axes>"
            ]
          },
          "metadata": {
            "tags": []
          }
        }
      ]
    },
    {
      "cell_type": "code",
      "metadata": {
        "id": "qg8A5DV1dzJL",
        "colab_type": "code",
        "outputId": "7592f44f-09a8-4f20-9135-96fe979796a9",
        "colab": {
          "base_uri": "https://localhost:8080/",
          "height": 206
        }
      },
      "source": [
        "tips = sns.load_dataset(\"tips\")\n",
        "tips.head()"
      ],
      "execution_count": 0,
      "outputs": [
        {
          "output_type": "execute_result",
          "data": {
            "text/html": [
              "<div>\n",
              "<style scoped>\n",
              "    .dataframe tbody tr th:only-of-type {\n",
              "        vertical-align: middle;\n",
              "    }\n",
              "\n",
              "    .dataframe tbody tr th {\n",
              "        vertical-align: top;\n",
              "    }\n",
              "\n",
              "    .dataframe thead th {\n",
              "        text-align: right;\n",
              "    }\n",
              "</style>\n",
              "<table border=\"1\" class=\"dataframe\">\n",
              "  <thead>\n",
              "    <tr style=\"text-align: right;\">\n",
              "      <th></th>\n",
              "      <th>total_bill</th>\n",
              "      <th>tip</th>\n",
              "      <th>sex</th>\n",
              "      <th>smoker</th>\n",
              "      <th>day</th>\n",
              "      <th>time</th>\n",
              "      <th>size</th>\n",
              "    </tr>\n",
              "  </thead>\n",
              "  <tbody>\n",
              "    <tr>\n",
              "      <th>0</th>\n",
              "      <td>16.99</td>\n",
              "      <td>1.01</td>\n",
              "      <td>Female</td>\n",
              "      <td>No</td>\n",
              "      <td>Sun</td>\n",
              "      <td>Dinner</td>\n",
              "      <td>2</td>\n",
              "    </tr>\n",
              "    <tr>\n",
              "      <th>1</th>\n",
              "      <td>10.34</td>\n",
              "      <td>1.66</td>\n",
              "      <td>Male</td>\n",
              "      <td>No</td>\n",
              "      <td>Sun</td>\n",
              "      <td>Dinner</td>\n",
              "      <td>3</td>\n",
              "    </tr>\n",
              "    <tr>\n",
              "      <th>2</th>\n",
              "      <td>21.01</td>\n",
              "      <td>3.50</td>\n",
              "      <td>Male</td>\n",
              "      <td>No</td>\n",
              "      <td>Sun</td>\n",
              "      <td>Dinner</td>\n",
              "      <td>3</td>\n",
              "    </tr>\n",
              "    <tr>\n",
              "      <th>3</th>\n",
              "      <td>23.68</td>\n",
              "      <td>3.31</td>\n",
              "      <td>Male</td>\n",
              "      <td>No</td>\n",
              "      <td>Sun</td>\n",
              "      <td>Dinner</td>\n",
              "      <td>2</td>\n",
              "    </tr>\n",
              "    <tr>\n",
              "      <th>4</th>\n",
              "      <td>24.59</td>\n",
              "      <td>3.61</td>\n",
              "      <td>Female</td>\n",
              "      <td>No</td>\n",
              "      <td>Sun</td>\n",
              "      <td>Dinner</td>\n",
              "      <td>4</td>\n",
              "    </tr>\n",
              "  </tbody>\n",
              "</table>\n",
              "</div>"
            ],
            "text/plain": [
              "   total_bill   tip     sex smoker  day    time  size\n",
              "0       16.99  1.01  Female     No  Sun  Dinner     2\n",
              "1       10.34  1.66    Male     No  Sun  Dinner     3\n",
              "2       21.01  3.50    Male     No  Sun  Dinner     3\n",
              "3       23.68  3.31    Male     No  Sun  Dinner     2\n",
              "4       24.59  3.61  Female     No  Sun  Dinner     4"
            ]
          },
          "metadata": {
            "tags": []
          },
          "execution_count": 26
        }
      ]
    },
    {
      "cell_type": "code",
      "metadata": {
        "id": "ceCfOHdPd8Zv",
        "colab_type": "code",
        "outputId": "c709d0f8-cd6d-4576-e07f-0848eb7556a2",
        "colab": {
          "base_uri": "https://localhost:8080/",
          "height": 387
        }
      },
      "source": [
        "sns.relplot(x = \"total_bill\", y = \"tip\", data = tips, hue=\"smoker\", size = \"size\", style= \"time\")"
      ],
      "execution_count": 0,
      "outputs": [
        {
          "output_type": "execute_result",
          "data": {
            "text/plain": [
              "<seaborn.axisgrid.FacetGrid at 0x7f3708b67c88>"
            ]
          },
          "metadata": {
            "tags": []
          },
          "execution_count": 32
        },
        {
          "output_type": "display_data",
          "data": {
            "image/png": "[encoded data removed]",
            "text/plain": [
              "<Figure size 432.875x360 with 1 Axes>"
            ]
          },
          "metadata": {
            "tags": []
          }
        }
      ]
    },
    {
      "cell_type": "code",
      "metadata": {
        "id": "FxMWxkRthPci",
        "colab_type": "code",
        "outputId": "c04c1434-834a-4b93-83b4-2c3e8d3710a2",
        "colab": {
          "base_uri": "https://localhost:8080/",
          "height": 387
        }
      },
      "source": [
        "sns.relplot(x = \"size\", y = \"tip\", data = tips,kind=\"line\")"
      ],
      "execution_count": 0,
      "outputs": [
        {
          "output_type": "execute_result",
          "data": {
            "text/plain": [
              "<seaborn.axisgrid.FacetGrid at 0x7f3708bb8668>"
            ]
          },
          "metadata": {
            "tags": []
          },
          "execution_count": 33
        },
        {
          "output_type": "display_data",
          "data": {
            "image/png": "[encoded data removed]",
            "text/plain": [
              "<Figure size 360x360 with 1 Axes>"
            ]
          },
          "metadata": {
            "tags": []
          }
        }
      ]
    },
    {
      "cell_type": "code",
      "metadata": {
        "id": "Vstwsybnu3Xu",
        "colab_type": "code",
        "colab": {}
      },
      "source": [
        "import matplotlib.pyplot as plt\n",
        "\n",
        "# Création de données pour un Pie Chart\n",
        "labels = 'Frogs', 'Hogs', 'Dogs', 'Logs'\n",
        "sizes = [15, 30, 45, 10]\n",
        "explode = (0, 0.1, 0, 0)\n",
        "\n",
        "# Création de données pour un bar chart\n",
        "names = ['group_a', 'group_b', 'group_c']\n",
        "values_1 = [1, 10, 100]\n",
        "values_2 = [7, 3, 10]\n",
        "\n",
        "# Création de données pour un scatter plot\n",
        "x = np.arange(0.0, 100, 2.0)   # np.arange permet de créer une liste de nombres espacés d'un pas défini (ici, on va de 2 en 2, 50 fois)\n",
        "y = x ** 1.3 + np.random.rand(*x.shape) * 30.0 # On crée une relation à peu près linéaire en x et y\n",
        "\n",
        "# Création de trois graphiques via plt.subplot()\n",
        "plt.figure(figsize=(10,10))\n",
        "\n",
        "## Création du pie chart\n",
        "plt.subplot(221)\n",
        "plt.pie(sizes, explode=explode,labels=labels, autopct='%1.1f%%',\n",
        "        shadow=True, startangle=90)\n",
        "\n",
        "## Création du bar chart\n",
        "plt.subplot(222)\n",
        "plt.bar(names, values_1)\n",
        "plt.bar(names, values_2, bottom=values_1)\n",
        "plt.title(names) # Création du titre\n",
        "plt.legend([\"values_1\", \"values_2\"]) # Création de légendes\n",
        "\n",
        "# Création du scatter plot\n",
        "plt.subplot(223)\n",
        "plt.scatter(x, y, s=area, c = c)\n",
        "\n",
        "plt.show()\n",
        "\n",
        "\n"
      ],
      "execution_count": 0,
      "outputs": []
    },
    {
      "cell_type": "code",
      "metadata": {
        "id": "XLfWvuFUGfng",
        "colab_type": "code",
        "outputId": "e572fc4a-e33b-4e8d-f979-4dbebc334648",
        "colab": {
          "base_uri": "https://localhost:8080/",
          "height": 53
        }
      },
      "source": [
        "from sklearn import datasets\n",
        "import pandas as pd\n",
        "data = datasets.california_housing.fetch_california_housing()\n",
        "#datas = data.get('data')\n",
        "#AveRooms = []\n",
        "#for item in datas:\n",
        "#  AveRooms.append(item[2])\n",
        "dataset = pd.DataFrame(data.data, columns = data.feature_names)\n",
        "AveRooms = dataset.AveRooms\n",
        "y = data.get('target')\n",
        "\n",
        "print(len(AveRooms))\n",
        "print(len(y))\n"
      ],
      "execution_count": 0,
      "outputs": [
        {
          "output_type": "stream",
          "text": [
            "20640\n",
            "20640\n"
          ],
          "name": "stdout"
        }
      ]
    },
    {
      "cell_type": "code",
      "metadata": {
        "id": "MBVEPDCgLgqJ",
        "colab_type": "code",
        "outputId": "aa68332e-ea50-47c3-9674-d887bfcf8424",
        "colab": {
          "base_uri": "https://localhost:8080/",
          "height": 455
        }
      },
      "source": [
        "data"
      ],
      "execution_count": 0,
      "outputs": [
        {
          "output_type": "execute_result",
          "data": {
            "text/plain": [
              "{'DESCR': '.. _california_housing_dataset:\\n\\nCalifornia Housing dataset\\n--------------------------\\n\\n**Data Set Characteristics:**\\n\\n    :Number of Instances: 20640\\n\\n    :Number of Attributes: 8 numeric, predictive attributes and the target\\n\\n    :Attribute Information:\\n        - MedInc        median income in block\\n        - HouseAge      median house age in block\\n        - AveRooms      average number of rooms\\n        - AveBedrms     average number of bedrooms\\n        - Population    block population\\n        - AveOccup      average house occupancy\\n        - Latitude      house block latitude\\n        - Longitude     house block longitude\\n\\n    :Missing Attribute Values: None\\n\\nThis dataset was obtained from the StatLib repository.\\nhttp://lib.stat.cmu.edu/datasets/\\n\\nThe target variable is the median house value for California districts.\\n\\nThis dataset was derived from the 1990 U.S. census, using one row per census\\nblock group. A block group is the smallest geographical unit for which the U.S.\\nCensus Bureau publishes sample data (a block group typically has a population\\nof 600 to 3,000 people).\\n\\nIt can be downloaded/loaded using the\\n:func:`sklearn.datasets.fetch_california_housing` function.\\n\\n.. topic:: References\\n\\n    - Pace, R. Kelley and Ronald Barry, Sparse Spatial Autoregressions,\\n      Statistics and Probability Letters, 33 (1997) 291-297\\n',\n",
              " 'data': array([[   8.3252    ,   41.        ,    6.98412698, ...,    2.55555556,\n",
              "           37.88      , -122.23      ],\n",
              "        [   8.3014    ,   21.        ,    6.23813708, ...,    2.10984183,\n",
              "           37.86      , -122.22      ],\n",
              "        [   7.2574    ,   52.        ,    8.28813559, ...,    2.80225989,\n",
              "           37.85      , -122.24      ],\n",
              "        ...,\n",
              "        [   1.7       ,   17.        ,    5.20554273, ...,    2.3256351 ,\n",
              "           39.43      , -121.22      ],\n",
              "        [   1.8672    ,   18.        ,    5.32951289, ...,    2.12320917,\n",
              "           39.43      , -121.32      ],\n",
              "        [   2.3886    ,   16.        ,    5.25471698, ...,    2.61698113,\n",
              "           39.37      , -121.24      ]]),\n",
              " 'feature_names': ['MedInc',\n",
              "  'HouseAge',\n",
              "  'AveRooms',\n",
              "  'AveBedrms',\n",
              "  'Population',\n",
              "  'AveOccup',\n",
              "  'Latitude',\n",
              "  'Longitude'],\n",
              " 'target': array([4.526, 3.585, 3.521, ..., 0.923, 0.847, 0.894])}"
            ]
          },
          "metadata": {
            "tags": []
          },
          "execution_count": 15
        }
      ]
    },
    {
      "cell_type": "code",
      "metadata": {
        "id": "nfQt00jBWqkX",
        "colab_type": "code",
        "colab": {}
      },
      "source": [
        "#AveRooms[\"constante\"] = 1\n",
        "#AveRooms"
      ],
      "execution_count": 0,
      "outputs": []
    },
    {
      "cell_type": "code",
      "metadata": {
        "id": "0_BYAavHHV-o",
        "colab_type": "code",
        "outputId": "a4b10ec9-e84c-4fa1-d28a-3a8054bd1c42",
        "colab": {
          "base_uri": "https://localhost:8080/",
          "height": 430
        }
      },
      "source": [
        "import statsmodels.regression.linear_model as ln\n",
        "from statsmodels.api import add_constant\n",
        "\n",
        "add_constant(AveRooms)\n",
        "\n",
        "#Ordinary least square\n",
        "reglin = ln.OLS\n",
        "#Définir une instance du modèle\n",
        "model = reglin(y, AveRooms)\n",
        "#estimation du modèle\n",
        "model_fit = model.fit()\n",
        "#Récap\n",
        "model_fit.summary()"
      ],
      "execution_count": 0,
      "outputs": [
        {
          "output_type": "execute_result",
          "data": {
            "text/html": [
              "<table class=\"simpletable\">\n",
              "<caption>OLS Regression Results</caption>\n",
              "<tr>\n",
              "  <th>Dep. Variable:</th>            <td>y</td>        <th>  R-squared (uncentered):</th>      <td>   0.681</td> \n",
              "</tr>\n",
              "<tr>\n",
              "  <th>Model:</th>                   <td>OLS</td>       <th>  Adj. R-squared (uncentered):</th> <td>   0.681</td> \n",
              "</tr>\n",
              "<tr>\n",
              "  <th>Method:</th>             <td>Least Squares</td>  <th>  F-statistic:       </th>          <td>4.411e+04</td>\n",
              "</tr>\n",
              "<tr>\n",
              "  <th>Date:</th>             <td>Mon, 23 Sep 2019</td> <th>  Prob (F-statistic):</th>           <td>  0.00</td>  \n",
              "</tr>\n",
              "<tr>\n",
              "  <th>Time:</th>                 <td>08:59:49</td>     <th>  Log-Likelihood:    </th>          <td> -35286.</td> \n",
              "</tr>\n",
              "<tr>\n",
              "  <th>No. Observations:</th>      <td> 20640</td>      <th>  AIC:               </th>          <td>7.057e+04</td>\n",
              "</tr>\n",
              "<tr>\n",
              "  <th>Df Residuals:</th>          <td> 20639</td>      <th>  BIC:               </th>          <td>7.058e+04</td>\n",
              "</tr>\n",
              "<tr>\n",
              "  <th>Df Model:</th>              <td>     1</td>      <th>                     </th>              <td> </td>    \n",
              "</tr>\n",
              "<tr>\n",
              "  <th>Covariance Type:</th>      <td>nonrobust</td>    <th>                     </th>              <td> </td>    \n",
              "</tr>\n",
              "</table>\n",
              "<table class=\"simpletable\">\n",
              "<tr>\n",
              "      <td></td>        <th>coef</th>     <th>std err</th>      <th>t</th>      <th>P>|t|</th>  <th>[0.025</th>    <th>0.975]</th>  \n",
              "</tr>\n",
              "<tr>\n",
              "  <th>AveRooms</th> <td>    0.3277</td> <td>    0.002</td> <td>  210.023</td> <td> 0.000</td> <td>    0.325</td> <td>    0.331</td>\n",
              "</tr>\n",
              "</table>\n",
              "<table class=\"simpletable\">\n",
              "<tr>\n",
              "  <th>Omnibus:</th>       <td>21187.933</td> <th>  Durbin-Watson:     </th>   <td>   0.482</td>  \n",
              "</tr>\n",
              "<tr>\n",
              "  <th>Prob(Omnibus):</th>  <td> 0.000</td>   <th>  Jarque-Bera (JB):  </th> <td>12079513.755</td>\n",
              "</tr>\n",
              "<tr>\n",
              "  <th>Skew:</th>           <td>-4.313</td>   <th>  Prob(JB):          </th>   <td>    0.00</td>  \n",
              "</tr>\n",
              "<tr>\n",
              "  <th>Kurtosis:</th>       <td>121.201</td>  <th>  Cond. No.          </th>   <td>    1.00</td>  \n",
              "</tr>\n",
              "</table><br/><br/>Warnings:<br/>[1] Standard Errors assume that the covariance matrix of the errors is correctly specified."
            ],
            "text/plain": [
              "<class 'statsmodels.iolib.summary.Summary'>\n",
              "\"\"\"\n",
              "                                 OLS Regression Results                                \n",
              "=======================================================================================\n",
              "Dep. Variable:                      y   R-squared (uncentered):                   0.681\n",
              "Model:                            OLS   Adj. R-squared (uncentered):              0.681\n",
              "Method:                 Least Squares   F-statistic:                          4.411e+04\n",
              "Date:                Mon, 23 Sep 2019   Prob (F-statistic):                        0.00\n",
              "Time:                        08:59:49   Log-Likelihood:                         -35286.\n",
              "No. Observations:               20640   AIC:                                  7.057e+04\n",
              "Df Residuals:                   20639   BIC:                                  7.058e+04\n",
              "Df Model:                           1                                                  \n",
              "Covariance Type:            nonrobust                                                  \n",
              "==============================================================================\n",
              "                 coef    std err          t      P>|t|      [0.025      0.975]\n",
              "------------------------------------------------------------------------------\n",
              "AveRooms       0.3277      0.002    210.023      0.000       0.325       0.331\n",
              "==============================================================================\n",
              "Omnibus:                    21187.933   Durbin-Watson:                   0.482\n",
              "Prob(Omnibus):                  0.000   Jarque-Bera (JB):         12079513.755\n",
              "Skew:                          -4.313   Prob(JB):                         0.00\n",
              "Kurtosis:                     121.201   Cond. No.                         1.00\n",
              "==============================================================================\n",
              "\n",
              "Warnings:\n",
              "[1] Standard Errors assume that the covariance matrix of the errors is correctly specified.\n",
              "\"\"\""
            ]
          },
          "metadata": {
            "tags": []
          },
          "execution_count": 37
        }
      ]
    },
    {
      "cell_type": "markdown",
      "metadata": {
        "id": "d7hVPYU4PxAJ",
        "colab_type": "text"
      },
      "source": [
        "Hypothèse: coeff = 0 => p-value est la probabilité que le résultat de la loi de student est supérieure à t\n",
        "\n",
        "---\n",
        "\n",
        "coeff = influence sur la valeur cible\n",
        "\n",
        "---\n",
        "\n",
        "\n",
        "t = t-statistic = coeff /(std-err)**2\n",
        "\n",
        "---\n",
        "\n",
        "\n",
        "si p-value est petite, plus on est sûr que le coefficient a un impact sur la variable cible.\n",
        "\n",
        "---\n",
        "\n",
        "\n",
        "exemple, si p-value <0.05 le coefficient est significatif\n",
        "\n",
        "---\n",
        "[0.025 \t0.975]   0.325 0.331 => 95% de chance que le coefficiet soit entre ces 2 valeurs\n"
      ]
    },
    {
      "cell_type": "code",
      "metadata": {
        "id": "dU2-jVEBRtR9",
        "colab_type": "code",
        "outputId": "4e1a905c-b410-4630-f3a1-7b07986922a4",
        "colab": {
          "base_uri": "https://localhost:8080/",
          "height": 269
        }
      },
      "source": [
        "import matplotlib.pyplot as plt\n",
        "\n",
        "y_pred = model_fit.predict(AveRooms)\n",
        "plt.scatter(AveRooms, y)\n",
        "plt.plot(AveRooms, y_pred, color = \"green\")\n",
        "\n",
        "plt.show()"
      ],
      "execution_count": 0,
      "outputs": [
        {
          "output_type": "display_data",
          "data": {
            "image/png": "[encoded data removed]",
            "text/plain": [
              "<Figure size 432x288 with 1 Axes>"
            ]
          },
          "metadata": {
            "tags": []
          }
        }
      ]
    },
    {
      "cell_type": "markdown",
      "metadata": {
        "id": "Gzz11MjBYxxO",
        "colab_type": "text"
      },
      "source": [
        "SST = Information totale\n",
        "\n",
        "---\n",
        "SSE = Info expliquée par notre modèle\n",
        "\n",
        "---\n",
        "SSR = Info Résiduelle (que nous n'avons pas réussi à expliquer)\n",
        "\n",
        "---\n",
        "R2 = 1-SSR/SST    R2 = 0 (modèle le plus simple)   R2 = 1 (modèle parfait)\n",
        "\n",
        "---\n",
        "\n",
        "R2 adj. = 1 - (n-1/n-p-1)*(1-R2)\n",
        "\n"
      ]
    },
    {
      "cell_type": "markdown",
      "metadata": {
        "id": "zXW63AuD3Y_r",
        "colab_type": "text"
      },
      "source": [
        ""
      ]
    },
    {
      "cell_type": "code",
      "metadata": {
        "id": "atBun7DfU5vG",
        "colab_type": "code",
        "colab": {}
      },
      "source": [
        "from sklearn.model_selection import train_test_split\n",
        "X_train, X_test, y_train, y_test = train_test_split(X, y, test_size = 0.3, random_state=42, stratify = y)"
      ],
      "execution_count": 0,
      "outputs": []
    },
    {
      "cell_type": "code",
      "metadata": {
        "id": "JWDVCwRCY6TG",
        "colab_type": "code",
        "colab": {}
      },
      "source": [
        "#Normalisation\n",
        "from sklearn.preprocessing import StandardScaler\n",
        "sc_x = StandardScaler()\n",
        "X = data[:-1]\n",
        "X = sc_x.fit_transform(X)\n",
        "X"
      ],
      "execution_count": 0,
      "outputs": []
    },
    {
      "cell_type": "code",
      "metadata": {
        "id": "U7bZu1Qnf7ou",
        "colab_type": "code",
        "colab": {}
      },
      "source": [
        "#Multi plots\n",
        "for i in range(len(data.columns)-1):\n",
        "  plt.figure(i)\n",
        "  sns.pointplot(x = data.columns[i], y = \"Outcome\", data = data)"
      ],
      "execution_count": 0,
      "outputs": []
    },
    {
      "cell_type": "code",
      "metadata": {
        "id": "_RTq61VyKdA3",
        "colab_type": "code",
        "colab": {}
      },
      "source": [
        "import matplotlib.pyplot as plt\n",
        "\n",
        "fig, axes = plt.subplots(ncols=5,nrows=3, sharex=True, sharey=True)\n",
        "\n",
        "for i, ax in enumerate(axes.flat):\n",
        "    #ax.scatter([i//2+1, i],[i,i//3])\n",
        "    #ax.add_image(lfw_people.images[i])\n",
        "    ax.imshow(lfw_people.images[i])\n",
        "plt.show()"
      ],
      "execution_count": 0,
      "outputs": []
    },
    {
      "cell_type": "code",
      "metadata": {
        "id": "jQc-Oo0phraV",
        "colab_type": "code",
        "colab": {}
      },
      "source": [
        "from sklearn.model_selection import GridSearchCV\n",
        "\n",
        "parameters = {\n",
        "    'n_estimators'      : np.arange(1,100),\n",
        "    #'max_depth'         : [8, 9, 10, 11, 12],\n",
        "    'random_state'      : [0],\n",
        "    'max_features': ['auto'],\n",
        "    'criterion' :['gini']\n",
        "}\n",
        "\n",
        "clfG = GridSearchCV(RandomForestClassifier(), parameters, cv=10, n_jobs=-1)\n",
        "clfG.fit(X_train, y_train)\n",
        "\n",
        "print(clfG.score(X_test, y_test))\n",
        "print(clfG.best_params_)\n",
        "\n",
        "#################################################\n",
        "from sklearn.model_selection import GridSearchCV\n",
        "regressor_ada = AdaBoostRegressor()\n",
        "parameters = {'n_estimators':[40,50,70, 100, 150, 200],\n",
        "              \"learning_rate\":[1.0, 0.9, 0.8, 0.7, 0.6, 0.5]}\n",
        "\n",
        "regressor_ada_best = GridSearchCV(regressor_ada, parameters)\n",
        "regressor_ada_best.fit(X_train, y_train)\n",
        "regressor_ada_best.best_params_\n",
        "regressor_ada_best.best_estimator_.score(X_test,y_test)"
      ],
      "execution_count": 0,
      "outputs": []
    },
    {
      "cell_type": "code",
      "metadata": {
        "id": "9EVTrIbvJccw",
        "colab_type": "code",
        "colab": {}
      },
      "source": [
        "from sklearn.metrics import confusion_matrix\n",
        "cm = confusion_matrix(y_test, y_pred)\n",
        "fig, ax = plt.subplots(figsize=(10,7))  \n",
        "sns.heatmap(cm, annot=True, fmt=\"d\", ax = ax)"
      ],
      "execution_count": 0,
      "outputs": []
    },
    {
      "cell_type": "code",
      "metadata": {
        "id": "5YU6v0XOsj51",
        "colab_type": "code",
        "colab": {}
      },
      "source": [
        "#ROC-AUC\n",
        "from sklearn.metrics import roc_auc_score\n",
        "from sklearn.metrics import roc_curve\n",
        "logit_roc_auc = roc_auc_score(y, logisticreg.predict(X))\n",
        "fpr, tpr, thresholds = roc_curve(y, logisticreg.predict_proba(X)[:,1])\n",
        "plt.figure()\n",
        "plt.plot(fpr, tpr, label='Logistic Regression (area = %0.2f)' % logit_roc_auc)\n",
        "plt.plot([0, 1], [0, 1],'r--')\n",
        "plt.xlim([0.0, 1.0])\n",
        "plt.ylim([0.0, 1.05])\n",
        "plt.xlabel('False Positive Rate')\n",
        "plt.ylabel('True Positive Rate')\n",
        "plt.title('Receiver operating characteristic')\n",
        "plt.legend(loc=\"lower right\")\n",
        "plt.savefig('Log_ROC')\n",
        "plt.show()"
      ],
      "execution_count": 0,
      "outputs": []
    },
    {
      "cell_type": "code",
      "metadata": {
        "id": "OFpRx1ss6WjY",
        "colab_type": "code",
        "colab": {}
      },
      "source": [
        ""
      ],
      "execution_count": 0,
      "outputs": []
    }
  ]
}