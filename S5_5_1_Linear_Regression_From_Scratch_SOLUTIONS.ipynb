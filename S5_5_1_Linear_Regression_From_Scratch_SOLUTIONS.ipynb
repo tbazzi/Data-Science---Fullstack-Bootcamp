{
  "nbformat": 4,
  "nbformat_minor": 0,
  "metadata": {
    "colab": {
      "name": "S5_5_1 Linear Regression From Scratch - SOLUTIONS.ipynb",
      "provenance": [],
      "collapsed_sections": [],
      "include_colab_link": true
    },
    "kernelspec": {
      "name": "python3",
      "display_name": "Python 3"
    }
  },
  "cells": [
    {
      "cell_type": "markdown",
      "metadata": {
        "id": "view-in-github",
        "colab_type": "text"
      },
      "source": [
        "<a href=\"https://colab.research.google.com/github/tbazzi/Data-Science---Fullstack-Bootcamp/blob/master/S5_5_1_Linear_Regression_From_Scratch_SOLUTIONS.ipynb\" target=\"_parent\"><img src=\"https://colab.research.google.com/assets/colab-badge.svg\" alt=\"Open In Colab\"/></a>"
      ]
    },
    {
      "cell_type": "markdown",
      "metadata": {
        "id": "OAW27oqRGbOp",
        "colab_type": "text"
      },
      "source": [
        "# Faire une régression Linéaire sans Scikit Learn\n",
        "\n"
      ]
    },
    {
      "cell_type": "markdown",
      "metadata": {
        "id": "dYaJBHGNGk3O",
        "colab_type": "text"
      },
      "source": [
        "Rien de tel pour comprendre une descnte de gradient que de la coder entièrement. Cela peut paraitre difficile à première vue mais ne vous en faites pas, nous allons vous guider pas à pas. \n",
        "\n",
        "N'hésitez pas à revenir sur votre cours de Machine Learning sur les régressions linéaires pour vous rafraichir la mémoire. \n",
        "\n",
        "Notre but va être de coder une régression linéaire simple de type : \n",
        "\n",
        "`f(x) = a*x + b`"
      ]
    },
    {
      "cell_type": "markdown",
      "metadata": {
        "id": "dFAeKaG2GuI_",
        "colab_type": "text"
      },
      "source": [
        "* Importez les librairies suivantes : \n",
        "  * Numpy "
      ]
    },
    {
      "cell_type": "code",
      "metadata": {
        "id": "9OHkKal3F3Su",
        "colab_type": "code",
        "colab": {}
      },
      "source": [
        "import numpy as np "
      ],
      "execution_count": 0,
      "outputs": []
    },
    {
      "cell_type": "markdown",
      "metadata": {
        "id": "7_za_8SvGz_j",
        "colab_type": "text"
      },
      "source": [
        "* Définissez une classe `Model` qui prendra deux méthodes : \n",
        "  1. `__init__(self)` qui va vous permettre de définir votre coefficient `a` et votre constante `b`. Ces coefficients seront initialisés de manière aléatoire grâce à Numpy (cf : `np.random.randn`)\n",
        "  2. `__call__(self, x)` qui va retourner `a*x + b`"
      ]
    },
    {
      "cell_type": "code",
      "metadata": {
        "id": "9yj54VrvGzZL",
        "colab_type": "code",
        "colab": {}
      },
      "source": [
        "class Model():\n",
        "  def __init__(self):\n",
        "    self.a = np.random.randn(1)\n",
        "    self.b = np.random.randn(1)\n",
        "  \n",
        "  def __call__(self, x):\n",
        "    return self.a * x + self.b"
      ],
      "execution_count": 0,
      "outputs": []
    },
    {
      "cell_type": "markdown",
      "metadata": {
        "id": "Uy2AancAImU6",
        "colab_type": "text"
      },
      "source": [
        "* Créez une instance de votre modèle "
      ]
    },
    {
      "cell_type": "code",
      "metadata": {
        "id": "BD_hpDRnIhAi",
        "colab_type": "code",
        "colab": {}
      },
      "source": [
        "model = Model()"
      ],
      "execution_count": 0,
      "outputs": []
    },
    {
      "cell_type": "markdown",
      "metadata": {
        "id": "vkltTi5mIsUz",
        "colab_type": "text"
      },
      "source": [
        "* Tentez de faire une première \"régression\" en mettant `model(3.0)`. \n",
        "NB : Si vous n'avez pas les même valeurs que ce notebook en output, c'est normal puisque vous avez initialisé vos valeurs aléatoirement "
      ]
    },
    {
      "cell_type": "code",
      "metadata": {
        "id": "K6TRkRHHIpj6",
        "colab_type": "code",
        "outputId": "157dcc43-c56b-4513-dd42-595d8f067432",
        "colab": {
          "base_uri": "https://localhost:8080/",
          "height": 34
        }
      },
      "source": [
        "model(3.0)"
      ],
      "execution_count": 0,
      "outputs": [
        {
          "output_type": "execute_result",
          "data": {
            "text/plain": [
              "array([4.23753995])"
            ]
          },
          "metadata": {
            "tags": []
          },
          "execution_count": 30
        }
      ]
    },
    {
      "cell_type": "markdown",
      "metadata": {
        "id": "WM4sjYAMI8SU",
        "colab_type": "text"
      },
      "source": [
        "* Cette valeur correspond à une prédiction aléatoire de votre modèle. Mais nous n'avons pas de données pour le moment. Cette fois, utilisons `sklearn` pour importer des données \n",
        "  * Importez `sklearn.datasets`\n",
        "  * Utilisez la fonction `load_diabetes()` pour charger le dataset du dabiète"
      ]
    },
    {
      "cell_type": "code",
      "metadata": {
        "id": "xhNwqKzxIqqH",
        "colab_type": "code",
        "outputId": "d7fcfc84-d18c-49b2-ef1e-841aa6447285",
        "colab": {
          "base_uri": "https://localhost:8080/",
          "height": 1000
        }
      },
      "source": [
        "from sklearn import datasets, linear_model\n",
        "\n",
        "# Load the diabetes dataset\n",
        "diabetes = datasets.load_diabetes()\n",
        "diabetes"
      ],
      "execution_count": 0,
      "outputs": [
        {
          "output_type": "execute_result",
          "data": {
            "text/plain": [
              "{'DESCR': '.. _diabetes_dataset:\\n\\nDiabetes dataset\\n----------------\\n\\nTen baseline variables, age, sex, body mass index, average blood\\npressure, and six blood serum measurements were obtained for each of n =\\n442 diabetes patients, as well as the response of interest, a\\nquantitative measure of disease progression one year after baseline.\\n\\n**Data Set Characteristics:**\\n\\n  :Number of Instances: 442\\n\\n  :Number of Attributes: First 10 columns are numeric predictive values\\n\\n  :Target: Column 11 is a quantitative measure of disease progression one year after baseline\\n\\n  :Attribute Information:\\n      - Age\\n      - Sex\\n      - Body mass index\\n      - Average blood pressure\\n      - S1\\n      - S2\\n      - S3\\n      - S4\\n      - S5\\n      - S6\\n\\nNote: Each of these 10 feature variables have been mean centered and scaled by the standard deviation times `n_samples` (i.e. the sum of squares of each column totals 1).\\n\\nSource URL:\\nhttps://www4.stat.ncsu.edu/~boos/var.select/diabetes.html\\n\\nFor more information see:\\nBradley Efron, Trevor Hastie, Iain Johnstone and Robert Tibshirani (2004) \"Least Angle Regression,\" Annals of Statistics (with discussion), 407-499.\\n(https://web.stanford.edu/~hastie/Papers/LARS/LeastAngle_2002.pdf)',\n",
              " 'data': array([[ 0.03807591,  0.05068012,  0.06169621, ..., -0.00259226,\n",
              "          0.01990842, -0.01764613],\n",
              "        [-0.00188202, -0.04464164, -0.05147406, ..., -0.03949338,\n",
              "         -0.06832974, -0.09220405],\n",
              "        [ 0.08529891,  0.05068012,  0.04445121, ..., -0.00259226,\n",
              "          0.00286377, -0.02593034],\n",
              "        ...,\n",
              "        [ 0.04170844,  0.05068012, -0.01590626, ..., -0.01107952,\n",
              "         -0.04687948,  0.01549073],\n",
              "        [-0.04547248, -0.04464164,  0.03906215, ...,  0.02655962,\n",
              "          0.04452837, -0.02593034],\n",
              "        [-0.04547248, -0.04464164, -0.0730303 , ..., -0.03949338,\n",
              "         -0.00421986,  0.00306441]]),\n",
              " 'data_filename': '/usr/local/lib/python3.6/dist-packages/sklearn/datasets/data/diabetes_data.csv.gz',\n",
              " 'feature_names': ['age',\n",
              "  'sex',\n",
              "  'bmi',\n",
              "  'bp',\n",
              "  's1',\n",
              "  's2',\n",
              "  's3',\n",
              "  's4',\n",
              "  's5',\n",
              "  's6'],\n",
              " 'target': array([151.,  75., 141., 206., 135.,  97., 138.,  63., 110., 310., 101.,\n",
              "         69., 179., 185., 118., 171., 166., 144.,  97., 168.,  68.,  49.,\n",
              "         68., 245., 184., 202., 137.,  85., 131., 283., 129.,  59., 341.,\n",
              "         87.,  65., 102., 265., 276., 252.,  90., 100.,  55.,  61.,  92.,\n",
              "        259.,  53., 190., 142.,  75., 142., 155., 225.,  59., 104., 182.,\n",
              "        128.,  52.,  37., 170., 170.,  61., 144.,  52., 128.,  71., 163.,\n",
              "        150.,  97., 160., 178.,  48., 270., 202., 111.,  85.,  42., 170.,\n",
              "        200., 252., 113., 143.,  51.,  52., 210.,  65., 141.,  55., 134.,\n",
              "         42., 111.,  98., 164.,  48.,  96.,  90., 162., 150., 279.,  92.,\n",
              "         83., 128., 102., 302., 198.,  95.,  53., 134., 144., 232.,  81.,\n",
              "        104.,  59., 246., 297., 258., 229., 275., 281., 179., 200., 200.,\n",
              "        173., 180.,  84., 121., 161.,  99., 109., 115., 268., 274., 158.,\n",
              "        107.,  83., 103., 272.,  85., 280., 336., 281., 118., 317., 235.,\n",
              "         60., 174., 259., 178., 128.,  96., 126., 288.,  88., 292.,  71.,\n",
              "        197., 186.,  25.,  84.,  96., 195.,  53., 217., 172., 131., 214.,\n",
              "         59.,  70., 220., 268., 152.,  47.,  74., 295., 101., 151., 127.,\n",
              "        237., 225.,  81., 151., 107.,  64., 138., 185., 265., 101., 137.,\n",
              "        143., 141.,  79., 292., 178.,  91., 116.,  86., 122.,  72., 129.,\n",
              "        142.,  90., 158.,  39., 196., 222., 277.,  99., 196., 202., 155.,\n",
              "         77., 191.,  70.,  73.,  49.,  65., 263., 248., 296., 214., 185.,\n",
              "         78.,  93., 252., 150.,  77., 208.,  77., 108., 160.,  53., 220.,\n",
              "        154., 259.,  90., 246., 124.,  67.,  72., 257., 262., 275., 177.,\n",
              "         71.,  47., 187., 125.,  78.,  51., 258., 215., 303., 243.,  91.,\n",
              "        150., 310., 153., 346.,  63.,  89.,  50.,  39., 103., 308., 116.,\n",
              "        145.,  74.,  45., 115., 264.,  87., 202., 127., 182., 241.,  66.,\n",
              "         94., 283.,  64., 102., 200., 265.,  94., 230., 181., 156., 233.,\n",
              "         60., 219.,  80.,  68., 332., 248.,  84., 200.,  55.,  85.,  89.,\n",
              "         31., 129.,  83., 275.,  65., 198., 236., 253., 124.,  44., 172.,\n",
              "        114., 142., 109., 180., 144., 163., 147.,  97., 220., 190., 109.,\n",
              "        191., 122., 230., 242., 248., 249., 192., 131., 237.,  78., 135.,\n",
              "        244., 199., 270., 164.,  72.,  96., 306.,  91., 214.,  95., 216.,\n",
              "        263., 178., 113., 200., 139., 139.,  88., 148.,  88., 243.,  71.,\n",
              "         77., 109., 272.,  60.,  54., 221.,  90., 311., 281., 182., 321.,\n",
              "         58., 262., 206., 233., 242., 123., 167.,  63., 197.,  71., 168.,\n",
              "        140., 217., 121., 235., 245.,  40.,  52., 104., 132.,  88.,  69.,\n",
              "        219.,  72., 201., 110.,  51., 277.,  63., 118.,  69., 273., 258.,\n",
              "         43., 198., 242., 232., 175.,  93., 168., 275., 293., 281.,  72.,\n",
              "        140., 189., 181., 209., 136., 261., 113., 131., 174., 257.,  55.,\n",
              "         84.,  42., 146., 212., 233.,  91., 111., 152., 120.,  67., 310.,\n",
              "         94., 183.,  66., 173.,  72.,  49.,  64.,  48., 178., 104., 132.,\n",
              "        220.,  57.]),\n",
              " 'target_filename': '/usr/local/lib/python3.6/dist-packages/sklearn/datasets/data/diabetes_target.csv.gz'}"
            ]
          },
          "metadata": {
            "tags": []
          },
          "execution_count": 31
        }
      ]
    },
    {
      "cell_type": "markdown",
      "metadata": {
        "id": "LJM9AOYjJ5z3",
        "colab_type": "text"
      },
      "source": [
        "* Nous avons trop de données dans ce dataset, prenez uniquement la troisième colonne du dataset et stockez la dans une variable `diabetes_X`"
      ]
    },
    {
      "cell_type": "code",
      "metadata": {
        "id": "yDg5Ykm4J06E",
        "colab_type": "code",
        "outputId": "4663077d-bae3-4034-f95b-f898e64b5201",
        "colab": {
          "base_uri": "https://localhost:8080/",
          "height": 34
        }
      },
      "source": [
        "# Use only one feature\n",
        "diabetes_X = diabetes.data[:,2]\n",
        "diabetes_X[:5]"
      ],
      "execution_count": 0,
      "outputs": [
        {
          "output_type": "execute_result",
          "data": {
            "text/plain": [
              "array([ 0.06169621, -0.05147406,  0.04445121, -0.01159501, -0.03638469])"
            ]
          },
          "metadata": {
            "tags": []
          },
          "execution_count": 32
        }
      ]
    },
    {
      "cell_type": "markdown",
      "metadata": {
        "id": "GIaz07XvLNOP",
        "colab_type": "text"
      },
      "source": [
        "* Stockez ensuite votre target dans une variable `y`"
      ]
    },
    {
      "cell_type": "code",
      "metadata": {
        "id": "gzNKO9JyLNp9",
        "colab_type": "code",
        "outputId": "2551634a-45c5-4a73-b2e7-bbb94e1a6047",
        "colab": {
          "base_uri": "https://localhost:8080/",
          "height": 34
        }
      },
      "source": [
        "y = diabetes.target\n",
        "y[:5]"
      ],
      "execution_count": 0,
      "outputs": [
        {
          "output_type": "execute_result",
          "data": {
            "text/plain": [
              "array([151.,  75., 141., 206., 135.])"
            ]
          },
          "metadata": {
            "tags": []
          },
          "execution_count": 33
        }
      ]
    },
    {
      "cell_type": "markdown",
      "metadata": {
        "id": "S4goQEJvKsS8",
        "colab_type": "text"
      },
      "source": [
        "* Visualisez vos données en utilisant `Matplotlib`"
      ]
    },
    {
      "cell_type": "code",
      "metadata": {
        "id": "8Mvb3tc8KHJJ",
        "colab_type": "code",
        "outputId": "679457ae-c040-4f55-81b2-5f6e1c512890",
        "colab": {
          "base_uri": "https://localhost:8080/",
          "height": 286
        }
      },
      "source": [
        "import matplotlib.pyplot as plt \n",
        "plt.scatter(diabetes_X, y)"
      ],
      "execution_count": 0,
      "outputs": [
        {
          "output_type": "execute_result",
          "data": {
            "text/plain": [
              "<matplotlib.collections.PathCollection at 0x7fc310a3c400>"
            ]
          },
          "metadata": {
            "tags": []
          },
          "execution_count": 34
        },
        {
          "output_type": "display_data",
          "data": {
            "image/png": "[encoded data removed]",
            "text/plain": [
              "<Figure size 432x288 with 1 Axes>"
            ]
          },
          "metadata": {
            "tags": []
          }
        }
      ]
    },
    {
      "cell_type": "markdown",
      "metadata": {
        "id": "DPi5j2qlLXPn",
        "colab_type": "text"
      },
      "source": [
        "* Il faut maintenant qu'on définisse une fonction de coût. Pour une régression linéaire, nous pourrions utiliser la méthode des moindres carrés. \n",
        "\n",
        "Pour cela, nous allons calculer la somme des distance entre la valeurs prédite de notre modèle et la valeur réelle et nous allons en calculer la moyenne. Autrement dit, nous aurons : \n",
        "\n",
        "`np.mean((model(input) - y)**2)`\n",
        "\n",
        "C'est ce qu'on peut appeler notre erreur moyenne ou l'écart moyen entre notre prédiction et les valeurs réelles. Notre but va être de minimiser cette fonction de coût. \n",
        "\n",
        "  * Créez donc cette fonction qu'on appellera `mse` (pour mean square error). Cette fonction prendra deux arguments `y_pred` & `y_true`"
      ]
    },
    {
      "cell_type": "code",
      "metadata": {
        "id": "wqWx5tEHK9ur",
        "colab_type": "code",
        "colab": {}
      },
      "source": [
        "def mse(y_pred, y_true):\n",
        "  return (np.sum((y_pred - y_true)**2))/len(y_pred)"
      ],
      "execution_count": 0,
      "outputs": []
    },
    {
      "cell_type": "markdown",
      "metadata": {
        "id": "69LJkKbCM-H6",
        "colab_type": "text"
      },
      "source": [
        "* Testez votre fonction en insérant `model(diabetes_X)` & `y` en argument "
      ]
    },
    {
      "cell_type": "code",
      "metadata": {
        "id": "ULoKIwiXMmft",
        "colab_type": "code",
        "outputId": "58132be9-34d5-4caf-83a0-eb1c55fc842e",
        "colab": {
          "base_uri": "https://localhost:8080/",
          "height": 34
        }
      },
      "source": [
        "np.sqrt(mse(model(diabetes_X), y))"
      ],
      "execution_count": 0,
      "outputs": [
        {
          "output_type": "execute_result",
          "data": {
            "text/plain": [
              "169.47610781765272"
            ]
          },
          "metadata": {
            "tags": []
          },
          "execution_count": 37
        }
      ]
    },
    {
      "cell_type": "markdown",
      "metadata": {
        "id": "zKSq1LcSNF2k",
        "colab_type": "text"
      },
      "source": [
        "* Visualisez votre régression par rapport à vos points "
      ]
    },
    {
      "cell_type": "code",
      "metadata": {
        "id": "magxD6QpM4hV",
        "colab_type": "code",
        "outputId": "3cc0cc31-7e60-4b4c-a7dc-6976c5151aff",
        "colab": {
          "base_uri": "https://localhost:8080/",
          "height": 269
        }
      },
      "source": [
        "plt.scatter(diabetes_X, y)\n",
        "plt.plot(diabetes_X,model(diabetes_X), \"r\")\n",
        "plt.show()"
      ],
      "execution_count": 0,
      "outputs": [
        {
          "output_type": "display_data",
          "data": {
            "image/png": "[encoded data removed]",
            "text/plain": [
              "<Figure size 432x288 with 1 Axes>"
            ]
          },
          "metadata": {
            "tags": []
          }
        }
      ]
    },
    {
      "cell_type": "markdown",
      "metadata": {
        "id": "b4t0xlPMwwuf",
        "colab_type": "text"
      },
      "source": [
        "* Il va falloir qu'on calcule les gradients pour notre variable `model.W` et notre constante `model.b`. Pour cela, il va falloir qu'on revoit nos formules de dérivées. Puisque nous ne sommes pas ici pour faire des mathématiques, nous allons vous donner ces formules. \n",
        "  * `derive_model_w = 2/len(y_pred)*np.sum((np.matrix(x) @ (y_pred - y_true)))`\n",
        "  * `derive_model_b = 2/len(y_pred)*(np.sum(y_pred - y_true))`\n",
        "\n",
        "  * N'hésitez pas à vous documenter sur cet article si vous souhaitez en savoir plus sur le calcul de la dérivée : [Gradient Descent Derivation](https://mccormickml.com/2014/03/04/gradient-descent-derivation/)\n",
        "\n",
        "\n",
        "  * En utilisant donc les formules ci-dessus, codez la première fonction `derivative_mse_x` qui prendra les arguments : \n",
        "    * `x` --> les valeurs pour votre variable X / `y_pred` --> les valeurs prédites par votre modèle / `y_true` --> les valeurs réelles à prédire\n"
      ]
    },
    {
      "cell_type": "code",
      "metadata": {
        "id": "JrVNZeiFnoDE",
        "colab_type": "code",
        "colab": {}
      },
      "source": [
        "# Calcul de la dérivée pour model.W\n",
        "def derivative_mse_a(y_pred, y_true, x):\n",
        "  return 2/len(y_pred)*np.sum((x @ (y_pred - y_true)))"
      ],
      "execution_count": 0,
      "outputs": []
    },
    {
      "cell_type": "markdown",
      "metadata": {
        "id": "wtno1PCmzGSy",
        "colab_type": "text"
      },
      "source": [
        "* Testez votre fonction "
      ]
    },
    {
      "cell_type": "code",
      "metadata": {
        "id": "n5Fgfu5En1Cl",
        "colab_type": "code",
        "outputId": "0bca73b5-c6d8-421d-9434-c6f94bcbff9b",
        "colab": {
          "base_uri": "https://localhost:8080/",
          "height": 34
        }
      },
      "source": [
        "derivative_mse_a(model(diabetes_X), y, diabetes_X)"
      ],
      "execution_count": 0,
      "outputs": [
        {
          "output_type": "execute_result",
          "data": {
            "text/plain": [
              "-4.29142685158642"
            ]
          },
          "metadata": {
            "tags": []
          },
          "execution_count": 40
        }
      ]
    },
    {
      "cell_type": "markdown",
      "metadata": {
        "id": "t7uluSUoy6x4",
        "colab_type": "text"
      },
      "source": [
        "* En utilisant donc les formules ci-dessus, codez maintenant la fonction derivative_mse_constant qui prendra les arguments :\n",
        "    * `y_pred` --> les valeurs prédites par votre modèle / `y_true` --> les valeurs réelles à prédire"
      ]
    },
    {
      "cell_type": "code",
      "metadata": {
        "id": "DjFHRuH8nMEH",
        "colab_type": "code",
        "colab": {}
      },
      "source": [
        "# Calcul de la dérivée pour model.b \n",
        "def derivative_mse_constant(y_pred, y_true):\n",
        "  return 2/len(y_pred)*(np.sum(y_pred - y_true))"
      ],
      "execution_count": 0,
      "outputs": []
    },
    {
      "cell_type": "markdown",
      "metadata": {
        "id": "4R9sfYPdzNYc",
        "colab_type": "text"
      },
      "source": [
        "* Testez votre fonction "
      ]
    },
    {
      "cell_type": "code",
      "metadata": {
        "id": "DPNk2cCol8sG",
        "colab_type": "code",
        "outputId": "4178cc6b-4fba-4161-a407-660482a5c4c3",
        "colab": {
          "base_uri": "https://localhost:8080/",
          "height": 34
        }
      },
      "source": [
        "derivative_mse_constant(model(diabetes_X), y)"
      ],
      "execution_count": 0,
      "outputs": [
        {
          "output_type": "execute_result",
          "data": {
            "text/plain": [
              "-301.97144551676683"
            ]
          },
          "metadata": {
            "tags": []
          },
          "execution_count": 44
        }
      ]
    },
    {
      "cell_type": "markdown",
      "metadata": {
        "id": "tmtfiOnszUqi",
        "colab_type": "text"
      },
      "source": [
        "* Nous allons tenter de voir si nous pouvons minimiser notre fonction de coût en utilisant les deux gradients du dessus. Pour mettre à jour nos variables, nous avons besoin de soustraire leur gradients respectifs. Ex : \n",
        "  * `param = param - learning_rate * gradient`\n",
        "\n",
        "  * Définissez un `learning_rate` à 0.1\n",
        "  * Tentez d'appliquer votre formule sur `model.a` et `model.b`"
      ]
    },
    {
      "cell_type": "code",
      "metadata": {
        "id": "WRROMSkNzvnI",
        "colab_type": "code",
        "outputId": "320a339f-72cd-4243-e812-7c0829934c39",
        "colab": {
          "base_uri": "https://localhost:8080/",
          "height": 86
        }
      },
      "source": [
        "lr = 0.1\n",
        "\n",
        "print(\"OLD model.a = {}\".format(model.a))\n",
        "print(\"OLD model.b = {}\".format(model.b))\n",
        "\n",
        "model.a -= lr * derivative_mse_a(model(diabetes_X), y, diabetes_X)\n",
        "model.b -= lr * derivative_mse_constant(model(diabetes_X), y)\n",
        "\n",
        "print(\"NEW model.a = {}\".format(model.a))\n",
        "print(\"NEW model.b = {}\".format(model.b))"
      ],
      "execution_count": 0,
      "outputs": [
        {
          "output_type": "stream",
          "text": [
            "OLD model.a = [1.45906887]\n",
            "OLD model.b = [31.34490596]\n",
            "NEW model.a = [1.88801737]\n",
            "NEW model.b = [55.5026216]\n"
          ],
          "name": "stdout"
        }
      ]
    },
    {
      "cell_type": "markdown",
      "metadata": {
        "id": "JaI_Zm-w0gxW",
        "colab_type": "text"
      },
      "source": [
        "* Calculez à nouveau votre MSE "
      ]
    },
    {
      "cell_type": "code",
      "metadata": {
        "id": "tz-ZBUTh0ixs",
        "colab_type": "code",
        "outputId": "c3b36352-cc23-4657-b816-3e30f3dc7661",
        "colab": {
          "base_uri": "https://localhost:8080/",
          "height": 34
        }
      },
      "source": [
        "mse(model(diabetes_X), y)"
      ],
      "execution_count": 0,
      "outputs": [
        {
          "output_type": "execute_result",
          "data": {
            "text/plain": [
              "15259.305474593475"
            ]
          },
          "metadata": {
            "tags": []
          },
          "execution_count": 48
        }
      ]
    },
    {
      "cell_type": "markdown",
      "metadata": {
        "id": "cCOgW_6N0nvt",
        "colab_type": "text"
      },
      "source": [
        "* Notre MSE a beaucoup baissé ! C'est une bonne nouvelle mais le processus de descente de gradient est itératif. Vous devrez donc le faire plusieurs fois avant d'arriver à des prédictions précises. \n",
        "  * En faisant une boucle, tentez de répéter le processus d'au-dessus 10000 fois \n",
        "  * Affichez toutes les 1000 epochs : la mse, model.W & model.b  "
      ]
    },
    {
      "cell_type": "code",
      "metadata": {
        "id": "N_Vxa_rlpxRU",
        "colab_type": "code",
        "colab": {}
      },
      "source": [
        "# Définission d'un learning rate et d'un nombre d'itérations \n",
        "lr = 0.5\n",
        "epochs = 10000"
      ],
      "execution_count": 0,
      "outputs": []
    },
    {
      "cell_type": "code",
      "metadata": {
        "id": "I7JLxLKLs0UG",
        "colab_type": "code",
        "outputId": "61f59bb8-f5ae-4d03-f676-1b182eb9d988",
        "colab": {
          "base_uri": "https://localhost:8080/",
          "height": 779
        }
      },
      "source": [
        "for epoch in range(epochs):\n",
        "  # Calcul de la loss\n",
        "  current_loss = mse(model(diabetes_X), y)\n",
        "  \n",
        "  # Mise à jour des variables \n",
        "  model.a -= lr * derivative_mse_a(model(diabetes_X), y, diabetes_X)\n",
        "  model.b -= lr * derivative_mse_constant(model(diabetes_X), y)\n",
        "\n",
        "  # Affichage des variables mises à jour \n",
        "  if epoch % 1000 == 0 or epoch == epochs - 1:\n",
        "    print(\"-------------------- Epoch {} --------------------\".format(epoch))\n",
        "    print(\"Current Loss: {}\".format(current_loss))\n",
        "    print(\"a = {}\".format(model.a))\n",
        "    print(\"b = {}\".format(model.b))"
      ],
      "execution_count": 0,
      "outputs": [
        {
          "output_type": "stream",
          "text": [
            "-------------------- Epoch 0 --------------------\n",
            "Current Loss: 26953.64363338708\n",
            "a = [949.43526038]\n",
            "b = [152.13348416]\n",
            "-------------------- Epoch 1000 --------------------\n",
            "Current Loss: 3890.4565854612715\n",
            "a = [949.43526038]\n",
            "b = [152.13348416]\n",
            "-------------------- Epoch 2000 --------------------\n",
            "Current Loss: 3890.4565854612715\n",
            "a = [949.43526038]\n",
            "b = [152.13348416]\n",
            "-------------------- Epoch 3000 --------------------\n",
            "Current Loss: 3890.4565854612715\n",
            "a = [949.43526038]\n",
            "b = [152.13348416]\n",
            "-------------------- Epoch 4000 --------------------\n",
            "Current Loss: 3890.4565854612715\n",
            "a = [949.43526038]\n",
            "b = [152.13348416]\n",
            "-------------------- Epoch 5000 --------------------\n",
            "Current Loss: 3890.4565854612715\n",
            "a = [949.43526038]\n",
            "b = [152.13348416]\n",
            "-------------------- Epoch 6000 --------------------\n",
            "Current Loss: 3890.4565854612715\n",
            "a = [949.43526038]\n",
            "b = [152.13348416]\n",
            "-------------------- Epoch 7000 --------------------\n",
            "Current Loss: 3890.4565854612715\n",
            "a = [949.43526038]\n",
            "b = [152.13348416]\n",
            "-------------------- Epoch 8000 --------------------\n",
            "Current Loss: 3890.4565854612715\n",
            "a = [949.43526038]\n",
            "b = [152.13348416]\n",
            "-------------------- Epoch 9000 --------------------\n",
            "Current Loss: 3890.4565854612715\n",
            "a = [949.43526038]\n",
            "b = [152.13348416]\n",
            "-------------------- Epoch 9999 --------------------\n",
            "Current Loss: 3890.4565854612715\n",
            "a = [949.43526038]\n",
            "b = [152.13348416]\n"
          ],
          "name": "stdout"
        }
      ]
    },
    {
      "cell_type": "code",
      "metadata": {
        "id": "2nkDJogdBiOV",
        "colab_type": "code",
        "outputId": "0960eeea-9439-470f-e55f-8c10f5330276",
        "colab": {
          "base_uri": "https://localhost:8080/",
          "height": 34
        }
      },
      "source": [
        "np.sqrt(3890)"
      ],
      "execution_count": 0,
      "outputs": [
        {
          "output_type": "execute_result",
          "data": {
            "text/plain": [
              "62.369864518050704"
            ]
          },
          "metadata": {
            "tags": []
          },
          "execution_count": 51
        }
      ]
    },
    {
      "cell_type": "markdown",
      "metadata": {
        "id": "eeXT-MEa1nGD",
        "colab_type": "text"
      },
      "source": [
        "* En utilisant `Matplotlib`, visualisez à nouveau votre modèle et vos valeurs réelles "
      ]
    },
    {
      "cell_type": "code",
      "metadata": {
        "id": "W-yIcFsltoDJ",
        "colab_type": "code",
        "outputId": "638e0657-71ba-42c7-ed9e-70f1c6555ebd",
        "colab": {
          "base_uri": "https://localhost:8080/",
          "height": 269
        }
      },
      "source": [
        "plt.scatter(diabetes_X, y)\n",
        "plt.plot(diabetes_X, model(diabetes_X), \"r\")\n",
        "plt.show()"
      ],
      "execution_count": 0,
      "outputs": [
        {
          "output_type": "display_data",
          "data": {
            "image/png": "[encoded data removed]",
            "text/plain": [
              "<Figure size 432x288 with 1 Axes>"
            ]
          },
          "metadata": {
            "tags": []
          }
        }
      ]
    },
    {
      "cell_type": "markdown",
      "metadata": {
        "id": "_zsSa40s1xZS",
        "colab_type": "text"
      },
      "source": [
        "**Nous avons cette fois une belle régression !** "
      ]
    }
  ]
}