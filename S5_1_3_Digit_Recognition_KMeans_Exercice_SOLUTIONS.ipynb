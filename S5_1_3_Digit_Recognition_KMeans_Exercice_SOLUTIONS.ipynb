{
  "nbformat": 4,
  "nbformat_minor": 0,
  "metadata": {
    "colab": {
      "name": "S5-1_3. Digit Recognition - KMeans Exercice SOLUTIONS.ipynb",
      "provenance": [],
      "collapsed_sections": [],
      "include_colab_link": true
    },
    "language_info": {
      "codemirror_mode": {
        "name": "ipython",
        "version": 3
      },
      "file_extension": ".py",
      "mimetype": "text/x-python",
      "name": "python",
      "nbconvert_exporter": "python",
      "pygments_lexer": "ipython3",
      "version": "3.6.6"
    },
    "kernelspec": {
      "display_name": "Python 3",
      "language": "python",
      "name": "python3"
    }
  },
  "cells": [
    {
      "cell_type": "markdown",
      "metadata": {
        "id": "view-in-github",
        "colab_type": "text"
      },
      "source": [
        "<a href=\"https://colab.research.google.com/github/tbazzi/Data-Science---Fullstack-Bootcamp/blob/master/S5_1_3_Digit_Recognition_KMeans_Exercice_SOLUTIONS.ipynb\" target=\"_parent\"><img src=\"https://colab.research.google.com/assets/colab-badge.svg\" alt=\"Open In Colab\"/></a>"
      ]
    },
    {
      "cell_type": "markdown",
      "metadata": {
        "id": "fSnU9yCOOUnW",
        "colab_type": "text"
      },
      "source": [
        "# Digit Recognition \n",
        "\n",
        "Vous pouvez tout à fait créer des clusters très utiles sans pour autant avoir des données labellisées. Testons avec MNIST\n"
      ]
    },
    {
      "cell_type": "markdown",
      "metadata": {
        "id": "VNGFxq7KOXBp",
        "colab_type": "text"
      },
      "source": [
        "0. Importez les librairies usuelles "
      ]
    },
    {
      "cell_type": "code",
      "metadata": {
        "id": "gMN32JWolV9K",
        "colab_type": "code",
        "colab": {}
      },
      "source": [
        "import pandas as pd \n",
        "import numpy as np\n",
        "import matplotlib.pyplot as plt\n",
        "from sklearn.datasets import load_digits"
      ],
      "execution_count": 0,
      "outputs": []
    },
    {
      "cell_type": "markdown",
      "metadata": {
        "id": "FIOFUuRFOa5f",
        "colab_type": "text"
      },
      "source": [
        "1. Dans Scikit Learn, importez _load_digit_"
      ]
    },
    {
      "cell_type": "code",
      "metadata": {
        "id": "DDi9yqDplV9Z",
        "colab_type": "code",
        "colab": {}
      },
      "source": [
        "numbers= load_digits()"
      ],
      "execution_count": 0,
      "outputs": []
    },
    {
      "cell_type": "markdown",
      "metadata": {
        "id": "ri6jKvA-Od-1",
        "colab_type": "text"
      },
      "source": [
        "2. Regardez la documentation [Load_digit](https://scikit-learn.org/stable/modules/generated/sklearn.datasets.load_digits.html) et stockez les nombres dans une variable _numbers_ et votre variable cible dans une variable _target_"
      ]
    },
    {
      "cell_type": "code",
      "metadata": {
        "id": "d-gbMbM_lV9i",
        "colab_type": "code",
        "colab": {}
      },
      "source": [
        "data = numbers.data \n",
        "target = numbers.target"
      ],
      "execution_count": 0,
      "outputs": []
    },
    {
      "cell_type": "code",
      "metadata": {
        "id": "8anRShZ4KRFr",
        "colab_type": "code",
        "outputId": "66fd1238-8f1a-4c13-bc19-9121698cfd46",
        "colab": {
          "base_uri": "https://localhost:8080/",
          "height": 134
        }
      },
      "source": [
        "data"
      ],
      "execution_count": 0,
      "outputs": [
        {
          "output_type": "execute_result",
          "data": {
            "text/plain": [
              "array([[ 0.,  0.,  5., ...,  0.,  0.,  0.],\n",
              "       [ 0.,  0.,  0., ..., 10.,  0.,  0.],\n",
              "       [ 0.,  0.,  0., ..., 16.,  9.,  0.],\n",
              "       ...,\n",
              "       [ 0.,  0.,  1., ...,  6.,  0.,  0.],\n",
              "       [ 0.,  0.,  2., ..., 12.,  0.,  0.],\n",
              "       [ 0.,  0., 10., ..., 12.,  1.,  0.]])"
            ]
          },
          "metadata": {
            "tags": []
          },
          "execution_count": 18
        }
      ]
    },
    {
      "cell_type": "markdown",
      "metadata": {
        "id": "iN4LkVIPOhoS",
        "colab_type": "text"
      },
      "source": [
        "3. Tentons de visualiser quelques nombres. Regardez d’abord la taille de votre dataset. Combien de colonnes voyez vous ? \n",
        "\n",
        "Devinez ensuite quelle taille d’image ce nombre de colonnes devraient donner"
      ]
    },
    {
      "cell_type": "code",
      "metadata": {
        "id": "JQNBj4D2lV9m",
        "colab_type": "code",
        "outputId": "83fc6ad5-f87d-4e0f-d815-6442b6cc35b8",
        "colab": {
          "base_uri": "https://localhost:8080/",
          "height": 34
        }
      },
      "source": [
        "# Connaître la taille d'une image \n",
        "data.shape"
      ],
      "execution_count": 0,
      "outputs": [
        {
          "output_type": "execute_result",
          "data": {
            "text/plain": [
              "(1797, 64)"
            ]
          },
          "metadata": {
            "tags": []
          },
          "execution_count": 19
        }
      ]
    },
    {
      "cell_type": "markdown",
      "metadata": {
        "id": "sJoRk-aLOrL-",
        "colab_type": "text"
      },
      "source": [
        "4. Regardez maintenant la documentation liée à [imshow](https://matplotlib.org/api/_as_gen/matplotlib.pyplot.imshow.html) de matplotlib. Essayez de visualiser un nombre au hasard. Ajoutez en légende, le nombre auquel cette image correspond. Essayez ensuite de visualiser 10 nombres au hasard dans le dataset"
      ]
    },
    {
      "cell_type": "code",
      "metadata": {
        "id": "A7ImzxA2lV9t",
        "colab_type": "code",
        "outputId": "f7211909-f69e-4ae1-d825-51e63a9d30e6",
        "colab": {
          "base_uri": "https://localhost:8080/",
          "height": 1000
        }
      },
      "source": [
        "## Visualisation de nombres aléatoire du dataset\n",
        "for i in np.random.randint(100, size=10):\n",
        "    plt.imshow(numbers.data[i].reshape(8,8))\n",
        "    plt.xlabel(\"Number : {}\".format(target[i]))\n",
        "    plt.show()"
      ],
      "execution_count": 0,
      "outputs": [
        {
          "output_type": "display_data",
          "data": {
            "image/png": "[encoded data removed]",
            "text/plain": [
              "<Figure size 432x288 with 1 Axes>"
            ]
          },
          "metadata": {
            "tags": []
          }
        },
        {
          "output_type": "display_data",
          "data": {
            "image/png": "[encoded data removed]",
            "text/plain": [
              "<Figure size 432x288 with 1 Axes>"
            ]
          },
          "metadata": {
            "tags": []
          }
        },
        {
          "output_type": "display_data",
          "data": {
            "image/png": "[encoded data removed]",
            "text/plain": [
              "<Figure size 432x288 with 1 Axes>"
            ]
          },
          "metadata": {
            "tags": []
          }
        },
        {
          "output_type": "display_data",
          "data": {
            "image/png": "[encoded data removed]",
            "text/plain": [
              "<Figure size 432x288 with 1 Axes>"
            ]
          },
          "metadata": {
            "tags": []
          }
        },
        {
          "output_type": "display_data",
          "data": {
            "image/png": "[encoded data removed]",
            "text/plain": [
              "<Figure size 432x288 with 1 Axes>"
            ]
          },
          "metadata": {
            "tags": []
          }
        },
        {
          "output_type": "display_data",
          "data": {
            "image/png": "[encoded data removed]",
            "text/plain": [
              "<Figure size 432x288 with 1 Axes>"
            ]
          },
          "metadata": {
            "tags": []
          }
        },
        {
          "output_type": "display_data",
          "data": {
            "image/png": "[encoded data removed]",
            "text/plain": [
              "<Figure size 432x288 with 1 Axes>"
            ]
          },
          "metadata": {
            "tags": []
          }
        },
        {
          "output_type": "display_data",
          "data": {
            "image/png": "[encoded data removed]",
            "text/plain": [
              "<Figure size 432x288 with 1 Axes>"
            ]
          },
          "metadata": {
            "tags": []
          }
        },
        {
          "output_type": "display_data",
          "data": {
            "image/png": "[encoded data removed]",
            "text/plain": [
              "<Figure size 432x288 with 1 Axes>"
            ]
          },
          "metadata": {
            "tags": []
          }
        },
        {
          "output_type": "display_data",
          "data": {
            "image/png": "[encoded data removed]",
            "text/plain": [
              "<Figure size 432x288 with 1 Axes>"
            ]
          },
          "metadata": {
            "tags": []
          }
        }
      ]
    },
    {
      "cell_type": "markdown",
      "metadata": {
        "id": "LiER_e2HOuOF",
        "colab_type": "text"
      },
      "source": [
        "5. On va appliquer les KMeans sur notre dataset, à votre avis, à combien de clusters va-t-on initialiser l’algorithme ?"
      ]
    },
    {
      "cell_type": "markdown",
      "metadata": {
        "id": "Z8qi4I7ePQXW",
        "colab_type": "text"
      },
      "source": [
        "---> 10 puisqu'on a 10 chiffres dans le dataset ! "
      ]
    },
    {
      "cell_type": "markdown",
      "metadata": {
        "id": "hqq_5zd3PTrj",
        "colab_type": "text"
      },
      "source": [
        "6. Créez votre algorithme de KMeans avec le bon nombre de clusters"
      ]
    },
    {
      "cell_type": "code",
      "metadata": {
        "id": "5CvG1flLlV9y",
        "colab_type": "code",
        "colab": {}
      },
      "source": [
        "from sklearn.cluster import KMeans\n",
        "kmeans = KMeans(init='k-means++', n_clusters=10)"
      ],
      "execution_count": 0,
      "outputs": []
    },
    {
      "cell_type": "markdown",
      "metadata": {
        "id": "1rJCh7eiPXaR",
        "colab_type": "text"
      },
      "source": [
        "7. Evaluons notre modèle, calculons l’_accuracy_score_ de nos prédictions en important le module de sklearn. Que concluez-vous ?"
      ]
    },
    {
      "cell_type": "code",
      "metadata": {
        "id": "yuWld3D1lV91",
        "colab_type": "code",
        "colab": {}
      },
      "source": [
        "clusters = kmeans.fit_predict(data)"
      ],
      "execution_count": 0,
      "outputs": []
    },
    {
      "cell_type": "code",
      "metadata": {
        "id": "HwuQgCrxlV96",
        "colab_type": "code",
        "outputId": "c937a1dc-8a14-4701-aaef-1fb4f679a387",
        "colab": {
          "base_uri": "https://localhost:8080/",
          "height": 34
        }
      },
      "source": [
        "# Problème d'accuracy\n",
        "from sklearn.metrics import accuracy_score\n",
        "accuracy_score(clusters, target)"
      ],
      "execution_count": 0,
      "outputs": [
        {
          "output_type": "execute_result",
          "data": {
            "text/plain": [
              "0.010573177518085699"
            ]
          },
          "metadata": {
            "tags": []
          },
          "execution_count": 23
        }
      ]
    },
    {
      "cell_type": "markdown",
      "metadata": {
        "id": "LCClpxDePh4F",
        "colab_type": "text"
      },
      "source": [
        "8. Regardez les coordonnées des centroïds (cf. [cluster_center_](http://lijiancheng0614.github.io/scikit-learn/modules/generated/sklearn.cluster.KMeans.html))"
      ]
    },
    {
      "cell_type": "markdown",
      "metadata": {
        "id": "d-NS7L53Plnz",
        "colab_type": "text"
      },
      "source": [
        "9. Essayez de visualiser chacun des centroïds et comparez les avec les différents labels. Que remarquez vous ?"
      ]
    },
    {
      "cell_type": "code",
      "metadata": {
        "id": "tXpUTbNwlV9_",
        "colab_type": "code",
        "outputId": "71636e53-b43e-4e25-e366-2f4cc3146135",
        "colab": {
          "base_uri": "https://localhost:8080/",
          "height": 1000
        }
      },
      "source": [
        "# Visualisation des centroïds\n",
        "for i in range(10):\n",
        "    plt.imshow(kmeans.cluster_centers_.reshape(10,8,8)[i])\n",
        "    plt.xlabel(\"Label : {}\".format(i))\n",
        "    plt.show()"
      ],
      "execution_count": 0,
      "outputs": [
        {
          "output_type": "display_data",
          "data": {
            "image/png": "[encoded data removed]",
            "text/plain": [
              "<Figure size 432x288 with 1 Axes>"
            ]
          },
          "metadata": {
            "tags": []
          }
        },
        {
          "output_type": "display_data",
          "data": {
            "image/png": "[encoded data removed]",
            "text/plain": [
              "<Figure size 432x288 with 1 Axes>"
            ]
          },
          "metadata": {
            "tags": []
          }
        },
        {
          "output_type": "display_data",
          "data": {
            "image/png": "[encoded data removed]",
            "text/plain": [
              "<Figure size 432x288 with 1 Axes>"
            ]
          },
          "metadata": {
            "tags": []
          }
        },
        {
          "output_type": "display_data",
          "data": {
            "image/png": "[encoded data removed]",
            "text/plain": [
              "<Figure size 432x288 with 1 Axes>"
            ]
          },
          "metadata": {
            "tags": []
          }
        },
        {
          "output_type": "display_data",
          "data": {
            "image/png": "[encoded data removed]",
            "text/plain": [
              "<Figure size 432x288 with 1 Axes>"
            ]
          },
          "metadata": {
            "tags": []
          }
        },
        {
          "output_type": "display_data",
          "data": {
            "image/png": "[encoded data removed]",
            "text/plain": [
              "<Figure size 432x288 with 1 Axes>"
            ]
          },
          "metadata": {
            "tags": []
          }
        },
        {
          "output_type": "display_data",
          "data": {
            "image/png": "[encoded data removed]",
            "text/plain": [
              "<Figure size 432x288 with 1 Axes>"
            ]
          },
          "metadata": {
            "tags": []
          }
        },
        {
          "output_type": "display_data",
          "data": {
            "image/png": "[encoded data removed]",
            "text/plain": [
              "<Figure size 432x288 with 1 Axes>"
            ]
          },
          "metadata": {
            "tags": []
          }
        },
        {
          "output_type": "display_data",
          "data": {
            "image/png": "[encoded data removed]",
            "text/plain": [
              "<Figure size 432x288 with 1 Axes>"
            ]
          },
          "metadata": {
            "tags": []
          }
        },
        {
          "output_type": "display_data",
          "data": {
            "image/png": "[encoded data removed]",
            "text/plain": [
              "<Figure size 432x288 with 1 Axes>"
            ]
          },
          "metadata": {
            "tags": []
          }
        }
      ]
    },
    {
      "cell_type": "markdown",
      "metadata": {
        "id": "Wq_UnYN_PnwD",
        "colab_type": "text"
      },
      "source": [
        "----> Il y a l'air d'avoir des bonnes prédictions ! Il semblerait simplement que les centroïds ne correspondent pas forcément au label. "
      ]
    },
    {
      "cell_type": "markdown",
      "metadata": {
        "id": "t4i9ctY6Pydc",
        "colab_type": "text"
      },
      "source": [
        "10. Trouver un moyen de remettre les choses dans l’ordre. Voici quelques indices :\n",
        "\n",
        "    a. Regardez dans quel cluster appartient le plus de chiffres similaires de la variable _target_\n",
        "   "
      ]
    },
    {
      "cell_type": "code",
      "metadata": {
        "id": "zNTtqjSslV-H",
        "colab_type": "code",
        "outputId": "af477d21-545a-4997-ef37-d35db3b4dd6e",
        "colab": {
          "base_uri": "https://localhost:8080/",
          "height": 168
        }
      },
      "source": [
        "# Regardons dans quel clusters appartients chacun des chiffres \n",
        "target[clusters==1]\n",
        "\n",
        "# Dans cet exemple, on peut voir qu'il y a l'air d'avoir que des deux qui appartiennent au cluster 1"
      ],
      "execution_count": 0,
      "outputs": [
        {
          "output_type": "execute_result",
          "data": {
            "text/plain": [
              "array([6, 6, 6, 6, 6, 6, 6, 6, 6, 6, 6, 6, 6, 6, 6, 6, 6, 6, 6, 6, 6, 6,\n",
              "       6, 6, 6, 6, 6, 6, 6, 6, 6, 6, 6, 6, 6, 6, 6, 6, 6, 6, 6, 6, 6, 6,\n",
              "       6, 6, 6, 6, 6, 6, 6, 6, 6, 1, 8, 6, 6, 6, 6, 1, 6, 6, 6, 6, 6, 6,\n",
              "       6, 6, 6, 6, 6, 6, 6, 6, 6, 6, 6, 6, 6, 8, 6, 6, 6, 6, 6, 6, 6, 6,\n",
              "       6, 6, 6, 6, 6, 6, 6, 6, 6, 6, 6, 6, 6, 6, 6, 6, 6, 6, 6, 6, 6, 6,\n",
              "       6, 6, 6, 6, 6, 6, 6, 6, 6, 6, 6, 6, 6, 6, 6, 6, 6, 6, 6, 6, 6, 6,\n",
              "       6, 6, 6, 6, 6, 6, 5, 6, 6, 6, 6, 6, 6, 6, 6, 6, 6, 6, 6, 6, 6, 6,\n",
              "       6, 6, 6, 6, 6, 6, 6, 6, 6, 6, 6, 6, 6, 6, 6, 6, 6, 6, 6, 6, 6, 6,\n",
              "       6, 6, 6, 6, 6, 6])"
            ]
          },
          "metadata": {
            "tags": []
          },
          "execution_count": 25
        }
      ]
    },
    {
      "cell_type": "code",
      "metadata": {
        "id": "wsPiutxxlV-N",
        "colab_type": "code",
        "colab": {}
      },
      "source": [
        "# Généralisons : Il faut en fait trouver le mode de chacun des arrays correspond au cluster qu'on souhaite\n",
        "from scipy.stats import mode\n",
        "\n",
        "labels = np.zeros_like(clusters)\n",
        "for i in range(10):\n",
        "    mask = (clusters == i)\n",
        "    labels[mask] = mode(target[mask])[0]"
      ],
      "execution_count": 0,
      "outputs": []
    },
    {
      "cell_type": "markdown",
      "metadata": {
        "id": "hlYoXUKZP9Tm",
        "colab_type": "text"
      },
      "source": [
        "11. Réévaluez votre modèle. Quel est votre nouvel *accuracy_score* ?"
      ]
    },
    {
      "cell_type": "code",
      "metadata": {
        "id": "S-AofajLlV-S",
        "colab_type": "code",
        "outputId": "8210a820-d0d3-47f7-a8e3-27df6b625a7e",
        "colab": {
          "base_uri": "https://localhost:8080/",
          "height": 34
        }
      },
      "source": [
        "# Nouvelle d'accuracy\n",
        "from sklearn.metrics import accuracy_score\n",
        "accuracy_score(labels, target)"
      ],
      "execution_count": 0,
      "outputs": [
        {
          "output_type": "execute_result",
          "data": {
            "text/plain": [
              "0.7935447968836951"
            ]
          },
          "metadata": {
            "tags": []
          },
          "execution_count": 27
        }
      ]
    },
    {
      "cell_type": "markdown",
      "metadata": {
        "id": "Rgv3pdWxQOIg",
        "colab_type": "text"
      },
      "source": [
        "12. Regardez les chiffres où notre algorithme s’est le plus trompé via une matrice de confusion"
      ]
    },
    {
      "cell_type": "code",
      "metadata": {
        "id": "Z6g5GmzglV-Z",
        "colab_type": "code",
        "outputId": "14d8dce3-39d9-4727-e98f-3560e590f401",
        "colab": {
          "base_uri": "https://localhost:8080/",
          "height": 283
        }
      },
      "source": [
        "# Visualisation de notre CM\n",
        "import seaborn as sns\n",
        "from sklearn.metrics import confusion_matrix\n",
        "mat = confusion_matrix(target, labels)\n",
        "sns.heatmap(mat, square=True, annot=True, fmt='d', cbar=False,\n",
        "            xticklabels=numbers.target_names,\n",
        "            yticklabels=numbers.target_names)\n",
        "plt.xlabel('true label')\n",
        "plt.ylabel('predicted label');"
      ],
      "execution_count": 0,
      "outputs": [
        {
          "output_type": "display_data",
          "data": {
            "image/png": "[encoded data removed]",
            "text/plain": [
              "<Figure size 432x288 with 1 Axes>"
            ]
          },
          "metadata": {
            "tags": []
          }
        }
      ]
    },
    {
      "cell_type": "code",
      "metadata": {
        "id": "y717teiZlV-i",
        "colab_type": "code",
        "colab": {}
      },
      "source": [
        ""
      ],
      "execution_count": 0,
      "outputs": []
    }
  ]
}