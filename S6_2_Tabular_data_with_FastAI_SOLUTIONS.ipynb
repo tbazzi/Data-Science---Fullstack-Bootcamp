{
  "nbformat": 4,
  "nbformat_minor": 0,
  "metadata": {
    "colab": {
      "name": "S6_2_Tabular data with FastAI - SOLUTIONS.ipynb",
      "provenance": [],
      "include_colab_link": true
    },
    "kernelspec": {
      "name": "python3",
      "display_name": "Python 3"
    }
  },
  "cells": [
    {
      "cell_type": "markdown",
      "metadata": {
        "id": "view-in-github",
        "colab_type": "text"
      },
      "source": [
        "<a href=\"https://colab.research.google.com/github/tbazzi/Data-Science---Fullstack-Bootcamp/blob/master/S6_2_Tabular_data_with_FastAI_SOLUTIONS.ipynb\" target=\"_parent\"><img src=\"https://colab.research.google.com/assets/colab-badge.svg\" alt=\"Open In Colab\"/></a>"
      ]
    },
    {
      "cell_type": "markdown",
      "metadata": {
        "id": "IGRZsE4Zp-KG",
        "colab_type": "text"
      },
      "source": [
        "# Tabular Data with FastAI \n",
        "\n",
        "Le Deep Learning s'applique parfois bien aux datasets que nous avons l'habitude de traiter. Leur vrai avantage est de nous éviter beaucoup de préprocessing. Voyons cela avec le dataset d'IBM\n",
        "\n"
      ]
    },
    {
      "cell_type": "markdown",
      "metadata": {
        "id": "MISHzqzUqWxj",
        "colab_type": "text"
      },
      "source": [
        "1. Importez la librairie ```fastai.tabular```"
      ]
    },
    {
      "cell_type": "code",
      "metadata": {
        "id": "3CZ5-XtQpzIb",
        "colab_type": "code",
        "colab": {}
      },
      "source": [
        "from fastai.tabular import *"
      ],
      "execution_count": 0,
      "outputs": []
    },
    {
      "cell_type": "markdown",
      "metadata": {
        "id": "0kBa3Eqmqcwv",
        "colab_type": "text"
      },
      "source": [
        "2. Importez le dataset IBM HR Attrition.csv et stockez le dans un DataFrame "
      ]
    },
    {
      "cell_type": "code",
      "metadata": {
        "id": "nPMO4BNPqlz6",
        "colab_type": "code",
        "outputId": "dd7c9d42-c603-49c9-bd83-d7b71b4890ab",
        "colab": {
          "base_uri": "https://localhost:8080/",
          "height": 308
        }
      },
      "source": [
        "import pandas as pd\n",
        "dataset = pd.read_csv(\"https://raw.githubusercontent.com/JedhaBootcamp/FULL_STACK_12_WEEK_PROGRAM/master/S0.6%20--%20Deep%20Learning%20-%20Les%20diff%C3%A9rents%20R%C3%A9seaux%20de%20Neurones%20%26%20FASTAI/S6-3%20--%20Introduction%20%C3%A0%20FASTAI/2.%20Exercices/IBM_HR_ATTRITION.csv?token=AFB53D3EMSLVUDENN3ODGVS5V3X7E\")\n",
        "dataset.head()"
      ],
      "execution_count": 0,
      "outputs": [
        {
          "output_type": "execute_result",
          "data": {
            "text/html": [
              "<div>\n",
              "<style scoped>\n",
              "    .dataframe tbody tr th:only-of-type {\n",
              "        vertical-align: middle;\n",
              "    }\n",
              "\n",
              "    .dataframe tbody tr th {\n",
              "        vertical-align: top;\n",
              "    }\n",
              "\n",
              "    .dataframe thead th {\n",
              "        text-align: right;\n",
              "    }\n",
              "</style>\n",
              "<table border=\"1\" class=\"dataframe\">\n",
              "  <thead>\n",
              "    <tr style=\"text-align: right;\">\n",
              "      <th></th>\n",
              "      <th>Age</th>\n",
              "      <th>Attrition</th>\n",
              "      <th>BusinessTravel</th>\n",
              "      <th>DailyRate</th>\n",
              "      <th>Department</th>\n",
              "      <th>DistanceFromHome</th>\n",
              "      <th>Education</th>\n",
              "      <th>EducationField</th>\n",
              "      <th>EmployeeCount</th>\n",
              "      <th>EmployeeNumber</th>\n",
              "      <th>EnvironmentSatisfaction</th>\n",
              "      <th>Gender</th>\n",
              "      <th>HourlyRate</th>\n",
              "      <th>JobInvolvement</th>\n",
              "      <th>JobLevel</th>\n",
              "      <th>JobRole</th>\n",
              "      <th>JobSatisfaction</th>\n",
              "      <th>MaritalStatus</th>\n",
              "      <th>MonthlyIncome</th>\n",
              "      <th>MonthlyRate</th>\n",
              "      <th>NumCompaniesWorked</th>\n",
              "      <th>Over18</th>\n",
              "      <th>OverTime</th>\n",
              "      <th>PercentSalaryHike</th>\n",
              "      <th>PerformanceRating</th>\n",
              "      <th>RelationshipSatisfaction</th>\n",
              "      <th>StandardHours</th>\n",
              "      <th>StockOptionLevel</th>\n",
              "      <th>TotalWorkingYears</th>\n",
              "      <th>TrainingTimesLastYear</th>\n",
              "      <th>WorkLifeBalance</th>\n",
              "      <th>YearsAtCompany</th>\n",
              "      <th>YearsInCurrentRole</th>\n",
              "      <th>YearsSinceLastPromotion</th>\n",
              "      <th>YearsWithCurrManager</th>\n",
              "    </tr>\n",
              "  </thead>\n",
              "  <tbody>\n",
              "    <tr>\n",
              "      <th>0</th>\n",
              "      <td>41</td>\n",
              "      <td>Yes</td>\n",
              "      <td>Travel_Rarely</td>\n",
              "      <td>1102</td>\n",
              "      <td>Sales</td>\n",
              "      <td>1</td>\n",
              "      <td>2</td>\n",
              "      <td>Life Sciences</td>\n",
              "      <td>1</td>\n",
              "      <td>1</td>\n",
              "      <td>2</td>\n",
              "      <td>Female</td>\n",
              "      <td>94</td>\n",
              "      <td>3</td>\n",
              "      <td>2</td>\n",
              "      <td>Sales Executive</td>\n",
              "      <td>4</td>\n",
              "      <td>Single</td>\n",
              "      <td>5993</td>\n",
              "      <td>19479</td>\n",
              "      <td>8</td>\n",
              "      <td>Y</td>\n",
              "      <td>Yes</td>\n",
              "      <td>11</td>\n",
              "      <td>3</td>\n",
              "      <td>1</td>\n",
              "      <td>80</td>\n",
              "      <td>0</td>\n",
              "      <td>8</td>\n",
              "      <td>0</td>\n",
              "      <td>1</td>\n",
              "      <td>6</td>\n",
              "      <td>4</td>\n",
              "      <td>0</td>\n",
              "      <td>5</td>\n",
              "    </tr>\n",
              "    <tr>\n",
              "      <th>1</th>\n",
              "      <td>49</td>\n",
              "      <td>No</td>\n",
              "      <td>Travel_Frequently</td>\n",
              "      <td>279</td>\n",
              "      <td>Research &amp; Development</td>\n",
              "      <td>8</td>\n",
              "      <td>1</td>\n",
              "      <td>Life Sciences</td>\n",
              "      <td>1</td>\n",
              "      <td>2</td>\n",
              "      <td>3</td>\n",
              "      <td>Male</td>\n",
              "      <td>61</td>\n",
              "      <td>2</td>\n",
              "      <td>2</td>\n",
              "      <td>Research Scientist</td>\n",
              "      <td>2</td>\n",
              "      <td>Married</td>\n",
              "      <td>5130</td>\n",
              "      <td>24907</td>\n",
              "      <td>1</td>\n",
              "      <td>Y</td>\n",
              "      <td>No</td>\n",
              "      <td>23</td>\n",
              "      <td>4</td>\n",
              "      <td>4</td>\n",
              "      <td>80</td>\n",
              "      <td>1</td>\n",
              "      <td>10</td>\n",
              "      <td>3</td>\n",
              "      <td>3</td>\n",
              "      <td>10</td>\n",
              "      <td>7</td>\n",
              "      <td>1</td>\n",
              "      <td>7</td>\n",
              "    </tr>\n",
              "    <tr>\n",
              "      <th>2</th>\n",
              "      <td>37</td>\n",
              "      <td>Yes</td>\n",
              "      <td>Travel_Rarely</td>\n",
              "      <td>1373</td>\n",
              "      <td>Research &amp; Development</td>\n",
              "      <td>2</td>\n",
              "      <td>2</td>\n",
              "      <td>Other</td>\n",
              "      <td>1</td>\n",
              "      <td>4</td>\n",
              "      <td>4</td>\n",
              "      <td>Male</td>\n",
              "      <td>92</td>\n",
              "      <td>2</td>\n",
              "      <td>1</td>\n",
              "      <td>Laboratory Technician</td>\n",
              "      <td>3</td>\n",
              "      <td>Single</td>\n",
              "      <td>2090</td>\n",
              "      <td>2396</td>\n",
              "      <td>6</td>\n",
              "      <td>Y</td>\n",
              "      <td>Yes</td>\n",
              "      <td>15</td>\n",
              "      <td>3</td>\n",
              "      <td>2</td>\n",
              "      <td>80</td>\n",
              "      <td>0</td>\n",
              "      <td>7</td>\n",
              "      <td>3</td>\n",
              "      <td>3</td>\n",
              "      <td>0</td>\n",
              "      <td>0</td>\n",
              "      <td>0</td>\n",
              "      <td>0</td>\n",
              "    </tr>\n",
              "    <tr>\n",
              "      <th>3</th>\n",
              "      <td>33</td>\n",
              "      <td>No</td>\n",
              "      <td>Travel_Frequently</td>\n",
              "      <td>1392</td>\n",
              "      <td>Research &amp; Development</td>\n",
              "      <td>3</td>\n",
              "      <td>4</td>\n",
              "      <td>Life Sciences</td>\n",
              "      <td>1</td>\n",
              "      <td>5</td>\n",
              "      <td>4</td>\n",
              "      <td>Female</td>\n",
              "      <td>56</td>\n",
              "      <td>3</td>\n",
              "      <td>1</td>\n",
              "      <td>Research Scientist</td>\n",
              "      <td>3</td>\n",
              "      <td>Married</td>\n",
              "      <td>2909</td>\n",
              "      <td>23159</td>\n",
              "      <td>1</td>\n",
              "      <td>Y</td>\n",
              "      <td>Yes</td>\n",
              "      <td>11</td>\n",
              "      <td>3</td>\n",
              "      <td>3</td>\n",
              "      <td>80</td>\n",
              "      <td>0</td>\n",
              "      <td>8</td>\n",
              "      <td>3</td>\n",
              "      <td>3</td>\n",
              "      <td>8</td>\n",
              "      <td>7</td>\n",
              "      <td>3</td>\n",
              "      <td>0</td>\n",
              "    </tr>\n",
              "    <tr>\n",
              "      <th>4</th>\n",
              "      <td>27</td>\n",
              "      <td>No</td>\n",
              "      <td>Travel_Rarely</td>\n",
              "      <td>591</td>\n",
              "      <td>Research &amp; Development</td>\n",
              "      <td>2</td>\n",
              "      <td>1</td>\n",
              "      <td>Medical</td>\n",
              "      <td>1</td>\n",
              "      <td>7</td>\n",
              "      <td>1</td>\n",
              "      <td>Male</td>\n",
              "      <td>40</td>\n",
              "      <td>3</td>\n",
              "      <td>1</td>\n",
              "      <td>Laboratory Technician</td>\n",
              "      <td>2</td>\n",
              "      <td>Married</td>\n",
              "      <td>3468</td>\n",
              "      <td>16632</td>\n",
              "      <td>9</td>\n",
              "      <td>Y</td>\n",
              "      <td>No</td>\n",
              "      <td>12</td>\n",
              "      <td>3</td>\n",
              "      <td>4</td>\n",
              "      <td>80</td>\n",
              "      <td>1</td>\n",
              "      <td>6</td>\n",
              "      <td>3</td>\n",
              "      <td>3</td>\n",
              "      <td>2</td>\n",
              "      <td>2</td>\n",
              "      <td>2</td>\n",
              "      <td>2</td>\n",
              "    </tr>\n",
              "  </tbody>\n",
              "</table>\n",
              "</div>"
            ],
            "text/plain": [
              "   Age Attrition  ... YearsSinceLastPromotion  YearsWithCurrManager\n",
              "0   41       Yes  ...                       0                     5\n",
              "1   49        No  ...                       1                     7\n",
              "2   37       Yes  ...                       0                     0\n",
              "3   33        No  ...                       3                     0\n",
              "4   27        No  ...                       2                     2\n",
              "\n",
              "[5 rows x 35 columns]"
            ]
          },
          "metadata": {
            "tags": []
          },
          "execution_count": 3
        }
      ]
    },
    {
      "cell_type": "markdown",
      "metadata": {
        "id": "IlSIQFq7sW0V",
        "colab_type": "text"
      },
      "source": [
        "3. Utilisez la fonction ```cont_cat_split()``` pour séparer vos données catégoriques de vos données continues. Attention mettez votre variable cible dans le paramètre ```dep_var```"
      ]
    },
    {
      "cell_type": "code",
      "metadata": {
        "id": "BK7p1YjksaW1",
        "colab_type": "code",
        "outputId": "684fe5db-c3cf-4af3-deaa-b6b3621b2e1c",
        "colab": {
          "base_uri": "https://localhost:8080/",
          "height": 606
        }
      },
      "source": [
        "conts, cats = cont_cat_split(dataset, dep_var=\"Attrition\")\n",
        "for cont in conts:\n",
        "  print(\"variables continues : {}\".format(cont))\n",
        "for cat in cats:\n",
        "  print(\"variables catégoriques : {}\".format(cat))"
      ],
      "execution_count": 0,
      "outputs": [
        {
          "output_type": "stream",
          "text": [
            "variables continues : Age\n",
            "variables continues : DailyRate\n",
            "variables continues : DistanceFromHome\n",
            "variables continues : EmployeeNumber\n",
            "variables continues : HourlyRate\n",
            "variables continues : MonthlyIncome\n",
            "variables continues : MonthlyRate\n",
            "variables continues : TotalWorkingYears\n",
            "variables continues : YearsAtCompany\n",
            "variables catégoriques : BusinessTravel\n",
            "variables catégoriques : Department\n",
            "variables catégoriques : Education\n",
            "variables catégoriques : EducationField\n",
            "variables catégoriques : EmployeeCount\n",
            "variables catégoriques : EnvironmentSatisfaction\n",
            "variables catégoriques : Gender\n",
            "variables catégoriques : JobInvolvement\n",
            "variables catégoriques : JobLevel\n",
            "variables catégoriques : JobRole\n",
            "variables catégoriques : JobSatisfaction\n",
            "variables catégoriques : MaritalStatus\n",
            "variables catégoriques : NumCompaniesWorked\n",
            "variables catégoriques : Over18\n",
            "variables catégoriques : OverTime\n",
            "variables catégoriques : PercentSalaryHike\n",
            "variables catégoriques : PerformanceRating\n",
            "variables catégoriques : RelationshipSatisfaction\n",
            "variables catégoriques : StandardHours\n",
            "variables catégoriques : StockOptionLevel\n",
            "variables catégoriques : TrainingTimesLastYear\n",
            "variables catégoriques : WorkLifeBalance\n",
            "variables catégoriques : YearsInCurrentRole\n",
            "variables catégoriques : YearsSinceLastPromotion\n",
            "variables catégoriques : YearsWithCurrManager\n"
          ],
          "name": "stdout"
        }
      ]
    },
    {
      "cell_type": "markdown",
      "metadata": {
        "id": "zbNzAMBQtlYQ",
        "colab_type": "text"
      },
      "source": [
        "4. Créez une array contenant les classes suivantes : \n",
        "\n",
        "* [FillMissing](https://docs.fast.ai/tabular.transform.html#FillMissing)\n",
        "* [Categorify](https://docs.fast.ai/tabular.transform.html#Categorify)\n",
        "* [Normalize](https://docs.fast.ai/tabular.transform.html#Normalize)"
      ]
    },
    {
      "cell_type": "code",
      "metadata": {
        "id": "C_zass05t9eb",
        "colab_type": "code",
        "outputId": "085171fd-7367-488d-83ac-bb186b56ac74",
        "colab": {
          "base_uri": "https://localhost:8080/",
          "height": 54
        }
      },
      "source": [
        "preprocessing = [FillMissing, Categorify, Normalize]\n",
        "print(preprocessing)"
      ],
      "execution_count": 0,
      "outputs": [
        {
          "output_type": "stream",
          "text": [
            "[<class 'fastai.tabular.transform.FillMissing'>, <class 'fastai.tabular.transform.Categorify'>, <class 'fastai.tabular.transform.Normalize'>]\n"
          ],
          "name": "stdout"
        }
      ]
    },
    {
      "cell_type": "markdown",
      "metadata": {
        "id": "BYckAnENsIhW",
        "colab_type": "text"
      },
      "source": [
        "5. Séparez votre dataset en training et un test set. Cette fois cependant, prenez uniquement une liste d'index allant de le train et dans le test "
      ]
    },
    {
      "cell_type": "code",
      "metadata": {
        "id": "Tgw-Z_CyqtPr",
        "colab_type": "code",
        "outputId": "cebacbbc-26ab-4852-cf92-f8122e54621b",
        "colab": {
          "base_uri": "https://localhost:8080/",
          "height": 86
        }
      },
      "source": [
        "mask = np.random.randn(len(dataset)) <0.8\n",
        "dataset_train = dataset[mask]\n",
        "dataset_test = dataset[~mask]\n",
        "\n",
        "dataset_test.index"
      ],
      "execution_count": 0,
      "outputs": [
        {
          "output_type": "execute_result",
          "data": {
            "text/plain": [
              "Int64Index([   0,    5,    9,   11,   13,   18,   26,   28,   36,   39,\n",
              "            ...\n",
              "            1412, 1416, 1422, 1430, 1439, 1444, 1447, 1458, 1467, 1468],\n",
              "           dtype='int64', length=323)"
            ]
          },
          "metadata": {
            "tags": []
          },
          "execution_count": 6
        }
      ]
    },
    {
      "cell_type": "markdown",
      "metadata": {
        "id": "up6sPaBNsUYs",
        "colab_type": "text"
      },
      "source": [
        "6. Créez un ```TabularDataBunch``` qui prendra les arguments suivants : \n",
        "\n",
        "* path : un chemin quelconque de Path()\n",
        "* df : Un dataset sous forme de dataframe\n",
        "* dep_var : la variable cible\n",
        "* valid_idx : les index de votre test set\n",
        "* procs : Les étapes de preprocessing à faire au dataset \n",
        "* cat_names : une liste de variables catégoriques \n"
      ]
    },
    {
      "cell_type": "code",
      "metadata": {
        "id": "NNIqzxgnsTvB",
        "colab_type": "code",
        "colab": {}
      },
      "source": [
        "data = TabularDataBunch.from_df(Path(),\n",
        "                                dataset,\n",
        "                                dep_var=\"Attrition\",\n",
        "                                valid_idx=dataset_test.index,\n",
        "                                procs=preprocessing,\n",
        "                                cat_names = cats\n",
        "                                )"
      ],
      "execution_count": 0,
      "outputs": []
    },
    {
      "cell_type": "markdown",
      "metadata": {
        "id": "A_dS59xwzFky",
        "colab_type": "text"
      },
      "source": [
        "7. Apprenons à utiliser un [dictionnaire comprehension ](https://www.datacamp.com/community/tutorials/python-dictionary-comprehension). Ceci va nous être très pratique pour la suite. Tentez de créer un dictionnaire qui va avoir en clé le nom de chaque variable catégorique et en valeur le nombre de catégories différentes par colonne"
      ]
    },
    {
      "cell_type": "code",
      "metadata": {
        "id": "CJYxRxYiyRSi",
        "colab_type": "code",
        "outputId": "b2d044ef-105b-4209-f7fd-7c0fe3011c60",
        "colab": {
          "base_uri": "https://localhost:8080/",
          "height": 450
        }
      },
      "source": [
        "{key:len(key) for key in dataset.loc[:, cats]}"
      ],
      "execution_count": 0,
      "outputs": [
        {
          "output_type": "execute_result",
          "data": {
            "text/plain": [
              "{'BusinessTravel': 14,\n",
              " 'Department': 10,\n",
              " 'Education': 9,\n",
              " 'EducationField': 14,\n",
              " 'EmployeeCount': 13,\n",
              " 'EnvironmentSatisfaction': 23,\n",
              " 'Gender': 6,\n",
              " 'JobInvolvement': 14,\n",
              " 'JobLevel': 8,\n",
              " 'JobRole': 7,\n",
              " 'JobSatisfaction': 15,\n",
              " 'MaritalStatus': 13,\n",
              " 'NumCompaniesWorked': 18,\n",
              " 'Over18': 6,\n",
              " 'OverTime': 8,\n",
              " 'PercentSalaryHike': 17,\n",
              " 'PerformanceRating': 17,\n",
              " 'RelationshipSatisfaction': 24,\n",
              " 'StandardHours': 13,\n",
              " 'StockOptionLevel': 16,\n",
              " 'TrainingTimesLastYear': 21,\n",
              " 'WorkLifeBalance': 15,\n",
              " 'YearsInCurrentRole': 18,\n",
              " 'YearsSinceLastPromotion': 23,\n",
              " 'YearsWithCurrManager': 20}"
            ]
          },
          "metadata": {
            "tags": []
          },
          "execution_count": 8
        }
      ]
    },
    {
      "cell_type": "markdown",
      "metadata": {
        "id": "n44VqhsGvo2n",
        "colab_type": "text"
      },
      "source": [
        "7. Créez un ```tabular_learner``` à partir des de votre ```TabularDataBunch``` qui prendra les arguments suivants : \n",
        "\n",
        "* data : TabularDataBunch\n",
        "* Layers : liste d'inputs dans chaque couche cachée \n",
        "* metrics : la métrique que vous souhaitez utiliser \n",
        "* emb_szs : Un dictionnaire donnant le nombre d'observations unique dans chacune de vos variables catégoriques "
      ]
    },
    {
      "cell_type": "code",
      "metadata": {
        "id": "S091W1vKvDgA",
        "colab_type": "code",
        "colab": {}
      },
      "source": [
        "learn = tabular_learner(data,layers=[200] ,metrics=accuracy, emb_szs={key:len(key) for key in dataset.loc[:, cats]})"
      ],
      "execution_count": 0,
      "outputs": []
    },
    {
      "cell_type": "markdown",
      "metadata": {
        "id": "vylpoaAo0gsz",
        "colab_type": "text"
      },
      "source": [
        "8. Regardez à quoi ressemble l'architecture de votre modèle "
      ]
    },
    {
      "cell_type": "code",
      "metadata": {
        "id": "ixdm15J80KPT",
        "colab_type": "code",
        "outputId": "e49ec50c-49f3-40b0-de71-9986e9f10967",
        "colab": {
          "base_uri": "https://localhost:8080/",
          "height": 658
        }
      },
      "source": [
        "learn.model"
      ],
      "execution_count": 0,
      "outputs": [
        {
          "output_type": "execute_result",
          "data": {
            "text/plain": [
              "TabularModel(\n",
              "  (embeds): ModuleList(\n",
              "    (0): Embedding(4, 14)\n",
              "    (1): Embedding(4, 10)\n",
              "    (2): Embedding(6, 9)\n",
              "    (3): Embedding(7, 14)\n",
              "    (4): Embedding(2, 13)\n",
              "    (5): Embedding(5, 23)\n",
              "    (6): Embedding(3, 6)\n",
              "    (7): Embedding(5, 14)\n",
              "    (8): Embedding(6, 8)\n",
              "    (9): Embedding(10, 7)\n",
              "    (10): Embedding(5, 15)\n",
              "    (11): Embedding(4, 13)\n",
              "    (12): Embedding(11, 18)\n",
              "    (13): Embedding(2, 6)\n",
              "    (14): Embedding(3, 8)\n",
              "    (15): Embedding(16, 17)\n",
              "    (16): Embedding(3, 17)\n",
              "    (17): Embedding(5, 24)\n",
              "    (18): Embedding(2, 13)\n",
              "    (19): Embedding(5, 16)\n",
              "    (20): Embedding(8, 21)\n",
              "    (21): Embedding(5, 15)\n",
              "    (22): Embedding(20, 18)\n",
              "    (23): Embedding(17, 23)\n",
              "    (24): Embedding(18, 20)\n",
              "  )\n",
              "  (emb_drop): Dropout(p=0.0, inplace=False)\n",
              "  (bn_cont): BatchNorm1d(9, eps=1e-05, momentum=0.1, affine=True, track_running_stats=True)\n",
              "  (layers): Sequential(\n",
              "    (0): Linear(in_features=371, out_features=200, bias=True)\n",
              "    (1): ReLU(inplace=True)\n",
              "    (2): BatchNorm1d(200, eps=1e-05, momentum=0.1, affine=True, track_running_stats=True)\n",
              "    (3): Linear(in_features=200, out_features=2, bias=True)\n",
              "  )\n",
              ")"
            ]
          },
          "metadata": {
            "tags": []
          },
          "execution_count": 10
        }
      ]
    },
    {
      "cell_type": "markdown",
      "metadata": {
        "id": "R0jdeJQr0lQr",
        "colab_type": "text"
      },
      "source": [
        "9. Entrainez votre modèle "
      ]
    },
    {
      "cell_type": "code",
      "metadata": {
        "id": "a4hu6rjTwsjI",
        "colab_type": "code",
        "outputId": "d5e88e88-4b7f-44a1-8b98-8daa2d3ff13f",
        "colab": {
          "base_uri": "https://localhost:8080/",
          "height": 110
        }
      },
      "source": [
        "learn.fit_one_cycle(2)"
      ],
      "execution_count": 0,
      "outputs": [
        {
          "output_type": "display_data",
          "data": {
            "text/html": [
              "<table border=\"1\" class=\"dataframe\">\n",
              "  <thead>\n",
              "    <tr style=\"text-align: left;\">\n",
              "      <th>epoch</th>\n",
              "      <th>train_loss</th>\n",
              "      <th>valid_loss</th>\n",
              "      <th>accuracy</th>\n",
              "      <th>time</th>\n",
              "    </tr>\n",
              "  </thead>\n",
              "  <tbody>\n",
              "    <tr>\n",
              "      <td>0</td>\n",
              "      <td>0.656146</td>\n",
              "      <td>0.556952</td>\n",
              "      <td>0.835913</td>\n",
              "      <td>00:00</td>\n",
              "    </tr>\n",
              "    <tr>\n",
              "      <td>1</td>\n",
              "      <td>0.549396</td>\n",
              "      <td>0.480127</td>\n",
              "      <td>0.882353</td>\n",
              "      <td>00:00</td>\n",
              "    </tr>\n",
              "  </tbody>\n",
              "</table>"
            ],
            "text/plain": [
              "<IPython.core.display.HTML object>"
            ]
          },
          "metadata": {
            "tags": []
          }
        }
      ]
    },
    {
      "cell_type": "markdown",
      "metadata": {
        "id": "5AFsW6fF0m7w",
        "colab_type": "text"
      },
      "source": [
        "10. Améliorons notre score en faisant du fine tuning sur notre Learning Rate "
      ]
    },
    {
      "cell_type": "code",
      "metadata": {
        "id": "AlNsNTVuw4zX",
        "colab_type": "code",
        "outputId": "245a60b7-53da-4bc0-b207-9b54fbb99b67",
        "colab": {
          "base_uri": "https://localhost:8080/",
          "height": 317
        }
      },
      "source": [
        "learn.lr_find()\n",
        "learn.recorder.plot(suggestion=True)"
      ],
      "execution_count": 0,
      "outputs": [
        {
          "output_type": "display_data",
          "data": {
            "text/html": [
              ""
            ],
            "text/plain": [
              "<IPython.core.display.HTML object>"
            ]
          },
          "metadata": {
            "tags": []
          }
        },
        {
          "output_type": "stream",
          "text": [
            "LR Finder is complete, type {learner_name}.recorder.plot() to see the graph.\n",
            "Min numerical gradient: 9.12E-03\n"
          ],
          "name": "stdout"
        },
        {
          "output_type": "display_data",
          "data": {
            "image/png": "[encoded data removed]",
            "text/plain": [
              "<Figure size 432x288 with 1 Axes>"
            ]
          },
          "metadata": {
            "tags": []
          }
        }
      ]
    },
    {
      "cell_type": "markdown",
      "metadata": {
        "id": "M3MlW8pl0u-s",
        "colab_type": "text"
      },
      "source": [
        "11. Ré-entrainez votre modèle "
      ]
    },
    {
      "cell_type": "code",
      "metadata": {
        "id": "ZJ91AhjkxCFA",
        "colab_type": "code",
        "outputId": "aac69edb-f88d-450d-81ef-22b39f91bfdd",
        "colab": {
          "base_uri": "https://localhost:8080/",
          "height": 195
        }
      },
      "source": [
        "learn.fit_one_cycle(5, 9.12E-03)"
      ],
      "execution_count": 0,
      "outputs": [
        {
          "output_type": "display_data",
          "data": {
            "text/html": [
              "<table border=\"1\" class=\"dataframe\">\n",
              "  <thead>\n",
              "    <tr style=\"text-align: left;\">\n",
              "      <th>epoch</th>\n",
              "      <th>train_loss</th>\n",
              "      <th>valid_loss</th>\n",
              "      <th>accuracy</th>\n",
              "      <th>time</th>\n",
              "    </tr>\n",
              "  </thead>\n",
              "  <tbody>\n",
              "    <tr>\n",
              "      <td>0</td>\n",
              "      <td>0.312798</td>\n",
              "      <td>0.391772</td>\n",
              "      <td>0.827476</td>\n",
              "      <td>00:00</td>\n",
              "    </tr>\n",
              "    <tr>\n",
              "      <td>1</td>\n",
              "      <td>0.305221</td>\n",
              "      <td>0.464946</td>\n",
              "      <td>0.817891</td>\n",
              "      <td>00:00</td>\n",
              "    </tr>\n",
              "    <tr>\n",
              "      <td>2</td>\n",
              "      <td>0.265411</td>\n",
              "      <td>0.467920</td>\n",
              "      <td>0.833866</td>\n",
              "      <td>00:00</td>\n",
              "    </tr>\n",
              "    <tr>\n",
              "      <td>3</td>\n",
              "      <td>0.221966</td>\n",
              "      <td>0.448844</td>\n",
              "      <td>0.843450</td>\n",
              "      <td>00:00</td>\n",
              "    </tr>\n",
              "    <tr>\n",
              "      <td>4</td>\n",
              "      <td>0.182043</td>\n",
              "      <td>0.443200</td>\n",
              "      <td>0.856230</td>\n",
              "      <td>00:00</td>\n",
              "    </tr>\n",
              "  </tbody>\n",
              "</table>"
            ],
            "text/plain": [
              "<IPython.core.display.HTML object>"
            ]
          },
          "metadata": {
            "tags": []
          }
        }
      ]
    },
    {
      "cell_type": "markdown",
      "metadata": {
        "id": "8br8As8r02iZ",
        "colab_type": "text"
      },
      "source": [
        "12. Regardez vos résultats sur une matrice de confusion "
      ]
    },
    {
      "cell_type": "code",
      "metadata": {
        "id": "tyrWhMsG0XAP",
        "colab_type": "code",
        "colab": {}
      },
      "source": [
        "interp = ClassificationInterpretation.from_learner(learn)"
      ],
      "execution_count": 0,
      "outputs": []
    },
    {
      "cell_type": "code",
      "metadata": {
        "id": "ne7gtXG61TIV",
        "colab_type": "code",
        "outputId": "da97d285-a834-4659-d916-4f46796a9bdf",
        "colab": {
          "base_uri": "https://localhost:8080/",
          "height": 311
        }
      },
      "source": [
        "interp.plot_confusion_matrix()"
      ],
      "execution_count": 0,
      "outputs": [
        {
          "output_type": "display_data",
          "data": {
            "image/png": "[encoded data removed]",
            "text/plain": [
              "<Figure size 432x288 with 1 Axes>"
            ]
          },
          "metadata": {
            "tags": []
          }
        }
      ]
    },
    {
      "cell_type": "markdown",
      "metadata": {
        "id": "2m6gqTIj1vyr",
        "colab_type": "text"
      },
      "source": [
        "13. Comparez cela à un modèle de Random Forest, que pouvez vous conclure ?"
      ]
    },
    {
      "cell_type": "code",
      "metadata": {
        "id": "QkOJEAkj2CHH",
        "colab_type": "code",
        "colab": {}
      },
      "source": [
        "dataset = pd.get_dummies(dataset, drop_first=True)"
      ],
      "execution_count": 0,
      "outputs": []
    },
    {
      "cell_type": "code",
      "metadata": {
        "id": "9TFPiQm41vT2",
        "colab_type": "code",
        "colab": {}
      },
      "source": [
        "X  = dataset.loc[:, dataset.columns!=\"Attrition_Yes\"]\n",
        "y = dataset.loc[:, dataset.columns==\"Attrition_Yes\"]"
      ],
      "execution_count": 0,
      "outputs": []
    },
    {
      "cell_type": "code",
      "metadata": {
        "id": "NGvth4bF1c2a",
        "colab_type": "code",
        "colab": {}
      },
      "source": [
        "from sklearn.model_selection import train_test_split\n",
        "X_train, X_test, y_train, y_test = train_test_split(X, y, test_size = 0.2)"
      ],
      "execution_count": 0,
      "outputs": []
    },
    {
      "cell_type": "code",
      "metadata": {
        "id": "xnmAG9op2PuN",
        "colab_type": "code",
        "colab": {}
      },
      "source": [
        "from sklearn.preprocessing import StandardScaler\n",
        "sc_x = StandardScaler()\n",
        "X_train = sc_x.fit_transform(X_train)\n",
        "X_test = sc_x.transform(X_test)"
      ],
      "execution_count": 0,
      "outputs": []
    },
    {
      "cell_type": "code",
      "metadata": {
        "id": "yW5hvoH_2dVW",
        "colab_type": "code",
        "outputId": "540835c9-7ea2-48f5-d236-dc1b32ca9ae4",
        "colab": {
          "base_uri": "https://localhost:8080/",
          "height": 121
        }
      },
      "source": [
        "from sklearn.ensemble import RandomForestClassifier\n",
        "classifier = RandomForestClassifier()\n",
        "classifier.fit(X_train, y_train)\n",
        "classifier.score(X_test, y_test)"
      ],
      "execution_count": 0,
      "outputs": [
        {
          "output_type": "stream",
          "text": [
            "/usr/local/lib/python3.6/dist-packages/sklearn/ensemble/forest.py:245: FutureWarning: The default value of n_estimators will change from 10 in version 0.20 to 100 in 0.22.\n",
            "  \"10 in version 0.20 to 100 in 0.22.\", FutureWarning)\n",
            "/usr/local/lib/python3.6/dist-packages/ipykernel_launcher.py:3: DataConversionWarning: A column-vector y was passed when a 1d array was expected. Please change the shape of y to (n_samples,), for example using ravel().\n",
            "  This is separate from the ipykernel package so we can avoid doing imports until\n"
          ],
          "name": "stderr"
        },
        {
          "output_type": "execute_result",
          "data": {
            "text/plain": [
              "0.8673469387755102"
            ]
          },
          "metadata": {
            "tags": []
          },
          "execution_count": 98
        }
      ]
    },
    {
      "cell_type": "code",
      "metadata": {
        "id": "yWsA5BW82nJO",
        "colab_type": "code",
        "colab": {}
      },
      "source": [
        ""
      ],
      "execution_count": 0,
      "outputs": []
    }
  ]
}