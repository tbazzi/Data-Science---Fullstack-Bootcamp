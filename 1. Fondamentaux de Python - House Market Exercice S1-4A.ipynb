{
 "cells": [
  {
   "cell_type": "markdown",
   "metadata": {
    "colab_type": "text",
    "id": "UYxrKKxlJTuQ"
   },
   "source": [
    "# House Market"
   ]
  },
  {
   "cell_type": "markdown",
   "metadata": {
    "colab_type": "text",
    "id": "fKVD83V8JZG_"
   },
   "source": [
    "Allons un peu plus loin dans python"
   ]
  },
  {
   "cell_type": "markdown",
   "metadata": {
    "colab_type": "text",
    "id": "XXXPg4_hJcbL"
   },
   "source": [
    "1. Téléchargez les trois fichiers “superficie.csv” / “nombre_de_sdb.csv” / “nombre_de_chambres.csv”\n",
    "\n",
    "2. Importez les trois datasets\n"
   ]
  },
  {
   "cell_type": "code",
   "execution_count": 1,
   "metadata": {
    "colab": {},
    "colab_type": "code",
    "id": "KiNPEcoKI65z"
   },
   "outputs": [],
   "source": [
    "import pandas as pd\n",
    "import numpy as np\n",
    "\n",
    "superficie = pd.read_csv(\"house market/superficie.csv\", header = None)\n",
    "nombre_de_sdb = pd.read_csv(\"house market/nombre_de_sdb.csv\", header = None)\n",
    "nombre_de_chambres = pd.read_csv(\"house market/nombre_de_chambres.csv\", header = None)\n",
    "house_price = pd.read_csv(\"house market/house_price.csv\")\n",
    "\n",
    "#datasets = {item.stem: pd.read_csv(item.name) for item in datasets}"
   ]
  },
  {
   "cell_type": "markdown",
   "metadata": {
    "colab_type": "text",
    "id": "9gg1hs__JiFk"
   },
   "source": [
    "3. Donnez un nom de colonne à ces trois datasets"
   ]
  },
  {
   "cell_type": "code",
   "execution_count": 2,
   "metadata": {
    "colab": {},
    "colab_type": "code",
    "id": "nxrSs_PTI651"
   },
   "outputs": [],
   "source": [
    "superficie.columns = [\"id\", \"superficie\"]\n",
    "nombre_de_sdb.columns = [\"id\", \"nombre_de_sdb\"]\n",
    "nombre_de_chambres.columns = [\"id\",\"nombre_de_chambres\"]"
   ]
  },
  {
   "cell_type": "code",
   "execution_count": 0,
   "metadata": {
    "colab": {},
    "colab_type": "code",
    "id": "by9wP1g_I653",
    "outputId": "52ff2058-9df3-47eb-d2c3-8ca57001a401"
   },
   "outputs": [
    {
     "data": {
      "text/html": [
       "<div>\n",
       "<style scoped>\n",
       "    .dataframe tbody tr th:only-of-type {\n",
       "        vertical-align: middle;\n",
       "    }\n",
       "\n",
       "    .dataframe tbody tr th {\n",
       "        vertical-align: top;\n",
       "    }\n",
       "\n",
       "    .dataframe thead th {\n",
       "        text-align: right;\n",
       "    }\n",
       "</style>\n",
       "<table border=\"1\" class=\"dataframe\">\n",
       "  <thead>\n",
       "    <tr style=\"text-align: right;\">\n",
       "      <th></th>\n",
       "      <th>id</th>\n",
       "      <th>nombre_de_sdb</th>\n",
       "    </tr>\n",
       "  </thead>\n",
       "  <tbody>\n",
       "    <tr>\n",
       "      <th>0</th>\n",
       "      <td>0</td>\n",
       "      <td>2</td>\n",
       "    </tr>\n",
       "    <tr>\n",
       "      <th>1</th>\n",
       "      <td>1</td>\n",
       "      <td>1</td>\n",
       "    </tr>\n",
       "    <tr>\n",
       "      <th>2</th>\n",
       "      <td>2</td>\n",
       "      <td>1</td>\n",
       "    </tr>\n",
       "    <tr>\n",
       "      <th>3</th>\n",
       "      <td>3</td>\n",
       "      <td>3</td>\n",
       "    </tr>\n",
       "    <tr>\n",
       "      <th>4</th>\n",
       "      <td>4</td>\n",
       "      <td>1</td>\n",
       "    </tr>\n",
       "  </tbody>\n",
       "</table>\n",
       "</div>"
      ],
      "text/plain": [
       "   id  nombre_de_sdb\n",
       "0   0              2\n",
       "1   1              1\n",
       "2   2              1\n",
       "3   3              3\n",
       "4   4              1"
      ]
     },
     "execution_count": 79,
     "metadata": {
      "tags": []
     },
     "output_type": "execute_result"
    }
   ],
   "source": []
  },
  {
   "cell_type": "markdown",
   "metadata": {
    "colab_type": "text",
    "id": "XCuGpWCNJs75"
   },
   "source": [
    "4. Fusionner ces quatre datasets un seul dataframe (on fera une fusion simplement par index) qu’on nommera dataset"
   ]
  },
  {
   "cell_type": "code",
   "execution_count": 4,
   "metadata": {
    "colab": {},
    "colab_type": "code",
    "id": "Jaq9oYIaI65_",
    "outputId": "a9c46865-92a0-42c6-98fb-b65221675141"
   },
   "outputs": [
    {
     "data": {
      "text/html": [
       "<div>\n",
       "<style scoped>\n",
       "    .dataframe tbody tr th:only-of-type {\n",
       "        vertical-align: middle;\n",
       "    }\n",
       "\n",
       "    .dataframe tbody tr th {\n",
       "        vertical-align: top;\n",
       "    }\n",
       "\n",
       "    .dataframe thead th {\n",
       "        text-align: right;\n",
       "    }\n",
       "</style>\n",
       "<table border=\"1\" class=\"dataframe\">\n",
       "  <thead>\n",
       "    <tr style=\"text-align: right;\">\n",
       "      <th></th>\n",
       "      <th>id</th>\n",
       "      <th>superficie</th>\n",
       "      <th>nombre_de_chambres</th>\n",
       "      <th>nombre_de_sdb</th>\n",
       "      <th>Unnamed: 0</th>\n",
       "      <th>house_price</th>\n",
       "    </tr>\n",
       "  </thead>\n",
       "  <tbody>\n",
       "    <tr>\n",
       "      <th>0</th>\n",
       "      <td>0</td>\n",
       "      <td>28844</td>\n",
       "      <td>1</td>\n",
       "      <td>2</td>\n",
       "      <td>32</td>\n",
       "      <td>1421908.0</td>\n",
       "    </tr>\n",
       "    <tr>\n",
       "      <th>1</th>\n",
       "      <td>1</td>\n",
       "      <td>27667</td>\n",
       "      <td>4</td>\n",
       "      <td>1</td>\n",
       "      <td>71</td>\n",
       "      <td>1305091.0</td>\n",
       "    </tr>\n",
       "    <tr>\n",
       "      <th>2</th>\n",
       "      <td>2</td>\n",
       "      <td>14742</td>\n",
       "      <td>1</td>\n",
       "      <td>1</td>\n",
       "      <td>65</td>\n",
       "      <td>164373.0</td>\n",
       "    </tr>\n",
       "    <tr>\n",
       "      <th>3</th>\n",
       "      <td>3</td>\n",
       "      <td>28089</td>\n",
       "      <td>4</td>\n",
       "      <td>3</td>\n",
       "      <td>88</td>\n",
       "      <td>1441714.0</td>\n",
       "    </tr>\n",
       "    <tr>\n",
       "      <th>4</th>\n",
       "      <td>4</td>\n",
       "      <td>11713</td>\n",
       "      <td>2</td>\n",
       "      <td>1</td>\n",
       "      <td>49</td>\n",
       "      <td>108290.0</td>\n",
       "    </tr>\n",
       "  </tbody>\n",
       "</table>\n",
       "</div>"
      ],
      "text/plain": [
       "   id  superficie  nombre_de_chambres  nombre_de_sdb  Unnamed: 0  house_price\n",
       "0   0       28844                   1              2          32    1421908.0\n",
       "1   1       27667                   4              1          71    1305091.0\n",
       "2   2       14742                   1              1          65     164373.0\n",
       "3   3       28089                   4              3          88    1441714.0\n",
       "4   4       11713                   2              1          49     108290.0"
      ]
     },
     "execution_count": 4,
     "metadata": {},
     "output_type": "execute_result"
    }
   ],
   "source": [
    "#dataset = pd.merge(superficie, nombre_de_sdb, on='id')\n",
    "#dataset = pd.merge(dataset, nombre_de_chambres, on='id')\n",
    "#dataset = pd.merge(dataset, house_price, on='id')\n",
    "\n",
    "dataset = (superficie\n",
    "            .merge(nombre_de_chambres, left_on=\"id\", right_on=\"id\")\n",
    "            .merge(nombre_de_sdb, on=\"id\")\n",
    "            .merge(house_price , on=\"id\")\n",
    "\n",
    " )\n",
    "    \n",
    "dataset.head()"
   ]
  },
  {
   "cell_type": "markdown",
   "metadata": {
    "colab_type": "text",
    "id": "iEfE8rgrJ2vK"
   },
   "source": [
    "5. Quelle est la superficie moyenne des maisons de notre dataset ?"
   ]
  },
  {
   "cell_type": "code",
   "execution_count": 5,
   "metadata": {
    "colab": {},
    "colab_type": "code",
    "id": "N-Q8fJupI66E",
    "outputId": "2d74f7f5-04fa-4d59-dec7-959bd73c5934"
   },
   "outputs": [
    {
     "name": "stdout",
     "output_type": "stream",
     "text": [
      "20439.77\n"
     ]
    }
   ],
   "source": [
    "#20439.77\n",
    "print(dataset.superficie.mean())"
   ]
  },
  {
   "cell_type": "markdown",
   "metadata": {
    "colab_type": "text",
    "id": "pE7O59U3J5v-"
   },
   "source": [
    "6. Quelle est le nombre de chambre médian et moyen ?"
   ]
  },
  {
   "cell_type": "code",
   "execution_count": 0,
   "metadata": {
    "colab": {},
    "colab_type": "code",
    "id": "z4tPdBDLI66H",
    "outputId": "d6e3b2ae-a09c-41ec-aedb-fa26296f9040"
   },
   "outputs": [
    {
     "data": {
      "text/html": [
       "<div>\n",
       "<style scoped>\n",
       "    .dataframe tbody tr th:only-of-type {\n",
       "        vertical-align: middle;\n",
       "    }\n",
       "\n",
       "    .dataframe tbody tr th {\n",
       "        vertical-align: top;\n",
       "    }\n",
       "\n",
       "    .dataframe thead th {\n",
       "        text-align: right;\n",
       "    }\n",
       "</style>\n",
       "<table border=\"1\" class=\"dataframe\">\n",
       "  <thead>\n",
       "    <tr style=\"text-align: right;\">\n",
       "      <th></th>\n",
       "      <th>id</th>\n",
       "      <th>superficie</th>\n",
       "      <th>nombre_de_sdb</th>\n",
       "      <th>house_price</th>\n",
       "    </tr>\n",
       "    <tr>\n",
       "      <th>nombre_de_chambres</th>\n",
       "      <th></th>\n",
       "      <th></th>\n",
       "      <th></th>\n",
       "      <th></th>\n",
       "    </tr>\n",
       "  </thead>\n",
       "  <tbody>\n",
       "    <tr>\n",
       "      <th>1</th>\n",
       "      <td>52.260870</td>\n",
       "      <td>22798.695652</td>\n",
       "      <td>1.869565</td>\n",
       "      <td>980774.869565</td>\n",
       "    </tr>\n",
       "    <tr>\n",
       "      <th>2</th>\n",
       "      <td>57.387097</td>\n",
       "      <td>19001.483871</td>\n",
       "      <td>2.000000</td>\n",
       "      <td>642086.258065</td>\n",
       "    </tr>\n",
       "    <tr>\n",
       "      <th>3</th>\n",
       "      <td>44.555556</td>\n",
       "      <td>19538.037037</td>\n",
       "      <td>2.037037</td>\n",
       "      <td>645904.592593</td>\n",
       "    </tr>\n",
       "    <tr>\n",
       "      <th>4</th>\n",
       "      <td>40.315789</td>\n",
       "      <td>21212.315789</td>\n",
       "      <td>1.894737</td>\n",
       "      <td>888045.631579</td>\n",
       "    </tr>\n",
       "  </tbody>\n",
       "</table>\n",
       "</div>"
      ],
      "text/plain": [
       "                           id    superficie  nombre_de_sdb    house_price\n",
       "nombre_de_chambres                                                       \n",
       "1                   52.260870  22798.695652       1.869565  980774.869565\n",
       "2                   57.387097  19001.483871       2.000000  642086.258065\n",
       "3                   44.555556  19538.037037       2.037037  645904.592593\n",
       "4                   40.315789  21212.315789       1.894737  888045.631579"
      ]
     },
     "execution_count": 84,
     "metadata": {
      "tags": []
     },
     "output_type": "execute_result"
    }
   ],
   "source": []
  },
  {
   "cell_type": "code",
   "execution_count": 6,
   "metadata": {},
   "outputs": [
    {
     "name": "stdout",
     "output_type": "stream",
     "text": [
      "2.42\n",
      "2.0\n"
     ]
    }
   ],
   "source": [
    "print(dataset.nombre_de_chambres.mean())\n",
    "print(dataset.nombre_de_chambres.median())"
   ]
  },
  {
   "cell_type": "markdown",
   "metadata": {
    "colab_type": "text",
    "id": "-OsvPDf_Kt5A"
   },
   "source": [
    "7. Quel est le coût moyen d’une maison ?"
   ]
  },
  {
   "cell_type": "code",
   "execution_count": 48,
   "metadata": {
    "colab": {},
    "colab_type": "code",
    "id": "W9ugWn6fI66N",
    "outputId": "157b71ad-6def-4f7b-c93b-d577358e2178"
   },
   "outputs": [
    {
     "name": "stdout",
     "output_type": "stream",
     "text": [
      "767747.87\n"
     ]
    }
   ],
   "source": [
    "#767747.87\n",
    "print(dataset.house_price.mean())"
   ]
  },
  {
   "cell_type": "markdown",
   "metadata": {
    "colab_type": "text",
    "id": "98siYxVVKy1f"
   },
   "source": [
    "8. Quel est le coût moyen par chambre ?"
   ]
  },
  {
   "cell_type": "code",
   "execution_count": 0,
   "metadata": {
    "colab": {},
    "colab_type": "code",
    "id": "SIDrvd2WI66P",
    "outputId": "6bd27127-ce91-4b83-8b06-c1be211690ab"
   },
   "outputs": [
    {
     "data": {
      "text/plain": [
       "id                        28.196095\n",
       "superficie              5387.422486\n",
       "nombre_de_sdb              0.814881\n",
       "nombre_de_chambres         0.000000\n",
       "house_price           664318.109295\n",
       "dtype: float64"
      ]
     },
     "execution_count": 87,
     "metadata": {
      "tags": []
     },
     "output_type": "execute_result"
    }
   ],
   "source": []
  },
  {
   "cell_type": "code",
   "execution_count": 7,
   "metadata": {},
   "outputs": [
    {
     "data": {
      "text/html": [
       "<div>\n",
       "<style scoped>\n",
       "    .dataframe tbody tr th:only-of-type {\n",
       "        vertical-align: middle;\n",
       "    }\n",
       "\n",
       "    .dataframe tbody tr th {\n",
       "        vertical-align: top;\n",
       "    }\n",
       "\n",
       "    .dataframe thead th {\n",
       "        text-align: right;\n",
       "    }\n",
       "</style>\n",
       "<table border=\"1\" class=\"dataframe\">\n",
       "  <thead>\n",
       "    <tr style=\"text-align: right;\">\n",
       "      <th></th>\n",
       "      <th>id</th>\n",
       "      <th>superficie</th>\n",
       "      <th>nombre_de_sdb</th>\n",
       "      <th>Unnamed: 0</th>\n",
       "      <th>house_price</th>\n",
       "    </tr>\n",
       "    <tr>\n",
       "      <th>nombre_de_chambres</th>\n",
       "      <th></th>\n",
       "      <th></th>\n",
       "      <th></th>\n",
       "      <th></th>\n",
       "      <th></th>\n",
       "    </tr>\n",
       "  </thead>\n",
       "  <tbody>\n",
       "    <tr>\n",
       "      <th>1</th>\n",
       "      <td>52.260870</td>\n",
       "      <td>22798.695652</td>\n",
       "      <td>1.869565</td>\n",
       "      <td>55.000000</td>\n",
       "      <td>980774.869565</td>\n",
       "    </tr>\n",
       "    <tr>\n",
       "      <th>2</th>\n",
       "      <td>57.387097</td>\n",
       "      <td>19001.483871</td>\n",
       "      <td>2.000000</td>\n",
       "      <td>50.387097</td>\n",
       "      <td>642086.258065</td>\n",
       "    </tr>\n",
       "    <tr>\n",
       "      <th>3</th>\n",
       "      <td>44.555556</td>\n",
       "      <td>19538.037037</td>\n",
       "      <td>2.037037</td>\n",
       "      <td>51.370370</td>\n",
       "      <td>645904.592593</td>\n",
       "    </tr>\n",
       "    <tr>\n",
       "      <th>4</th>\n",
       "      <td>40.315789</td>\n",
       "      <td>21212.315789</td>\n",
       "      <td>1.894737</td>\n",
       "      <td>38.736842</td>\n",
       "      <td>888045.631579</td>\n",
       "    </tr>\n",
       "  </tbody>\n",
       "</table>\n",
       "</div>"
      ],
      "text/plain": [
       "                           id    superficie  nombre_de_sdb  Unnamed: 0  \\\n",
       "nombre_de_chambres                                                       \n",
       "1                   52.260870  22798.695652       1.869565   55.000000   \n",
       "2                   57.387097  19001.483871       2.000000   50.387097   \n",
       "3                   44.555556  19538.037037       2.037037   51.370370   \n",
       "4                   40.315789  21212.315789       1.894737   38.736842   \n",
       "\n",
       "                      house_price  \n",
       "nombre_de_chambres                 \n",
       "1                   980774.869565  \n",
       "2                   642086.258065  \n",
       "3                   645904.592593  \n",
       "4                   888045.631579  "
      ]
     },
     "execution_count": 7,
     "metadata": {},
     "output_type": "execute_result"
    }
   ],
   "source": [
    "#dataset[\"prix par chambre\"] = dataset[\"house_price\"]/dataset[\"nombre_de_chambres\"]\n",
    "#print(dataset[\"prix par chambre\"].mean())\n",
    "dataset.groupby(\"nombre_de_chambres\").mean()"
   ]
  },
  {
   "cell_type": "code",
   "execution_count": 8,
   "metadata": {
    "colab": {},
    "colab_type": "code",
    "id": "NpuoNjvOI66T",
    "outputId": "8fec6dd8-ab2b-4077-969d-e0d21fe1e427"
   },
   "outputs": [
    {
     "data": {
      "text/html": [
       "<div>\n",
       "<style scoped>\n",
       "    .dataframe tbody tr th:only-of-type {\n",
       "        vertical-align: middle;\n",
       "    }\n",
       "\n",
       "    .dataframe tbody tr th {\n",
       "        vertical-align: top;\n",
       "    }\n",
       "\n",
       "    .dataframe thead th {\n",
       "        text-align: right;\n",
       "    }\n",
       "</style>\n",
       "<table border=\"1\" class=\"dataframe\">\n",
       "  <thead>\n",
       "    <tr style=\"text-align: right;\">\n",
       "      <th></th>\n",
       "      <th>id</th>\n",
       "      <th>superficie</th>\n",
       "      <th>nombre_de_sdb</th>\n",
       "      <th>Unnamed: 0</th>\n",
       "      <th>house_price</th>\n",
       "    </tr>\n",
       "    <tr>\n",
       "      <th>nombre_de_chambres</th>\n",
       "      <th></th>\n",
       "      <th></th>\n",
       "      <th></th>\n",
       "      <th></th>\n",
       "      <th></th>\n",
       "    </tr>\n",
       "  </thead>\n",
       "  <tbody>\n",
       "    <tr>\n",
       "      <th>1</th>\n",
       "      <td>53.882353</td>\n",
       "      <td>22955.117647</td>\n",
       "      <td>1.823529</td>\n",
       "      <td>63.176471</td>\n",
       "      <td>847546.117647</td>\n",
       "    </tr>\n",
       "    <tr>\n",
       "      <th>2</th>\n",
       "      <td>59.851852</td>\n",
       "      <td>19423.740741</td>\n",
       "      <td>1.925926</td>\n",
       "      <td>51.000000</td>\n",
       "      <td>656395.000000</td>\n",
       "    </tr>\n",
       "    <tr>\n",
       "      <th>3</th>\n",
       "      <td>41.550000</td>\n",
       "      <td>20623.650000</td>\n",
       "      <td>2.050000</td>\n",
       "      <td>49.050000</td>\n",
       "      <td>644955.400000</td>\n",
       "    </tr>\n",
       "    <tr>\n",
       "      <th>4</th>\n",
       "      <td>38.375000</td>\n",
       "      <td>20039.875000</td>\n",
       "      <td>2.000000</td>\n",
       "      <td>40.375000</td>\n",
       "      <td>700004.437500</td>\n",
       "    </tr>\n",
       "  </tbody>\n",
       "</table>\n",
       "</div>"
      ],
      "text/plain": [
       "                           id    superficie  nombre_de_sdb  Unnamed: 0  \\\n",
       "nombre_de_chambres                                                       \n",
       "1                   53.882353  22955.117647       1.823529   63.176471   \n",
       "2                   59.851852  19423.740741       1.925926   51.000000   \n",
       "3                   41.550000  20623.650000       2.050000   49.050000   \n",
       "4                   38.375000  20039.875000       2.000000   40.375000   \n",
       "\n",
       "                      house_price  \n",
       "nombre_de_chambres                 \n",
       "1                   847546.117647  \n",
       "2                   656395.000000  \n",
       "3                   644955.400000  \n",
       "4                   700004.437500  "
      ]
     },
     "execution_count": 8,
     "metadata": {},
     "output_type": "execute_result"
    }
   ],
   "source": [
    "premier_decile = dataset.house_price > dataset.house_price.quantile(.1)\n",
    "dernier_decile = dataset.house_price < dataset.house_price.quantile(.9)\n",
    "\n",
    "dataset[(premier_decile) & (dernier_decile)].groupby(\"nombre_de_chambres\").mean()"
   ]
  },
  {
   "cell_type": "code",
   "execution_count": 0,
   "metadata": {
    "colab": {},
    "colab_type": "code",
    "id": "X675Y2zLI66X",
    "outputId": "48e07a04-0799-4a14-ce8a-033409283d6b"
   },
   "outputs": [
    {
     "data": {
      "text/html": [
       "<div>\n",
       "<style scoped>\n",
       "    .dataframe tbody tr th:only-of-type {\n",
       "        vertical-align: middle;\n",
       "    }\n",
       "\n",
       "    .dataframe tbody tr th {\n",
       "        vertical-align: top;\n",
       "    }\n",
       "\n",
       "    .dataframe thead th {\n",
       "        text-align: right;\n",
       "    }\n",
       "</style>\n",
       "<table border=\"1\" class=\"dataframe\">\n",
       "  <thead>\n",
       "    <tr style=\"text-align: right;\">\n",
       "      <th></th>\n",
       "      <th>id</th>\n",
       "      <th>superficie</th>\n",
       "      <th>nombre_de_sdb</th>\n",
       "      <th>house_price</th>\n",
       "    </tr>\n",
       "    <tr>\n",
       "      <th>nombre_de_chambres</th>\n",
       "      <th></th>\n",
       "      <th></th>\n",
       "      <th></th>\n",
       "      <th></th>\n",
       "    </tr>\n",
       "  </thead>\n",
       "  <tbody>\n",
       "    <tr>\n",
       "      <th>1</th>\n",
       "      <td>53.882353</td>\n",
       "      <td>22955.117647</td>\n",
       "      <td>1.823529</td>\n",
       "      <td>847546.117647</td>\n",
       "    </tr>\n",
       "    <tr>\n",
       "      <th>2</th>\n",
       "      <td>59.851852</td>\n",
       "      <td>19423.740741</td>\n",
       "      <td>1.925926</td>\n",
       "      <td>656395.000000</td>\n",
       "    </tr>\n",
       "    <tr>\n",
       "      <th>3</th>\n",
       "      <td>41.550000</td>\n",
       "      <td>20623.650000</td>\n",
       "      <td>2.050000</td>\n",
       "      <td>644955.400000</td>\n",
       "    </tr>\n",
       "    <tr>\n",
       "      <th>4</th>\n",
       "      <td>38.375000</td>\n",
       "      <td>20039.875000</td>\n",
       "      <td>2.000000</td>\n",
       "      <td>700004.437500</td>\n",
       "    </tr>\n",
       "  </tbody>\n",
       "</table>\n",
       "</div>"
      ],
      "text/plain": [
       "                           id    superficie  nombre_de_sdb    house_price\n",
       "nombre_de_chambres                                                       \n",
       "1                   53.882353  22955.117647       1.823529  847546.117647\n",
       "2                   59.851852  19423.740741       1.925926  656395.000000\n",
       "3                   41.550000  20623.650000       2.050000  644955.400000\n",
       "4                   38.375000  20039.875000       2.000000  700004.437500"
      ]
     },
     "execution_count": 89,
     "metadata": {
      "tags": []
     },
     "output_type": "execute_result"
    }
   ],
   "source": []
  },
  {
   "cell_type": "markdown",
   "metadata": {
    "colab_type": "text",
    "id": "9Ir3pvu3K6jN"
   },
   "source": [
    "10. Le coût moyen par chambre ne nous apprend pas grand chose.Tentons de faire des catégories de superficie\n",
    "\n",
    "  - Créez une nouvelle colonne dans votre dataset qu’on appellera taille_maison\n",
    "Créez trois catégories qui respectivement correspondront à :\n",
    "\n",
    "      - “très grande” == “une maison dont la taille est supérieure à 25 000 sqrt_feet”\n",
    "      \n",
    "      - “grande” == “une maison dont la taille est comprise entre 20 000 et 25 000 sqrt_feet”\n",
    "      \n",
    "      - “moyenne” == “une maison dont la taille est comprise entre 15 000 et 20 000 sqrt_feet”\n",
    "    \n",
    "      - \"petite\" == \"une maison dont la taille est comprise entre 10 000 et 15 000 sqrt_feet” \n",
    "    \n",
    "      - \"très petite\" == une maison dont la taille est inférieure à 10 000 sqrt_feet”\n",
    "      \n",
    "Remplissez les lignes correspondantes dans la colonne taille_maison"
   ]
  },
  {
   "cell_type": "code",
   "execution_count": 10,
   "metadata": {
    "colab": {},
    "colab_type": "code",
    "id": "OPGVFBU-I66k",
    "outputId": "4bba01c5-013e-4918-cbfc-25e0325487f2"
   },
   "outputs": [
    {
     "data": {
      "text/html": [
       "<div>\n",
       "<style scoped>\n",
       "    .dataframe tbody tr th:only-of-type {\n",
       "        vertical-align: middle;\n",
       "    }\n",
       "\n",
       "    .dataframe tbody tr th {\n",
       "        vertical-align: top;\n",
       "    }\n",
       "\n",
       "    .dataframe thead th {\n",
       "        text-align: right;\n",
       "    }\n",
       "</style>\n",
       "<table border=\"1\" class=\"dataframe\">\n",
       "  <thead>\n",
       "    <tr style=\"text-align: right;\">\n",
       "      <th></th>\n",
       "      <th>id</th>\n",
       "      <th>superficie</th>\n",
       "      <th>nombre_de_chambres</th>\n",
       "      <th>nombre_de_sdb</th>\n",
       "      <th>Unnamed: 0</th>\n",
       "      <th>house_price</th>\n",
       "      <th>categorie_superficie</th>\n",
       "    </tr>\n",
       "  </thead>\n",
       "  <tbody>\n",
       "    <tr>\n",
       "      <th>0</th>\n",
       "      <td>0</td>\n",
       "      <td>28844</td>\n",
       "      <td>1</td>\n",
       "      <td>2</td>\n",
       "      <td>32</td>\n",
       "      <td>1421908.0</td>\n",
       "      <td>Très Grande</td>\n",
       "    </tr>\n",
       "    <tr>\n",
       "      <th>1</th>\n",
       "      <td>1</td>\n",
       "      <td>27667</td>\n",
       "      <td>4</td>\n",
       "      <td>1</td>\n",
       "      <td>71</td>\n",
       "      <td>1305091.0</td>\n",
       "      <td>Très Grande</td>\n",
       "    </tr>\n",
       "    <tr>\n",
       "      <th>2</th>\n",
       "      <td>2</td>\n",
       "      <td>14742</td>\n",
       "      <td>1</td>\n",
       "      <td>1</td>\n",
       "      <td>65</td>\n",
       "      <td>164373.0</td>\n",
       "      <td>Petite</td>\n",
       "    </tr>\n",
       "    <tr>\n",
       "      <th>3</th>\n",
       "      <td>3</td>\n",
       "      <td>28089</td>\n",
       "      <td>4</td>\n",
       "      <td>3</td>\n",
       "      <td>88</td>\n",
       "      <td>1441714.0</td>\n",
       "      <td>Très Grande</td>\n",
       "    </tr>\n",
       "    <tr>\n",
       "      <th>4</th>\n",
       "      <td>4</td>\n",
       "      <td>11713</td>\n",
       "      <td>2</td>\n",
       "      <td>1</td>\n",
       "      <td>49</td>\n",
       "      <td>108290.0</td>\n",
       "      <td>Petite</td>\n",
       "    </tr>\n",
       "  </tbody>\n",
       "</table>\n",
       "</div>"
      ],
      "text/plain": [
       "   id  superficie  nombre_de_chambres  nombre_de_sdb  Unnamed: 0  house_price  \\\n",
       "0   0       28844                   1              2          32    1421908.0   \n",
       "1   1       27667                   4              1          71    1305091.0   \n",
       "2   2       14742                   1              1          65     164373.0   \n",
       "3   3       28089                   4              3          88    1441714.0   \n",
       "4   4       11713                   2              1          49     108290.0   \n",
       "\n",
       "  categorie_superficie  \n",
       "0          Très Grande  \n",
       "1          Très Grande  \n",
       "2               Petite  \n",
       "3          Très Grande  \n",
       "4               Petite  "
      ]
     },
     "execution_count": 10,
     "metadata": {},
     "output_type": "execute_result"
    }
   ],
   "source": [
    "dataset[\"categorie_superficie\"] = dataset.superficie\n",
    "dataset[\"categorie_superficie\"] = dataset[\"categorie_superficie\"].apply(lambda x: \"Très Grande\" if x>25000 \n",
    "                                                                        else \"Grande\" if x>20000 \n",
    "                                                                        else \"Moyenne\" if x>15000 \n",
    "                                                                        else \"Petite\" if x>10000 \n",
    "                                                                        else \"Très Petite\")\n",
    "dataset.head()\n"
   ]
  },
  {
   "cell_type": "code",
   "execution_count": 13,
   "metadata": {},
   "outputs": [
    {
     "data": {
      "text/html": [
       "<div>\n",
       "<style scoped>\n",
       "    .dataframe tbody tr th:only-of-type {\n",
       "        vertical-align: middle;\n",
       "    }\n",
       "\n",
       "    .dataframe tbody tr th {\n",
       "        vertical-align: top;\n",
       "    }\n",
       "\n",
       "    .dataframe thead th {\n",
       "        text-align: right;\n",
       "    }\n",
       "</style>\n",
       "<table border=\"1\" class=\"dataframe\">\n",
       "  <thead>\n",
       "    <tr style=\"text-align: right;\">\n",
       "      <th></th>\n",
       "      <th>id</th>\n",
       "      <th>superficie</th>\n",
       "      <th>nombre_de_chambres</th>\n",
       "      <th>nombre_de_sdb</th>\n",
       "      <th>Unnamed: 0</th>\n",
       "      <th>house_price</th>\n",
       "      <th>categorie_superficie</th>\n",
       "      <th>categorie_superficie2</th>\n",
       "    </tr>\n",
       "  </thead>\n",
       "  <tbody>\n",
       "    <tr>\n",
       "      <th>0</th>\n",
       "      <td>0</td>\n",
       "      <td>28844</td>\n",
       "      <td>1</td>\n",
       "      <td>2</td>\n",
       "      <td>32</td>\n",
       "      <td>1421908.0</td>\n",
       "      <td>Très Grande</td>\n",
       "      <td>Très Grande</td>\n",
       "    </tr>\n",
       "    <tr>\n",
       "      <th>1</th>\n",
       "      <td>1</td>\n",
       "      <td>27667</td>\n",
       "      <td>4</td>\n",
       "      <td>1</td>\n",
       "      <td>71</td>\n",
       "      <td>1305091.0</td>\n",
       "      <td>Très Grande</td>\n",
       "      <td>Très Grande</td>\n",
       "    </tr>\n",
       "    <tr>\n",
       "      <th>2</th>\n",
       "      <td>2</td>\n",
       "      <td>14742</td>\n",
       "      <td>1</td>\n",
       "      <td>1</td>\n",
       "      <td>65</td>\n",
       "      <td>164373.0</td>\n",
       "      <td>Petite</td>\n",
       "      <td>Petite</td>\n",
       "    </tr>\n",
       "    <tr>\n",
       "      <th>3</th>\n",
       "      <td>3</td>\n",
       "      <td>28089</td>\n",
       "      <td>4</td>\n",
       "      <td>3</td>\n",
       "      <td>88</td>\n",
       "      <td>1441714.0</td>\n",
       "      <td>Très Grande</td>\n",
       "      <td>Très Grande</td>\n",
       "    </tr>\n",
       "    <tr>\n",
       "      <th>4</th>\n",
       "      <td>4</td>\n",
       "      <td>11713</td>\n",
       "      <td>2</td>\n",
       "      <td>1</td>\n",
       "      <td>49</td>\n",
       "      <td>108290.0</td>\n",
       "      <td>Petite</td>\n",
       "      <td>Petite</td>\n",
       "    </tr>\n",
       "  </tbody>\n",
       "</table>\n",
       "</div>"
      ],
      "text/plain": [
       "   id  superficie  nombre_de_chambres  nombre_de_sdb  Unnamed: 0  house_price  \\\n",
       "0   0       28844                   1              2          32    1421908.0   \n",
       "1   1       27667                   4              1          71    1305091.0   \n",
       "2   2       14742                   1              1          65     164373.0   \n",
       "3   3       28089                   4              3          88    1441714.0   \n",
       "4   4       11713                   2              1          49     108290.0   \n",
       "\n",
       "  categorie_superficie categorie_superficie2  \n",
       "0          Très Grande           Très Grande  \n",
       "1          Très Grande           Très Grande  \n",
       "2               Petite                Petite  \n",
       "3          Très Grande           Très Grande  \n",
       "4               Petite                Petite  "
      ]
     },
     "execution_count": 13,
     "metadata": {},
     "output_type": "execute_result"
    }
   ],
   "source": [
    "bins = [0, 10000, 15000, 20000, 25000,1000000]\n",
    "labels = [\"Très Petite\",\"Petite\",\"Moyenne\",\"Grande\",\"Très Grande\"]\n",
    "dataset['categorie_superficie2'] = pd.cut(dataset['superficie'], bins=bins, labels=labels)\n",
    "dataset.head()"
   ]
  },
  {
   "cell_type": "markdown",
   "metadata": {
    "colab_type": "text",
    "id": "7h5LIdYlL37i"
   },
   "source": [
    "11. Quel est le coût moyen d’une maison en fonction de sa catégorie de superficie ?\n"
   ]
  },
  {
   "cell_type": "code",
   "execution_count": 14,
   "metadata": {
    "colab": {},
    "colab_type": "code",
    "id": "EYc2GC2_I66u",
    "outputId": "358def04-5b76-4f67-fcf1-9f6fd285fc7b"
   },
   "outputs": [
    {
     "data": {
      "text/plain": [
       "<matplotlib.axes._subplots.AxesSubplot at 0x4ee6080>"
      ]
     },
     "execution_count": 14,
     "metadata": {},
     "output_type": "execute_result"
    }
   ],
   "source": [
    "dataset.boxplot(column=[\"house_price\"], by=\"categorie_superficie2\")"
   ]
  },
  {
   "cell_type": "code",
   "execution_count": 15,
   "metadata": {},
   "outputs": [
    {
     "data": {
      "text/plain": [
       "<matplotlib.axes._subplots.AxesSubplot at 0x9786978>"
      ]
     },
     "execution_count": 15,
     "metadata": {},
     "output_type": "execute_result"
    },
    {
     "data": {
      "image/png": "[encoded data removed]",
      "text/plain": [
       "<Figure size 432x288 with 1 Axes>"
      ]
     },
     "metadata": {
      "needs_background": "light"
     },
     "output_type": "display_data"
    }
   ],
   "source": [
    "dataset.boxplot(column=[\"house_price\"], by=\"categorie_superficie\")"
   ]
  },
  {
   "cell_type": "code",
   "execution_count": 16,
   "metadata": {},
   "outputs": [
    {
     "data": {
      "text/plain": [
       "id                    4.212500e+01\n",
       "superficie            2.753081e+04\n",
       "nombre_de_chambres    2.343750e+00\n",
       "nombre_de_sdb         2.062500e+00\n",
       "Unnamed: 0            4.396875e+01\n",
       "house_price           1.552456e+06\n",
       "dtype: float64"
      ]
     },
     "execution_count": 16,
     "metadata": {},
     "output_type": "execute_result"
    }
   ],
   "source": [
    "#Utilisation des masques\n",
    "dataset[dataset[\"categorie_superficie\"] == \"Très Grande\"].mean()"
   ]
  },
  {
   "cell_type": "markdown",
   "metadata": {
    "colab_type": "text",
    "id": "bK8WqH1-L9n5"
   },
   "source": [
    " 12. Appliquez le code ci-dessous pour visualiser votre résultat. Que pouvez vous conclure ?"
   ]
  },
  {
   "cell_type": "code",
   "execution_count": 18,
   "metadata": {
    "colab": {},
    "colab_type": "code",
    "id": "qwiSTG4HI661"
   },
   "outputs": [
    {
     "data": {
      "text/plain": [
       "<seaborn.axisgrid.FacetGrid at 0xbb090f0>"
      ]
     },
     "execution_count": 18,
     "metadata": {},
     "output_type": "execute_result"
    },
    {
     "data": {
      "image/png": "[encoded data removed]",
      "text/plain": [
       "<Figure size 360x360 with 1 Axes>"
      ]
     },
     "metadata": {
      "needs_background": "light"
     },
     "output_type": "display_data"
    }
   ],
   "source": [
    "import seaborn as sns\n",
    "sns.lmplot(x = \"superficie\", y=\"house_price\", data = dataset)"
   ]
  },
  {
   "cell_type": "code",
   "execution_count": 68,
   "metadata": {},
   "outputs": [
    {
     "data": {
      "text/plain": [
       "<seaborn.axisgrid.FacetGrid at 0xccdeda0>"
      ]
     },
     "execution_count": 68,
     "metadata": {},
     "output_type": "execute_result"
    },
    {
     "data": {
      "image/png": "[encoded data removed]",
      "text/plain": [
       "<Figure size 360x360 with 1 Axes>"
      ]
     },
     "metadata": {
      "needs_background": "light"
     },
     "output_type": "display_data"
    }
   ],
   "source": [
    "import seaborn as sns\n",
    "sns.lmplot(x = \"superficie\", y=\"house_price\", data = dataset)"
   ]
  },
  {
   "cell_type": "markdown",
   "metadata": {
    "colab_type": "text",
    "id": "MohwNIOgMFZn"
   },
   "source": [
    "On peut voir sur le graphique que plus la superficie d’une maison monte, plus son prix monte. Il y a donc une corrélation linéaire assez forte entre ces deux variables. "
   ]
  }
 ],
 "metadata": {
  "colab": {
   "name": "Fondamentaux de Python - House Market Exercice S1-4A.ipynb",
   "provenance": [],
   "version": "0.3.2"
  },
  "kernelspec": {
   "display_name": "Python 3",
   "language": "python",
   "name": "python3"
  },
  "language_info": {
   "codemirror_mode": {
    "name": "ipython",
    "version": 3
   },
   "file_extension": ".py",
   "mimetype": "text/x-python",
   "name": "python",
   "nbconvert_exporter": "python",
   "pygments_lexer": "ipython3",
   "version": "3.7.3"
  }
 },
 "nbformat": 4,
 "nbformat_minor": 1
}
