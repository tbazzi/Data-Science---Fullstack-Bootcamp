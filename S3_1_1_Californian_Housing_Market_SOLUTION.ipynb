{
  "nbformat": 4,
  "nbformat_minor": 0,
  "metadata": {
    "colab": {
      "name": "S3-1_1 Californian Housing Market - SOLUTION.ipynb",
      "provenance": [],
      "include_colab_link": true
    },
    "kernelspec": {
      "name": "python3",
      "display_name": "Python 3"
    }
  },
  "cells": [
    {
      "cell_type": "markdown",
      "metadata": {
        "id": "view-in-github",
        "colab_type": "text"
      },
      "source": [
        "<a href=\"https://colab.research.google.com/github/tbazzi/Data-Science---Fullstack-Bootcamp/blob/master/S3_1_1_Californian_Housing_Market_SOLUTION.ipynb\" target=\"_parent\"><img src=\"https://colab.research.google.com/assets/colab-badge.svg\" alt=\"Open In Colab\"/></a>"
      ]
    },
    {
      "cell_type": "markdown",
      "metadata": {
        "id": "Ir8u1QgWOXeZ",
        "colab_type": "text"
      },
      "source": [
        "# Californian Housing Market\n",
        "\n",
        "\n"
      ]
    },
    {
      "cell_type": "code",
      "metadata": {
        "id": "eT1UEGpNj6t0",
        "colab_type": "code",
        "colab": {}
      },
      "source": [
        ""
      ],
      "execution_count": 0,
      "outputs": []
    },
    {
      "cell_type": "markdown",
      "metadata": {
        "id": "yRLimEVTOcQf",
        "colab_type": "text"
      },
      "source": [
        "Dans Sklearn, il y a des datasets qui sont déjà pré-enregistré qu'on peut utiliser à nos fins pour appliquer des algorithmes de Machine Learning. Tentons de regarder le premier avec _Boston Housing Market_"
      ]
    },
    {
      "cell_type": "markdown",
      "metadata": {
        "id": "txxsZXhlOyaO",
        "colab_type": "text"
      },
      "source": [
        "1. Importez les librairies usuelles"
      ]
    },
    {
      "cell_type": "code",
      "metadata": {
        "id": "Ier711AbO0Mm",
        "colab_type": "code",
        "colab": {}
      },
      "source": [
        "import numpy as np\n",
        "import pandas as pd\n",
        "import matplotlib.pyplot as plt \n",
        "import seaborn as sns"
      ],
      "execution_count": 0,
      "outputs": []
    },
    {
      "cell_type": "markdown",
      "metadata": {
        "id": "TM4sZrYeOrSq",
        "colab_type": "text"
      },
      "source": [
        "    2. Utilisez les lignes de codes suivantes afin de récupérer les données sur les prix de l’immobilier en Californie :\n",
        "    \n",
        "```\n",
        "from sklearn import datasets\n",
        "data = datasets.california_housing.fetch_california_housing()\n",
        "```"
      ]
    },
    {
      "cell_type": "code",
      "metadata": {
        "id": "7uzNthAuOXOK",
        "colab_type": "code",
        "outputId": "169e6610-2b24-4ecf-87f5-1d48ed1a0b0e",
        "colab": {
          "base_uri": "https://localhost:8080/",
          "height": 54
        }
      },
      "source": [
        "from sklearn import datasets\n",
        "data = datasets.california_housing.fetch_california_housing() "
      ],
      "execution_count": 0,
      "outputs": [
        {
          "output_type": "stream",
          "text": [
            "Downloading Cal. housing from https://ndownloader.figshare.com/files/5976036 to /root/scikit_learn_data\n"
          ],
          "name": "stderr"
        }
      ]
    },
    {
      "cell_type": "code",
      "metadata": {
        "id": "AuwJEXKUtao3",
        "colab_type": "code",
        "outputId": "99305016-890b-49b4-d76e-06b078c42573",
        "colab": {
          "base_uri": "https://localhost:8080/",
          "height": 435
        }
      },
      "source": [
        "data"
      ],
      "execution_count": 0,
      "outputs": [
        {
          "output_type": "execute_result",
          "data": {
            "text/plain": [
              "{'DESCR': '.. _california_housing_dataset:\\n\\nCalifornia Housing dataset\\n--------------------------\\n\\n**Data Set Characteristics:**\\n\\n    :Number of Instances: 20640\\n\\n    :Number of Attributes: 8 numeric, predictive attributes and the target\\n\\n    :Attribute Information:\\n        - MedInc        median income in block\\n        - HouseAge      median house age in block\\n        - AveRooms      average number of rooms\\n        - AveBedrms     average number of bedrooms\\n        - Population    block population\\n        - AveOccup      average house occupancy\\n        - Latitude      house block latitude\\n        - Longitude     house block longitude\\n\\n    :Missing Attribute Values: None\\n\\nThis dataset was obtained from the StatLib repository.\\nhttp://lib.stat.cmu.edu/datasets/\\n\\nThe target variable is the median house value for California districts.\\n\\nThis dataset was derived from the 1990 U.S. census, using one row per census\\nblock group. A block group is the smallest geographical unit for which the U.S.\\nCensus Bureau publishes sample data (a block group typically has a population\\nof 600 to 3,000 people).\\n\\nIt can be downloaded/loaded using the\\n:func:`sklearn.datasets.fetch_california_housing` function.\\n\\n.. topic:: References\\n\\n    - Pace, R. Kelley and Ronald Barry, Sparse Spatial Autoregressions,\\n      Statistics and Probability Letters, 33 (1997) 291-297\\n',\n",
              " 'data': array([[   8.3252    ,   41.        ,    6.98412698, ...,    2.55555556,\n",
              "           37.88      , -122.23      ],\n",
              "        [   8.3014    ,   21.        ,    6.23813708, ...,    2.10984183,\n",
              "           37.86      , -122.22      ],\n",
              "        [   7.2574    ,   52.        ,    8.28813559, ...,    2.80225989,\n",
              "           37.85      , -122.24      ],\n",
              "        ...,\n",
              "        [   1.7       ,   17.        ,    5.20554273, ...,    2.3256351 ,\n",
              "           39.43      , -121.22      ],\n",
              "        [   1.8672    ,   18.        ,    5.32951289, ...,    2.12320917,\n",
              "           39.43      , -121.32      ],\n",
              "        [   2.3886    ,   16.        ,    5.25471698, ...,    2.61698113,\n",
              "           39.37      , -121.24      ]]),\n",
              " 'feature_names': ['MedInc',\n",
              "  'HouseAge',\n",
              "  'AveRooms',\n",
              "  'AveBedrms',\n",
              "  'Population',\n",
              "  'AveOccup',\n",
              "  'Latitude',\n",
              "  'Longitude'],\n",
              " 'target': array([4.526, 3.585, 3.521, ..., 0.923, 0.847, 0.894])}"
            ]
          },
          "metadata": {
            "tags": []
          },
          "execution_count": 3
        }
      ]
    },
    {
      "cell_type": "markdown",
      "metadata": {
        "id": "u6c9JJFfO-fe",
        "colab_type": "text"
      },
      "source": [
        "3. Utilisez UNE ligne de code pour obtenir les noms des différentes variables explicatives"
      ]
    },
    {
      "cell_type": "code",
      "metadata": {
        "id": "j-fpaqj6NSU-",
        "colab_type": "code",
        "outputId": "1ffb1255-5b66-4dd3-9670-81c26b7b8989",
        "colab": {
          "base_uri": "https://localhost:8080/",
          "height": 155
        }
      },
      "source": [
        "data[\"feature_names\"]"
      ],
      "execution_count": 0,
      "outputs": [
        {
          "output_type": "execute_result",
          "data": {
            "text/plain": [
              "['MedInc',\n",
              " 'HouseAge',\n",
              " 'AveRooms',\n",
              " 'AveBedrms',\n",
              " 'Population',\n",
              " 'AveOccup',\n",
              " 'Latitude',\n",
              " 'Longitude']"
            ]
          },
          "metadata": {
            "tags": []
          },
          "execution_count": 4
        }
      ]
    },
    {
      "cell_type": "markdown",
      "metadata": {
        "id": "hk8aFIWxPWnD",
        "colab_type": "text"
      },
      "source": [
        "4. On préfèrerait avoir ces données dans un DataFrame. Utilisez la librairies Pandas pour trouver un moyen de mettre ces données dans un DataFrame \n",
        "\n",
        "Vous pouvez aller plus particulièrement regarder le lien suivant : \n",
        "\n",
        "[DataFrame en Pandas](https://pandas.pydata.org/pandas-docs/stable/reference/api/pandas.DataFrame.html)"
      ]
    },
    {
      "cell_type": "code",
      "metadata": {
        "id": "YJYDTxH1PVF1",
        "colab_type": "code",
        "outputId": "ba0a2d6c-4f0d-46d7-bd07-48bbcc0ee93c",
        "colab": {
          "base_uri": "https://localhost:8080/",
          "height": 202
        }
      },
      "source": [
        "dataset = pd.DataFrame(columns=data[\"feature_names\"], data=data.data)\n",
        "dataset = pd.concat([dataset,pd.DataFrame({\"Price\":data.target})], axis=1)\n",
        "dataset.head()"
      ],
      "execution_count": 0,
      "outputs": [
        {
          "output_type": "execute_result",
          "data": {
            "text/html": [
              "<div>\n",
              "<style scoped>\n",
              "    .dataframe tbody tr th:only-of-type {\n",
              "        vertical-align: middle;\n",
              "    }\n",
              "\n",
              "    .dataframe tbody tr th {\n",
              "        vertical-align: top;\n",
              "    }\n",
              "\n",
              "    .dataframe thead th {\n",
              "        text-align: right;\n",
              "    }\n",
              "</style>\n",
              "<table border=\"1\" class=\"dataframe\">\n",
              "  <thead>\n",
              "    <tr style=\"text-align: right;\">\n",
              "      <th></th>\n",
              "      <th>MedInc</th>\n",
              "      <th>HouseAge</th>\n",
              "      <th>AveRooms</th>\n",
              "      <th>AveBedrms</th>\n",
              "      <th>Population</th>\n",
              "      <th>AveOccup</th>\n",
              "      <th>Latitude</th>\n",
              "      <th>Longitude</th>\n",
              "      <th>Price</th>\n",
              "    </tr>\n",
              "  </thead>\n",
              "  <tbody>\n",
              "    <tr>\n",
              "      <th>0</th>\n",
              "      <td>8.3252</td>\n",
              "      <td>41.0</td>\n",
              "      <td>6.984127</td>\n",
              "      <td>1.023810</td>\n",
              "      <td>322.0</td>\n",
              "      <td>2.555556</td>\n",
              "      <td>37.88</td>\n",
              "      <td>-122.23</td>\n",
              "      <td>4.526</td>\n",
              "    </tr>\n",
              "    <tr>\n",
              "      <th>1</th>\n",
              "      <td>8.3014</td>\n",
              "      <td>21.0</td>\n",
              "      <td>6.238137</td>\n",
              "      <td>0.971880</td>\n",
              "      <td>2401.0</td>\n",
              "      <td>2.109842</td>\n",
              "      <td>37.86</td>\n",
              "      <td>-122.22</td>\n",
              "      <td>3.585</td>\n",
              "    </tr>\n",
              "    <tr>\n",
              "      <th>2</th>\n",
              "      <td>7.2574</td>\n",
              "      <td>52.0</td>\n",
              "      <td>8.288136</td>\n",
              "      <td>1.073446</td>\n",
              "      <td>496.0</td>\n",
              "      <td>2.802260</td>\n",
              "      <td>37.85</td>\n",
              "      <td>-122.24</td>\n",
              "      <td>3.521</td>\n",
              "    </tr>\n",
              "    <tr>\n",
              "      <th>3</th>\n",
              "      <td>5.6431</td>\n",
              "      <td>52.0</td>\n",
              "      <td>5.817352</td>\n",
              "      <td>1.073059</td>\n",
              "      <td>558.0</td>\n",
              "      <td>2.547945</td>\n",
              "      <td>37.85</td>\n",
              "      <td>-122.25</td>\n",
              "      <td>3.413</td>\n",
              "    </tr>\n",
              "    <tr>\n",
              "      <th>4</th>\n",
              "      <td>3.8462</td>\n",
              "      <td>52.0</td>\n",
              "      <td>6.281853</td>\n",
              "      <td>1.081081</td>\n",
              "      <td>565.0</td>\n",
              "      <td>2.181467</td>\n",
              "      <td>37.85</td>\n",
              "      <td>-122.25</td>\n",
              "      <td>3.422</td>\n",
              "    </tr>\n",
              "  </tbody>\n",
              "</table>\n",
              "</div>"
            ],
            "text/plain": [
              "   MedInc  HouseAge  AveRooms  AveBedrms  ...  AveOccup  Latitude  Longitude  Price\n",
              "0  8.3252      41.0  6.984127   1.023810  ...  2.555556     37.88    -122.23  4.526\n",
              "1  8.3014      21.0  6.238137   0.971880  ...  2.109842     37.86    -122.22  3.585\n",
              "2  7.2574      52.0  8.288136   1.073446  ...  2.802260     37.85    -122.24  3.521\n",
              "3  5.6431      52.0  5.817352   1.073059  ...  2.547945     37.85    -122.25  3.413\n",
              "4  3.8462      52.0  6.281853   1.081081  ...  2.181467     37.85    -122.25  3.422\n",
              "\n",
              "[5 rows x 9 columns]"
            ]
          },
          "metadata": {
            "tags": []
          },
          "execution_count": 5
        }
      ]
    },
    {
      "cell_type": "code",
      "metadata": {
        "id": "l9D8Md9x2vYJ",
        "colab_type": "code",
        "outputId": "e5a087d6-fd36-4716-a090-d974235590a9",
        "colab": {
          "base_uri": "https://localhost:8080/",
          "height": 727
        }
      },
      "source": [
        "print(data.DESCR)"
      ],
      "execution_count": 0,
      "outputs": [
        {
          "output_type": "stream",
          "text": [
            ".. _california_housing_dataset:\n",
            "\n",
            "California Housing dataset\n",
            "--------------------------\n",
            "\n",
            "**Data Set Characteristics:**\n",
            "\n",
            "    :Number of Instances: 20640\n",
            "\n",
            "    :Number of Attributes: 8 numeric, predictive attributes and the target\n",
            "\n",
            "    :Attribute Information:\n",
            "        - MedInc        median income in block\n",
            "        - HouseAge      median house age in block\n",
            "        - AveRooms      average number of rooms\n",
            "        - AveBedrms     average number of bedrooms\n",
            "        - Population    block population\n",
            "        - AveOccup      average house occupancy\n",
            "        - Latitude      house block latitude\n",
            "        - Longitude     house block longitude\n",
            "\n",
            "    :Missing Attribute Values: None\n",
            "\n",
            "This dataset was obtained from the StatLib repository.\n",
            "http://lib.stat.cmu.edu/datasets/\n",
            "\n",
            "The target variable is the median house value for California districts.\n",
            "\n",
            "This dataset was derived from the 1990 U.S. census, using one row per census\n",
            "block group. A block group is the smallest geographical unit for which the U.S.\n",
            "Census Bureau publishes sample data (a block group typically has a population\n",
            "of 600 to 3,000 people).\n",
            "\n",
            "It can be downloaded/loaded using the\n",
            ":func:`sklearn.datasets.fetch_california_housing` function.\n",
            "\n",
            ".. topic:: References\n",
            "\n",
            "    - Pace, R. Kelley and Ronald Barry, Sparse Spatial Autoregressions,\n",
            "      Statistics and Probability Letters, 33 (1997) 291-297\n",
            "\n"
          ],
          "name": "stdout"
        }
      ]
    },
    {
      "cell_type": "markdown",
      "metadata": {
        "id": "WOUcwmAAROYA",
        "colab_type": "text"
      },
      "source": [
        "5. Visualisez l'impact de chacune des variables sur le prix avec Seaborn "
      ]
    },
    {
      "cell_type": "markdown",
      "metadata": {
        "id": "v6zrqrFlRpoY",
        "colab_type": "text"
      },
      "source": [
        "a. Faites un nuage de points pour exprimer _MedInc_ en fonction de _Price_"
      ]
    },
    {
      "cell_type": "code",
      "metadata": {
        "id": "iaY0SdCAQjD0",
        "colab_type": "code",
        "outputId": "6cd3de78-3632-4c84-c4c4-c1551f7400dd",
        "colab": {
          "base_uri": "https://localhost:8080/",
          "height": 164
        }
      },
      "source": [
        "sns.relplot(x=dataset.columns[0], y=dataset.columns[-1], data= dataset, kind=\"line\")"
      ],
      "execution_count": 0,
      "outputs": [
        {
          "output_type": "error",
          "ename": "NameError",
          "evalue": "ignored",
          "traceback": [
            "\u001b[0;31m---------------------------------------------------------------------------\u001b[0m",
            "\u001b[0;31mNameError\u001b[0m                                 Traceback (most recent call last)",
            "\u001b[0;32m<ipython-input-1-513f0c66dd87>\u001b[0m in \u001b[0;36m<module>\u001b[0;34m()\u001b[0m\n\u001b[0;32m----> 1\u001b[0;31m \u001b[0msns\u001b[0m\u001b[0;34m.\u001b[0m\u001b[0mrelplot\u001b[0m\u001b[0;34m(\u001b[0m\u001b[0mx\u001b[0m\u001b[0;34m=\u001b[0m\u001b[0mdataset\u001b[0m\u001b[0;34m.\u001b[0m\u001b[0mcolumns\u001b[0m\u001b[0;34m[\u001b[0m\u001b[0;36m0\u001b[0m\u001b[0;34m]\u001b[0m\u001b[0;34m,\u001b[0m \u001b[0my\u001b[0m\u001b[0;34m=\u001b[0m\u001b[0mdataset\u001b[0m\u001b[0;34m.\u001b[0m\u001b[0mcolumns\u001b[0m\u001b[0;34m[\u001b[0m\u001b[0;34m-\u001b[0m\u001b[0;36m1\u001b[0m\u001b[0;34m]\u001b[0m\u001b[0;34m,\u001b[0m \u001b[0mdata\u001b[0m\u001b[0;34m=\u001b[0m \u001b[0mdataset\u001b[0m\u001b[0;34m,\u001b[0m \u001b[0mkind\u001b[0m\u001b[0;34m=\u001b[0m\u001b[0;34m\"line\"\u001b[0m\u001b[0;34m)\u001b[0m\u001b[0;34m\u001b[0m\u001b[0;34m\u001b[0m\u001b[0m\n\u001b[0m",
            "\u001b[0;31mNameError\u001b[0m: name 'sns' is not defined"
          ]
        }
      ]
    },
    {
      "cell_type": "markdown",
      "metadata": {
        "id": "oozrRP_XSAwe",
        "colab_type": "text"
      },
      "source": [
        "b. Regardez maintenant l'influence de l'âge de la maison par rapport au prix"
      ]
    },
    {
      "cell_type": "code",
      "metadata": {
        "id": "fKoJlzZuRYd2",
        "colab_type": "code",
        "outputId": "669eeb4b-a3c1-41b8-b66d-22b7d0146baa",
        "colab": {
          "base_uri": "https://localhost:8080/",
          "height": 386
        }
      },
      "source": [
        "sns.relplot(x=dataset.columns[1], y=dataset.columns[-1], data= dataset, kind=\"line\")"
      ],
      "execution_count": 0,
      "outputs": [
        {
          "output_type": "execute_result",
          "data": {
            "text/plain": [
              "<seaborn.axisgrid.FacetGrid at 0x7f1ce6425eb8>"
            ]
          },
          "metadata": {
            "tags": []
          },
          "execution_count": 8
        },
        {
          "output_type": "display_data",
          "data": {
            "image/png": "[encoded data removed]",
            "text/plain": [
              "<Figure size 360x360 with 1 Axes>"
            ]
          },
          "metadata": {
            "tags": []
          }
        }
      ]
    },
    {
      "cell_type": "markdown",
      "metadata": {
        "id": "vO09m2XGei7M",
        "colab_type": "text"
      },
      "source": [
        "c. Trouvez un moyen de regarder la tendance entre _AveRooms_ & _Price_"
      ]
    },
    {
      "cell_type": "code",
      "metadata": {
        "id": "Il_W45_NzpU0",
        "colab_type": "code",
        "outputId": "4192b639-a23a-45fc-b8de-9849a2e6235c",
        "colab": {
          "base_uri": "https://localhost:8080/",
          "height": 386
        }
      },
      "source": [
        "sns.relplot(x=dataset.columns[2], y=dataset.columns[-1], data= dataset, kind=\"line\")"
      ],
      "execution_count": 0,
      "outputs": [
        {
          "output_type": "execute_result",
          "data": {
            "text/plain": [
              "<seaborn.axisgrid.FacetGrid at 0x7efc1e837f60>"
            ]
          },
          "metadata": {
            "tags": []
          },
          "execution_count": 10
        },
        {
          "output_type": "display_data",
          "data": {
            "image/png": "[encoded data removed]",
            "text/plain": [
              "<Figure size 360x360 with 1 Axes>"
            ]
          },
          "metadata": {
            "tags": []
          }
        }
      ]
    },
    {
      "cell_type": "code",
      "metadata": {
        "id": "JauqrrVgyySj",
        "colab_type": "code",
        "outputId": "2c2964fd-3050-41b1-8a7d-73f4e955c218",
        "colab": {
          "base_uri": "https://localhost:8080/",
          "height": 386
        }
      },
      "source": [
        "sns.lmplot(x=dataset.columns[2], y=dataset.columns[-1], data= dataset)"
      ],
      "execution_count": 0,
      "outputs": [
        {
          "output_type": "execute_result",
          "data": {
            "text/plain": [
              "<seaborn.axisgrid.FacetGrid at 0x7efc1e6421d0>"
            ]
          },
          "metadata": {
            "tags": []
          },
          "execution_count": 11
        },
        {
          "output_type": "display_data",
          "data": {
            "image/png": "[encoded data removed]",
            "text/plain": [
              "<Figure size 360x360 with 1 Axes>"
            ]
          },
          "metadata": {
            "tags": []
          }
        }
      ]
    },
    {
      "cell_type": "code",
      "metadata": {
        "id": "_Oymvr61STJX",
        "colab_type": "code",
        "outputId": "3f7644fb-5e56-498f-90f7-b6892be9eb0d",
        "colab": {
          "base_uri": "https://localhost:8080/",
          "height": 386
        }
      },
      "source": [
        "sns.lmplot(x=dataset.columns[2], y=dataset.columns[-1], data= dataset.loc[dataset[\"AveRooms\"]<10])"
      ],
      "execution_count": 0,
      "outputs": [
        {
          "output_type": "execute_result",
          "data": {
            "text/plain": [
              "<seaborn.axisgrid.FacetGrid at 0x7efc1e753ef0>"
            ]
          },
          "metadata": {
            "tags": []
          },
          "execution_count": 12
        },
        {
          "output_type": "display_data",
          "data": {
            "image/png": "[encoded data removed]",
            "text/plain": [
              "<Figure size 360x360 with 1 Axes>"
            ]
          },
          "metadata": {
            "tags": []
          }
        }
      ]
    },
    {
      "cell_type": "code",
      "metadata": {
        "id": "Ylgnsdp1yY_M",
        "colab_type": "code",
        "outputId": "ab43d5cf-080a-47de-a07c-915bb87e8c37",
        "colab": {
          "base_uri": "https://localhost:8080/",
          "height": 386
        }
      },
      "source": [
        "sns.lmplot(x=dataset.columns[2], y=dataset.columns[-1], data= dataset.loc[dataset[\"AveRooms\"]>=10])"
      ],
      "execution_count": 0,
      "outputs": [
        {
          "output_type": "execute_result",
          "data": {
            "text/plain": [
              "<seaborn.axisgrid.FacetGrid at 0x7efc1e642828>"
            ]
          },
          "metadata": {
            "tags": []
          },
          "execution_count": 13
        },
        {
          "output_type": "display_data",
          "data": {
            "image/png": "[encoded data removed]",
            "text/plain": [
              "<Figure size 360x360 with 1 Axes>"
            ]
          },
          "metadata": {
            "tags": []
          }
        }
      ]
    },
    {
      "cell_type": "markdown",
      "metadata": {
        "id": "tZDPnFjSfIRm",
        "colab_type": "text"
      },
      "source": [
        "d. Faites de même avec _AveBedrms_ & _Price_"
      ]
    },
    {
      "cell_type": "code",
      "metadata": {
        "id": "nI6crxaxSYYy",
        "colab_type": "code",
        "outputId": "5030a2fe-5187-4223-cc48-9082e4f3d2ee",
        "colab": {
          "base_uri": "https://localhost:8080/",
          "height": 386
        }
      },
      "source": [
        "sns.lmplot(x=dataset.columns[3], y=dataset.columns[-1], data= dataset)"
      ],
      "execution_count": 0,
      "outputs": [
        {
          "output_type": "execute_result",
          "data": {
            "text/plain": [
              "<seaborn.axisgrid.FacetGrid at 0x7efc1e767ba8>"
            ]
          },
          "metadata": {
            "tags": []
          },
          "execution_count": 14
        },
        {
          "output_type": "display_data",
          "data": {
            "image/png": "[encoded data removed]",
            "text/plain": [
              "<Figure size 360x360 with 1 Axes>"
            ]
          },
          "metadata": {
            "tags": []
          }
        }
      ]
    },
    {
      "cell_type": "markdown",
      "metadata": {
        "id": "mpkL2Z0PfZ4D",
        "colab_type": "text"
      },
      "source": [
        "e. Faites de même avec la population. Simplement, filtrez le dataset pour qu'il ne contienne uniquement les valeurs pour lesquelles la population est inférieur à 15000"
      ]
    },
    {
      "cell_type": "code",
      "metadata": {
        "id": "sNhCVJcpT-uh",
        "colab_type": "code",
        "outputId": "63bafb19-8462-465a-a170-d8d47b6621d3",
        "colab": {
          "base_uri": "https://localhost:8080/",
          "height": 386
        }
      },
      "source": [
        "sns.lmplot(x=dataset.columns[4], y=dataset.columns[-1], data= dataset.query(\"Population<15000\"))"
      ],
      "execution_count": 0,
      "outputs": [
        {
          "output_type": "execute_result",
          "data": {
            "text/plain": [
              "<seaborn.axisgrid.FacetGrid at 0x7efc1e7179b0>"
            ]
          },
          "metadata": {
            "tags": []
          },
          "execution_count": 15
        },
        {
          "output_type": "display_data",
          "data": {
            "image/png": "[encoded data removed]",
            "text/plain": [
              "<Figure size 360x360 with 1 Axes>"
            ]
          },
          "metadata": {
            "tags": []
          }
        }
      ]
    },
    {
      "cell_type": "markdown",
      "metadata": {
        "id": "tzPY-V8KfkSM",
        "colab_type": "text"
      },
      "source": [
        "f. Faites de même avec _AveOccup_. Cette fois filtrez la colonne pour ne garder unqiuement les valeurs inférieures à 100"
      ]
    },
    {
      "cell_type": "code",
      "metadata": {
        "id": "s35szTI0fP_o",
        "colab_type": "code",
        "outputId": "84721cf1-cb6a-4f5c-90d9-51011c3ee74a",
        "colab": {
          "base_uri": "https://localhost:8080/",
          "height": 386
        }
      },
      "source": [
        "sns.lmplot(x=dataset.columns[5], y=dataset.columns[-1], data= dataset.query(\"AveOccup<100\"))"
      ],
      "execution_count": 0,
      "outputs": [
        {
          "output_type": "execute_result",
          "data": {
            "text/plain": [
              "<seaborn.axisgrid.FacetGrid at 0x7efc1e615240>"
            ]
          },
          "metadata": {
            "tags": []
          },
          "execution_count": 16
        },
        {
          "output_type": "display_data",
          "data": {
            "image/png": "[encoded data removed]",
            "text/plain": [
              "<Figure size 360x360 with 1 Axes>"
            ]
          },
          "metadata": {
            "tags": []
          }
        }
      ]
    },
    {
      "cell_type": "markdown",
      "metadata": {
        "id": "xY42m782gCdt",
        "colab_type": "text"
      },
      "source": [
        "6. Coupez votre dataset en deux. Vous aurez ```X``` comprenant les variables explicatives et  ```y``` contenant la variable cible"
      ]
    },
    {
      "cell_type": "code",
      "metadata": {
        "id": "cS1AeUQ9frHq",
        "colab_type": "code",
        "colab": {}
      },
      "source": [
        "X = dataset.iloc[:, :-1]\n",
        "y = dataset.iloc[:, -1:]\n"
      ],
      "execution_count": 0,
      "outputs": []
    },
    {
      "cell_type": "markdown",
      "metadata": {
        "id": "Bkq-jhumgakY",
        "colab_type": "text"
      },
      "source": [
        "7. Maintenant, séparez votre dataset en un *train_set* et un *test_set*. On utilisera scikitlearn pour cela "
      ]
    },
    {
      "cell_type": "code",
      "metadata": {
        "id": "_TM7BZvsgYza",
        "colab_type": "code",
        "colab": {}
      },
      "source": [
        "from sklearn.model_selection import train_test_split\n",
        "\n",
        "X_train, X_test, y_train, y_test = train_test_split(X, y, test_size = 0.2)\n"
      ],
      "execution_count": 0,
      "outputs": []
    },
    {
      "cell_type": "markdown",
      "metadata": {
        "id": "vK4ssZlGgyaO",
        "colab_type": "text"
      },
      "source": [
        "8. A votre avis, a-t-on besoin d'une phase de normalisation ? Si oui, faites là via scikitlearn"
      ]
    },
    {
      "cell_type": "code",
      "metadata": {
        "id": "hWw4BppEgnQZ",
        "colab_type": "code",
        "colab": {}
      },
      "source": [
        "from sklearn.preprocessing import StandardScaler\n",
        "\n",
        "sc_x = StandardScaler()\n",
        "\n",
        "sc_x_fit = sc_x.fit(X_train)\n",
        "\n",
        "X_train = sc_x.fit_transform(X_train)\n",
        "X_test = sc_x.transform(X_test)"
      ],
      "execution_count": 0,
      "outputs": []
    },
    {
      "cell_type": "markdown",
      "metadata": {
        "id": "4gDLDh5rhJST",
        "colab_type": "text"
      },
      "source": [
        "9. Créez votre modèle de régression linéaire via scikit learn"
      ]
    },
    {
      "cell_type": "code",
      "metadata": {
        "id": "FW67uyt6hI1v",
        "colab_type": "code",
        "outputId": "a24df9ed-1c71-4897-dc2b-4e9f0373a48d",
        "colab": {
          "base_uri": "https://localhost:8080/",
          "height": 34
        }
      },
      "source": [
        "from sklearn.linear_model import LinearRegression\n",
        "regressor = LinearRegression()\n",
        "regressor.fit(X_train, y_train)"
      ],
      "execution_count": 0,
      "outputs": [
        {
          "output_type": "execute_result",
          "data": {
            "text/plain": [
              "LinearRegression(copy_X=True, fit_intercept=True, n_jobs=None, normalize=False)"
            ]
          },
          "metadata": {
            "tags": []
          },
          "execution_count": 14
        }
      ]
    },
    {
      "cell_type": "markdown",
      "metadata": {
        "id": "3aF7aAXphcHm",
        "colab_type": "text"
      },
      "source": [
        "10. Affichez votre score R2 via scikitlearn sur vos données de test. Commentez les résultats de votre score. "
      ]
    },
    {
      "cell_type": "code",
      "metadata": {
        "id": "jKz61itehbg0",
        "colab_type": "code",
        "outputId": "d6d226ad-0328-4fda-99ba-d08e5d722b11",
        "colab": {
          "base_uri": "https://localhost:8080/",
          "height": 34
        }
      },
      "source": [
        "regressor.score(X_test, y_test)"
      ],
      "execution_count": 0,
      "outputs": [
        {
          "output_type": "execute_result",
          "data": {
            "text/plain": [
              "0.6087804203225713"
            ]
          },
          "metadata": {
            "tags": []
          },
          "execution_count": 15
        }
      ]
    },
    {
      "cell_type": "markdown",
      "metadata": {
        "id": "BGlJzl83hwbL",
        "colab_type": "text"
      },
      "source": [
        "11. Affichez les coefficients de chacune des variables explicatives "
      ]
    },
    {
      "cell_type": "code",
      "metadata": {
        "id": "0K_IfMmvhhIa",
        "colab_type": "code",
        "outputId": "5dc827f8-b079-4791-b1e5-a532b8e88826",
        "colab": {
          "base_uri": "https://localhost:8080/",
          "height": 50
        }
      },
      "source": [
        "regressor.coef_"
      ],
      "execution_count": 0,
      "outputs": [
        {
          "output_type": "execute_result",
          "data": {
            "text/plain": [
              "array([[ 0.83486959,  0.12239066, -0.27633701,  0.31767189, -0.00336145,\n",
              "        -0.04200235, -0.88895706, -0.86017154]])"
            ]
          },
          "metadata": {
            "tags": []
          },
          "execution_count": 22
        }
      ]
    },
    {
      "cell_type": "markdown",
      "metadata": {
        "id": "V4xUT7bIiBfL",
        "colab_type": "text"
      },
      "source": [
        "12. Créez un DataFrame dans lequel vous aurez les colonnes qui se rapportent au bon coefficient"
      ]
    },
    {
      "cell_type": "code",
      "metadata": {
        "id": "jPEF28xZh3l1",
        "colab_type": "code",
        "outputId": "abf90398-d95f-4835-bf2b-018e80fb2ed3",
        "colab": {
          "base_uri": "https://localhost:8080/",
          "height": 284
        }
      },
      "source": [
        "coefs = pd.DataFrame(index=dataset.columns[:-1], data = regressor.coef_.transpose(), columns=[\"coefficients\"])\n",
        "coefs"
      ],
      "execution_count": 0,
      "outputs": [
        {
          "output_type": "execute_result",
          "data": {
            "text/html": [
              "<div>\n",
              "<style scoped>\n",
              "    .dataframe tbody tr th:only-of-type {\n",
              "        vertical-align: middle;\n",
              "    }\n",
              "\n",
              "    .dataframe tbody tr th {\n",
              "        vertical-align: top;\n",
              "    }\n",
              "\n",
              "    .dataframe thead th {\n",
              "        text-align: right;\n",
              "    }\n",
              "</style>\n",
              "<table border=\"1\" class=\"dataframe\">\n",
              "  <thead>\n",
              "    <tr style=\"text-align: right;\">\n",
              "      <th></th>\n",
              "      <th>coefficients</th>\n",
              "    </tr>\n",
              "  </thead>\n",
              "  <tbody>\n",
              "    <tr>\n",
              "      <th>MedInc</th>\n",
              "      <td>0.834870</td>\n",
              "    </tr>\n",
              "    <tr>\n",
              "      <th>HouseAge</th>\n",
              "      <td>0.122391</td>\n",
              "    </tr>\n",
              "    <tr>\n",
              "      <th>AveRooms</th>\n",
              "      <td>-0.276337</td>\n",
              "    </tr>\n",
              "    <tr>\n",
              "      <th>AveBedrms</th>\n",
              "      <td>0.317672</td>\n",
              "    </tr>\n",
              "    <tr>\n",
              "      <th>Population</th>\n",
              "      <td>-0.003361</td>\n",
              "    </tr>\n",
              "    <tr>\n",
              "      <th>AveOccup</th>\n",
              "      <td>-0.042002</td>\n",
              "    </tr>\n",
              "    <tr>\n",
              "      <th>Latitude</th>\n",
              "      <td>-0.888957</td>\n",
              "    </tr>\n",
              "    <tr>\n",
              "      <th>Longitude</th>\n",
              "      <td>-0.860172</td>\n",
              "    </tr>\n",
              "  </tbody>\n",
              "</table>\n",
              "</div>"
            ],
            "text/plain": [
              "            coefficients\n",
              "MedInc          0.834870\n",
              "HouseAge        0.122391\n",
              "AveRooms       -0.276337\n",
              "AveBedrms       0.317672\n",
              "Population     -0.003361\n",
              "AveOccup       -0.042002\n",
              "Latitude       -0.888957\n",
              "Longitude      -0.860172"
            ]
          },
          "metadata": {
            "tags": []
          },
          "execution_count": 23
        }
      ]
    },
    {
      "cell_type": "markdown",
      "metadata": {
        "id": "mqOoZVWhjIEg",
        "colab_type": "text"
      },
      "source": [
        "13. ordonnez ce dataset par ordre décroissant. Que pouvez vous maintenant conclure ? "
      ]
    },
    {
      "cell_type": "code",
      "metadata": {
        "id": "HViGTS1dik_W",
        "colab_type": "code",
        "outputId": "319e3d01-63f8-4f7d-8231-e0352c11b13a",
        "colab": {
          "base_uri": "https://localhost:8080/",
          "height": 284
        }
      },
      "source": [
        "coefs.sort_values(by=\"coefficients\", ascending=False)"
      ],
      "execution_count": 0,
      "outputs": [
        {
          "output_type": "execute_result",
          "data": {
            "text/html": [
              "<div>\n",
              "<style scoped>\n",
              "    .dataframe tbody tr th:only-of-type {\n",
              "        vertical-align: middle;\n",
              "    }\n",
              "\n",
              "    .dataframe tbody tr th {\n",
              "        vertical-align: top;\n",
              "    }\n",
              "\n",
              "    .dataframe thead th {\n",
              "        text-align: right;\n",
              "    }\n",
              "</style>\n",
              "<table border=\"1\" class=\"dataframe\">\n",
              "  <thead>\n",
              "    <tr style=\"text-align: right;\">\n",
              "      <th></th>\n",
              "      <th>coefficients</th>\n",
              "    </tr>\n",
              "  </thead>\n",
              "  <tbody>\n",
              "    <tr>\n",
              "      <th>MedInc</th>\n",
              "      <td>0.834870</td>\n",
              "    </tr>\n",
              "    <tr>\n",
              "      <th>AveBedrms</th>\n",
              "      <td>0.317672</td>\n",
              "    </tr>\n",
              "    <tr>\n",
              "      <th>HouseAge</th>\n",
              "      <td>0.122391</td>\n",
              "    </tr>\n",
              "    <tr>\n",
              "      <th>Population</th>\n",
              "      <td>-0.003361</td>\n",
              "    </tr>\n",
              "    <tr>\n",
              "      <th>AveOccup</th>\n",
              "      <td>-0.042002</td>\n",
              "    </tr>\n",
              "    <tr>\n",
              "      <th>AveRooms</th>\n",
              "      <td>-0.276337</td>\n",
              "    </tr>\n",
              "    <tr>\n",
              "      <th>Longitude</th>\n",
              "      <td>-0.860172</td>\n",
              "    </tr>\n",
              "    <tr>\n",
              "      <th>Latitude</th>\n",
              "      <td>-0.888957</td>\n",
              "    </tr>\n",
              "  </tbody>\n",
              "</table>\n",
              "</div>"
            ],
            "text/plain": [
              "            coefficients\n",
              "MedInc          0.834870\n",
              "AveBedrms       0.317672\n",
              "HouseAge        0.122391\n",
              "Population     -0.003361\n",
              "AveOccup       -0.042002\n",
              "AveRooms       -0.276337\n",
              "Longitude      -0.860172\n",
              "Latitude       -0.888957"
            ]
          },
          "metadata": {
            "tags": []
          },
          "execution_count": 24
        }
      ]
    },
    {
      "cell_type": "markdown",
      "metadata": {
        "id": "U5TUOealjrqh",
        "colab_type": "text"
      },
      "source": [
        "---> Les colonnes ayant le plus d'influence sont les MedInc, la Longitude & Latitude ainsi que le nombre de lit.  "
      ]
    },
    {
      "cell_type": "markdown",
      "metadata": {
        "id": "UvJV4SPvj2uz",
        "colab_type": "text"
      },
      "source": [
        "14. En général, on évite de regarder les coefficients pour déterminer l'importance des features. On va plutôt utiliser quelque chose que ```f_regression```\n",
        "\n",
        "Regardez la documentation de sckitlearn pour essayer de réussir à mettre en place cette metric"
      ]
    },
    {
      "cell_type": "code",
      "metadata": {
        "id": "5R72p7JxjZfo",
        "colab_type": "code",
        "outputId": "add2169b-891f-45de-92ff-c1706d9c112b",
        "colab": {
          "base_uri": "https://localhost:8080/",
          "height": 138
        }
      },
      "source": [
        "from sklearn.feature_selection import f_regression\n",
        "\n",
        "\n",
        "feature_importance = f_regression(X_train, y_train)\n",
        "feature_importance"
      ],
      "execution_count": 0,
      "outputs": [
        {
          "output_type": "stream",
          "text": [
            "/usr/local/lib/python3.6/dist-packages/sklearn/utils/validation.py:724: DataConversionWarning: A column-vector y was passed when a 1d array was expected. Please change the shape of y to (n_samples, ), for example using ravel().\n",
            "  y = column_or_1d(y, warn=True)\n"
          ],
          "name": "stderr"
        },
        {
          "output_type": "execute_result",
          "data": {
            "text/plain": [
              "(array([1.49467742e+04, 1.97303947e+02, 3.90849527e+02, 2.91680029e+01,\n",
              "        1.03410299e+01, 6.63047752e+00, 3.34447948e+02, 4.06119018e+01]),\n",
              " array([0.00000000e+00, 1.46132769e-44, 5.33381182e-86, 6.72842498e-08,\n",
              "        1.30355883e-03, 1.00334633e-02, 5.54865942e-74, 1.90591572e-10]))"
            ]
          },
          "metadata": {
            "tags": []
          },
          "execution_count": 26
        }
      ]
    },
    {
      "cell_type": "markdown",
      "metadata": {
        "id": "VgqBshYVnTCE",
        "colab_type": "text"
      },
      "source": [
        "15. Mettez ensuite vos résultats dans un dataframe pour qu'on puisse les interpréter "
      ]
    },
    {
      "cell_type": "code",
      "metadata": {
        "id": "1MHVAohwmka0",
        "colab_type": "code",
        "outputId": "52ec7925-6eca-468f-9aa9-0f60c76194de",
        "colab": {
          "base_uri": "https://localhost:8080/",
          "height": 284
        }
      },
      "source": [
        "feature_ranking = pd.DataFrame(columns=dataset.columns[:-1], data=feature_importance, index=[\"f-score\", \"p-value\"]).transpose().sort_values([\"f-score\", \"p-value\"], ascending=False)\n",
        "feature_ranking"
      ],
      "execution_count": 0,
      "outputs": [
        {
          "output_type": "execute_result",
          "data": {
            "text/html": [
              "<div>\n",
              "<style scoped>\n",
              "    .dataframe tbody tr th:only-of-type {\n",
              "        vertical-align: middle;\n",
              "    }\n",
              "\n",
              "    .dataframe tbody tr th {\n",
              "        vertical-align: top;\n",
              "    }\n",
              "\n",
              "    .dataframe thead th {\n",
              "        text-align: right;\n",
              "    }\n",
              "</style>\n",
              "<table border=\"1\" class=\"dataframe\">\n",
              "  <thead>\n",
              "    <tr style=\"text-align: right;\">\n",
              "      <th></th>\n",
              "      <th>f-score</th>\n",
              "      <th>p-value</th>\n",
              "    </tr>\n",
              "  </thead>\n",
              "  <tbody>\n",
              "    <tr>\n",
              "      <th>MedInc</th>\n",
              "      <td>14946.774173</td>\n",
              "      <td>0.000000e+00</td>\n",
              "    </tr>\n",
              "    <tr>\n",
              "      <th>AveRooms</th>\n",
              "      <td>390.849527</td>\n",
              "      <td>5.333812e-86</td>\n",
              "    </tr>\n",
              "    <tr>\n",
              "      <th>Latitude</th>\n",
              "      <td>334.447948</td>\n",
              "      <td>5.548659e-74</td>\n",
              "    </tr>\n",
              "    <tr>\n",
              "      <th>HouseAge</th>\n",
              "      <td>197.303947</td>\n",
              "      <td>1.461328e-44</td>\n",
              "    </tr>\n",
              "    <tr>\n",
              "      <th>Longitude</th>\n",
              "      <td>40.611902</td>\n",
              "      <td>1.905916e-10</td>\n",
              "    </tr>\n",
              "    <tr>\n",
              "      <th>AveBedrms</th>\n",
              "      <td>29.168003</td>\n",
              "      <td>6.728425e-08</td>\n",
              "    </tr>\n",
              "    <tr>\n",
              "      <th>Population</th>\n",
              "      <td>10.341030</td>\n",
              "      <td>1.303559e-03</td>\n",
              "    </tr>\n",
              "    <tr>\n",
              "      <th>AveOccup</th>\n",
              "      <td>6.630478</td>\n",
              "      <td>1.003346e-02</td>\n",
              "    </tr>\n",
              "  </tbody>\n",
              "</table>\n",
              "</div>"
            ],
            "text/plain": [
              "                 f-score       p-value\n",
              "MedInc      14946.774173  0.000000e+00\n",
              "AveRooms      390.849527  5.333812e-86\n",
              "Latitude      334.447948  5.548659e-74\n",
              "HouseAge      197.303947  1.461328e-44\n",
              "Longitude      40.611902  1.905916e-10\n",
              "AveBedrms      29.168003  6.728425e-08\n",
              "Population     10.341030  1.303559e-03\n",
              "AveOccup        6.630478  1.003346e-02"
            ]
          },
          "metadata": {
            "tags": []
          },
          "execution_count": 27
        }
      ]
    },
    {
      "cell_type": "code",
      "metadata": {
        "id": "nY68IS-kpfJK",
        "colab_type": "code",
        "outputId": "63df8c4c-805e-43e2-d8e2-e6dca5b014f9",
        "colab": {
          "base_uri": "https://localhost:8080/",
          "height": 233
        }
      },
      "source": [
        "ax = sns.catplot(x=feature_ranking.columns[0], y=[index for index in feature_ranking.index], data=feature_ranking, kind=\"bar\", legend=False)\n",
        "ax.set(xlabel='F-score', ylabel='Features')\n",
        "plt.show()"
      ],
      "execution_count": 0,
      "outputs": [
        {
          "output_type": "display_data",
          "data": {
            "image/png": "[encoded data removed]",
            "text/plain": [
              "<Figure size 360x360 with 1 Axes>"
            ]
          },
          "metadata": {
            "tags": []
          }
        }
      ]
    },
    {
      "cell_type": "markdown",
      "metadata": {
        "id": "EFVsEtWKpV2c",
        "colab_type": "text"
      },
      "source": [
        "---> Ici, on voit que le classement des features est légèremetn différents. C'est sur ce f-score que l'on se fiera pour la suite des exercices. "
      ]
    },
    {
      "cell_type": "markdown",
      "metadata": {
        "id": "CJnSgnMQtNTR",
        "colab_type": "text"
      },
      "source": [
        "**Questions supplémentaires**\n",
        "\n",
        "  \n",
        " "
      ]
    },
    {
      "cell_type": "markdown",
      "metadata": {
        "id": "Tkcn2zD6ByQl",
        "colab_type": "text"
      },
      "source": [
        "16. Prenez un échantillon de votre dataset via ```.sample()``` On prendra 150 valeurs"
      ]
    },
    {
      "cell_type": "code",
      "metadata": {
        "id": "WzSB3akIB6OC",
        "colab_type": "code",
        "colab": {}
      },
      "source": [
        "dataset = dataset.sample(150)\n",
        "dataset.head()"
      ],
      "execution_count": 0,
      "outputs": []
    },
    {
      "cell_type": "markdown",
      "metadata": {
        "id": "iOOcG0C4dFEC",
        "colab_type": "text"
      },
      "source": [
        "17. Faites un reset des index pour avoir une suite de nombre comprise en 0 et la taille du dataset"
      ]
    },
    {
      "cell_type": "code",
      "metadata": {
        "id": "RTRSN1QKdPk3",
        "colab_type": "code",
        "colab": {}
      },
      "source": [
        "dataset = dataset.reset_index(drop = True)\n",
        "dataset.head()"
      ],
      "execution_count": 0,
      "outputs": []
    },
    {
      "cell_type": "markdown",
      "metadata": {
        "id": "_ZQEamsqCADy",
        "colab_type": "text"
      },
      "source": [
        "  17. Utilisez l’aide suivante afin de traduire la longitude et la latitude des données pour trouver les villes correspondant à chaque observation : [geopy](https://pypi.org/project/geopy)"
      ]
    },
    {
      "cell_type": "code",
      "metadata": {
        "id": "AaHYyq0nqulD",
        "colab_type": "code",
        "outputId": "ce2a2aba-2448-461e-c227-2cfcb57675b5",
        "colab": {
          "base_uri": "https://localhost:8080/",
          "height": 34
        }
      },
      "source": [
        "from geopy.geocoders import Nominatim\n",
        "\n",
        "geolocator = Nominatim(user_agent=\"yet_another_app\")\n",
        "location = geolocator.reverse(\"52.509669, 13.376294\")\n",
        "loc_dict = dict(location.raw)\n",
        "loc_dict[\"address\"][\"city\"]"
      ],
      "execution_count": 0,
      "outputs": [
        {
          "output_type": "execute_result",
          "data": {
            "text/plain": [
              "'Berlin'"
            ]
          },
          "metadata": {
            "tags": []
          },
          "execution_count": 36
        }
      ]
    },
    {
      "cell_type": "code",
      "metadata": {
        "id": "zK7bJbWnuvHu",
        "colab_type": "code",
        "outputId": "d0a96920-8cd4-4cee-d7ac-6777caa5eb31",
        "colab": {
          "base_uri": "https://localhost:8080/",
          "height": 1163
        }
      },
      "source": [
        "from time import sleep\n",
        "dataset[\"City\"] = 0\n",
        "for i in range(0, len(dataset)):\n",
        "  geolocator = Nominatim(user_agent=\"yet_another_app_2\")\n",
        "  location = geolocator.reverse(\"{}, {}\".format(dataset.loc[i, \"Latitude\"], dataset.loc[i, \"Longitude\"]), timeout = None)\n",
        "  loc_dict = dict(location.raw)\n",
        "  print(dict(location.raw)[\"address\"])\n",
        "\n",
        "  try:\n",
        "    dataset.loc[i, \"City\"] = loc_dict[\"address\"][\"city\"]\n",
        "  except:\n",
        "      try:\n",
        "        dataset.loc[i, \"City\"] = loc_dict[\"address\"][\"town\"]\n",
        "      except:\n",
        "        try:\n",
        "           dataset.loc[i, \"City\"] = loc_dict[\"address\"][\"village\"]\n",
        "        except:\n",
        "          pass\n",
        "  "
      ],
      "execution_count": 0,
      "outputs": [
        {
          "output_type": "stream",
          "text": [
            "{'nature_reserve': 'Ecological Study Area', 'road': 'Upper Jordan Fire Trail', 'city': 'Oakland', 'county': 'Alameda County', 'state': 'California', 'postcode': '94720-1076', 'country': 'USA', 'country_code': 'us'}\n",
            "{'nature_reserve': 'Grizzly Peak Open Space', 'road': 'Tunnel Road', 'city': 'Oakland', 'county': 'Alameda County', 'state': 'California', 'postcode': '94618', 'country': 'USA', 'country_code': 'us'}\n",
            "{'road': 'Grove Shafter Freeway', 'neighbourhood': 'Upper Rockridge', 'city': 'Oakland', 'county': 'Alameda County', 'state': 'California', 'postcode': '94618', 'country': 'USA', 'country_code': 'us'}\n",
            "{'house_number': '6369', 'road': 'Florio Street', 'neighbourhood': 'Rockridge', 'city': 'Oakland', 'county': 'Alameda County', 'state': 'California', 'postcode': '94618', 'country': 'USA', 'country_code': 'us'}\n",
            "{'house_number': '6369', 'road': 'Florio Street', 'neighbourhood': 'Rockridge', 'city': 'Oakland', 'county': 'Alameda County', 'state': 'California', 'postcode': '94618', 'country': 'USA', 'country_code': 'us'}\n",
            "{'house_number': '6369', 'road': 'Florio Street', 'neighbourhood': 'Rockridge', 'city': 'Oakland', 'county': 'Alameda County', 'state': 'California', 'postcode': '94618', 'country': 'USA', 'country_code': 'us'}\n",
            "{'house_number': '5398', 'road': 'Bryant Avenue', 'neighbourhood': 'Rockridge', 'city': 'Oakland', 'county': 'Alameda County', 'state': 'California', 'postcode': '94618', 'country': 'USA', 'country_code': 'us'}\n",
            "{'house_number': '5398', 'road': 'Bryant Avenue', 'neighbourhood': 'Rockridge', 'city': 'Oakland', 'county': 'Alameda County', 'state': 'California', 'postcode': '94618', 'country': 'USA', 'country_code': 'us'}\n",
            "{'address29': 'Oakland Department of Motor Vehicles', 'house_number': '5300', 'road': 'Claremont Avenue', 'neighbourhood': 'Temescal', 'city': 'Oakland', 'county': 'Alameda County', 'state': 'California', 'postcode': '94618', 'country': 'USA', 'country_code': 'us'}\n",
            "{'house_number': '5398', 'road': 'Bryant Avenue', 'neighbourhood': 'Rockridge', 'city': 'Oakland', 'county': 'Alameda County', 'state': 'California', 'postcode': '94618', 'country': 'USA', 'country_code': 'us'}\n",
            "{'pet': 'Pet Food Express', 'road': 'Alcatraz Avenue', 'neighbourhood': 'Idora Park', 'city': 'Oakland', 'county': 'Alameda County', 'state': 'California', 'postcode': '94705', 'country': 'USA', 'country_code': 'us'}\n",
            "{'pet': 'Pet Food Express', 'road': 'Alcatraz Avenue', 'neighbourhood': 'Idora Park', 'city': 'Oakland', 'county': 'Alameda County', 'state': 'California', 'postcode': '94705', 'country': 'USA', 'country_code': 'us'}\n",
            "{'pet': 'Pet Food Express', 'road': 'Alcatraz Avenue', 'neighbourhood': 'Idora Park', 'city': 'Oakland', 'county': 'Alameda County', 'state': 'California', 'postcode': '94705', 'country': 'USA', 'country_code': 'us'}\n",
            "{'address29': 'Oakland Department of Motor Vehicles', 'house_number': '5300', 'road': 'Claremont Avenue', 'neighbourhood': 'Temescal', 'city': 'Oakland', 'county': 'Alameda County', 'state': 'California', 'postcode': '94618', 'country': 'USA', 'country_code': 'us'}\n",
            "{'pet': 'Pet Food Express', 'road': 'Alcatraz Avenue', 'neighbourhood': 'Idora Park', 'city': 'Oakland', 'county': 'Alameda County', 'state': 'California', 'postcode': '94705', 'country': 'USA', 'country_code': 'us'}\n",
            "{'pet': 'Pet Food Express', 'road': 'Alcatraz Avenue', 'neighbourhood': 'Idora Park', 'city': 'Oakland', 'county': 'Alameda County', 'state': 'California', 'postcode': '94705', 'country': 'USA', 'country_code': 'us'}\n",
            "{'house_number': '1917', 'road': 'Harmon Street', 'neighbourhood': 'Lorin', 'city': 'Berkeley', 'county': 'Alameda County', 'state': 'California', 'postcode': '94703', 'country': 'USA', 'country_code': 'us'}\n",
            "{'house_number': '1917', 'road': 'Harmon Street', 'neighbourhood': 'Lorin', 'city': 'Berkeley', 'county': 'Alameda County', 'state': 'California', 'postcode': '94703', 'country': 'USA', 'country_code': 'us'}\n",
            "{'address29': 'Oakland Department of Motor Vehicles', 'house_number': '5300', 'road': 'Claremont Avenue', 'neighbourhood': 'Temescal', 'city': 'Oakland', 'county': 'Alameda County', 'state': 'California', 'postcode': '94618', 'country': 'USA', 'country_code': 'us'}\n",
            "{'fuel': 'Fuel 24:7', 'road': 'Martin Luther King Junior Way', 'city': 'Oakland', 'county': 'Alameda County', 'state': 'California', 'postcode': '94609', 'country': 'USA', 'country_code': 'us'}\n",
            "{'house_number': '1917', 'road': 'Harmon Street', 'neighbourhood': 'Lorin', 'city': 'Berkeley', 'county': 'Alameda County', 'state': 'California', 'postcode': '94703', 'country': 'USA', 'country_code': 'us'}\n",
            "{'house_number': '1917', 'road': 'Harmon Street', 'neighbourhood': 'Lorin', 'city': 'Berkeley', 'county': 'Alameda County', 'state': 'California', 'postcode': '94703', 'country': 'USA', 'country_code': 'us'}\n",
            "{'fuel': 'Fuel 24:7', 'road': 'Martin Luther King Junior Way', 'city': 'Oakland', 'county': 'Alameda County', 'state': 'California', 'postcode': '94609', 'country': 'USA', 'country_code': 'us'}\n",
            "{'fuel': 'Fuel 24:7', 'road': 'Martin Luther King Junior Way', 'city': 'Oakland', 'county': 'Alameda County', 'state': 'California', 'postcode': '94609', 'country': 'USA', 'country_code': 'us'}\n",
            "{'fuel': 'Fuel 24:7', 'road': 'Martin Luther King Junior Way', 'city': 'Oakland', 'county': 'Alameda County', 'state': 'California', 'postcode': '94609', 'country': 'USA', 'country_code': 'us'}\n",
            "{'house_number': '1408', 'road': '66th Street', 'neighbourhood': 'Harmon Tract', 'city': 'Berkeley', 'county': 'Alameda County', 'state': 'California', 'postcode': '94702', 'country': 'USA', 'country_code': 'us'}\n",
            "{'house_number': '1408', 'road': '66th Street', 'neighbourhood': 'Harmon Tract', 'city': 'Berkeley', 'county': 'Alameda County', 'state': 'California', 'postcode': '94702', 'country': 'USA', 'country_code': 'us'}\n",
            "{'house_number': '1408', 'road': '66th Street', 'neighbourhood': 'Harmon Tract', 'city': 'Berkeley', 'county': 'Alameda County', 'state': 'California', 'postcode': '94702', 'country': 'USA', 'country_code': 'us'}\n",
            "{'house_number': '1043', 'road': 'Aileen Street', 'neighbourhood': 'Golden Gate', 'city': 'Oakland', 'county': 'Alameda County', 'state': 'California', 'postcode': '94608', 'country': 'USA', 'country_code': 'us'}\n",
            "{'house_number': '1043', 'road': 'Aileen Street', 'neighbourhood': 'Golden Gate', 'city': 'Oakland', 'county': 'Alameda County', 'state': 'California', 'postcode': '94608', 'country': 'USA', 'country_code': 'us'}\n",
            "{'house_number': '1043', 'road': 'Aileen Street', 'neighbourhood': 'Golden Gate', 'city': 'Oakland', 'county': 'Alameda County', 'state': 'California', 'postcode': '94608', 'country': 'USA', 'country_code': 'us'}\n",
            "{'house_number': '1043', 'road': 'Aileen Street', 'neighbourhood': 'Golden Gate', 'city': 'Oakland', 'county': 'Alameda County', 'state': 'California', 'postcode': '94608', 'country': 'USA', 'country_code': 'us'}\n",
            "{'fuel': 'Fuel 24:7', 'road': 'Martin Luther King Junior Way', 'city': 'Oakland', 'county': 'Alameda County', 'state': 'California', 'postcode': '94609', 'country': 'USA', 'country_code': 'us'}\n",
            "{'house_number': '743', 'road': '40th Street', 'neighbourhood': 'Longfellow', 'city': 'Oakland', 'county': 'Alameda County', 'state': 'California', 'postcode': '94609', 'country': 'USA', 'country_code': 'us'}\n",
            "{'house_number': '743', 'road': '40th Street', 'neighbourhood': 'Longfellow', 'city': 'Oakland', 'county': 'Alameda County', 'state': 'California', 'postcode': '94609', 'country': 'USA', 'country_code': 'us'}\n",
            "{'house_number': '743', 'road': '40th Street', 'neighbourhood': 'Longfellow', 'city': 'Oakland', 'county': 'Alameda County', 'state': 'California', 'postcode': '94609', 'country': 'USA', 'country_code': 'us'}\n",
            "{'house_number': '743', 'road': '40th Street', 'neighbourhood': 'Longfellow', 'city': 'Oakland', 'county': 'Alameda County', 'state': 'California', 'postcode': '94609', 'country': 'USA', 'country_code': 'us'}\n",
            "{'supermarket': 'Pak N Save', 'house_number': '3889', 'road': 'San Pablo Avenue', 'town': 'Emeryville', 'county': 'Alameda County', 'state': 'California', 'postcode': '94608', 'country': 'USA', 'country_code': 'us'}\n",
            "{'house_number': '4138', 'road': 'Webster Street', 'neighbourhood': 'Mosswood', 'city': 'Oakland', 'county': 'Alameda County', 'state': 'California', 'postcode': '94609', 'country': 'USA', 'country_code': 'us'}\n",
            "{'house_number': '4138', 'road': 'Webster Street', 'neighbourhood': 'Mosswood', 'city': 'Oakland', 'county': 'Alameda County', 'state': 'California', 'postcode': '94609', 'country': 'USA', 'country_code': 'us'}\n",
            "{'house_number': '4138', 'road': 'Webster Street', 'neighbourhood': 'Mosswood', 'city': 'Oakland', 'county': 'Alameda County', 'state': 'California', 'postcode': '94609', 'country': 'USA', 'country_code': 'us'}\n",
            "{'house_number': '4138', 'road': 'Webster Street', 'neighbourhood': 'Mosswood', 'city': 'Oakland', 'county': 'Alameda County', 'state': 'California', 'postcode': '94609', 'country': 'USA', 'country_code': 'us'}\n",
            "{'address29': 'Oakland Department of Motor Vehicles', 'house_number': '5300', 'road': 'Claremont Avenue', 'neighbourhood': 'Temescal', 'city': 'Oakland', 'county': 'Alameda County', 'state': 'California', 'postcode': '94618', 'country': 'USA', 'country_code': 'us'}\n",
            "{'address29': 'Oakland Department of Motor Vehicles', 'house_number': '5300', 'road': 'Claremont Avenue', 'neighbourhood': 'Temescal', 'city': 'Oakland', 'county': 'Alameda County', 'state': 'California', 'postcode': '94618', 'country': 'USA', 'country_code': 'us'}\n",
            "{'house_number': '4138', 'road': 'Webster Street', 'neighbourhood': 'Mosswood', 'city': 'Oakland', 'county': 'Alameda County', 'state': 'California', 'postcode': '94609', 'country': 'USA', 'country_code': 'us'}\n",
            "{'house_number': '4138', 'road': 'Webster Street', 'neighbourhood': 'Mosswood', 'city': 'Oakland', 'county': 'Alameda County', 'state': 'California', 'postcode': '94609', 'country': 'USA', 'country_code': 'us'}\n"
          ],
          "name": "stdout"
        },
        {
          "output_type": "error",
          "ename": "KeyboardInterrupt",
          "evalue": "ignored",
          "traceback": [
            "\u001b[0;31m---------------------------------------------------------------------------\u001b[0m",
            "\u001b[0;31mKeyboardInterrupt\u001b[0m                         Traceback (most recent call last)",
            "\u001b[0;32m<ipython-input-42-f4da8c3f61cd>\u001b[0m in \u001b[0;36m<module>\u001b[0;34m()\u001b[0m\n\u001b[1;32m      3\u001b[0m \u001b[0;32mfor\u001b[0m \u001b[0mi\u001b[0m \u001b[0;32min\u001b[0m \u001b[0mrange\u001b[0m\u001b[0;34m(\u001b[0m\u001b[0;36m0\u001b[0m\u001b[0;34m,\u001b[0m \u001b[0mlen\u001b[0m\u001b[0;34m(\u001b[0m\u001b[0mdataset\u001b[0m\u001b[0;34m)\u001b[0m\u001b[0;34m)\u001b[0m\u001b[0;34m:\u001b[0m\u001b[0;34m\u001b[0m\u001b[0;34m\u001b[0m\u001b[0m\n\u001b[1;32m      4\u001b[0m   \u001b[0mgeolocator\u001b[0m \u001b[0;34m=\u001b[0m \u001b[0mNominatim\u001b[0m\u001b[0;34m(\u001b[0m\u001b[0muser_agent\u001b[0m\u001b[0;34m=\u001b[0m\u001b[0;34m\"yet_another_app_2\"\u001b[0m\u001b[0;34m)\u001b[0m\u001b[0;34m\u001b[0m\u001b[0;34m\u001b[0m\u001b[0m\n\u001b[0;32m----> 5\u001b[0;31m   \u001b[0mlocation\u001b[0m \u001b[0;34m=\u001b[0m \u001b[0mgeolocator\u001b[0m\u001b[0;34m.\u001b[0m\u001b[0mreverse\u001b[0m\u001b[0;34m(\u001b[0m\u001b[0;34m\"{}, {}\"\u001b[0m\u001b[0;34m.\u001b[0m\u001b[0mformat\u001b[0m\u001b[0;34m(\u001b[0m\u001b[0mdataset\u001b[0m\u001b[0;34m.\u001b[0m\u001b[0mloc\u001b[0m\u001b[0;34m[\u001b[0m\u001b[0mi\u001b[0m\u001b[0;34m,\u001b[0m \u001b[0;34m\"Latitude\"\u001b[0m\u001b[0;34m]\u001b[0m\u001b[0;34m,\u001b[0m \u001b[0mdataset\u001b[0m\u001b[0;34m.\u001b[0m\u001b[0mloc\u001b[0m\u001b[0;34m[\u001b[0m\u001b[0mi\u001b[0m\u001b[0;34m,\u001b[0m \u001b[0;34m\"Longitude\"\u001b[0m\u001b[0;34m]\u001b[0m\u001b[0;34m)\u001b[0m\u001b[0;34m,\u001b[0m \u001b[0mtimeout\u001b[0m \u001b[0;34m=\u001b[0m \u001b[0;32mNone\u001b[0m\u001b[0;34m)\u001b[0m\u001b[0;34m\u001b[0m\u001b[0;34m\u001b[0m\u001b[0m\n\u001b[0m\u001b[1;32m      6\u001b[0m   \u001b[0mloc_dict\u001b[0m \u001b[0;34m=\u001b[0m \u001b[0mdict\u001b[0m\u001b[0;34m(\u001b[0m\u001b[0mlocation\u001b[0m\u001b[0;34m.\u001b[0m\u001b[0mraw\u001b[0m\u001b[0;34m)\u001b[0m\u001b[0;34m\u001b[0m\u001b[0;34m\u001b[0m\u001b[0m\n\u001b[1;32m      7\u001b[0m   \u001b[0mprint\u001b[0m\u001b[0;34m(\u001b[0m\u001b[0mdict\u001b[0m\u001b[0;34m(\u001b[0m\u001b[0mlocation\u001b[0m\u001b[0;34m.\u001b[0m\u001b[0mraw\u001b[0m\u001b[0;34m)\u001b[0m\u001b[0;34m[\u001b[0m\u001b[0;34m\"address\"\u001b[0m\u001b[0;34m]\u001b[0m\u001b[0;34m)\u001b[0m\u001b[0;34m\u001b[0m\u001b[0;34m\u001b[0m\u001b[0m\n",
            "\u001b[0;32m/usr/local/lib/python3.6/dist-packages/geopy/geocoders/osm.py\u001b[0m in \u001b[0;36mreverse\u001b[0;34m(self, query, exactly_one, timeout, language, addressdetails)\u001b[0m\n\u001b[1;32m    367\u001b[0m \u001b[0;34m\u001b[0m\u001b[0m\n\u001b[1;32m    368\u001b[0m         return self._parse_json(\n\u001b[0;32m--> 369\u001b[0;31m             \u001b[0mself\u001b[0m\u001b[0;34m.\u001b[0m\u001b[0m_call_geocoder\u001b[0m\u001b[0;34m(\u001b[0m\u001b[0murl\u001b[0m\u001b[0;34m,\u001b[0m \u001b[0mtimeout\u001b[0m\u001b[0;34m=\u001b[0m\u001b[0mtimeout\u001b[0m\u001b[0;34m)\u001b[0m\u001b[0;34m,\u001b[0m \u001b[0mexactly_one\u001b[0m\u001b[0;34m\u001b[0m\u001b[0;34m\u001b[0m\u001b[0m\n\u001b[0m\u001b[1;32m    370\u001b[0m         )\n\u001b[1;32m    371\u001b[0m \u001b[0;34m\u001b[0m\u001b[0m\n",
            "\u001b[0;32m/usr/local/lib/python3.6/dist-packages/geopy/geocoders/base.py\u001b[0m in \u001b[0;36m_call_geocoder\u001b[0;34m(self, url, timeout, raw, requester, deserializer, **kwargs)\u001b[0m\n\u001b[1;32m    342\u001b[0m \u001b[0;34m\u001b[0m\u001b[0m\n\u001b[1;32m    343\u001b[0m         \u001b[0;32mtry\u001b[0m\u001b[0;34m:\u001b[0m\u001b[0;34m\u001b[0m\u001b[0;34m\u001b[0m\u001b[0m\n\u001b[0;32m--> 344\u001b[0;31m             \u001b[0mpage\u001b[0m \u001b[0;34m=\u001b[0m \u001b[0mrequester\u001b[0m\u001b[0;34m(\u001b[0m\u001b[0mreq\u001b[0m\u001b[0;34m,\u001b[0m \u001b[0mtimeout\u001b[0m\u001b[0;34m=\u001b[0m\u001b[0mtimeout\u001b[0m\u001b[0;34m,\u001b[0m \u001b[0;34m**\u001b[0m\u001b[0mkwargs\u001b[0m\u001b[0;34m)\u001b[0m\u001b[0;34m\u001b[0m\u001b[0;34m\u001b[0m\u001b[0m\n\u001b[0m\u001b[1;32m    345\u001b[0m         \u001b[0;32mexcept\u001b[0m \u001b[0mException\u001b[0m \u001b[0;32mas\u001b[0m \u001b[0merror\u001b[0m\u001b[0;34m:\u001b[0m\u001b[0;34m\u001b[0m\u001b[0;34m\u001b[0m\u001b[0m\n\u001b[1;32m    346\u001b[0m             message = (\n",
            "\u001b[0;32m/usr/lib/python3.6/urllib/request.py\u001b[0m in \u001b[0;36mopen\u001b[0;34m(self, fullurl, data, timeout)\u001b[0m\n\u001b[1;32m    524\u001b[0m             \u001b[0mreq\u001b[0m \u001b[0;34m=\u001b[0m \u001b[0mmeth\u001b[0m\u001b[0;34m(\u001b[0m\u001b[0mreq\u001b[0m\u001b[0;34m)\u001b[0m\u001b[0;34m\u001b[0m\u001b[0;34m\u001b[0m\u001b[0m\n\u001b[1;32m    525\u001b[0m \u001b[0;34m\u001b[0m\u001b[0m\n\u001b[0;32m--> 526\u001b[0;31m         \u001b[0mresponse\u001b[0m \u001b[0;34m=\u001b[0m \u001b[0mself\u001b[0m\u001b[0;34m.\u001b[0m\u001b[0m_open\u001b[0m\u001b[0;34m(\u001b[0m\u001b[0mreq\u001b[0m\u001b[0;34m,\u001b[0m \u001b[0mdata\u001b[0m\u001b[0;34m)\u001b[0m\u001b[0;34m\u001b[0m\u001b[0;34m\u001b[0m\u001b[0m\n\u001b[0m\u001b[1;32m    527\u001b[0m \u001b[0;34m\u001b[0m\u001b[0m\n\u001b[1;32m    528\u001b[0m         \u001b[0;31m# post-process response\u001b[0m\u001b[0;34m\u001b[0m\u001b[0;34m\u001b[0m\u001b[0;34m\u001b[0m\u001b[0m\n",
            "\u001b[0;32m/usr/lib/python3.6/urllib/request.py\u001b[0m in \u001b[0;36m_open\u001b[0;34m(self, req, data)\u001b[0m\n\u001b[1;32m    542\u001b[0m         \u001b[0mprotocol\u001b[0m \u001b[0;34m=\u001b[0m \u001b[0mreq\u001b[0m\u001b[0;34m.\u001b[0m\u001b[0mtype\u001b[0m\u001b[0;34m\u001b[0m\u001b[0;34m\u001b[0m\u001b[0m\n\u001b[1;32m    543\u001b[0m         result = self._call_chain(self.handle_open, protocol, protocol +\n\u001b[0;32m--> 544\u001b[0;31m                                   '_open', req)\n\u001b[0m\u001b[1;32m    545\u001b[0m         \u001b[0;32mif\u001b[0m \u001b[0mresult\u001b[0m\u001b[0;34m:\u001b[0m\u001b[0;34m\u001b[0m\u001b[0;34m\u001b[0m\u001b[0m\n\u001b[1;32m    546\u001b[0m             \u001b[0;32mreturn\u001b[0m \u001b[0mresult\u001b[0m\u001b[0;34m\u001b[0m\u001b[0;34m\u001b[0m\u001b[0m\n",
            "\u001b[0;32m/usr/lib/python3.6/urllib/request.py\u001b[0m in \u001b[0;36m_call_chain\u001b[0;34m(self, chain, kind, meth_name, *args)\u001b[0m\n\u001b[1;32m    502\u001b[0m         \u001b[0;32mfor\u001b[0m \u001b[0mhandler\u001b[0m \u001b[0;32min\u001b[0m \u001b[0mhandlers\u001b[0m\u001b[0;34m:\u001b[0m\u001b[0;34m\u001b[0m\u001b[0;34m\u001b[0m\u001b[0m\n\u001b[1;32m    503\u001b[0m             \u001b[0mfunc\u001b[0m \u001b[0;34m=\u001b[0m \u001b[0mgetattr\u001b[0m\u001b[0;34m(\u001b[0m\u001b[0mhandler\u001b[0m\u001b[0;34m,\u001b[0m \u001b[0mmeth_name\u001b[0m\u001b[0;34m)\u001b[0m\u001b[0;34m\u001b[0m\u001b[0;34m\u001b[0m\u001b[0m\n\u001b[0;32m--> 504\u001b[0;31m             \u001b[0mresult\u001b[0m \u001b[0;34m=\u001b[0m \u001b[0mfunc\u001b[0m\u001b[0;34m(\u001b[0m\u001b[0;34m*\u001b[0m\u001b[0margs\u001b[0m\u001b[0;34m)\u001b[0m\u001b[0;34m\u001b[0m\u001b[0;34m\u001b[0m\u001b[0m\n\u001b[0m\u001b[1;32m    505\u001b[0m             \u001b[0;32mif\u001b[0m \u001b[0mresult\u001b[0m \u001b[0;32mis\u001b[0m \u001b[0;32mnot\u001b[0m \u001b[0;32mNone\u001b[0m\u001b[0;34m:\u001b[0m\u001b[0;34m\u001b[0m\u001b[0;34m\u001b[0m\u001b[0m\n\u001b[1;32m    506\u001b[0m                 \u001b[0;32mreturn\u001b[0m \u001b[0mresult\u001b[0m\u001b[0;34m\u001b[0m\u001b[0;34m\u001b[0m\u001b[0m\n",
            "\u001b[0;32m/usr/lib/python3.6/urllib/request.py\u001b[0m in \u001b[0;36mhttps_open\u001b[0;34m(self, req)\u001b[0m\n\u001b[1;32m   1359\u001b[0m         \u001b[0;32mdef\u001b[0m \u001b[0mhttps_open\u001b[0m\u001b[0;34m(\u001b[0m\u001b[0mself\u001b[0m\u001b[0;34m,\u001b[0m \u001b[0mreq\u001b[0m\u001b[0;34m)\u001b[0m\u001b[0;34m:\u001b[0m\u001b[0;34m\u001b[0m\u001b[0;34m\u001b[0m\u001b[0m\n\u001b[1;32m   1360\u001b[0m             return self.do_open(http.client.HTTPSConnection, req,\n\u001b[0;32m-> 1361\u001b[0;31m                 context=self._context, check_hostname=self._check_hostname)\n\u001b[0m\u001b[1;32m   1362\u001b[0m \u001b[0;34m\u001b[0m\u001b[0m\n\u001b[1;32m   1363\u001b[0m         \u001b[0mhttps_request\u001b[0m \u001b[0;34m=\u001b[0m \u001b[0mAbstractHTTPHandler\u001b[0m\u001b[0;34m.\u001b[0m\u001b[0mdo_request_\u001b[0m\u001b[0;34m\u001b[0m\u001b[0;34m\u001b[0m\u001b[0m\n",
            "\u001b[0;32m/usr/lib/python3.6/urllib/request.py\u001b[0m in \u001b[0;36mdo_open\u001b[0;34m(self, http_class, req, **http_conn_args)\u001b[0m\n\u001b[1;32m   1316\u001b[0m             \u001b[0;32mtry\u001b[0m\u001b[0;34m:\u001b[0m\u001b[0;34m\u001b[0m\u001b[0;34m\u001b[0m\u001b[0m\n\u001b[1;32m   1317\u001b[0m                 h.request(req.get_method(), req.selector, req.data, headers,\n\u001b[0;32m-> 1318\u001b[0;31m                           encode_chunked=req.has_header('Transfer-encoding'))\n\u001b[0m\u001b[1;32m   1319\u001b[0m             \u001b[0;32mexcept\u001b[0m \u001b[0mOSError\u001b[0m \u001b[0;32mas\u001b[0m \u001b[0merr\u001b[0m\u001b[0;34m:\u001b[0m \u001b[0;31m# timeout error\u001b[0m\u001b[0;34m\u001b[0m\u001b[0;34m\u001b[0m\u001b[0m\n\u001b[1;32m   1320\u001b[0m                 \u001b[0;32mraise\u001b[0m \u001b[0mURLError\u001b[0m\u001b[0;34m(\u001b[0m\u001b[0merr\u001b[0m\u001b[0;34m)\u001b[0m\u001b[0;34m\u001b[0m\u001b[0;34m\u001b[0m\u001b[0m\n",
            "\u001b[0;32m/usr/lib/python3.6/http/client.py\u001b[0m in \u001b[0;36mrequest\u001b[0;34m(self, method, url, body, headers, encode_chunked)\u001b[0m\n\u001b[1;32m   1237\u001b[0m                 encode_chunked=False):\n\u001b[1;32m   1238\u001b[0m         \u001b[0;34m\"\"\"Send a complete request to the server.\"\"\"\u001b[0m\u001b[0;34m\u001b[0m\u001b[0;34m\u001b[0m\u001b[0m\n\u001b[0;32m-> 1239\u001b[0;31m         \u001b[0mself\u001b[0m\u001b[0;34m.\u001b[0m\u001b[0m_send_request\u001b[0m\u001b[0;34m(\u001b[0m\u001b[0mmethod\u001b[0m\u001b[0;34m,\u001b[0m \u001b[0murl\u001b[0m\u001b[0;34m,\u001b[0m \u001b[0mbody\u001b[0m\u001b[0;34m,\u001b[0m \u001b[0mheaders\u001b[0m\u001b[0;34m,\u001b[0m \u001b[0mencode_chunked\u001b[0m\u001b[0;34m)\u001b[0m\u001b[0;34m\u001b[0m\u001b[0;34m\u001b[0m\u001b[0m\n\u001b[0m\u001b[1;32m   1240\u001b[0m \u001b[0;34m\u001b[0m\u001b[0m\n\u001b[1;32m   1241\u001b[0m     \u001b[0;32mdef\u001b[0m \u001b[0m_send_request\u001b[0m\u001b[0;34m(\u001b[0m\u001b[0mself\u001b[0m\u001b[0;34m,\u001b[0m \u001b[0mmethod\u001b[0m\u001b[0;34m,\u001b[0m \u001b[0murl\u001b[0m\u001b[0;34m,\u001b[0m \u001b[0mbody\u001b[0m\u001b[0;34m,\u001b[0m \u001b[0mheaders\u001b[0m\u001b[0;34m,\u001b[0m \u001b[0mencode_chunked\u001b[0m\u001b[0;34m)\u001b[0m\u001b[0;34m:\u001b[0m\u001b[0;34m\u001b[0m\u001b[0;34m\u001b[0m\u001b[0m\n",
            "\u001b[0;32m/usr/lib/python3.6/http/client.py\u001b[0m in \u001b[0;36m_send_request\u001b[0;34m(self, method, url, body, headers, encode_chunked)\u001b[0m\n\u001b[1;32m   1283\u001b[0m             \u001b[0;31m# default charset of iso-8859-1.\u001b[0m\u001b[0;34m\u001b[0m\u001b[0;34m\u001b[0m\u001b[0;34m\u001b[0m\u001b[0m\n\u001b[1;32m   1284\u001b[0m             \u001b[0mbody\u001b[0m \u001b[0;34m=\u001b[0m \u001b[0m_encode\u001b[0m\u001b[0;34m(\u001b[0m\u001b[0mbody\u001b[0m\u001b[0;34m,\u001b[0m \u001b[0;34m'body'\u001b[0m\u001b[0;34m)\u001b[0m\u001b[0;34m\u001b[0m\u001b[0;34m\u001b[0m\u001b[0m\n\u001b[0;32m-> 1285\u001b[0;31m         \u001b[0mself\u001b[0m\u001b[0;34m.\u001b[0m\u001b[0mendheaders\u001b[0m\u001b[0;34m(\u001b[0m\u001b[0mbody\u001b[0m\u001b[0;34m,\u001b[0m \u001b[0mencode_chunked\u001b[0m\u001b[0;34m=\u001b[0m\u001b[0mencode_chunked\u001b[0m\u001b[0;34m)\u001b[0m\u001b[0;34m\u001b[0m\u001b[0;34m\u001b[0m\u001b[0m\n\u001b[0m\u001b[1;32m   1286\u001b[0m \u001b[0;34m\u001b[0m\u001b[0m\n\u001b[1;32m   1287\u001b[0m     \u001b[0;32mdef\u001b[0m \u001b[0mgetresponse\u001b[0m\u001b[0;34m(\u001b[0m\u001b[0mself\u001b[0m\u001b[0;34m)\u001b[0m\u001b[0;34m:\u001b[0m\u001b[0;34m\u001b[0m\u001b[0;34m\u001b[0m\u001b[0m\n",
            "\u001b[0;32m/usr/lib/python3.6/http/client.py\u001b[0m in \u001b[0;36mendheaders\u001b[0;34m(self, message_body, encode_chunked)\u001b[0m\n\u001b[1;32m   1232\u001b[0m         \u001b[0;32melse\u001b[0m\u001b[0;34m:\u001b[0m\u001b[0;34m\u001b[0m\u001b[0;34m\u001b[0m\u001b[0m\n\u001b[1;32m   1233\u001b[0m             \u001b[0;32mraise\u001b[0m \u001b[0mCannotSendHeader\u001b[0m\u001b[0;34m(\u001b[0m\u001b[0;34m)\u001b[0m\u001b[0;34m\u001b[0m\u001b[0;34m\u001b[0m\u001b[0m\n\u001b[0;32m-> 1234\u001b[0;31m         \u001b[0mself\u001b[0m\u001b[0;34m.\u001b[0m\u001b[0m_send_output\u001b[0m\u001b[0;34m(\u001b[0m\u001b[0mmessage_body\u001b[0m\u001b[0;34m,\u001b[0m \u001b[0mencode_chunked\u001b[0m\u001b[0;34m=\u001b[0m\u001b[0mencode_chunked\u001b[0m\u001b[0;34m)\u001b[0m\u001b[0;34m\u001b[0m\u001b[0;34m\u001b[0m\u001b[0m\n\u001b[0m\u001b[1;32m   1235\u001b[0m \u001b[0;34m\u001b[0m\u001b[0m\n\u001b[1;32m   1236\u001b[0m     def request(self, method, url, body=None, headers={}, *,\n",
            "\u001b[0;32m/usr/lib/python3.6/http/client.py\u001b[0m in \u001b[0;36m_send_output\u001b[0;34m(self, message_body, encode_chunked)\u001b[0m\n\u001b[1;32m   1024\u001b[0m         \u001b[0mmsg\u001b[0m \u001b[0;34m=\u001b[0m \u001b[0;34mb\"\\r\\n\"\u001b[0m\u001b[0;34m.\u001b[0m\u001b[0mjoin\u001b[0m\u001b[0;34m(\u001b[0m\u001b[0mself\u001b[0m\u001b[0;34m.\u001b[0m\u001b[0m_buffer\u001b[0m\u001b[0;34m)\u001b[0m\u001b[0;34m\u001b[0m\u001b[0;34m\u001b[0m\u001b[0m\n\u001b[1;32m   1025\u001b[0m         \u001b[0;32mdel\u001b[0m \u001b[0mself\u001b[0m\u001b[0;34m.\u001b[0m\u001b[0m_buffer\u001b[0m\u001b[0;34m[\u001b[0m\u001b[0;34m:\u001b[0m\u001b[0;34m]\u001b[0m\u001b[0;34m\u001b[0m\u001b[0;34m\u001b[0m\u001b[0m\n\u001b[0;32m-> 1026\u001b[0;31m         \u001b[0mself\u001b[0m\u001b[0;34m.\u001b[0m\u001b[0msend\u001b[0m\u001b[0;34m(\u001b[0m\u001b[0mmsg\u001b[0m\u001b[0;34m)\u001b[0m\u001b[0;34m\u001b[0m\u001b[0;34m\u001b[0m\u001b[0m\n\u001b[0m\u001b[1;32m   1027\u001b[0m \u001b[0;34m\u001b[0m\u001b[0m\n\u001b[1;32m   1028\u001b[0m         \u001b[0;32mif\u001b[0m \u001b[0mmessage_body\u001b[0m \u001b[0;32mis\u001b[0m \u001b[0;32mnot\u001b[0m \u001b[0;32mNone\u001b[0m\u001b[0;34m:\u001b[0m\u001b[0;34m\u001b[0m\u001b[0;34m\u001b[0m\u001b[0m\n",
            "\u001b[0;32m/usr/lib/python3.6/http/client.py\u001b[0m in \u001b[0;36msend\u001b[0;34m(self, data)\u001b[0m\n\u001b[1;32m    962\u001b[0m         \u001b[0;32mif\u001b[0m \u001b[0mself\u001b[0m\u001b[0;34m.\u001b[0m\u001b[0msock\u001b[0m \u001b[0;32mis\u001b[0m \u001b[0;32mNone\u001b[0m\u001b[0;34m:\u001b[0m\u001b[0;34m\u001b[0m\u001b[0;34m\u001b[0m\u001b[0m\n\u001b[1;32m    963\u001b[0m             \u001b[0;32mif\u001b[0m \u001b[0mself\u001b[0m\u001b[0;34m.\u001b[0m\u001b[0mauto_open\u001b[0m\u001b[0;34m:\u001b[0m\u001b[0;34m\u001b[0m\u001b[0;34m\u001b[0m\u001b[0m\n\u001b[0;32m--> 964\u001b[0;31m                 \u001b[0mself\u001b[0m\u001b[0;34m.\u001b[0m\u001b[0mconnect\u001b[0m\u001b[0;34m(\u001b[0m\u001b[0;34m)\u001b[0m\u001b[0;34m\u001b[0m\u001b[0;34m\u001b[0m\u001b[0m\n\u001b[0m\u001b[1;32m    965\u001b[0m             \u001b[0;32melse\u001b[0m\u001b[0;34m:\u001b[0m\u001b[0;34m\u001b[0m\u001b[0;34m\u001b[0m\u001b[0m\n\u001b[1;32m    966\u001b[0m                 \u001b[0;32mraise\u001b[0m \u001b[0mNotConnected\u001b[0m\u001b[0;34m(\u001b[0m\u001b[0;34m)\u001b[0m\u001b[0;34m\u001b[0m\u001b[0;34m\u001b[0m\u001b[0m\n",
            "\u001b[0;32m/usr/lib/python3.6/http/client.py\u001b[0m in \u001b[0;36mconnect\u001b[0;34m(self)\u001b[0m\n\u001b[1;32m   1398\u001b[0m \u001b[0;34m\u001b[0m\u001b[0m\n\u001b[1;32m   1399\u001b[0m             self.sock = self._context.wrap_socket(self.sock,\n\u001b[0;32m-> 1400\u001b[0;31m                                                   server_hostname=server_hostname)\n\u001b[0m\u001b[1;32m   1401\u001b[0m             \u001b[0;32mif\u001b[0m \u001b[0;32mnot\u001b[0m \u001b[0mself\u001b[0m\u001b[0;34m.\u001b[0m\u001b[0m_context\u001b[0m\u001b[0;34m.\u001b[0m\u001b[0mcheck_hostname\u001b[0m \u001b[0;32mand\u001b[0m \u001b[0mself\u001b[0m\u001b[0;34m.\u001b[0m\u001b[0m_check_hostname\u001b[0m\u001b[0;34m:\u001b[0m\u001b[0;34m\u001b[0m\u001b[0;34m\u001b[0m\u001b[0m\n\u001b[1;32m   1402\u001b[0m                 \u001b[0;32mtry\u001b[0m\u001b[0;34m:\u001b[0m\u001b[0;34m\u001b[0m\u001b[0;34m\u001b[0m\u001b[0m\n",
            "\u001b[0;32m/usr/lib/python3.6/ssl.py\u001b[0m in \u001b[0;36mwrap_socket\u001b[0;34m(self, sock, server_side, do_handshake_on_connect, suppress_ragged_eofs, server_hostname, session)\u001b[0m\n\u001b[1;32m    405\u001b[0m                          \u001b[0msuppress_ragged_eofs\u001b[0m\u001b[0;34m=\u001b[0m\u001b[0msuppress_ragged_eofs\u001b[0m\u001b[0;34m,\u001b[0m\u001b[0;34m\u001b[0m\u001b[0;34m\u001b[0m\u001b[0m\n\u001b[1;32m    406\u001b[0m                          \u001b[0mserver_hostname\u001b[0m\u001b[0;34m=\u001b[0m\u001b[0mserver_hostname\u001b[0m\u001b[0;34m,\u001b[0m\u001b[0;34m\u001b[0m\u001b[0;34m\u001b[0m\u001b[0m\n\u001b[0;32m--> 407\u001b[0;31m                          _context=self, _session=session)\n\u001b[0m\u001b[1;32m    408\u001b[0m \u001b[0;34m\u001b[0m\u001b[0m\n\u001b[1;32m    409\u001b[0m     def wrap_bio(self, incoming, outgoing, server_side=False,\n",
            "\u001b[0;32m/usr/lib/python3.6/ssl.py\u001b[0m in \u001b[0;36m__init__\u001b[0;34m(self, sock, keyfile, certfile, server_side, cert_reqs, ssl_version, ca_certs, do_handshake_on_connect, family, type, proto, fileno, suppress_ragged_eofs, npn_protocols, ciphers, server_hostname, _context, _session)\u001b[0m\n\u001b[1;32m    815\u001b[0m                         \u001b[0;31m# non-blocking\u001b[0m\u001b[0;34m\u001b[0m\u001b[0;34m\u001b[0m\u001b[0;34m\u001b[0m\u001b[0m\n\u001b[1;32m    816\u001b[0m                         \u001b[0;32mraise\u001b[0m \u001b[0mValueError\u001b[0m\u001b[0;34m(\u001b[0m\u001b[0;34m\"do_handshake_on_connect should not be specified for non-blocking sockets\"\u001b[0m\u001b[0;34m)\u001b[0m\u001b[0;34m\u001b[0m\u001b[0;34m\u001b[0m\u001b[0m\n\u001b[0;32m--> 817\u001b[0;31m                     \u001b[0mself\u001b[0m\u001b[0;34m.\u001b[0m\u001b[0mdo_handshake\u001b[0m\u001b[0;34m(\u001b[0m\u001b[0;34m)\u001b[0m\u001b[0;34m\u001b[0m\u001b[0;34m\u001b[0m\u001b[0m\n\u001b[0m\u001b[1;32m    818\u001b[0m \u001b[0;34m\u001b[0m\u001b[0m\n\u001b[1;32m    819\u001b[0m             \u001b[0;32mexcept\u001b[0m \u001b[0;34m(\u001b[0m\u001b[0mOSError\u001b[0m\u001b[0;34m,\u001b[0m \u001b[0mValueError\u001b[0m\u001b[0;34m)\u001b[0m\u001b[0;34m:\u001b[0m\u001b[0;34m\u001b[0m\u001b[0;34m\u001b[0m\u001b[0m\n",
            "\u001b[0;32m/usr/lib/python3.6/ssl.py\u001b[0m in \u001b[0;36mdo_handshake\u001b[0;34m(self, block)\u001b[0m\n\u001b[1;32m   1075\u001b[0m             \u001b[0;32mif\u001b[0m \u001b[0mtimeout\u001b[0m \u001b[0;34m==\u001b[0m \u001b[0;36m0.0\u001b[0m \u001b[0;32mand\u001b[0m \u001b[0mblock\u001b[0m\u001b[0;34m:\u001b[0m\u001b[0;34m\u001b[0m\u001b[0;34m\u001b[0m\u001b[0m\n\u001b[1;32m   1076\u001b[0m                 \u001b[0mself\u001b[0m\u001b[0;34m.\u001b[0m\u001b[0msettimeout\u001b[0m\u001b[0;34m(\u001b[0m\u001b[0;32mNone\u001b[0m\u001b[0;34m)\u001b[0m\u001b[0;34m\u001b[0m\u001b[0;34m\u001b[0m\u001b[0m\n\u001b[0;32m-> 1077\u001b[0;31m             \u001b[0mself\u001b[0m\u001b[0;34m.\u001b[0m\u001b[0m_sslobj\u001b[0m\u001b[0;34m.\u001b[0m\u001b[0mdo_handshake\u001b[0m\u001b[0;34m(\u001b[0m\u001b[0;34m)\u001b[0m\u001b[0;34m\u001b[0m\u001b[0;34m\u001b[0m\u001b[0m\n\u001b[0m\u001b[1;32m   1078\u001b[0m         \u001b[0;32mfinally\u001b[0m\u001b[0;34m:\u001b[0m\u001b[0;34m\u001b[0m\u001b[0;34m\u001b[0m\u001b[0m\n\u001b[1;32m   1079\u001b[0m             \u001b[0mself\u001b[0m\u001b[0;34m.\u001b[0m\u001b[0msettimeout\u001b[0m\u001b[0;34m(\u001b[0m\u001b[0mtimeout\u001b[0m\u001b[0;34m)\u001b[0m\u001b[0;34m\u001b[0m\u001b[0;34m\u001b[0m\u001b[0m\n",
            "\u001b[0;32m/usr/lib/python3.6/ssl.py\u001b[0m in \u001b[0;36mdo_handshake\u001b[0;34m(self)\u001b[0m\n\u001b[1;32m    687\u001b[0m     \u001b[0;32mdef\u001b[0m \u001b[0mdo_handshake\u001b[0m\u001b[0;34m(\u001b[0m\u001b[0mself\u001b[0m\u001b[0;34m)\u001b[0m\u001b[0;34m:\u001b[0m\u001b[0;34m\u001b[0m\u001b[0;34m\u001b[0m\u001b[0m\n\u001b[1;32m    688\u001b[0m         \u001b[0;34m\"\"\"Start the SSL/TLS handshake.\"\"\"\u001b[0m\u001b[0;34m\u001b[0m\u001b[0;34m\u001b[0m\u001b[0m\n\u001b[0;32m--> 689\u001b[0;31m         \u001b[0mself\u001b[0m\u001b[0;34m.\u001b[0m\u001b[0m_sslobj\u001b[0m\u001b[0;34m.\u001b[0m\u001b[0mdo_handshake\u001b[0m\u001b[0;34m(\u001b[0m\u001b[0;34m)\u001b[0m\u001b[0;34m\u001b[0m\u001b[0;34m\u001b[0m\u001b[0m\n\u001b[0m\u001b[1;32m    690\u001b[0m         \u001b[0;32mif\u001b[0m \u001b[0mself\u001b[0m\u001b[0;34m.\u001b[0m\u001b[0mcontext\u001b[0m\u001b[0;34m.\u001b[0m\u001b[0mcheck_hostname\u001b[0m\u001b[0;34m:\u001b[0m\u001b[0;34m\u001b[0m\u001b[0;34m\u001b[0m\u001b[0m\n\u001b[1;32m    691\u001b[0m             \u001b[0;32mif\u001b[0m \u001b[0;32mnot\u001b[0m \u001b[0mself\u001b[0m\u001b[0;34m.\u001b[0m\u001b[0mserver_hostname\u001b[0m\u001b[0;34m:\u001b[0m\u001b[0;34m\u001b[0m\u001b[0;34m\u001b[0m\u001b[0m\n",
            "\u001b[0;31mKeyboardInterrupt\u001b[0m: "
          ]
        }
      ]
    },
    {
      "cell_type": "markdown",
      "metadata": {
        "id": "4YEDw7qEGUAH",
        "colab_type": "text"
      },
      "source": [
        " 18. S'il y a des villes que vous n'avez pas trouvées, remplacez la valeur de la cellule par ```unknown```"
      ]
    },
    {
      "cell_type": "code",
      "metadata": {
        "id": "MgAGSLw2mFeF",
        "colab_type": "code",
        "colab": {}
      },
      "source": [
        "dataset_sample = dataset"
      ],
      "execution_count": 0,
      "outputs": []
    },
    {
      "cell_type": "code",
      "metadata": {
        "id": "pDYl0bIhcrBt",
        "colab_type": "code",
        "outputId": "9cc7cdcd-231b-4526-d359-4e714d2e1910",
        "colab": {
          "base_uri": "https://localhost:8080/",
          "height": 101
        }
      },
      "source": [
        "dataset_sample.City[dataset_sample.City == 0]= \"Unknown\""
      ],
      "execution_count": 0,
      "outputs": [
        {
          "output_type": "stream",
          "text": [
            "/usr/local/lib/python3.6/dist-packages/ipykernel_launcher.py:1: SettingWithCopyWarning: \n",
            "A value is trying to be set on a copy of a slice from a DataFrame\n",
            "\n",
            "See the caveats in the documentation: http://pandas.pydata.org/pandas-docs/stable/indexing.html#indexing-view-versus-copy\n",
            "  \"\"\"Entry point for launching an IPython kernel.\n"
          ],
          "name": "stderr"
        }
      ]
    },
    {
      "cell_type": "markdown",
      "metadata": {
        "id": "WHbWVsOTikye",
        "colab_type": "text"
      },
      "source": [
        "19. Trouvez le top 10 des villes qui ont les prix moyens les plus chers"
      ]
    },
    {
      "cell_type": "code",
      "metadata": {
        "id": "TCby5kV9ikS8",
        "colab_type": "code",
        "outputId": "168bbba3-b843-47a2-9240-15fab0f1a007",
        "colab": {
          "base_uri": "https://localhost:8080/",
          "height": 284
        }
      },
      "source": [
        "dataset_sample.groupby(\"City\").mean().sort_values(by=\"Price\", ascending=False)[:10]"
      ],
      "execution_count": 0,
      "outputs": [
        {
          "output_type": "execute_result",
          "data": {
            "text/html": [
              "<div>\n",
              "<style scoped>\n",
              "    .dataframe tbody tr th:only-of-type {\n",
              "        vertical-align: middle;\n",
              "    }\n",
              "\n",
              "    .dataframe tbody tr th {\n",
              "        vertical-align: top;\n",
              "    }\n",
              "\n",
              "    .dataframe thead th {\n",
              "        text-align: right;\n",
              "    }\n",
              "</style>\n",
              "<table border=\"1\" class=\"dataframe\">\n",
              "  <thead>\n",
              "    <tr style=\"text-align: right;\">\n",
              "      <th></th>\n",
              "      <th>MedInc</th>\n",
              "      <th>HouseAge</th>\n",
              "      <th>AveRooms</th>\n",
              "      <th>AveBedrms</th>\n",
              "      <th>Population</th>\n",
              "      <th>AveOccup</th>\n",
              "      <th>Latitude</th>\n",
              "      <th>Longitude</th>\n",
              "      <th>Price</th>\n",
              "    </tr>\n",
              "    <tr>\n",
              "      <th>City</th>\n",
              "      <th></th>\n",
              "      <th></th>\n",
              "      <th></th>\n",
              "      <th></th>\n",
              "      <th></th>\n",
              "      <th></th>\n",
              "      <th></th>\n",
              "      <th></th>\n",
              "      <th></th>\n",
              "    </tr>\n",
              "  </thead>\n",
              "  <tbody>\n",
              "    <tr>\n",
              "      <th>Canyon</th>\n",
              "      <td>11.601700</td>\n",
              "      <td>18.000000</td>\n",
              "      <td>8.335052</td>\n",
              "      <td>1.082474</td>\n",
              "      <td>533.000000</td>\n",
              "      <td>2.747423</td>\n",
              "      <td>37.840000</td>\n",
              "      <td>-122.190000</td>\n",
              "      <td>3.926000</td>\n",
              "    </tr>\n",
              "    <tr>\n",
              "      <th>Piedmont</th>\n",
              "      <td>4.928867</td>\n",
              "      <td>48.333333</td>\n",
              "      <td>5.961226</td>\n",
              "      <td>1.015960</td>\n",
              "      <td>970.666667</td>\n",
              "      <td>2.295046</td>\n",
              "      <td>37.823333</td>\n",
              "      <td>-122.240000</td>\n",
              "      <td>3.184000</td>\n",
              "    </tr>\n",
              "    <tr>\n",
              "      <th>Unknown</th>\n",
              "      <td>3.884588</td>\n",
              "      <td>28.382796</td>\n",
              "      <td>5.438650</td>\n",
              "      <td>1.097144</td>\n",
              "      <td>1433.027096</td>\n",
              "      <td>3.075782</td>\n",
              "      <td>35.595337</td>\n",
              "      <td>-119.524922</td>\n",
              "      <td>2.074660</td>\n",
              "    </tr>\n",
              "    <tr>\n",
              "      <th>Oakland</th>\n",
              "      <td>3.028306</td>\n",
              "      <td>43.801829</td>\n",
              "      <td>4.840136</td>\n",
              "      <td>1.070113</td>\n",
              "      <td>985.731707</td>\n",
              "      <td>2.774809</td>\n",
              "      <td>37.798201</td>\n",
              "      <td>-122.226402</td>\n",
              "      <td>1.701954</td>\n",
              "    </tr>\n",
              "    <tr>\n",
              "      <th>Berkeley</th>\n",
              "      <td>2.091143</td>\n",
              "      <td>46.857143</td>\n",
              "      <td>4.714187</td>\n",
              "      <td>1.034498</td>\n",
              "      <td>686.428571</td>\n",
              "      <td>2.502275</td>\n",
              "      <td>37.850000</td>\n",
              "      <td>-122.274286</td>\n",
              "      <td>1.317286</td>\n",
              "    </tr>\n",
              "    <tr>\n",
              "      <th>Emeryville</th>\n",
              "      <td>2.401600</td>\n",
              "      <td>52.000000</td>\n",
              "      <td>4.872016</td>\n",
              "      <td>1.048042</td>\n",
              "      <td>727.500000</td>\n",
              "      <td>2.599149</td>\n",
              "      <td>37.830000</td>\n",
              "      <td>-122.285000</td>\n",
              "      <td>0.898000</td>\n",
              "    </tr>\n",
              "    <tr>\n",
              "      <th>San Leandro</th>\n",
              "      <td>2.158700</td>\n",
              "      <td>43.000000</td>\n",
              "      <td>4.319648</td>\n",
              "      <td>1.087977</td>\n",
              "      <td>1231.000000</td>\n",
              "      <td>3.609971</td>\n",
              "      <td>37.730000</td>\n",
              "      <td>-122.170000</td>\n",
              "      <td>0.865000</td>\n",
              "    </tr>\n",
              "  </tbody>\n",
              "</table>\n",
              "</div>"
            ],
            "text/plain": [
              "                MedInc   HouseAge  AveRooms  ...   Latitude   Longitude     Price\n",
              "City                                         ...                                 \n",
              "Canyon       11.601700  18.000000  8.335052  ...  37.840000 -122.190000  3.926000\n",
              "Piedmont      4.928867  48.333333  5.961226  ...  37.823333 -122.240000  3.184000\n",
              "Unknown       3.884588  28.382796  5.438650  ...  35.595337 -119.524922  2.074660\n",
              "Oakland       3.028306  43.801829  4.840136  ...  37.798201 -122.226402  1.701954\n",
              "Berkeley      2.091143  46.857143  4.714187  ...  37.850000 -122.274286  1.317286\n",
              "Emeryville    2.401600  52.000000  4.872016  ...  37.830000 -122.285000  0.898000\n",
              "San Leandro   2.158700  43.000000  4.319648  ...  37.730000 -122.170000  0.865000\n",
              "\n",
              "[7 rows x 9 columns]"
            ]
          },
          "metadata": {
            "tags": []
          },
          "execution_count": 40
        }
      ]
    },
    {
      "cell_type": "markdown",
      "metadata": {
        "id": "WTVZXwPRitzg",
        "colab_type": "text"
      },
      "source": [
        "[texte du lien](https://)20. Affichez ceci dans un graphique "
      ]
    },
    {
      "cell_type": "code",
      "metadata": {
        "id": "DnFohmk7c8eh",
        "colab_type": "code",
        "outputId": "518e6296-0db6-4c91-b8c5-02421bd4fd48",
        "colab": {
          "base_uri": "https://localhost:8080/",
          "height": 838
        }
      },
      "source": [
        "fig, ax = plt.subplots(figsize=(16,8))\n",
        "ax = sns.catplot(x=[city for city in dataset_sample.groupby(\"City\").mean().sort_values(by=\"Price\", ascending=False)[:10].index], \n",
        "            y=\"Price\", \n",
        "            data=dataset_sample.groupby(\"City\").mean().sort_values(by=\"Price\", ascending=False)[:10], \n",
        "            kind='bar', \n",
        "            ax = ax\n",
        "           )\n",
        "\n",
        "ax.set(xlabel='City', ylabel='Price')\n",
        "plt.show()"
      ],
      "execution_count": 0,
      "outputs": [
        {
          "output_type": "display_data",
          "data": {
            "image/png": "[encoded data removed]",
            "text/plain": [
              "<Figure size 1152x576 with 1 Axes>"
            ]
          },
          "metadata": {
            "tags": []
          }
        },
        {
          "output_type": "display_data",
          "data": {
            "image/png": "[encoded data removed]",
            "text/plain": [
              "<Figure size 360x360 with 1 Axes>"
            ]
          },
          "metadata": {
            "tags": []
          }
        }
      ]
    },
    {
      "cell_type": "markdown",
      "metadata": {
        "id": "MtfYTfY4i0Bm",
        "colab_type": "text"
      },
      "source": [
        "21. Refaites un modèle de régression linéaire en incluant les villes comme variables explicative. Quel score trouvez vous ?"
      ]
    },
    {
      "cell_type": "code",
      "metadata": {
        "id": "pqfiHQCli6-I",
        "colab_type": "code",
        "colab": {}
      },
      "source": [
        "# Dummyfication des villes \n",
        "dataset= pd.get_dummies(dataset, drop_first=True) "
      ],
      "execution_count": 0,
      "outputs": []
    },
    {
      "cell_type": "code",
      "metadata": {
        "id": "akDvFxiwi9Po",
        "colab_type": "code",
        "colab": {}
      },
      "source": [
        "# Séparation des variables \n",
        "X = dataset_sample.loc[:, dataset_sample.columns != \"Price\"]\n",
        "y = dataset_sample.loc[:, dataset_sample.columns == \"Price\"]"
      ],
      "execution_count": 0,
      "outputs": []
    },
    {
      "cell_type": "code",
      "metadata": {
        "id": "uOt2BnKLjLIb",
        "colab_type": "code",
        "colab": {}
      },
      "source": [
        "# Train Test Split\n",
        "X_train, X_test, y_train, y_test = train_test_split(X, y, test_size= 0.15)"
      ],
      "execution_count": 0,
      "outputs": []
    },
    {
      "cell_type": "code",
      "metadata": {
        "id": "QDvgJjxYjVIw",
        "colab_type": "code",
        "colab": {}
      },
      "source": [
        "# Normalisation des données\n",
        "sc_x = StandardScaler()\n",
        "X_train = sc_x.fit_transform(X_train)\n",
        "X_test = sc_x.fit_transform(X_test)"
      ],
      "execution_count": 0,
      "outputs": []
    },
    {
      "cell_type": "code",
      "metadata": {
        "id": "0cnWNvdQjpAa",
        "colab_type": "code",
        "colab": {}
      },
      "source": [
        "# Application du modèle \n",
        "from sklearn.linear_model import LinearRegression\n",
        "regressor = LinearRegression()\n",
        "regressor.fit(X_train, y_train)"
      ],
      "execution_count": 0,
      "outputs": []
    },
    {
      "cell_type": "code",
      "metadata": {
        "id": "uMBR4RgGjxYw",
        "colab_type": "code",
        "colab": {}
      },
      "source": [
        "# Evaluation du modèle \n",
        "regressor.score(X_test, y_test)"
      ],
      "execution_count": 0,
      "outputs": []
    },
    {
      "cell_type": "markdown",
      "metadata": {
        "id": "K-GHNdcApHkZ",
        "colab_type": "text"
      },
      "source": [
        "22. Notre modèle est globalement moins bon. A votre avis pourquoi ? "
      ]
    },
    {
      "cell_type": "markdown",
      "metadata": {
        "id": "sKwuwguRpLa7",
        "colab_type": "text"
      },
      "source": [
        "----> Nous avons beaucoup moins de données. Il faudrait qu'on prenne un sample plus grand pour que notre modèle aient de quoi s'entraîner correctement. "
      ]
    },
    {
      "cell_type": "code",
      "metadata": {
        "id": "xU0ZvyAnrjYm",
        "colab_type": "code",
        "colab": {}
      },
      "source": [
        ""
      ],
      "execution_count": 0,
      "outputs": []
    }
  ]
}