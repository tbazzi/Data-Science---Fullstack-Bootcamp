{
  "nbformat": 4,
  "nbformat_minor": 0,
  "metadata": {
    "colab": {
      "name": "S7_1_Introduction Tensorflow 2.ipynb",
      "provenance": [],
      "include_colab_link": true
    },
    "kernelspec": {
      "name": "python3",
      "display_name": "Python 3"
    },
    "accelerator": "GPU"
  },
  "cells": [
    {
      "cell_type": "markdown",
      "metadata": {
        "id": "view-in-github",
        "colab_type": "text"
      },
      "source": [
        "<a href=\"https://colab.research.google.com/github/tbazzi/Data-Science---Fullstack-Bootcamp/blob/master/S7_1_Introduction_Tensorflow_2.ipynb\" target=\"_parent\"><img src=\"https://colab.research.google.com/assets/colab-badge.svg\" alt=\"Open In Colab\"/></a>"
      ]
    },
    {
      "cell_type": "markdown",
      "metadata": {
        "id": "2od0g0vRoz-O",
        "colab_type": "text"
      },
      "source": [
        "# Introduction à Tensorflow 2.0 \n",
        "\n",
        "## Ce que vous apprendrez dans ce cours \n",
        "\n",
        "TF 2.0 est une vraie avancée dans le monde du Deep Learning chez Google. Alors que leur première version était difficile à manipuler du fait de devoir créer des sessions, Tensorflow 2.0 est fondé, comme Pytorch, sur le principe d'Eager Execution. Ceci veut dire que les opérations que vous effectuées sur vos données sont instantanément éxecutées. \n",
        "\n",
        "Le second avantage de la librairie est que Tensorflow 2.0 intègre Keras, une librairie qui facilite la création de modèles de Deep Learning. Ce qui facilite largement la vie des développeurs Deep Learning. \n",
        "\n",
        "Ce cours vise donc à vous montrer rapidement les avancées entre Tensorflow 1.X et Tensorflow 2.0. Nous verrons ensuite les grands principes de manipulations de tenseurs et comment créer un réseau de neurones simple avec Keras. "
      ]
    },
    {
      "cell_type": "markdown",
      "metadata": {
        "id": "A6mY0WdJqdOx",
        "colab_type": "text"
      },
      "source": [
        "## TF 1.X VS TF 2.0 \n",
        "\n"
      ]
    },
    {
      "cell_type": "markdown",
      "metadata": {
        "id": "BFXv41pRzExl",
        "colab_type": "text"
      },
      "source": [
        "### Static Graphs VS Eager Execution "
      ]
    },
    {
      "cell_type": "markdown",
      "metadata": {
        "id": "QHcLNKTYqkg-",
        "colab_type": "text"
      },
      "source": [
        "Pour comprendre rapidement pourquoi Tensorflow 2.0 est vraiment une belle avancée dans le Deep Learning, il est bon de regarder la différence entre les deux versions. Regardons d'abord le principe de TF 1.X "
      ]
    },
    {
      "cell_type": "code",
      "metadata": {
        "id": "R5OIzS1gugV-",
        "colab_type": "code",
        "colab": {}
      },
      "source": [
        "!pip install tensorflow-gpu==1.14"
      ],
      "execution_count": 0,
      "outputs": []
    },
    {
      "cell_type": "code",
      "metadata": {
        "id": "4VS43RU3opQs",
        "colab_type": "code",
        "outputId": "d2a598d0-7ac1-40a6-f383-e44dba733ee2",
        "colab": {
          "base_uri": "https://localhost:8080/",
          "height": 34
        }
      },
      "source": [
        "import tensorflow as tf \n",
        "tf.__version__"
      ],
      "execution_count": 0,
      "outputs": [
        {
          "output_type": "execute_result",
          "data": {
            "text/plain": [
              "'1.14.0'"
            ]
          },
          "metadata": {
            "tags": []
          },
          "execution_count": 2
        }
      ]
    },
    {
      "cell_type": "code",
      "metadata": {
        "id": "_WAomZ-YqzN2",
        "colab_type": "code",
        "outputId": "7cf9d0c1-78e3-40c6-cfb7-838957269d52",
        "colab": {
          "base_uri": "https://localhost:8080/",
          "height": 34
        }
      },
      "source": [
        "# Créons une variable en TF 1.X \n",
        "\n",
        "t = tf.Variable([\n",
        "    [1,2],\n",
        "    [3,4]\n",
        "])\n",
        "\n",
        "print(t)"
      ],
      "execution_count": 0,
      "outputs": [
        {
          "output_type": "stream",
          "text": [
            "<tf.Variable 'Variable:0' shape=(2, 2) dtype=int32_ref>\n"
          ],
          "name": "stdout"
        }
      ]
    },
    {
      "cell_type": "markdown",
      "metadata": {
        "id": "9jvULCMrrYfv",
        "colab_type": "text"
      },
      "source": [
        "On peut voir ici que nous ne pouvons pas accéder aux valeurs de notre variables. Essayons de faire une opération "
      ]
    },
    {
      "cell_type": "code",
      "metadata": {
        "id": "PRWhS7zmq6XS",
        "colab_type": "code",
        "outputId": "7bcd0400-daaf-48e0-ae72-6e526f828090",
        "colab": {
          "base_uri": "https://localhost:8080/",
          "height": 34
        }
      },
      "source": [
        "addition = t + 2\n",
        "addition"
      ],
      "execution_count": 0,
      "outputs": [
        {
          "output_type": "execute_result",
          "data": {
            "text/plain": [
              "<tf.Tensor 'add:0' shape=(2, 2) dtype=int32>"
            ]
          },
          "metadata": {
            "tags": []
          },
          "execution_count": 4
        }
      ]
    },
    {
      "cell_type": "markdown",
      "metadata": {
        "id": "fDVwOJyzr1NT",
        "colab_type": "text"
      },
      "source": [
        "Pour pouvoir effectuer des opérations et accéder aux valeurs du tenseurs, il faut créer ce qu'on appelle une _session_ "
      ]
    },
    {
      "cell_type": "code",
      "metadata": {
        "id": "72SEQhEDrj9D",
        "colab_type": "code",
        "colab": {}
      },
      "source": [
        "# Création d'une session\n",
        "session = tf.Session()\n",
        "\n",
        "# Initialisation des variables\n",
        "session.run(tf.global_variables_initializer())"
      ],
      "execution_count": 0,
      "outputs": []
    },
    {
      "cell_type": "code",
      "metadata": {
        "id": "HmhBzMU6sK4q",
        "colab_type": "code",
        "outputId": "fc122415-2061-47a1-98da-4237c76c0583",
        "colab": {
          "base_uri": "https://localhost:8080/",
          "height": 50
        }
      },
      "source": [
        "# Opération\n",
        "session.run(addition)"
      ],
      "execution_count": 0,
      "outputs": [
        {
          "output_type": "execute_result",
          "data": {
            "text/plain": [
              "array([[3, 4],\n",
              "       [5, 6]], dtype=int32)"
            ]
          },
          "metadata": {
            "tags": []
          },
          "execution_count": 6
        }
      ]
    },
    {
      "cell_type": "markdown",
      "metadata": {
        "id": "wxbeqG4DtR3o",
        "colab_type": "text"
      },
      "source": [
        "Ce principe de session vient de ce que s'appelle des _graphs_. Tensorflow stocke une opération dans un _static graph_ qui sera éxecuté uniquement si vous ouvrez une session. \n",
        "\n",
        "Cette façon de faire était complètement contre-intuitive et beaucoup d'utilisateurs se cassaient les dents là dessus mais, cette ère est maintenant révolue depuis l'arrivée de Tensorflow 2.0 \n",
        "\n",
        "Regardons maintenant la différence : "
      ]
    },
    {
      "cell_type": "code",
      "metadata": {
        "id": "knJwaHeasi50",
        "colab_type": "code",
        "outputId": "7fd3ba47-73ed-4959-ba98-9e05fca81a62",
        "colab": {
          "base_uri": "https://localhost:8080/",
          "height": 593
        }
      },
      "source": [
        "!pip install tensorflow-gpu==2.0.0beta1"
      ],
      "execution_count": 0,
      "outputs": [
        {
          "output_type": "stream",
          "text": [
            "Collecting tensorflow-gpu==2.0.0beta1\n",
            "\u001b[?25l  Downloading https://files.pythonhosted.org/packages/2b/53/e18c5e7a2263d3581a979645a185804782e59b8e13f42b9c3c3cfb5bb503/tensorflow_gpu-2.0.0b1-cp36-cp36m-manylinux1_x86_64.whl (348.9MB)\n",
            "\u001b[K     |████████████████████████████████| 348.9MB 50kB/s \n",
            "\u001b[?25hRequirement already satisfied: google-pasta>=0.1.6 in /usr/local/lib/python3.6/dist-packages (from tensorflow-gpu==2.0.0beta1) (0.1.7)\n",
            "Requirement already satisfied: six>=1.10.0 in /usr/local/lib/python3.6/dist-packages (from tensorflow-gpu==2.0.0beta1) (1.12.0)\n",
            "Requirement already satisfied: wheel>=0.26 in /usr/local/lib/python3.6/dist-packages (from tensorflow-gpu==2.0.0beta1) (0.33.4)\n",
            "Requirement already satisfied: grpcio>=1.8.6 in /usr/local/lib/python3.6/dist-packages (from tensorflow-gpu==2.0.0beta1) (1.15.0)\n",
            "Requirement already satisfied: numpy<2.0,>=1.14.5 in /usr/local/lib/python3.6/dist-packages (from tensorflow-gpu==2.0.0beta1) (1.16.4)\n",
            "Requirement already satisfied: absl-py>=0.7.0 in /usr/local/lib/python3.6/dist-packages (from tensorflow-gpu==2.0.0beta1) (0.7.1)\n",
            "Requirement already satisfied: wrapt>=1.11.1 in /usr/local/lib/python3.6/dist-packages (from tensorflow-gpu==2.0.0beta1) (1.11.2)\n",
            "Collecting tf-estimator-nightly<1.14.0.dev2019060502,>=1.14.0.dev2019060501 (from tensorflow-gpu==2.0.0beta1)\n",
            "\u001b[?25l  Downloading https://files.pythonhosted.org/packages/32/dd/99c47dd007dcf10d63fd895611b063732646f23059c618a373e85019eb0e/tf_estimator_nightly-1.14.0.dev2019060501-py2.py3-none-any.whl (496kB)\n",
            "\u001b[K     |████████████████████████████████| 501kB 49.9MB/s \n",
            "\u001b[?25hRequirement already satisfied: keras-preprocessing>=1.0.5 in /usr/local/lib/python3.6/dist-packages (from tensorflow-gpu==2.0.0beta1) (1.1.0)\n",
            "Requirement already satisfied: termcolor>=1.1.0 in /usr/local/lib/python3.6/dist-packages (from tensorflow-gpu==2.0.0beta1) (1.1.0)\n",
            "Collecting tb-nightly<1.14.0a20190604,>=1.14.0a20190603 (from tensorflow-gpu==2.0.0beta1)\n",
            "\u001b[?25l  Downloading https://files.pythonhosted.org/packages/a4/96/571b875cd81dda9d5dfa1422a4f9d749e67c0a8d4f4f0b33a4e5f5f35e27/tb_nightly-1.14.0a20190603-py3-none-any.whl (3.1MB)\n",
            "\u001b[K     |████████████████████████████████| 3.1MB 49.9MB/s \n",
            "\u001b[?25hRequirement already satisfied: keras-applications>=1.0.6 in /usr/local/lib/python3.6/dist-packages (from tensorflow-gpu==2.0.0beta1) (1.0.8)\n",
            "Requirement already satisfied: astor>=0.6.0 in /usr/local/lib/python3.6/dist-packages (from tensorflow-gpu==2.0.0beta1) (0.8.0)\n",
            "Requirement already satisfied: gast>=0.2.0 in /usr/local/lib/python3.6/dist-packages (from tensorflow-gpu==2.0.0beta1) (0.2.2)\n",
            "Requirement already satisfied: protobuf>=3.6.1 in /usr/local/lib/python3.6/dist-packages (from tensorflow-gpu==2.0.0beta1) (3.7.1)\n",
            "Requirement already satisfied: werkzeug>=0.11.15 in /usr/local/lib/python3.6/dist-packages (from tb-nightly<1.14.0a20190604,>=1.14.0a20190603->tensorflow-gpu==2.0.0beta1) (0.15.4)\n",
            "Requirement already satisfied: markdown>=2.6.8 in /usr/local/lib/python3.6/dist-packages (from tb-nightly<1.14.0a20190604,>=1.14.0a20190603->tensorflow-gpu==2.0.0beta1) (3.1.1)\n",
            "Requirement already satisfied: setuptools>=41.0.0 in /usr/local/lib/python3.6/dist-packages (from tb-nightly<1.14.0a20190604,>=1.14.0a20190603->tensorflow-gpu==2.0.0beta1) (41.0.1)\n",
            "Requirement already satisfied: h5py in /usr/local/lib/python3.6/dist-packages (from keras-applications>=1.0.6->tensorflow-gpu==2.0.0beta1) (2.8.0)\n",
            "Installing collected packages: tf-estimator-nightly, tb-nightly, tensorflow-gpu\n",
            "Successfully installed tb-nightly-1.14.0a20190603 tensorflow-gpu-2.0.0b1 tf-estimator-nightly-1.14.0.dev2019060501\n"
          ],
          "name": "stdout"
        },
        {
          "output_type": "display_data",
          "data": {
            "application/vnd.colab-display-data+json": {
              "pip_warning": {
                "packages": [
                  "tensorboard",
                  "tensorflow",
                  "tensorflow_estimator"
                ]
              }
            }
          },
          "metadata": {
            "tags": []
          }
        }
      ]
    },
    {
      "cell_type": "code",
      "metadata": {
        "id": "Ytc_uHGGt_6z",
        "colab_type": "code",
        "outputId": "eb8c6aaa-82b4-4fce-cf18-b932e8e9f51d",
        "colab": {
          "base_uri": "https://localhost:8080/",
          "height": 34
        }
      },
      "source": [
        "import tensorflow as tf\n",
        "tf.__version__"
      ],
      "execution_count": 0,
      "outputs": [
        {
          "output_type": "execute_result",
          "data": {
            "text/plain": [
              "'2.0.0-beta1'"
            ]
          },
          "metadata": {
            "tags": []
          },
          "execution_count": 1
        }
      ]
    },
    {
      "cell_type": "code",
      "metadata": {
        "id": "-oXWNxiguYfk",
        "colab_type": "code",
        "outputId": "98093b69-cb0b-4d2c-d9f4-ec157d5a1f69",
        "colab": {
          "base_uri": "https://localhost:8080/",
          "height": 67
        }
      },
      "source": [
        "t = tf.Variable([\n",
        "    [1,2],\n",
        "    [3,4]\n",
        "])\n",
        "\n",
        "print(t)"
      ],
      "execution_count": 0,
      "outputs": [
        {
          "output_type": "stream",
          "text": [
            "<tf.Variable 'Variable:0' shape=(2, 2) dtype=int32, numpy=\n",
            "array([[1, 2],\n",
            "       [3, 4]], dtype=int32)>\n"
          ],
          "name": "stdout"
        }
      ]
    },
    {
      "cell_type": "markdown",
      "metadata": {
        "id": "NhUnIGo7vFGT",
        "colab_type": "text"
      },
      "source": [
        "Vous pouvez voir tout de suite que vous avez directement accès aux valeurs de votre tenseurs. Regardons quelques opérations :"
      ]
    },
    {
      "cell_type": "code",
      "metadata": {
        "id": "M4_1fuChu-PZ",
        "colab_type": "code",
        "outputId": "84956e0d-71df-43ae-900d-b4bcc3ca957e",
        "colab": {
          "base_uri": "https://localhost:8080/",
          "height": 67
        }
      },
      "source": [
        "# Addition d'un nombre scalaire\n",
        "t + 5"
      ],
      "execution_count": 0,
      "outputs": [
        {
          "output_type": "execute_result",
          "data": {
            "text/plain": [
              "<tf.Tensor: id=12, shape=(2, 2), dtype=int32, numpy=\n",
              "array([[6, 7],\n",
              "       [8, 9]], dtype=int32)>"
            ]
          },
          "metadata": {
            "tags": []
          },
          "execution_count": 3
        }
      ]
    },
    {
      "cell_type": "code",
      "metadata": {
        "id": "AFs6Fl67v4lL",
        "colab_type": "code",
        "outputId": "74a11680-b50e-4025-d72f-cb2717354044",
        "colab": {
          "base_uri": "https://localhost:8080/",
          "height": 67
        }
      },
      "source": [
        "# Ajouter un vecteur\n",
        "t + [[1,2]]"
      ],
      "execution_count": 0,
      "outputs": [
        {
          "output_type": "execute_result",
          "data": {
            "text/plain": [
              "<tf.Tensor: id=16, shape=(2, 2), dtype=int32, numpy=\n",
              "array([[2, 4],\n",
              "       [4, 6]], dtype=int32)>"
            ]
          },
          "metadata": {
            "tags": []
          },
          "execution_count": 4
        }
      ]
    },
    {
      "cell_type": "code",
      "metadata": {
        "id": "597j2AlAvqv2",
        "colab_type": "code",
        "outputId": "e2f26777-ed74-464b-86fa-9bb62fdbf20a",
        "colab": {
          "base_uri": "https://localhost:8080/",
          "height": 67
        }
      },
      "source": [
        "# Addition d'un autre tenseurs\n",
        "t.assign_add([\n",
        "    [1,2],\n",
        "    [4,6]\n",
        "])\n",
        "\n",
        "t"
      ],
      "execution_count": 0,
      "outputs": [
        {
          "output_type": "execute_result",
          "data": {
            "text/plain": [
              "<tf.Variable 'Variable:0' shape=(2, 2) dtype=int32, numpy=\n",
              "array([[ 2,  4],\n",
              "       [ 7, 10]], dtype=int32)>"
            ]
          },
          "metadata": {
            "tags": []
          },
          "execution_count": 5
        }
      ]
    },
    {
      "cell_type": "markdown",
      "metadata": {
        "id": "vXBiRmfSxSPw",
        "colab_type": "text"
      },
      "source": [
        "Ceci est ce qu'on appelle l' _Eager Execution_. Vous pouvez directement accéder et manipuler vos tenseurs comme s'ils étaient des numpy arrays ! \n",
        "\n",
        "Vous n'aurez pas besoin de faire beaucoup d'opérations directes sur des tenseurs puisque votre réseau de neurones s'occupera de cela pour vous. Voyons donc comment créer nos architectures de réseaux _from scratch_"
      ]
    },
    {
      "cell_type": "markdown",
      "metadata": {
        "id": "9AMaUqvTzUwH",
        "colab_type": "text"
      },
      "source": [
        "## Créer un réseau de neurones avec Keras "
      ]
    },
    {
      "cell_type": "markdown",
      "metadata": {
        "id": "mMGmRAJ7zxcZ",
        "colab_type": "text"
      },
      "source": [
        "Bien que nous nous baserons le plus souvent sur des principes de _transfer learning_, il est bon de comprendre comment créer une architecture de réseau car vous aurez besoin de comprendre comment celles-ci se construisent avant de pouvoir vous appuyer sur des réseaux pré-entrainés. Voyons donc comment cela fonctionne. "
      ]
    },
    {
      "cell_type": "markdown",
      "metadata": {
        "id": "VZSapMQ_0EqQ",
        "colab_type": "text"
      },
      "source": [
        "### Chargement & Preprocessing des données "
      ]
    },
    {
      "cell_type": "markdown",
      "metadata": {
        "id": "xHelpVmAuQVC",
        "colab_type": "text"
      },
      "source": [
        "Pour la démonstration, nous allons charger le dataset [cifar10](https://www.cs.toronto.edu/~kriz/cifar.html). Ce dataset contient 10 classes d'objets que nous allons essayer de classer via un CNN. "
      ]
    },
    {
      "cell_type": "code",
      "metadata": {
        "id": "KTalb6mJwFAC",
        "colab_type": "code",
        "colab": {}
      },
      "source": [
        "import tensorflow as tf\n",
        "from tensorflow.keras.datasets import cifar10\n",
        "\n",
        "(X_train, y_train),(X_test, y_test) = cifar10.load_data()"
      ],
      "execution_count": 0,
      "outputs": []
    },
    {
      "cell_type": "markdown",
      "metadata": {
        "id": "p5F6aqlZutaA",
        "colab_type": "text"
      },
      "source": [
        "Visualisons une image au hasard du dataset."
      ]
    },
    {
      "cell_type": "code",
      "metadata": {
        "id": "y_O29kMF0huA",
        "colab_type": "code",
        "outputId": "df025927-1acf-4c1d-f581-f1b628f41760",
        "colab": {
          "base_uri": "https://localhost:8080/",
          "height": 351
        }
      },
      "source": [
        "# Visualisation d'une image aléatoire\n",
        "import matplotlib.pyplot as plt \n",
        "import numpy as np\n",
        "\n",
        "random_image = np.random.randint(100)\n",
        "plt.imshow(X_train[random_image])\n",
        "plt.title(y_train[random_image])"
      ],
      "execution_count": 0,
      "outputs": [
        {
          "output_type": "stream",
          "text": [
            "/usr/local/lib/python3.6/dist-packages/matplotlib/text.py:1191: FutureWarning: elementwise comparison failed; returning scalar instead, but in the future will perform elementwise comparison\n",
            "  if s != self._text:\n"
          ],
          "name": "stderr"
        },
        {
          "output_type": "execute_result",
          "data": {
            "text/plain": [
              "Text(0.5, 1.0, '[6]')"
            ]
          },
          "metadata": {
            "tags": []
          },
          "execution_count": 23
        },
        {
          "output_type": "display_data",
          "data": {
            "image/png": "[encoded data removed]",
            "text/plain": [
              "<Figure size 432x288 with 1 Axes>"
            ]
          },
          "metadata": {
            "tags": []
          }
        }
      ]
    },
    {
      "cell_type": "markdown",
      "metadata": {
        "id": "kQeriXKluxif",
        "colab_type": "text"
      },
      "source": [
        "Si vous regardez _y_, nous n'avons que des numéros d'index. Essayons de voir ce que contient chacune des classes via une fonction qui va nous retourner une image aléatoire de chacune des classes de notre variable cible."
      ]
    },
    {
      "cell_type": "code",
      "metadata": {
        "id": "bX_X33xi4ip8",
        "colab_type": "code",
        "colab": {}
      },
      "source": [
        "def visualize_random_img_for_each_target(X ,y, nrows, ncols):\n",
        "  \n",
        "  fig, axes = plt.subplots(nrows=nrows, ncols=ncols, sharex=True, sharey=True)\n",
        "  \n",
        "  random_image = np.random.randint(100)\n",
        "  \n",
        "  index = nrows + ncols\n",
        "  for row in range(nrows):\n",
        "    for col in range(ncols):\n",
        "      mask = y == nrows + ncols - index\n",
        "      mask = mask.squeeze()\n",
        "      axes[row, col].imshow(X[mask][random_image])\n",
        "      index -=1 \n",
        "\n",
        "\n",
        "  print(\"index for each image :{}\".format(np.unique(y)))"
      ],
      "execution_count": 0,
      "outputs": []
    },
    {
      "cell_type": "code",
      "metadata": {
        "id": "F5jRBNSX5CP2",
        "colab_type": "code",
        "outputId": "cdc5e258-b6e2-4268-8a8f-991673f3ba7c",
        "colab": {
          "base_uri": "https://localhost:8080/",
          "height": 245
        }
      },
      "source": [
        "visualize_random_img_for_each_target(X_train,y_train, 2, 5)"
      ],
      "execution_count": 0,
      "outputs": [
        {
          "output_type": "stream",
          "text": [
            "index for each image :[0 1 2 3 4 5 6 7 8 9]\n"
          ],
          "name": "stdout"
        },
        {
          "output_type": "display_data",
          "data": {
            "image/png": "[encoded data removed]",
            "text/plain": [
              "<Figure size 432x288 with 10 Axes>"
            ]
          },
          "metadata": {
            "tags": []
          }
        }
      ]
    },
    {
      "cell_type": "markdown",
      "metadata": {
        "id": "3jdbeVMY9sEC",
        "colab_type": "text"
      },
      "source": [
        "Même si les images sont de relativement basse qualité, on peut distinguer les classes suivantes : "
      ]
    },
    {
      "cell_type": "code",
      "metadata": {
        "id": "HEyJJMiJ5EpQ",
        "colab_type": "code",
        "colab": {}
      },
      "source": [
        "# Noms des variables cibles\n",
        "class_names = ['airplane', \n",
        "               'automobile', \n",
        "               'bird', \n",
        "               'cat', \n",
        "               'deer', \n",
        "               'dog', \n",
        "               'frog', \n",
        "               'horse', \n",
        "               'ship', \n",
        "               'truck']"
      ],
      "execution_count": 0,
      "outputs": []
    },
    {
      "cell_type": "markdown",
      "metadata": {
        "id": "_ETeHEjT_mWo",
        "colab_type": "text"
      },
      "source": [
        "### Data Augmentation"
      ]
    },
    {
      "cell_type": "markdown",
      "metadata": {
        "id": "5vkKRjnFvA45",
        "colab_type": "text"
      },
      "source": [
        "Un moyen d'améliorer nos résultats est de faire ce qu'on appelle de la _data augmentation_. Ce principe consiste à changer les images de notre dataset de manière aléatoire. Ceci a pour but que l'algorithme voit toujours des images différentes, on évite ainsi _l'overfitting_. \n",
        "\n",
        "Il y a une classe très pratique pour cela qui est [_ImageDataGenerator_](https://keras.io/preprocessing/image/) dans Keras "
      ]
    },
    {
      "cell_type": "code",
      "metadata": {
        "id": "h6lgz8RC70HV",
        "colab_type": "code",
        "colab": {}
      },
      "source": [
        "data_aug = tf.keras.preprocessing.image.ImageDataGenerator(\n",
        "    rescale=1.0/255.0,\n",
        "    horizontal_flip=True,\n",
        "    shear_range=0.2,\n",
        "    zoom_range=0.2,\n",
        "    data_format=\"channels_last\"\n",
        ")"
      ],
      "execution_count": 0,
      "outputs": []
    },
    {
      "cell_type": "markdown",
      "metadata": {
        "id": "LL8uS1zevqQV",
        "colab_type": "text"
      },
      "source": [
        "Ici : \n",
        "`rescale`: Permet de diviser chacun des éléments de notre tenseurs par 255, cela permet aux modèle d'apprendre plus facilement sur des images définies en RGB \n",
        "\n",
        "`horizontal_flip`: Permet d'inverser une image par l'horizontal (comme si vous la regardiez dans un mirroir)\n",
        "\n",
        "`shear_range`: est une manière d'étirer l'image\n",
        "\n",
        "`zoom_range`: permet de zoomer sur une partie aléatoire de l'image \n",
        "\n",
        "`data_format`: permet de dire quel _shape_ notre image va avoir en output. Ici, nous voulons : (Sample, height, width, channels) où (taille de l'échantillon, hauteur, largeur, couleurs)"
      ]
    },
    {
      "cell_type": "code",
      "metadata": {
        "id": "-MjydNzG_9mO",
        "colab_type": "code",
        "colab": {}
      },
      "source": [
        "data_aug.fit(X_train)"
      ],
      "execution_count": 0,
      "outputs": []
    },
    {
      "cell_type": "markdown",
      "metadata": {
        "id": "BcAHSX0cwpd4",
        "colab_type": "text"
      },
      "source": [
        "Prenons, une image pour voir si tout s'est bien passé dans notre _data augmentation_"
      ]
    },
    {
      "cell_type": "code",
      "metadata": {
        "id": "u8Xt5frvWkBt",
        "colab_type": "code",
        "outputId": "e6035176-ae0c-4a7d-e652-fdda767ce762",
        "colab": {
          "base_uri": "https://localhost:8080/",
          "height": 34
        }
      },
      "source": [
        "next(iter(data_aug.flow(X_train, y_train, batch_size=1)))[0].shape"
      ],
      "execution_count": 0,
      "outputs": [
        {
          "output_type": "execute_result",
          "data": {
            "text/plain": [
              "(1, 32, 32, 3)"
            ]
          },
          "metadata": {
            "tags": []
          },
          "execution_count": 53
        }
      ]
    },
    {
      "cell_type": "code",
      "metadata": {
        "id": "f2Tp30pwcOjV",
        "colab_type": "code",
        "colab": {}
      },
      "source": [
        "img, target = next(iter(data_aug.flow(X_train, y_train, batch_size=1)))"
      ],
      "execution_count": 0,
      "outputs": []
    },
    {
      "cell_type": "code",
      "metadata": {
        "id": "32B5ZMzVUtLG",
        "colab_type": "code",
        "outputId": "eeff85cc-d14f-4215-bfc7-df1e688b8c39",
        "colab": {
          "base_uri": "https://localhost:8080/",
          "height": 351
        }
      },
      "source": [
        "plt.imshow(img.reshape(32,32,3))\n",
        "plt.title(target)"
      ],
      "execution_count": 0,
      "outputs": [
        {
          "output_type": "stream",
          "text": [
            "/usr/local/lib/python3.6/dist-packages/matplotlib/text.py:1191: FutureWarning: elementwise comparison failed; returning scalar instead, but in the future will perform elementwise comparison\n",
            "  if s != self._text:\n"
          ],
          "name": "stderr"
        },
        {
          "output_type": "execute_result",
          "data": {
            "text/plain": [
              "Text(0.5, 1.0, '[[9]]')"
            ]
          },
          "metadata": {
            "tags": []
          },
          "execution_count": 59
        },
        {
          "output_type": "display_data",
          "data": {
            "image/png": "[encoded data removed]",
            "text/plain": [
              "<Figure size 432x288 with 1 Axes>"
            ]
          },
          "metadata": {
            "tags": []
          }
        }
      ]
    },
    {
      "cell_type": "markdown",
      "metadata": {
        "id": "8COahLh4xS_1",
        "colab_type": "text"
      },
      "source": [
        "On peut voir que nous avons bien l'image d'un camion. Tout à l'air bon pour passer à la suite des événements : La création d'une architecture. "
      ]
    },
    {
      "cell_type": "markdown",
      "metadata": {
        "id": "kI6UHLB0AhP7",
        "colab_type": "text"
      },
      "source": [
        "## Création d'un modèle CNN"
      ]
    },
    {
      "cell_type": "markdown",
      "metadata": {
        "id": "LQqNQuTyxaSh",
        "colab_type": "text"
      },
      "source": [
        "Pour créer une architecture from scratch dans Keras, vous aurez besoin de la classe `Sequential()` et de `layers`, rien de plus ! \n",
        "\n",
        "Voyons ensemble comment nous pourrions créer un réseau de neurones convolutionnel simple. Pour cela, nous allons arbitrairement choisir la structure suivante : \n",
        "\n",
        "* 1ère couche : Première feature map 2D de taille 3x3\n",
        "* 2e couche : Un MaxPool 2D qui va nous permettre de tirer les pixels les plus signifiants de notre feature map\n",
        "\n",
        "* 3e - 6e couche : Nous allons répéter le processus 2 fois \n",
        "* 7e couche : Nous allons commencer à repasser ceci dans un réseau de neurones classique, nous allons donc devoir applatir (Flatten) nos tenseurs \n",
        "* 8e couche : Nous créons une première couche connectée classique \n",
        "* 9e couche : Nous ajoutons ce qu'on appelle du _Dropout_ pour éviter du sur-entrainement\n",
        "* 10e couche : Nous repassons sur une nouvelle couche cachée plus mince que celle d'au dessus \n",
        "* 11e couche : Celle-ci sera notre dernière, elle aura donc autant d'output que de classes dans notre variable cible \n",
        "\n",
        "Voici donc ce que cela donne sur Tensorflow "
      ]
    },
    {
      "cell_type": "code",
      "metadata": {
        "id": "Y2dR2l3gAAu_",
        "colab_type": "code",
        "colab": {}
      },
      "source": [
        "model = tf.keras.models.Sequential([\n",
        "    tf.keras.layers.Conv2D(filters=32, kernel_size=3, padding=\"same\", activation=\"relu\", input_shape=[32, 32, 3]),\n",
        "    tf.keras.layers.MaxPool2D(pool_size=2, strides=2, padding='valid'),\n",
        "    tf.keras.layers.Conv2D(filters=32, kernel_size=3, padding=\"same\", activation=\"relu\"),\n",
        "    tf.keras.layers.MaxPool2D(pool_size=2, strides=2, padding='valid'),\n",
        "    tf.keras.layers.Conv2D(filters=64, kernel_size=3, padding=\"same\", activation=\"relu\"),\n",
        "    tf.keras.layers.MaxPool2D(pool_size=2, strides=2, padding='valid'),\n",
        "    tf.keras.layers.Flatten(),\n",
        "    tf.keras.layers.Dense(units=128, activation='relu'),\n",
        "    tf.keras.layers.Dropout(0.1),\n",
        "    tf.keras.layers.Dense(units=64, activation =\"relu\"),\n",
        "    tf.keras.layers.Dense(units=10, activation='softmax')\n",
        "])"
      ],
      "execution_count": 0,
      "outputs": []
    },
    {
      "cell_type": "markdown",
      "metadata": {
        "id": "0FMxhv_Gy2Rr",
        "colab_type": "text"
      },
      "source": [
        "Nous pouvons regarder la tête de notre modèle via `model.summary`"
      ]
    },
    {
      "cell_type": "code",
      "metadata": {
        "id": "A1auA9HvBI6Q",
        "colab_type": "code",
        "outputId": "2ccb7748-fe48-4317-d74c-da1d20dece16",
        "colab": {
          "base_uri": "https://localhost:8080/",
          "height": 521
        }
      },
      "source": [
        "model.summary()"
      ],
      "execution_count": 0,
      "outputs": [
        {
          "output_type": "stream",
          "text": [
            "Model: \"sequential_5\"\n",
            "_________________________________________________________________\n",
            "Layer (type)                 Output Shape              Param #   \n",
            "=================================================================\n",
            "conv2d_15 (Conv2D)           (None, 32, 32, 32)        896       \n",
            "_________________________________________________________________\n",
            "max_pooling2d_15 (MaxPooling (None, 16, 16, 32)        0         \n",
            "_________________________________________________________________\n",
            "conv2d_16 (Conv2D)           (None, 16, 16, 32)        9248      \n",
            "_________________________________________________________________\n",
            "max_pooling2d_16 (MaxPooling (None, 8, 8, 32)          0         \n",
            "_________________________________________________________________\n",
            "conv2d_17 (Conv2D)           (None, 8, 8, 64)          18496     \n",
            "_________________________________________________________________\n",
            "max_pooling2d_17 (MaxPooling (None, 4, 4, 64)          0         \n",
            "_________________________________________________________________\n",
            "flatten_5 (Flatten)          (None, 1024)              0         \n",
            "_________________________________________________________________\n",
            "dense_15 (Dense)             (None, 128)               131200    \n",
            "_________________________________________________________________\n",
            "dropout_5 (Dropout)          (None, 128)               0         \n",
            "_________________________________________________________________\n",
            "dense_16 (Dense)             (None, 64)                8256      \n",
            "_________________________________________________________________\n",
            "dense_17 (Dense)             (None, 10)                650       \n",
            "=================================================================\n",
            "Total params: 168,746\n",
            "Trainable params: 168,746\n",
            "Non-trainable params: 0\n",
            "_________________________________________________________________\n"
          ],
          "name": "stdout"
        }
      ]
    },
    {
      "cell_type": "markdown",
      "metadata": {
        "id": "pJzMRKAhBVbS",
        "colab_type": "text"
      },
      "source": [
        "### Insertion d'une loss function et d'un optimiseur"
      ]
    },
    {
      "cell_type": "markdown",
      "metadata": {
        "id": "0bjT62uTy7nc",
        "colab_type": "text"
      },
      "source": [
        "Une fois que nous avons créé notre architecture, nous avons besoin de déterminer une fonction de coût ainsi qu'un optimiseur. Ceci va se passer en deux étapes : \n",
        "\n",
        "* **1ere étape** : Nous allons définir une `Learning Rate Schedule`. Ce qui va nous permettre de déterminer un learning rate dynamique qui va décroître au fur et à mesure que l'algorithme s'entraîne. \n",
        "\n",
        "* **2e étape** : Nous allons ensuite compiler cela dans notre modèle en précisant notre fonction de coût et notre metric. "
      ]
    },
    {
      "cell_type": "code",
      "metadata": {
        "id": "16qsZS_CSVyr",
        "colab_type": "code",
        "colab": {}
      },
      "source": [
        "initial_learning_rate = 0.001\n",
        "\n",
        "lr_schedule = tf.keras.optimizers.schedules.ExponentialDecay(\n",
        "    initial_learning_rate,\n",
        "    decay_steps=10000,\n",
        "    decay_rate=0.96,\n",
        "    staircase=True)\n"
      ],
      "execution_count": 0,
      "outputs": []
    },
    {
      "cell_type": "markdown",
      "metadata": {
        "id": "21CJ3vjCzxKI",
        "colab_type": "text"
      },
      "source": [
        "Ici, nous avons définit un `ExponentialDecay` qui va simplement appliquer la fonction suivante au learning rate inital que nous fixons : \n",
        "\n",
        "`initial_learning_rate * decay_rate ^ (step / decay_steps)`\n",
        "\n",
        "Dans l'exemple du dessus, toutes les 10000 images passées, nous appliquons la fonction du dessus. Si vous souhaitez en savoir plus sur les différents types de `schedule` n'hésitez pas à regarder cette page :\n",
        "\n",
        "[Keras Optimizers Schedules](https://www.tensorflow.org/api_docs/python/tf/keras/optimizers/schedules)"
      ]
    },
    {
      "cell_type": "code",
      "metadata": {
        "id": "Rz9D_TOUBKeq",
        "colab_type": "code",
        "colab": {}
      },
      "source": [
        "model.compile(loss=\"sparse_categorical_crossentropy\",\n",
        "              optimizer= tf.keras.optimizers.Adam(learning_rate = lr_schedule), \n",
        "              metrics=[\"sparse_categorical_accuracy\"])"
      ],
      "execution_count": 0,
      "outputs": []
    },
    {
      "cell_type": "markdown",
      "metadata": {
        "id": "_6aEmMM71qis",
        "colab_type": "text"
      },
      "source": [
        "Pour cette dernière partie, nous rassemblons notre :\n",
        "\n",
        "* fonction de coût\n",
        "* Optimiseur \n",
        "* Metric \n",
        "\n",
        "En l'occurence, lorsque nous faisons de la classification non-binaire, nous choisissons presque toujours `sparse_categorical_crossentropy`. Bien sûr, si nous choisissons cette fonction de coût, nous avons la metric `sparse_categorical_accuracy` qui va avec. "
      ]
    },
    {
      "cell_type": "markdown",
      "metadata": {
        "id": "L-M2dhGmBwyH",
        "colab_type": "text"
      },
      "source": [
        "### Entrainement "
      ]
    },
    {
      "cell_type": "markdown",
      "metadata": {
        "id": "WulZb7Xb2yf6",
        "colab_type": "text"
      },
      "source": [
        "La dernière étape de notre projet est d'entrainer le modèle. Lorsque nous faisons de la _data augmentation_, vous aurez besoin d'appeler la fonction : `fit_generator`\n",
        "\n",
        "Cependant, si vous n'utilisez pas de _data augmentation_, vous avez simplement la fonction `fit` qui marche très bien. \n",
        "\n",
        "Nous allons donc faire tourner le modèle avec batch_size de 1. C'est à dire que nous prendrons les images à l'entrainement, une par une. \n",
        "\n",
        "FYI : Vous aurez aux alentours de **1 heure** d'entrainement sur GPU. "
      ]
    },
    {
      "cell_type": "code",
      "metadata": {
        "id": "LDhCOmvKBu2w",
        "colab_type": "code",
        "outputId": "60bcc92e-a1b0-412e-ba84-771ebe7433dc",
        "colab": {
          "base_uri": "https://localhost:8080/",
          "height": 390
        }
      },
      "source": [
        "model.fit_generator(data_aug.flow(X_train, y_train, batch_size=1), \n",
        "                    steps_per_epoch=len(X_train)//1,\n",
        "                    epochs=10)"
      ],
      "execution_count": 0,
      "outputs": [
        {
          "output_type": "stream",
          "text": [
            "Epoch 1/10\n",
            "50000/50000 [==============================] - 293s 6ms/step - loss: 0.9999 - sparse_categorical_accuracy: 0.6508\n",
            "Epoch 2/10\n",
            "50000/50000 [==============================] - 293s 6ms/step - loss: 0.9772 - sparse_categorical_accuracy: 0.6607\n",
            "Epoch 3/10\n",
            "50000/50000 [==============================] - 294s 6ms/step - loss: 0.9653 - sparse_categorical_accuracy: 0.6607\n",
            "Epoch 4/10\n",
            "50000/50000 [==============================] - 294s 6ms/step - loss: 0.9540 - sparse_categorical_accuracy: 0.6660\n",
            "Epoch 5/10\n",
            "50000/50000 [==============================] - 293s 6ms/step - loss: 0.9443 - sparse_categorical_accuracy: 0.6693\n",
            "Epoch 6/10\n",
            "50000/50000 [==============================] - 294s 6ms/step - loss: 0.9386 - sparse_categorical_accuracy: 0.6719\n",
            "Epoch 7/10\n",
            "50000/50000 [==============================] - 294s 6ms/step - loss: 0.9314 - sparse_categorical_accuracy: 0.6753\n",
            "Epoch 8/10\n",
            "50000/50000 [==============================] - 294s 6ms/step - loss: 0.9269 - sparse_categorical_accuracy: 0.6754\n",
            "Epoch 9/10\n",
            "50000/50000 [==============================] - 294s 6ms/step - loss: 0.9266 - sparse_categorical_accuracy: 0.6780\n",
            "Epoch 10/10\n",
            "50000/50000 [==============================] - 294s 6ms/step - loss: 0.9220 - sparse_categorical_accuracy: 0.6768\n"
          ],
          "name": "stdout"
        },
        {
          "output_type": "execute_result",
          "data": {
            "text/plain": [
              "<tensorflow.python.keras.callbacks.History at 0x7fd13660d0f0>"
            ]
          },
          "metadata": {
            "tags": []
          },
          "execution_count": 111
        }
      ]
    },
    {
      "cell_type": "markdown",
      "metadata": {
        "id": "BjLjLFSi38AM",
        "colab_type": "text"
      },
      "source": [
        "Après 10 epochs, nous arrivons à presque 68% d'accuracy sur les données d'entrainement, ce qui est pas mal étant donné que nous avons assez peu de données, une structure relativement simple. Voyons cependant ce que cela donne sur des donnés de validation.\n",
        "\n",
        "Pour cela, nous avons la méthode : `evaluate_generator` qui va pouvoir nous retourner un tuple (validation_loss, accuracy). Nous allons donc pouvoir évaluer la performance de notre modèle. "
      ]
    },
    {
      "cell_type": "code",
      "metadata": {
        "id": "V0e0kCImXeQJ",
        "colab_type": "code",
        "colab": {}
      },
      "source": [
        "loss, accuracy = model.evaluate_generator(data_aug.flow(X_test, y_test, batch_size=1))"
      ],
      "execution_count": 0,
      "outputs": []
    },
    {
      "cell_type": "markdown",
      "metadata": {
        "id": "8GWNjK7b4WSk",
        "colab_type": "text"
      },
      "source": [
        "FYI : De la même que pour `fit_generator`, vous avez l'équivalent `fit` pour des données _non augmentées_, vous avez la même chose pour `evaluate_generator` et `evaluate`."
      ]
    },
    {
      "cell_type": "code",
      "metadata": {
        "id": "4vIr2myYsX0Z",
        "colab_type": "code",
        "outputId": "0d240f87-415b-440b-f188-5930454b9cda",
        "colab": {
          "base_uri": "https://localhost:8080/",
          "height": 50
        }
      },
      "source": [
        "print(\"valid loss = {}\".format(loss))\n",
        "print(\"Accuracy = {}%\".format(np.round(accuracy*100, 2)))"
      ],
      "execution_count": 0,
      "outputs": [
        {
          "output_type": "stream",
          "text": [
            "valid loss = 0.9510624564636401\n",
            "Accuracy = 67.55%\n"
          ],
          "name": "stdout"
        }
      ]
    },
    {
      "cell_type": "markdown",
      "metadata": {
        "id": "siguQJl042uQ",
        "colab_type": "text"
      },
      "source": [
        "Nous avons une accuracy de 67.5% sur les données de validation, le modèle a l'air d'avoir bien généralisé. Ceci est donc une bonne nouvelle, d'autant plus que notre `valid loss` est à peu près au même niveau que notre `train loss`. Nous pourrions donc continuer d'entrainer le modèle. \n",
        "\n",
        "Regardons cependant une prédiction de notre modèle sur une image de `X_test`"
      ]
    },
    {
      "cell_type": "code",
      "metadata": {
        "id": "uQG_URElsxLg",
        "colab_type": "code",
        "colab": {}
      },
      "source": [
        "pred = np.argmax(model.predict(X_test[0].reshape(1,32,32,3)))"
      ],
      "execution_count": 0,
      "outputs": []
    },
    {
      "cell_type": "markdown",
      "metadata": {
        "id": "K40IhBLy5NQm",
        "colab_type": "text"
      },
      "source": [
        "`model.predict` nous retourne une liste de probabilités pour une chacune des classes de `y`. Pour nous retourner seulement l'index où nous avons la plus haute probabilité, nous prenons la méthode `argmax` de `numpy`. "
      ]
    },
    {
      "cell_type": "markdown",
      "metadata": {
        "id": "kLYLAvMz6pCk",
        "colab_type": "text"
      },
      "source": [
        "Comparons maintenant la prédiction de notre modèle par rapport à la réalité "
      ]
    },
    {
      "cell_type": "code",
      "metadata": {
        "id": "3HSeiXyntVDM",
        "colab_type": "code",
        "outputId": "ad6ed742-612a-46c2-c243-ec65e3282a54",
        "colab": {
          "base_uri": "https://localhost:8080/",
          "height": 313
        }
      },
      "source": [
        "plt.imshow(X_test[0])\n",
        "plt.title(\"True = {} \\n Pred = {}\".format(y_test[0], pred))"
      ],
      "execution_count": 0,
      "outputs": [
        {
          "output_type": "execute_result",
          "data": {
            "text/plain": [
              "Text(0.5, 1.0, 'True = [3] \\n Pred = 3')"
            ]
          },
          "metadata": {
            "tags": []
          },
          "execution_count": 115
        },
        {
          "output_type": "display_data",
          "data": {
            "image/png": "[encoded data removed]",
            "text/plain": [
              "<Figure size 432x288 with 1 Axes>"
            ]
          },
          "metadata": {
            "tags": []
          }
        }
      ]
    },
    {
      "cell_type": "markdown",
      "metadata": {
        "id": "dRJDvmY26yWk",
        "colab_type": "text"
      },
      "source": [
        "Bonne prédiction pour cette image ! "
      ]
    },
    {
      "cell_type": "markdown",
      "metadata": {
        "id": "fpTz4nldvbAT",
        "colab_type": "text"
      },
      "source": [
        "## Ressources"
      ]
    },
    {
      "cell_type": "markdown",
      "metadata": {
        "id": "zPcs7jjGvdG3",
        "colab_type": "text"
      },
      "source": [
        "* [Building Powerful Image Classification Models using very little data](https://blog.keras.io/building-powerful-image-classification-models-using-very-little-data.html)\n",
        "\n",
        "* [Optimizers Schedule](https://www.tensorflow.org/api_docs/python/tf/keras/optimizers/schedules)\n",
        "\n",
        "* [Load Cifar Data](https://www.tensorflow.org/api_docs/python/tf/keras/datasets/cifar10/load_data)\n",
        "\n",
        "* [Cifar Dataset](https://www.cs.toronto.edu/~kriz/cifar.html)"
      ]
    },
    {
      "cell_type": "code",
      "metadata": {
        "id": "xwn1V-h5vcdc",
        "colab_type": "code",
        "colab": {}
      },
      "source": [
        ""
      ],
      "execution_count": 0,
      "outputs": []
    }
  ]
}