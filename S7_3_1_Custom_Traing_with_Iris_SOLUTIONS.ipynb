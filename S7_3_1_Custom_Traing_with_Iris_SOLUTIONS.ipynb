{
  "nbformat": 4,
  "nbformat_minor": 0,
  "metadata": {
    "colab": {
      "name": "S7_3_1 Custom Traing with Iris - SOLUTIONS.ipynb",
      "provenance": [],
      "include_colab_link": true
    },
    "kernelspec": {
      "name": "python3",
      "display_name": "Python 3"
    }
  },
  "cells": [
    {
      "cell_type": "markdown",
      "metadata": {
        "id": "view-in-github",
        "colab_type": "text"
      },
      "source": [
        "<a href=\"https://colab.research.google.com/github/tbazzi/Data-Science---Fullstack-Bootcamp/blob/master/S7_3_1_Custom_Traing_with_Iris_SOLUTIONS.ipynb\" target=\"_parent\"><img src=\"https://colab.research.google.com/assets/colab-badge.svg\" alt=\"Open In Colab\"/></a>"
      ]
    },
    {
      "cell_type": "markdown",
      "metadata": {
        "id": "O8VyRHgBo_K6",
        "colab_type": "text"
      },
      "source": [
        "# Custom Training with Iris\n",
        "\n",
        "Nous allons cette fois sortir de Keras pour notre boucle d'entrainement. Nous allons créer un réseau de neurones classique qui va pouvoir classer les différentes fleurs Iris. "
      ]
    },
    {
      "cell_type": "markdown",
      "metadata": {
        "id": "dV7NQ9TLpOWg",
        "colab_type": "text"
      },
      "source": [
        "* Importez les librairies suivantes : \n",
        "    * os \n",
        "    * matplotlib.pyplot \n",
        "    * tensorflow 2.0"
      ]
    },
    {
      "cell_type": "code",
      "metadata": {
        "id": "7iXOKac8o6Vq",
        "colab_type": "code",
        "outputId": "6cf5a2c4-99e5-4e32-909b-12f764c38e03",
        "colab": {
          "base_uri": "https://localhost:8080/",
          "height": 383
        }
      },
      "source": [
        "!pip install tensorflow-gpu==2.0.0beta1\n",
        "import tensorflow as tf \n",
        "import matplotlib.pyplot as plt \n",
        "import os "
      ],
      "execution_count": 0,
      "outputs": [
        {
          "output_type": "stream",
          "text": [
            "Requirement already satisfied: tensorflow-gpu==2.0.0beta1 in /usr/local/lib/python3.6/dist-packages (2.0.0b1)\n",
            "Requirement already satisfied: tb-nightly<1.14.0a20190604,>=1.14.0a20190603 in /usr/local/lib/python3.6/dist-packages (from tensorflow-gpu==2.0.0beta1) (1.14.0a20190603)\n",
            "Requirement already satisfied: keras-applications>=1.0.6 in /usr/local/lib/python3.6/dist-packages (from tensorflow-gpu==2.0.0beta1) (1.0.8)\n",
            "Requirement already satisfied: google-pasta>=0.1.6 in /usr/local/lib/python3.6/dist-packages (from tensorflow-gpu==2.0.0beta1) (0.1.7)\n",
            "Requirement already satisfied: wrapt>=1.11.1 in /usr/local/lib/python3.6/dist-packages (from tensorflow-gpu==2.0.0beta1) (1.11.2)\n",
            "Requirement already satisfied: protobuf>=3.6.1 in /usr/local/lib/python3.6/dist-packages (from tensorflow-gpu==2.0.0beta1) (3.10.0)\n",
            "Requirement already satisfied: gast>=0.2.0 in /usr/local/lib/python3.6/dist-packages (from tensorflow-gpu==2.0.0beta1) (0.2.2)\n",
            "Requirement already satisfied: absl-py>=0.7.0 in /usr/local/lib/python3.6/dist-packages (from tensorflow-gpu==2.0.0beta1) (0.8.1)\n",
            "Requirement already satisfied: numpy<2.0,>=1.14.5 in /usr/local/lib/python3.6/dist-packages (from tensorflow-gpu==2.0.0beta1) (1.16.5)\n",
            "Requirement already satisfied: wheel>=0.26 in /usr/local/lib/python3.6/dist-packages (from tensorflow-gpu==2.0.0beta1) (0.33.6)\n",
            "Requirement already satisfied: termcolor>=1.1.0 in /usr/local/lib/python3.6/dist-packages (from tensorflow-gpu==2.0.0beta1) (1.1.0)\n",
            "Requirement already satisfied: astor>=0.6.0 in /usr/local/lib/python3.6/dist-packages (from tensorflow-gpu==2.0.0beta1) (0.8.0)\n",
            "Requirement already satisfied: keras-preprocessing>=1.0.5 in /usr/local/lib/python3.6/dist-packages (from tensorflow-gpu==2.0.0beta1) (1.1.0)\n",
            "Requirement already satisfied: six>=1.10.0 in /usr/local/lib/python3.6/dist-packages (from tensorflow-gpu==2.0.0beta1) (1.12.0)\n",
            "Requirement already satisfied: tf-estimator-nightly<1.14.0.dev2019060502,>=1.14.0.dev2019060501 in /usr/local/lib/python3.6/dist-packages (from tensorflow-gpu==2.0.0beta1) (1.14.0.dev2019060501)\n",
            "Requirement already satisfied: grpcio>=1.8.6 in /usr/local/lib/python3.6/dist-packages (from tensorflow-gpu==2.0.0beta1) (1.15.0)\n",
            "Requirement already satisfied: setuptools>=41.0.0 in /usr/local/lib/python3.6/dist-packages (from tb-nightly<1.14.0a20190604,>=1.14.0a20190603->tensorflow-gpu==2.0.0beta1) (41.4.0)\n",
            "Requirement already satisfied: markdown>=2.6.8 in /usr/local/lib/python3.6/dist-packages (from tb-nightly<1.14.0a20190604,>=1.14.0a20190603->tensorflow-gpu==2.0.0beta1) (3.1.1)\n",
            "Requirement already satisfied: werkzeug>=0.11.15 in /usr/local/lib/python3.6/dist-packages (from tb-nightly<1.14.0a20190604,>=1.14.0a20190603->tensorflow-gpu==2.0.0beta1) (0.16.0)\n",
            "Requirement already satisfied: h5py in /usr/local/lib/python3.6/dist-packages (from keras-applications>=1.0.6->tensorflow-gpu==2.0.0beta1) (2.8.0)\n"
          ],
          "name": "stdout"
        }
      ]
    },
    {
      "cell_type": "markdown",
      "metadata": {
        "id": "wFNPAR51p2ti",
        "colab_type": "text"
      },
      "source": [
        "* Nous allons importer Iris depuis le dataset public que Google Cloud. Utilisez la fonction [`tf.keras.utils.get_file`](https://www.tensorflow.org/api_docs/python/tf/keras/utils/get_file) pour télécharger le dataset iris. \n",
        "\n",
        "Voici l'url du dataset de train : \n",
        "\n",
        "`https://storage.googleapis.com/download.tensorflow.org/data/iris_training.csv`"
      ]
    },
    {
      "cell_type": "code",
      "metadata": {
        "id": "foDYYx06pmID",
        "colab_type": "code",
        "outputId": "8606b7ab-0a25-4377-aabc-74e12505405c",
        "colab": {
          "base_uri": "https://localhost:8080/",
          "height": 34
        }
      },
      "source": [
        "train_set_url = \"https://storage.googleapis.com/download.tensorflow.org/data/iris_training.csv\"\n",
        "\n",
        "tf.keras.utils.get_file(\"iris.csv\", \n",
        "                        train_set_url, \n",
        "                        cache_subdir=\"/content\"\n",
        "                        )\n",
        "\n"
      ],
      "execution_count": 0,
      "outputs": [
        {
          "output_type": "execute_result",
          "data": {
            "text/plain": [
              "'/content/iris.csv'"
            ]
          },
          "metadata": {
            "tags": []
          },
          "execution_count": 57
        }
      ]
    },
    {
      "cell_type": "markdown",
      "metadata": {
        "id": "pPMX4vILrFTT",
        "colab_type": "text"
      },
      "source": [
        "* En utilisant `pandas` regardez la tête de votre dataset `iris.csv`"
      ]
    },
    {
      "cell_type": "code",
      "metadata": {
        "id": "4bFkiapfqlRk",
        "colab_type": "code",
        "outputId": "7293d1a9-68fe-4742-9d53-64ee8f5304a3",
        "colab": {
          "base_uri": "https://localhost:8080/",
          "height": 202
        }
      },
      "source": [
        "import pandas as pd \n",
        "\n",
        "df = pd.read_csv(\"iris.csv\")\n",
        "df.head()"
      ],
      "execution_count": 0,
      "outputs": [
        {
          "output_type": "execute_result",
          "data": {
            "text/html": [
              "<div>\n",
              "<style scoped>\n",
              "    .dataframe tbody tr th:only-of-type {\n",
              "        vertical-align: middle;\n",
              "    }\n",
              "\n",
              "    .dataframe tbody tr th {\n",
              "        vertical-align: top;\n",
              "    }\n",
              "\n",
              "    .dataframe thead th {\n",
              "        text-align: right;\n",
              "    }\n",
              "</style>\n",
              "<table border=\"1\" class=\"dataframe\">\n",
              "  <thead>\n",
              "    <tr style=\"text-align: right;\">\n",
              "      <th></th>\n",
              "      <th>120</th>\n",
              "      <th>4</th>\n",
              "      <th>setosa</th>\n",
              "      <th>versicolor</th>\n",
              "      <th>virginica</th>\n",
              "    </tr>\n",
              "  </thead>\n",
              "  <tbody>\n",
              "    <tr>\n",
              "      <th>0</th>\n",
              "      <td>6.4</td>\n",
              "      <td>2.8</td>\n",
              "      <td>5.6</td>\n",
              "      <td>2.2</td>\n",
              "      <td>2</td>\n",
              "    </tr>\n",
              "    <tr>\n",
              "      <th>1</th>\n",
              "      <td>5.0</td>\n",
              "      <td>2.3</td>\n",
              "      <td>3.3</td>\n",
              "      <td>1.0</td>\n",
              "      <td>1</td>\n",
              "    </tr>\n",
              "    <tr>\n",
              "      <th>2</th>\n",
              "      <td>4.9</td>\n",
              "      <td>2.5</td>\n",
              "      <td>4.5</td>\n",
              "      <td>1.7</td>\n",
              "      <td>2</td>\n",
              "    </tr>\n",
              "    <tr>\n",
              "      <th>3</th>\n",
              "      <td>4.9</td>\n",
              "      <td>3.1</td>\n",
              "      <td>1.5</td>\n",
              "      <td>0.1</td>\n",
              "      <td>0</td>\n",
              "    </tr>\n",
              "    <tr>\n",
              "      <th>4</th>\n",
              "      <td>5.7</td>\n",
              "      <td>3.8</td>\n",
              "      <td>1.7</td>\n",
              "      <td>0.3</td>\n",
              "      <td>0</td>\n",
              "    </tr>\n",
              "  </tbody>\n",
              "</table>\n",
              "</div>"
            ],
            "text/plain": [
              "   120    4  setosa  versicolor  virginica\n",
              "0  6.4  2.8     5.6         2.2          2\n",
              "1  5.0  2.3     3.3         1.0          1\n",
              "2  4.9  2.5     4.5         1.7          2\n",
              "3  4.9  3.1     1.5         0.1          0\n",
              "4  5.7  3.8     1.7         0.3          0"
            ]
          },
          "metadata": {
            "tags": []
          },
          "execution_count": 58
        }
      ]
    },
    {
      "cell_type": "markdown",
      "metadata": {
        "id": "gOTmdFcZrvuB",
        "colab_type": "text"
      },
      "source": [
        "* Le csv que nous avons téléchargé est organisé d'une manière étrange. Voici la structure : \n",
        "  * Le header nous donne la taille du dataset, le nombre de features, les différents noms de classes\n",
        "  * Les lignes qui suivent décrivent chacune des features et la variable cible \n",
        "  \n",
        "  Réorganisez le dataframe pour que vous n'ayez que les features et le classement des variables. Vous garderez le noms des features ainsi que le nom des labels dans deux listes séparées. "
      ]
    },
    {
      "cell_type": "code",
      "metadata": {
        "id": "OqF7fxzXrnAB",
        "colab_type": "code",
        "outputId": "461e4b07-9031-4458-f2f4-39880fae361f",
        "colab": {
          "base_uri": "https://localhost:8080/",
          "height": 202
        }
      },
      "source": [
        "df.columns = ['sepal_length',\n",
        "              'sepal_width', \n",
        "              'petal_length', \n",
        "              'petal_width', \n",
        "              'species']\n",
        "\n",
        "df.head()"
      ],
      "execution_count": 0,
      "outputs": [
        {
          "output_type": "execute_result",
          "data": {
            "text/html": [
              "<div>\n",
              "<style scoped>\n",
              "    .dataframe tbody tr th:only-of-type {\n",
              "        vertical-align: middle;\n",
              "    }\n",
              "\n",
              "    .dataframe tbody tr th {\n",
              "        vertical-align: top;\n",
              "    }\n",
              "\n",
              "    .dataframe thead th {\n",
              "        text-align: right;\n",
              "    }\n",
              "</style>\n",
              "<table border=\"1\" class=\"dataframe\">\n",
              "  <thead>\n",
              "    <tr style=\"text-align: right;\">\n",
              "      <th></th>\n",
              "      <th>sepal_length</th>\n",
              "      <th>sepal_width</th>\n",
              "      <th>petal_length</th>\n",
              "      <th>petal_width</th>\n",
              "      <th>species</th>\n",
              "    </tr>\n",
              "  </thead>\n",
              "  <tbody>\n",
              "    <tr>\n",
              "      <th>0</th>\n",
              "      <td>6.4</td>\n",
              "      <td>2.8</td>\n",
              "      <td>5.6</td>\n",
              "      <td>2.2</td>\n",
              "      <td>2</td>\n",
              "    </tr>\n",
              "    <tr>\n",
              "      <th>1</th>\n",
              "      <td>5.0</td>\n",
              "      <td>2.3</td>\n",
              "      <td>3.3</td>\n",
              "      <td>1.0</td>\n",
              "      <td>1</td>\n",
              "    </tr>\n",
              "    <tr>\n",
              "      <th>2</th>\n",
              "      <td>4.9</td>\n",
              "      <td>2.5</td>\n",
              "      <td>4.5</td>\n",
              "      <td>1.7</td>\n",
              "      <td>2</td>\n",
              "    </tr>\n",
              "    <tr>\n",
              "      <th>3</th>\n",
              "      <td>4.9</td>\n",
              "      <td>3.1</td>\n",
              "      <td>1.5</td>\n",
              "      <td>0.1</td>\n",
              "      <td>0</td>\n",
              "    </tr>\n",
              "    <tr>\n",
              "      <th>4</th>\n",
              "      <td>5.7</td>\n",
              "      <td>3.8</td>\n",
              "      <td>1.7</td>\n",
              "      <td>0.3</td>\n",
              "      <td>0</td>\n",
              "    </tr>\n",
              "  </tbody>\n",
              "</table>\n",
              "</div>"
            ],
            "text/plain": [
              "   sepal_length  sepal_width  petal_length  petal_width  species\n",
              "0           6.4          2.8           5.6          2.2        2\n",
              "1           5.0          2.3           3.3          1.0        1\n",
              "2           4.9          2.5           4.5          1.7        2\n",
              "3           4.9          3.1           1.5          0.1        0\n",
              "4           5.7          3.8           1.7          0.3        0"
            ]
          },
          "metadata": {
            "tags": []
          },
          "execution_count": 59
        }
      ]
    },
    {
      "cell_type": "code",
      "metadata": {
        "id": "R5-YGjfbss2g",
        "colab_type": "code",
        "outputId": "a9002066-c53c-471b-bb7d-ba33cc630880",
        "colab": {
          "base_uri": "https://localhost:8080/",
          "height": 34
        }
      },
      "source": [
        "class_names = ['Iris setosa', 'Iris versicolor', 'Iris virginica']\n",
        "print(\"Target : {}\".format(class_names))"
      ],
      "execution_count": 0,
      "outputs": [
        {
          "output_type": "stream",
          "text": [
            "Target : ['Iris setosa', 'Iris versicolor', 'Iris virginica']\n"
          ],
          "name": "stdout"
        }
      ]
    },
    {
      "cell_type": "markdown",
      "metadata": {
        "id": "sSEfq0iItIgE",
        "colab_type": "text"
      },
      "source": [
        "* Nous avons besoin maintenant de mettre notre dataset dans un `tf.data.Dataset`. Pour cela nous avons besoin de : \n",
        "  * Séparez notre dataset en X et y \n",
        "  * Insérez ceci dans un tf.data.Dataset.from_tensor_slices()\n",
        "  \n",
        "Attention pour insérer un DataFrame dans un tf.data.Dataset, vous pouvez insérer techniquement que des objets Numpy. Vous devrez donc utiliser `X.values`, `y.values`"
      ]
    },
    {
      "cell_type": "code",
      "metadata": {
        "id": "DmkqW_bptCJL",
        "colab_type": "code",
        "outputId": "a75845aa-2fe7-45e3-8734-55dcee1f4d49",
        "colab": {
          "base_uri": "https://localhost:8080/",
          "height": 34
        }
      },
      "source": [
        "X = df.iloc[:, :-1]\n",
        "y = df.iloc[:, -1]\n",
        "\n",
        "dataset = tf.data.Dataset.from_tensor_slices((X.values, y.values))\n",
        "dataset"
      ],
      "execution_count": 0,
      "outputs": [
        {
          "output_type": "execute_result",
          "data": {
            "text/plain": [
              "<TensorSliceDataset shapes: ((4,), ()), types: (tf.float64, tf.int64)>"
            ]
          },
          "metadata": {
            "tags": []
          },
          "execution_count": 61
        }
      ]
    },
    {
      "cell_type": "markdown",
      "metadata": {
        "id": "tJcbFD4suncQ",
        "colab_type": "text"
      },
      "source": [
        "* Nous avons besoin de mélanger notre dataset et de définir un batch_size. \n",
        "  * Ajoutez un `shuffle` à votre dataset \n",
        "  * Ajoutez un batch_size de 16 à votre dataset "
      ]
    },
    {
      "cell_type": "code",
      "metadata": {
        "id": "wHyYZaW8ukMa",
        "colab_type": "code",
        "colab": {}
      },
      "source": [
        "dataset = dataset.shuffle(len(df))\n",
        "dataset = dataset.batch(16)"
      ],
      "execution_count": 0,
      "outputs": []
    },
    {
      "cell_type": "markdown",
      "metadata": {
        "id": "YYHFW-scvFKt",
        "colab_type": "text"
      },
      "source": [
        "* Vérifiez que tout s'est bien passé en regardant un batch de votre dataset "
      ]
    },
    {
      "cell_type": "code",
      "metadata": {
        "id": "SqGtSBq3vEnU",
        "colab_type": "code",
        "outputId": "1d817d0e-890c-4d30-a028-c5011cffa3b1",
        "colab": {
          "base_uri": "https://localhost:8080/",
          "height": 331
        }
      },
      "source": [
        "features, labels = next(iter(dataset))\n",
        "print(features, labels)"
      ],
      "execution_count": 0,
      "outputs": [
        {
          "output_type": "stream",
          "text": [
            "tf.Tensor(\n",
            "[[5.4 3.9 1.7 0.4]\n",
            " [5.  2.  3.5 1. ]\n",
            " [4.6 3.1 1.5 0.2]\n",
            " [6.5 3.  5.2 2. ]\n",
            " [4.4 2.9 1.4 0.2]\n",
            " [5.2 3.4 1.4 0.2]\n",
            " [5.  3.5 1.6 0.6]\n",
            " [7.4 2.8 6.1 1.9]\n",
            " [5.4 3.  4.5 1.5]\n",
            " [4.7 3.2 1.3 0.2]\n",
            " [6.5 2.8 4.6 1.5]\n",
            " [4.6 3.4 1.4 0.3]\n",
            " [5.1 3.8 1.6 0.2]\n",
            " [6.  3.  4.8 1.8]\n",
            " [5.1 3.8 1.9 0.4]\n",
            " [7.6 3.  6.6 2.1]], shape=(16, 4), dtype=float64) tf.Tensor([0 1 0 2 0 0 0 2 1 0 1 0 0 2 0 2], shape=(16,), dtype=int64)\n"
          ],
          "name": "stdout"
        }
      ]
    },
    {
      "cell_type": "markdown",
      "metadata": {
        "id": "MYyN23n7vp_r",
        "colab_type": "text"
      },
      "source": [
        "* Nous sommes tout bon pour notre dataset, nous allons donc créer un modèle simple de réseau de neurones. En utilisant Keras, définissez le modèle suivant : \n",
        "  * Une première couche qui prend 4 éléments en input et sort 10 output avec Relu comme fonction d'activation\n",
        "  * Une couche cachée qui output 10 neurones avec Relu comme fonction d'activation \n",
        "  * Une dernière couche qui sort 3 outputs et qui utilise softmax comme fonction d'activation "
      ]
    },
    {
      "cell_type": "code",
      "metadata": {
        "id": "qFrpB-31vLCk",
        "colab_type": "code",
        "colab": {}
      },
      "source": [
        "model = tf.keras.Sequential([\n",
        "    tf.keras.layers.Dense(units=10, input_shape=(4,), activation=tf.nn.relu),\n",
        "    tf.keras.layers.Dense(units=10, activation=tf.nn.relu),\n",
        "    tf.keras.layers.Dense(units=3, activation=tf.nn.softmax)\n",
        "])"
      ],
      "execution_count": 0,
      "outputs": []
    },
    {
      "cell_type": "markdown",
      "metadata": {
        "id": "ONEiOxO9xasS",
        "colab_type": "text"
      },
      "source": [
        "* En utilisant [`tf.argmax()`](https://www.tensorflow.org/api_docs/python/tf/math/argmax). Sortez les premières prédictions de votre modèle. \n",
        "\n",
        "Attention cependant, celles-ci seront complètement aléatoire puisque nous avons pas commencé de phase d'entrainement. "
      ]
    },
    {
      "cell_type": "code",
      "metadata": {
        "id": "gQ2lAFJmw4pO",
        "colab_type": "code",
        "outputId": "3c49bda0-bfbc-4278-e08b-8c6ac3dc9308",
        "colab": {
          "base_uri": "https://localhost:8080/",
          "height": 54
        }
      },
      "source": [
        "y_pred = tf.argmax(model(features), axis=1)\n",
        "y_pred"
      ],
      "execution_count": 0,
      "outputs": [
        {
          "output_type": "execute_result",
          "data": {
            "text/plain": [
              "<tf.Tensor: id=342166, shape=(16,), dtype=int64, numpy=array([2, 2, 2, 2, 2, 2, 2, 2, 2, 2, 2, 2, 2, 2, 2, 2])>"
            ]
          },
          "metadata": {
            "tags": []
          },
          "execution_count": 64
        }
      ]
    },
    {
      "cell_type": "markdown",
      "metadata": {
        "id": "V-TjKfUsx4j4",
        "colab_type": "text"
      },
      "source": [
        "* Nous allons devoir définir une fonction de coût. Choisissez une fonction de coût que vous stockerez dans une variable : `loss`\n"
      ]
    },
    {
      "cell_type": "code",
      "metadata": {
        "id": "Kqvq4kqtxFpM",
        "colab_type": "code",
        "colab": {}
      },
      "source": [
        "loss_object = tf.keras.losses.SparseCategoricalCrossentropy()"
      ],
      "execution_count": 0,
      "outputs": []
    },
    {
      "cell_type": "markdown",
      "metadata": {
        "id": "nXkMWVVt0auE",
        "colab_type": "text"
      },
      "source": [
        "* Testez votre `loss` en mettant en argument un batch de données ainsi qu'un output du modèle sur ce même batch "
      ]
    },
    {
      "cell_type": "code",
      "metadata": {
        "id": "VrAdPajVyHXm",
        "colab_type": "code",
        "outputId": "9b067bc7-cba5-4bf7-a143-1cbe1d6a78b2",
        "colab": {
          "base_uri": "https://localhost:8080/",
          "height": 34
        }
      },
      "source": [
        "loss_object(labels, model(features))"
      ],
      "execution_count": 0,
      "outputs": [
        {
          "output_type": "execute_result",
          "data": {
            "text/plain": [
              "<tf.Tensor: id=342212, shape=(), dtype=float32, numpy=1.6899251>"
            ]
          },
          "metadata": {
            "tags": []
          },
          "execution_count": 68
        }
      ]
    },
    {
      "cell_type": "markdown",
      "metadata": {
        "id": "WxghWlMr0lVl",
        "colab_type": "text"
      },
      "source": [
        "* Il nous reste deux choses à faire avant d'entrainer notre modèle : \n",
        "  1. Mettre en place une fonction qui va garder en mémoire les gradients \n",
        "  2. Mettre en place un optimizer qui va compiler les gradients pour descendre vers un minimum \n",
        "  \n",
        "  \n",
        "Créez une fonction qui prendra trois arguments : `model, inputs, targets`. Cette fonction enregistrera les gradients de votre fonction de coût et retournera deux valeurs : `loss_value, gradients`\n",
        "\n",
        "Pour plus d'informations, regardez cette page [Gradient Tape](https://www.tensorflow.org/api_docs/python/tf/GradientTape)"
      ]
    },
    {
      "cell_type": "code",
      "metadata": {
        "id": "ybYGqApZyeTZ",
        "colab_type": "code",
        "colab": {}
      },
      "source": [
        "def grad(model, inputs, targets):\n",
        "  with tf.GradientTape() as t:\n",
        "    loss_value = loss_object(targets, model(inputs))\n",
        "    \n",
        "  return loss_value, t.gradient(loss_value, model.trainable_weights)"
      ],
      "execution_count": 0,
      "outputs": []
    },
    {
      "cell_type": "markdown",
      "metadata": {
        "id": "AAbxlqRU3qJT",
        "colab_type": "text"
      },
      "source": [
        "* Créons maintenant un `optimizer`. On utilisera Adam avec un learning rate de `0.01`"
      ]
    },
    {
      "cell_type": "code",
      "metadata": {
        "id": "fr3zBUds3oAz",
        "colab_type": "code",
        "colab": {}
      },
      "source": [
        "optimizer = tf.keras.optimizers.Adam(learning_rate = 0.01)"
      ],
      "execution_count": 0,
      "outputs": []
    },
    {
      "cell_type": "markdown",
      "metadata": {
        "id": "zuc0uLhn7hv8",
        "colab_type": "text"
      },
      "source": [
        "* Appliquez votre fonction `grad` sur un batch de données avec le modèle que vous venez de définir. Stockez vos outputs dans deux variables : `loss_value, grads`"
      ]
    },
    {
      "cell_type": "code",
      "metadata": {
        "id": "7iTYPmMd32Qf",
        "colab_type": "code",
        "colab": {}
      },
      "source": [
        "loss_value, grads = grad(model, features, labels)"
      ],
      "execution_count": 0,
      "outputs": []
    },
    {
      "cell_type": "markdown",
      "metadata": {
        "id": "r9ri2v8e7rNZ",
        "colab_type": "text"
      },
      "source": [
        "* Regardez les outputs pour être sur que tout s'est bien passé "
      ]
    },
    {
      "cell_type": "code",
      "metadata": {
        "id": "REFGSaQK35O6",
        "colab_type": "code",
        "outputId": "b253f965-954e-4a52-cbf3-ac8739874939",
        "colab": {
          "base_uri": "https://localhost:8080/",
          "height": 34
        }
      },
      "source": [
        "print(loss_value)"
      ],
      "execution_count": 0,
      "outputs": [
        {
          "output_type": "stream",
          "text": [
            "tf.Tensor(1.6899251, shape=(), dtype=float32)\n"
          ],
          "name": "stdout"
        }
      ]
    },
    {
      "cell_type": "code",
      "metadata": {
        "id": "SF4MYPJy4VUE",
        "colab_type": "code",
        "outputId": "7f5efa82-283c-481d-e0bb-b972a85ce6fa",
        "colab": {
          "base_uri": "https://localhost:8080/",
          "height": 1000
        }
      },
      "source": [
        "print(grads)"
      ],
      "execution_count": 0,
      "outputs": [
        {
          "output_type": "stream",
          "text": [
            "[<tf.Tensor: id=342309, shape=(4, 10), dtype=float32, numpy=\n",
            "array([[ 0.0000000e+00,  0.0000000e+00,  1.0753063e+00,  0.0000000e+00,\n",
            "         0.0000000e+00, -4.4785115e-01,  9.5678739e-02,  0.0000000e+00,\n",
            "         0.0000000e+00, -2.5431864e-02],\n",
            "       [ 0.0000000e+00,  0.0000000e+00,  7.7735478e-01,  0.0000000e+00,\n",
            "         0.0000000e+00, -3.1481877e-01,  8.8605568e-02,  0.0000000e+00,\n",
            "         0.0000000e+00, -1.6628528e-02],\n",
            "       [ 0.0000000e+00,  0.0000000e+00,  3.0419722e-01,  0.0000000e+00,\n",
            "         0.0000000e+00, -1.4008799e-01, -2.2516211e-02,  0.0000000e+00,\n",
            "         0.0000000e+00, -6.8470403e-03],\n",
            "       [ 0.0000000e+00,  0.0000000e+00,  5.4557890e-02,  0.0000000e+00,\n",
            "         0.0000000e+00, -2.7576191e-02, -2.1113236e-02,  0.0000000e+00,\n",
            "         0.0000000e+00, -9.7814866e-04]], dtype=float32)>, <tf.Tensor: id=342308, shape=(10,), dtype=float32, numpy=\n",
            "array([ 0.        ,  0.        ,  0.21679531,  0.        ,  0.        ,\n",
            "       -0.09130178,  0.03481667,  0.        ,  0.        , -0.00489074],\n",
            "      dtype=float32)>, <tf.Tensor: id=342306, shape=(10, 10), dtype=float32, numpy=\n",
            "array([[ 0.00000000e+00,  0.00000000e+00,  0.00000000e+00,\n",
            "         0.00000000e+00,  0.00000000e+00,  0.00000000e+00,\n",
            "         0.00000000e+00,  0.00000000e+00,  0.00000000e+00,\n",
            "         0.00000000e+00],\n",
            "       [ 0.00000000e+00,  0.00000000e+00,  0.00000000e+00,\n",
            "         0.00000000e+00,  0.00000000e+00,  0.00000000e+00,\n",
            "         0.00000000e+00,  0.00000000e+00,  0.00000000e+00,\n",
            "         0.00000000e+00],\n",
            "       [ 0.00000000e+00,  7.94583201e-01,  0.00000000e+00,\n",
            "         5.75787783e-01, -2.95417637e-01,  0.00000000e+00,\n",
            "         6.43726408e-01,  0.00000000e+00,  0.00000000e+00,\n",
            "         0.00000000e+00],\n",
            "       [ 0.00000000e+00,  0.00000000e+00,  0.00000000e+00,\n",
            "         0.00000000e+00,  0.00000000e+00,  0.00000000e+00,\n",
            "         0.00000000e+00,  0.00000000e+00,  0.00000000e+00,\n",
            "         0.00000000e+00],\n",
            "       [ 0.00000000e+00,  0.00000000e+00,  0.00000000e+00,\n",
            "         0.00000000e+00,  0.00000000e+00,  0.00000000e+00,\n",
            "         0.00000000e+00,  0.00000000e+00,  0.00000000e+00,\n",
            "         0.00000000e+00],\n",
            "       [ 0.00000000e+00,  1.36455670e-01,  0.00000000e+00,\n",
            "         9.75403786e-02, -5.00415638e-02,  0.00000000e+00,\n",
            "         1.09195136e-01,  0.00000000e+00,  0.00000000e+00,\n",
            "         0.00000000e+00],\n",
            "       [ 0.00000000e+00,  5.62136173e-01,  0.00000000e+00,\n",
            "         4.03512865e-01, -2.07020029e-01,  0.00000000e+00,\n",
            "         4.51541007e-01,  0.00000000e+00,  0.00000000e+00,\n",
            "         0.00000000e+00],\n",
            "       [ 0.00000000e+00,  0.00000000e+00,  0.00000000e+00,\n",
            "         0.00000000e+00,  0.00000000e+00,  0.00000000e+00,\n",
            "         0.00000000e+00,  0.00000000e+00,  0.00000000e+00,\n",
            "         0.00000000e+00],\n",
            "       [ 0.00000000e+00,  0.00000000e+00,  0.00000000e+00,\n",
            "         0.00000000e+00,  0.00000000e+00,  0.00000000e+00,\n",
            "         0.00000000e+00,  0.00000000e+00,  0.00000000e+00,\n",
            "         0.00000000e+00],\n",
            "       [ 0.00000000e+00,  5.99331339e-04,  0.00000000e+00,\n",
            "         4.54283727e-04, -2.33125305e-04,  0.00000000e+00,\n",
            "         5.05714328e-04,  0.00000000e+00,  0.00000000e+00,\n",
            "         0.00000000e+00]], dtype=float32)>, <tf.Tensor: id=342304, shape=(10,), dtype=float32, numpy=\n",
            "array([ 0.        ,  0.2138898 ,  0.        ,  0.1708092 , -0.08767405,\n",
            "        0.        ,  0.18924482,  0.        ,  0.        ,  0.        ],\n",
            "      dtype=float32)>, <tf.Tensor: id=342302, shape=(10, 3), dtype=float32, numpy=\n",
            "array([[ 0.        ,  0.        ,  0.        ],\n",
            "       [-0.23523864,  0.09363423,  0.14160442],\n",
            "       [ 0.        ,  0.        ,  0.        ],\n",
            "       [-1.0829471 ,  0.43887872,  0.6440684 ],\n",
            "       [-0.5168505 ,  0.20878108,  0.3080694 ],\n",
            "       [ 0.        ,  0.        ,  0.        ],\n",
            "       [-0.94627744,  0.38299537,  0.56328213],\n",
            "       [ 0.        ,  0.        ,  0.        ],\n",
            "       [ 0.        ,  0.        ,  0.        ],\n",
            "       [ 0.        ,  0.        ,  0.        ]], dtype=float32)>, <tf.Tensor: id=342300, shape=(3,), dtype=float32, numpy=array([-0.47158566,  0.17668557,  0.2949001 ], dtype=float32)>]\n"
          ],
          "name": "stdout"
        }
      ]
    },
    {
      "cell_type": "markdown",
      "metadata": {
        "id": "v9nHravc8uRb",
        "colab_type": "text"
      },
      "source": [
        "* Nous allons regarder une première itération des gradients avec une loss initiale. En utilisant [`optimizer.iterations`](https://www.tensorflow.org/api_docs/python/tf/keras/optimizers/Adam) et `loss_value` imprimez la value de votre loss à la première itération "
      ]
    },
    {
      "cell_type": "code",
      "metadata": {
        "id": "RDxzRMq65Cr5",
        "colab_type": "code",
        "outputId": "d6f40560-4d61-4f8b-cf7a-d4af37dd825c",
        "colab": {
          "base_uri": "https://localhost:8080/",
          "height": 34
        }
      },
      "source": [
        "print(\"Step: {}, Initial Loss: {}\".format(optimizer.iterations.numpy(),\n",
        "                                          loss_value.numpy()))"
      ],
      "execution_count": 0,
      "outputs": [
        {
          "output_type": "stream",
          "text": [
            "Step: 0, Initial Loss: 1.6899250745773315\n"
          ],
          "name": "stdout"
        }
      ]
    },
    {
      "cell_type": "markdown",
      "metadata": {
        "id": "e2OjtnTF9XsE",
        "colab_type": "text"
      },
      "source": [
        "* Nous avons notre première itération 0, où nous avons pas appliqué notre optimizer. Utilisons le maintenant pour notre seconde itération. Pour cela, utilisez : \n",
        "\n",
        "[`optimizer.apply_gradients(zip(gradients, weights))`](https://www.tensorflow.org/api_docs/python/tf/keras/optimizers/Adam#apply_gradients)"
      ]
    },
    {
      "cell_type": "code",
      "metadata": {
        "id": "67KqS5F97WBh",
        "colab_type": "code",
        "outputId": "ca96cce3-aeef-494d-d4ee-47ca5ab3963f",
        "colab": {
          "base_uri": "https://localhost:8080/",
          "height": 34
        }
      },
      "source": [
        "optimizer.apply_gradients(zip(grads, model.trainable_weights))"
      ],
      "execution_count": 0,
      "outputs": [
        {
          "output_type": "execute_result",
          "data": {
            "text/plain": [
              "<tf.Variable 'UnreadVariable' shape=() dtype=int64, numpy=1>"
            ]
          },
          "metadata": {
            "tags": []
          },
          "execution_count": 76
        }
      ]
    },
    {
      "cell_type": "markdown",
      "metadata": {
        "id": "KwrbB7kv-IwO",
        "colab_type": "text"
      },
      "source": [
        "* Faites une nouvelle prédiction avec vos variables mises à jour et calculez votre loss "
      ]
    },
    {
      "cell_type": "code",
      "metadata": {
        "id": "bFQ5DvZs-GyG",
        "colab_type": "code",
        "outputId": "27772118-5588-40e4-bd0b-8072714a803f",
        "colab": {
          "base_uri": "https://localhost:8080/",
          "height": 34
        }
      },
      "source": [
        "print(\"Step: {}, Initial Loss: {}\".format(optimizer.iterations.numpy(),\n",
        "                                          loss_object(labels, model(features)).numpy()))"
      ],
      "execution_count": 0,
      "outputs": [
        {
          "output_type": "stream",
          "text": [
            "Step: 1, Initial Loss: 1.5437960624694824\n"
          ],
          "name": "stdout"
        }
      ]
    },
    {
      "cell_type": "markdown",
      "metadata": {
        "id": "RIcp0cGI_mUt",
        "colab_type": "text"
      },
      "source": [
        "* Nous avons tout ce qu'il nous faut pour démarrer un entrainement de notre modèle sur tout le dataset. Pour ce faire vous aurez besoin : \n",
        "\n",
        "1. Définir le nombre d'epochs (RAPPEL : Une epoch est une passe sur tout le dataset)\n",
        "\n",
        "2. Créer une boucle sur le nombre d'epochs \n",
        "\n",
        "3. A l'intérieur de chaque epoch, vous devrez calculer les gradients pour chacune des étapes de votre modèle et les mettre à jour.\n",
        "\n",
        "4. Vous devrez garder quelques statistics en tête et prendre la `loss` moyenne par epoch et `SparseCategoricalAccuracy` comme metric. Voici de la documentation pour vous aider \n",
        "\n",
        "* [tf.keras.metrics.Mean()](https://www.tensorflow.org/api_docs/python/tf/keras/metrics/Mean)\n",
        "* [tf.keras.metrics.SparseCategoricalAccuracy](https://www.tensorflow.org/api_docs/python/tf/keras/metrics/SparseCategoricalAccuracy)\n"
      ]
    },
    {
      "cell_type": "code",
      "metadata": {
        "id": "q-5P4XHs-LSQ",
        "colab_type": "code",
        "outputId": "5369b832-ff3f-4cb1-edd6-b89e6ba73943",
        "colab": {
          "base_uri": "https://localhost:8080/",
          "height": 103
        }
      },
      "source": [
        "# Train_loss_results & train_accuracy_results vont nous permettre\n",
        "# de garder des résultats pour des graphiques \n",
        "\n",
        "train_loss_results = []\n",
        "train_accuracy_results = []\n",
        "\n",
        "num_epochs = 201\n",
        "\n",
        "for epoch in range(num_epochs):\n",
        "  epoch_loss_avg = tf.keras.metrics.Mean()\n",
        "  epoch_accuracy = tf.keras.metrics.SparseCategoricalAccuracy()\n",
        "\n",
        "  # Training loop - using batches of 16\n",
        "  for x, y in dataset:\n",
        "    # Optimize the model\n",
        "    loss_value, grads = grad(model, x, y)\n",
        "    optimizer.apply_gradients(zip(grads, model.trainable_variables))\n",
        "\n",
        "    # Track progress\n",
        "    epoch_loss_avg(loss_value)  # add current batch loss\n",
        "    # compare predicted label to actual label\n",
        "    epoch_accuracy(y, model(x))\n",
        "\n",
        "  # end epoch\n",
        "  train_loss_results.append(epoch_loss_avg.result())\n",
        "  train_accuracy_results.append(epoch_accuracy.result())\n",
        "\n",
        "  if epoch % 50 == 0:\n",
        "    print(\"Epoch {:03d}: Loss: {:.3f}, Accuracy: {:.3%}\".format(epoch,\n",
        "                                                                epoch_loss_avg.result(),\n",
        "                                                                epoch_accuracy.result()))"
      ],
      "execution_count": 0,
      "outputs": [
        {
          "output_type": "stream",
          "text": [
            "Epoch 000: Loss: 1.131, Accuracy: 43.333%\n",
            "Epoch 050: Loss: 0.055, Accuracy: 98.333%\n",
            "Epoch 100: Loss: 0.047, Accuracy: 99.167%\n",
            "Epoch 150: Loss: 0.044, Accuracy: 98.333%\n",
            "Epoch 200: Loss: 0.041, Accuracy: 98.333%\n"
          ],
          "name": "stdout"
        }
      ]
    },
    {
      "cell_type": "markdown",
      "metadata": {
        "id": "WWhueg7EB4Am",
        "colab_type": "text"
      },
      "source": [
        "* Puisque vous avez gardé votre loss moyenne par epoch ainsi que votre accuracy, insérez les dans deux graphiques différents "
      ]
    },
    {
      "cell_type": "code",
      "metadata": {
        "id": "34jYEBeoBTRw",
        "colab_type": "code",
        "outputId": "996f9610-2886-4e0c-f37c-22d5169df5a0",
        "colab": {
          "base_uri": "https://localhost:8080/",
          "height": 578
        }
      },
      "source": [
        "fig, axes = plt.subplots(2, sharex=True, figsize=(12, 8))\n",
        "fig.suptitle('Training Metrics')\n",
        "\n",
        "axes[0].set_ylabel(\"Loss\", fontsize=14)\n",
        "axes[0].plot(train_loss_results)\n",
        "\n",
        "axes[1].set_ylabel(\"Accuracy\", fontsize=14)\n",
        "axes[1].set_xlabel(\"Epoch\", fontsize=14)\n",
        "axes[1].plot(train_accuracy_results)\n",
        "plt.show()"
      ],
      "execution_count": 0,
      "outputs": [
        {
          "output_type": "display_data",
          "data": {
            "image/png": "[encoded data removed]",
            "text/plain": [
              "<Figure size 864x576 with 2 Axes>"
            ]
          },
          "metadata": {
            "tags": []
          }
        }
      ]
    },
    {
      "cell_type": "markdown",
      "metadata": {
        "id": "375H67GiPV3k",
        "colab_type": "text"
      },
      "source": [
        "* Evaluons maintenant notre modèle. Pour cela, nous aurons besoin de télécharger le *test_set*  d'iris. Procédez de la même manière qu'au début de cet exercice pour insérer le csv dans un `tf.data.Dataset`"
      ]
    },
    {
      "cell_type": "code",
      "metadata": {
        "id": "54OQ7tv6CGdz",
        "colab_type": "code",
        "outputId": "a0486fb8-10c4-4934-f339-af8fd9da0e22",
        "colab": {
          "base_uri": "https://localhost:8080/",
          "height": 34
        }
      },
      "source": [
        "test_set_url = \"https://storage.googleapis.com/download.tensorflow.org/data/iris_test.csv\"\n",
        "\n",
        "tf.keras.utils.get_file(\"iris_test.csv\", \n",
        "                        test_set_url, \n",
        "                        cache_subdir=\"/content\"\n",
        "                        )"
      ],
      "execution_count": 0,
      "outputs": [
        {
          "output_type": "execute_result",
          "data": {
            "text/plain": [
              "'/content/iris_test.csv'"
            ]
          },
          "metadata": {
            "tags": []
          },
          "execution_count": 80
        }
      ]
    },
    {
      "cell_type": "code",
      "metadata": {
        "id": "gYG7IqwAPtg9",
        "colab_type": "code",
        "outputId": "0b2ac934-1c08-4307-f39f-89f0d9ceaccd",
        "colab": {
          "base_uri": "https://localhost:8080/",
          "height": 202
        }
      },
      "source": [
        "df = pd.read_csv(\"iris_test.csv\")\n",
        "df.head()"
      ],
      "execution_count": 0,
      "outputs": [
        {
          "output_type": "execute_result",
          "data": {
            "text/html": [
              "<div>\n",
              "<style scoped>\n",
              "    .dataframe tbody tr th:only-of-type {\n",
              "        vertical-align: middle;\n",
              "    }\n",
              "\n",
              "    .dataframe tbody tr th {\n",
              "        vertical-align: top;\n",
              "    }\n",
              "\n",
              "    .dataframe thead th {\n",
              "        text-align: right;\n",
              "    }\n",
              "</style>\n",
              "<table border=\"1\" class=\"dataframe\">\n",
              "  <thead>\n",
              "    <tr style=\"text-align: right;\">\n",
              "      <th></th>\n",
              "      <th>30</th>\n",
              "      <th>4</th>\n",
              "      <th>setosa</th>\n",
              "      <th>versicolor</th>\n",
              "      <th>virginica</th>\n",
              "    </tr>\n",
              "  </thead>\n",
              "  <tbody>\n",
              "    <tr>\n",
              "      <th>0</th>\n",
              "      <td>5.9</td>\n",
              "      <td>3.0</td>\n",
              "      <td>4.2</td>\n",
              "      <td>1.5</td>\n",
              "      <td>1</td>\n",
              "    </tr>\n",
              "    <tr>\n",
              "      <th>1</th>\n",
              "      <td>6.9</td>\n",
              "      <td>3.1</td>\n",
              "      <td>5.4</td>\n",
              "      <td>2.1</td>\n",
              "      <td>2</td>\n",
              "    </tr>\n",
              "    <tr>\n",
              "      <th>2</th>\n",
              "      <td>5.1</td>\n",
              "      <td>3.3</td>\n",
              "      <td>1.7</td>\n",
              "      <td>0.5</td>\n",
              "      <td>0</td>\n",
              "    </tr>\n",
              "    <tr>\n",
              "      <th>3</th>\n",
              "      <td>6.0</td>\n",
              "      <td>3.4</td>\n",
              "      <td>4.5</td>\n",
              "      <td>1.6</td>\n",
              "      <td>1</td>\n",
              "    </tr>\n",
              "    <tr>\n",
              "      <th>4</th>\n",
              "      <td>5.5</td>\n",
              "      <td>2.5</td>\n",
              "      <td>4.0</td>\n",
              "      <td>1.3</td>\n",
              "      <td>1</td>\n",
              "    </tr>\n",
              "  </tbody>\n",
              "</table>\n",
              "</div>"
            ],
            "text/plain": [
              "    30    4  setosa  versicolor  virginica\n",
              "0  5.9  3.0     4.2         1.5          1\n",
              "1  6.9  3.1     5.4         2.1          2\n",
              "2  5.1  3.3     1.7         0.5          0\n",
              "3  6.0  3.4     4.5         1.6          1\n",
              "4  5.5  2.5     4.0         1.3          1"
            ]
          },
          "metadata": {
            "tags": []
          },
          "execution_count": 81
        }
      ]
    },
    {
      "cell_type": "code",
      "metadata": {
        "id": "NfJ2pz0JP2WZ",
        "colab_type": "code",
        "outputId": "e5b24ff3-5df5-4d1a-9320-958d89bf3348",
        "colab": {
          "base_uri": "https://localhost:8080/",
          "height": 34
        }
      },
      "source": [
        "X = df.iloc[:, :-1]\n",
        "y = df.iloc[:, -1]\n",
        "\n",
        "test_set = tf.data.Dataset.from_tensor_slices((X.values, y.values))\n",
        "test_set = test_set.shuffle(len(X))\n",
        "test_set = test_set.batch(16)\n",
        "test_set"
      ],
      "execution_count": 0,
      "outputs": [
        {
          "output_type": "execute_result",
          "data": {
            "text/plain": [
              "<BatchDataset shapes: ((None, 4), (None,)), types: (tf.float64, tf.int64)>"
            ]
          },
          "metadata": {
            "tags": []
          },
          "execution_count": 82
        }
      ]
    },
    {
      "cell_type": "markdown",
      "metadata": {
        "id": "2x7-V7zLQxdg",
        "colab_type": "text"
      },
      "source": [
        "* Testons maintenant notre modèle sur les données de test. Nous aurons besoin de boucler sur tout le dataset et calculer notre accuracy "
      ]
    },
    {
      "cell_type": "code",
      "metadata": {
        "id": "FlmGwmY5QU5U",
        "colab_type": "code",
        "outputId": "94e9f7fa-af07-4b46-a1c6-8184ea3f56cb",
        "colab": {
          "base_uri": "https://localhost:8080/",
          "height": 34
        }
      },
      "source": [
        "test_accuracy = tf.keras.metrics.Accuracy()\n",
        "\n",
        "for (x, y) in test_set:\n",
        "  logits = model(x)\n",
        "  prediction = tf.argmax(logits, axis=1, output_type=tf.int32)\n",
        "  test_accuracy(prediction, y)\n",
        "\n",
        "print(\"Test set accuracy: {:.3%}\".format(test_accuracy.result()))"
      ],
      "execution_count": 0,
      "outputs": [
        {
          "output_type": "stream",
          "text": [
            "Test set accuracy: 96.667%\n"
          ],
          "name": "stdout"
        }
      ]
    },
    {
      "cell_type": "code",
      "metadata": {
        "id": "eyOabcHAxM-P",
        "colab_type": "code",
        "colab": {}
      },
      "source": [
        ""
      ],
      "execution_count": 0,
      "outputs": []
    }
  ]
}