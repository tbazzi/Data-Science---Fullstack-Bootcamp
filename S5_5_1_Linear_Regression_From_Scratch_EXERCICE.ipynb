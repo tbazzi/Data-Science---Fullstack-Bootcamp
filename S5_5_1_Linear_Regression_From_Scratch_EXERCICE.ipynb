{
  "nbformat": 4,
  "nbformat_minor": 0,
  "metadata": {
    "colab": {
      "name": "S5-5_1. Linear Regression From Scratch - EXERCICE.ipynb",
      "provenance": [],
      "collapsed_sections": [],
      "include_colab_link": true
    },
    "kernelspec": {
      "name": "python3",
      "display_name": "Python 3"
    }
  },
  "cells": [
    {
      "cell_type": "markdown",
      "metadata": {
        "id": "view-in-github",
        "colab_type": "text"
      },
      "source": [
        "<a href=\"https://colab.research.google.com/github/tbazzi/Data-Science---Fullstack-Bootcamp/blob/master/S5_5_1_Linear_Regression_From_Scratch_EXERCICE.ipynb\" target=\"_parent\"><img src=\"https://colab.research.google.com/assets/colab-badge.svg\" alt=\"Open In Colab\"/></a>"
      ]
    },
    {
      "cell_type": "markdown",
      "metadata": {
        "id": "OAW27oqRGbOp",
        "colab_type": "text"
      },
      "source": [
        "# Faire une régression Linéaire sans Scikit Learn\n",
        "\n"
      ]
    },
    {
      "cell_type": "markdown",
      "metadata": {
        "id": "dYaJBHGNGk3O",
        "colab_type": "text"
      },
      "source": [
        "Rien de tel pour comprendre une descnte de gradient que de la coder entièrement. Cela peut paraitre difficile à première vue mais ne vous en faites pas, nous allons vous guider pas à pas. \n",
        "\n",
        "N'hésitez pas à revenir sur votre cours de Machine Learning sur les régressions linéaires pour vous rafraichir la mémoire. \n",
        "\n",
        "Notre but va être de coder une régression linéaire simple de type : \n",
        "\n",
        "`f(x) = a*x + b`"
      ]
    },
    {
      "cell_type": "markdown",
      "metadata": {
        "id": "dFAeKaG2GuI_",
        "colab_type": "text"
      },
      "source": [
        "* Importez les librairies suivantes : \n",
        "  * Numpy "
      ]
    },
    {
      "cell_type": "code",
      "metadata": {
        "id": "9OHkKal3F3Su",
        "colab_type": "code",
        "colab": {}
      },
      "source": [
        "import seaborn as sns\n",
        "import pandas as pd\n",
        "import numpy as np\n",
        "#import matplotlib as plt\n",
        "import matplotlib.pyplot as plt"
      ],
      "execution_count": 0,
      "outputs": []
    },
    {
      "cell_type": "markdown",
      "metadata": {
        "id": "7_za_8SvGz_j",
        "colab_type": "text"
      },
      "source": [
        "* Définissez une classe `Model` qui prendra deux méthodes : \n",
        "  1. `__init__(self)` qui va vous permettre de définir votre coefficient `a` et votre constante `b`. Ces coefficients seront initialisés de manière aléatoire grâce à Numpy (cf : `np.random.randn`)\n",
        "  2. `__call__(self, x)` qui va retourner `a*x + b`"
      ]
    },
    {
      "cell_type": "code",
      "metadata": {
        "id": "9yj54VrvGzZL",
        "colab_type": "code",
        "colab": {}
      },
      "source": [
        "class Model():\n",
        "  def __init__(self):\n",
        "    rand = np.random.randn(2)\n",
        "    self.a, self.b = rand [0], rand[1]\n",
        "  def __call__(self, x):\n",
        "    return self.a*x+self.b"
      ],
      "execution_count": 0,
      "outputs": []
    },
    {
      "cell_type": "markdown",
      "metadata": {
        "id": "Uy2AancAImU6",
        "colab_type": "text"
      },
      "source": [
        "* Créez une instance de votre modèle "
      ]
    },
    {
      "cell_type": "code",
      "metadata": {
        "id": "BD_hpDRnIhAi",
        "colab_type": "code",
        "colab": {}
      },
      "source": [
        "model = Model()\n"
      ],
      "execution_count": 0,
      "outputs": []
    },
    {
      "cell_type": "markdown",
      "metadata": {
        "id": "vkltTi5mIsUz",
        "colab_type": "text"
      },
      "source": [
        "* Tentez de faire une première \"régression\" en mettant `model(3.0)`. \n",
        "NB : Si vous n'avez pas les même valeurs que ce notebook en output, c'est normal puisque vous avez initialisé vos valeurs aléatoirement "
      ]
    },
    {
      "cell_type": "code",
      "metadata": {
        "id": "82Zyc9wBJvyA",
        "colab_type": "code",
        "colab": {
          "base_uri": "https://localhost:8080/",
          "height": 35
        },
        "outputId": "425dc192-0e96-4da3-ed5c-5f470f2f15be"
      },
      "source": [
        "model(3)"
      ],
      "execution_count": 28,
      "outputs": [
        {
          "output_type": "execute_result",
          "data": {
            "text/plain": [
              "1.3304684651591567"
            ]
          },
          "metadata": {
            "tags": []
          },
          "execution_count": 28
        }
      ]
    },
    {
      "cell_type": "code",
      "metadata": {
        "id": "K6TRkRHHIpj6",
        "colab_type": "code",
        "outputId": "360b161d-4d2d-47ed-93d8-ad592979c92a",
        "colab": {
          "base_uri": "https://localhost:8080/",
          "height": 34
        }
      },
      "source": [
        ""
      ],
      "execution_count": 0,
      "outputs": [
        {
          "output_type": "execute_result",
          "data": {
            "text/plain": [
              "array([-0.35060356])"
            ]
          },
          "metadata": {
            "tags": []
          },
          "execution_count": 208
        }
      ]
    },
    {
      "cell_type": "markdown",
      "metadata": {
        "id": "WM4sjYAMI8SU",
        "colab_type": "text"
      },
      "source": [
        "* Cette valeur correspond à une prédiction aléatoire de votre modèle. Mais nous n'avons pas de données pour le moment. Cette fois, utilisons `sklearn` pour importer des données \n",
        "  * Importez `sklearn.datasets`\n",
        "  * Utilisez la fonction `load_diabetes()` pour charger le dataset du dabiète"
      ]
    },
    {
      "cell_type": "code",
      "metadata": {
        "id": "U5QrrZBrLaCl",
        "colab_type": "code",
        "colab": {
          "base_uri": "https://localhost:8080/",
          "height": 55
        },
        "outputId": "86db6890-b044-45aa-9beb-3b74e8bb7503"
      },
      "source": [
        "from sklearn.datasets import load_diabetes\n",
        "df = load_diabetes()\n",
        "df.DESCR"
      ],
      "execution_count": 30,
      "outputs": [
        {
          "output_type": "execute_result",
          "data": {
            "text/plain": [
              "'.. _diabetes_dataset:\\n\\nDiabetes dataset\\n----------------\\n\\nTen baseline variables, age, sex, body mass index, average blood\\npressure, and six blood serum measurements were obtained for each of n =\\n442 diabetes patients, as well as the response of interest, a\\nquantitative measure of disease progression one year after baseline.\\n\\n**Data Set Characteristics:**\\n\\n  :Number of Instances: 442\\n\\n  :Number of Attributes: First 10 columns are numeric predictive values\\n\\n  :Target: Column 11 is a quantitative measure of disease progression one year after baseline\\n\\n  :Attribute Information:\\n      - Age\\n      - Sex\\n      - Body mass index\\n      - Average blood pressure\\n      - S1\\n      - S2\\n      - S3\\n      - S4\\n      - S5\\n      - S6\\n\\nNote: Each of these 10 feature variables have been mean centered and scaled by the standard deviation times `n_samples` (i.e. the sum of squares of each column totals 1).\\n\\nSource URL:\\nhttps://www4.stat.ncsu.edu/~boos/var.select/diabetes.html\\n\\nFor more information see:\\nBradley Efron, Trevor Hastie, Iain Johnstone and Robert Tibshirani (2004) \"Least Angle Regression,\" Annals of Statistics (with discussion), 407-499.\\n(https://web.stanford.edu/~hastie/Papers/LARS/LeastAngle_2002.pdf)'"
            ]
          },
          "metadata": {
            "tags": []
          },
          "execution_count": 30
        }
      ]
    },
    {
      "cell_type": "code",
      "metadata": {
        "id": "xhNwqKzxIqqH",
        "colab_type": "code",
        "outputId": "fdd59307-06ae-4997-c0a5-8987e4e9eb55",
        "colab": {
          "base_uri": "https://localhost:8080/",
          "height": 1000
        }
      },
      "source": [
        ""
      ],
      "execution_count": 0,
      "outputs": [
        {
          "output_type": "execute_result",
          "data": {
            "text/plain": [
              "{'DESCR': '.. _diabetes_dataset:\\n\\nDiabetes dataset\\n----------------\\n\\nTen baseline variables, age, sex, body mass index, average blood\\npressure, and six blood serum measurements were obtained for each of n =\\n442 diabetes patients, as well as the response of interest, a\\nquantitative measure of disease progression one year after baseline.\\n\\n**Data Set Characteristics:**\\n\\n  :Number of Instances: 442\\n\\n  :Number of Attributes: First 10 columns are numeric predictive values\\n\\n  :Target: Column 11 is a quantitative measure of disease progression one year after baseline\\n\\n  :Attribute Information:\\n      - Age\\n      - Sex\\n      - Body mass index\\n      - Average blood pressure\\n      - S1\\n      - S2\\n      - S3\\n      - S4\\n      - S5\\n      - S6\\n\\nNote: Each of these 10 feature variables have been mean centered and scaled by the standard deviation times `n_samples` (i.e. the sum of squares of each column totals 1).\\n\\nSource URL:\\nhttps://www4.stat.ncsu.edu/~boos/var.select/diabetes.html\\n\\nFor more information see:\\nBradley Efron, Trevor Hastie, Iain Johnstone and Robert Tibshirani (2004) \"Least Angle Regression,\" Annals of Statistics (with discussion), 407-499.\\n(https://web.stanford.edu/~hastie/Papers/LARS/LeastAngle_2002.pdf)',\n",
              " 'data': array([[ 0.03807591,  0.05068012,  0.06169621, ..., -0.00259226,\n",
              "          0.01990842, -0.01764613],\n",
              "        [-0.00188202, -0.04464164, -0.05147406, ..., -0.03949338,\n",
              "         -0.06832974, -0.09220405],\n",
              "        [ 0.08529891,  0.05068012,  0.04445121, ..., -0.00259226,\n",
              "          0.00286377, -0.02593034],\n",
              "        ...,\n",
              "        [ 0.04170844,  0.05068012, -0.01590626, ..., -0.01107952,\n",
              "         -0.04687948,  0.01549073],\n",
              "        [-0.04547248, -0.04464164,  0.03906215, ...,  0.02655962,\n",
              "          0.04452837, -0.02593034],\n",
              "        [-0.04547248, -0.04464164, -0.0730303 , ..., -0.03949338,\n",
              "         -0.00421986,  0.00306441]]),\n",
              " 'data_filename': '/usr/local/lib/python3.6/dist-packages/sklearn/datasets/data/diabetes_data.csv.gz',\n",
              " 'feature_names': ['age',\n",
              "  'sex',\n",
              "  'bmi',\n",
              "  'bp',\n",
              "  's1',\n",
              "  's2',\n",
              "  's3',\n",
              "  's4',\n",
              "  's5',\n",
              "  's6'],\n",
              " 'target': array([151.,  75., 141., 206., 135.,  97., 138.,  63., 110., 310., 101.,\n",
              "         69., 179., 185., 118., 171., 166., 144.,  97., 168.,  68.,  49.,\n",
              "         68., 245., 184., 202., 137.,  85., 131., 283., 129.,  59., 341.,\n",
              "         87.,  65., 102., 265., 276., 252.,  90., 100.,  55.,  61.,  92.,\n",
              "        259.,  53., 190., 142.,  75., 142., 155., 225.,  59., 104., 182.,\n",
              "        128.,  52.,  37., 170., 170.,  61., 144.,  52., 128.,  71., 163.,\n",
              "        150.,  97., 160., 178.,  48., 270., 202., 111.,  85.,  42., 170.,\n",
              "        200., 252., 113., 143.,  51.,  52., 210.,  65., 141.,  55., 134.,\n",
              "         42., 111.,  98., 164.,  48.,  96.,  90., 162., 150., 279.,  92.,\n",
              "         83., 128., 102., 302., 198.,  95.,  53., 134., 144., 232.,  81.,\n",
              "        104.,  59., 246., 297., 258., 229., 275., 281., 179., 200., 200.,\n",
              "        173., 180.,  84., 121., 161.,  99., 109., 115., 268., 274., 158.,\n",
              "        107.,  83., 103., 272.,  85., 280., 336., 281., 118., 317., 235.,\n",
              "         60., 174., 259., 178., 128.,  96., 126., 288.,  88., 292.,  71.,\n",
              "        197., 186.,  25.,  84.,  96., 195.,  53., 217., 172., 131., 214.,\n",
              "         59.,  70., 220., 268., 152.,  47.,  74., 295., 101., 151., 127.,\n",
              "        237., 225.,  81., 151., 107.,  64., 138., 185., 265., 101., 137.,\n",
              "        143., 141.,  79., 292., 178.,  91., 116.,  86., 122.,  72., 129.,\n",
              "        142.,  90., 158.,  39., 196., 222., 277.,  99., 196., 202., 155.,\n",
              "         77., 191.,  70.,  73.,  49.,  65., 263., 248., 296., 214., 185.,\n",
              "         78.,  93., 252., 150.,  77., 208.,  77., 108., 160.,  53., 220.,\n",
              "        154., 259.,  90., 246., 124.,  67.,  72., 257., 262., 275., 177.,\n",
              "         71.,  47., 187., 125.,  78.,  51., 258., 215., 303., 243.,  91.,\n",
              "        150., 310., 153., 346.,  63.,  89.,  50.,  39., 103., 308., 116.,\n",
              "        145.,  74.,  45., 115., 264.,  87., 202., 127., 182., 241.,  66.,\n",
              "         94., 283.,  64., 102., 200., 265.,  94., 230., 181., 156., 233.,\n",
              "         60., 219.,  80.,  68., 332., 248.,  84., 200.,  55.,  85.,  89.,\n",
              "         31., 129.,  83., 275.,  65., 198., 236., 253., 124.,  44., 172.,\n",
              "        114., 142., 109., 180., 144., 163., 147.,  97., 220., 190., 109.,\n",
              "        191., 122., 230., 242., 248., 249., 192., 131., 237.,  78., 135.,\n",
              "        244., 199., 270., 164.,  72.,  96., 306.,  91., 214.,  95., 216.,\n",
              "        263., 178., 113., 200., 139., 139.,  88., 148.,  88., 243.,  71.,\n",
              "         77., 109., 272.,  60.,  54., 221.,  90., 311., 281., 182., 321.,\n",
              "         58., 262., 206., 233., 242., 123., 167.,  63., 197.,  71., 168.,\n",
              "        140., 217., 121., 235., 245.,  40.,  52., 104., 132.,  88.,  69.,\n",
              "        219.,  72., 201., 110.,  51., 277.,  63., 118.,  69., 273., 258.,\n",
              "         43., 198., 242., 232., 175.,  93., 168., 275., 293., 281.,  72.,\n",
              "        140., 189., 181., 209., 136., 261., 113., 131., 174., 257.,  55.,\n",
              "         84.,  42., 146., 212., 233.,  91., 111., 152., 120.,  67., 310.,\n",
              "         94., 183.,  66., 173.,  72.,  49.,  64.,  48., 178., 104., 132.,\n",
              "        220.,  57.]),\n",
              " 'target_filename': '/usr/local/lib/python3.6/dist-packages/sklearn/datasets/data/diabetes_target.csv.gz'}"
            ]
          },
          "metadata": {
            "tags": []
          },
          "execution_count": 209
        }
      ]
    },
    {
      "cell_type": "markdown",
      "metadata": {
        "id": "LJM9AOYjJ5z3",
        "colab_type": "text"
      },
      "source": [
        "* Nous avons trop de données dans ce dataset, prenez uniquement la deuxième colonne du dataset et stockez la dans une variable `diabetes_X`"
      ]
    },
    {
      "cell_type": "code",
      "metadata": {
        "id": "wh-EfttzMNB7",
        "colab_type": "code",
        "colab": {
          "base_uri": "https://localhost:8080/",
          "height": 206
        },
        "outputId": "37de316c-5a58-44a2-84c7-711caea7c71b"
      },
      "source": [
        "X = pd.DataFrame(df.data, columns = df.feature_names)\n",
        "X.head()"
      ],
      "execution_count": 31,
      "outputs": [
        {
          "output_type": "execute_result",
          "data": {
            "text/html": [
              "<div>\n",
              "<style scoped>\n",
              "    .dataframe tbody tr th:only-of-type {\n",
              "        vertical-align: middle;\n",
              "    }\n",
              "\n",
              "    .dataframe tbody tr th {\n",
              "        vertical-align: top;\n",
              "    }\n",
              "\n",
              "    .dataframe thead th {\n",
              "        text-align: right;\n",
              "    }\n",
              "</style>\n",
              "<table border=\"1\" class=\"dataframe\">\n",
              "  <thead>\n",
              "    <tr style=\"text-align: right;\">\n",
              "      <th></th>\n",
              "      <th>age</th>\n",
              "      <th>sex</th>\n",
              "      <th>bmi</th>\n",
              "      <th>bp</th>\n",
              "      <th>s1</th>\n",
              "      <th>s2</th>\n",
              "      <th>s3</th>\n",
              "      <th>s4</th>\n",
              "      <th>s5</th>\n",
              "      <th>s6</th>\n",
              "    </tr>\n",
              "  </thead>\n",
              "  <tbody>\n",
              "    <tr>\n",
              "      <th>0</th>\n",
              "      <td>0.038076</td>\n",
              "      <td>0.050680</td>\n",
              "      <td>0.061696</td>\n",
              "      <td>0.021872</td>\n",
              "      <td>-0.044223</td>\n",
              "      <td>-0.034821</td>\n",
              "      <td>-0.043401</td>\n",
              "      <td>-0.002592</td>\n",
              "      <td>0.019908</td>\n",
              "      <td>-0.017646</td>\n",
              "    </tr>\n",
              "    <tr>\n",
              "      <th>1</th>\n",
              "      <td>-0.001882</td>\n",
              "      <td>-0.044642</td>\n",
              "      <td>-0.051474</td>\n",
              "      <td>-0.026328</td>\n",
              "      <td>-0.008449</td>\n",
              "      <td>-0.019163</td>\n",
              "      <td>0.074412</td>\n",
              "      <td>-0.039493</td>\n",
              "      <td>-0.068330</td>\n",
              "      <td>-0.092204</td>\n",
              "    </tr>\n",
              "    <tr>\n",
              "      <th>2</th>\n",
              "      <td>0.085299</td>\n",
              "      <td>0.050680</td>\n",
              "      <td>0.044451</td>\n",
              "      <td>-0.005671</td>\n",
              "      <td>-0.045599</td>\n",
              "      <td>-0.034194</td>\n",
              "      <td>-0.032356</td>\n",
              "      <td>-0.002592</td>\n",
              "      <td>0.002864</td>\n",
              "      <td>-0.025930</td>\n",
              "    </tr>\n",
              "    <tr>\n",
              "      <th>3</th>\n",
              "      <td>-0.089063</td>\n",
              "      <td>-0.044642</td>\n",
              "      <td>-0.011595</td>\n",
              "      <td>-0.036656</td>\n",
              "      <td>0.012191</td>\n",
              "      <td>0.024991</td>\n",
              "      <td>-0.036038</td>\n",
              "      <td>0.034309</td>\n",
              "      <td>0.022692</td>\n",
              "      <td>-0.009362</td>\n",
              "    </tr>\n",
              "    <tr>\n",
              "      <th>4</th>\n",
              "      <td>0.005383</td>\n",
              "      <td>-0.044642</td>\n",
              "      <td>-0.036385</td>\n",
              "      <td>0.021872</td>\n",
              "      <td>0.003935</td>\n",
              "      <td>0.015596</td>\n",
              "      <td>0.008142</td>\n",
              "      <td>-0.002592</td>\n",
              "      <td>-0.031991</td>\n",
              "      <td>-0.046641</td>\n",
              "    </tr>\n",
              "  </tbody>\n",
              "</table>\n",
              "</div>"
            ],
            "text/plain": [
              "        age       sex       bmi  ...        s4        s5        s6\n",
              "0  0.038076  0.050680  0.061696  ... -0.002592  0.019908 -0.017646\n",
              "1 -0.001882 -0.044642 -0.051474  ... -0.039493 -0.068330 -0.092204\n",
              "2  0.085299  0.050680  0.044451  ... -0.002592  0.002864 -0.025930\n",
              "3 -0.089063 -0.044642 -0.011595  ...  0.034309  0.022692 -0.009362\n",
              "4  0.005383 -0.044642 -0.036385  ... -0.002592 -0.031991 -0.046641\n",
              "\n",
              "[5 rows x 10 columns]"
            ]
          },
          "metadata": {
            "tags": []
          },
          "execution_count": 31
        }
      ]
    },
    {
      "cell_type": "code",
      "metadata": {
        "id": "lbBx9pVUNF2F",
        "colab_type": "code",
        "colab": {}
      },
      "source": [
        "diabetes_X = np.array(X.bmi)\n"
      ],
      "execution_count": 0,
      "outputs": []
    },
    {
      "cell_type": "code",
      "metadata": {
        "id": "yDg5Ykm4J06E",
        "colab_type": "code",
        "outputId": "aa631c4a-e710-4c05-cf5f-a61b66c2d7e6",
        "colab": {
          "base_uri": "https://localhost:8080/",
          "height": 34
        }
      },
      "source": [
        ""
      ],
      "execution_count": 0,
      "outputs": [
        {
          "output_type": "execute_result",
          "data": {
            "text/plain": [
              "array([ 0.06169621, -0.05147406,  0.04445121, -0.01159501, -0.03638469])"
            ]
          },
          "metadata": {
            "tags": []
          },
          "execution_count": 210
        }
      ]
    },
    {
      "cell_type": "markdown",
      "metadata": {
        "id": "GIaz07XvLNOP",
        "colab_type": "text"
      },
      "source": [
        "* Stockez ensuite votre target dans une variable `y`"
      ]
    },
    {
      "cell_type": "code",
      "metadata": {
        "id": "miELlYXCNdPX",
        "colab_type": "code",
        "colab": {}
      },
      "source": [
        "y = df.target\n"
      ],
      "execution_count": 0,
      "outputs": []
    },
    {
      "cell_type": "code",
      "metadata": {
        "id": "gzNKO9JyLNp9",
        "colab_type": "code",
        "outputId": "86fe2647-ebe7-463c-cc73-a73fe0c0551c",
        "colab": {
          "base_uri": "https://localhost:8080/",
          "height": 34
        }
      },
      "source": [
        ""
      ],
      "execution_count": 0,
      "outputs": [
        {
          "output_type": "execute_result",
          "data": {
            "text/plain": [
              "array([151.,  75., 141., 206., 135.])"
            ]
          },
          "metadata": {
            "tags": []
          },
          "execution_count": 211
        }
      ]
    },
    {
      "cell_type": "markdown",
      "metadata": {
        "id": "S4goQEJvKsS8",
        "colab_type": "text"
      },
      "source": [
        "* Visualisez vos données en utilisant `Matplotlib`"
      ]
    },
    {
      "cell_type": "code",
      "metadata": {
        "id": "GV3f-B29N2h3",
        "colab_type": "code",
        "colab": {
          "base_uri": "https://localhost:8080/",
          "height": 287
        },
        "outputId": "bb9b69b0-c4cb-4aad-8da9-6900c32c2e6b"
      },
      "source": [
        "plt.scatter(diabetes_X, y)"
      ],
      "execution_count": 37,
      "outputs": [
        {
          "output_type": "execute_result",
          "data": {
            "text/plain": [
              "<matplotlib.collections.PathCollection at 0x7fbf1e97dcf8>"
            ]
          },
          "metadata": {
            "tags": []
          },
          "execution_count": 37
        },
        {
          "output_type": "display_data",
          "data": {
            "image/png": "[encoded data removed]",
            "text/plain": [
              "<Figure size 432x288 with 1 Axes>"
            ]
          },
          "metadata": {
            "tags": []
          }
        }
      ]
    },
    {
      "cell_type": "code",
      "metadata": {
        "id": "8Mvb3tc8KHJJ",
        "colab_type": "code",
        "outputId": "a5393869-e70f-48b5-d0b8-3867820ab05d",
        "colab": {
          "base_uri": "https://localhost:8080/",
          "height": 286
        }
      },
      "source": [
        ""
      ],
      "execution_count": 0,
      "outputs": [
        {
          "output_type": "execute_result",
          "data": {
            "text/plain": [
              "<matplotlib.collections.PathCollection at 0x7fa4a88469b0>"
            ]
          },
          "metadata": {
            "tags": []
          },
          "execution_count": 212
        },
        {
          "output_type": "display_data",
          "data": {
            "image/png": "[encoded data removed]",
            "text/plain": [
              "<Figure size 432x288 with 1 Axes>"
            ]
          },
          "metadata": {
            "tags": []
          }
        }
      ]
    },
    {
      "cell_type": "markdown",
      "metadata": {
        "id": "DPi5j2qlLXPn",
        "colab_type": "text"
      },
      "source": [
        "* Il faut maintenant qu'on définisse une fonction de coût. Pour une régression linéaire, nous pourrions utiliser la méthode des moindres carrés. \n",
        "\n",
        "Pour cela, nous allons calculer la somme des distance entre la valeurs prédite de notre modèle et la valeur réelle et nous allons en calculer la moyenne. Autrement dit, nous aurons : \n",
        "\n",
        "`np.mean((model(input) - y)**2)`\n",
        "\n",
        "C'est ce qu'on peut appeler notre erreur moyenne ou l'écart moyen entre notre prédiction et les valeurs réelles. Notre but va être de minimiser cette fonction de coût. \n",
        "\n",
        "  * Créez donc cette fonction qu'on appellera `mse` (pour mean square error). Cette fonction prendra deux arguments `y_pred` & `y_true`"
      ]
    },
    {
      "cell_type": "code",
      "metadata": {
        "id": "wqWx5tEHK9ur",
        "colab_type": "code",
        "colab": {}
      },
      "source": [
        "def mse(y_pred, y_true):\n",
        "  return np.mean((y_pred - y_true)**2)"
      ],
      "execution_count": 0,
      "outputs": []
    },
    {
      "cell_type": "markdown",
      "metadata": {
        "id": "69LJkKbCM-H6",
        "colab_type": "text"
      },
      "source": [
        "* Testez votre fonction en insérant `model(diabetes_X)` & `y` en argument "
      ]
    },
    {
      "cell_type": "code",
      "metadata": {
        "id": "bYZQFCuQhC8F",
        "colab_type": "code",
        "colab": {
          "base_uri": "https://localhost:8080/",
          "height": 35
        },
        "outputId": "beaabe6a-aae8-47be-8795-2127f3aa4e4a"
      },
      "source": [
        "mse(model(diabetes_X), y)"
      ],
      "execution_count": 39,
      "outputs": [
        {
          "output_type": "execute_result",
          "data": {
            "text/plain": [
              "28891.54664151745"
            ]
          },
          "metadata": {
            "tags": []
          },
          "execution_count": 39
        }
      ]
    },
    {
      "cell_type": "code",
      "metadata": {
        "id": "ULoKIwiXMmft",
        "colab_type": "code",
        "outputId": "c4049721-78f6-42d3-82b8-e6ad91a23a7d",
        "colab": {
          "base_uri": "https://localhost:8080/",
          "height": 34
        }
      },
      "source": [
        ""
      ],
      "execution_count": 0,
      "outputs": [
        {
          "output_type": "execute_result",
          "data": {
            "text/plain": [
              "29186.750579682073"
            ]
          },
          "metadata": {
            "tags": []
          },
          "execution_count": 214
        }
      ]
    },
    {
      "cell_type": "markdown",
      "metadata": {
        "id": "zKSq1LcSNF2k",
        "colab_type": "text"
      },
      "source": [
        "* Visualisez votre régression par rapport à vos points "
      ]
    },
    {
      "cell_type": "code",
      "metadata": {
        "id": "wsk43-AFhJ0F",
        "colab_type": "code",
        "colab": {
          "base_uri": "https://localhost:8080/",
          "height": 269
        },
        "outputId": "6801d5a2-05d8-4143-9202-e7519fdee834"
      },
      "source": [
        "from scipy import stats\n",
        "plt.scatter(diabetes_X, y)\n",
        "\n",
        "#regression part\n",
        "slope, intercept, r_value, p_value, std_err = stats.linregress(diabetes_X,model(diabetes_X))\n",
        "\n",
        "line = slope*diabetes_X+intercept\n",
        "plt.plot(diabetes_X, line, 'r', label='y={:.2f}x+{:.2f}'.format(slope,intercept))\n",
        "plt.show()"
      ],
      "execution_count": 44,
      "outputs": [
        {
          "output_type": "display_data",
          "data": {
            "image/png": "[encoded data removed]",
            "text/plain": [
              "<Figure size 432x288 with 1 Axes>"
            ]
          },
          "metadata": {
            "tags": []
          }
        }
      ]
    },
    {
      "cell_type": "code",
      "metadata": {
        "id": "magxD6QpM4hV",
        "colab_type": "code",
        "outputId": "6eafec3e-13ca-4ca7-8006-7c0183fc563c",
        "colab": {
          "base_uri": "https://localhost:8080/",
          "height": 286
        }
      },
      "source": [
        ""
      ],
      "execution_count": 0,
      "outputs": [
        {
          "output_type": "execute_result",
          "data": {
            "text/plain": [
              "[<matplotlib.lines.Line2D at 0x7fa4a87b2400>]"
            ]
          },
          "metadata": {
            "tags": []
          },
          "execution_count": 215
        },
        {
          "output_type": "display_data",
          "data": {
            "image/png": "[encoded data removed]",
            "text/plain": [
              "<Figure size 432x288 with 1 Axes>"
            ]
          },
          "metadata": {
            "tags": []
          }
        }
      ]
    },
    {
      "cell_type": "markdown",
      "metadata": {
        "id": "b4t0xlPMwwuf",
        "colab_type": "text"
      },
      "source": [
        "* Il va falloir qu'on calcule les gradients pour notre variable `model.W` et notre constante `model.b`. Pour cela, il va falloir qu'on revoit nos formules de dérivées. Puisque nous ne sommes pas ici pour faire des mathématiques, nous allons vous donner ces formules. \n",
        "  * `derive_model_w = 2/len(y_pred)*np.sum((np.matrix(x) @ (y_pred - y_true)))`\n",
        "  * `derive_model_b = 2/len(y_pred)*(np.sum(y_pred - y_true))`\n",
        "\n",
        "  * N'hésitez pas à vous documenter sur cet article si vous souhaitez en savoir plus sur le calcul de la dérivée : [Gradient Descent Derivation](https://mccormickml.com/2014/03/04/gradient-descent-derivation/)\n",
        "\n",
        "\n",
        "  * En utilisant donc les formules ci-dessus, codez la première fonction `derivative_mse_x` qui prendra les arguments : \n",
        "    * `x` --> les valeurs pour votre variable X / `y_pred` --> les valeurs prédites par votre modèle / `y_true` --> les valeurs réelles à prédire\n"
      ]
    },
    {
      "cell_type": "code",
      "metadata": {
        "id": "JrVNZeiFnoDE",
        "colab_type": "code",
        "colab": {
          "base_uri": "https://localhost:8080/",
          "height": 35
        },
        "outputId": "74664381-91cd-45a9-a8ea-39f831178978"
      },
      "source": [
        "# Calcul de la dérivée pour model.W\n",
        " def derivative_mse_x(x, y_pred, y_true):\n",
        "   derive_model_w = 2/len(y_pred)*np.sum((np.matrix(x) @ (y_pred - y_true)))\n",
        "   return derive_model_w\n",
        "derivative_mse_x(diabetes_X, model(diabetes_X), y)"
      ],
      "execution_count": 52,
      "outputs": [
        {
          "output_type": "execute_result",
          "data": {
            "text/plain": [
              "-4.294983834350909"
            ]
          },
          "metadata": {
            "tags": []
          },
          "execution_count": 52
        }
      ]
    },
    {
      "cell_type": "markdown",
      "metadata": {
        "id": "wtno1PCmzGSy",
        "colab_type": "text"
      },
      "source": [
        "* Testez votre fonction "
      ]
    },
    {
      "cell_type": "code",
      "metadata": {
        "id": "n5Fgfu5En1Cl",
        "colab_type": "code",
        "outputId": "74be3075-3126-442c-9b73-4d0f03ca6e21",
        "colab": {
          "base_uri": "https://localhost:8080/",
          "height": 34
        }
      },
      "source": [
        ""
      ],
      "execution_count": 0,
      "outputs": [
        {
          "output_type": "execute_result",
          "data": {
            "text/plain": [
              "-4.296059978389615"
            ]
          },
          "metadata": {
            "tags": []
          },
          "execution_count": 217
        }
      ]
    },
    {
      "cell_type": "markdown",
      "metadata": {
        "id": "t7uluSUoy6x4",
        "colab_type": "text"
      },
      "source": [
        "* En utilisant donc les formules ci-dessus, codez maintenant la fonction derivative_mse_constant qui prendra les arguments :\n",
        "    * `y_pred` --> les valeurs prédites par votre modèle / `y_true` --> les valeurs réelles à prédire"
      ]
    },
    {
      "cell_type": "code",
      "metadata": {
        "id": "DjFHRuH8nMEH",
        "colab_type": "code",
        "colab": {
          "base_uri": "https://localhost:8080/",
          "height": 35
        },
        "outputId": "482bb746-169e-4705-91b3-36a2dd9f1ccd"
      },
      "source": [
        "# Calcul de la dérivée pour model.b \n",
        "def derivative_mse_constant( y_pred, y_true):\n",
        "  derive_model_b = 2/len(y_pred)*(np.sum(y_pred - y_true))\n",
        "  return derive_model_b\n",
        "derivative_mse_constant(model(diabetes_X), y)"
      ],
      "execution_count": 53,
      "outputs": [
        {
          "output_type": "execute_result",
          "data": {
            "text/plain": [
              "-303.0690293506134"
            ]
          },
          "metadata": {
            "tags": []
          },
          "execution_count": 53
        }
      ]
    },
    {
      "cell_type": "markdown",
      "metadata": {
        "id": "4R9sfYPdzNYc",
        "colab_type": "text"
      },
      "source": [
        "* Testez votre fonction "
      ]
    },
    {
      "cell_type": "code",
      "metadata": {
        "id": "DPNk2cCol8sG",
        "colab_type": "code",
        "outputId": "dd95b1fe-a84d-41f7-e246-a1a2b3527c97",
        "colab": {
          "base_uri": "https://localhost:8080/",
          "height": 34
        }
      },
      "source": [
        ""
      ],
      "execution_count": 0,
      "outputs": [
        {
          "output_type": "execute_result",
          "data": {
            "text/plain": [
              "-305.0042064062768"
            ]
          },
          "metadata": {
            "tags": []
          },
          "execution_count": 219
        }
      ]
    },
    {
      "cell_type": "markdown",
      "metadata": {
        "id": "tmtfiOnszUqi",
        "colab_type": "text"
      },
      "source": [
        "* Nous allons tenter de voir si nous pouvons minimiser notre fonction de coût en utilisant les deux gradients du dessus. Pour mettre à jour nos variables, nous avons besoin de soustraire leur gradients respectifs. Ex : \n",
        "  * `X = X - learning_rate * gradient`\n",
        "\n",
        "  * Définissez un `learning_rate` à 0.1\n",
        "  * Tentez d'appliquer votre formule sur `model.W` et `model.b`"
      ]
    },
    {
      "cell_type": "code",
      "metadata": {
        "id": "fPfOdPwin4Vq",
        "colab_type": "code",
        "colab": {}
      },
      "source": [
        "def gradient(x, gradient):\n",
        "  return x - 0.1 * gradient"
      ],
      "execution_count": 0,
      "outputs": []
    },
    {
      "cell_type": "code",
      "metadata": {
        "id": "_UGtyxkrlmwP",
        "colab_type": "code",
        "colab": {
          "base_uri": "https://localhost:8080/",
          "height": 90
        },
        "outputId": "369c9425-223b-44db-e298-27b0584b3078"
      },
      "source": [
        "print(\"OLD model.W = {}\".format(model.a))\n",
        "model.a = gradient(model.a, derivative_mse_x(diabetes_X, model(diabetes_X), y))\n",
        "print(\"NEW model.W = {}\".format(model.a))\n",
        "print(\"OLD model.b = {}\".format(model.b))\n",
        "model.b = gradient(model.b, derivative_mse_constant(model(diabetes_X), y))\n",
        "print(\"NEW model.b = {}\".format(model.b))"
      ],
      "execution_count": 55,
      "outputs": [
        {
          "output_type": "stream",
          "text": [
            "OLD model.W = 0.24383299252330903\n",
            "NEW model.W = 0.6733313759583999\n",
            "OLD model.b = 0.5989694875892297\n",
            "NEW model.b = 30.905872422650575\n"
          ],
          "name": "stdout"
        }
      ]
    },
    {
      "cell_type": "code",
      "metadata": {
        "id": "WRROMSkNzvnI",
        "colab_type": "code",
        "outputId": "f9e27d42-3491-4085-a4c0-5707c6c51ade",
        "colab": {
          "base_uri": "https://localhost:8080/",
          "height": 84
        }
      },
      "source": [
        ""
      ],
      "execution_count": 0,
      "outputs": [
        {
          "output_type": "stream",
          "text": [
            "OLD model.W = [0.00600516]\n",
            "OLD model.b = [-0.36861904]\n",
            "NEW model.W = [0.43561116]\n",
            "NEW model.b = [30.1318016]\n"
          ],
          "name": "stdout"
        }
      ]
    },
    {
      "cell_type": "markdown",
      "metadata": {
        "id": "JaI_Zm-w0gxW",
        "colab_type": "text"
      },
      "source": [
        "* Calculez à nouveau votre MSE "
      ]
    },
    {
      "cell_type": "code",
      "metadata": {
        "id": "r0691aiQpHLL",
        "colab_type": "code",
        "colab": {
          "base_uri": "https://localhost:8080/",
          "height": 35
        },
        "outputId": "34e321ab-05f1-4f3e-ea74-b56a867c257d"
      },
      "source": [
        "mse(model(diabetes_X), y)"
      ],
      "execution_count": 56,
      "outputs": [
        {
          "output_type": "execute_result",
          "data": {
            "text/plain": [
              "20623.12708061701"
            ]
          },
          "metadata": {
            "tags": []
          },
          "execution_count": 56
        }
      ]
    },
    {
      "cell_type": "code",
      "metadata": {
        "id": "tz-ZBUTh0ixs",
        "colab_type": "code",
        "outputId": "4fa23007-b279-4c47-b806-3550b7589a5b",
        "colab": {
          "base_uri": "https://localhost:8080/",
          "height": 34
        }
      },
      "source": [
        ""
      ],
      "execution_count": 0,
      "outputs": [
        {
          "output_type": "execute_result",
          "data": {
            "text/plain": [
              "20812.424450810766"
            ]
          },
          "metadata": {
            "tags": []
          },
          "execution_count": 221
        }
      ]
    },
    {
      "cell_type": "markdown",
      "metadata": {
        "id": "cCOgW_6N0nvt",
        "colab_type": "text"
      },
      "source": [
        "* Notre MSE a beaucoup baissé ! C'est une bonne nouvelle mais le processus de descente de gradient est itératif. Vous devrez donc le faire plusieurs fois avant d'arriver à des prédictions précises. \n",
        "  * En faisant une boucle, tentez de répéter le processus d'au-dessus 10000 fois \n",
        "  * Affichez toutes les 1000 epochs : la mse, model.W & model.b  "
      ]
    },
    {
      "cell_type": "code",
      "metadata": {
        "id": "N_Vxa_rlpxRU",
        "colab_type": "code",
        "colab": {}
      },
      "source": [
        "# Définission d'un learning rate et d'un nombre d'itérations \n"
      ],
      "execution_count": 0,
      "outputs": []
    },
    {
      "cell_type": "code",
      "metadata": {
        "id": "5E6XhIReqQtU",
        "colab_type": "code",
        "colab": {
          "base_uri": "https://localhost:8080/",
          "height": 744
        },
        "outputId": "1157bcef-1efb-4c3e-e4ae-7e3e5499041f"
      },
      "source": [
        "for i in range(10000):\n",
        "  model.a = gradient(model.a, derivative_mse_x(diabetes_X, model(diabetes_X), y))\n",
        "  model.b = gradient(model.b, derivative_mse_constant(model(diabetes_X), y))\n",
        "  if i % 1000 ==0:\n",
        "    print(\"-------------------- Epoch {} --------------------\".format(i))\n",
        "    print(\"Current Loss = {}\".format(mse(model(diabetes_X), y)))\n",
        "    print(\"NEW model.W = {}\".format(model.a))\n",
        "    print(\"NEW model.b = {}\".format(model.b))"
      ],
      "execution_count": 57,
      "outputs": [
        {
          "output_type": "stream",
          "text": [
            "-------------------- Epoch 0 --------------------\n",
            "Current Loss = 15330.67629263208\n",
            "NEW model.W = 1.1026354162335703\n",
            "NEW model.b = 55.15139477069965\n",
            "-------------------- Epoch 1000 --------------------\n",
            "Current Loss = 4713.425604826431\n",
            "NEW model.W = 346.31644409703216\n",
            "NEW model.b = 152.13348416289614\n",
            "-------------------- Epoch 2000 --------------------\n",
            "Current Loss = 4223.321375985378\n",
            "NEW model.W = 565.8648790826459\n",
            "NEW model.b = 152.13348416289634\n",
            "-------------------- Epoch 3000 --------------------\n",
            "Current Loss = 4025.08980513718\n",
            "NEW model.W = 705.4928837932054\n",
            "NEW model.b = 152.13348416289645\n",
            "-------------------- Epoch 4000 --------------------\n",
            "Current Loss = 3944.911440274126\n",
            "NEW model.W = 794.2932421320364\n",
            "NEW model.b = 152.1334841628965\n",
            "-------------------- Epoch 5000 --------------------\n",
            "Current Loss = 3912.481842079418\n",
            "NEW model.W = 850.768328612364\n",
            "NEW model.b = 152.13348416289656\n",
            "-------------------- Epoch 6000 --------------------\n",
            "Current Loss = 3899.365101162257\n",
            "NEW model.W = 886.6852489111653\n",
            "NEW model.b = 152.1334841628966\n",
            "-------------------- Epoch 7000 --------------------\n",
            "Current Loss = 3894.0597966914793\n",
            "NEW model.W = 909.5276249772849\n",
            "NEW model.b = 152.1334841628966\n",
            "-------------------- Epoch 8000 --------------------\n",
            "Current Loss = 3891.9139697893993\n",
            "NEW model.W = 924.0548767573733\n",
            "NEW model.b = 152.13348416289662\n",
            "-------------------- Epoch 9000 --------------------\n",
            "Current Loss = 3891.0460510640837\n",
            "NEW model.W = 933.2938912833251\n",
            "NEW model.b = 152.13348416289662\n"
          ],
          "name": "stdout"
        }
      ]
    },
    {
      "cell_type": "code",
      "metadata": {
        "id": "I7JLxLKLs0UG",
        "colab_type": "code",
        "outputId": "a80fcd3e-2bac-4f51-88eb-47b864186485",
        "colab": {
          "base_uri": "https://localhost:8080/",
          "height": 756
        }
      },
      "source": [
        "\n",
        "  # Calcul de la loss\n",
        "  \n",
        "  \n",
        "  # Mise à jour des variables \n",
        "  \n",
        "\n",
        "  # Affichage des variables mises à jour \n",
        "  "
      ],
      "execution_count": 0,
      "outputs": [
        {
          "output_type": "stream",
          "text": [
            "-------------------- Epoch 0 --------------------\n",
            "Current Loss: 20812.424450810766\n",
            "W = [0.86502276]\n",
            "b = [54.53213811]\n",
            "-------------------- Epoch 1000 --------------------\n",
            "Current Loss: 4714.583707665394\n",
            "W = [346.16532764]\n",
            "b = [152.13348416]\n",
            "-------------------- Epoch 2000 --------------------\n",
            "Current Loss: 4223.789791745661\n",
            "W = [565.76877232]\n",
            "b = [152.13348416]\n",
            "-------------------- Epoch 3000 --------------------\n",
            "Current Loss: 4025.2792644123865\n",
            "W = [705.431762]\n",
            "b = [152.13348416]\n",
            "-------------------- Epoch 4000 --------------------\n",
            "Current Loss: 3944.9880705244404\n",
            "W = [794.25437]\n",
            "b = [152.13348416]\n",
            "-------------------- Epoch 5000 --------------------\n",
            "Current Loss: 3912.5128365781397\n",
            "W = [850.74360679]\n",
            "b = [152.13348416]\n",
            "-------------------- Epoch 6000 --------------------\n",
            "Current Loss: 3899.3776374510862\n",
            "W = [886.66952637]\n",
            "b = [152.13348416]\n",
            "-------------------- Epoch 7000 --------------------\n",
            "Current Loss: 3894.064867221544\n",
            "W = [909.51762579]\n",
            "b = [152.13348416]\n",
            "-------------------- Epoch 8000 --------------------\n",
            "Current Loss: 3891.9160206575225\n",
            "W = [924.04851749]\n",
            "b = [152.13348416]\n",
            "-------------------- Epoch 9000 --------------------\n",
            "Current Loss: 3891.0468805750033\n",
            "W = [933.28984693]\n",
            "b = [152.13348416]\n",
            "-------------------- Epoch 9999 --------------------\n",
            "Current Loss: 3890.6955572732427\n",
            "W = [939.16248209]\n",
            "b = [152.13348416]\n"
          ],
          "name": "stdout"
        }
      ]
    },
    {
      "cell_type": "markdown",
      "metadata": {
        "id": "eeXT-MEa1nGD",
        "colab_type": "text"
      },
      "source": [
        "* En utilisant `Matplotlib`, visualisez à nouveau votre modèle et vos valeurs réelles "
      ]
    },
    {
      "cell_type": "code",
      "metadata": {
        "id": "oI4oui5lsVfG",
        "colab_type": "code",
        "colab": {
          "base_uri": "https://localhost:8080/",
          "height": 269
        },
        "outputId": "05a45204-6612-4310-eb3f-3ff3bf354095"
      },
      "source": [
        "from scipy import stats\n",
        "plt.scatter(diabetes_X, y)\n",
        "\n",
        "#regression part\n",
        "slope, intercept, r_value, p_value, std_err = stats.linregress(diabetes_X,model(diabetes_X))\n",
        "\n",
        "line = slope*diabetes_X+intercept\n",
        "plt.plot(diabetes_X, line, 'r', label='y={:.2f}x+{:.2f}'.format(slope,intercept))\n",
        "plt.show()"
      ],
      "execution_count": 58,
      "outputs": [
        {
          "output_type": "display_data",
          "data": {
            "image/png": "[encoded data removed]",
            "text/plain": [
              "<Figure size 432x288 with 1 Axes>"
            ]
          },
          "metadata": {
            "tags": []
          }
        }
      ]
    },
    {
      "cell_type": "code",
      "metadata": {
        "id": "W-yIcFsltoDJ",
        "colab_type": "code",
        "outputId": "362face0-d867-4761-a1e3-e17f3b518218",
        "colab": {
          "base_uri": "https://localhost:8080/",
          "height": 269
        }
      },
      "source": [
        ""
      ],
      "execution_count": 0,
      "outputs": [
        {
          "output_type": "display_data",
          "data": {
            "image/png": "[encoded data removed]",
            "text/plain": [
              "<Figure size 432x288 with 1 Axes>"
            ]
          },
          "metadata": {
            "tags": []
          }
        }
      ]
    },
    {
      "cell_type": "markdown",
      "metadata": {
        "id": "_zsSa40s1xZS",
        "colab_type": "text"
      },
      "source": [
        "**Nous avons cette fois une belle régression !** "
      ]
    },
    {
      "cell_type": "code",
      "metadata": {
        "id": "LRBIMOUCuJh_",
        "colab_type": "code",
        "colab": {}
      },
      "source": [
        ""
      ],
      "execution_count": 0,
      "outputs": []
    }
  ]
}