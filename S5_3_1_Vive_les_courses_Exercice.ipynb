{
  "nbformat": 4,
  "nbformat_minor": 0,
  "metadata": {
    "colab": {
      "name": "S5-3_1. Vive les courses - Exercice.ipynb",
      "provenance": [],
      "collapsed_sections": [],
      "include_colab_link": true
    },
    "kernelspec": {
      "name": "python3",
      "display_name": "Python 3"
    }
  },
  "cells": [
    {
      "cell_type": "markdown",
      "metadata": {
        "id": "view-in-github",
        "colab_type": "text"
      },
      "source": [
        "<a href=\"https://colab.research.google.com/github/tbazzi/Data-Science---Fullstack-Bootcamp/blob/master/S5_3_1_Vive_les_courses_Exercice.ipynb\" target=\"_parent\"><img src=\"https://colab.research.google.com/assets/colab-badge.svg\" alt=\"Open In Colab\"/></a>"
      ]
    },
    {
      "cell_type": "markdown",
      "metadata": {
        "id": "Cuh-JeaCWyW6",
        "colab_type": "text"
      },
      "source": [
        "# Vive les courses \n",
        "\n"
      ]
    },
    {
      "cell_type": "markdown",
      "metadata": {
        "id": "DSJCNz0UW_ri",
        "colab_type": "text"
      },
      "source": [
        "0. Importez les librairies usuelles"
      ]
    },
    {
      "cell_type": "code",
      "metadata": {
        "id": "QXWhNMkiXCy8",
        "colab_type": "code",
        "colab": {}
      },
      "source": [
        "import seaborn as sns\n",
        "import pandas as pd\n",
        "import numpy as np\n",
        "#import matplotlib as plt\n",
        "import matplotlib.pyplot as plt"
      ],
      "execution_count": 0,
      "outputs": []
    },
    {
      "cell_type": "markdown",
      "metadata": {
        "id": "TR8oxsVbW2jJ",
        "colab_type": "text"
      },
      "source": [
        "1. Télécharger le dataset customer.csv sur le drive"
      ]
    },
    {
      "cell_type": "code",
      "metadata": {
        "id": "FsYHvg6VmWGH",
        "colab_type": "code",
        "colab": {
          "base_uri": "https://localhost:8080/",
          "height": 128
        },
        "outputId": "a6cfa170-605e-415a-a73e-ab8d445a41ee"
      },
      "source": [
        "from google.colab import drive\n",
        "drive.mount('/content/drive')"
      ],
      "execution_count": 2,
      "outputs": [
        {
          "output_type": "stream",
          "text": [
            "Go to this URL in a browser: https://accounts.google.com/o/oauth2/auth?client_id=947318989803-6bn6qk8qdgf4n4g3pfee6491hc0brc4i.apps.googleusercontent.com&redirect_uri=urn%3Aietf%3Awg%3Aoauth%3A2.0%3Aoob&scope=email%20https%3A%2F%2Fwww.googleapis.com%2Fauth%2Fdocs.test%20https%3A%2F%2Fwww.googleapis.com%2Fauth%2Fdrive%20https%3A%2F%2Fwww.googleapis.com%2Fauth%2Fdrive.photos.readonly%20https%3A%2F%2Fwww.googleapis.com%2Fauth%2Fpeopleapi.readonly&response_type=code\n",
            "\n",
            "Enter your authorization code:\n",
            "··········\n",
            "Mounted at /content/drive\n"
          ],
          "name": "stdout"
        }
      ]
    },
    {
      "cell_type": "code",
      "metadata": {
        "id": "eE6rudnoWuD1",
        "colab_type": "code",
        "outputId": "146db687-3855-4ead-c578-bd6002ec1e0d",
        "colab": {
          "resources": {
            "http://localhost:8080/nbextensions/google.colab/files.js": {
              "data": "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",
              "ok": true,
              "headers": [
                [
                  "content-type",
                  "application/javascript"
                ]
              ],
              "status": 200,
              "status_text": ""
            }
          },
          "base_uri": "https://localhost:8080/",
          "height": 72
        }
      },
      "source": [
        ""
      ],
      "execution_count": 0,
      "outputs": [
        {
          "output_type": "display_data",
          "data": {
            "text/html": [
              "\n",
              "     <input type=\"file\" id=\"files-c4abc658-399f-45bd-87f3-1feac57a6852\" name=\"files[]\" multiple disabled />\n",
              "     <output id=\"result-c4abc658-399f-45bd-87f3-1feac57a6852\">\n",
              "      Upload widget is only available when the cell has been executed in the\n",
              "      current browser session. Please rerun this cell to enable.\n",
              "      </output>\n",
              "      <script src=\"/nbextensions/google.colab/files.js\"></script> "
            ],
            "text/plain": [
              "<IPython.core.display.HTML object>"
            ]
          },
          "metadata": {
            "tags": []
          }
        },
        {
          "output_type": "stream",
          "text": [
            "Saving customers.csv to customers.csv\n"
          ],
          "name": "stdout"
        }
      ]
    },
    {
      "cell_type": "code",
      "metadata": {
        "id": "IIQpTCVgmd3y",
        "colab_type": "code",
        "colab": {
          "base_uri": "https://localhost:8080/",
          "height": 206
        },
        "outputId": "a812bb35-c2c4-41ee-c16c-45d78b7e3dd9"
      },
      "source": [
        "df = pd.read_csv('/content/drive/My Drive/customers.csv')\n",
        "df.head()"
      ],
      "execution_count": 3,
      "outputs": [
        {
          "output_type": "execute_result",
          "data": {
            "text/html": [
              "<div>\n",
              "<style scoped>\n",
              "    .dataframe tbody tr th:only-of-type {\n",
              "        vertical-align: middle;\n",
              "    }\n",
              "\n",
              "    .dataframe tbody tr th {\n",
              "        vertical-align: top;\n",
              "    }\n",
              "\n",
              "    .dataframe thead th {\n",
              "        text-align: right;\n",
              "    }\n",
              "</style>\n",
              "<table border=\"1\" class=\"dataframe\">\n",
              "  <thead>\n",
              "    <tr style=\"text-align: right;\">\n",
              "      <th></th>\n",
              "      <th>Channel</th>\n",
              "      <th>Region</th>\n",
              "      <th>Fresh</th>\n",
              "      <th>Milk</th>\n",
              "      <th>Grocery</th>\n",
              "      <th>Frozen</th>\n",
              "      <th>Detergents_Paper</th>\n",
              "      <th>Delicassen</th>\n",
              "    </tr>\n",
              "  </thead>\n",
              "  <tbody>\n",
              "    <tr>\n",
              "      <th>0</th>\n",
              "      <td>2</td>\n",
              "      <td>3</td>\n",
              "      <td>12669</td>\n",
              "      <td>9656</td>\n",
              "      <td>7561</td>\n",
              "      <td>214</td>\n",
              "      <td>2674</td>\n",
              "      <td>1338</td>\n",
              "    </tr>\n",
              "    <tr>\n",
              "      <th>1</th>\n",
              "      <td>2</td>\n",
              "      <td>3</td>\n",
              "      <td>7057</td>\n",
              "      <td>9810</td>\n",
              "      <td>9568</td>\n",
              "      <td>1762</td>\n",
              "      <td>3293</td>\n",
              "      <td>1776</td>\n",
              "    </tr>\n",
              "    <tr>\n",
              "      <th>2</th>\n",
              "      <td>2</td>\n",
              "      <td>3</td>\n",
              "      <td>6353</td>\n",
              "      <td>8808</td>\n",
              "      <td>7684</td>\n",
              "      <td>2405</td>\n",
              "      <td>3516</td>\n",
              "      <td>7844</td>\n",
              "    </tr>\n",
              "    <tr>\n",
              "      <th>3</th>\n",
              "      <td>1</td>\n",
              "      <td>3</td>\n",
              "      <td>13265</td>\n",
              "      <td>1196</td>\n",
              "      <td>4221</td>\n",
              "      <td>6404</td>\n",
              "      <td>507</td>\n",
              "      <td>1788</td>\n",
              "    </tr>\n",
              "    <tr>\n",
              "      <th>4</th>\n",
              "      <td>2</td>\n",
              "      <td>3</td>\n",
              "      <td>22615</td>\n",
              "      <td>5410</td>\n",
              "      <td>7198</td>\n",
              "      <td>3915</td>\n",
              "      <td>1777</td>\n",
              "      <td>5185</td>\n",
              "    </tr>\n",
              "  </tbody>\n",
              "</table>\n",
              "</div>"
            ],
            "text/plain": [
              "   Channel  Region  Fresh  Milk  Grocery  Frozen  Detergents_Paper  Delicassen\n",
              "0        2       3  12669  9656     7561     214              2674        1338\n",
              "1        2       3   7057  9810     9568    1762              3293        1776\n",
              "2        2       3   6353  8808     7684    2405              3516        7844\n",
              "3        1       3  13265  1196     4221    6404               507        1788\n",
              "4        2       3  22615  5410     7198    3915              1777        5185"
            ]
          },
          "metadata": {
            "tags": []
          },
          "execution_count": 3
        }
      ]
    },
    {
      "cell_type": "code",
      "metadata": {
        "id": "gbaqmb8jXMc4",
        "colab_type": "code",
        "outputId": "99a3f9c0-28ff-4907-fb2f-b7d81345fb5f",
        "colab": {
          "base_uri": "https://localhost:8080/",
          "height": 198
        }
      },
      "source": [
        ""
      ],
      "execution_count": 0,
      "outputs": [
        {
          "output_type": "execute_result",
          "data": {
            "text/html": [
              "<div>\n",
              "<style scoped>\n",
              "    .dataframe tbody tr th:only-of-type {\n",
              "        vertical-align: middle;\n",
              "    }\n",
              "\n",
              "    .dataframe tbody tr th {\n",
              "        vertical-align: top;\n",
              "    }\n",
              "\n",
              "    .dataframe thead th {\n",
              "        text-align: right;\n",
              "    }\n",
              "</style>\n",
              "<table border=\"1\" class=\"dataframe\">\n",
              "  <thead>\n",
              "    <tr style=\"text-align: right;\">\n",
              "      <th></th>\n",
              "      <th>Channel</th>\n",
              "      <th>Region</th>\n",
              "      <th>Fresh</th>\n",
              "      <th>Milk</th>\n",
              "      <th>Grocery</th>\n",
              "      <th>Frozen</th>\n",
              "      <th>Detergents_Paper</th>\n",
              "      <th>Delicassen</th>\n",
              "    </tr>\n",
              "  </thead>\n",
              "  <tbody>\n",
              "    <tr>\n",
              "      <th>0</th>\n",
              "      <td>2</td>\n",
              "      <td>3</td>\n",
              "      <td>12669</td>\n",
              "      <td>9656</td>\n",
              "      <td>7561</td>\n",
              "      <td>214</td>\n",
              "      <td>2674</td>\n",
              "      <td>1338</td>\n",
              "    </tr>\n",
              "    <tr>\n",
              "      <th>1</th>\n",
              "      <td>2</td>\n",
              "      <td>3</td>\n",
              "      <td>7057</td>\n",
              "      <td>9810</td>\n",
              "      <td>9568</td>\n",
              "      <td>1762</td>\n",
              "      <td>3293</td>\n",
              "      <td>1776</td>\n",
              "    </tr>\n",
              "    <tr>\n",
              "      <th>2</th>\n",
              "      <td>2</td>\n",
              "      <td>3</td>\n",
              "      <td>6353</td>\n",
              "      <td>8808</td>\n",
              "      <td>7684</td>\n",
              "      <td>2405</td>\n",
              "      <td>3516</td>\n",
              "      <td>7844</td>\n",
              "    </tr>\n",
              "    <tr>\n",
              "      <th>3</th>\n",
              "      <td>1</td>\n",
              "      <td>3</td>\n",
              "      <td>13265</td>\n",
              "      <td>1196</td>\n",
              "      <td>4221</td>\n",
              "      <td>6404</td>\n",
              "      <td>507</td>\n",
              "      <td>1788</td>\n",
              "    </tr>\n",
              "    <tr>\n",
              "      <th>4</th>\n",
              "      <td>2</td>\n",
              "      <td>3</td>\n",
              "      <td>22615</td>\n",
              "      <td>5410</td>\n",
              "      <td>7198</td>\n",
              "      <td>3915</td>\n",
              "      <td>1777</td>\n",
              "      <td>5185</td>\n",
              "    </tr>\n",
              "  </tbody>\n",
              "</table>\n",
              "</div>"
            ],
            "text/plain": [
              "   Channel  Region  Fresh  Milk  Grocery  Frozen  Detergents_Paper  Delicassen\n",
              "0        2       3  12669  9656     7561     214              2674        1338\n",
              "1        2       3   7057  9810     9568    1762              3293        1776\n",
              "2        2       3   6353  8808     7684    2405              3516        7844\n",
              "3        1       3  13265  1196     4221    6404               507        1788\n",
              "4        2       3  22615  5410     7198    3915              1777        5185"
            ]
          },
          "metadata": {
            "tags": []
          },
          "execution_count": 3
        }
      ]
    },
    {
      "cell_type": "markdown",
      "metadata": {
        "id": "sIeH5cdNXm9G",
        "colab_type": "text"
      },
      "source": [
        "2. Supprimez les variables qualitatives du dataset"
      ]
    },
    {
      "cell_type": "code",
      "metadata": {
        "id": "5UzQ7E_GXgi6",
        "colab_type": "code",
        "colab": {}
      },
      "source": [
        ""
      ],
      "execution_count": 0,
      "outputs": []
    },
    {
      "cell_type": "code",
      "metadata": {
        "id": "Loj3OoBZXqRj",
        "colab_type": "code",
        "outputId": "f0961f1a-ec72-4657-ac92-0824f9b08400",
        "colab": {
          "base_uri": "https://localhost:8080/",
          "height": 198
        }
      },
      "source": [
        ""
      ],
      "execution_count": 0,
      "outputs": [
        {
          "output_type": "execute_result",
          "data": {
            "text/html": [
              "<div>\n",
              "<style scoped>\n",
              "    .dataframe tbody tr th:only-of-type {\n",
              "        vertical-align: middle;\n",
              "    }\n",
              "\n",
              "    .dataframe tbody tr th {\n",
              "        vertical-align: top;\n",
              "    }\n",
              "\n",
              "    .dataframe thead th {\n",
              "        text-align: right;\n",
              "    }\n",
              "</style>\n",
              "<table border=\"1\" class=\"dataframe\">\n",
              "  <thead>\n",
              "    <tr style=\"text-align: right;\">\n",
              "      <th></th>\n",
              "      <th>Fresh</th>\n",
              "      <th>Milk</th>\n",
              "      <th>Grocery</th>\n",
              "      <th>Frozen</th>\n",
              "      <th>Detergents_Paper</th>\n",
              "      <th>Delicassen</th>\n",
              "    </tr>\n",
              "  </thead>\n",
              "  <tbody>\n",
              "    <tr>\n",
              "      <th>0</th>\n",
              "      <td>12669</td>\n",
              "      <td>9656</td>\n",
              "      <td>7561</td>\n",
              "      <td>214</td>\n",
              "      <td>2674</td>\n",
              "      <td>1338</td>\n",
              "    </tr>\n",
              "    <tr>\n",
              "      <th>1</th>\n",
              "      <td>7057</td>\n",
              "      <td>9810</td>\n",
              "      <td>9568</td>\n",
              "      <td>1762</td>\n",
              "      <td>3293</td>\n",
              "      <td>1776</td>\n",
              "    </tr>\n",
              "    <tr>\n",
              "      <th>2</th>\n",
              "      <td>6353</td>\n",
              "      <td>8808</td>\n",
              "      <td>7684</td>\n",
              "      <td>2405</td>\n",
              "      <td>3516</td>\n",
              "      <td>7844</td>\n",
              "    </tr>\n",
              "    <tr>\n",
              "      <th>3</th>\n",
              "      <td>13265</td>\n",
              "      <td>1196</td>\n",
              "      <td>4221</td>\n",
              "      <td>6404</td>\n",
              "      <td>507</td>\n",
              "      <td>1788</td>\n",
              "    </tr>\n",
              "    <tr>\n",
              "      <th>4</th>\n",
              "      <td>22615</td>\n",
              "      <td>5410</td>\n",
              "      <td>7198</td>\n",
              "      <td>3915</td>\n",
              "      <td>1777</td>\n",
              "      <td>5185</td>\n",
              "    </tr>\n",
              "  </tbody>\n",
              "</table>\n",
              "</div>"
            ],
            "text/plain": [
              "   Fresh  Milk  Grocery  Frozen  Detergents_Paper  Delicassen\n",
              "0  12669  9656     7561     214              2674        1338\n",
              "1   7057  9810     9568    1762              3293        1776\n",
              "2   6353  8808     7684    2405              3516        7844\n",
              "3  13265  1196     4221    6404               507        1788\n",
              "4  22615  5410     7198    3915              1777        5185"
            ]
          },
          "metadata": {
            "tags": []
          },
          "execution_count": 5
        }
      ]
    },
    {
      "cell_type": "markdown",
      "metadata": {
        "id": "RBK7NoXTXuQY",
        "colab_type": "text"
      },
      "source": [
        "4. Conservez maintenant uniquement les colonnes Grocery et Milk"
      ]
    },
    {
      "cell_type": "code",
      "metadata": {
        "id": "G3VF61hJmqsD",
        "colab_type": "code",
        "colab": {
          "base_uri": "https://localhost:8080/",
          "height": 206
        },
        "outputId": "efb447ce-b7e3-44d2-efd2-d5e4d90d72f6"
      },
      "source": [
        "df2 = df[[\"Grocery\", \"Milk\"]]\n",
        "df2.head()"
      ],
      "execution_count": 4,
      "outputs": [
        {
          "output_type": "execute_result",
          "data": {
            "text/html": [
              "<div>\n",
              "<style scoped>\n",
              "    .dataframe tbody tr th:only-of-type {\n",
              "        vertical-align: middle;\n",
              "    }\n",
              "\n",
              "    .dataframe tbody tr th {\n",
              "        vertical-align: top;\n",
              "    }\n",
              "\n",
              "    .dataframe thead th {\n",
              "        text-align: right;\n",
              "    }\n",
              "</style>\n",
              "<table border=\"1\" class=\"dataframe\">\n",
              "  <thead>\n",
              "    <tr style=\"text-align: right;\">\n",
              "      <th></th>\n",
              "      <th>Grocery</th>\n",
              "      <th>Milk</th>\n",
              "    </tr>\n",
              "  </thead>\n",
              "  <tbody>\n",
              "    <tr>\n",
              "      <th>0</th>\n",
              "      <td>7561</td>\n",
              "      <td>9656</td>\n",
              "    </tr>\n",
              "    <tr>\n",
              "      <th>1</th>\n",
              "      <td>9568</td>\n",
              "      <td>9810</td>\n",
              "    </tr>\n",
              "    <tr>\n",
              "      <th>2</th>\n",
              "      <td>7684</td>\n",
              "      <td>8808</td>\n",
              "    </tr>\n",
              "    <tr>\n",
              "      <th>3</th>\n",
              "      <td>4221</td>\n",
              "      <td>1196</td>\n",
              "    </tr>\n",
              "    <tr>\n",
              "      <th>4</th>\n",
              "      <td>7198</td>\n",
              "      <td>5410</td>\n",
              "    </tr>\n",
              "  </tbody>\n",
              "</table>\n",
              "</div>"
            ],
            "text/plain": [
              "   Grocery  Milk\n",
              "0     7561  9656\n",
              "1     9568  9810\n",
              "2     7684  8808\n",
              "3     4221  1196\n",
              "4     7198  5410"
            ]
          },
          "metadata": {
            "tags": []
          },
          "execution_count": 4
        }
      ]
    },
    {
      "cell_type": "markdown",
      "metadata": {
        "id": "57v1_-XvX3f9",
        "colab_type": "text"
      },
      "source": [
        "5. Visualisez ces données via un scatter plot"
      ]
    },
    {
      "cell_type": "code",
      "metadata": {
        "id": "23G-2bNam9EP",
        "colab_type": "code",
        "colab": {
          "base_uri": "https://localhost:8080/",
          "height": 301
        },
        "outputId": "050b3d98-276f-47a8-b064-3016886644f8"
      },
      "source": [
        "sns.scatterplot(x= \"Grocery\", y = \"Milk\", data = df2)"
      ],
      "execution_count": 5,
      "outputs": [
        {
          "output_type": "execute_result",
          "data": {
            "text/plain": [
              "<matplotlib.axes._subplots.AxesSubplot at 0x7f6cdc520160>"
            ]
          },
          "metadata": {
            "tags": []
          },
          "execution_count": 5
        },
        {
          "output_type": "display_data",
          "data": {
            "image/png": "[encoded data removed]",
            "text/plain": [
              "<Figure size 432x288 with 1 Axes>"
            ]
          },
          "metadata": {
            "tags": []
          }
        }
      ]
    },
    {
      "cell_type": "code",
      "metadata": {
        "id": "WFv5ScfQXw0X",
        "colab_type": "code",
        "outputId": "c8d7819b-d99d-4ebe-b17a-e3a8935f50f5",
        "colab": {
          "base_uri": "https://localhost:8080/",
          "height": 386
        }
      },
      "source": [
        ""
      ],
      "execution_count": 0,
      "outputs": [
        {
          "output_type": "execute_result",
          "data": {
            "text/plain": [
              "<seaborn.axisgrid.FacetGrid at 0x7fda3988fcf8>"
            ]
          },
          "metadata": {
            "tags": []
          },
          "execution_count": 11
        },
        {
          "output_type": "display_data",
          "data": {
            "image/png": "[encoded data removed]",
            "text/plain": [
              "<Figure size 360x360 with 1 Axes>"
            ]
          },
          "metadata": {
            "tags": []
          }
        }
      ]
    },
    {
      "cell_type": "markdown",
      "metadata": {
        "id": "3r9kxW1ZYCGs",
        "colab_type": "text"
      },
      "source": [
        "6. Normalisez les données"
      ]
    },
    {
      "cell_type": "code",
      "metadata": {
        "id": "uLrUmvDaoAjB",
        "colab_type": "code",
        "colab": {
          "base_uri": "https://localhost:8080/",
          "height": 1000
        },
        "outputId": "8e40850d-b887-43e8-8714-832951be4c0c"
      },
      "source": [
        "from sklearn.preprocessing import StandardScaler\n",
        "sc_x = StandardScaler()\n",
        "df2 = sc_x.fit_transform(df2)\n",
        "df2"
      ],
      "execution_count": 6,
      "outputs": [
        {
          "output_type": "execute_result",
          "data": {
            "text/plain": [
              "array([[-4.11148934e-02,  5.23567773e-01],\n",
              "       [ 1.70318354e-01,  5.44457667e-01],\n",
              "       [-2.81571010e-02,  4.08537706e-01],\n",
              "       [-3.92976899e-01, -6.24019925e-01],\n",
              "       [-7.93561833e-02, -5.23964546e-02],\n",
              "       [-2.97637045e-01,  3.34066589e-01],\n",
              "       [-1.02848766e-01, -3.52315651e-01],\n",
              "       [ 1.55358951e-01, -1.13980948e-01],\n",
              "       [-1.85336177e-01, -2.91409401e-01],\n",
              "       [ 1.15142340e+00,  7.18494904e-01],\n",
              "       [ 5.29133322e-01, -5.33459952e-02],\n",
              "       [-3.61161832e-01, -6.33786629e-01],\n",
              "       [ 4.00924920e-01,  8.84800166e-01],\n",
              "       [ 7.40671917e-01,  5.58511794e-02],\n",
              "       [ 4.36111121e-01,  4.97658878e-01],\n",
              "       [-4.35116062e-01, -6.35143116e-01],\n",
              "       [ 4.39271558e-01,  4.09622895e-01],\n",
              "       [-5.28665002e-01,  4.89330975e-02],\n",
              "       [ 2.26258092e-01,  7.19933704e-02],\n",
              "       [ 1.59362172e-01, -4.47812310e-01],\n",
              "       [-3.52839347e-01, -1.73259414e-01],\n",
              "       [-6.25901120e-01, -6.68105741e-01],\n",
              "       [-3.66850619e-01, -5.26217238e-01],\n",
              "       [ 1.48200513e+00,  4.15447557e+00],\n",
              "       [ 6.15307909e-01,  5.39845613e-01],\n",
              "       [-3.75330646e-02, -2.12461878e-01],\n",
              "       [-5.36250052e-01, -6.55897361e-01],\n",
              "       [-5.16866037e-01, -6.77329850e-01],\n",
              "       [ 1.89686519e+00,  1.99237151e+00],\n",
              "       [-5.62797724e-01, -5.01393533e-01],\n",
              "       [ 3.32448781e-01, -2.96564050e-01],\n",
              "       [-5.07595421e-01, -1.97676174e-01],\n",
              "       [-5.33616354e-01, -6.07470788e-01],\n",
              "       [-6.58716513e-02, -1.37041221e-01],\n",
              "       [-5.99353447e-01, -5.17807021e-01],\n",
              "       [ 3.30763215e-01, -4.14089128e-02],\n",
              "       [-2.65821977e-01, -1.94556255e-01],\n",
              "       [ 4.76775412e-01,  6.45651571e-01],\n",
              "       [ 9.22607751e-01,  1.34736211e+00],\n",
              "       [-7.42626599e-01, -7.10970719e-01],\n",
              "       [-3.36510422e-01, -1.98625714e-01],\n",
              "       [-2.10198283e-01, -3.70492572e-01],\n",
              "       [ 7.38459611e-01,  2.38569930e-01],\n",
              "       [ 1.69048864e+00,  7.18766201e-01],\n",
              "       [ 2.65447513e-01,  1.66947435e-01],\n",
              "       [ 1.43059535e+00,  2.20398342e+00],\n",
              "       [ 1.47526287e+00,  1.12218533e+00],\n",
              "       [ 5.01663807e+00,  6.57390514e+00],\n",
              "       [ 3.07270632e-01,  4.82548542e-02],\n",
              "       [ 2.20911638e+00,  2.11825347e+00],\n",
              "       [-6.29061557e-01, -6.37720440e-01],\n",
              "       [-1.00636460e-01, -2.36742989e-01],\n",
              "       [-2.18626115e-01, -2.55055559e-01],\n",
              "       [ 3.77221641e-01,  6.34392732e-01],\n",
              "       [-6.32538038e-01, -5.89700813e-01],\n",
              "       [-3.10384141e-01, -2.86661697e-01],\n",
              "       [ 1.99262643e+00,  3.26855414e+00],\n",
              "       [ 2.67133079e-01,  5.61142453e-01],\n",
              "       [-6.64037062e-01, -5.19027859e-01],\n",
              "       [ 9.34675353e-03, -5.91788878e-02],\n",
              "       [-1.02479570e-02, -3.73205545e-01],\n",
              "       [ 5.44087409e+00,  4.41844787e+00],\n",
              "       [-1.48253714e-01,  6.08701800e-02],\n",
              "       [ 8.24212806e-01,  7.87404425e-01],\n",
              "       [-4.95269716e-01, -6.19814816e-01],\n",
              "       [ 3.99023342e+00,  2.05680462e+00],\n",
              "       [-5.62849919e-02, -5.78170677e-01],\n",
              "       [ 5.80543100e-01,  1.30593593e-01],\n",
              "       [-4.16996222e-01,  1.98553574e-01],\n",
              "       [-7.01435568e-01, -4.03726495e-01],\n",
              "       [-5.00326416e-01, -5.09939399e-01],\n",
              "       [ 1.37908023e+00, -6.14524519e-01],\n",
              "       [-5.57319633e-01, -8.91572425e-02],\n",
              "       [ 8.02458943e-02, -6.29770504e-02],\n",
              "       [ 1.94126981e-01,  7.41637491e-02],\n",
              "       [-8.37334367e-01, -6.32023196e-01],\n",
              "       [-1.49517889e-01, -2.99683969e-01],\n",
              "       [ 2.16897883e+00,  9.36075361e-01],\n",
              "       [-6.19896289e-01, -6.26868547e-01],\n",
              "       [-4.52603814e-01, -3.44176731e-01],\n",
              "       [-5.20658561e-01, -6.73802985e-01],\n",
              "       [ 6.79675479e-01,  5.07832528e-01],\n",
              "       [ 3.22124686e-01,  4.66052740e-01],\n",
              "       [-6.49815094e-01, -5.74236865e-01],\n",
              "       [-3.30505591e-01, -3.34952622e-01],\n",
              "       [ 8.93652831e+00,  5.48030561e+00],\n",
              "       [ 2.54549224e+00,  9.18364979e+00],\n",
              "       [ 1.74585423e-02, -1.04621190e-01],\n",
              "       [-4.11834175e-01, -7.12734151e-01],\n",
              "       [-2.76146072e-01, -2.65907452e-01],\n",
              "       [-6.65090541e-01, -7.05409124e-01],\n",
              "       [-5.71120208e-01, -4.11594117e-01],\n",
              "       [ 2.53706441e+00,  2.94028437e+00],\n",
              "       [-6.20423028e-01, -3.67101355e-01],\n",
              "       [ 3.55203929e-01,  8.71370948e-01],\n",
              "       [-1.79015302e-01, -3.90161628e-01],\n",
              "       [ 1.75638902e-02, -4.31398822e-01],\n",
              "       [-7.73388188e-01, -7.51800967e-01],\n",
              "       [-7.55689740e-01, -7.71063077e-01],\n",
              "       [-6.36541258e-01, -4.90270342e-01],\n",
              "       [ 4.41694560e-01,  2.68955231e-01],\n",
              "       [ 8.76043976e-01,  6.80106332e-01],\n",
              "       [-2.88945363e-02,  8.98989941e-02],\n",
              "       [ 1.00578040e-01, -3.10942808e-01],\n",
              "       [-4.74726874e-01, -4.97052775e-01],\n",
              "       [-4.19419224e-01, -6.48707982e-01],\n",
              "       [ 2.89993575e-01,  7.33498571e-02],\n",
              "       [ 7.30558518e-01,  6.57859951e-01],\n",
              "       [-1.02216679e-01,  3.52786105e-01],\n",
              "       [ 2.21596399e+00,  1.48301077e+00],\n",
              "       [-6.59191058e-01, -5.62706729e-01],\n",
              "       [ 1.01320695e+00,  7.21343525e-01],\n",
              "       [-5.77546431e-01, -4.10508928e-01],\n",
              "       [-6.55082490e-01, -4.74942043e-01],\n",
              "       [-6.26954599e-01, -6.39755170e-01],\n",
              "       [-5.22870868e-01, -6.78686337e-01],\n",
              "       [-4.84208186e-01, -4.44285445e-01],\n",
              "       [-2.70878676e-01, -2.59938911e-01],\n",
              "       [-5.88818657e-01, -5.29744104e-01],\n",
              "       [-6.11468456e-01, -4.68295259e-01],\n",
              "       [-4.78203355e-01, -6.23477330e-01],\n",
              "       [-6.79839247e-01, -3.47567948e-01],\n",
              "       [-8.11840174e-01, -7.58990346e-01],\n",
              "       [ 9.08860328e-02,  6.74544736e-01],\n",
              "       [-5.25715261e-01, -5.63520621e-01],\n",
              "       [-8.94695823e-02, -3.15147917e-01],\n",
              "       [-6.62983582e-01, -5.36662185e-01],\n",
              "       [ 2.87991965e-01,  1.96247547e-01],\n",
              "       [-4.34905366e-01,  4.13828004e-01],\n",
              "       [-6.78575073e-01, -6.60645064e-01],\n",
              "       [-7.64012224e-01, -4.56900771e-01],\n",
              "       [-8.04571168e-01, -7.06358664e-01],\n",
              "       [-5.76492952e-01, -5.10617642e-01],\n",
              "       [-7.07545747e-01, -6.44909819e-01],\n",
              "       [-6.08624063e-01, -5.30964942e-01],\n",
              "       [-5.64693986e-01, -6.11404599e-01],\n",
              "       [-9.70546315e-02,  3.77474162e-01],\n",
              "       [ 3.48409468e-02,  3.09785479e-01],\n",
              "       [-3.07329052e-01, -2.08799364e-01],\n",
              "       [-4.85472361e-01, -1.10861029e-01],\n",
              "       [-6.80839574e-02, -2.05679445e-01],\n",
              "       [-2.91000126e-01,  1.01136037e+00],\n",
              "       [ 3.17858575e-02,  1.83903518e-01],\n",
              "       [-7.22189106e-01, -5.69760459e-01],\n",
              "       [-6.28218774e-01, -2.87475589e-01],\n",
              "       [ 2.82761393e+00,  3.51022672e-01],\n",
              "       [-6.08308019e-01, -5.23639914e-01],\n",
              "       [-5.52473629e-01, -3.28712783e-01],\n",
              "       [-7.80551846e-01, -7.07036908e-01],\n",
              "       [-6.63721018e-01, -5.91871192e-01],\n",
              "       [-6.51711357e-01, -5.38696915e-01],\n",
              "       [-6.24636945e-01, -3.34816973e-01],\n",
              "       [-5.07384725e-01, -6.00281409e-01],\n",
              "       [-5.88186569e-01,  4.68494416e-01],\n",
              "       [-8.23217747e-01, -7.78795051e-01],\n",
              "       [ 1.21241984e+00,  6.63828492e-01],\n",
              "       [ 7.27292733e-01, -6.85386456e-02],\n",
              "       [-5.77019691e-01, -6.00959652e-01],\n",
              "       [ 1.75585749e-01,  1.04955996e-01],\n",
              "       [ 7.09067545e-01,  2.58781581e-01],\n",
              "       [ 5.13120440e-01, -2.91002455e-01],\n",
              "       [-8.07836953e-01, -7.13005449e-01],\n",
              "       [-4.36274889e-01, -5.11702831e-01],\n",
              "       [ 1.99304782e+00,  1.34695516e+00],\n",
              "       [ 6.66560144e-02,  2.45081066e-01],\n",
              "       [ 1.25434831e+00,  9.30106820e-01],\n",
              "       [ 1.28389887e-01,  1.25438944e-01],\n",
              "       [-4.93373454e-01, -3.52858246e-01],\n",
              "       [-7.53056042e-01, -6.86553959e-01],\n",
              "       [-6.10625673e-01, -6.88995635e-01],\n",
              "       [ 5.77171967e-01,  3.90496434e-01],\n",
              "       [ 1.24992369e+00,  2.72189002e+00],\n",
              "       [-1.49096497e-01, -4.30366967e-02],\n",
              "       [ 1.24876487e+00,  2.55119067e-01],\n",
              "       [-2.85522035e-01, -6.22392141e-01],\n",
              "       [ 4.13250625e-01,  2.77908043e-01],\n",
              "       [-1.49096497e-01,  1.57587677e-01],\n",
              "       [-3.60108353e-01,  2.08048981e-01],\n",
              "       [-3.16705016e-01,  1.73458571e-01],\n",
              "       [-5.74280646e-01, -1.23205057e-01],\n",
              "       [ 9.85764299e-02,  3.25196092e-02],\n",
              "       [ 1.07420339e+00,  3.23260724e+00],\n",
              "       [ 2.70398865e-01,  3.71234323e-01],\n",
              "       [ 1.28721685e+00,  5.17550306e+00],\n",
              "       [-3.41461773e-01, -6.61730254e-01],\n",
              "       [-7.17659146e-01,  8.84068588e-02],\n",
              "       [-7.47683299e-01, -7.15582773e-01],\n",
              "       [ 1.96760678e-01,  2.99204883e-01],\n",
              "       [ 3.93550567e-01,  2.49964418e-01],\n",
              "       [ 3.76168162e-01,  7.84148857e-01],\n",
              "       [-6.28956209e-01,  6.15484233e-02],\n",
              "       [-6.92164952e-01, -7.46239371e-01],\n",
              "       [-6.00512274e-01, -5.88073029e-01],\n",
              "       [ 1.30006930e+00, -3.13520133e-01],\n",
              "       [-5.24345738e-01, -6.48979279e-01],\n",
              "       [-2.86680862e-01, -8.91572425e-02],\n",
              "       [-3.21761715e-01,  1.91635492e-01],\n",
              "       [ 2.57019681e-01,  1.76442842e-01],\n",
              "       [-1.18756300e-01, -4.94068505e-01],\n",
              "       [-6.15155633e-01, -4.76976773e-01],\n",
              "       [ 1.59873061e+00,  1.00973259e+00],\n",
              "       [ 1.76528565e+00,  1.16694939e+00],\n",
              "       [ 1.62101217e-01,  7.71940477e-01],\n",
              "       [-6.04199451e-01, -6.93336392e-01],\n",
              "       [-2.87102254e-01, -6.65392768e-01],\n",
              "       [ 1.64813878e+00,  8.02325778e-01],\n",
              "       [-7.37569900e-01, -6.80449769e-01],\n",
              "       [-1.96187011e-01, -1.43688005e-01],\n",
              "       [-2.22629335e-01, -2.77844534e-01],\n",
              "       [ 9.28717929e-01,  9.40416118e-01],\n",
              "       [-6.90900778e-01, -5.29201509e-01],\n",
              "       [ 3.34402937e+00,  3.05612833e+00],\n",
              "       [-6.20423028e-01, -6.48979279e-01],\n",
              "       [-1.14858428e-01,  1.09296753e-01],\n",
              "       [ 3.59523193e-01,  1.02378671e-01],\n",
              "       [ 7.99245353e-01,  6.74002142e-01],\n",
              "       [ 3.00607329e+00,  1.46537645e+00],\n",
              "       [-6.22108595e-01, -5.86173948e-01],\n",
              "       [ 7.64164500e-01,  2.31651848e-01],\n",
              "       [-6.91216821e-01, -7.36472668e-01],\n",
              "       [-6.92059605e-01, -6.64307578e-01],\n",
              "       [ 2.83883397e-01,  2.31516199e-01],\n",
              "       [-5.36776791e-01, -6.35007467e-01],\n",
              "       [-2.82993686e-01, -4.43471553e-01],\n",
              "       [-6.79733900e-01, -6.96863258e-01],\n",
              "       [-3.99719165e-01, -3.46347110e-01],\n",
              "       [ 1.32814499e-01,  1.69200128e-02],\n",
              "       [-6.72991634e-01, -4.87286072e-01],\n",
              "       [-7.77391408e-01, -7.07986448e-01],\n",
              "       [-5.74175298e-01, -4.13764496e-01],\n",
              "       [-2.46121918e-01,  2.61441220e-02],\n",
              "       [-4.34378626e-01,  6.62200708e-01],\n",
              "       [-4.33325147e-01, -5.44801105e-01],\n",
              "       [-4.88316754e-01, -1.10182785e-01],\n",
              "       [-4.33851887e-01, -4.19597388e-01],\n",
              "       [-5.40147924e-01,  7.91827496e-02],\n",
              "       [-5.16655341e-01, -6.75023823e-01],\n",
              "       [-7.75179102e-01, -2.65636155e-01],\n",
              "       [-7.76021886e-01, -7.21822612e-01],\n",
              "       [-4.39540674e-01, -4.38045607e-01],\n",
              "       [-9.58958046e-02, -3.01311753e-01],\n",
              "       [-5.76914343e-01, -5.41952483e-01],\n",
              "       [-5.30666613e-01, -6.96863258e-01],\n",
              "       [-2.98374480e-01, -3.01176105e-01],\n",
              "       [ 3.01897888e-01,  2.68412636e-01],\n",
              "       [ 6.28371049e-01,  4.85261515e-02],\n",
              "       [-6.50447182e-01, -4.56900771e-01],\n",
              "       [-7.86135285e-01, -7.39321290e-01],\n",
              "       [-5.84183349e-01, -7.01664296e-02],\n",
              "       [-6.19580245e-01, -2.71469047e-01],\n",
              "       [-6.48129528e-01, -5.15907940e-01],\n",
              "       [ 2.70056436e+00,  2.35170482e+00],\n",
              "       [-3.38301336e-01, -5.33949212e-01],\n",
              "       [ 9.49682162e-01,  2.93643288e-01],\n",
              "       [-3.37458553e-01,  1.65162206e+00],\n",
              "       [-6.80155291e-01, -7.19923531e-01],\n",
              "       [-2.84679252e-01, -1.06927218e-01],\n",
              "       [-6.39280304e-01, -5.24318157e-01],\n",
              "       [-6.13891458e-01, -1.67290873e-01],\n",
              "       [-6.48181723e-02, -1.13574002e-01],\n",
              "       [-6.10414977e-01, -1.23612003e-01],\n",
              "       [-7.22399801e-01, -6.35685710e-01],\n",
              "       [-6.60981972e-01, -6.00145760e-01],\n",
              "       [-1.33505007e-01, -6.35007467e-01],\n",
              "       [ 7.89447997e-01,  5.26687692e-01],\n",
              "       [ 6.05510554e-01,  2.40515039e+00],\n",
              "       [ 1.49917684e+00,  5.38082180e-01],\n",
              "       [-5.66274205e-01, -6.20493060e-01],\n",
              "       [ 1.25318948e+00,  3.06122965e-01],\n",
              "       [-7.17764494e-01, -7.51258372e-01],\n",
              "       [-7.34936202e-01, -6.46266306e-01],\n",
              "       [-6.72991634e-01, -1.07062866e-01],\n",
              "       [-1.14015644e-01,  3.42748104e-01],\n",
              "       [-6.80365987e-01, -3.73205545e-01],\n",
              "       [-6.43704916e-01, -5.55246052e-01],\n",
              "       [-8.14157828e-01, -5.67861378e-01],\n",
              "       [-1.04007593e-01, -2.77708886e-01],\n",
              "       [-7.65697791e-01, -6.73802985e-01],\n",
              "       [-5.69750686e-01, -4.71957773e-01],\n",
              "       [ 1.83592190e-01,  5.47659901e-02],\n",
              "       [-5.81549651e-01, -3.95044980e-01],\n",
              "       [-1.80806217e-01,  1.77934977e-01],\n",
              "       [-3.89711114e-01, -2.48408774e-01],\n",
              "       [-6.25585076e-01, -2.96157104e-01],\n",
              "       [ 4.90681336e-01, -1.87909470e-01],\n",
              "       [-4.58397949e-01, -6.99440582e-01],\n",
              "       [-7.06808311e-01, -4.81453179e-01],\n",
              "       [-5.39726532e-01, -5.01122235e-01],\n",
              "       [-7.01119524e-01, -7.05680421e-01],\n",
              "       [-7.88031547e-01, -7.47460209e-01],\n",
              "       [-5.59321243e-01, -4.93254613e-01],\n",
              "       [-4.94110889e-01, -3.31290108e-01],\n",
              "       [-3.81599326e-01, -3.67643950e-01],\n",
              "       [ 4.75932629e-01,  7.19851390e-01],\n",
              "       [-1.47621626e-01, -5.13194967e-01],\n",
              "       [-2.86259471e-01, -5.28930212e-01],\n",
              "       [-4.53867989e-01, -6.09369869e-01],\n",
              "       [-1.01689939e-01, -3.52315651e-01],\n",
              "       [ 2.12141473e-01, -1.67697819e-01],\n",
              "       [-6.20633724e-01, -6.67020552e-01],\n",
              "       [-1.67637729e-01,  6.05988826e-02],\n",
              "       [ 1.31134152e+00,  1.02004188e+00],\n",
              "       [ 1.93178849e-01, -6.70465103e-02],\n",
              "       [ 6.19205781e-01, -2.85983454e-01],\n",
              "       [ 1.77213326e+00,  2.25683307e-01],\n",
              "       [ 9.48892532e-02,  9.68902337e-01],\n",
              "       [ 1.43470392e+00,  9.59135634e-01],\n",
              "       [-5.38251662e-01, -4.64225799e-01],\n",
              "       [-5.20869257e-01, -6.47894090e-01],\n",
              "       [ 5.91604630e-01,  2.01556743e+00],\n",
              "       [-5.84288697e-01, -5.83867921e-01],\n",
              "       [ 3.46302510e-02, -4.69516097e-01],\n",
              "       [ 1.18207964e+00, -2.79336670e-01],\n",
              "       [-5.84288697e-01, -6.60780713e-01],\n",
              "       [-3.20549735e-02, -5.42766375e-01],\n",
              "       [ 4.18518020e-01,  1.24603256e+00],\n",
              "       [-6.05779670e-01, -5.99738814e-01],\n",
              "       [-1.93553313e-01, -3.67372653e-01],\n",
              "       [-4.62822561e-01, -4.18240902e-01],\n",
              "       [ 1.02121339e+00,  2.61459193e+00],\n",
              "       [-5.97457185e-01, -2.84898265e-01],\n",
              "       [-2.93317780e-01, -5.28930212e-01],\n",
              "       [-4.88422102e-01, -6.89538230e-01],\n",
              "       [ 3.83647864e-01, -6.58203388e-01],\n",
              "       [-5.78073170e-01, -2.99683969e-01],\n",
              "       [ 5.97820156e-01,  1.49047145e+00],\n",
              "       [-6.86897557e-01, -5.67861378e-01],\n",
              "       [-6.62351495e-01, -6.64307578e-01],\n",
              "       [-4.80626357e-01, -4.86607828e-01],\n",
              "       [-3.54840957e-01, -5.84681812e-01],\n",
              "       [-2.99427959e-01, -5.43987213e-01],\n",
              "       [ 1.98978204e+00,  1.23233204e+00],\n",
              "       [-6.85211991e-01, -3.50009624e-01],\n",
              "       [ 6.25205297e+00, -1.10725380e-01],\n",
              "       [-5.48681104e-01, -6.60373767e-01],\n",
              "       [ 2.99053495e-01,  1.38461216e-01],\n",
              "       [-6.97537696e-01, -5.81290596e-01],\n",
              "       [-5.62587028e-01, -6.03536977e-01],\n",
              "       [-9.80027627e-02, -7.41084722e-01],\n",
              "       [-2.75935376e-01, -6.25105114e-01],\n",
              "       [ 1.81063840e-01, -2.40269854e-01],\n",
              "       [ 3.46249357e-01, -4.51247613e-03],\n",
              "       [-2.13674763e-01, -5.19071945e-03],\n",
              "       [ 1.93468508e+00,  1.58401569e-01],\n",
              "       [-6.51922052e-01, -6.27275493e-01],\n",
              "       [ 4.04243858e-02, -4.33297903e-01],\n",
              "       [ 7.99561396e-01,  1.55010353e-01],\n",
              "       [ 4.59287660e-01,  1.88244276e-01],\n",
              "       [-6.24004857e-01, -4.63411907e-01],\n",
              "       [ 1.32419397e+00,  1.19977636e+00],\n",
              "       [-6.27270642e-01, -6.37177845e-01],\n",
              "       [ 1.51097581e+00,  5.76199455e-01],\n",
              "       [-6.76152071e-01, -6.36228305e-01],\n",
              "       [ 1.39604124e+00,  6.34475046e-02],\n",
              "       [-5.69223946e-01,  2.16594846e-01],\n",
              "       [-6.25690424e-01, -6.87639149e-01],\n",
              "       [-8.14684567e-01, -7.68078806e-01],\n",
              "       [ 1.50865815e+00, -6.13303681e-01],\n",
              "       [-6.62772887e-01,  1.74549094e+00],\n",
              "       [-6.15471677e-01,  1.10871202e-02],\n",
              "       [-6.26322511e-01, -3.96672764e-01],\n",
              "       [-7.46629820e-01, -7.03916988e-01],\n",
              "       [-5.79231997e-01, -5.69082216e-01],\n",
              "       [-3.70116404e-01, -6.51014009e-01],\n",
              "       [-6.77100202e-01, -6.67834444e-01],\n",
              "       [ 7.76653494e-03,  4.49992863e-02],\n",
              "       [-6.62351495e-01, -4.85522639e-01],\n",
              "       [-7.81394629e-01, -6.64985822e-01],\n",
              "       [-5.84183349e-01, -6.24019925e-01],\n",
              "       [-7.65697791e-01, -7.40542128e-01],\n",
              "       [-3.15651536e-01, -2.51257396e-01],\n",
              "       [-6.33380821e-01, -5.30286698e-01],\n",
              "       [-6.64774497e-01, -2.70655155e-01],\n",
              "       [-5.82866021e-02,  6.24979639e-02],\n",
              "       [-6.61930103e-01, -4.80232341e-01],\n",
              "       [-7.15236144e-01, -5.89565164e-01],\n",
              "       [ 5.93606240e-01,  3.84392244e-01],\n",
              "       [-5.58689156e-01, -3.58419841e-01],\n",
              "       [-6.37278693e-01, -3.39429028e-01],\n",
              "       [ 2.57019681e-01, -8.57660259e-02],\n",
              "       [-6.11573804e-01, -6.58203388e-01],\n",
              "       [-6.67302847e-01, -1.63492710e-01],\n",
              "       [ 5.45410052e-02,  2.22292090e-01],\n",
              "       [-4.74200135e-01, -6.01230950e-01],\n",
              "       [ 7.84707342e-01,  2.17875277e+00],\n",
              "       [-6.67618890e-01, -6.61187659e-01],\n",
              "       [-5.36671443e-01, -2.95207563e-01],\n",
              "       [-6.71938154e-01, -5.26352887e-01],\n",
              "       [-7.14182665e-01, -6.71225660e-01],\n",
              "       [-6.87845688e-01, -5.78713271e-01],\n",
              "       [-6.97748391e-01, -6.26054655e-01],\n",
              "       [-5.93980704e-01, -4.11729766e-01],\n",
              "       [-4.58397949e-01, -2.19244311e-01],\n",
              "       [-4.32903756e-01,  1.26659782e-01],\n",
              "       [-5.00115720e-01, -6.68919633e-01],\n",
              "       [-7.04596005e-01, -6.07742085e-01],\n",
              "       [ 1.46825771e-01,  8.40307404e-01],\n",
              "       [-6.87213601e-01, -5.60265053e-01],\n",
              "       [-7.76337929e-01, -6.46266306e-01],\n",
              "       [-7.39150119e-01, -7.07986448e-01],\n",
              "       [-7.07229703e-01, -6.63358038e-01],\n",
              "       [-6.13470067e-01, -4.06303819e-01],\n",
              "       [-3.01324221e-01, -1.41517627e-01],\n",
              "       [-3.52628651e-01,  7.06693470e-01],\n",
              "       [-4.74832222e-01, -1.60508440e-01],\n",
              "       [-7.14709404e-01, -6.44367225e-01],\n",
              "       [-3.08171835e-01, -1.06655920e-01],\n",
              "       [ 1.13056452e+00,  9.56015714e-01],\n",
              "       [-1.62686377e-01, -2.59938911e-01],\n",
              "       [-1.95028184e-01, -2.93308482e-01],\n",
              "       [-3.56947916e-01, -5.01936127e-01],\n",
              "       [-4.92003931e-01, -3.40107271e-01],\n",
              "       [ 4.68663624e-01, -2.97242293e-01],\n",
              "       [-1.38877750e-01, -1.27138868e-01],\n",
              "       [-4.77676616e-01, -5.16314886e-01],\n",
              "       [ 6.32848814e-02,  3.38760958e-02],\n",
              "       [ 3.11484548e-01,  6.97740658e-01],\n",
              "       [ 3.26970690e-01, -4.03237235e-02],\n",
              "       [ 1.12413829e+00,  3.65944026e-01],\n",
              "       [-6.03462016e-01, -2.73096831e-01],\n",
              "       [ 5.55786342e-01, -7.19298622e-02],\n",
              "       [ 1.16064182e-01, -1.28766652e-01],\n",
              "       [-3.98138947e-01, -5.99467517e-01],\n",
              "       [-3.47045212e-01, -2.86254751e-01],\n",
              "       [ 4.50965175e-01, -3.95044980e-01],\n",
              "       [-5.64483290e-01, -4.59613744e-01],\n",
              "       [ 6.70510212e-01,  4.81652336e-01],\n",
              "       [-2.65716629e-01,  1.47731353e+00],\n",
              "       [-3.20392192e-01,  2.35667973e-02],\n",
              "       [-4.60504907e-01, -5.48870565e-01],\n",
              "       [ 8.98799124e-01, -2.12461878e-01],\n",
              "       [-2.94055216e-01, -3.93741828e-02],\n",
              "       [-3.36826466e-01, -6.28631980e-01],\n",
              "       [-6.80365987e-01, -3.49738326e-01],\n",
              "       [ 4.50074986e-03, -2.54241667e-01],\n",
              "       [ 8.50760479e-01,  8.48446324e-01],\n",
              "       [-7.57164610e-01, -5.92142489e-01],\n",
              "       [ 2.34838631e+00,  1.31467078e+00],\n",
              "       [-6.02513884e-01, -5.17535724e-01],\n",
              "       [-5.73227167e-01, -5.55924296e-01]])"
            ]
          },
          "metadata": {
            "tags": []
          },
          "execution_count": 6
        }
      ]
    },
    {
      "cell_type": "code",
      "metadata": {
        "id": "sJ7XsOr4X1EZ",
        "colab_type": "code",
        "outputId": "1b7cf93a-6e4d-4a63-82ba-3a49f1d84a3f",
        "colab": {
          "base_uri": "https://localhost:8080/",
          "height": 106
        }
      },
      "source": [
        ""
      ],
      "execution_count": 0,
      "outputs": [
        {
          "output_type": "stream",
          "text": [
            "/usr/local/lib/python3.6/dist-packages/sklearn/preprocessing/data.py:645: DataConversionWarning: Data with input dtype int64 were all converted to float64 by StandardScaler.\n",
            "  return self.partial_fit(X, y)\n",
            "/usr/local/lib/python3.6/dist-packages/ipykernel_launcher.py:3: DataConversionWarning: Data with input dtype int64 were all converted to float64 by StandardScaler.\n",
            "  This is separate from the ipykernel package so we can avoid doing imports until\n"
          ],
          "name": "stderr"
        }
      ]
    },
    {
      "cell_type": "markdown",
      "metadata": {
        "id": "Ut3ZVai6YuLf",
        "colab_type": "text"
      },
      "source": [
        "7. Définissez une instance de DBSCAN avec les paramètres eps = .5, \n",
        "min_samples = 15"
      ]
    },
    {
      "cell_type": "code",
      "metadata": {
        "id": "a_LY8XRFYfKw",
        "colab_type": "code",
        "colab": {
          "base_uri": "https://localhost:8080/",
          "height": 53
        },
        "outputId": "ae8aefa1-7939-48c4-efb3-05a7ad80282e"
      },
      "source": [
        "from sklearn.cluster import DBSCAN\n",
        "\n",
        "clustering = DBSCAN(eps=0.5, min_samples=15).fit(df2)\n",
        "clustering.labels_\n",
        "\n",
        "clustering "
      ],
      "execution_count": 7,
      "outputs": [
        {
          "output_type": "execute_result",
          "data": {
            "text/plain": [
              "DBSCAN(algorithm='auto', eps=0.5, leaf_size=30, metric='euclidean',\n",
              "       metric_params=None, min_samples=15, n_jobs=None, p=None)"
            ]
          },
          "metadata": {
            "tags": []
          },
          "execution_count": 7
        }
      ]
    },
    {
      "cell_type": "markdown",
      "metadata": {
        "id": "i8gnsNL5Y2_H",
        "colab_type": "text"
      },
      "source": [
        "8. Créez un objet dbscan_predict qui contient les classes définies par DBSCAN"
      ]
    },
    {
      "cell_type": "code",
      "metadata": {
        "id": "KeU-MdJ-YqGE",
        "colab_type": "code",
        "colab": {}
      },
      "source": [
        "dbscan_predict = clustering.fit_predict(df2)\n",
        "dbscan_predict"
      ],
      "execution_count": 0,
      "outputs": []
    },
    {
      "cell_type": "markdown",
      "metadata": {
        "id": "IKCFIaNGY6LO",
        "colab_type": "text"
      },
      "source": [
        "9. Visualisez les données en colorant les points en fonction de la classe trouvée par DBSCAN"
      ]
    },
    {
      "cell_type": "code",
      "metadata": {
        "id": "g1Q-ih3qqDne",
        "colab_type": "code",
        "colab": {
          "base_uri": "https://localhost:8080/",
          "height": 72
        },
        "outputId": "8542686e-aa02-41d5-b65b-fec5900a0f9f"
      },
      "source": [
        "print(len(clustering.labels_))\n",
        "print(len(dbscan_predict))\n",
        "print(len(df2))"
      ],
      "execution_count": 13,
      "outputs": [
        {
          "output_type": "stream",
          "text": [
            "440\n",
            "440\n",
            "440\n"
          ],
          "name": "stdout"
        }
      ]
    },
    {
      "cell_type": "code",
      "metadata": {
        "id": "EQvyZOtnrRnq",
        "colab_type": "code",
        "colab": {
          "base_uri": "https://localhost:8080/",
          "height": 489
        },
        "outputId": "18045b03-06fa-4f23-f7ba-c3d15435823c"
      },
      "source": [
        "dbscan_predict"
      ],
      "execution_count": 19,
      "outputs": [
        {
          "output_type": "execute_result",
          "data": {
            "text/plain": [
              "array([ 0,  0,  0,  0,  0,  0,  0,  0,  0,  0,  0,  0,  0,  0,  0,  0,  0,\n",
              "        0,  0,  0,  0,  0,  0, -1,  0,  0,  0,  0, -1,  0,  0,  0,  0,  0,\n",
              "        0,  0,  0,  0,  0,  0,  0,  0,  0,  0,  0, -1,  0, -1,  0, -1,  0,\n",
              "        0,  0,  0,  0,  0, -1,  0,  0,  0,  0, -1,  0,  0,  0, -1,  0,  0,\n",
              "        0,  0,  0, -1,  0,  0,  0,  0,  0, -1,  0,  0,  0,  0,  0,  0,  0,\n",
              "       -1, -1,  0,  0,  0,  0,  0, -1,  0,  0,  0,  0,  0,  0,  0,  0,  0,\n",
              "        0,  0,  0,  0,  0,  0,  0, -1,  0,  0,  0,  0,  0,  0,  0,  0,  0,\n",
              "        0,  0,  0,  0,  0,  0,  0,  0,  0,  0,  0,  0,  0,  0,  0,  0,  0,\n",
              "        0,  0,  0,  0,  0,  0,  0,  0,  0, -1,  0,  0,  0,  0,  0,  0,  0,\n",
              "        0,  0,  0,  0,  0,  0,  0,  0,  0,  0, -1,  0,  0,  0,  0,  0,  0,\n",
              "        0, -1,  0,  0,  0,  0,  0,  0,  0,  0,  0, -1,  0, -1,  0,  0,  0,\n",
              "        0,  0,  0,  0,  0,  0,  0,  0,  0,  0,  0,  0,  0,  0,  0,  0,  0,\n",
              "        0,  0,  0,  0,  0,  0,  0, -1,  0,  0,  0,  0, -1,  0,  0,  0,  0,\n",
              "        0,  0,  0,  0,  0,  0,  0,  0,  0,  0,  0,  0,  0,  0,  0,  0,  0,\n",
              "        0,  0,  0,  0,  0,  0,  0,  0,  0,  0,  0,  0,  0, -1,  0,  0, -1,\n",
              "        0,  0,  0,  0,  0,  0,  0,  0,  0,  0, -1,  0,  0,  0,  0,  0,  0,\n",
              "        0,  0,  0,  0,  0,  0,  0,  0,  0,  0,  0,  0,  0,  0,  0,  0,  0,\n",
              "        0,  0,  0,  0,  0,  0,  0,  0,  0,  0,  0,  0,  0,  0,  0, -1,  0,\n",
              "        0,  0,  0, -1,  0,  0,  0,  0,  0,  0,  0,  0,  0, -1,  0,  0,  0,\n",
              "        0,  0, -1,  0,  0,  0,  0,  0, -1,  0, -1,  0,  0,  0,  0,  0,  0,\n",
              "        0,  0,  0, -1,  0,  0,  0,  0,  0,  0,  0,  0,  0,  0,  0,  0,  0,\n",
              "       -1, -1,  0,  0,  0,  0,  0,  0,  0,  0,  0,  0,  0,  0,  0,  0,  0,\n",
              "        0,  0,  0,  0,  0,  0,  0,  0,  0,  0, -1,  0,  0,  0,  0,  0,  0,\n",
              "        0,  0,  0,  0,  0,  0,  0,  0,  0,  0,  0,  0,  0,  0,  0,  0,  0,\n",
              "        0,  0,  0,  0,  0,  0,  0,  0,  0,  0,  0,  0,  0,  0,  0,  0,  0,\n",
              "        0,  0, -1,  0,  0,  0,  0,  0,  0,  0,  0,  0, -1,  0,  0])"
            ]
          },
          "metadata": {
            "tags": []
          },
          "execution_count": 19
        }
      ]
    },
    {
      "cell_type": "code",
      "metadata": {
        "id": "PmLcVYETqs-x",
        "colab_type": "code",
        "colab": {}
      },
      "source": [
        "df2 = pd.DataFrame(df2)\n",
        "df2[\"dbs\"] = dbscan_predict\n",
        "df2"
      ],
      "execution_count": 0,
      "outputs": []
    },
    {
      "cell_type": "code",
      "metadata": {
        "id": "bIUu48wgruGF",
        "colab_type": "code",
        "colab": {}
      },
      "source": [
        "df2.columns = [\"Milk\", \"Grocery\", \"dbs\"]"
      ],
      "execution_count": 0,
      "outputs": []
    },
    {
      "cell_type": "code",
      "metadata": {
        "id": "7jqUWDgkr6Tp",
        "colab_type": "code",
        "colab": {
          "base_uri": "https://localhost:8080/",
          "height": 206
        },
        "outputId": "0c089820-b21e-4ea8-9221-310ba95bacba"
      },
      "source": [
        "df2.head()"
      ],
      "execution_count": 25,
      "outputs": [
        {
          "output_type": "execute_result",
          "data": {
            "text/html": [
              "<div>\n",
              "<style scoped>\n",
              "    .dataframe tbody tr th:only-of-type {\n",
              "        vertical-align: middle;\n",
              "    }\n",
              "\n",
              "    .dataframe tbody tr th {\n",
              "        vertical-align: top;\n",
              "    }\n",
              "\n",
              "    .dataframe thead th {\n",
              "        text-align: right;\n",
              "    }\n",
              "</style>\n",
              "<table border=\"1\" class=\"dataframe\">\n",
              "  <thead>\n",
              "    <tr style=\"text-align: right;\">\n",
              "      <th></th>\n",
              "      <th>Milk</th>\n",
              "      <th>Grocery</th>\n",
              "      <th>dbs</th>\n",
              "    </tr>\n",
              "  </thead>\n",
              "  <tbody>\n",
              "    <tr>\n",
              "      <th>0</th>\n",
              "      <td>-0.041115</td>\n",
              "      <td>0.523568</td>\n",
              "      <td>0</td>\n",
              "    </tr>\n",
              "    <tr>\n",
              "      <th>1</th>\n",
              "      <td>0.170318</td>\n",
              "      <td>0.544458</td>\n",
              "      <td>0</td>\n",
              "    </tr>\n",
              "    <tr>\n",
              "      <th>2</th>\n",
              "      <td>-0.028157</td>\n",
              "      <td>0.408538</td>\n",
              "      <td>0</td>\n",
              "    </tr>\n",
              "    <tr>\n",
              "      <th>3</th>\n",
              "      <td>-0.392977</td>\n",
              "      <td>-0.624020</td>\n",
              "      <td>0</td>\n",
              "    </tr>\n",
              "    <tr>\n",
              "      <th>4</th>\n",
              "      <td>-0.079356</td>\n",
              "      <td>-0.052396</td>\n",
              "      <td>0</td>\n",
              "    </tr>\n",
              "  </tbody>\n",
              "</table>\n",
              "</div>"
            ],
            "text/plain": [
              "       Milk   Grocery  dbs\n",
              "0 -0.041115  0.523568    0\n",
              "1  0.170318  0.544458    0\n",
              "2 -0.028157  0.408538    0\n",
              "3 -0.392977 -0.624020    0\n",
              "4 -0.079356 -0.052396    0"
            ]
          },
          "metadata": {
            "tags": []
          },
          "execution_count": 25
        }
      ]
    },
    {
      "cell_type": "code",
      "metadata": {
        "id": "Fp3i4EiKo4Bb",
        "colab_type": "code",
        "colab": {
          "base_uri": "https://localhost:8080/",
          "height": 301
        },
        "outputId": "ab5108f9-6c75-419a-8880-3b433d036c07"
      },
      "source": [
        "sns.scatterplot(x= \"Milk\", y = \"Grocery\", data = df2, hue = \"dbs\")"
      ],
      "execution_count": 27,
      "outputs": [
        {
          "output_type": "execute_result",
          "data": {
            "text/plain": [
              "<matplotlib.axes._subplots.AxesSubplot at 0x7f6cd1936be0>"
            ]
          },
          "metadata": {
            "tags": []
          },
          "execution_count": 27
        },
        {
          "output_type": "display_data",
          "data": {
            "image/png": "[encoded data removed]",
            "text/plain": [
              "<Figure size 432x288 with 1 Axes>"
            ]
          },
          "metadata": {
            "tags": []
          }
        }
      ]
    },
    {
      "cell_type": "code",
      "metadata": {
        "id": "cC4XprmXY8ux",
        "colab_type": "code",
        "outputId": "d8dc7d96-b331-4cba-d97f-5849e61faaa3",
        "colab": {
          "base_uri": "https://localhost:8080/",
          "height": 286
        }
      },
      "source": [
        ""
      ],
      "execution_count": 0,
      "outputs": [
        {
          "output_type": "execute_result",
          "data": {
            "text/plain": [
              "<matplotlib.axes._subplots.AxesSubplot at 0x7fda33c51fd0>"
            ]
          },
          "metadata": {
            "tags": []
          },
          "execution_count": 19
        },
        {
          "output_type": "display_data",
          "data": {
            "image/png": "[encoded data removed]",
            "text/plain": [
              "<Figure size 432x288 with 1 Axes>"
            ]
          },
          "metadata": {
            "tags": []
          }
        }
      ]
    },
    {
      "cell_type": "code",
      "metadata": {
        "id": "diqf462aY-Q8",
        "colab_type": "code",
        "colab": {
          "base_uri": "https://localhost:8080/",
          "height": 1000
        },
        "outputId": "951c4055-9532-4aeb-85a5-e7c11387c3d6"
      },
      "source": [
        "#isoler cluster 0\n",
        "df2[dbscan_predict==0]"
      ],
      "execution_count": 28,
      "outputs": [
        {
          "output_type": "execute_result",
          "data": {
            "text/html": [
              "<div>\n",
              "<style scoped>\n",
              "    .dataframe tbody tr th:only-of-type {\n",
              "        vertical-align: middle;\n",
              "    }\n",
              "\n",
              "    .dataframe tbody tr th {\n",
              "        vertical-align: top;\n",
              "    }\n",
              "\n",
              "    .dataframe thead th {\n",
              "        text-align: right;\n",
              "    }\n",
              "</style>\n",
              "<table border=\"1\" class=\"dataframe\">\n",
              "  <thead>\n",
              "    <tr style=\"text-align: right;\">\n",
              "      <th></th>\n",
              "      <th>Milk</th>\n",
              "      <th>Grocery</th>\n",
              "      <th>dbs</th>\n",
              "    </tr>\n",
              "  </thead>\n",
              "  <tbody>\n",
              "    <tr>\n",
              "      <th>0</th>\n",
              "      <td>-0.041115</td>\n",
              "      <td>0.523568</td>\n",
              "      <td>0</td>\n",
              "    </tr>\n",
              "    <tr>\n",
              "      <th>1</th>\n",
              "      <td>0.170318</td>\n",
              "      <td>0.544458</td>\n",
              "      <td>0</td>\n",
              "    </tr>\n",
              "    <tr>\n",
              "      <th>2</th>\n",
              "      <td>-0.028157</td>\n",
              "      <td>0.408538</td>\n",
              "      <td>0</td>\n",
              "    </tr>\n",
              "    <tr>\n",
              "      <th>3</th>\n",
              "      <td>-0.392977</td>\n",
              "      <td>-0.624020</td>\n",
              "      <td>0</td>\n",
              "    </tr>\n",
              "    <tr>\n",
              "      <th>4</th>\n",
              "      <td>-0.079356</td>\n",
              "      <td>-0.052396</td>\n",
              "      <td>0</td>\n",
              "    </tr>\n",
              "    <tr>\n",
              "      <th>5</th>\n",
              "      <td>-0.297637</td>\n",
              "      <td>0.334067</td>\n",
              "      <td>0</td>\n",
              "    </tr>\n",
              "    <tr>\n",
              "      <th>6</th>\n",
              "      <td>-0.102849</td>\n",
              "      <td>-0.352316</td>\n",
              "      <td>0</td>\n",
              "    </tr>\n",
              "    <tr>\n",
              "      <th>7</th>\n",
              "      <td>0.155359</td>\n",
              "      <td>-0.113981</td>\n",
              "      <td>0</td>\n",
              "    </tr>\n",
              "    <tr>\n",
              "      <th>8</th>\n",
              "      <td>-0.185336</td>\n",
              "      <td>-0.291409</td>\n",
              "      <td>0</td>\n",
              "    </tr>\n",
              "    <tr>\n",
              "      <th>9</th>\n",
              "      <td>1.151423</td>\n",
              "      <td>0.718495</td>\n",
              "      <td>0</td>\n",
              "    </tr>\n",
              "    <tr>\n",
              "      <th>10</th>\n",
              "      <td>0.529133</td>\n",
              "      <td>-0.053346</td>\n",
              "      <td>0</td>\n",
              "    </tr>\n",
              "    <tr>\n",
              "      <th>11</th>\n",
              "      <td>-0.361162</td>\n",
              "      <td>-0.633787</td>\n",
              "      <td>0</td>\n",
              "    </tr>\n",
              "    <tr>\n",
              "      <th>12</th>\n",
              "      <td>0.400925</td>\n",
              "      <td>0.884800</td>\n",
              "      <td>0</td>\n",
              "    </tr>\n",
              "    <tr>\n",
              "      <th>13</th>\n",
              "      <td>0.740672</td>\n",
              "      <td>0.055851</td>\n",
              "      <td>0</td>\n",
              "    </tr>\n",
              "    <tr>\n",
              "      <th>14</th>\n",
              "      <td>0.436111</td>\n",
              "      <td>0.497659</td>\n",
              "      <td>0</td>\n",
              "    </tr>\n",
              "    <tr>\n",
              "      <th>15</th>\n",
              "      <td>-0.435116</td>\n",
              "      <td>-0.635143</td>\n",
              "      <td>0</td>\n",
              "    </tr>\n",
              "    <tr>\n",
              "      <th>16</th>\n",
              "      <td>0.439272</td>\n",
              "      <td>0.409623</td>\n",
              "      <td>0</td>\n",
              "    </tr>\n",
              "    <tr>\n",
              "      <th>17</th>\n",
              "      <td>-0.528665</td>\n",
              "      <td>0.048933</td>\n",
              "      <td>0</td>\n",
              "    </tr>\n",
              "    <tr>\n",
              "      <th>18</th>\n",
              "      <td>0.226258</td>\n",
              "      <td>0.071993</td>\n",
              "      <td>0</td>\n",
              "    </tr>\n",
              "    <tr>\n",
              "      <th>19</th>\n",
              "      <td>0.159362</td>\n",
              "      <td>-0.447812</td>\n",
              "      <td>0</td>\n",
              "    </tr>\n",
              "    <tr>\n",
              "      <th>20</th>\n",
              "      <td>-0.352839</td>\n",
              "      <td>-0.173259</td>\n",
              "      <td>0</td>\n",
              "    </tr>\n",
              "    <tr>\n",
              "      <th>21</th>\n",
              "      <td>-0.625901</td>\n",
              "      <td>-0.668106</td>\n",
              "      <td>0</td>\n",
              "    </tr>\n",
              "    <tr>\n",
              "      <th>22</th>\n",
              "      <td>-0.366851</td>\n",
              "      <td>-0.526217</td>\n",
              "      <td>0</td>\n",
              "    </tr>\n",
              "    <tr>\n",
              "      <th>24</th>\n",
              "      <td>0.615308</td>\n",
              "      <td>0.539846</td>\n",
              "      <td>0</td>\n",
              "    </tr>\n",
              "    <tr>\n",
              "      <th>25</th>\n",
              "      <td>-0.037533</td>\n",
              "      <td>-0.212462</td>\n",
              "      <td>0</td>\n",
              "    </tr>\n",
              "    <tr>\n",
              "      <th>26</th>\n",
              "      <td>-0.536250</td>\n",
              "      <td>-0.655897</td>\n",
              "      <td>0</td>\n",
              "    </tr>\n",
              "    <tr>\n",
              "      <th>27</th>\n",
              "      <td>-0.516866</td>\n",
              "      <td>-0.677330</td>\n",
              "      <td>0</td>\n",
              "    </tr>\n",
              "    <tr>\n",
              "      <th>29</th>\n",
              "      <td>-0.562798</td>\n",
              "      <td>-0.501394</td>\n",
              "      <td>0</td>\n",
              "    </tr>\n",
              "    <tr>\n",
              "      <th>30</th>\n",
              "      <td>0.332449</td>\n",
              "      <td>-0.296564</td>\n",
              "      <td>0</td>\n",
              "    </tr>\n",
              "    <tr>\n",
              "      <th>31</th>\n",
              "      <td>-0.507595</td>\n",
              "      <td>-0.197676</td>\n",
              "      <td>0</td>\n",
              "    </tr>\n",
              "    <tr>\n",
              "      <th>...</th>\n",
              "      <td>...</td>\n",
              "      <td>...</td>\n",
              "      <td>...</td>\n",
              "    </tr>\n",
              "    <tr>\n",
              "      <th>408</th>\n",
              "      <td>-0.162686</td>\n",
              "      <td>-0.259939</td>\n",
              "      <td>0</td>\n",
              "    </tr>\n",
              "    <tr>\n",
              "      <th>409</th>\n",
              "      <td>-0.195028</td>\n",
              "      <td>-0.293308</td>\n",
              "      <td>0</td>\n",
              "    </tr>\n",
              "    <tr>\n",
              "      <th>410</th>\n",
              "      <td>-0.356948</td>\n",
              "      <td>-0.501936</td>\n",
              "      <td>0</td>\n",
              "    </tr>\n",
              "    <tr>\n",
              "      <th>411</th>\n",
              "      <td>-0.492004</td>\n",
              "      <td>-0.340107</td>\n",
              "      <td>0</td>\n",
              "    </tr>\n",
              "    <tr>\n",
              "      <th>412</th>\n",
              "      <td>0.468664</td>\n",
              "      <td>-0.297242</td>\n",
              "      <td>0</td>\n",
              "    </tr>\n",
              "    <tr>\n",
              "      <th>413</th>\n",
              "      <td>-0.138878</td>\n",
              "      <td>-0.127139</td>\n",
              "      <td>0</td>\n",
              "    </tr>\n",
              "    <tr>\n",
              "      <th>414</th>\n",
              "      <td>-0.477677</td>\n",
              "      <td>-0.516315</td>\n",
              "      <td>0</td>\n",
              "    </tr>\n",
              "    <tr>\n",
              "      <th>415</th>\n",
              "      <td>0.063285</td>\n",
              "      <td>0.033876</td>\n",
              "      <td>0</td>\n",
              "    </tr>\n",
              "    <tr>\n",
              "      <th>416</th>\n",
              "      <td>0.311485</td>\n",
              "      <td>0.697741</td>\n",
              "      <td>0</td>\n",
              "    </tr>\n",
              "    <tr>\n",
              "      <th>417</th>\n",
              "      <td>0.326971</td>\n",
              "      <td>-0.040324</td>\n",
              "      <td>0</td>\n",
              "    </tr>\n",
              "    <tr>\n",
              "      <th>418</th>\n",
              "      <td>1.124138</td>\n",
              "      <td>0.365944</td>\n",
              "      <td>0</td>\n",
              "    </tr>\n",
              "    <tr>\n",
              "      <th>419</th>\n",
              "      <td>-0.603462</td>\n",
              "      <td>-0.273097</td>\n",
              "      <td>0</td>\n",
              "    </tr>\n",
              "    <tr>\n",
              "      <th>420</th>\n",
              "      <td>0.555786</td>\n",
              "      <td>-0.071930</td>\n",
              "      <td>0</td>\n",
              "    </tr>\n",
              "    <tr>\n",
              "      <th>421</th>\n",
              "      <td>0.116064</td>\n",
              "      <td>-0.128767</td>\n",
              "      <td>0</td>\n",
              "    </tr>\n",
              "    <tr>\n",
              "      <th>422</th>\n",
              "      <td>-0.398139</td>\n",
              "      <td>-0.599468</td>\n",
              "      <td>0</td>\n",
              "    </tr>\n",
              "    <tr>\n",
              "      <th>423</th>\n",
              "      <td>-0.347045</td>\n",
              "      <td>-0.286255</td>\n",
              "      <td>0</td>\n",
              "    </tr>\n",
              "    <tr>\n",
              "      <th>424</th>\n",
              "      <td>0.450965</td>\n",
              "      <td>-0.395045</td>\n",
              "      <td>0</td>\n",
              "    </tr>\n",
              "    <tr>\n",
              "      <th>425</th>\n",
              "      <td>-0.564483</td>\n",
              "      <td>-0.459614</td>\n",
              "      <td>0</td>\n",
              "    </tr>\n",
              "    <tr>\n",
              "      <th>426</th>\n",
              "      <td>0.670510</td>\n",
              "      <td>0.481652</td>\n",
              "      <td>0</td>\n",
              "    </tr>\n",
              "    <tr>\n",
              "      <th>428</th>\n",
              "      <td>-0.320392</td>\n",
              "      <td>0.023567</td>\n",
              "      <td>0</td>\n",
              "    </tr>\n",
              "    <tr>\n",
              "      <th>429</th>\n",
              "      <td>-0.460505</td>\n",
              "      <td>-0.548871</td>\n",
              "      <td>0</td>\n",
              "    </tr>\n",
              "    <tr>\n",
              "      <th>430</th>\n",
              "      <td>0.898799</td>\n",
              "      <td>-0.212462</td>\n",
              "      <td>0</td>\n",
              "    </tr>\n",
              "    <tr>\n",
              "      <th>431</th>\n",
              "      <td>-0.294055</td>\n",
              "      <td>-0.039374</td>\n",
              "      <td>0</td>\n",
              "    </tr>\n",
              "    <tr>\n",
              "      <th>432</th>\n",
              "      <td>-0.336826</td>\n",
              "      <td>-0.628632</td>\n",
              "      <td>0</td>\n",
              "    </tr>\n",
              "    <tr>\n",
              "      <th>433</th>\n",
              "      <td>-0.680366</td>\n",
              "      <td>-0.349738</td>\n",
              "      <td>0</td>\n",
              "    </tr>\n",
              "    <tr>\n",
              "      <th>434</th>\n",
              "      <td>0.004501</td>\n",
              "      <td>-0.254242</td>\n",
              "      <td>0</td>\n",
              "    </tr>\n",
              "    <tr>\n",
              "      <th>435</th>\n",
              "      <td>0.850760</td>\n",
              "      <td>0.848446</td>\n",
              "      <td>0</td>\n",
              "    </tr>\n",
              "    <tr>\n",
              "      <th>436</th>\n",
              "      <td>-0.757165</td>\n",
              "      <td>-0.592142</td>\n",
              "      <td>0</td>\n",
              "    </tr>\n",
              "    <tr>\n",
              "      <th>438</th>\n",
              "      <td>-0.602514</td>\n",
              "      <td>-0.517536</td>\n",
              "      <td>0</td>\n",
              "    </tr>\n",
              "    <tr>\n",
              "      <th>439</th>\n",
              "      <td>-0.573227</td>\n",
              "      <td>-0.555924</td>\n",
              "      <td>0</td>\n",
              "    </tr>\n",
              "  </tbody>\n",
              "</table>\n",
              "<p>404 rows × 3 columns</p>\n",
              "</div>"
            ],
            "text/plain": [
              "         Milk   Grocery  dbs\n",
              "0   -0.041115  0.523568    0\n",
              "1    0.170318  0.544458    0\n",
              "2   -0.028157  0.408538    0\n",
              "3   -0.392977 -0.624020    0\n",
              "4   -0.079356 -0.052396    0\n",
              "5   -0.297637  0.334067    0\n",
              "6   -0.102849 -0.352316    0\n",
              "7    0.155359 -0.113981    0\n",
              "8   -0.185336 -0.291409    0\n",
              "9    1.151423  0.718495    0\n",
              "10   0.529133 -0.053346    0\n",
              "11  -0.361162 -0.633787    0\n",
              "12   0.400925  0.884800    0\n",
              "13   0.740672  0.055851    0\n",
              "14   0.436111  0.497659    0\n",
              "15  -0.435116 -0.635143    0\n",
              "16   0.439272  0.409623    0\n",
              "17  -0.528665  0.048933    0\n",
              "18   0.226258  0.071993    0\n",
              "19   0.159362 -0.447812    0\n",
              "20  -0.352839 -0.173259    0\n",
              "21  -0.625901 -0.668106    0\n",
              "22  -0.366851 -0.526217    0\n",
              "24   0.615308  0.539846    0\n",
              "25  -0.037533 -0.212462    0\n",
              "26  -0.536250 -0.655897    0\n",
              "27  -0.516866 -0.677330    0\n",
              "29  -0.562798 -0.501394    0\n",
              "30   0.332449 -0.296564    0\n",
              "31  -0.507595 -0.197676    0\n",
              "..        ...       ...  ...\n",
              "408 -0.162686 -0.259939    0\n",
              "409 -0.195028 -0.293308    0\n",
              "410 -0.356948 -0.501936    0\n",
              "411 -0.492004 -0.340107    0\n",
              "412  0.468664 -0.297242    0\n",
              "413 -0.138878 -0.127139    0\n",
              "414 -0.477677 -0.516315    0\n",
              "415  0.063285  0.033876    0\n",
              "416  0.311485  0.697741    0\n",
              "417  0.326971 -0.040324    0\n",
              "418  1.124138  0.365944    0\n",
              "419 -0.603462 -0.273097    0\n",
              "420  0.555786 -0.071930    0\n",
              "421  0.116064 -0.128767    0\n",
              "422 -0.398139 -0.599468    0\n",
              "423 -0.347045 -0.286255    0\n",
              "424  0.450965 -0.395045    0\n",
              "425 -0.564483 -0.459614    0\n",
              "426  0.670510  0.481652    0\n",
              "428 -0.320392  0.023567    0\n",
              "429 -0.460505 -0.548871    0\n",
              "430  0.898799 -0.212462    0\n",
              "431 -0.294055 -0.039374    0\n",
              "432 -0.336826 -0.628632    0\n",
              "433 -0.680366 -0.349738    0\n",
              "434  0.004501 -0.254242    0\n",
              "435  0.850760  0.848446    0\n",
              "436 -0.757165 -0.592142    0\n",
              "438 -0.602514 -0.517536    0\n",
              "439 -0.573227 -0.555924    0\n",
              "\n",
              "[404 rows x 3 columns]"
            ]
          },
          "metadata": {
            "tags": []
          },
          "execution_count": 28
        }
      ]
    }
  ]
}