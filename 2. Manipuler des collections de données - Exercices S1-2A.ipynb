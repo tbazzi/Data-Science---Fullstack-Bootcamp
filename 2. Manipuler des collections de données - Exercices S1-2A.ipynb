{
 "cells": [
  {
   "cell_type": "markdown",
   "metadata": {
    "colab_type": "text",
    "id": "kFGKKN4vbaaE"
   },
   "source": [
    "# Les Listes "
   ]
  },
  {
   "cell_type": "markdown",
   "metadata": {
    "colab_type": "text",
    "id": "UlVSgMBObdHP"
   },
   "source": [
    "Voici une liste [“Bonjour”, “Je”, “Michel”, “m’appelle”]\n",
    "\n",
    "    1. Stocker cette liste dans une variable qu’on appellera michel\n",
    "    2. Faites une boucle pour que la console retourne chacun des items de la liste\n"
   ]
  },
  {
   "cell_type": "code",
   "execution_count": 3,
   "metadata": {
    "colab": {
     "base_uri": "https://localhost:8080/",
     "height": 86
    },
    "colab_type": "code",
    "id": "RnQP07OQbJZy",
    "outputId": "d78228cb-bff0-415e-a28d-ed3c00ad2295"
   },
   "outputs": [
    {
     "name": "stdout",
     "output_type": "stream",
     "text": [
      "Bonjour\n",
      "Je\n",
      "Michel\n",
      "m’appelle\n"
     ]
    }
   ],
   "source": [
    "michel = [\"Bonjour\", \"Je\", \"Michel\", \"m’appelle\"]\n",
    "for item in michel:\n",
    "    print(item)"
   ]
  },
  {
   "cell_type": "markdown",
   "metadata": {
    "colab_type": "text",
    "id": "xiFEi_IIbs7l"
   },
   "source": [
    "On a un problème avec cette phrase, deux mots sont inversés. Trouvez un moyen d’inverser le dernier item avec l’avant dernier"
   ]
  },
  {
   "cell_type": "code",
   "execution_count": 4,
   "metadata": {
    "colab": {
     "base_uri": "https://localhost:8080/",
     "height": 86
    },
    "colab_type": "code",
    "id": "fBz1VsYDbv-m",
    "outputId": "b25dc7df-d0cf-4801-cdf1-a8dce24287ea"
   },
   "outputs": [
    {
     "name": "stdout",
     "output_type": "stream",
     "text": [
      "Bonjour\n",
      "Je\n",
      "m’appelle\n",
      "Michel\n"
     ]
    }
   ],
   "source": [
    "michel[2], michel[3]=michel[3], michel[2]\n",
    "for item in michel:\n",
    "    print(item)"
   ]
  },
  {
   "cell_type": "markdown",
   "metadata": {
    "colab_type": "text",
    "id": "hrZ1HLVneoRC"
   },
   "source": [
    "Voici une liste d’âge : [12, 16, 34, 58, 9].\n",
    "\n",
    "    1. Stockez cette liste d’âge dans une variable qu’on appellera \n",
    "\n",
    "\n",
    "\n",
    "```\n",
    "age\n",
    "```\n",
    "\n",
    "\n",
    "\n",
    "    2. On aimerait que cette liste soit rangée par ordre croissant, comment faire ?"
   ]
  },
  {
   "cell_type": "code",
   "execution_count": 6,
   "metadata": {
    "colab": {
     "base_uri": "https://localhost:8080/",
     "height": 35
    },
    "colab_type": "code",
    "id": "vRrlfGsQb0TA",
    "outputId": "d1d5cbcc-4ba3-4178-816e-801bdb26d756"
   },
   "outputs": [
    {
     "name": "stdout",
     "output_type": "stream",
     "text": [
      "[9, 12, 16, 34, 58]\n"
     ]
    }
   ],
   "source": [
    "age = [12, 16, 34, 58, 9]\n",
    "age.sort()\n",
    "print(age)"
   ]
  },
  {
   "cell_type": "markdown",
   "metadata": {
    "colab_type": "text",
    "id": "hyAAuD2-fFMD"
   },
   "source": [
    "# Les dictionnaires"
   ]
  },
  {
   "cell_type": "markdown",
   "metadata": {
    "colab_type": "text",
    "id": "3-kpKLpmfKGM"
   },
   "source": [
    "Nous vous avions dit que les dictionnaires étaient très utiles avec les API, et bien justement tentons d’utiliser l’API de Star Wars.\n",
    "\n",
    "    1. Dans votre éditeur de texte, écrivez :\n",
    "    \n",
    "\n",
    "\n",
    "```\n",
    "import requests\n",
    "request = requests.get(\"https://swapi.co/api/people/1/\")\n",
    "dic = request.json()\n",
    "```\n",
    "\n",
    "    2. Ceci va permettre d’appeler l’API de Star Wars de la stocker sur un format dictionnaire dans une variable qu’on a appelé _dic_.\n",
    "    \n",
    "    3. Regardez ce que contient le dictionnaire via une boucle\n",
    "    \n",
    "    4. On aimerait faire une jolie phrase qui permette de décrire le personnage comme ceci : \n",
    "    \n",
    "    “{{_nom}} mesure {{taille}} cm et pèse {{poids}} kg. Il est est né en {{naissance}}”\n"
   ]
  },
  {
   "cell_type": "code",
   "execution_count": 8,
   "metadata": {
    "colab": {
     "base_uri": "https://localhost:8080/",
     "height": 35
    },
    "colab_type": "code",
    "id": "Ef9wS-ule6Rs",
    "outputId": "30a5ae75-ab03-4324-dcab-ccb79b53179e"
   },
   "outputs": [
    {
     "name": "stdout",
     "output_type": "stream",
     "text": [
      "Luke Skywalker mesure 172 cm et pèse 77 kg. Il est est né en 19BBY\n"
     ]
    }
   ],
   "source": [
    "import requests\n",
    "request = requests.get(\"https://swapi.co/api/people/1/\")\n",
    "dic = request.json()\n",
    "print(\"{} mesure {} cm et pèse {} kg. Il est est né en {}\".format(dic[\"name\"],dic[\"height\"],dic[\"mass\"],dic[\"birth_year\"]))"
   ]
  },
  {
   "cell_type": "markdown",
   "metadata": {
    "colab_type": "text",
    "id": "7DBymkERgDDu"
   },
   "source": [
    "    1. Importez un nouveau personnage en changeant\n",
    "    \n",
    "    \n",
    "```\n",
    "request = requests.get(\"https://swapi.co/api/people/1/\")\n",
    "```\n",
    "\n",
    "par\n",
    "\n",
    "\n",
    " ```\n",
    "request = requests.get(\"https://swapi.co/api/people/5/\")\n",
    "```\n",
    "\n",
    "2. Réexécutez votre code, est ce que vous voyez un souci ? Tentez de le corriger\n"
   ]
  },
  {
   "cell_type": "code",
   "execution_count": 14,
   "metadata": {
    "colab": {
     "base_uri": "https://localhost:8080/",
     "height": 35
    },
    "colab_type": "code",
    "id": "0AWON7CZf_aI",
    "outputId": "46f5bc2d-bc12-4e88-ae6c-ee26db0d505b"
   },
   "outputs": [
    {
     "name": "stdout",
     "output_type": "stream",
     "text": [
      "Luke Skywalker mesure 172 cm et pèse 77 kg. il est est né en 19BBY\n"
     ]
    }
   ],
   "source": [
    "request = requests.get(\"https://swapi.co/api/people/1/\")\n",
    "dic = request.json()\n",
    "gen1 = \"il\"\n",
    "gen2 = \"\"\n",
    "if dic[\"gender\"] == \"female\":\n",
    "    gen1 = \"elle\"\n",
    "    gen2 = \"e\"\n",
    "\n",
    "print(\"{} mesure {} cm et pèse {} kg. {} est est né{} en {}\".format(dic[\"name\"],dic[\"height\"],dic[\"mass\"],gen1,gen2,dic[\"birth_year\"]))"
   ]
  },
  {
   "cell_type": "markdown",
   "metadata": {
    "colab_type": "text",
    "id": "aQsKk1BKg4Mt"
   },
   "source": [
    "# Les Slices"
   ]
  },
  {
   "cell_type": "markdown",
   "metadata": {
    "colab_type": "text",
    "id": "0PIM5zcfg94N"
   },
   "source": [
    " On a le dataset suivant : `km_parcourus = [50, 10, 100, 25, 1000, 21, 12,30]`\n",
    " \n",
    "    1. Cette variable représente une liste de kilomètres parcourus tous les matins par 8 utilisateurs pour aller au travail\n",
    "    2. En utilisant une boucle, calculez la moyenne total parcouru par tous les utilisateurs\n",
    "    3. Est ce que cette moyenne est représentative de ce que tous les individus parcourent vraiment ? A votre avis pourquoi ?"
   ]
  },
  {
   "cell_type": "code",
   "execution_count": 32,
   "metadata": {
    "colab": {
     "base_uri": "https://localhost:8080/",
     "height": 35
    },
    "colab_type": "code",
    "id": "GbysQcOhgfhF",
    "outputId": "bd09b6d7-dadf-4e6b-9292-29e5af5c9215"
   },
   "outputs": [
    {
     "name": "stdout",
     "output_type": "stream",
     "text": [
      "En moyenne, les utilisateurs ont parcourus 156.0 km pour aller au travail\n"
     ]
    }
   ],
   "source": [
    "km_parcourus = [50, 10, 100, 25, 1000, 21, 12,30]\n",
    "moy = sum(km_parcourus)/len(km_parcourus)\n",
    "print(\"En moyenne, les utilisateurs ont parcourus {} km pour aller au travail\".format(moy))"
   ]
  },
  {
   "cell_type": "markdown",
   "metadata": {
    "colab_type": "text",
    "id": "VL5vB43YhJV5"
   },
   "source": [
    "    4. Changez la variable _km_parcourus_ pour avoir une moyenne plus représentative"
   ]
  },
  {
   "cell_type": "code",
   "execution_count": 33,
   "metadata": {
    "colab": {
     "base_uri": "https://localhost:8080/",
     "height": 35
    },
    "colab_type": "code",
    "id": "_fNo8Q8MhINt",
    "outputId": "ee056974-523a-42a6-aab7-edc0ea0b596e"
   },
   "outputs": [
    {
     "name": "stdout",
     "output_type": "stream",
     "text": [
      "En moyenne, les utilisateurs ont parcourus 35.42857142857143 km pour aller au travail\n"
     ]
    }
   ],
   "source": [
    "list1 = km_parcourus[:4]\n",
    "list2 = km_parcourus[-3:]\n",
    "moy = (sum(list1)+sum(list2))/(len(list1)+len(list2))\n",
    "print(\"En moyenne, les utilisateurs ont parcourus {} km pour aller au travail\".format(moy))"
   ]
  },
  {
   "cell_type": "markdown",
   "metadata": {
    "colab_type": "text",
    "id": "G0rueacYhSzs"
   },
   "source": [
    "# Les fonctions"
   ]
  },
  {
   "cell_type": "markdown",
   "metadata": {
    "colab_type": "text",
    "id": "M7jWJHwLhYta"
   },
   "source": [
    "Commençons par une fonction simple :\n",
    "\n",
    "    1. Écrivons une fonction qui nous permette de sortir à la racine carré d’un nombre. On l’appellera *sqrt()*"
   ]
  },
  {
   "cell_type": "code",
   "execution_count": 24,
   "metadata": {
    "colab": {
     "base_uri": "https://localhost:8080/",
     "height": 35
    },
    "colab_type": "code",
    "id": "Gam09LgShPNU",
    "outputId": "e12ced52-14c0-440e-c3d8-434409952baa"
   },
   "outputs": [
    {
     "name": "stdout",
     "output_type": "stream",
     "text": [
      "2.0\n"
     ]
    }
   ],
   "source": [
    "import math\n",
    "\n",
    "def sqrt(nb):\n",
    "    return math.sqrt(nb)\n",
    "\n",
    "print(sqrt(4))"
   ]
  },
  {
   "cell_type": "markdown",
   "metadata": {
    "colab_type": "text",
    "id": "20zj8cIohoUJ"
   },
   "source": [
    "Le quiz que nous avons écrit la dernière fois est bien mais, un codeur qui lirait ce code serait outré du fait que nous n’ayons pas été très DRY.\n",
    "\n",
    "    1. Pouvons nous trouver un moyen d’être plus élégant dans notre code via une fonction ?"
   ]
  },
  {
   "cell_type": "code",
   "execution_count": 25,
   "metadata": {
    "colab": {
     "base_uri": "https://localhost:8080/",
     "height": 121
    },
    "colab_type": "code",
    "id": "2t5FDcXOhkhV",
    "outputId": "4e7f5d61-4040-4770-bb99-7567620e2cdf"
   },
   "outputs": [
    {
     "name": "stdout",
     "output_type": "stream",
     "text": [
      "Voici notre quiz\n",
      "Combien de fois la France a gagné la coupe du monde ?1\n",
      "Combien de fois la France a gagné la coupe du monde ?2\n",
      "Quelle la lettre après ab\n",
      "Quel est le nom de ce bootcamp?a\n",
      "Quel est le nom de ce bootcamp?A\n",
      "Dommage tu as perdu le jeu\n",
      "Votre total de points: 2\n"
     ]
    }
   ],
   "source": [
    "\n",
    "def quiz():\n",
    "    print (\"Voici notre quiz\")\n",
    "    liste1 = {\"Combien de fois la France a gagné la coupe du monde ?\":\"2\",\n",
    "              \"Quelle la lettre après a\":\"b\", \n",
    "              \"Quel est le nom de ce bootcamp?\":\"JEDHA\"}\n",
    "\n",
    "    points = 0\n",
    "    err_count = 0\n",
    "\n",
    "    for question in liste1:\n",
    "        flag_rep = 0\n",
    "        while flag_rep == 0 and err_count<3:\n",
    "            reponse = input(question)\n",
    "            if reponse.lower() == liste1[question].lower():\n",
    "                points +=1\n",
    "                flag_rep = 1\n",
    "            else :\n",
    "                err_count+=1\n",
    "                if err_count>=3:\n",
    "                    print(\"Dommage tu as perdu le jeu\")\n",
    "                    print(\"Votre total de points: \" + str(points))\n",
    "                    break\n",
    "\n",
    "\n",
    "    if err_count<3: \n",
    "        print(\"Bravo ! Tu as gagné le quiz !\")\n",
    "        print(\"Votre total de points: \" + str(points))\n",
    "\n",
    "quiz()\n"
   ]
  },
  {
   "cell_type": "code",
   "execution_count": 43,
   "metadata": {},
   "outputs": [
    {
     "name": "stdout",
     "output_type": "stream",
     "text": [
      "01:20:00\n"
     ]
    }
   ],
   "source": [
    "def timeConversion(s):\n",
    "    h=0\n",
    "    s1 = s.split(\":\")\n",
    "    ampm = s1[2][-2:]\n",
    "    s1[2] = s1[2][:2]\n",
    "    if ampm == \"AM\" and s1[0] == \"12\":\n",
    "        s1[0] = \"00\"\n",
    "    if ampm == \"PM\": \n",
    "        if s1[0] != \"12\": \n",
    "            h = int(s1[0])+12\n",
    "        else:\n",
    "            h = 12\n",
    "        s1[0] = str(h)\n",
    "    \n",
    "    return (s1[0].rjust(2,\"0\")+\":\"+s1[1]+\":\"+s1[2])\n",
    "\n",
    "print(timeConversion(\"1:20:00AM\"))"
   ]
  },
  {
   "cell_type": "code",
   "execution_count": null,
   "metadata": {},
   "outputs": [],
   "source": []
  }
 ],
 "metadata": {
  "colab": {
   "name": "Manipuler des collections de données - Exercices S1-2A.ipynb",
   "provenance": [],
   "version": "0.3.2"
  },
  "kernelspec": {
   "display_name": "Python 3",
   "language": "python",
   "name": "python3"
  },
  "language_info": {
   "codemirror_mode": {
    "name": "ipython",
    "version": 3
   },
   "file_extension": ".py",
   "mimetype": "text/x-python",
   "name": "python",
   "nbconvert_exporter": "python",
   "pygments_lexer": "ipython3",
   "version": "3.7.3"
  }
 },
 "nbformat": 4,
 "nbformat_minor": 1
}
