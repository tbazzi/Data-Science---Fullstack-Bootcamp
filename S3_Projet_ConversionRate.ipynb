{
  "nbformat": 4,
  "nbformat_minor": 0,
  "metadata": {
    "colab": {
      "name": "S3_Projet_ConversionRate.ipynb",
      "provenance": [],
      "collapsed_sections": [],
      "include_colab_link": true
    },
    "kernelspec": {
      "name": "python3",
      "display_name": "Python 3"
    }
  },
  "cells": [
    {
      "cell_type": "markdown",
      "metadata": {
        "id": "view-in-github",
        "colab_type": "text"
      },
      "source": [
        "<a href=\"https://colab.research.google.com/github/tbazzi/Data-Science---Fullstack-Bootcamp/blob/master/S3_Projet_ConversionRate.ipynb\" target=\"_parent\"><img src=\"https://colab.research.google.com/assets/colab-badge.svg\" alt=\"Open In Colab\"/></a>"
      ]
    },
    {
      "cell_type": "markdown",
      "metadata": {
        "id": "7J2irdAXKqow",
        "colab_type": "text"
      },
      "source": [
        "# Projet Conversion Rate"
      ]
    },
    {
      "cell_type": "code",
      "metadata": {
        "id": "pslc52CqYbCy",
        "colab_type": "code",
        "colab": {}
      },
      "source": [
        "# Import des librairies\n",
        "import pandas as pd\n",
        "import numpy as np\n",
        "import matplotlib.pyplot as plt\n",
        "import seaborn as sns"
      ],
      "execution_count": 0,
      "outputs": []
    },
    {
      "cell_type": "code",
      "metadata": {
        "id": "_yFvh6JVe1-c",
        "colab_type": "code",
        "colab": {}
      },
      "source": [
        "#from google.colab import drive\n",
        "#drive.mount('/content/drive')\n",
        "\n",
        "\n"
      ],
      "execution_count": 0,
      "outputs": []
    },
    {
      "cell_type": "code",
      "metadata": {
        "id": "FYVxOXRbbuKq",
        "colab_type": "code",
        "colab": {}
      },
      "source": [
        "# Import du dataset\n",
        "#df = pd.read_csv(\"conversion_data.csv\",)\n",
        "df = pd.read_csv('/content/drive/My Drive/conversion_data.csv')\n"
      ],
      "execution_count": 0,
      "outputs": []
    },
    {
      "cell_type": "code",
      "metadata": {
        "id": "0_TNcgeDcQO0",
        "colab_type": "code",
        "outputId": "807bda8f-4f7b-41b9-d8fb-69d008bec292",
        "colab": {
          "base_uri": "https://localhost:8080/",
          "height": 206
        }
      },
      "source": [
        "# Affichage des premières lignes\n",
        "df.head()"
      ],
      "execution_count": 549,
      "outputs": [
        {
          "output_type": "execute_result",
          "data": {
            "text/html": [
              "<div>\n",
              "<style scoped>\n",
              "    .dataframe tbody tr th:only-of-type {\n",
              "        vertical-align: middle;\n",
              "    }\n",
              "\n",
              "    .dataframe tbody tr th {\n",
              "        vertical-align: top;\n",
              "    }\n",
              "\n",
              "    .dataframe thead th {\n",
              "        text-align: right;\n",
              "    }\n",
              "</style>\n",
              "<table border=\"1\" class=\"dataframe\">\n",
              "  <thead>\n",
              "    <tr style=\"text-align: right;\">\n",
              "      <th></th>\n",
              "      <th>country</th>\n",
              "      <th>age</th>\n",
              "      <th>new_user</th>\n",
              "      <th>source</th>\n",
              "      <th>total_pages_visited</th>\n",
              "      <th>converted</th>\n",
              "    </tr>\n",
              "  </thead>\n",
              "  <tbody>\n",
              "    <tr>\n",
              "      <th>0</th>\n",
              "      <td>UK</td>\n",
              "      <td>25</td>\n",
              "      <td>1</td>\n",
              "      <td>Ads</td>\n",
              "      <td>1</td>\n",
              "      <td>0</td>\n",
              "    </tr>\n",
              "    <tr>\n",
              "      <th>1</th>\n",
              "      <td>US</td>\n",
              "      <td>23</td>\n",
              "      <td>1</td>\n",
              "      <td>Seo</td>\n",
              "      <td>5</td>\n",
              "      <td>0</td>\n",
              "    </tr>\n",
              "    <tr>\n",
              "      <th>2</th>\n",
              "      <td>US</td>\n",
              "      <td>28</td>\n",
              "      <td>1</td>\n",
              "      <td>Seo</td>\n",
              "      <td>4</td>\n",
              "      <td>0</td>\n",
              "    </tr>\n",
              "    <tr>\n",
              "      <th>3</th>\n",
              "      <td>China</td>\n",
              "      <td>39</td>\n",
              "      <td>1</td>\n",
              "      <td>Seo</td>\n",
              "      <td>5</td>\n",
              "      <td>0</td>\n",
              "    </tr>\n",
              "    <tr>\n",
              "      <th>4</th>\n",
              "      <td>US</td>\n",
              "      <td>30</td>\n",
              "      <td>1</td>\n",
              "      <td>Seo</td>\n",
              "      <td>6</td>\n",
              "      <td>0</td>\n",
              "    </tr>\n",
              "  </tbody>\n",
              "</table>\n",
              "</div>"
            ],
            "text/plain": [
              "  country  age  new_user source  total_pages_visited  converted\n",
              "0      UK   25         1    Ads                    1          0\n",
              "1      US   23         1    Seo                    5          0\n",
              "2      US   28         1    Seo                    4          0\n",
              "3   China   39         1    Seo                    5          0\n",
              "4      US   30         1    Seo                    6          0"
            ]
          },
          "metadata": {
            "tags": []
          },
          "execution_count": 549
        }
      ]
    },
    {
      "cell_type": "code",
      "metadata": {
        "id": "zSB1S_bJccZw",
        "colab_type": "code",
        "outputId": "558960ef-b4ab-41f9-d4b3-cc13ae924f4a",
        "colab": {
          "base_uri": "https://localhost:8080/",
          "height": 217
        }
      },
      "source": [
        "# Caractéristiques du DataFrame\n",
        "df.info()"
      ],
      "execution_count": 550,
      "outputs": [
        {
          "output_type": "stream",
          "text": [
            "<class 'pandas.core.frame.DataFrame'>\n",
            "RangeIndex: 316200 entries, 0 to 316199\n",
            "Data columns (total 6 columns):\n",
            "country                316200 non-null object\n",
            "age                    316200 non-null int64\n",
            "new_user               316200 non-null int64\n",
            "source                 316200 non-null object\n",
            "total_pages_visited    316200 non-null int64\n",
            "converted              316200 non-null int64\n",
            "dtypes: int64(4), object(2)\n",
            "memory usage: 14.5+ MB\n"
          ],
          "name": "stdout"
        }
      ]
    },
    {
      "cell_type": "code",
      "metadata": {
        "id": "KB6jPTA7ctv8",
        "colab_type": "code",
        "outputId": "a2e458b2-aa54-4ebf-999e-e417db9667f9",
        "colab": {
          "base_uri": "https://localhost:8080/",
          "height": 300
        }
      },
      "source": [
        "# Principales statistiques\n",
        "df.describe()"
      ],
      "execution_count": 551,
      "outputs": [
        {
          "output_type": "execute_result",
          "data": {
            "text/html": [
              "<div>\n",
              "<style scoped>\n",
              "    .dataframe tbody tr th:only-of-type {\n",
              "        vertical-align: middle;\n",
              "    }\n",
              "\n",
              "    .dataframe tbody tr th {\n",
              "        vertical-align: top;\n",
              "    }\n",
              "\n",
              "    .dataframe thead th {\n",
              "        text-align: right;\n",
              "    }\n",
              "</style>\n",
              "<table border=\"1\" class=\"dataframe\">\n",
              "  <thead>\n",
              "    <tr style=\"text-align: right;\">\n",
              "      <th></th>\n",
              "      <th>age</th>\n",
              "      <th>new_user</th>\n",
              "      <th>total_pages_visited</th>\n",
              "      <th>converted</th>\n",
              "    </tr>\n",
              "  </thead>\n",
              "  <tbody>\n",
              "    <tr>\n",
              "      <th>count</th>\n",
              "      <td>316200.000000</td>\n",
              "      <td>316200.000000</td>\n",
              "      <td>316200.000000</td>\n",
              "      <td>316200.000000</td>\n",
              "    </tr>\n",
              "    <tr>\n",
              "      <th>mean</th>\n",
              "      <td>30.569858</td>\n",
              "      <td>0.685465</td>\n",
              "      <td>4.872966</td>\n",
              "      <td>0.032258</td>\n",
              "    </tr>\n",
              "    <tr>\n",
              "      <th>std</th>\n",
              "      <td>8.271802</td>\n",
              "      <td>0.464331</td>\n",
              "      <td>3.341104</td>\n",
              "      <td>0.176685</td>\n",
              "    </tr>\n",
              "    <tr>\n",
              "      <th>min</th>\n",
              "      <td>17.000000</td>\n",
              "      <td>0.000000</td>\n",
              "      <td>1.000000</td>\n",
              "      <td>0.000000</td>\n",
              "    </tr>\n",
              "    <tr>\n",
              "      <th>25%</th>\n",
              "      <td>24.000000</td>\n",
              "      <td>0.000000</td>\n",
              "      <td>2.000000</td>\n",
              "      <td>0.000000</td>\n",
              "    </tr>\n",
              "    <tr>\n",
              "      <th>50%</th>\n",
              "      <td>30.000000</td>\n",
              "      <td>1.000000</td>\n",
              "      <td>4.000000</td>\n",
              "      <td>0.000000</td>\n",
              "    </tr>\n",
              "    <tr>\n",
              "      <th>75%</th>\n",
              "      <td>36.000000</td>\n",
              "      <td>1.000000</td>\n",
              "      <td>7.000000</td>\n",
              "      <td>0.000000</td>\n",
              "    </tr>\n",
              "    <tr>\n",
              "      <th>max</th>\n",
              "      <td>123.000000</td>\n",
              "      <td>1.000000</td>\n",
              "      <td>29.000000</td>\n",
              "      <td>1.000000</td>\n",
              "    </tr>\n",
              "  </tbody>\n",
              "</table>\n",
              "</div>"
            ],
            "text/plain": [
              "                 age       new_user  total_pages_visited      converted\n",
              "count  316200.000000  316200.000000        316200.000000  316200.000000\n",
              "mean       30.569858       0.685465             4.872966       0.032258\n",
              "std         8.271802       0.464331             3.341104       0.176685\n",
              "min        17.000000       0.000000             1.000000       0.000000\n",
              "25%        24.000000       0.000000             2.000000       0.000000\n",
              "50%        30.000000       1.000000             4.000000       0.000000\n",
              "75%        36.000000       1.000000             7.000000       0.000000\n",
              "max       123.000000       1.000000            29.000000       1.000000"
            ]
          },
          "metadata": {
            "tags": []
          },
          "execution_count": 551
        }
      ]
    },
    {
      "cell_type": "code",
      "metadata": {
        "id": "FFbc9b9_coW8",
        "colab_type": "code",
        "outputId": "d08a3bc8-5716-40db-bf1f-ec079fdb8500",
        "colab": {
          "base_uri": "https://localhost:8080/",
          "height": 108
        }
      },
      "source": [
        "# Normalisation des valeurs extrêmes pour la variable\"age\"(>100)\n",
        "df_temp=df[df.age<100]\n",
        "median_age = df_temp[\"age\"].median()\n",
        "df.age[df.age > 100] = median_age\n",
        "  \n"
      ],
      "execution_count": 552,
      "outputs": [
        {
          "output_type": "stream",
          "text": [
            "/usr/local/lib/python3.6/dist-packages/ipykernel_launcher.py:3: SettingWithCopyWarning: \n",
            "A value is trying to be set on a copy of a slice from a DataFrame\n",
            "\n",
            "See the caveats in the documentation: http://pandas.pydata.org/pandas-docs/stable/indexing.html#indexing-view-versus-copy\n",
            "  This is separate from the ipykernel package so we can avoid doing imports until\n"
          ],
          "name": "stderr"
        }
      ]
    },
    {
      "cell_type": "code",
      "metadata": {
        "id": "dfK5fOXTdVbe",
        "colab_type": "code",
        "outputId": "0395e3ab-b6f1-4abb-ff4d-1c61a8c29242",
        "colab": {
          "base_uri": "https://localhost:8080/",
          "height": 300
        }
      },
      "source": [
        "# Principales statistiques\n",
        "df.describe()"
      ],
      "execution_count": 553,
      "outputs": [
        {
          "output_type": "execute_result",
          "data": {
            "text/html": [
              "<div>\n",
              "<style scoped>\n",
              "    .dataframe tbody tr th:only-of-type {\n",
              "        vertical-align: middle;\n",
              "    }\n",
              "\n",
              "    .dataframe tbody tr th {\n",
              "        vertical-align: top;\n",
              "    }\n",
              "\n",
              "    .dataframe thead th {\n",
              "        text-align: right;\n",
              "    }\n",
              "</style>\n",
              "<table border=\"1\" class=\"dataframe\">\n",
              "  <thead>\n",
              "    <tr style=\"text-align: right;\">\n",
              "      <th></th>\n",
              "      <th>age</th>\n",
              "      <th>new_user</th>\n",
              "      <th>total_pages_visited</th>\n",
              "      <th>converted</th>\n",
              "    </tr>\n",
              "  </thead>\n",
              "  <tbody>\n",
              "    <tr>\n",
              "      <th>count</th>\n",
              "      <td>316200.000000</td>\n",
              "      <td>316200.000000</td>\n",
              "      <td>316200.000000</td>\n",
              "      <td>316200.000000</td>\n",
              "    </tr>\n",
              "    <tr>\n",
              "      <th>mean</th>\n",
              "      <td>30.569307</td>\n",
              "      <td>0.685465</td>\n",
              "      <td>4.872966</td>\n",
              "      <td>0.032258</td>\n",
              "    </tr>\n",
              "    <tr>\n",
              "      <th>std</th>\n",
              "      <td>8.268932</td>\n",
              "      <td>0.464331</td>\n",
              "      <td>3.341104</td>\n",
              "      <td>0.176685</td>\n",
              "    </tr>\n",
              "    <tr>\n",
              "      <th>min</th>\n",
              "      <td>17.000000</td>\n",
              "      <td>0.000000</td>\n",
              "      <td>1.000000</td>\n",
              "      <td>0.000000</td>\n",
              "    </tr>\n",
              "    <tr>\n",
              "      <th>25%</th>\n",
              "      <td>24.000000</td>\n",
              "      <td>0.000000</td>\n",
              "      <td>2.000000</td>\n",
              "      <td>0.000000</td>\n",
              "    </tr>\n",
              "    <tr>\n",
              "      <th>50%</th>\n",
              "      <td>30.000000</td>\n",
              "      <td>1.000000</td>\n",
              "      <td>4.000000</td>\n",
              "      <td>0.000000</td>\n",
              "    </tr>\n",
              "    <tr>\n",
              "      <th>75%</th>\n",
              "      <td>36.000000</td>\n",
              "      <td>1.000000</td>\n",
              "      <td>7.000000</td>\n",
              "      <td>0.000000</td>\n",
              "    </tr>\n",
              "    <tr>\n",
              "      <th>max</th>\n",
              "      <td>79.000000</td>\n",
              "      <td>1.000000</td>\n",
              "      <td>29.000000</td>\n",
              "      <td>1.000000</td>\n",
              "    </tr>\n",
              "  </tbody>\n",
              "</table>\n",
              "</div>"
            ],
            "text/plain": [
              "                 age       new_user  total_pages_visited      converted\n",
              "count  316200.000000  316200.000000        316200.000000  316200.000000\n",
              "mean       30.569307       0.685465             4.872966       0.032258\n",
              "std         8.268932       0.464331             3.341104       0.176685\n",
              "min        17.000000       0.000000             1.000000       0.000000\n",
              "25%        24.000000       0.000000             2.000000       0.000000\n",
              "50%        30.000000       1.000000             4.000000       0.000000\n",
              "75%        36.000000       1.000000             7.000000       0.000000\n",
              "max        79.000000       1.000000            29.000000       1.000000"
            ]
          },
          "metadata": {
            "tags": []
          },
          "execution_count": 553
        }
      ]
    },
    {
      "cell_type": "markdown",
      "metadata": {
        "id": "IVT_ZTOcK5u5",
        "colab_type": "text"
      },
      "source": [
        "# Visualisation des relations entre les données"
      ]
    },
    {
      "cell_type": "markdown",
      "metadata": {
        "id": "w0bCBXzdMEYn",
        "colab_type": "text"
      },
      "source": [
        "Matrice de correlation"
      ]
    },
    {
      "cell_type": "code",
      "metadata": {
        "id": "Mtz1AWAALB8p",
        "colab_type": "code",
        "outputId": "95c264b4-6b7c-499c-bdd0-df63a8e578aa",
        "colab": {
          "base_uri": "https://localhost:8080/",
          "height": 506
        }
      },
      "source": [
        "corr = df.corr()\n",
        "f, ax = plt.subplots(figsize=(18, 8))\n",
        "sns.heatmap(corr, annot=True, ax=ax)"
      ],
      "execution_count": 554,
      "outputs": [
        {
          "output_type": "execute_result",
          "data": {
            "text/plain": [
              "<matplotlib.axes._subplots.AxesSubplot at 0x7f515fb74f60>"
            ]
          },
          "metadata": {
            "tags": []
          },
          "execution_count": 554
        },
        {
          "output_type": "display_data",
          "data": {
            "image/png": "[encoded data removed]",
            "text/plain": [
              "<Figure size 1296x576 with 2 Axes>"
            ]
          },
          "metadata": {
            "tags": []
          }
        }
      ]
    },
    {
      "cell_type": "code",
      "metadata": {
        "id": "F68Ks_l0V9gs",
        "colab_type": "code",
        "outputId": "5c937d63-c575-40df-dc62-022198970b1f",
        "colab": {
          "base_uri": "https://localhost:8080/",
          "height": 877
        }
      },
      "source": [
        "g = sns.catplot(x=\"total_pages_visited\", y=\"converted\", row=\"country\",\n",
        "                kind=\"box\", orient=\"h\", height=3, aspect=4,\n",
        "                data=df)\n",
        "g.set(xscale=\"log\");"
      ],
      "execution_count": 555,
      "outputs": [
        {
          "output_type": "display_data",
          "data": {
            "image/png": "[encoded data removed]",
            "text/plain": [
              "<Figure size 864x864 with 4 Axes>"
            ]
          },
          "metadata": {
            "tags": []
          }
        }
      ]
    },
    {
      "cell_type": "code",
      "metadata": {
        "id": "EcFTpS5xVJ0N",
        "colab_type": "code",
        "outputId": "d4786305-205c-4902-e1ee-3c53b9f2fbe7",
        "colab": {
          "base_uri": "https://localhost:8080/",
          "height": 876
        }
      },
      "source": [
        "g = sns.catplot(x=\"age\", y=\"converted\", row=\"country\",\n",
        "                kind=\"box\", orient=\"h\", height=3, aspect=4,\n",
        "                data=df)\n",
        "g.set(xscale=\"log\");"
      ],
      "execution_count": 556,
      "outputs": [
        {
          "output_type": "display_data",
          "data": {
            "image/png": "[encoded data removed]",
            "text/plain": [
              "<Figure size 864x864 with 4 Axes>"
            ]
          },
          "metadata": {
            "tags": []
          }
        }
      ]
    },
    {
      "cell_type": "code",
      "metadata": {
        "id": "ExCEoifFXv3j",
        "colab_type": "code",
        "outputId": "4b58b66e-41f8-4342-a54c-498bbfac8e05",
        "colab": {
          "base_uri": "https://localhost:8080/",
          "height": 659
        }
      },
      "source": [
        "g = sns.catplot(x=\"age\", y=\"converted\", row=\"source\",\n",
        "                kind=\"box\", orient=\"h\", height=3, aspect=4,\n",
        "                data=df)\n",
        "g.set(xscale=\"log\");"
      ],
      "execution_count": 557,
      "outputs": [
        {
          "output_type": "display_data",
          "data": {
            "image/png": "[encoded data removed]",
            "text/plain": [
              "<Figure size 864x648 with 3 Axes>"
            ]
          },
          "metadata": {
            "tags": []
          }
        }
      ]
    },
    {
      "cell_type": "markdown",
      "metadata": {
        "id": "Ha1Ai69-MHK7",
        "colab_type": "text"
      },
      "source": [
        "Regroupement des données"
      ]
    },
    {
      "cell_type": "markdown",
      "metadata": {
        "id": "QFgUxEYYwMjV",
        "colab_type": "text"
      },
      "source": [
        "Essayons d'explorer quels facteurs jouent pour une conversion réussie"
      ]
    },
    {
      "cell_type": "code",
      "metadata": {
        "id": "626kw101jqy4",
        "colab_type": "code",
        "outputId": "b2ad7857-66a6-4390-ce79-762d5c66c7a6",
        "colab": {
          "base_uri": "https://localhost:8080/",
          "height": 387
        }
      },
      "source": [
        "coun = df.groupby(\"country\")[\"converted\"].sum().reset_index(name='count')\n",
        "coun.columns = [\"country\", \"converted\"]\n",
        "sns.catplot(x=\"country\", y=\"converted\", kind=\"bar\", data=coun)"
      ],
      "execution_count": 558,
      "outputs": [
        {
          "output_type": "execute_result",
          "data": {
            "text/plain": [
              "<seaborn.axisgrid.FacetGrid at 0x7f515f874748>"
            ]
          },
          "metadata": {
            "tags": []
          },
          "execution_count": 558
        },
        {
          "output_type": "display_data",
          "data": {
            "image/png": "[encoded data removed]",
            "text/plain": [
              "<Figure size 360x360 with 1 Axes>"
            ]
          },
          "metadata": {
            "tags": []
          }
        }
      ]
    },
    {
      "cell_type": "code",
      "metadata": {
        "id": "r3odvW4tdSHY",
        "colab_type": "code",
        "outputId": "6572a5fd-379c-4ba4-ec3a-e140f39d3827",
        "colab": {
          "base_uri": "https://localhost:8080/",
          "height": 387
        }
      },
      "source": [
        "age = df[df['converted']==1]\n",
        "age = age['age'].value_counts(bins=4)\n",
        "#age = pd.DataFrame(age)\n",
        "#age.columns = [\"Conversions\"]\n",
        "#age.index\n",
        "age = age.rename_axis('tranches age').reset_index(name='converted')\n",
        "age[\"tranches age\"] = age[\"tranches age\"].tolist()\n",
        "sns.catplot(x=\"tranches age\", y=\"converted\", kind=\"bar\", data=age)"
      ],
      "execution_count": 559,
      "outputs": [
        {
          "output_type": "execute_result",
          "data": {
            "text/plain": [
              "<seaborn.axisgrid.FacetGrid at 0x7f5160c1d860>"
            ]
          },
          "metadata": {
            "tags": []
          },
          "execution_count": 559
        },
        {
          "output_type": "display_data",
          "data": {
            "image/png": "[encoded data removed]",
            "text/plain": [
              "<Figure size 360x360 with 1 Axes>"
            ]
          },
          "metadata": {
            "tags": []
          }
        }
      ]
    },
    {
      "cell_type": "code",
      "metadata": {
        "id": "_eyjNG-Ar5GB",
        "colab_type": "code",
        "outputId": "37c927af-8dbb-46fe-9124-ca62fefa298d",
        "colab": {
          "base_uri": "https://localhost:8080/",
          "height": 387
        }
      },
      "source": [
        "new = df.groupby(\"new_user\")[\"converted\"].sum().reset_index(name='count')\n",
        "new.columns = [\"new_user\", \"converted\"]\n",
        "sns.catplot(x=\"new_user\", y=\"converted\", kind=\"bar\", data=new)"
      ],
      "execution_count": 560,
      "outputs": [
        {
          "output_type": "execute_result",
          "data": {
            "text/plain": [
              "<seaborn.axisgrid.FacetGrid at 0x7f515f838ac8>"
            ]
          },
          "metadata": {
            "tags": []
          },
          "execution_count": 560
        },
        {
          "output_type": "display_data",
          "data": {
            "image/png": "[encoded data removed]",
            "text/plain": [
              "<Figure size 360x360 with 1 Axes>"
            ]
          },
          "metadata": {
            "tags": []
          }
        }
      ]
    },
    {
      "cell_type": "code",
      "metadata": {
        "id": "Ur0CUynIsOL-",
        "colab_type": "code",
        "outputId": "84581dba-30c9-487b-ec5a-051dc0c42d08",
        "colab": {
          "base_uri": "https://localhost:8080/",
          "height": 387
        }
      },
      "source": [
        "src = df.groupby(\"source\")[\"converted\"].sum().reset_index(name='count')\n",
        "src.columns = [\"source\", \"converted\"]\n",
        "sns.catplot(x=\"source\", y=\"converted\", kind=\"bar\", data=src)"
      ],
      "execution_count": 561,
      "outputs": [
        {
          "output_type": "execute_result",
          "data": {
            "text/plain": [
              "<seaborn.axisgrid.FacetGrid at 0x7f5160dcb160>"
            ]
          },
          "metadata": {
            "tags": []
          },
          "execution_count": 561
        },
        {
          "output_type": "display_data",
          "data": {
            "image/png": "[encoded data removed]",
            "text/plain": [
              "<Figure size 360x360 with 1 Axes>"
            ]
          },
          "metadata": {
            "tags": []
          }
        }
      ]
    },
    {
      "cell_type": "code",
      "metadata": {
        "id": "xljyi3aMsgsC",
        "colab_type": "code",
        "outputId": "467d047c-235d-4ee5-807b-d6b515f97fd2",
        "colab": {
          "base_uri": "https://localhost:8080/",
          "height": 387
        }
      },
      "source": [
        "ttlp = df[df['converted']==1]\n",
        "ttlp = ttlp['total_pages_visited'].value_counts(bins=4)\n",
        "ttlp = ttlp.rename_axis('tranches pages visitées').reset_index(name='converted')\n",
        "ttlp = ttlp.sort_values(by = \"tranches pages visitées\")\n",
        "sns.catplot(y=\"tranches pages visitées\", x=\"converted\", kind=\"bar\", orient= 'h', data=ttlp)\n"
      ],
      "execution_count": 562,
      "outputs": [
        {
          "output_type": "execute_result",
          "data": {
            "text/plain": [
              "<seaborn.axisgrid.FacetGrid at 0x7f515f6f2828>"
            ]
          },
          "metadata": {
            "tags": []
          },
          "execution_count": 562
        },
        {
          "output_type": "display_data",
          "data": {
            "image/png": "[encoded data removed]",
            "text/plain": [
              "<Figure size 360x360 with 1 Axes>"
            ]
          },
          "metadata": {
            "tags": []
          }
        }
      ]
    },
    {
      "cell_type": "markdown",
      "metadata": {
        "id": "2TJdfCa8SQ1E",
        "colab_type": "text"
      },
      "source": [
        "# Normalisation et transformation des données"
      ]
    },
    {
      "cell_type": "markdown",
      "metadata": {
        "id": "XP-a8NZRyd-w",
        "colab_type": "text"
      },
      "source": [
        "On crée de nouvelles variables pour les tranches d'âges. "
      ]
    },
    {
      "cell_type": "code",
      "metadata": {
        "id": "hcSblz9Cy5GX",
        "colab_type": "code",
        "outputId": "3c4978fe-8035-4fb8-aedf-0eb766c23dba",
        "colab": {
          "base_uri": "https://localhost:8080/",
          "height": 206
        }
      },
      "source": [
        "df[\"tr_age\"] = [\"1\" if a<=28 else \"2\" if a<=39 else \"3\" if a<=50 else \"4\" for a in df.age ]\n",
        "#df.sort_values(by = \"tr_age\", ascending = False)\n",
        "df.groupby(\"tr_age\").count()"
      ],
      "execution_count": 563,
      "outputs": [
        {
          "output_type": "execute_result",
          "data": {
            "text/html": [
              "<div>\n",
              "<style scoped>\n",
              "    .dataframe tbody tr th:only-of-type {\n",
              "        vertical-align: middle;\n",
              "    }\n",
              "\n",
              "    .dataframe tbody tr th {\n",
              "        vertical-align: top;\n",
              "    }\n",
              "\n",
              "    .dataframe thead th {\n",
              "        text-align: right;\n",
              "    }\n",
              "</style>\n",
              "<table border=\"1\" class=\"dataframe\">\n",
              "  <thead>\n",
              "    <tr style=\"text-align: right;\">\n",
              "      <th></th>\n",
              "      <th>country</th>\n",
              "      <th>age</th>\n",
              "      <th>new_user</th>\n",
              "      <th>source</th>\n",
              "      <th>total_pages_visited</th>\n",
              "      <th>converted</th>\n",
              "    </tr>\n",
              "    <tr>\n",
              "      <th>tr_age</th>\n",
              "      <th></th>\n",
              "      <th></th>\n",
              "      <th></th>\n",
              "      <th></th>\n",
              "      <th></th>\n",
              "      <th></th>\n",
              "    </tr>\n",
              "  </thead>\n",
              "  <tbody>\n",
              "    <tr>\n",
              "      <th>1</th>\n",
              "      <td>139347</td>\n",
              "      <td>139347</td>\n",
              "      <td>139347</td>\n",
              "      <td>139347</td>\n",
              "      <td>139347</td>\n",
              "      <td>139347</td>\n",
              "    </tr>\n",
              "    <tr>\n",
              "      <th>2</th>\n",
              "      <td>129627</td>\n",
              "      <td>129627</td>\n",
              "      <td>129627</td>\n",
              "      <td>129627</td>\n",
              "      <td>129627</td>\n",
              "      <td>129627</td>\n",
              "    </tr>\n",
              "    <tr>\n",
              "      <th>3</th>\n",
              "      <td>42503</td>\n",
              "      <td>42503</td>\n",
              "      <td>42503</td>\n",
              "      <td>42503</td>\n",
              "      <td>42503</td>\n",
              "      <td>42503</td>\n",
              "    </tr>\n",
              "    <tr>\n",
              "      <th>4</th>\n",
              "      <td>4723</td>\n",
              "      <td>4723</td>\n",
              "      <td>4723</td>\n",
              "      <td>4723</td>\n",
              "      <td>4723</td>\n",
              "      <td>4723</td>\n",
              "    </tr>\n",
              "  </tbody>\n",
              "</table>\n",
              "</div>"
            ],
            "text/plain": [
              "        country     age  new_user  source  total_pages_visited  converted\n",
              "tr_age                                                                   \n",
              "1        139347  139347    139347  139347               139347     139347\n",
              "2        129627  129627    129627  129627               129627     129627\n",
              "3         42503   42503     42503   42503                42503      42503\n",
              "4          4723    4723      4723    4723                 4723       4723"
            ]
          },
          "metadata": {
            "tags": []
          },
          "execution_count": 563
        }
      ]
    },
    {
      "cell_type": "markdown",
      "metadata": {
        "id": "34Rb7X0AuB1S",
        "colab_type": "text"
      },
      "source": [
        "On crée également des tranches pour nombres de pages visitées"
      ]
    },
    {
      "cell_type": "code",
      "metadata": {
        "id": "n8fnKLtdt9RF",
        "colab_type": "code",
        "outputId": "ccaaa28c-a23b-468b-825e-8df1b323b126",
        "colab": {
          "base_uri": "https://localhost:8080/",
          "height": 206
        }
      },
      "source": [
        "df[\"tr_pages\"] = [\"1\" if a<=8.75 else \"2\" if a<=15.5 else \"3\" if a<=22.25 else \"4\" for a in df.total_pages_visited]\n",
        "df.groupby(\"tr_pages\").count()"
      ],
      "execution_count": 564,
      "outputs": [
        {
          "output_type": "execute_result",
          "data": {
            "text/html": [
              "<div>\n",
              "<style scoped>\n",
              "    .dataframe tbody tr th:only-of-type {\n",
              "        vertical-align: middle;\n",
              "    }\n",
              "\n",
              "    .dataframe tbody tr th {\n",
              "        vertical-align: top;\n",
              "    }\n",
              "\n",
              "    .dataframe thead th {\n",
              "        text-align: right;\n",
              "    }\n",
              "</style>\n",
              "<table border=\"1\" class=\"dataframe\">\n",
              "  <thead>\n",
              "    <tr style=\"text-align: right;\">\n",
              "      <th></th>\n",
              "      <th>country</th>\n",
              "      <th>age</th>\n",
              "      <th>new_user</th>\n",
              "      <th>source</th>\n",
              "      <th>total_pages_visited</th>\n",
              "      <th>converted</th>\n",
              "      <th>tr_age</th>\n",
              "    </tr>\n",
              "    <tr>\n",
              "      <th>tr_pages</th>\n",
              "      <th></th>\n",
              "      <th></th>\n",
              "      <th></th>\n",
              "      <th></th>\n",
              "      <th></th>\n",
              "      <th></th>\n",
              "      <th></th>\n",
              "    </tr>\n",
              "  </thead>\n",
              "  <tbody>\n",
              "    <tr>\n",
              "      <th>1</th>\n",
              "      <td>277061</td>\n",
              "      <td>277061</td>\n",
              "      <td>277061</td>\n",
              "      <td>277061</td>\n",
              "      <td>277061</td>\n",
              "      <td>277061</td>\n",
              "      <td>277061</td>\n",
              "    </tr>\n",
              "    <tr>\n",
              "      <th>2</th>\n",
              "      <td>34801</td>\n",
              "      <td>34801</td>\n",
              "      <td>34801</td>\n",
              "      <td>34801</td>\n",
              "      <td>34801</td>\n",
              "      <td>34801</td>\n",
              "      <td>34801</td>\n",
              "    </tr>\n",
              "    <tr>\n",
              "      <th>3</th>\n",
              "      <td>4113</td>\n",
              "      <td>4113</td>\n",
              "      <td>4113</td>\n",
              "      <td>4113</td>\n",
              "      <td>4113</td>\n",
              "      <td>4113</td>\n",
              "      <td>4113</td>\n",
              "    </tr>\n",
              "    <tr>\n",
              "      <th>4</th>\n",
              "      <td>225</td>\n",
              "      <td>225</td>\n",
              "      <td>225</td>\n",
              "      <td>225</td>\n",
              "      <td>225</td>\n",
              "      <td>225</td>\n",
              "      <td>225</td>\n",
              "    </tr>\n",
              "  </tbody>\n",
              "</table>\n",
              "</div>"
            ],
            "text/plain": [
              "          country     age  new_user  ...  total_pages_visited  converted  tr_age\n",
              "tr_pages                             ...                                        \n",
              "1          277061  277061    277061  ...               277061     277061  277061\n",
              "2           34801   34801     34801  ...                34801      34801   34801\n",
              "3            4113    4113      4113  ...                 4113       4113    4113\n",
              "4             225     225       225  ...                  225        225     225\n",
              "\n",
              "[4 rows x 7 columns]"
            ]
          },
          "metadata": {
            "tags": []
          },
          "execution_count": 564
        }
      ]
    },
    {
      "cell_type": "code",
      "metadata": {
        "id": "by0JHbxi0aoZ",
        "colab_type": "code",
        "outputId": "566b2112-86ba-492a-fd06-0cc96b5b06c8",
        "colab": {
          "base_uri": "https://localhost:8080/",
          "height": 206
        }
      },
      "source": [
        "# supprimer la colonne age et total pages\n",
        "\n",
        "df = df.drop(\"age\", axis = 1)\n",
        "df = df.drop(\"total_pages_visited\", axis = 1)\n",
        "df.groupby(\"tr_age\").count()"
      ],
      "execution_count": 565,
      "outputs": [
        {
          "output_type": "execute_result",
          "data": {
            "text/html": [
              "<div>\n",
              "<style scoped>\n",
              "    .dataframe tbody tr th:only-of-type {\n",
              "        vertical-align: middle;\n",
              "    }\n",
              "\n",
              "    .dataframe tbody tr th {\n",
              "        vertical-align: top;\n",
              "    }\n",
              "\n",
              "    .dataframe thead th {\n",
              "        text-align: right;\n",
              "    }\n",
              "</style>\n",
              "<table border=\"1\" class=\"dataframe\">\n",
              "  <thead>\n",
              "    <tr style=\"text-align: right;\">\n",
              "      <th></th>\n",
              "      <th>country</th>\n",
              "      <th>new_user</th>\n",
              "      <th>source</th>\n",
              "      <th>converted</th>\n",
              "      <th>tr_pages</th>\n",
              "    </tr>\n",
              "    <tr>\n",
              "      <th>tr_age</th>\n",
              "      <th></th>\n",
              "      <th></th>\n",
              "      <th></th>\n",
              "      <th></th>\n",
              "      <th></th>\n",
              "    </tr>\n",
              "  </thead>\n",
              "  <tbody>\n",
              "    <tr>\n",
              "      <th>1</th>\n",
              "      <td>139347</td>\n",
              "      <td>139347</td>\n",
              "      <td>139347</td>\n",
              "      <td>139347</td>\n",
              "      <td>139347</td>\n",
              "    </tr>\n",
              "    <tr>\n",
              "      <th>2</th>\n",
              "      <td>129627</td>\n",
              "      <td>129627</td>\n",
              "      <td>129627</td>\n",
              "      <td>129627</td>\n",
              "      <td>129627</td>\n",
              "    </tr>\n",
              "    <tr>\n",
              "      <th>3</th>\n",
              "      <td>42503</td>\n",
              "      <td>42503</td>\n",
              "      <td>42503</td>\n",
              "      <td>42503</td>\n",
              "      <td>42503</td>\n",
              "    </tr>\n",
              "    <tr>\n",
              "      <th>4</th>\n",
              "      <td>4723</td>\n",
              "      <td>4723</td>\n",
              "      <td>4723</td>\n",
              "      <td>4723</td>\n",
              "      <td>4723</td>\n",
              "    </tr>\n",
              "  </tbody>\n",
              "</table>\n",
              "</div>"
            ],
            "text/plain": [
              "        country  new_user  source  converted  tr_pages\n",
              "tr_age                                                \n",
              "1        139347    139347  139347     139347    139347\n",
              "2        129627    129627  129627     129627    129627\n",
              "3         42503     42503   42503      42503     42503\n",
              "4          4723      4723    4723       4723      4723"
            ]
          },
          "metadata": {
            "tags": []
          },
          "execution_count": 565
        }
      ]
    },
    {
      "cell_type": "code",
      "metadata": {
        "id": "vmR8eIkPftc2",
        "colab_type": "code",
        "outputId": "414d2f5e-f630-4c28-ace1-89625a5b7da4",
        "colab": {
          "base_uri": "https://localhost:8080/",
          "height": 35
        }
      },
      "source": [
        "#prendre un échantillon converted == 0 \n",
        "df_original = df\n",
        "df_temp = df[df[\"converted\"]==0].iloc[:(len(df[df[\"converted\"]==1])*2),:]\n",
        "#df_temp2 = df[df[\"converted\"]==1].iloc[:(int((len(df[df[\"converted\"]==1]))*2/3)),:]\n",
        "df = df.drop(df[df[\"converted\"]==0].index)\n",
        "df = df.append(df_temp)\n",
        "#df = df_temp.append(df_temp2)\n",
        "len(df)\n"
      ],
      "execution_count": 566,
      "outputs": [
        {
          "output_type": "execute_result",
          "data": {
            "text/plain": [
              "30600"
            ]
          },
          "metadata": {
            "tags": []
          },
          "execution_count": 566
        }
      ]
    },
    {
      "cell_type": "code",
      "metadata": {
        "id": "CblXDCoLiSpI",
        "colab_type": "code",
        "outputId": "b16f1325-9716-4a43-d6e6-7175b3eebc21",
        "colab": {
          "base_uri": "https://localhost:8080/",
          "height": 320
        }
      },
      "source": [
        "#Dummification\n",
        "\n",
        "df = pd.get_dummies(df, drop_first= True)\n",
        "#df = pd.get_dummies(df)\n",
        "df.describe()"
      ],
      "execution_count": 567,
      "outputs": [
        {
          "output_type": "execute_result",
          "data": {
            "text/html": [
              "<div>\n",
              "<style scoped>\n",
              "    .dataframe tbody tr th:only-of-type {\n",
              "        vertical-align: middle;\n",
              "    }\n",
              "\n",
              "    .dataframe tbody tr th {\n",
              "        vertical-align: top;\n",
              "    }\n",
              "\n",
              "    .dataframe thead th {\n",
              "        text-align: right;\n",
              "    }\n",
              "</style>\n",
              "<table border=\"1\" class=\"dataframe\">\n",
              "  <thead>\n",
              "    <tr style=\"text-align: right;\">\n",
              "      <th></th>\n",
              "      <th>new_user</th>\n",
              "      <th>converted</th>\n",
              "      <th>country_Germany</th>\n",
              "      <th>country_UK</th>\n",
              "      <th>country_US</th>\n",
              "      <th>source_Direct</th>\n",
              "      <th>source_Seo</th>\n",
              "      <th>tr_age_2</th>\n",
              "      <th>tr_age_3</th>\n",
              "      <th>tr_age_4</th>\n",
              "      <th>tr_pages_2</th>\n",
              "      <th>tr_pages_3</th>\n",
              "      <th>tr_pages_4</th>\n",
              "    </tr>\n",
              "  </thead>\n",
              "  <tbody>\n",
              "    <tr>\n",
              "      <th>count</th>\n",
              "      <td>30600.000000</td>\n",
              "      <td>30600.000000</td>\n",
              "      <td>30600.000000</td>\n",
              "      <td>30600.000000</td>\n",
              "      <td>30600.000000</td>\n",
              "      <td>30600.000000</td>\n",
              "      <td>30600.000000</td>\n",
              "      <td>30600.000000</td>\n",
              "      <td>30600.000000</td>\n",
              "      <td>30600.000000</td>\n",
              "      <td>30600.000000</td>\n",
              "      <td>30600.000000</td>\n",
              "      <td>30600.000000</td>\n",
              "    </tr>\n",
              "    <tr>\n",
              "      <th>mean</th>\n",
              "      <td>0.567190</td>\n",
              "      <td>0.333333</td>\n",
              "      <td>0.052908</td>\n",
              "      <td>0.182418</td>\n",
              "      <td>0.593562</td>\n",
              "      <td>0.221176</td>\n",
              "      <td>0.492451</td>\n",
              "      <td>0.373497</td>\n",
              "      <td>0.108235</td>\n",
              "      <td>0.011503</td>\n",
              "      <td>0.241928</td>\n",
              "      <td>0.127190</td>\n",
              "      <td>0.007353</td>\n",
              "    </tr>\n",
              "    <tr>\n",
              "      <th>std</th>\n",
              "      <td>0.495473</td>\n",
              "      <td>0.471412</td>\n",
              "      <td>0.223854</td>\n",
              "      <td>0.386195</td>\n",
              "      <td>0.491176</td>\n",
              "      <td>0.415046</td>\n",
              "      <td>0.499951</td>\n",
              "      <td>0.483740</td>\n",
              "      <td>0.310682</td>\n",
              "      <td>0.106636</td>\n",
              "      <td>0.428258</td>\n",
              "      <td>0.333191</td>\n",
              "      <td>0.085435</td>\n",
              "    </tr>\n",
              "    <tr>\n",
              "      <th>min</th>\n",
              "      <td>0.000000</td>\n",
              "      <td>0.000000</td>\n",
              "      <td>0.000000</td>\n",
              "      <td>0.000000</td>\n",
              "      <td>0.000000</td>\n",
              "      <td>0.000000</td>\n",
              "      <td>0.000000</td>\n",
              "      <td>0.000000</td>\n",
              "      <td>0.000000</td>\n",
              "      <td>0.000000</td>\n",
              "      <td>0.000000</td>\n",
              "      <td>0.000000</td>\n",
              "      <td>0.000000</td>\n",
              "    </tr>\n",
              "    <tr>\n",
              "      <th>25%</th>\n",
              "      <td>0.000000</td>\n",
              "      <td>0.000000</td>\n",
              "      <td>0.000000</td>\n",
              "      <td>0.000000</td>\n",
              "      <td>0.000000</td>\n",
              "      <td>0.000000</td>\n",
              "      <td>0.000000</td>\n",
              "      <td>0.000000</td>\n",
              "      <td>0.000000</td>\n",
              "      <td>0.000000</td>\n",
              "      <td>0.000000</td>\n",
              "      <td>0.000000</td>\n",
              "      <td>0.000000</td>\n",
              "    </tr>\n",
              "    <tr>\n",
              "      <th>50%</th>\n",
              "      <td>1.000000</td>\n",
              "      <td>0.000000</td>\n",
              "      <td>0.000000</td>\n",
              "      <td>0.000000</td>\n",
              "      <td>1.000000</td>\n",
              "      <td>0.000000</td>\n",
              "      <td>0.000000</td>\n",
              "      <td>0.000000</td>\n",
              "      <td>0.000000</td>\n",
              "      <td>0.000000</td>\n",
              "      <td>0.000000</td>\n",
              "      <td>0.000000</td>\n",
              "      <td>0.000000</td>\n",
              "    </tr>\n",
              "    <tr>\n",
              "      <th>75%</th>\n",
              "      <td>1.000000</td>\n",
              "      <td>1.000000</td>\n",
              "      <td>0.000000</td>\n",
              "      <td>0.000000</td>\n",
              "      <td>1.000000</td>\n",
              "      <td>0.000000</td>\n",
              "      <td>1.000000</td>\n",
              "      <td>1.000000</td>\n",
              "      <td>0.000000</td>\n",
              "      <td>0.000000</td>\n",
              "      <td>0.000000</td>\n",
              "      <td>0.000000</td>\n",
              "      <td>0.000000</td>\n",
              "    </tr>\n",
              "    <tr>\n",
              "      <th>max</th>\n",
              "      <td>1.000000</td>\n",
              "      <td>1.000000</td>\n",
              "      <td>1.000000</td>\n",
              "      <td>1.000000</td>\n",
              "      <td>1.000000</td>\n",
              "      <td>1.000000</td>\n",
              "      <td>1.000000</td>\n",
              "      <td>1.000000</td>\n",
              "      <td>1.000000</td>\n",
              "      <td>1.000000</td>\n",
              "      <td>1.000000</td>\n",
              "      <td>1.000000</td>\n",
              "      <td>1.000000</td>\n",
              "    </tr>\n",
              "  </tbody>\n",
              "</table>\n",
              "</div>"
            ],
            "text/plain": [
              "           new_user     converted  ...    tr_pages_3    tr_pages_4\n",
              "count  30600.000000  30600.000000  ...  30600.000000  30600.000000\n",
              "mean       0.567190      0.333333  ...      0.127190      0.007353\n",
              "std        0.495473      0.471412  ...      0.333191      0.085435\n",
              "min        0.000000      0.000000  ...      0.000000      0.000000\n",
              "25%        0.000000      0.000000  ...      0.000000      0.000000\n",
              "50%        1.000000      0.000000  ...      0.000000      0.000000\n",
              "75%        1.000000      1.000000  ...      0.000000      0.000000\n",
              "max        1.000000      1.000000  ...      1.000000      1.000000\n",
              "\n",
              "[8 rows x 13 columns]"
            ]
          },
          "metadata": {
            "tags": []
          },
          "execution_count": 567
        }
      ]
    },
    {
      "cell_type": "code",
      "metadata": {
        "id": "NUywP0m2mhCJ",
        "colab_type": "code",
        "outputId": "62ff7193-3593-4f23-ac98-1dc636c48b91",
        "colab": {
          "base_uri": "https://localhost:8080/",
          "height": 206
        }
      },
      "source": [
        "#stocker la colonne \"converted\" dans la variable y\n",
        "y = df[\"converted\"]\n",
        "#Construire un nouveau dataset sans la colonne converted\n",
        "X = df.drop(columns = [\"converted\"])\n",
        "X.head()"
      ],
      "execution_count": 568,
      "outputs": [
        {
          "output_type": "execute_result",
          "data": {
            "text/html": [
              "<div>\n",
              "<style scoped>\n",
              "    .dataframe tbody tr th:only-of-type {\n",
              "        vertical-align: middle;\n",
              "    }\n",
              "\n",
              "    .dataframe tbody tr th {\n",
              "        vertical-align: top;\n",
              "    }\n",
              "\n",
              "    .dataframe thead th {\n",
              "        text-align: right;\n",
              "    }\n",
              "</style>\n",
              "<table border=\"1\" class=\"dataframe\">\n",
              "  <thead>\n",
              "    <tr style=\"text-align: right;\">\n",
              "      <th></th>\n",
              "      <th>new_user</th>\n",
              "      <th>country_Germany</th>\n",
              "      <th>country_UK</th>\n",
              "      <th>country_US</th>\n",
              "      <th>source_Direct</th>\n",
              "      <th>source_Seo</th>\n",
              "      <th>tr_age_2</th>\n",
              "      <th>tr_age_3</th>\n",
              "      <th>tr_age_4</th>\n",
              "      <th>tr_pages_2</th>\n",
              "      <th>tr_pages_3</th>\n",
              "      <th>tr_pages_4</th>\n",
              "    </tr>\n",
              "  </thead>\n",
              "  <tbody>\n",
              "    <tr>\n",
              "      <th>54</th>\n",
              "      <td>1</td>\n",
              "      <td>0</td>\n",
              "      <td>0</td>\n",
              "      <td>1</td>\n",
              "      <td>1</td>\n",
              "      <td>0</td>\n",
              "      <td>0</td>\n",
              "      <td>0</td>\n",
              "      <td>0</td>\n",
              "      <td>0</td>\n",
              "      <td>1</td>\n",
              "      <td>0</td>\n",
              "    </tr>\n",
              "    <tr>\n",
              "      <th>72</th>\n",
              "      <td>0</td>\n",
              "      <td>0</td>\n",
              "      <td>0</td>\n",
              "      <td>1</td>\n",
              "      <td>0</td>\n",
              "      <td>1</td>\n",
              "      <td>1</td>\n",
              "      <td>0</td>\n",
              "      <td>0</td>\n",
              "      <td>1</td>\n",
              "      <td>0</td>\n",
              "      <td>0</td>\n",
              "    </tr>\n",
              "    <tr>\n",
              "      <th>87</th>\n",
              "      <td>0</td>\n",
              "      <td>0</td>\n",
              "      <td>0</td>\n",
              "      <td>1</td>\n",
              "      <td>1</td>\n",
              "      <td>0</td>\n",
              "      <td>0</td>\n",
              "      <td>0</td>\n",
              "      <td>0</td>\n",
              "      <td>0</td>\n",
              "      <td>1</td>\n",
              "      <td>0</td>\n",
              "    </tr>\n",
              "    <tr>\n",
              "      <th>130</th>\n",
              "      <td>0</td>\n",
              "      <td>0</td>\n",
              "      <td>0</td>\n",
              "      <td>1</td>\n",
              "      <td>0</td>\n",
              "      <td>0</td>\n",
              "      <td>0</td>\n",
              "      <td>0</td>\n",
              "      <td>0</td>\n",
              "      <td>0</td>\n",
              "      <td>1</td>\n",
              "      <td>0</td>\n",
              "    </tr>\n",
              "    <tr>\n",
              "      <th>182</th>\n",
              "      <td>0</td>\n",
              "      <td>0</td>\n",
              "      <td>0</td>\n",
              "      <td>1</td>\n",
              "      <td>0</td>\n",
              "      <td>0</td>\n",
              "      <td>0</td>\n",
              "      <td>0</td>\n",
              "      <td>0</td>\n",
              "      <td>1</td>\n",
              "      <td>0</td>\n",
              "      <td>0</td>\n",
              "    </tr>\n",
              "  </tbody>\n",
              "</table>\n",
              "</div>"
            ],
            "text/plain": [
              "     new_user  country_Germany  country_UK  ...  tr_pages_2  tr_pages_3  tr_pages_4\n",
              "54          1                0           0  ...           0           1           0\n",
              "72          0                0           0  ...           1           0           0\n",
              "87          0                0           0  ...           0           1           0\n",
              "130         0                0           0  ...           0           1           0\n",
              "182         0                0           0  ...           1           0           0\n",
              "\n",
              "[5 rows x 12 columns]"
            ]
          },
          "metadata": {
            "tags": []
          },
          "execution_count": 568
        }
      ]
    },
    {
      "cell_type": "code",
      "metadata": {
        "id": "LE7FO7kga20j",
        "colab_type": "code",
        "outputId": "a1e73f4a-5af9-4673-9fdc-ba2300c76e46",
        "colab": {
          "base_uri": "https://localhost:8080/",
          "height": 426
        }
      },
      "source": [
        "#calcul chi2 et p-value\n",
        "from sklearn import feature_selection\n",
        "feat = feature_selection.chi2(X, y)\n",
        "chi2 = pd.DataFrame(index=X.columns, data = feat[0], columns=[\"Chi2 Score\"])\n",
        "chi2[\"P-value\"] = feat[1]\n",
        "chi2 = chi2.sort_values(by = \"Chi2 Score\",  ascending = False)\n",
        "chi2"
      ],
      "execution_count": 569,
      "outputs": [
        {
          "output_type": "execute_result",
          "data": {
            "text/html": [
              "<div>\n",
              "<style scoped>\n",
              "    .dataframe tbody tr th:only-of-type {\n",
              "        vertical-align: middle;\n",
              "    }\n",
              "\n",
              "    .dataframe tbody tr th {\n",
              "        vertical-align: top;\n",
              "    }\n",
              "\n",
              "    .dataframe thead th {\n",
              "        text-align: right;\n",
              "    }\n",
              "</style>\n",
              "<table border=\"1\" class=\"dataframe\">\n",
              "  <thead>\n",
              "    <tr style=\"text-align: right;\">\n",
              "      <th></th>\n",
              "      <th>Chi2 Score</th>\n",
              "      <th>P-value</th>\n",
              "    </tr>\n",
              "  </thead>\n",
              "  <tbody>\n",
              "    <tr>\n",
              "      <th>tr_pages_3</th>\n",
              "      <td>7664.462487</td>\n",
              "      <td>0.000000e+00</td>\n",
              "    </tr>\n",
              "    <tr>\n",
              "      <th>tr_pages_2</th>\n",
              "      <td>5453.748210</td>\n",
              "      <td>0.000000e+00</td>\n",
              "    </tr>\n",
              "    <tr>\n",
              "      <th>new_user</th>\n",
              "      <td>1955.551999</td>\n",
              "      <td>0.000000e+00</td>\n",
              "    </tr>\n",
              "    <tr>\n",
              "      <th>tr_age_3</th>\n",
              "      <td>507.229620</td>\n",
              "      <td>2.540817e-112</td>\n",
              "    </tr>\n",
              "    <tr>\n",
              "      <th>tr_pages_4</th>\n",
              "      <td>450.000000</td>\n",
              "      <td>7.212994e-100</td>\n",
              "    </tr>\n",
              "    <tr>\n",
              "      <th>country_UK</th>\n",
              "      <td>383.072734</td>\n",
              "      <td>2.666772e-85</td>\n",
              "    </tr>\n",
              "    <tr>\n",
              "      <th>tr_age_2</th>\n",
              "      <td>232.032943</td>\n",
              "      <td>2.147831e-52</td>\n",
              "    </tr>\n",
              "    <tr>\n",
              "      <th>country_Germany</th>\n",
              "      <td>212.242434</td>\n",
              "      <td>4.452895e-48</td>\n",
              "    </tr>\n",
              "    <tr>\n",
              "      <th>country_US</th>\n",
              "      <td>113.777707</td>\n",
              "      <td>1.457671e-26</td>\n",
              "    </tr>\n",
              "    <tr>\n",
              "      <th>tr_age_4</th>\n",
              "      <td>113.762784</td>\n",
              "      <td>1.468683e-26</td>\n",
              "    </tr>\n",
              "    <tr>\n",
              "      <th>source_Direct</th>\n",
              "      <td>31.021277</td>\n",
              "      <td>2.552153e-08</td>\n",
              "    </tr>\n",
              "    <tr>\n",
              "      <th>source_Seo</th>\n",
              "      <td>1.770555</td>\n",
              "      <td>1.833134e-01</td>\n",
              "    </tr>\n",
              "  </tbody>\n",
              "</table>\n",
              "</div>"
            ],
            "text/plain": [
              "                  Chi2 Score        P-value\n",
              "tr_pages_3       7664.462487   0.000000e+00\n",
              "tr_pages_2       5453.748210   0.000000e+00\n",
              "new_user         1955.551999   0.000000e+00\n",
              "tr_age_3          507.229620  2.540817e-112\n",
              "tr_pages_4        450.000000  7.212994e-100\n",
              "country_UK        383.072734   2.666772e-85\n",
              "tr_age_2          232.032943   2.147831e-52\n",
              "country_Germany   212.242434   4.452895e-48\n",
              "country_US        113.777707   1.457671e-26\n",
              "tr_age_4          113.762784   1.468683e-26\n",
              "source_Direct      31.021277   2.552153e-08\n",
              "source_Seo          1.770555   1.833134e-01"
            ]
          },
          "metadata": {
            "tags": []
          },
          "execution_count": 569
        }
      ]
    },
    {
      "cell_type": "markdown",
      "metadata": {
        "id": "xwYsnN7Z6YsH",
        "colab_type": "text"
      },
      "source": [
        "# Regression Logistique"
      ]
    },
    {
      "cell_type": "code",
      "metadata": {
        "id": "IeE_TPmIlbps",
        "colab_type": "code",
        "colab": {}
      },
      "source": [
        "#Split des données\n",
        "from sklearn.model_selection import train_test_split\n",
        "#Split\n",
        "X_train, X_test, y_train, y_test = train_test_split(X, \n",
        "                                                    y,\n",
        "                                                    test_size=0.25,\n",
        "                                                    stratify=y,\n",
        "                                                    random_state=42\n",
        "                                                    )"
      ],
      "execution_count": 0,
      "outputs": []
    },
    {
      "cell_type": "code",
      "metadata": {
        "id": "S6pwwJjonzjc",
        "colab_type": "code",
        "outputId": "1b55a272-f8e7-41c9-8b49-f3d64d597e20",
        "colab": {
          "base_uri": "https://localhost:8080/",
          "height": 164
        }
      },
      "source": [
        "from sklearn.linear_model import LogisticRegression\n",
        "classifier = LogisticRegression()\n",
        "classifier.fit(X_train, y_train)"
      ],
      "execution_count": 571,
      "outputs": [
        {
          "output_type": "stream",
          "text": [
            "/usr/local/lib/python3.6/dist-packages/sklearn/linear_model/logistic.py:432: FutureWarning: Default solver will be changed to 'lbfgs' in 0.22. Specify a solver to silence this warning.\n",
            "  FutureWarning)\n"
          ],
          "name": "stderr"
        },
        {
          "output_type": "execute_result",
          "data": {
            "text/plain": [
              "LogisticRegression(C=1.0, class_weight=None, dual=False, fit_intercept=True,\n",
              "                   intercept_scaling=1, l1_ratio=None, max_iter=100,\n",
              "                   multi_class='warn', n_jobs=None, penalty='l2',\n",
              "                   random_state=None, solver='warn', tol=0.0001, verbose=0,\n",
              "                   warm_start=False)"
            ]
          },
          "metadata": {
            "tags": []
          },
          "execution_count": 571
        }
      ]
    },
    {
      "cell_type": "code",
      "metadata": {
        "id": "Jp5J0nZt4WzI",
        "colab_type": "code",
        "colab": {}
      },
      "source": [
        "y_pred = classifier.predict(X_test)"
      ],
      "execution_count": 0,
      "outputs": []
    },
    {
      "cell_type": "code",
      "metadata": {
        "id": "jgroA1BYn7ll",
        "colab_type": "code",
        "outputId": "2f0d07d4-9bfd-4f5d-c715-f58a4393b1f1",
        "colab": {
          "base_uri": "https://localhost:8080/",
          "height": 35
        }
      },
      "source": [
        "classifier.score(X_test,y_test)"
      ],
      "execution_count": 573,
      "outputs": [
        {
          "output_type": "execute_result",
          "data": {
            "text/plain": [
              "0.9326797385620915"
            ]
          },
          "metadata": {
            "tags": []
          },
          "execution_count": 573
        }
      ]
    },
    {
      "cell_type": "markdown",
      "metadata": {
        "id": "2mJgR6Bhv3xx",
        "colab_type": "text"
      },
      "source": [
        "Matrice de confusion / courbe ROC"
      ]
    },
    {
      "cell_type": "code",
      "metadata": {
        "id": "bh2DIyQDi7Ol",
        "colab_type": "code",
        "outputId": "65eca257-954e-49bb-9959-9f681c979057",
        "colab": {
          "base_uri": "https://localhost:8080/",
          "height": 450
        }
      },
      "source": [
        "from sklearn.metrics import confusion_matrix\n",
        "cm = confusion_matrix(y_test, y_pred)\n",
        "fig, ax = plt.subplots(figsize=(10,7))  \n",
        "sns.heatmap(cm, annot=True, fmt=\"d\", ax = ax)"
      ],
      "execution_count": 574,
      "outputs": [
        {
          "output_type": "execute_result",
          "data": {
            "text/plain": [
              "<matplotlib.axes._subplots.AxesSubplot at 0x7f515f675160>"
            ]
          },
          "metadata": {
            "tags": []
          },
          "execution_count": 574
        },
        {
          "output_type": "display_data",
          "data": {
            "image/png": "[encoded data removed]",
            "text/plain": [
              "<Figure size 720x504 with 2 Axes>"
            ]
          },
          "metadata": {
            "tags": []
          }
        }
      ]
    },
    {
      "cell_type": "code",
      "metadata": {
        "id": "zK1nGPWNjt7Z",
        "colab_type": "code",
        "outputId": "be4b24a2-42b1-45a0-ab5a-a9c25c5922cc",
        "colab": {
          "base_uri": "https://localhost:8080/",
          "height": 295
        }
      },
      "source": [
        "from sklearn.metrics import roc_auc_score\n",
        "from sklearn.metrics import roc_curve\n",
        "logit_roc_auc = roc_auc_score(y, classifier.predict(X))\n",
        "fpr, tpr, thresholds = roc_curve(y, classifier.predict_proba(X)[:,1])\n",
        "plt.figure()\n",
        "plt.plot(fpr, tpr, label='Logistic Regression (area = %0.2f)' % logit_roc_auc)\n",
        "plt.plot([0, 1], [0, 1],'r--')\n",
        "plt.xlim([0.0, 1.0])\n",
        "plt.ylim([0.0, 1.05])\n",
        "plt.xlabel('False Positive Rate')\n",
        "plt.ylabel('True Positive Rate')\n",
        "plt.title('Receiver operating characteristic')\n",
        "plt.legend(loc=\"lower right\")\n",
        "plt.savefig('Log_ROC')\n",
        "plt.show()"
      ],
      "execution_count": 575,
      "outputs": [
        {
          "output_type": "display_data",
          "data": {
            "image/png": "[encoded data removed]",
            "text/plain": [
              "<Figure size 432x288 with 1 Axes>"
            ]
          },
          "metadata": {
            "tags": []
          }
        }
      ]
    },
    {
      "cell_type": "code",
      "metadata": {
        "id": "k1vCCc3eZgc6",
        "colab_type": "code",
        "outputId": "fdfef587-f9e0-438a-cae5-bb1154c10bdc",
        "colab": {
          "base_uri": "https://localhost:8080/",
          "height": 419
        }
      },
      "source": [
        "from sklearn.model_selection import cross_val_score\n",
        "\n",
        "#calcul la moyenne des scores de cross validation\n",
        "\n",
        "cross_val_score(classifier,X, y, cv=10).mean()"
      ],
      "execution_count": 576,
      "outputs": [
        {
          "output_type": "stream",
          "text": [
            "/usr/local/lib/python3.6/dist-packages/sklearn/linear_model/logistic.py:432: FutureWarning: Default solver will be changed to 'lbfgs' in 0.22. Specify a solver to silence this warning.\n",
            "  FutureWarning)\n",
            "/usr/local/lib/python3.6/dist-packages/sklearn/linear_model/logistic.py:432: FutureWarning: Default solver will be changed to 'lbfgs' in 0.22. Specify a solver to silence this warning.\n",
            "  FutureWarning)\n",
            "/usr/local/lib/python3.6/dist-packages/sklearn/linear_model/logistic.py:432: FutureWarning: Default solver will be changed to 'lbfgs' in 0.22. Specify a solver to silence this warning.\n",
            "  FutureWarning)\n",
            "/usr/local/lib/python3.6/dist-packages/sklearn/linear_model/logistic.py:432: FutureWarning: Default solver will be changed to 'lbfgs' in 0.22. Specify a solver to silence this warning.\n",
            "  FutureWarning)\n",
            "/usr/local/lib/python3.6/dist-packages/sklearn/linear_model/logistic.py:432: FutureWarning: Default solver will be changed to 'lbfgs' in 0.22. Specify a solver to silence this warning.\n",
            "  FutureWarning)\n",
            "/usr/local/lib/python3.6/dist-packages/sklearn/linear_model/logistic.py:432: FutureWarning: Default solver will be changed to 'lbfgs' in 0.22. Specify a solver to silence this warning.\n",
            "  FutureWarning)\n",
            "/usr/local/lib/python3.6/dist-packages/sklearn/linear_model/logistic.py:432: FutureWarning: Default solver will be changed to 'lbfgs' in 0.22. Specify a solver to silence this warning.\n",
            "  FutureWarning)\n",
            "/usr/local/lib/python3.6/dist-packages/sklearn/linear_model/logistic.py:432: FutureWarning: Default solver will be changed to 'lbfgs' in 0.22. Specify a solver to silence this warning.\n",
            "  FutureWarning)\n",
            "/usr/local/lib/python3.6/dist-packages/sklearn/linear_model/logistic.py:432: FutureWarning: Default solver will be changed to 'lbfgs' in 0.22. Specify a solver to silence this warning.\n",
            "  FutureWarning)\n",
            "/usr/local/lib/python3.6/dist-packages/sklearn/linear_model/logistic.py:432: FutureWarning: Default solver will be changed to 'lbfgs' in 0.22. Specify a solver to silence this warning.\n",
            "  FutureWarning)\n"
          ],
          "name": "stderr"
        },
        {
          "output_type": "execute_result",
          "data": {
            "text/plain": [
              "0.9314379084967321"
            ]
          },
          "metadata": {
            "tags": []
          },
          "execution_count": 576
        }
      ]
    },
    {
      "cell_type": "markdown",
      "metadata": {
        "id": "bOt6wm0Jv9p8",
        "colab_type": "text"
      },
      "source": [
        "On revient à l'échantillon complet et on teste le modèle"
      ]
    },
    {
      "cell_type": "code",
      "metadata": {
        "id": "eFryuO7ewDzd",
        "colab_type": "code",
        "outputId": "422bc7ee-d209-4bf5-e6eb-fd7d04da86af",
        "colab": {
          "base_uri": "https://localhost:8080/",
          "height": 35
        }
      },
      "source": [
        "df_tree = df_original\n",
        "df_original = pd.get_dummies(df_original, drop_first= True)\n",
        "\n",
        "#stocker la colonne \"converted\" dans la variable y\n",
        "y = df_original[\"converted\"]\n",
        "#Construire un nouveau dataset sans la colonne converted\n",
        "X = df_original.drop(columns = [\"converted\"])\n",
        "y_pred = classifier.predict(X)\n",
        "classifier.score(X,y)"
      ],
      "execution_count": 577,
      "outputs": [
        {
          "output_type": "execute_result",
          "data": {
            "text/plain": [
              "0.9376881720430108"
            ]
          },
          "metadata": {
            "tags": []
          },
          "execution_count": 577
        }
      ]
    },
    {
      "cell_type": "code",
      "metadata": {
        "id": "V0D74H3Wy1DK",
        "colab_type": "code",
        "outputId": "8dd3c135-5b07-44ea-b199-7735fc12ef34",
        "colab": {
          "base_uri": "https://localhost:8080/",
          "height": 450
        }
      },
      "source": [
        "cm = confusion_matrix(y, y_pred)\n",
        "fig, ax = plt.subplots(figsize=(10,7))\n",
        "sns.heatmap(cm, annot=True, fmt=\"d\", ax = ax)"
      ],
      "execution_count": 578,
      "outputs": [
        {
          "output_type": "execute_result",
          "data": {
            "text/plain": [
              "<matplotlib.axes._subplots.AxesSubplot at 0x7f515f6b60b8>"
            ]
          },
          "metadata": {
            "tags": []
          },
          "execution_count": 578
        },
        {
          "output_type": "display_data",
          "data": {
            "image/png": "[encoded data removed]",
            "text/plain": [
              "<Figure size 720x504 with 2 Axes>"
            ]
          },
          "metadata": {
            "tags": []
          }
        }
      ]
    },
    {
      "cell_type": "markdown",
      "metadata": {
        "id": "3VJAkbiy6dDv",
        "colab_type": "text"
      },
      "source": [
        "# Arbre de décision"
      ]
    },
    {
      "cell_type": "code",
      "metadata": {
        "id": "YX2h2oJh4xV6",
        "colab_type": "code",
        "colab": {
          "base_uri": "https://localhost:8080/",
          "height": 35
        },
        "outputId": "c74b40be-fe90-4334-dc0b-06034bae1f19"
      },
      "source": [
        "df_original = df_tree\n",
        "df_temp = df_tree[df_tree[\"converted\"]==0].iloc[:(len(df_tree[df_tree[\"converted\"]==1])*2),:]\n",
        "df_tree = df_tree.drop(df_tree[df_tree[\"converted\"]==0].index)\n",
        "df_tree = df_tree.append(df_temp)\n",
        "#df_temp2 = df_tree[df_tree[\"converted\"]==1].iloc[:(int((len(df_tree[df_tree[\"converted\"]==1]))*2/3)),:]\n",
        "#df_tree = df_temp.append(df_temp2)\n",
        "len(df_tree)"
      ],
      "execution_count": 579,
      "outputs": [
        {
          "output_type": "execute_result",
          "data": {
            "text/plain": [
              "30600"
            ]
          },
          "metadata": {
            "tags": []
          },
          "execution_count": 579
        }
      ]
    },
    {
      "cell_type": "code",
      "metadata": {
        "id": "HHY68_7G-VeU",
        "colab_type": "code",
        "colab": {
          "base_uri": "https://localhost:8080/",
          "height": 206
        },
        "outputId": "c6efe9b4-3016-46a3-8a2a-b9e3d4b9a1e0"
      },
      "source": [
        "df_tree = pd.get_dummies(df_tree, drop_first= True)\n",
        "#stocker la colonne \"converted\" dans la variable y\n",
        "y = df_tree[\"converted\"]\n",
        "#Construire un nouveau dataset sans la colonne converted\n",
        "X = df_tree.drop(columns = [\"converted\"])\n",
        "X.head()"
      ],
      "execution_count": 580,
      "outputs": [
        {
          "output_type": "execute_result",
          "data": {
            "text/html": [
              "<div>\n",
              "<style scoped>\n",
              "    .dataframe tbody tr th:only-of-type {\n",
              "        vertical-align: middle;\n",
              "    }\n",
              "\n",
              "    .dataframe tbody tr th {\n",
              "        vertical-align: top;\n",
              "    }\n",
              "\n",
              "    .dataframe thead th {\n",
              "        text-align: right;\n",
              "    }\n",
              "</style>\n",
              "<table border=\"1\" class=\"dataframe\">\n",
              "  <thead>\n",
              "    <tr style=\"text-align: right;\">\n",
              "      <th></th>\n",
              "      <th>new_user</th>\n",
              "      <th>country_Germany</th>\n",
              "      <th>country_UK</th>\n",
              "      <th>country_US</th>\n",
              "      <th>source_Direct</th>\n",
              "      <th>source_Seo</th>\n",
              "      <th>tr_age_2</th>\n",
              "      <th>tr_age_3</th>\n",
              "      <th>tr_age_4</th>\n",
              "      <th>tr_pages_2</th>\n",
              "      <th>tr_pages_3</th>\n",
              "      <th>tr_pages_4</th>\n",
              "    </tr>\n",
              "  </thead>\n",
              "  <tbody>\n",
              "    <tr>\n",
              "      <th>54</th>\n",
              "      <td>1</td>\n",
              "      <td>0</td>\n",
              "      <td>0</td>\n",
              "      <td>1</td>\n",
              "      <td>1</td>\n",
              "      <td>0</td>\n",
              "      <td>0</td>\n",
              "      <td>0</td>\n",
              "      <td>0</td>\n",
              "      <td>0</td>\n",
              "      <td>1</td>\n",
              "      <td>0</td>\n",
              "    </tr>\n",
              "    <tr>\n",
              "      <th>72</th>\n",
              "      <td>0</td>\n",
              "      <td>0</td>\n",
              "      <td>0</td>\n",
              "      <td>1</td>\n",
              "      <td>0</td>\n",
              "      <td>1</td>\n",
              "      <td>1</td>\n",
              "      <td>0</td>\n",
              "      <td>0</td>\n",
              "      <td>1</td>\n",
              "      <td>0</td>\n",
              "      <td>0</td>\n",
              "    </tr>\n",
              "    <tr>\n",
              "      <th>87</th>\n",
              "      <td>0</td>\n",
              "      <td>0</td>\n",
              "      <td>0</td>\n",
              "      <td>1</td>\n",
              "      <td>1</td>\n",
              "      <td>0</td>\n",
              "      <td>0</td>\n",
              "      <td>0</td>\n",
              "      <td>0</td>\n",
              "      <td>0</td>\n",
              "      <td>1</td>\n",
              "      <td>0</td>\n",
              "    </tr>\n",
              "    <tr>\n",
              "      <th>130</th>\n",
              "      <td>0</td>\n",
              "      <td>0</td>\n",
              "      <td>0</td>\n",
              "      <td>1</td>\n",
              "      <td>0</td>\n",
              "      <td>0</td>\n",
              "      <td>0</td>\n",
              "      <td>0</td>\n",
              "      <td>0</td>\n",
              "      <td>0</td>\n",
              "      <td>1</td>\n",
              "      <td>0</td>\n",
              "    </tr>\n",
              "    <tr>\n",
              "      <th>182</th>\n",
              "      <td>0</td>\n",
              "      <td>0</td>\n",
              "      <td>0</td>\n",
              "      <td>1</td>\n",
              "      <td>0</td>\n",
              "      <td>0</td>\n",
              "      <td>0</td>\n",
              "      <td>0</td>\n",
              "      <td>0</td>\n",
              "      <td>1</td>\n",
              "      <td>0</td>\n",
              "      <td>0</td>\n",
              "    </tr>\n",
              "  </tbody>\n",
              "</table>\n",
              "</div>"
            ],
            "text/plain": [
              "     new_user  country_Germany  country_UK  ...  tr_pages_2  tr_pages_3  tr_pages_4\n",
              "54          1                0           0  ...           0           1           0\n",
              "72          0                0           0  ...           1           0           0\n",
              "87          0                0           0  ...           0           1           0\n",
              "130         0                0           0  ...           0           1           0\n",
              "182         0                0           0  ...           1           0           0\n",
              "\n",
              "[5 rows x 12 columns]"
            ]
          },
          "metadata": {
            "tags": []
          },
          "execution_count": 580
        }
      ]
    },
    {
      "cell_type": "code",
      "metadata": {
        "id": "2m3A8B5i93A1",
        "colab_type": "code",
        "colab": {}
      },
      "source": [
        "#Split\n",
        "X_train, X_test, y_train, y_test = train_test_split(X, \n",
        "                                                    y,\n",
        "                                                    test_size=0.3,\n",
        "                                                    stratify=y,\n",
        "                                                    random_state=42\n",
        "                                                    )"
      ],
      "execution_count": 0,
      "outputs": []
    },
    {
      "cell_type": "code",
      "metadata": {
        "id": "j-0qX8T59Cso",
        "colab_type": "code",
        "colab": {
          "base_uri": "https://localhost:8080/",
          "height": 35
        },
        "outputId": "96885c30-050d-46c9-d58c-9b32b93de39e"
      },
      "source": [
        "from sklearn.model_selection import GridSearchCV\n",
        "\n",
        "rtc = DecisionTreeClassifier()\n",
        "params = {'max_depth' : np.arange(1,10),\n",
        "         'min_samples_leaf' : [1, 5, 10, 20]}\n",
        "\n",
        "grid =  GridSearchCV(estimator=rtc, param_grid= params, cv = 10)\n",
        "grid.fit(X_train, y_train)\n",
        "grid.best_params_"
      ],
      "execution_count": 585,
      "outputs": [
        {
          "output_type": "execute_result",
          "data": {
            "text/plain": [
              "{'max_depth': 9, 'min_samples_leaf': 5}"
            ]
          },
          "metadata": {
            "tags": []
          },
          "execution_count": 585
        }
      ]
    },
    {
      "cell_type": "code",
      "metadata": {
        "id": "ONnaTgf79X_6",
        "colab_type": "code",
        "colab": {
          "base_uri": "https://localhost:8080/",
          "height": 35
        },
        "outputId": "674a8832-de9a-4bcd-da3f-57c951a5910b"
      },
      "source": [
        "grid.best_estimator_.score(X_test, y_test)"
      ],
      "execution_count": 586,
      "outputs": [
        {
          "output_type": "execute_result",
          "data": {
            "text/plain": [
              "0.9301742919389978"
            ]
          },
          "metadata": {
            "tags": []
          },
          "execution_count": 586
        }
      ]
    },
    {
      "cell_type": "code",
      "metadata": {
        "id": "z6pd10bT9Y3H",
        "colab_type": "code",
        "colab": {
          "base_uri": "https://localhost:8080/",
          "height": 35
        },
        "outputId": "0cdf895b-42b9-484b-c1b0-7a9f605d71dc"
      },
      "source": [
        "grid.best_estimator_.score(X_train, y_train)"
      ],
      "execution_count": 587,
      "outputs": [
        {
          "output_type": "execute_result",
          "data": {
            "text/plain": [
              "0.9327731092436975"
            ]
          },
          "metadata": {
            "tags": []
          },
          "execution_count": 587
        }
      ]
    },
    {
      "cell_type": "code",
      "metadata": {
        "id": "Ec8UaK2Z-IR9",
        "colab_type": "code",
        "colab": {
          "base_uri": "https://localhost:8080/",
          "height": 126
        },
        "outputId": "afe8df1a-4c72-4762-82af-f532cdc3a912"
      },
      "source": [
        "#dtcG = DecisionTreeClassifier(criterion='gini')\n",
        "dtcG = DecisionTreeClassifier(max_depth= 9, min_samples_leaf= 5)\n",
        "dtcG.fit(X_train, y_train)"
      ],
      "execution_count": 588,
      "outputs": [
        {
          "output_type": "execute_result",
          "data": {
            "text/plain": [
              "DecisionTreeClassifier(class_weight=None, criterion='gini', max_depth=9,\n",
              "                       max_features=None, max_leaf_nodes=None,\n",
              "                       min_impurity_decrease=0.0, min_impurity_split=None,\n",
              "                       min_samples_leaf=5, min_samples_split=2,\n",
              "                       min_weight_fraction_leaf=0.0, presort=False,\n",
              "                       random_state=None, splitter='best')"
            ]
          },
          "metadata": {
            "tags": []
          },
          "execution_count": 588
        }
      ]
    },
    {
      "cell_type": "code",
      "metadata": {
        "id": "wPFseyfn-zJn",
        "colab_type": "code",
        "colab": {
          "base_uri": "https://localhost:8080/",
          "height": 35
        },
        "outputId": "67c69169-3d56-4ea2-c232-04e41e7be389"
      },
      "source": [
        "y_pred = dtcG.predict(X_test)\n",
        "dtcG.score(X_test, y_test)"
      ],
      "execution_count": 589,
      "outputs": [
        {
          "output_type": "execute_result",
          "data": {
            "text/plain": [
              "0.9301742919389978"
            ]
          },
          "metadata": {
            "tags": []
          },
          "execution_count": 589
        }
      ]
    },
    {
      "cell_type": "code",
      "metadata": {
        "id": "oRfBjf5s7VDz",
        "colab_type": "code",
        "colab": {
          "base_uri": "https://localhost:8080/",
          "height": 35
        },
        "outputId": "57314d72-a4cb-4506-8886-028501c0dfc6"
      },
      "source": [
        "dtcG.score(X_train, y_train)"
      ],
      "execution_count": 590,
      "outputs": [
        {
          "output_type": "execute_result",
          "data": {
            "text/plain": [
              "0.9327731092436975"
            ]
          },
          "metadata": {
            "tags": []
          },
          "execution_count": 590
        }
      ]
    },
    {
      "cell_type": "code",
      "metadata": {
        "id": "jtNvwxqI_IOq",
        "colab_type": "code",
        "colab": {
          "base_uri": "https://localhost:8080/",
          "height": 450
        },
        "outputId": "991b4585-e5c9-4f7d-f258-56c98e4ee9a0"
      },
      "source": [
        "from sklearn.metrics import confusion_matrix\n",
        "cm = confusion_matrix(y_test, y_pred)\n",
        "fig, ax = plt.subplots(figsize=(10,7))  \n",
        "sns.heatmap(cm, annot=True, fmt=\"d\", ax = ax)"
      ],
      "execution_count": 591,
      "outputs": [
        {
          "output_type": "execute_result",
          "data": {
            "text/plain": [
              "<matplotlib.axes._subplots.AxesSubplot at 0x7f515f55c518>"
            ]
          },
          "metadata": {
            "tags": []
          },
          "execution_count": 591
        },
        {
          "output_type": "display_data",
          "data": {
            "image/png": "[encoded data removed]",
            "text/plain": [
              "<Figure size 720x504 with 2 Axes>"
            ]
          },
          "metadata": {
            "tags": []
          }
        }
      ]
    },
    {
      "cell_type": "markdown",
      "metadata": {
        "id": "m38OeMz3_k1i",
        "colab_type": "text"
      },
      "source": [
        "Performance sur échantillon complet"
      ]
    },
    {
      "cell_type": "code",
      "metadata": {
        "id": "B-U5h2QW_ha_",
        "colab_type": "code",
        "colab": {
          "base_uri": "https://localhost:8080/",
          "height": 35
        },
        "outputId": "18e22627-c130-42af-d189-4ebebd509790"
      },
      "source": [
        "df_original = pd.get_dummies(df_original, drop_first= True)\n",
        "\n",
        "#stocker la colonne \"converted\" dans la variable y\n",
        "y = df_original[\"converted\"]\n",
        "#Construire un nouveau dataset sans la colonne converted\n",
        "X = df_original.drop(columns = [\"converted\"])\n",
        "y_pred = dtcG.predict(X)\n",
        "dtcG.score(X,y)"
      ],
      "execution_count": 592,
      "outputs": [
        {
          "output_type": "execute_result",
          "data": {
            "text/plain": [
              "0.9393674889310563"
            ]
          },
          "metadata": {
            "tags": []
          },
          "execution_count": 592
        }
      ]
    },
    {
      "cell_type": "code",
      "metadata": {
        "id": "s336k5ypAlvW",
        "colab_type": "code",
        "colab": {
          "base_uri": "https://localhost:8080/",
          "height": 450
        },
        "outputId": "02f5e3ac-e597-4448-f536-312c5a23e8d3"
      },
      "source": [
        "cm = confusion_matrix(y, y_pred)\n",
        "fig, ax = plt.subplots(figsize=(10,7))  \n",
        "sns.heatmap(cm, annot=True, fmt=\"d\", ax = ax)"
      ],
      "execution_count": 593,
      "outputs": [
        {
          "output_type": "execute_result",
          "data": {
            "text/plain": [
              "<matplotlib.axes._subplots.AxesSubplot at 0x7f515f4e7860>"
            ]
          },
          "metadata": {
            "tags": []
          },
          "execution_count": 593
        },
        {
          "output_type": "display_data",
          "data": {
            "image/png": "[encoded data removed]",
            "text/plain": [
              "<Figure size 720x504 with 2 Axes>"
            ]
          },
          "metadata": {
            "tags": []
          }
        }
      ]
    }
  ]
}