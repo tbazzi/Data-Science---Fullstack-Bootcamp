{
  "nbformat": 4,
  "nbformat_minor": 0,
  "metadata": {
    "kernelspec": {
      "display_name": "Python 3",
      "language": "python",
      "name": "python3"
    },
    "language_info": {
      "codemirror_mode": {
        "name": "ipython",
        "version": 3
      },
      "file_extension": ".py",
      "mimetype": "text/x-python",
      "name": "python",
      "nbconvert_exporter": "python",
      "pygments_lexer": "ipython3",
      "version": "3.7.1"
    },
    "colab": {
      "name": "S6_1_1 Perceptron - SOLUTIONS.ipynb",
      "provenance": [],
      "include_colab_link": true
    }
  },
  "cells": [
    {
      "cell_type": "markdown",
      "metadata": {
        "id": "view-in-github",
        "colab_type": "text"
      },
      "source": [
        "<a href=\"https://colab.research.google.com/github/tbazzi/Data-Science---Fullstack-Bootcamp/blob/master/S6_1_1_Perceptron_SOLUTIONS.ipynb\" target=\"_parent\"><img src=\"https://colab.research.google.com/assets/colab-badge.svg\" alt=\"Open In Colab\"/></a>"
      ]
    },
    {
      "cell_type": "markdown",
      "metadata": {
        "id": "ViGIBPXeSVjF",
        "colab_type": "text"
      },
      "source": [
        "# Perceptron « from scratch »\n",
        "\n",
        "Dans cet exercice nous allons recoder un neurone ou perceptron. Cela vous permettra de voir plus précisément comment les réseaux de neurones fonctionnent."
      ]
    },
    {
      "cell_type": "code",
      "metadata": {
        "id": "EqeA3FZKq0wl",
        "colab_type": "code",
        "colab": {}
      },
      "source": [
        ""
      ],
      "execution_count": 0,
      "outputs": []
    },
    {
      "cell_type": "markdown",
      "metadata": {
        "id": "fDX_QLekSVjH",
        "colab_type": "text"
      },
      "source": [
        "1. Importez `pandas`, `numpy` et `matplotlib.pyplot` :"
      ]
    },
    {
      "cell_type": "code",
      "metadata": {
        "id": "TsHj_467SVjH",
        "colab_type": "code",
        "colab": {}
      },
      "source": [
        "import pandas as pd\n",
        "import numpy as np\n",
        "import matplotlib.pyplot as plt"
      ],
      "execution_count": 0,
      "outputs": []
    },
    {
      "cell_type": "markdown",
      "metadata": {
        "id": "0ISO2MmISVjL",
        "colab_type": "text"
      },
      "source": [
        "Un perceptron est composé d'une somme pondérée des entrées plus un biais qui sont ensuite passés dans une fonction non-linéaire ou fonction d'activation.\n",
        "\n",
        "### Fonction d'activation\n",
        "\n",
        "Nous sommes dans le cas d'une classification binaire. Nous allons donc utiliser la **sigmoïde** dont la formule est la suivante :\n",
        "\n",
        "$$\n",
        "\\sigma(x)=\\frac{1}{1 + e^{- x}}\n",
        "$$\n",
        "\n",
        "2. À partir de la formule ci-dessus complétez la fonction suivante :"
      ]
    },
    {
      "cell_type": "code",
      "metadata": {
        "id": "SgBfxDIiSVjL",
        "colab_type": "code",
        "colab": {}
      },
      "source": [
        "def sigmoid(x):\n",
        "    ### A VOUS ###\n",
        "    return 1 / (1 + np.exp(-x))\n",
        "    ##############"
      ],
      "execution_count": 0,
      "outputs": []
    },
    {
      "cell_type": "markdown",
      "metadata": {
        "id": "JxUaJe7nSVjO",
        "colab_type": "text"
      },
      "source": [
        "3. Nous allons avoir besoin de la dérivée de la sigmoïde dont voici la formule :\n",
        "\n",
        "$$\n",
        "\\frac{d\\sigma (x)}{d(x)} = \\sigma (x)\\cdot (1-\\sigma(x))\n",
        "$$"
      ]
    },
    {
      "cell_type": "code",
      "metadata": {
        "id": "lcM7Hp7lSVjO",
        "colab_type": "code",
        "colab": {}
      },
      "source": [
        "def d_sigmoid(x):\n",
        "    ### A VOUS ###\n",
        "    return sigmoid(x) * (1 - sigmoid(x))\n",
        "    ##############"
      ],
      "execution_count": 0,
      "outputs": []
    },
    {
      "cell_type": "markdown",
      "metadata": {
        "id": "M4gsaZSGSVjQ",
        "colab_type": "text"
      },
      "source": [
        "4. Visualisons cette fonction. Pour faire cela, créez une variable `val_x` contenant des valeurs allant de `-10` à `10` avec un pas de `0.1` (regardez du côté de `np.arange` par exemple). Calculez les valeurs correspondantes avec votre fonction sigmoïde ainsi que pour sa dérivée. Affichez le tout !"
      ]
    },
    {
      "cell_type": "code",
      "metadata": {
        "id": "G4n4ZTwQSVjR",
        "colab_type": "code",
        "outputId": "bc5eb1ec-e210-4812-a3c5-1a5668b3be49",
        "colab": {
          "base_uri": "https://localhost:8080/",
          "height": 269
        }
      },
      "source": [
        "val_x = np.arange(-10, 10, 0.1)\n",
        "val_y = [sigmoid(x) for x in val_x]\n",
        "val_y_d = [d_sigmoid(x) for x in val_x]\n",
        "plt.plot(val_x, val_y)\n",
        "plt.plot(val_x, val_y_d)\n",
        "plt.show()"
      ],
      "execution_count": 0,
      "outputs": [
        {
          "output_type": "display_data",
          "data": {
            "image/png": "[encoded data removed]",
            "text/plain": [
              "<Figure size 432x288 with 1 Axes>"
            ]
          },
          "metadata": {
            "tags": []
          }
        }
      ]
    },
    {
      "cell_type": "markdown",
      "metadata": {
        "id": "I2ic5dtYSVjV",
        "colab_type": "text"
      },
      "source": [
        "### Forward propagation\n",
        "\n",
        "Cette phase correspond à la phase de prédiction du neurone. Nous allons traverser le neurone pour calculer sa sortie.\n",
        "\n",
        "La formule générale est donnée par :\n",
        "\n",
        "$$\n",
        "Z = W * X + b\n",
        "\\\\\n",
        "A = g(Z)\n",
        "$$\n",
        "\n",
        "$Z$ représente donc la somme pondérée des entrées du neurone et $A$ la sortie du neurone (c'est à dire après être passé par la fonction d'activation).\n",
        "\n",
        "5. Implémentez la fonction `forward_propagation` à partir de la formule ci-dessus :"
      ]
    },
    {
      "cell_type": "code",
      "metadata": {
        "id": "HsBw68TxSVjW",
        "colab_type": "code",
        "colab": {}
      },
      "source": [
        "def forward_propagation(inputs, weights, bias):\n",
        "    ### A VOUS ###\n",
        "    z = np.dot(inputs, weights) + bias\n",
        "    a = sigmoid(z)\n",
        "    return a\n",
        "    ##############"
      ],
      "execution_count": 0,
      "outputs": []
    },
    {
      "cell_type": "code",
      "metadata": {
        "id": "sDKCJBasAsyw",
        "colab_type": "code",
        "colab": {}
      },
      "source": [
        "np.dot?"
      ],
      "execution_count": 0,
      "outputs": []
    },
    {
      "cell_type": "markdown",
      "metadata": {
        "id": "g5r4SANESVjY",
        "colab_type": "text"
      },
      "source": [
        "### Backward propagation\n",
        "\n",
        "Une fois que le neurone a fait une prédiction, nous allons regarder l'erreur qu'il a effectué et rectifier les paramètres en conséquence.\n",
        "\n",
        "Cela se déroule en deux phase :\n",
        "\n",
        "- calcule des dérivées partielles,\n",
        "- mise à jour des paramètres."
      ]
    },
    {
      "cell_type": "markdown",
      "metadata": {
        "id": "-2zi0GCaSVjY",
        "colab_type": "text"
      },
      "source": [
        "Nous allons utiliser la fonction de coût MSE, dont voici la formule :\n",
        "\n",
        "$$\n",
        "MSE = \\frac{\\mathrm{1} }{\\mathrm{n}} \\sum\\nolimits_{i=1}^{n} (predicted - observed)^{2}\n",
        "$$\n",
        "\n",
        "6. Implémentez la fonction de coût suivante :"
      ]
    },
    {
      "cell_type": "code",
      "metadata": {
        "id": "XQdcbcUgSVjZ",
        "colab_type": "code",
        "colab": {}
      },
      "source": [
        "def cost(predicted, observed):\n",
        "    ### A VOUS ###\n",
        "    return np.mean((np.square(predicted - observed))\n",
        "    ##############"
      ],
      "execution_count": 0,
      "outputs": []
    },
    {
      "cell_type": "markdown",
      "metadata": {
        "id": "7Nb7_DZ8SVjb",
        "colab_type": "text"
      },
      "source": [
        "Nous allons ensuite prendre la dérivée partielle du coût en fonction des paramètres. Grâce à la « _chain rule_ », nous allons pouvoir dériver cela de la manière suivante :\n",
        "\n",
        "$$\n",
        "\\frac {\\partial cost}{\\partial w} = \\frac {\\partial cost}{\\partial pred} \\times \\frac {\\partial pred}{\\partial z} \\times \\frac {\\partial z}{\\partial w}\n",
        "$$\n",
        "\n",
        "où :\n",
        "\n",
        "$$\n",
        "\\frac {\\partial cost}{\\partial pred} = (predicted - observed)\n",
        "\\\\\n",
        "\\frac {\\partial pred}{\\partial z} = \\frac{d\\sigma (x)}{d(x)}\n",
        "$$\n",
        "\n",
        "7. À partir des étapes ci-dessus, implémentez la fonction suivante :"
      ]
    },
    {
      "cell_type": "code",
      "metadata": {
        "id": "eKNQfmgESVjc",
        "colab_type": "code",
        "colab": {}
      },
      "source": [
        "def backward_propagation(predictions, observed):\n",
        "    ### A VOUS ###\n",
        "    dcost_dpred = predictions - observed\n",
        "    dpred_dz = (predictions)*(1-predictions)\n",
        "    ##############\n",
        "    return dcost_dpred * dpred_dz"
      ],
      "execution_count": 0,
      "outputs": []
    },
    {
      "cell_type": "markdown",
      "metadata": {
        "id": "sI7OnFtkSVjf",
        "colab_type": "text"
      },
      "source": [
        "Ensuite, nous mettons à jour les poids simultanément de la manière suivante :\n",
        "\n",
        "$$\n",
        "weights =: weights - \\gamma (\\frac {\\partial cost}{\\partial pred} \\times \\frac {\\partial pred}{\\partial z} \\times \\frac {\\partial z}{\\partial w})\n",
        "\\\\\n",
        "bias =: bias - \\gamma (\\frac {\\partial cost}{\\partial pred} \\times \\frac {\\partial pred}{\\partial z})\n",
        "$$\n",
        "\n",
        "8. Complétez la fonction pour mettre à jour les poids :"
      ]
    },
    {
      "cell_type": "code",
      "metadata": {
        "id": "6_tIARubSVjg",
        "colab_type": "code",
        "colab": {}
      },
      "source": [
        "def update_parameters(weights, bias, update, inputs, lr=1):\n",
        "    ### A VOUS ###\n",
        "    weights -= lr * 1/len(update)*np.dot(inputs.T, update)\n",
        "    bias -= lr * np.mean(update, axis=0)\n",
        "    ##############\n",
        "    return weights, bias"
      ],
      "execution_count": 0,
      "outputs": []
    },
    {
      "cell_type": "markdown",
      "metadata": {
        "id": "0dVZQtnLSVjj",
        "colab_type": "text"
      },
      "source": [
        "### Entraînement\n",
        "\n",
        "Nous avons maintenant tout ce qu'il faut pour entrainer notre perceptron. Il faut que nous initialisions les paramètres et le biais.\n",
        "\n",
        "9. Complétez la fonction suivante en utilisant `np.random.rand` afin d'initialiser les paramètres et le biais :"
      ]
    },
    {
      "cell_type": "code",
      "metadata": {
        "id": "ihy5l_RaSVjk",
        "colab_type": "code",
        "colab": {}
      },
      "source": [
        "def init_weights(input_shape):\n",
        "    ### A VOUS ###\n",
        "    weights = np.random.rand(input_shape, 1) * 0.01\n",
        "    bias = np.random.rand(1)\n",
        "    ##############\n",
        "    return weights, bias"
      ],
      "execution_count": 0,
      "outputs": []
    },
    {
      "cell_type": "markdown",
      "metadata": {
        "id": "hyW552NHSVjn",
        "colab_type": "text"
      },
      "source": [
        "Ça y est ! Nous y sommes. Nous allons implémenter la fonction d'entraînement de notre perceptron. Souvenez-vous de l'ordre des opérations :\n",
        "\n",
        "1. forward propagation\n",
        "2. backward propagation\n",
        "3. mise à jour des paramètres\n",
        "\n",
        "Et cela durant un nombre déterminé d'itérations jusqu'à convergence.\n",
        "\n",
        "10. Implémentez la fonction `training` ci-dessous :"
      ]
    },
    {
      "cell_type": "code",
      "metadata": {
        "id": "3FhH8FepSVjn",
        "colab_type": "code",
        "colab": {}
      },
      "source": [
        "def training(inputs, labels, epochs=100):\n",
        "    cost_hist = list()\n",
        "    weights, bias = init_weights(inputs.shape[1])\n",
        "    for i in range(epochs):\n",
        "        predictions = forward_propagation(inputs, weights, bias)\n",
        "        cost_hist.append(cost(predictions, labels))\n",
        "        update = backward_propagation(predictions, labels)\n",
        "        weights, bias = update_parameters(weights, bias, update, inputs)\n",
        "        print(\"Epoch {}/{}: loss - {}\".format(i + 1, epochs, cost_hist[i]))\n",
        "    return cost_hist"
      ],
      "execution_count": 0,
      "outputs": []
    },
    {
      "cell_type": "markdown",
      "metadata": {
        "id": "FoL_5aqzSVjq",
        "colab_type": "text"
      },
      "source": [
        "Nous allons entraîner notre perceptron sur un petit dataset issu du [MNIST](http://yann.lecun.com/exdb/mnist/). C'est un dataset historique qui contient des images de chiffres écrites à la main. Chacune des images est en noir et blanc et de dimension (28, 28).\n",
        "\n",
        "11. Chargez le fichier `src/train.csv` :"
      ]
    },
    {
      "cell_type": "code",
      "metadata": {
        "id": "rTWomPq0SVjq",
        "colab_type": "code",
        "outputId": "5af49eef-091d-4c4c-aab9-ec22b5901198",
        "colab": {
          "base_uri": "https://localhost:8080/",
          "height": 251
        }
      },
      "source": [
        "df = pd.read_csv('https://raw.githubusercontent.com/JedhaBootcamp/FULL_STACK_12_WEEK_PROGRAM/master/S0.6%20--%20Deep%20Learning%20-%20Les%20diff%C3%A9rents%20R%C3%A9seaux%20de%20Neurones%20%26%20FASTAI/S6-2%20--%20Introduction%20aux%20r%C3%A9seaux%20de%20neurones/Exercices/src/train.csv?token=AFB53D6FCFUOLTFCO6QPJSC5VV7T4')\n",
        "df.head()"
      ],
      "execution_count": 0,
      "outputs": [
        {
          "output_type": "execute_result",
          "data": {
            "text/html": [
              "<div>\n",
              "<style scoped>\n",
              "    .dataframe tbody tr th:only-of-type {\n",
              "        vertical-align: middle;\n",
              "    }\n",
              "\n",
              "    .dataframe tbody tr th {\n",
              "        vertical-align: top;\n",
              "    }\n",
              "\n",
              "    .dataframe thead th {\n",
              "        text-align: right;\n",
              "    }\n",
              "</style>\n",
              "<table border=\"1\" class=\"dataframe\">\n",
              "  <thead>\n",
              "    <tr style=\"text-align: right;\">\n",
              "      <th></th>\n",
              "      <th>label</th>\n",
              "      <th>pixel0</th>\n",
              "      <th>pixel1</th>\n",
              "      <th>pixel2</th>\n",
              "      <th>pixel3</th>\n",
              "      <th>pixel4</th>\n",
              "      <th>pixel5</th>\n",
              "      <th>pixel6</th>\n",
              "      <th>pixel7</th>\n",
              "      <th>pixel8</th>\n",
              "      <th>pixel9</th>\n",
              "      <th>pixel10</th>\n",
              "      <th>pixel11</th>\n",
              "      <th>pixel12</th>\n",
              "      <th>pixel13</th>\n",
              "      <th>pixel14</th>\n",
              "      <th>pixel15</th>\n",
              "      <th>pixel16</th>\n",
              "      <th>pixel17</th>\n",
              "      <th>pixel18</th>\n",
              "      <th>pixel19</th>\n",
              "      <th>pixel20</th>\n",
              "      <th>pixel21</th>\n",
              "      <th>pixel22</th>\n",
              "      <th>pixel23</th>\n",
              "      <th>pixel24</th>\n",
              "      <th>pixel25</th>\n",
              "      <th>pixel26</th>\n",
              "      <th>pixel27</th>\n",
              "      <th>pixel28</th>\n",
              "      <th>pixel29</th>\n",
              "      <th>pixel30</th>\n",
              "      <th>pixel31</th>\n",
              "      <th>pixel32</th>\n",
              "      <th>pixel33</th>\n",
              "      <th>pixel34</th>\n",
              "      <th>pixel35</th>\n",
              "      <th>pixel36</th>\n",
              "      <th>pixel37</th>\n",
              "      <th>pixel38</th>\n",
              "      <th>...</th>\n",
              "      <th>pixel744</th>\n",
              "      <th>pixel745</th>\n",
              "      <th>pixel746</th>\n",
              "      <th>pixel747</th>\n",
              "      <th>pixel748</th>\n",
              "      <th>pixel749</th>\n",
              "      <th>pixel750</th>\n",
              "      <th>pixel751</th>\n",
              "      <th>pixel752</th>\n",
              "      <th>pixel753</th>\n",
              "      <th>pixel754</th>\n",
              "      <th>pixel755</th>\n",
              "      <th>pixel756</th>\n",
              "      <th>pixel757</th>\n",
              "      <th>pixel758</th>\n",
              "      <th>pixel759</th>\n",
              "      <th>pixel760</th>\n",
              "      <th>pixel761</th>\n",
              "      <th>pixel762</th>\n",
              "      <th>pixel763</th>\n",
              "      <th>pixel764</th>\n",
              "      <th>pixel765</th>\n",
              "      <th>pixel766</th>\n",
              "      <th>pixel767</th>\n",
              "      <th>pixel768</th>\n",
              "      <th>pixel769</th>\n",
              "      <th>pixel770</th>\n",
              "      <th>pixel771</th>\n",
              "      <th>pixel772</th>\n",
              "      <th>pixel773</th>\n",
              "      <th>pixel774</th>\n",
              "      <th>pixel775</th>\n",
              "      <th>pixel776</th>\n",
              "      <th>pixel777</th>\n",
              "      <th>pixel778</th>\n",
              "      <th>pixel779</th>\n",
              "      <th>pixel780</th>\n",
              "      <th>pixel781</th>\n",
              "      <th>pixel782</th>\n",
              "      <th>pixel783</th>\n",
              "    </tr>\n",
              "  </thead>\n",
              "  <tbody>\n",
              "    <tr>\n",
              "      <th>0</th>\n",
              "      <td>1</td>\n",
              "      <td>0</td>\n",
              "      <td>0</td>\n",
              "      <td>0</td>\n",
              "      <td>0</td>\n",
              "      <td>0</td>\n",
              "      <td>0</td>\n",
              "      <td>0</td>\n",
              "      <td>0</td>\n",
              "      <td>0</td>\n",
              "      <td>0</td>\n",
              "      <td>0</td>\n",
              "      <td>0</td>\n",
              "      <td>0</td>\n",
              "      <td>0</td>\n",
              "      <td>0</td>\n",
              "      <td>0</td>\n",
              "      <td>0</td>\n",
              "      <td>0</td>\n",
              "      <td>0</td>\n",
              "      <td>0</td>\n",
              "      <td>0</td>\n",
              "      <td>0</td>\n",
              "      <td>0</td>\n",
              "      <td>0</td>\n",
              "      <td>0</td>\n",
              "      <td>0</td>\n",
              "      <td>0</td>\n",
              "      <td>0</td>\n",
              "      <td>0</td>\n",
              "      <td>0</td>\n",
              "      <td>0</td>\n",
              "      <td>0</td>\n",
              "      <td>0</td>\n",
              "      <td>0</td>\n",
              "      <td>0</td>\n",
              "      <td>0</td>\n",
              "      <td>0</td>\n",
              "      <td>0</td>\n",
              "      <td>0</td>\n",
              "      <td>...</td>\n",
              "      <td>0</td>\n",
              "      <td>0</td>\n",
              "      <td>0</td>\n",
              "      <td>0</td>\n",
              "      <td>0</td>\n",
              "      <td>0</td>\n",
              "      <td>0</td>\n",
              "      <td>0</td>\n",
              "      <td>0</td>\n",
              "      <td>0</td>\n",
              "      <td>0</td>\n",
              "      <td>0</td>\n",
              "      <td>0</td>\n",
              "      <td>0</td>\n",
              "      <td>0</td>\n",
              "      <td>0</td>\n",
              "      <td>0</td>\n",
              "      <td>0</td>\n",
              "      <td>0</td>\n",
              "      <td>0</td>\n",
              "      <td>0</td>\n",
              "      <td>0</td>\n",
              "      <td>0</td>\n",
              "      <td>0</td>\n",
              "      <td>0</td>\n",
              "      <td>0</td>\n",
              "      <td>0</td>\n",
              "      <td>0</td>\n",
              "      <td>0</td>\n",
              "      <td>0</td>\n",
              "      <td>0</td>\n",
              "      <td>0</td>\n",
              "      <td>0</td>\n",
              "      <td>0</td>\n",
              "      <td>0</td>\n",
              "      <td>0</td>\n",
              "      <td>0</td>\n",
              "      <td>0</td>\n",
              "      <td>0</td>\n",
              "      <td>0</td>\n",
              "    </tr>\n",
              "    <tr>\n",
              "      <th>1</th>\n",
              "      <td>0</td>\n",
              "      <td>0</td>\n",
              "      <td>0</td>\n",
              "      <td>0</td>\n",
              "      <td>0</td>\n",
              "      <td>0</td>\n",
              "      <td>0</td>\n",
              "      <td>0</td>\n",
              "      <td>0</td>\n",
              "      <td>0</td>\n",
              "      <td>0</td>\n",
              "      <td>0</td>\n",
              "      <td>0</td>\n",
              "      <td>0</td>\n",
              "      <td>0</td>\n",
              "      <td>0</td>\n",
              "      <td>0</td>\n",
              "      <td>0</td>\n",
              "      <td>0</td>\n",
              "      <td>0</td>\n",
              "      <td>0</td>\n",
              "      <td>0</td>\n",
              "      <td>0</td>\n",
              "      <td>0</td>\n",
              "      <td>0</td>\n",
              "      <td>0</td>\n",
              "      <td>0</td>\n",
              "      <td>0</td>\n",
              "      <td>0</td>\n",
              "      <td>0</td>\n",
              "      <td>0</td>\n",
              "      <td>0</td>\n",
              "      <td>0</td>\n",
              "      <td>0</td>\n",
              "      <td>0</td>\n",
              "      <td>0</td>\n",
              "      <td>0</td>\n",
              "      <td>0</td>\n",
              "      <td>0</td>\n",
              "      <td>0</td>\n",
              "      <td>...</td>\n",
              "      <td>0</td>\n",
              "      <td>0</td>\n",
              "      <td>0</td>\n",
              "      <td>0</td>\n",
              "      <td>0</td>\n",
              "      <td>0</td>\n",
              "      <td>0</td>\n",
              "      <td>0</td>\n",
              "      <td>0</td>\n",
              "      <td>0</td>\n",
              "      <td>0</td>\n",
              "      <td>0</td>\n",
              "      <td>0</td>\n",
              "      <td>0</td>\n",
              "      <td>0</td>\n",
              "      <td>0</td>\n",
              "      <td>0</td>\n",
              "      <td>0</td>\n",
              "      <td>0</td>\n",
              "      <td>0</td>\n",
              "      <td>0</td>\n",
              "      <td>0</td>\n",
              "      <td>0</td>\n",
              "      <td>0</td>\n",
              "      <td>0</td>\n",
              "      <td>0</td>\n",
              "      <td>0</td>\n",
              "      <td>0</td>\n",
              "      <td>0</td>\n",
              "      <td>0</td>\n",
              "      <td>0</td>\n",
              "      <td>0</td>\n",
              "      <td>0</td>\n",
              "      <td>0</td>\n",
              "      <td>0</td>\n",
              "      <td>0</td>\n",
              "      <td>0</td>\n",
              "      <td>0</td>\n",
              "      <td>0</td>\n",
              "      <td>0</td>\n",
              "    </tr>\n",
              "    <tr>\n",
              "      <th>2</th>\n",
              "      <td>1</td>\n",
              "      <td>0</td>\n",
              "      <td>0</td>\n",
              "      <td>0</td>\n",
              "      <td>0</td>\n",
              "      <td>0</td>\n",
              "      <td>0</td>\n",
              "      <td>0</td>\n",
              "      <td>0</td>\n",
              "      <td>0</td>\n",
              "      <td>0</td>\n",
              "      <td>0</td>\n",
              "      <td>0</td>\n",
              "      <td>0</td>\n",
              "      <td>0</td>\n",
              "      <td>0</td>\n",
              "      <td>0</td>\n",
              "      <td>0</td>\n",
              "      <td>0</td>\n",
              "      <td>0</td>\n",
              "      <td>0</td>\n",
              "      <td>0</td>\n",
              "      <td>0</td>\n",
              "      <td>0</td>\n",
              "      <td>0</td>\n",
              "      <td>0</td>\n",
              "      <td>0</td>\n",
              "      <td>0</td>\n",
              "      <td>0</td>\n",
              "      <td>0</td>\n",
              "      <td>0</td>\n",
              "      <td>0</td>\n",
              "      <td>0</td>\n",
              "      <td>0</td>\n",
              "      <td>0</td>\n",
              "      <td>0</td>\n",
              "      <td>0</td>\n",
              "      <td>0</td>\n",
              "      <td>0</td>\n",
              "      <td>0</td>\n",
              "      <td>...</td>\n",
              "      <td>0</td>\n",
              "      <td>0</td>\n",
              "      <td>0</td>\n",
              "      <td>0</td>\n",
              "      <td>0</td>\n",
              "      <td>0</td>\n",
              "      <td>0</td>\n",
              "      <td>0</td>\n",
              "      <td>0</td>\n",
              "      <td>0</td>\n",
              "      <td>0</td>\n",
              "      <td>0</td>\n",
              "      <td>0</td>\n",
              "      <td>0</td>\n",
              "      <td>0</td>\n",
              "      <td>0</td>\n",
              "      <td>0</td>\n",
              "      <td>0</td>\n",
              "      <td>0</td>\n",
              "      <td>0</td>\n",
              "      <td>0</td>\n",
              "      <td>0</td>\n",
              "      <td>0</td>\n",
              "      <td>0</td>\n",
              "      <td>0</td>\n",
              "      <td>0</td>\n",
              "      <td>0</td>\n",
              "      <td>0</td>\n",
              "      <td>0</td>\n",
              "      <td>0</td>\n",
              "      <td>0</td>\n",
              "      <td>0</td>\n",
              "      <td>0</td>\n",
              "      <td>0</td>\n",
              "      <td>0</td>\n",
              "      <td>0</td>\n",
              "      <td>0</td>\n",
              "      <td>0</td>\n",
              "      <td>0</td>\n",
              "      <td>0</td>\n",
              "    </tr>\n",
              "    <tr>\n",
              "      <th>3</th>\n",
              "      <td>0</td>\n",
              "      <td>0</td>\n",
              "      <td>0</td>\n",
              "      <td>0</td>\n",
              "      <td>0</td>\n",
              "      <td>0</td>\n",
              "      <td>0</td>\n",
              "      <td>0</td>\n",
              "      <td>0</td>\n",
              "      <td>0</td>\n",
              "      <td>0</td>\n",
              "      <td>0</td>\n",
              "      <td>0</td>\n",
              "      <td>0</td>\n",
              "      <td>0</td>\n",
              "      <td>0</td>\n",
              "      <td>0</td>\n",
              "      <td>0</td>\n",
              "      <td>0</td>\n",
              "      <td>0</td>\n",
              "      <td>0</td>\n",
              "      <td>0</td>\n",
              "      <td>0</td>\n",
              "      <td>0</td>\n",
              "      <td>0</td>\n",
              "      <td>0</td>\n",
              "      <td>0</td>\n",
              "      <td>0</td>\n",
              "      <td>0</td>\n",
              "      <td>0</td>\n",
              "      <td>0</td>\n",
              "      <td>0</td>\n",
              "      <td>0</td>\n",
              "      <td>0</td>\n",
              "      <td>0</td>\n",
              "      <td>0</td>\n",
              "      <td>0</td>\n",
              "      <td>0</td>\n",
              "      <td>0</td>\n",
              "      <td>0</td>\n",
              "      <td>...</td>\n",
              "      <td>0</td>\n",
              "      <td>0</td>\n",
              "      <td>0</td>\n",
              "      <td>0</td>\n",
              "      <td>0</td>\n",
              "      <td>0</td>\n",
              "      <td>0</td>\n",
              "      <td>0</td>\n",
              "      <td>0</td>\n",
              "      <td>0</td>\n",
              "      <td>0</td>\n",
              "      <td>0</td>\n",
              "      <td>0</td>\n",
              "      <td>0</td>\n",
              "      <td>0</td>\n",
              "      <td>0</td>\n",
              "      <td>0</td>\n",
              "      <td>0</td>\n",
              "      <td>0</td>\n",
              "      <td>0</td>\n",
              "      <td>0</td>\n",
              "      <td>0</td>\n",
              "      <td>0</td>\n",
              "      <td>0</td>\n",
              "      <td>0</td>\n",
              "      <td>0</td>\n",
              "      <td>0</td>\n",
              "      <td>0</td>\n",
              "      <td>0</td>\n",
              "      <td>0</td>\n",
              "      <td>0</td>\n",
              "      <td>0</td>\n",
              "      <td>0</td>\n",
              "      <td>0</td>\n",
              "      <td>0</td>\n",
              "      <td>0</td>\n",
              "      <td>0</td>\n",
              "      <td>0</td>\n",
              "      <td>0</td>\n",
              "      <td>0</td>\n",
              "    </tr>\n",
              "    <tr>\n",
              "      <th>4</th>\n",
              "      <td>0</td>\n",
              "      <td>0</td>\n",
              "      <td>0</td>\n",
              "      <td>0</td>\n",
              "      <td>0</td>\n",
              "      <td>0</td>\n",
              "      <td>0</td>\n",
              "      <td>0</td>\n",
              "      <td>0</td>\n",
              "      <td>0</td>\n",
              "      <td>0</td>\n",
              "      <td>0</td>\n",
              "      <td>0</td>\n",
              "      <td>0</td>\n",
              "      <td>0</td>\n",
              "      <td>0</td>\n",
              "      <td>0</td>\n",
              "      <td>0</td>\n",
              "      <td>0</td>\n",
              "      <td>0</td>\n",
              "      <td>0</td>\n",
              "      <td>0</td>\n",
              "      <td>0</td>\n",
              "      <td>0</td>\n",
              "      <td>0</td>\n",
              "      <td>0</td>\n",
              "      <td>0</td>\n",
              "      <td>0</td>\n",
              "      <td>0</td>\n",
              "      <td>0</td>\n",
              "      <td>0</td>\n",
              "      <td>0</td>\n",
              "      <td>0</td>\n",
              "      <td>0</td>\n",
              "      <td>0</td>\n",
              "      <td>0</td>\n",
              "      <td>0</td>\n",
              "      <td>0</td>\n",
              "      <td>0</td>\n",
              "      <td>0</td>\n",
              "      <td>...</td>\n",
              "      <td>0</td>\n",
              "      <td>0</td>\n",
              "      <td>0</td>\n",
              "      <td>0</td>\n",
              "      <td>0</td>\n",
              "      <td>0</td>\n",
              "      <td>0</td>\n",
              "      <td>0</td>\n",
              "      <td>0</td>\n",
              "      <td>0</td>\n",
              "      <td>0</td>\n",
              "      <td>0</td>\n",
              "      <td>0</td>\n",
              "      <td>0</td>\n",
              "      <td>0</td>\n",
              "      <td>0</td>\n",
              "      <td>0</td>\n",
              "      <td>0</td>\n",
              "      <td>0</td>\n",
              "      <td>0</td>\n",
              "      <td>0</td>\n",
              "      <td>0</td>\n",
              "      <td>0</td>\n",
              "      <td>0</td>\n",
              "      <td>0</td>\n",
              "      <td>0</td>\n",
              "      <td>0</td>\n",
              "      <td>0</td>\n",
              "      <td>0</td>\n",
              "      <td>0</td>\n",
              "      <td>0</td>\n",
              "      <td>0</td>\n",
              "      <td>0</td>\n",
              "      <td>0</td>\n",
              "      <td>0</td>\n",
              "      <td>0</td>\n",
              "      <td>0</td>\n",
              "      <td>0</td>\n",
              "      <td>0</td>\n",
              "      <td>0</td>\n",
              "    </tr>\n",
              "  </tbody>\n",
              "</table>\n",
              "<p>5 rows × 785 columns</p>\n",
              "</div>"
            ],
            "text/plain": [
              "   label  pixel0  pixel1  pixel2  ...  pixel780  pixel781  pixel782  pixel783\n",
              "0      1       0       0       0  ...         0         0         0         0\n",
              "1      0       0       0       0  ...         0         0         0         0\n",
              "2      1       0       0       0  ...         0         0         0         0\n",
              "3      0       0       0       0  ...         0         0         0         0\n",
              "4      0       0       0       0  ...         0         0         0         0\n",
              "\n",
              "[5 rows x 785 columns]"
            ]
          },
          "metadata": {
            "tags": []
          },
          "execution_count": 47
        }
      ]
    },
    {
      "cell_type": "markdown",
      "metadata": {
        "id": "IncosvZHSVjw",
        "colab_type": "text"
      },
      "source": [
        "12. Séparez la colonne `label` dans une variable `Y` et le reste dans une variable `X` :"
      ]
    },
    {
      "cell_type": "code",
      "metadata": {
        "id": "RSlMS7y4SVjx",
        "colab_type": "code",
        "outputId": "1cdc1899-e162-4342-e326-d670bcbfba4e",
        "colab": {
          "base_uri": "https://localhost:8080/",
          "height": 34
        }
      },
      "source": [
        "Y = df['label'].values.reshape((8816, 1))\n",
        "X = df.drop(['label'], axis=1).values\n",
        "Y.shape, X.shape"
      ],
      "execution_count": 0,
      "outputs": [
        {
          "output_type": "execute_result",
          "data": {
            "text/plain": [
              "((8816, 1), (8816, 784))"
            ]
          },
          "metadata": {
            "tags": []
          },
          "execution_count": 48
        }
      ]
    },
    {
      "cell_type": "markdown",
      "metadata": {
        "id": "WNgy9IgeSVjz",
        "colab_type": "text"
      },
      "source": [
        "13. Profitez-en pour regarder à quoi ressemble ces images :"
      ]
    },
    {
      "cell_type": "code",
      "metadata": {
        "id": "ZJTAw-lISVjz",
        "colab_type": "code",
        "outputId": "aa2852e6-9ff2-41f1-c177-1a0e544940cb",
        "colab": {
          "base_uri": "https://localhost:8080/",
          "height": 486
        }
      },
      "source": [
        "fig = plt.figure(figsize=(8, 8))\n",
        "columns = 4\n",
        "rows = 5\n",
        "\n",
        "for i in range(1, columns * rows +1):\n",
        "    X1 = X[i].reshape(28, 28)\n",
        "    fig.add_subplot(rows, columns, i)\n",
        "    plt.imshow(X1, cmap='gray')\n",
        "plt.show()"
      ],
      "execution_count": 0,
      "outputs": [
        {
          "output_type": "display_data",
          "data": {
            "image/png": "[encoded data removed]",
            "text/plain": [
              "<Figure size 576x576 with 20 Axes>"
            ]
          },
          "metadata": {
            "tags": []
          }
        }
      ]
    },
    {
      "cell_type": "markdown",
      "metadata": {
        "id": "oVX-xQwSSVj2",
        "colab_type": "text"
      },
      "source": [
        "14. Utilisez `training` pour entraîner votre perceptron !"
      ]
    },
    {
      "cell_type": "code",
      "metadata": {
        "id": "hqSBPsvhSVj3",
        "colab_type": "code",
        "outputId": "10780f95-1e3f-48e9-f4d4-07dbb3d84538",
        "colab": {
          "base_uri": "https://localhost:8080/",
          "height": 363
        }
      },
      "source": [
        "X = X / 255.0\n",
        "hist = training(X, Y, epochs=20)"
      ],
      "execution_count": 0,
      "outputs": [
        {
          "output_type": "stream",
          "text": [
            "Epoch 1/20: loss - 2680.676709460146\n",
            "Epoch 2/20: loss - 715.3205980929592\n",
            "Epoch 3/20: loss - 222.71829264953223\n",
            "Epoch 4/20: loss - 182.12629073358787\n",
            "Epoch 5/20: loss - 156.45993774721506\n",
            "Epoch 6/20: loss - 138.12084217776075\n",
            "Epoch 7/20: loss - 124.2670588930096\n",
            "Epoch 8/20: loss - 113.38743679458717\n",
            "Epoch 9/20: loss - 104.59035823362105\n",
            "Epoch 10/20: loss - 97.31275971308405\n",
            "Epoch 11/20: loss - 91.18037222403898\n",
            "Epoch 12/20: loss - 85.9341167959246\n",
            "Epoch 13/20: loss - 81.38862168155823\n",
            "Epoch 14/20: loss - 77.40755180602054\n",
            "Epoch 15/20: loss - 73.888275064472\n",
            "Epoch 16/20: loss - 70.75197271362633\n",
            "Epoch 17/20: loss - 67.93705674381458\n",
            "Epoch 18/20: loss - 65.39466757688677\n",
            "Epoch 19/20: loss - 63.085520669141374\n",
            "Epoch 20/20: loss - 60.97765123356113\n"
          ],
          "name": "stdout"
        }
      ]
    },
    {
      "cell_type": "code",
      "metadata": {
        "id": "56rQ5EfASVj5",
        "colab_type": "code",
        "outputId": "f94ebc3b-3c43-43e7-fc59-a6f3bf183d60",
        "colab": {
          "base_uri": "https://localhost:8080/",
          "height": 269
        }
      },
      "source": [
        "plt.plot(hist)\n",
        "plt.show()"
      ],
      "execution_count": 0,
      "outputs": [
        {
          "output_type": "display_data",
          "data": {
            "image/png": "[encoded data removed]",
            "text/plain": [
              "<Figure size 432x288 with 1 Axes>"
            ]
          },
          "metadata": {
            "tags": []
          }
        }
      ]
    },
    {
      "cell_type": "markdown",
      "metadata": {
        "id": "xpdabMOZSVj7",
        "colab_type": "text"
      },
      "source": [
        "Félicitations ! Vous avez codé votre premier neurone !\n",
        "\n",
        "Bien entendu il est très perfectible. Nous vous invitons à revenir dessus tant que vous voulez et à l'améliorer. Par exemple en :\n",
        "\n",
        "- utilisant des classes Python\n",
        "- ajoutant des couches de neurones\n",
        "- créant d'autres fonctions d'activation\n",
        "- ..."
      ]
    },
    {
      "cell_type": "code",
      "metadata": {
        "id": "Z0CmHwWjrn8W",
        "colab_type": "code",
        "colab": {}
      },
      "source": [
        ""
      ],
      "execution_count": 0,
      "outputs": []
    }
  ]
}