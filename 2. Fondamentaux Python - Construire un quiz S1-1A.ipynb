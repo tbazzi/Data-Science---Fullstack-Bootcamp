{
 "cells": [
  {
   "cell_type": "markdown",
   "metadata": {
    "colab_type": "text",
    "id": "FY347VxWs_bJ"
   },
   "source": [
    "# Construire un quiz\n",
    "\n",
    "---\n",
    "\n",
    "\n"
   ]
  },
  {
   "cell_type": "markdown",
   "metadata": {
    "colab_type": "text",
    "id": "qJizpyqVwYnF"
   },
   "source": [
    "*Un bon moyen de pratiquer les conditions est de construire un quiz. Faisons le étape par étape*"
   ]
  },
  {
   "cell_type": "markdown",
   "metadata": {
    "colab_type": "text",
    "id": "UtRAGPeSwhiW"
   },
   "source": [
    "    1. Posez une question à l’utilisateur via la console \n",
    "    2. Vérifier que la réponse de l’utilisateur soit vraie ou fausse\n",
    "    3. Si la réponse est vraie, la console devra sortir : \n",
    "\n",
    "```\n",
    "Bravo, c’est la bonne réponse\n",
    "```\n",
    "    4. Si la réponse est fausse, la console devra sortir :\n",
    "    \n",
    "```\n",
    "Dommage, ce n’est pas la bonne réponse\n",
    "```\n",
    "    5. Posez 3 autres questions sur le même modèle"
   ]
  },
  {
   "cell_type": "code",
   "execution_count": 6,
   "metadata": {
    "colab": {
     "base_uri": "https://localhost:8080/",
     "height": 138
    },
    "colab_type": "code",
    "id": "EQxWuVl7yFoU",
    "outputId": "dcff6257-9638-419e-f587-63f3ec29b6f8"
   },
   "outputs": [
    {
     "name": "stdout",
     "output_type": "stream",
     "text": [
      "Voici notre quiz\n",
      "Combien de fois la France a gagné la coupe du monde ?2\n",
      "Bravo, c’est la bonne réponse\n",
      "Qui entraine Arsenal?Wenger\n",
      "Dommage, ce n’est pas la bonne réponse\n",
      "Qui est Carl Jung?Psy\n",
      "Bravo, c’est la bonne réponse\n"
     ]
    }
   ],
   "source": [
    "print (\"Voici notre quiz\")\n",
    "reponse = input(\"Combien de fois la France a gagné la coupe du monde ?\")\n",
    "if reponse == \"2\":\n",
    "    print (\"Bravo, c’est la bonne réponse\")\n",
    "else :\n",
    "    print (\"Dommage, ce n’est pas la bonne réponse\")\n",
    "\n",
    "reponse = input(\"Qui entraine Arsenal?\")\n",
    "if reponse == \"Unai Emery\" or reponse == \"Emery\" :\n",
    "    print (\"Bravo, c’est la bonne réponse\")\n",
    "else :\n",
    "    print (\"Dommage, ce n’est pas la bonne réponse\")\n",
    "\n",
    "reponse = input(\"Qui est Carl Jung?\")\n",
    "if reponse == \"Psychologue\" or reponse == \"Psy\" :\n",
    "    print (\"Bravo, c’est la bonne réponse\")\n",
    "else :\n",
    "    print (\"Dommage, ce n’est pas la bonne réponse\")  \n"
   ]
  },
  {
   "cell_type": "markdown",
   "metadata": {
    "colab_type": "text",
    "id": "sLMbYgaOyxiX"
   },
   "source": [
    "Nous avons un problème avec notre quiz. Si l’utilisateur n’a pas donné la bonne réponse, le programme passe à la question suivante. On souhaite plutôt que le programme repose la question si l’utilisateur n’a pas donné la bonne réponse\n",
    "\n",
    "\n",
    "    6. En utilisant une boucle WHILE, faites en sorte que le programme repose la question à l’utilisateur s’il n’a pas donné la bonne réponse\n",
    "    \n",
    "    7. Réécrivez votre programme pour toutes les autres questions"
   ]
  },
  {
   "cell_type": "code",
   "execution_count": 2,
   "metadata": {
    "colab": {
     "base_uri": "https://localhost:8080/",
     "height": 138
    },
    "colab_type": "code",
    "id": "csyxqJzBxPfN",
    "outputId": "5b4e2de4-3860-4073-971d-2439304c21cd"
   },
   "outputs": [
    {
     "name": "stdout",
     "output_type": "stream",
     "text": [
      "Voici notre quiz\n",
      "Combien de fois la France a gagné la coupe du monde ?2\n",
      "Qui entraine Arsenal?Emery\n",
      "Qui est Carl Jung?Psychologue\n",
      "Bravo ! Tu as gagné le quiz !\n"
     ]
    }
   ],
   "source": [
    "print (\"Voici notre quiz\")\n",
    "\n",
    "reponse = input(\"Combien de fois la France a gagné la coupe du monde ?\")\n",
    "while reponse != \"2\":\n",
    "    reponse = input(\"Combien de fois la France a gagné la coupe du monde ?\")\n",
    "\n",
    "reponse = input(\"Qui entraine Arsenal?\")\n",
    "while reponse != \"Unai Emery\" and reponse != \"Emery\" :\n",
    "    reponse = input(\"Qui entraine Arsenal?\")\n",
    "\n",
    "reponse = input(\"Qui est Carl Jung?\")\n",
    "while reponse != \"Psychologue\" and reponse != \"Psy\" :\n",
    "    reponse = input(\"Qui est Carl Jung\")\n",
    "\n",
    "print(\"Bravo ! Tu as gagné le quiz !\")"
   ]
  },
  {
   "cell_type": "markdown",
   "metadata": {
    "colab_type": "text",
    "id": "nh4voWn8x3dM"
   },
   "source": [
    "Maintenant, nous avons un dernier problème. On voudrait que l’utilisateur n’ait que 3 chances pour réussir le quiz \n",
    "\n",
    "    1. Améliorer votre programme pour que l’utilisateur n’ait que 3 chances pour réussir le quiz. Si l’utilisateur a répondu faux plus de 3 alors la console devra sortir “Dommage tu as perdu le jeu” et sortir du programme.\n"
   ]
  },
  {
   "cell_type": "code",
   "execution_count": 13,
   "metadata": {
    "colab": {
     "base_uri": "https://localhost:8080/",
     "height": 138
    },
    "colab_type": "code",
    "id": "adKPQe1Hsi2g",
    "outputId": "3437e844-fb38-4bbc-8f82-378b58abc6fb"
   },
   "outputs": [
    {
     "name": "stdout",
     "output_type": "stream",
     "text": [
      "Voici notre quiz\n",
      "Combien de fois la France a gagné la coupe du monde ?2\n",
      "Qui entraine Arsenal?emery\n",
      "Qui est Carl Jung?p\n",
      "Dommage il te reste 2 chances\n",
      "Qui est Carl Jungp\n",
      "Dommage il te reste 1 chances\n",
      "Qui est Carl Jung1\n",
      "Dommage tu as perdu le jeu\n",
      "Votre total de points: 2\n"
     ]
    }
   ],
   "source": [
    "print (\"Voici notre quiz\")\n",
    "i = 0\n",
    "points = 0\n",
    "\n",
    "reponse = input(\"Combien de fois la France a gagné la coupe du monde ?\")\n",
    "while reponse != \"2\" and i<3:\n",
    "    i += 1 \n",
    "    if i >= 3: \n",
    "        break\n",
    "    r = 3-i\n",
    "    print(\"Dommage il te reste \" + str(r) +\" chances\")\n",
    "    reponse = input(\"Combien de fois la France a gagné la coupe du monde ?\")\n",
    "     \n",
    "if i < 3:\n",
    "    points += 1\n",
    "    reponse = input(\"Qui entraine Arsenal?\")\n",
    "    while reponse.lower() != \"unai emery\" and reponse.lower() != \"emery\" and i<3:\n",
    "        i += 1\n",
    "        if i >= 3: \n",
    "            break\n",
    "        print(\"Dommage il te reste \" + str(3-i) +\" chances\")\n",
    "        reponse = input(\"Qui entraine Arsenal?\")\n",
    "    \n",
    "    if i < 3:\n",
    "        points += 1\n",
    "        reponse = input(\"Qui est Carl Jung?\")\n",
    "        while reponse.lower() != \"psychologue\" and reponse.lower() != \"psy\" and i<3:\n",
    "            i += 1\n",
    "            if i >= 3: \n",
    "                break\n",
    "            print(\"Dommage il te reste \" + str(3-i) +\" chances\")\n",
    "            reponse = input(\"Qui est Carl Jung\") \n",
    "        \n",
    "        if i < 3: points += 1\n",
    "\n",
    "if i > 2: \n",
    "    print(\"Dommage tu as perdu le jeu\")\n",
    "    print(\"Votre total de points: \" + str(points))\n",
    "else:\n",
    "    print(\"Bravo ! Tu as gagné le quiz !\")\n",
    "    print(\"Votre total de points: \" + str(points))"
   ]
  },
  {
   "cell_type": "code",
   "execution_count": 31,
   "metadata": {
    "colab": {},
    "colab_type": "code",
    "id": "LV_ACPSXs3pg"
   },
   "outputs": [
    {
     "name": "stdout",
     "output_type": "stream",
     "text": [
      "Voici notre quiz\n",
      "Combien de fois la France a gagné la coupe du monde ?2\n",
      "Quelle la lettre après ab\n",
      "Quel est le nom de ce bootcamp?v\n",
      "Quel est le nom de ce bootcamp?v\n",
      "Quel est le nom de ce bootcamp?v\n",
      "Dommage tu as perdu le jeu\n",
      "Votre total de points: 2\n"
     ]
    }
   ],
   "source": [
    "print (\"Voici notre quiz\")\n",
    "#liste1 = [(\"Combien de fois la France a gagné la coupe du monde ?\",\"2\"),(\"Quelle la lettre après a\",\"b\"), (\"Quel est le nom de ce bootcamp?\", \"JEDHA\")]\n",
    "liste1 = {\"Combien de fois la France a gagné la coupe du monde ?\":\"2\",\n",
    "          \"Quelle la lettre après a\":\"b\", \n",
    "          \"Quel est le nom de ce bootcamp?\":\"JEDHA\"}\n",
    "\n",
    "points = 0\n",
    "err_count = 0\n",
    "\n",
    "for question in liste1:\n",
    "    flag_rep = 0\n",
    "    while flag_rep == 0 and err_count<3:\n",
    "        reponse = input(question)\n",
    "        if reponse.lower() == liste1[question].lower():\n",
    "            points +=1\n",
    "            flag_rep = 1\n",
    "        else :\n",
    "            err_count+=1\n",
    "            if err_count>=3:\n",
    "                print(\"Dommage tu as perdu le jeu\")\n",
    "                print(\"Votre total de points: \" + str(points))\n",
    "                break\n",
    "           \n",
    "\n",
    "if err_count<3: \n",
    "    print(\"Bravo ! Tu as gagné le quiz !\")\n",
    "    print(\"Votre total de points: \" + str(points))\n",
    "\n",
    "#for i, q in enumerate (questions)\n",
    "#for question, reponse in zip(questions, reponses)\n"
   ]
  },
  {
   "cell_type": "code",
   "execution_count": 23,
   "metadata": {},
   "outputs": [
    {
     "name": "stdout",
     "output_type": "stream",
     "text": [
      "10\n"
     ]
    }
   ],
   "source": []
  },
  {
   "cell_type": "code",
   "execution_count": 32,
   "metadata": {},
   "outputs": [
    {
     "name": "stdout",
     "output_type": "stream",
     "text": [
      "1\n",
      "2\n",
      "3\n",
      "4\n",
      "[[1], [2], [3], [4]]\n"
     ]
    }
   ],
   "source": []
  },
  {
   "cell_type": "code",
   "execution_count": null,
   "metadata": {},
   "outputs": [],
   "source": []
  }
 ],
 "metadata": {
  "colab": {
   "name": "Construire un quiz - S1-1A.ipynb",
   "provenance": [],
   "version": "0.3.2"
  },
  "kernelspec": {
   "display_name": "Python 3",
   "language": "python",
   "name": "python3"
  },
  "language_info": {
   "codemirror_mode": {
    "name": "ipython",
    "version": 3
   },
   "file_extension": ".py",
   "mimetype": "text/x-python",
   "name": "python",
   "nbconvert_exporter": "python",
   "pygments_lexer": "ipython3",
   "version": "3.7.3"
  }
 },
 "nbformat": 4,
 "nbformat_minor": 1
}
