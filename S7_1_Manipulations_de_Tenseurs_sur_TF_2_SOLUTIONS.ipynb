{
  "nbformat": 4,
  "nbformat_minor": 0,
  "metadata": {
    "colab": {
      "name": "S7_1_Manipulations de Tenseurs sur TF 2 - SOLUTIONS.ipynb",
      "provenance": [],
      "include_colab_link": true
    },
    "kernelspec": {
      "name": "python3",
      "display_name": "Python 3"
    }
  },
  "cells": [
    {
      "cell_type": "markdown",
      "metadata": {
        "id": "view-in-github",
        "colab_type": "text"
      },
      "source": [
        "<a href=\"https://colab.research.google.com/github/tbazzi/Data-Science---Fullstack-Bootcamp/blob/master/S7_1_Manipulations_de_Tenseurs_sur_TF_2_SOLUTIONS.ipynb\" target=\"_parent\"><img src=\"https://colab.research.google.com/assets/colab-badge.svg\" alt=\"Open In Colab\"/></a>"
      ]
    },
    {
      "cell_type": "markdown",
      "metadata": {
        "id": "srMVsNI4-kPe",
        "colab_type": "text"
      },
      "source": [
        "# Manipulations de Tenseurs sur TF 2.0\n",
        "\n",
        "Avant de commencer à créer des réseaux de neurones complexes, il est bon d'avoir des fondements solides sur la manipulations de tenseurs sur TensorFlow. Ce notebook s'inspire de celui créé par [Google sur TF 1.X ](https://colab.research.google.com/notebooks/mlcc/creating_and_manipulating_tensors.ipynb?utm_source=mlcc&utm_campaign=colab-external&utm_medium=referral&utm_content=tensors-colab&hl=en) que vous pouvez aller regarder pour connaître les différences entre la version 1 et 2 de TensorFlow. "
      ]
    },
    {
      "cell_type": "markdown",
      "metadata": {
        "id": "Rzy5gxHz_c_Z",
        "colab_type": "text"
      },
      "source": [
        "* Installez et importez Tensorflow 2.0"
      ]
    },
    {
      "cell_type": "code",
      "metadata": {
        "id": "u0tfki8Y7wBq",
        "colab_type": "code",
        "outputId": "2738db7f-961a-4c88-c9c2-f9ddde940367",
        "colab": {
          "base_uri": "https://localhost:8080/",
          "height": 383
        }
      },
      "source": [
        "!pip install tensorflow-gpu==2.0.0beta1\n",
        "import tensorflow as tf"
      ],
      "execution_count": 0,
      "outputs": [
        {
          "output_type": "stream",
          "text": [
            "Requirement already satisfied: tensorflow-gpu==2.0.0beta1 in /usr/local/lib/python3.6/dist-packages (2.0.0b1)\n",
            "Requirement already satisfied: absl-py>=0.7.0 in /usr/local/lib/python3.6/dist-packages (from tensorflow-gpu==2.0.0beta1) (0.8.1)\n",
            "Requirement already satisfied: gast>=0.2.0 in /usr/local/lib/python3.6/dist-packages (from tensorflow-gpu==2.0.0beta1) (0.2.2)\n",
            "Requirement already satisfied: six>=1.10.0 in /usr/local/lib/python3.6/dist-packages (from tensorflow-gpu==2.0.0beta1) (1.12.0)\n",
            "Requirement already satisfied: tb-nightly<1.14.0a20190604,>=1.14.0a20190603 in /usr/local/lib/python3.6/dist-packages (from tensorflow-gpu==2.0.0beta1) (1.14.0a20190603)\n",
            "Requirement already satisfied: wheel>=0.26 in /usr/local/lib/python3.6/dist-packages (from tensorflow-gpu==2.0.0beta1) (0.33.6)\n",
            "Requirement already satisfied: keras-applications>=1.0.6 in /usr/local/lib/python3.6/dist-packages (from tensorflow-gpu==2.0.0beta1) (1.0.8)\n",
            "Requirement already satisfied: numpy<2.0,>=1.14.5 in /usr/local/lib/python3.6/dist-packages (from tensorflow-gpu==2.0.0beta1) (1.16.5)\n",
            "Requirement already satisfied: keras-preprocessing>=1.0.5 in /usr/local/lib/python3.6/dist-packages (from tensorflow-gpu==2.0.0beta1) (1.1.0)\n",
            "Requirement already satisfied: protobuf>=3.6.1 in /usr/local/lib/python3.6/dist-packages (from tensorflow-gpu==2.0.0beta1) (3.10.0)\n",
            "Requirement already satisfied: grpcio>=1.8.6 in /usr/local/lib/python3.6/dist-packages (from tensorflow-gpu==2.0.0beta1) (1.15.0)\n",
            "Requirement already satisfied: google-pasta>=0.1.6 in /usr/local/lib/python3.6/dist-packages (from tensorflow-gpu==2.0.0beta1) (0.1.7)\n",
            "Requirement already satisfied: wrapt>=1.11.1 in /usr/local/lib/python3.6/dist-packages (from tensorflow-gpu==2.0.0beta1) (1.11.2)\n",
            "Requirement already satisfied: termcolor>=1.1.0 in /usr/local/lib/python3.6/dist-packages (from tensorflow-gpu==2.0.0beta1) (1.1.0)\n",
            "Requirement already satisfied: tf-estimator-nightly<1.14.0.dev2019060502,>=1.14.0.dev2019060501 in /usr/local/lib/python3.6/dist-packages (from tensorflow-gpu==2.0.0beta1) (1.14.0.dev2019060501)\n",
            "Requirement already satisfied: astor>=0.6.0 in /usr/local/lib/python3.6/dist-packages (from tensorflow-gpu==2.0.0beta1) (0.8.0)\n",
            "Requirement already satisfied: setuptools>=41.0.0 in /usr/local/lib/python3.6/dist-packages (from tb-nightly<1.14.0a20190604,>=1.14.0a20190603->tensorflow-gpu==2.0.0beta1) (41.2.0)\n",
            "Requirement already satisfied: markdown>=2.6.8 in /usr/local/lib/python3.6/dist-packages (from tb-nightly<1.14.0a20190604,>=1.14.0a20190603->tensorflow-gpu==2.0.0beta1) (3.1.1)\n",
            "Requirement already satisfied: werkzeug>=0.11.15 in /usr/local/lib/python3.6/dist-packages (from tb-nightly<1.14.0a20190604,>=1.14.0a20190603->tensorflow-gpu==2.0.0beta1) (0.16.0)\n",
            "Requirement already satisfied: h5py in /usr/local/lib/python3.6/dist-packages (from keras-applications>=1.0.6->tensorflow-gpu==2.0.0beta1) (2.8.0)\n"
          ],
          "name": "stdout"
        }
      ]
    },
    {
      "cell_type": "code",
      "metadata": {
        "id": "ts5jttrlVZYX",
        "colab_type": "code",
        "outputId": "43dbaf78-2be4-4bfc-dfa1-d108a0282f10",
        "colab": {
          "base_uri": "https://localhost:8080/",
          "height": 34
        }
      },
      "source": [
        "tf.__version__"
      ],
      "execution_count": 0,
      "outputs": [
        {
          "output_type": "execute_result",
          "data": {
            "text/plain": [
              "'2.0.0-beta1'"
            ]
          },
          "metadata": {
            "tags": []
          },
          "execution_count": 29
        }
      ]
    },
    {
      "cell_type": "markdown",
      "metadata": {
        "id": "di9WFx7U_whx",
        "colab_type": "text"
      },
      "source": [
        "* Créez deux tensors `t1` & `t2` qui seront deux constantes ---> [`constante`](https://www.tensorflow.org/api_docs/python/tf/constant)\n",
        "Celles-ci vaudront respectivement : `[[12, 34], [56, 78]]` & `[[910, 1112], [1314, 1516]]`"
      ]
    },
    {
      "cell_type": "code",
      "metadata": {
        "id": "HrWtXcFv_kPp",
        "colab_type": "code",
        "colab": {}
      },
      "source": [
        "t1 = tf.constant([\n",
        "    [12, 34],\n",
        "    [56, 78]\n",
        "])\n",
        "\n",
        "t2 = tf.constant([\n",
        "    [910, 1112],\n",
        "    [1314, 1516]\n",
        "])"
      ],
      "execution_count": 0,
      "outputs": []
    },
    {
      "cell_type": "markdown",
      "metadata": {
        "id": "sQWNFeFQBF6c",
        "colab_type": "text"
      },
      "source": [
        "* Ajoutez un nombre scalaire 5 à `t1`"
      ]
    },
    {
      "cell_type": "code",
      "metadata": {
        "id": "-FzaLhDFAeTH",
        "colab_type": "code",
        "outputId": "1caad972-b576-483c-82fb-75835f547583",
        "colab": {
          "base_uri": "https://localhost:8080/",
          "height": 69
        }
      },
      "source": [
        "t1 + 5"
      ],
      "execution_count": 0,
      "outputs": [
        {
          "output_type": "execute_result",
          "data": {
            "text/plain": [
              "<tf.Tensor: id=81, shape=(2, 2), dtype=int32, numpy=\n",
              "array([[17, 39],\n",
              "       [61, 83]], dtype=int32)>"
            ]
          },
          "metadata": {
            "tags": []
          },
          "execution_count": 26
        }
      ]
    },
    {
      "cell_type": "markdown",
      "metadata": {
        "id": "kscQJOvDBM-3",
        "colab_type": "text"
      },
      "source": [
        "* Est-ce équivalent à faire `t1 + [[5,5], [5,5]]` ?"
      ]
    },
    {
      "cell_type": "code",
      "metadata": {
        "id": "xl8eNdA2ApN1",
        "colab_type": "code",
        "outputId": "67b86bde-9084-46b5-b674-2f0fa42c9ad3",
        "colab": {
          "base_uri": "https://localhost:8080/",
          "height": 69
        }
      },
      "source": [
        "t1 + [[5,5], [5,5]]"
      ],
      "execution_count": 0,
      "outputs": [
        {
          "output_type": "execute_result",
          "data": {
            "text/plain": [
              "<tf.Tensor: id=84, shape=(2, 2), dtype=int32, numpy=\n",
              "array([[17, 39],\n",
              "       [61, 83]], dtype=int32)>"
            ]
          },
          "metadata": {
            "tags": []
          },
          "execution_count": 27
        }
      ]
    },
    {
      "cell_type": "markdown",
      "metadata": {
        "id": "Sdjbm04dCgEk",
        "colab_type": "text"
      },
      "source": [
        "----> Ce concept s'appelle le [`broadcasting`](https://www.tensorflow.org/xla/broadcasting)"
      ]
    },
    {
      "cell_type": "markdown",
      "metadata": {
        "id": "M7p4XwwMB_xH",
        "colab_type": "text"
      },
      "source": [
        "* A chaque fois que nous calculons des tenseurs entre eux, notre console retourne un tenseur avec : \n",
        "  * Sa valeur \n",
        "  * un ID \n",
        "  * une shape \n",
        "  * un type \n",
        "  \n",
        "Utilisez `.numpy()` pour retourner uniquement la valeur du tenseur `t1`"
      ]
    },
    {
      "cell_type": "code",
      "metadata": {
        "id": "WfOeBDu3BS6s",
        "colab_type": "code",
        "outputId": "732a255b-3939-4757-84b0-818e4a4e7385",
        "colab": {
          "base_uri": "https://localhost:8080/",
          "height": 51
        }
      },
      "source": [
        "t1.numpy()"
      ],
      "execution_count": 0,
      "outputs": [
        {
          "output_type": "execute_result",
          "data": {
            "text/plain": [
              "array([[12, 34],\n",
              "       [56, 78]], dtype=int32)"
            ]
          },
          "metadata": {
            "tags": []
          },
          "execution_count": 28
        }
      ]
    },
    {
      "cell_type": "markdown",
      "metadata": {
        "id": "J11uglRCCrq1",
        "colab_type": "text"
      },
      "source": [
        "* Ajoutez à `t2` une matrice composée uniquement de 1. \n",
        "\n",
        "BONUS : Faites le sans créer une matrice à la main "
      ]
    },
    {
      "cell_type": "code",
      "metadata": {
        "id": "rWvzhnt-B2zq",
        "colab_type": "code",
        "outputId": "46636807-8ca8-40cd-9ab4-ea511a0cc30a",
        "colab": {
          "base_uri": "https://localhost:8080/",
          "height": 69
        }
      },
      "source": [
        "t2 + tf.ones_like(t2)"
      ],
      "execution_count": 0,
      "outputs": [
        {
          "output_type": "execute_result",
          "data": {
            "text/plain": [
              "<tf.Tensor: id=90, shape=(2, 2), dtype=int32, numpy=\n",
              "array([[ 911, 1113],\n",
              "       [1315, 1517]], dtype=int32)>"
            ]
          },
          "metadata": {
            "tags": []
          },
          "execution_count": 30
        }
      ]
    },
    {
      "cell_type": "markdown",
      "metadata": {
        "id": "cSGAbwd3C7nI",
        "colab_type": "text"
      },
      "source": [
        "* Faisons maitenant une multiplication de matrices. Créez un tenseur `t3` qui sera une multiplication matricielle de `t1` et de `t2`. Pour rappelle, regardez comment se fait une multiplication matricielle ici : [`Algèbre Linéaire`](https://github.com/JedhaBootcamp/FULL_STACK_12_WEEK_PROGRAM/tree/master/S0.2%20--%20Data%20Visualisation%20%26%20R%C3%A9visions%20Statistiques/S2-4%20--%20Alg%C3%A8ble%20Lin%C3%A9aire%20%26%20Probabilit%C3%A9s/S2-4A)"
      ]
    },
    {
      "cell_type": "code",
      "metadata": {
        "id": "saslONnACzKH",
        "colab_type": "code",
        "outputId": "c89e6468-7ccd-4457-d5eb-cfbf1ad34151",
        "colab": {
          "base_uri": "https://localhost:8080/",
          "height": 69
        }
      },
      "source": [
        "t3 = tf.matmul(t1, t2)\n",
        "t3"
      ],
      "execution_count": 0,
      "outputs": [
        {
          "output_type": "execute_result",
          "data": {
            "text/plain": [
              "<tf.Tensor: id=92, shape=(2, 2), dtype=int32, numpy=\n",
              "array([[ 55596,  64888],\n",
              "       [153452, 180520]], dtype=int32)>"
            ]
          },
          "metadata": {
            "tags": []
          },
          "execution_count": 31
        }
      ]
    },
    {
      "cell_type": "code",
      "metadata": {
        "id": "UWu0v1kpVy_R",
        "colab_type": "code",
        "outputId": "5fd0147d-6ac1-482c-9fe3-43d48fca4ccb",
        "colab": {
          "base_uri": "https://localhost:8080/",
          "height": 69
        }
      },
      "source": [
        "t1 @ t2"
      ],
      "execution_count": 0,
      "outputs": [
        {
          "output_type": "execute_result",
          "data": {
            "text/plain": [
              "<tf.Tensor: id=94, shape=(2, 2), dtype=int32, numpy=\n",
              "array([[ 55596,  64888],\n",
              "       [153452, 180520]], dtype=int32)>"
            ]
          },
          "metadata": {
            "tags": []
          },
          "execution_count": 32
        }
      ]
    },
    {
      "cell_type": "markdown",
      "metadata": {
        "id": "vJpHinAsDefA",
        "colab_type": "text"
      },
      "source": [
        "* Un concept qu'il est bon de maîtriser est celui de `reshape`. En effet, on aura souvent l'occasion de manipuler des tenseurs et de changer leur forme. On pourra utiliser la méthode [`.reshape()`](https://www.tensorflow.org/api_docs/python/tf/reshape)\n",
        "\n",
        "  * En utilisant `reshape`, changer la forme de `t1` pour qu'il ressemble à un vecteur "
      ]
    },
    {
      "cell_type": "code",
      "metadata": {
        "id": "HGyjYLRVDbjQ",
        "colab_type": "code",
        "outputId": "0c63cec3-0a0f-46be-c3a4-7e6239d55bcb",
        "colab": {
          "base_uri": "https://localhost:8080/",
          "height": 34
        }
      },
      "source": [
        "tf.reshape(t1, [-1,])"
      ],
      "execution_count": 0,
      "outputs": [
        {
          "output_type": "execute_result",
          "data": {
            "text/plain": [
              "<tf.Tensor: id=106, shape=(4,), dtype=int32, numpy=array([12, 34, 56, 78], dtype=int32)>"
            ]
          },
          "metadata": {
            "tags": []
          },
          "execution_count": 36
        }
      ]
    },
    {
      "cell_type": "markdown",
      "metadata": {
        "id": "zULoNFExEHfs",
        "colab_type": "text"
      },
      "source": [
        "NB : Notez que vous pouvez faire deviner la _shape_ d'un tenseur en mettant la valeur `-1`. Ceci est extremement pratique pour vous éviter des calculs rébarbatifs. Attention cependant, ce `-1` ne peut se mettre que sur 1 dimension de votre `shape`."
      ]
    },
    {
      "cell_type": "markdown",
      "metadata": {
        "id": "5FzE8UB8EcoO",
        "colab_type": "text"
      },
      "source": [
        "* De manière générale, les tenseurs ont la forme suivante : \n",
        "  * `(batch_size, height, width, channels)`\n",
        "  * Regardez la taille de `t3` initiale \n",
        "  * Pour la prochaine question nous considérerons que `t3` suit cette dimension (height, width)\n",
        "  *  Redimensionnez `t3` pour qu'il suive la dimension (batch_size, height, width, channels)"
      ]
    },
    {
      "cell_type": "code",
      "metadata": {
        "id": "ph4ees_yEvfw",
        "colab_type": "code",
        "outputId": "4de21e31-148e-40bc-a60f-dbdb979bfd20",
        "colab": {
          "base_uri": "https://localhost:8080/",
          "height": 34
        }
      },
      "source": [
        "t3.shape"
      ],
      "execution_count": 0,
      "outputs": [
        {
          "output_type": "execute_result",
          "data": {
            "text/plain": [
              "TensorShape([2, 2])"
            ]
          },
          "metadata": {
            "tags": []
          },
          "execution_count": 37
        }
      ]
    },
    {
      "cell_type": "code",
      "metadata": {
        "id": "At0DFslDEF76",
        "colab_type": "code",
        "outputId": "bbeb9ce3-f146-40ef-c159-03ec5b139c83",
        "colab": {
          "base_uri": "https://localhost:8080/",
          "height": 121
        }
      },
      "source": [
        "t3 = tf.reshape(t3, (1, 2, 2, 1))\n",
        "t3"
      ],
      "execution_count": 0,
      "outputs": [
        {
          "output_type": "execute_result",
          "data": {
            "text/plain": [
              "<tf.Tensor: id=109, shape=(1, 2, 2, 1), dtype=int32, numpy=\n",
              "array([[[[ 55596],\n",
              "         [ 64888]],\n",
              "\n",
              "        [[153452],\n",
              "         [180520]]]], dtype=int32)>"
            ]
          },
          "metadata": {
            "tags": []
          },
          "execution_count": 38
        }
      ]
    },
    {
      "cell_type": "markdown",
      "metadata": {
        "id": "2Mjs_O2DFYDC",
        "colab_type": "text"
      },
      "source": [
        "* Nous avons maintenant un tenseur qui serait compatible pour un modèle. Ceci voudrait dire que nous avons une image de hauteur 2 pixels et de largeur 2 pixels. Ce n'est pas énorme. Considérons un nouveau tenseur, appliquez le code suivant : \n",
        "\n",
        "```\n",
        "(train_img, _), (_,_) = tf.keras.datasets.cifar10.load_data()\n",
        "img = train_img[0]\n",
        "img = img.reshape(1, 32, 32, 3) \n",
        "```\n",
        "\n",
        "  * Regardez le rang de votre matrice `img` ----> cf. [`Documentation`](https://www.tensorflow.org/api_docs/python/tf/rank)"
      ]
    },
    {
      "cell_type": "code",
      "metadata": {
        "id": "ZaVOlBkREx8s",
        "colab_type": "code",
        "outputId": "692ab277-44fe-40a5-b5cd-0a3201fb5863",
        "colab": {
          "base_uri": "https://localhost:8080/",
          "height": 34
        }
      },
      "source": [
        "(train_img, _), (_,_) = tf.keras.datasets.cifar10.load_data()\n",
        "img = train_img[0]\n",
        "img = img.reshape(1, 32, 32, 3) \n",
        "\n",
        "\n",
        "tf.rank(img).numpy()"
      ],
      "execution_count": 0,
      "outputs": [
        {
          "output_type": "execute_result",
          "data": {
            "text/plain": [
              "4"
            ]
          },
          "metadata": {
            "tags": []
          },
          "execution_count": 39
        }
      ]
    },
    {
      "cell_type": "markdown",
      "metadata": {
        "id": "7HPFP2UOGjH3",
        "colab_type": "text"
      },
      "source": [
        "* Nous avons une matrice de rang 4, cela veut dire que nous avons 4 dimensions dans notre tenseur. Essayons de visualiser notre image ! \n",
        "  * Importez matplotlib.pyplot \n",
        "  * Utilisez `imshow` pour tenter de visualiser l'image "
      ]
    },
    {
      "cell_type": "code",
      "metadata": {
        "id": "wm9lILTuGGXV",
        "colab_type": "code",
        "colab": {}
      },
      "source": [
        "import matplotlib.pyplot as plt "
      ],
      "execution_count": 0,
      "outputs": []
    },
    {
      "cell_type": "code",
      "metadata": {
        "id": "W1zv5aXHGxfG",
        "colab_type": "code",
        "outputId": "1f5e79a6-f8af-4db9-9c61-f2714e407b87",
        "colab": {
          "base_uri": "https://localhost:8080/",
          "height": 563
        }
      },
      "source": [
        "plt.imshow(img)"
      ],
      "execution_count": 0,
      "outputs": [
        {
          "output_type": "error",
          "ename": "TypeError",
          "evalue": "ignored",
          "traceback": [
            "\u001b[0;31m---------------------------------------------------------------------------\u001b[0m",
            "\u001b[0;31mTypeError\u001b[0m                                 Traceback (most recent call last)",
            "\u001b[0;32m<ipython-input-41-23af6c37b3d0>\u001b[0m in \u001b[0;36m<module>\u001b[0;34m()\u001b[0m\n\u001b[0;32m----> 1\u001b[0;31m \u001b[0mplt\u001b[0m\u001b[0;34m.\u001b[0m\u001b[0mimshow\u001b[0m\u001b[0;34m(\u001b[0m\u001b[0mimg\u001b[0m\u001b[0;34m)\u001b[0m\u001b[0;34m\u001b[0m\u001b[0;34m\u001b[0m\u001b[0m\n\u001b[0m",
            "\u001b[0;32m/usr/local/lib/python3.6/dist-packages/matplotlib/pyplot.py\u001b[0m in \u001b[0;36mimshow\u001b[0;34m(X, cmap, norm, aspect, interpolation, alpha, vmin, vmax, origin, extent, shape, filternorm, filterrad, imlim, resample, url, data, **kwargs)\u001b[0m\n\u001b[1;32m   2697\u001b[0m         \u001b[0mfilternorm\u001b[0m\u001b[0;34m=\u001b[0m\u001b[0mfilternorm\u001b[0m\u001b[0;34m,\u001b[0m \u001b[0mfilterrad\u001b[0m\u001b[0;34m=\u001b[0m\u001b[0mfilterrad\u001b[0m\u001b[0;34m,\u001b[0m \u001b[0mimlim\u001b[0m\u001b[0;34m=\u001b[0m\u001b[0mimlim\u001b[0m\u001b[0;34m,\u001b[0m\u001b[0;34m\u001b[0m\u001b[0;34m\u001b[0m\u001b[0m\n\u001b[1;32m   2698\u001b[0m         resample=resample, url=url, **({\"data\": data} if data is not\n\u001b[0;32m-> 2699\u001b[0;31m         None else {}), **kwargs)\n\u001b[0m\u001b[1;32m   2700\u001b[0m     \u001b[0msci\u001b[0m\u001b[0;34m(\u001b[0m\u001b[0m__ret\u001b[0m\u001b[0;34m)\u001b[0m\u001b[0;34m\u001b[0m\u001b[0;34m\u001b[0m\u001b[0m\n\u001b[1;32m   2701\u001b[0m     \u001b[0;32mreturn\u001b[0m \u001b[0m__ret\u001b[0m\u001b[0;34m\u001b[0m\u001b[0;34m\u001b[0m\u001b[0m\n",
            "\u001b[0;32m/usr/local/lib/python3.6/dist-packages/matplotlib/__init__.py\u001b[0m in \u001b[0;36minner\u001b[0;34m(ax, data, *args, **kwargs)\u001b[0m\n\u001b[1;32m   1808\u001b[0m                         \u001b[0;34m\"the Matplotlib list!)\"\u001b[0m \u001b[0;34m%\u001b[0m \u001b[0;34m(\u001b[0m\u001b[0mlabel_namer\u001b[0m\u001b[0;34m,\u001b[0m \u001b[0mfunc\u001b[0m\u001b[0;34m.\u001b[0m\u001b[0m__name__\u001b[0m\u001b[0;34m)\u001b[0m\u001b[0;34m,\u001b[0m\u001b[0;34m\u001b[0m\u001b[0;34m\u001b[0m\u001b[0m\n\u001b[1;32m   1809\u001b[0m                         RuntimeWarning, stacklevel=2)\n\u001b[0;32m-> 1810\u001b[0;31m             \u001b[0;32mreturn\u001b[0m \u001b[0mfunc\u001b[0m\u001b[0;34m(\u001b[0m\u001b[0max\u001b[0m\u001b[0;34m,\u001b[0m \u001b[0;34m*\u001b[0m\u001b[0margs\u001b[0m\u001b[0;34m,\u001b[0m \u001b[0;34m**\u001b[0m\u001b[0mkwargs\u001b[0m\u001b[0;34m)\u001b[0m\u001b[0;34m\u001b[0m\u001b[0;34m\u001b[0m\u001b[0m\n\u001b[0m\u001b[1;32m   1811\u001b[0m \u001b[0;34m\u001b[0m\u001b[0m\n\u001b[1;32m   1812\u001b[0m         inner.__doc__ = _add_data_doc(inner.__doc__,\n",
            "\u001b[0;32m/usr/local/lib/python3.6/dist-packages/matplotlib/axes/_axes.py\u001b[0m in \u001b[0;36mimshow\u001b[0;34m(self, X, cmap, norm, aspect, interpolation, alpha, vmin, vmax, origin, extent, shape, filternorm, filterrad, imlim, resample, url, **kwargs)\u001b[0m\n\u001b[1;32m   5492\u001b[0m                               resample=resample, **kwargs)\n\u001b[1;32m   5493\u001b[0m \u001b[0;34m\u001b[0m\u001b[0m\n\u001b[0;32m-> 5494\u001b[0;31m         \u001b[0mim\u001b[0m\u001b[0;34m.\u001b[0m\u001b[0mset_data\u001b[0m\u001b[0;34m(\u001b[0m\u001b[0mX\u001b[0m\u001b[0;34m)\u001b[0m\u001b[0;34m\u001b[0m\u001b[0;34m\u001b[0m\u001b[0m\n\u001b[0m\u001b[1;32m   5495\u001b[0m         \u001b[0mim\u001b[0m\u001b[0;34m.\u001b[0m\u001b[0mset_alpha\u001b[0m\u001b[0;34m(\u001b[0m\u001b[0malpha\u001b[0m\u001b[0;34m)\u001b[0m\u001b[0;34m\u001b[0m\u001b[0;34m\u001b[0m\u001b[0m\n\u001b[1;32m   5496\u001b[0m         \u001b[0;32mif\u001b[0m \u001b[0mim\u001b[0m\u001b[0;34m.\u001b[0m\u001b[0mget_clip_path\u001b[0m\u001b[0;34m(\u001b[0m\u001b[0;34m)\u001b[0m \u001b[0;32mis\u001b[0m \u001b[0;32mNone\u001b[0m\u001b[0;34m:\u001b[0m\u001b[0;34m\u001b[0m\u001b[0;34m\u001b[0m\u001b[0m\n",
            "\u001b[0;32m/usr/local/lib/python3.6/dist-packages/matplotlib/image.py\u001b[0m in \u001b[0;36mset_data\u001b[0;34m(self, A)\u001b[0m\n\u001b[1;32m    636\u001b[0m         if not (self._A.ndim == 2\n\u001b[1;32m    637\u001b[0m                 or self._A.ndim == 3 and self._A.shape[-1] in [3, 4]):\n\u001b[0;32m--> 638\u001b[0;31m             \u001b[0;32mraise\u001b[0m \u001b[0mTypeError\u001b[0m\u001b[0;34m(\u001b[0m\u001b[0;34m\"Invalid dimensions for image data\"\u001b[0m\u001b[0;34m)\u001b[0m\u001b[0;34m\u001b[0m\u001b[0;34m\u001b[0m\u001b[0m\n\u001b[0m\u001b[1;32m    639\u001b[0m \u001b[0;34m\u001b[0m\u001b[0m\n\u001b[1;32m    640\u001b[0m         \u001b[0;32mif\u001b[0m \u001b[0mself\u001b[0m\u001b[0;34m.\u001b[0m\u001b[0m_A\u001b[0m\u001b[0;34m.\u001b[0m\u001b[0mndim\u001b[0m \u001b[0;34m==\u001b[0m \u001b[0;36m3\u001b[0m\u001b[0;34m:\u001b[0m\u001b[0;34m\u001b[0m\u001b[0;34m\u001b[0m\u001b[0m\n",
            "\u001b[0;31mTypeError\u001b[0m: Invalid dimensions for image data"
          ]
        },
        {
          "output_type": "display_data",
          "data": {
            "image/png": "[encoded data removed]",
            "text/plain": [
              "<Figure size 432x288 with 1 Axes>"
            ]
          },
          "metadata": {
            "tags": []
          }
        }
      ]
    },
    {
      "cell_type": "markdown",
      "metadata": {
        "id": "jpm3pBqJG0XH",
        "colab_type": "text"
      },
      "source": [
        "* Il semblerait que nous ayons une erreur. En effet `imshow` ne prend que des tenseurs de rang 3 ! \n",
        "  * Utilisez [`tf.squeeze()`](https://www.tensorflow.org/api_docs/python/tf/squeeze) pour réduire la dimensionnalité de votre tenseur "
      ]
    },
    {
      "cell_type": "code",
      "metadata": {
        "id": "DhH3Hnd7GywW",
        "colab_type": "code",
        "outputId": "c0fd69cb-7c20-4b0a-e14b-c82f84a64a34",
        "colab": {
          "base_uri": "https://localhost:8080/",
          "height": 34
        }
      },
      "source": [
        "img_squeezed = tf.squeeze(img)\n",
        "print(\"New shape : {}\".format(img_squeezed.shape))"
      ],
      "execution_count": 0,
      "outputs": [
        {
          "output_type": "stream",
          "text": [
            "New shape : (32, 32, 3)\n"
          ],
          "name": "stdout"
        }
      ]
    },
    {
      "cell_type": "markdown",
      "metadata": {
        "id": "ogLoDSz5HR95",
        "colab_type": "text"
      },
      "source": [
        "* Tentez de visualiser votre image à nouveau "
      ]
    },
    {
      "cell_type": "code",
      "metadata": {
        "id": "6xmpw0cxHKB9",
        "colab_type": "code",
        "outputId": "1e912a4f-67d7-47bd-f6ec-d451660b4562",
        "colab": {
          "base_uri": "https://localhost:8080/",
          "height": 286
        }
      },
      "source": [
        "plt.imshow(img_squeezed)"
      ],
      "execution_count": 0,
      "outputs": [
        {
          "output_type": "execute_result",
          "data": {
            "text/plain": [
              "<matplotlib.image.AxesImage at 0x7ff09b3e2588>"
            ]
          },
          "metadata": {
            "tags": []
          },
          "execution_count": 43
        },
        {
          "output_type": "display_data",
          "data": {
            "image/png": "[encoded data removed]",
            "text/plain": [
              "<Figure size 432x288 with 1 Axes>"
            ]
          },
          "metadata": {
            "tags": []
          }
        }
      ]
    },
    {
      "cell_type": "code",
      "metadata": {
        "id": "jFQYFVHlN0i4",
        "colab_type": "code",
        "outputId": "1d5325bd-0fda-4f46-feb1-0f0ed8662ff3",
        "colab": {
          "base_uri": "https://localhost:8080/",
          "height": 883
        }
      },
      "source": [
        "img_squeezed"
      ],
      "execution_count": 0,
      "outputs": [
        {
          "output_type": "execute_result",
          "data": {
            "text/plain": [
              "<tf.Tensor: id=26, shape=(32, 32, 3), dtype=uint8, numpy=\n",
              "array([[[ 59,  62,  63],\n",
              "        [ 43,  46,  45],\n",
              "        [ 50,  48,  43],\n",
              "        ...,\n",
              "        [158, 132, 108],\n",
              "        [152, 125, 102],\n",
              "        [148, 124, 103]],\n",
              "\n",
              "       [[ 16,  20,  20],\n",
              "        [  0,   0,   0],\n",
              "        [ 18,   8,   0],\n",
              "        ...,\n",
              "        [123,  88,  55],\n",
              "        [119,  83,  50],\n",
              "        [122,  87,  57]],\n",
              "\n",
              "       [[ 25,  24,  21],\n",
              "        [ 16,   7,   0],\n",
              "        [ 49,  27,   8],\n",
              "        ...,\n",
              "        [118,  84,  50],\n",
              "        [120,  84,  50],\n",
              "        [109,  73,  42]],\n",
              "\n",
              "       ...,\n",
              "\n",
              "       [[208, 170,  96],\n",
              "        [201, 153,  34],\n",
              "        [198, 161,  26],\n",
              "        ...,\n",
              "        [160, 133,  70],\n",
              "        [ 56,  31,   7],\n",
              "        [ 53,  34,  20]],\n",
              "\n",
              "       [[180, 139,  96],\n",
              "        [173, 123,  42],\n",
              "        [186, 144,  30],\n",
              "        ...,\n",
              "        [184, 148,  94],\n",
              "        [ 97,  62,  34],\n",
              "        [ 83,  53,  34]],\n",
              "\n",
              "       [[177, 144, 116],\n",
              "        [168, 129,  94],\n",
              "        [179, 142,  87],\n",
              "        ...,\n",
              "        [216, 184, 140],\n",
              "        [151, 118,  84],\n",
              "        [123,  92,  72]]], dtype=uint8)>"
            ]
          },
          "metadata": {
            "tags": []
          },
          "execution_count": 22
        }
      ]
    },
    {
      "cell_type": "markdown",
      "metadata": {
        "id": "OxJUWTv5HW2Z",
        "colab_type": "text"
      },
      "source": [
        "----> Fonctionne beaucoup mieux ! "
      ]
    },
    {
      "cell_type": "markdown",
      "metadata": {
        "id": "d4RBybb0HhWa",
        "colab_type": "text"
      },
      "source": [
        "Il nous reste à parler d'un dernier concept, celui de `tf.Variable`. Les variables ressemblent énormément aux tenseurs `tf.constant`. Le but du premier étant d'avoir des valeurs à l'intérieur du tenseur qui sont modifiables et sur lesquelles on peut faire des opérations. Le second sont plutôt sensé être des valeurs constantes sur lesquelles nous ne faisons pas d'opérations. \n",
        "\n",
        "Pour plus d'informations, n'hésitez pas à regarder ce [Stack Overflow](https://stackoverflow.com/questions/44745855/tensorflow-variables-and-constants)\n",
        "\n",
        "Dans la pratique, la vraie différence que vous verrez en termes de code entre `tf.constant` & `tf.variable` est le fait que vous aurez des attributs d'opérations sur `tf.variable`"
      ]
    },
    {
      "cell_type": "markdown",
      "metadata": {
        "id": "8umdwunuIDzk",
        "colab_type": "text"
      },
      "source": [
        "* Créez deux variables `t4` & `t5` qui sont deux matrices de nombre aléatoires (vous pouvez les choisir arbitrairement)"
      ]
    },
    {
      "cell_type": "code",
      "metadata": {
        "id": "AqQvvj6qI6pr",
        "colab_type": "code",
        "outputId": "fe1b731d-9fd4-44f5-93e4-f6eb6a81799c",
        "colab": {
          "base_uri": "https://localhost:8080/",
          "height": 121
        }
      },
      "source": [
        "t4 = tf.Variable([\n",
        "    [1, 2], \n",
        "    [3, 4]\n",
        "])\n",
        "\n",
        "t5 = tf.Variable([\n",
        "    [7, 8],\n",
        "    [9, 10]\n",
        "])\n",
        "\n",
        "\n",
        "print(\"T4: {}\".format(t4))\n",
        "print(\"T5: {}\".format(t5))"
      ],
      "execution_count": 0,
      "outputs": [
        {
          "output_type": "stream",
          "text": [
            "T4: <tf.Variable 'Variable:0' shape=(2, 2) dtype=int32, numpy=\n",
            "array([[1, 2],\n",
            "       [3, 4]], dtype=int32)>\n",
            "T5: <tf.Variable 'Variable:0' shape=(2, 2) dtype=int32, numpy=\n",
            "array([[ 7,  8],\n",
            "       [ 9, 10]], dtype=int32)>\n"
          ],
          "name": "stdout"
        }
      ]
    },
    {
      "cell_type": "markdown",
      "metadata": {
        "id": "B_cAMuL4J9wi",
        "colab_type": "text"
      },
      "source": [
        "* Utilisez `assign_add()` pour ajouter `t1` à `t4`"
      ]
    },
    {
      "cell_type": "code",
      "metadata": {
        "id": "b4B71AXhJ9iz",
        "colab_type": "code",
        "outputId": "2c7e5ffb-f3b1-4d73-e244-f80b67ee7b3a",
        "colab": {
          "base_uri": "https://localhost:8080/",
          "height": 69
        }
      },
      "source": [
        "t4.assign_add(t1)"
      ],
      "execution_count": 0,
      "outputs": [
        {
          "output_type": "execute_result",
          "data": {
            "text/plain": [
              "<tf.Variable 'UnreadVariable' shape=(2, 2) dtype=int32, numpy=\n",
              "array([[13, 36],\n",
              "       [59, 82]], dtype=int32)>"
            ]
          },
          "metadata": {
            "tags": []
          },
          "execution_count": 18
        }
      ]
    },
    {
      "cell_type": "markdown",
      "metadata": {
        "id": "7FbCCGISKLlz",
        "colab_type": "text"
      },
      "source": [
        "* Tentez de faire l'inverse --> `assign_add()` de `t4` sur `t1`"
      ]
    },
    {
      "cell_type": "code",
      "metadata": {
        "id": "cqiEHvI5KTwD",
        "colab_type": "code",
        "outputId": "6fe83611-be13-42e1-a245-a9b7dbcd8a82",
        "colab": {
          "base_uri": "https://localhost:8080/",
          "height": 186
        }
      },
      "source": [
        "t1.assign_add(t4)"
      ],
      "execution_count": 0,
      "outputs": [
        {
          "output_type": "error",
          "ename": "AttributeError",
          "evalue": "ignored",
          "traceback": [
            "\u001b[0;31m---------------------------------------------------------------------------\u001b[0m",
            "\u001b[0;31mAttributeError\u001b[0m                            Traceback (most recent call last)",
            "\u001b[0;32m<ipython-input-19-cbba95af9caf>\u001b[0m in \u001b[0;36m<module>\u001b[0;34m()\u001b[0m\n\u001b[0;32m----> 1\u001b[0;31m \u001b[0mt1\u001b[0m\u001b[0;34m.\u001b[0m\u001b[0massign_add\u001b[0m\u001b[0;34m(\u001b[0m\u001b[0mt4\u001b[0m\u001b[0;34m)\u001b[0m\u001b[0;34m\u001b[0m\u001b[0;34m\u001b[0m\u001b[0m\n\u001b[0m",
            "\u001b[0;31mAttributeError\u001b[0m: 'tensorflow.python.framework.ops.EagerTensor' object has no attribute 'assign_add'"
          ]
        }
      ]
    },
    {
      "cell_type": "markdown",
      "metadata": {
        "id": "iiU8a9tdKWSK",
        "colab_type": "text"
      },
      "source": [
        "---> Voici donc la différence entre des `tf.Constant` et des `tf.Variable`\n",
        "\n",
        "Vous pouvez voir tous les opérateurs possibles sur des variables sur cette documentation : \n",
        "\n",
        "[`variables`](https://www.tensorflow.org/api_docs/python/tf/Variable)"
      ]
    },
    {
      "cell_type": "markdown",
      "metadata": {
        "id": "TRsrzb85M1-c",
        "colab_type": "text"
      },
      "source": [
        "* Finissons sur quelque chose d'un peu plus complexe. \n",
        "  * Modélisez 10 lancés de deux dés et stockez les deux tenseurs \n",
        "  * Créez une troisième variables qui sera la somme des valeurs de chacun des lancés des deux dés\n",
        "  * Enfin, stockez les trois valeurs (lancé du dé 1, lancé du dé 2, somme des deux lancés) dans une matrice\n",
        "  \n",
        "Pour se faire, vous pourrez vous aider de : \n",
        "\n",
        "* [random.uniform](https://www.tensorflow.org/api_docs/python/tf/random/uniform)\n",
        "* [concat](https://www.tensorflow.org/api_docs/python/tf/concat)"
      ]
    },
    {
      "cell_type": "code",
      "metadata": {
        "id": "TVaiwwlRHV1i",
        "colab_type": "code",
        "outputId": "b8fe9f6d-8640-4219-da72-3b24cf52ddf3",
        "colab": {
          "base_uri": "https://localhost:8080/",
          "height": 190
        }
      },
      "source": [
        "die1 = tf.random.uniform([10, 1], minval=1, maxval=7, dtype=tf.int32)\n",
        "die2 = tf.random.uniform([10, 1], minval=1, maxval=7, dtype=tf.int32)\n",
        "\n",
        "dice_sum = tf.add(die1, die2)\n",
        "resulting_matrix = tf.concat(values=[die1, die2, dice_sum], axis=1)\n",
        "\n",
        "print(resulting_matrix.numpy())"
      ],
      "execution_count": 0,
      "outputs": [
        {
          "output_type": "stream",
          "text": [
            "[[ 2  6  8]\n",
            " [ 6  3  9]\n",
            " [ 2  3  5]\n",
            " [ 4  6 10]\n",
            " [ 5  6 11]\n",
            " [ 5  3  8]\n",
            " [ 6  4 10]\n",
            " [ 4  3  7]\n",
            " [ 3  2  5]\n",
            " [ 2  5  7]]\n"
          ],
          "name": "stdout"
        }
      ]
    },
    {
      "cell_type": "code",
      "metadata": {
        "id": "XdnU6a-BILs4",
        "colab_type": "code",
        "colab": {}
      },
      "source": [
        ""
      ],
      "execution_count": 0,
      "outputs": []
    }
  ]
}