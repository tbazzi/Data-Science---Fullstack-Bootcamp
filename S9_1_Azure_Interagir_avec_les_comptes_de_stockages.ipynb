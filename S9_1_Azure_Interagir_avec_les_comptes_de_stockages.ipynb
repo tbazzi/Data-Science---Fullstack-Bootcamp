{
  "nbformat": 4,
  "nbformat_minor": 0,
  "metadata": {
    "kernelspec": {
      "name": "python3",
      "display_name": "Python 3"
    },
    "language_info": {
      "codemirror_mode": {
        "name": "ipython",
        "version": 3
      },
      "file_extension": ".py",
      "mimetype": "text/x-python",
      "name": "python",
      "nbconvert_exporter": "python",
      "pygments_lexer": "ipython3",
      "version": "3.7.2"
    },
    "colab": {
      "name": "S9_1_Azure - Interagir avec les comptes de stockages.ipynb",
      "provenance": [],
      "collapsed_sections": [],
      "include_colab_link": true
    },
    "accelerator": "GPU"
  },
  "cells": [
    {
      "cell_type": "markdown",
      "metadata": {
        "id": "view-in-github",
        "colab_type": "text"
      },
      "source": [
        "<a href=\"https://colab.research.google.com/github/tbazzi/Data-Science---Fullstack-Bootcamp/blob/master/S9_1_Azure_Interagir_avec_les_comptes_de_stockages.ipynb\" target=\"_parent\"><img src=\"https://colab.research.google.com/assets/colab-badge.svg\" alt=\"Open In Colab\"/></a>"
      ]
    },
    {
      "cell_type": "markdown",
      "metadata": {
        "id": "EDHzYEXmdyys",
        "colab_type": "text"
      },
      "source": [
        "# Installer les librairies"
      ]
    },
    {
      "cell_type": "code",
      "metadata": {
        "ExecuteTime": {
          "end_time": "2018-12-16T16:06:27.496718Z",
          "start_time": "2018-12-16T16:06:27.494371Z"
        },
        "scrolled": true,
        "id": "Krm4_jAidyyu",
        "colab_type": "code",
        "outputId": "c60d318d-d2d0-4f6a-b1f1-984b42d06a59",
        "colab": {
          "base_uri": "https://localhost:8080/",
          "height": 419
        }
      },
      "source": [
        "!pip install azure-storage"
      ],
      "execution_count": 1,
      "outputs": [
        {
          "output_type": "stream",
          "text": [
            "Collecting azure-storage\n",
            "\u001b[?25l  Downloading https://files.pythonhosted.org/packages/76/26/482c033f8f3a48d16cf75aad91c3e1256856719f4117fabb4696d33aa5da/azure_storage-0.36.0-py2.py3-none-any.whl (190kB)\n",
            "\r\u001b[K     |█▊                              | 10kB 21.9MB/s eta 0:00:01\r\u001b[K     |███▍                            | 20kB 4.0MB/s eta 0:00:01\r\u001b[K     |█████▏                          | 30kB 5.6MB/s eta 0:00:01\r\u001b[K     |██████▉                         | 40kB 3.8MB/s eta 0:00:01\r\u001b[K     |████████▋                       | 51kB 4.7MB/s eta 0:00:01\r\u001b[K     |██████████▎                     | 61kB 5.5MB/s eta 0:00:01\r\u001b[K     |████████████                    | 71kB 6.3MB/s eta 0:00:01\r\u001b[K     |█████████████▊                  | 81kB 7.1MB/s eta 0:00:01\r\u001b[K     |███████████████▌                | 92kB 7.9MB/s eta 0:00:01\r\u001b[K     |█████████████████▏              | 102kB 6.3MB/s eta 0:00:01\r\u001b[K     |███████████████████             | 112kB 6.3MB/s eta 0:00:01\r\u001b[K     |████████████████████▋           | 122kB 6.3MB/s eta 0:00:01\r\u001b[K     |██████████████████████▎         | 133kB 6.3MB/s eta 0:00:01\r\u001b[K     |████████████████████████        | 143kB 6.3MB/s eta 0:00:01\r\u001b[K     |█████████████████████████▊      | 153kB 6.3MB/s eta 0:00:01\r\u001b[K     |███████████████████████████▌    | 163kB 6.3MB/s eta 0:00:01\r\u001b[K     |█████████████████████████████▏  | 174kB 6.3MB/s eta 0:00:01\r\u001b[K     |███████████████████████████████ | 184kB 6.3MB/s eta 0:00:01\r\u001b[K     |████████████████████████████████| 194kB 6.3MB/s \n",
            "\u001b[?25hCollecting azure-nspkg>=2.0.0\n",
            "  Downloading https://files.pythonhosted.org/packages/c4/0c/c562be95a9a2ed52454f598571cf300b1114d0db2aa27f5b8ed3bb9cd0c0/azure_nspkg-3.0.2-py3-none-any.whl\n",
            "Collecting cryptography\n",
            "\u001b[?25l  Downloading https://files.pythonhosted.org/packages/ca/9a/7cece52c46546e214e10811b36b2da52ce1ea7fa203203a629b8dfadad53/cryptography-2.8-cp34-abi3-manylinux2010_x86_64.whl (2.3MB)\n",
            "\u001b[K     |████████████████████████████████| 2.3MB 44.4MB/s \n",
            "\u001b[?25hRequirement already satisfied: python-dateutil in /usr/local/lib/python3.6/dist-packages (from azure-storage) (2.6.1)\n",
            "Collecting azure-common>=1.1.5\n",
            "  Downloading https://files.pythonhosted.org/packages/00/55/a703923c12cd3172d5c007beda0c1a34342a17a6a72779f8a7c269af0cd6/azure_common-1.1.23-py2.py3-none-any.whl\n",
            "Requirement already satisfied: requests in /usr/local/lib/python3.6/dist-packages (from azure-storage) (2.21.0)\n",
            "Requirement already satisfied: six>=1.4.1 in /usr/local/lib/python3.6/dist-packages (from cryptography->azure-storage) (1.12.0)\n",
            "Requirement already satisfied: cffi!=1.11.3,>=1.8 in /usr/local/lib/python3.6/dist-packages (from cryptography->azure-storage) (1.13.1)\n",
            "Requirement already satisfied: idna<2.9,>=2.5 in /usr/local/lib/python3.6/dist-packages (from requests->azure-storage) (2.8)\n",
            "Requirement already satisfied: urllib3<1.25,>=1.21.1 in /usr/local/lib/python3.6/dist-packages (from requests->azure-storage) (1.24.3)\n",
            "Requirement already satisfied: chardet<3.1.0,>=3.0.2 in /usr/local/lib/python3.6/dist-packages (from requests->azure-storage) (3.0.4)\n",
            "Requirement already satisfied: certifi>=2017.4.17 in /usr/local/lib/python3.6/dist-packages (from requests->azure-storage) (2019.9.11)\n",
            "Requirement already satisfied: pycparser in /usr/local/lib/python3.6/dist-packages (from cffi!=1.11.3,>=1.8->cryptography->azure-storage) (2.19)\n",
            "Installing collected packages: azure-nspkg, cryptography, azure-common, azure-storage\n",
            "Successfully installed azure-common-1.1.23 azure-nspkg-3.0.2 azure-storage-0.36.0 cryptography-2.8\n"
          ],
          "name": "stdout"
        }
      ]
    },
    {
      "cell_type": "markdown",
      "metadata": {
        "id": "kWnPJuRddyyx",
        "colab_type": "text"
      },
      "source": [
        "# Imports"
      ]
    },
    {
      "cell_type": "code",
      "metadata": {
        "ExecuteTime": {
          "end_time": "2019-04-14T13:35:20.117181Z",
          "start_time": "2019-04-14T13:35:19.839243Z"
        },
        "id": "yB73XqiLdyyy",
        "colab_type": "code",
        "colab": {}
      },
      "source": [
        "from azure.storage.blob import BlockBlobService"
      ],
      "execution_count": 0,
      "outputs": []
    },
    {
      "cell_type": "markdown",
      "metadata": {
        "id": "6woaSGUmdyy1",
        "colab_type": "text"
      },
      "source": [
        "# Créer la connexion avec le compte de stockage"
      ]
    },
    {
      "cell_type": "code",
      "metadata": {
        "ExecuteTime": {
          "end_time": "2019-04-14T13:36:16.360121Z",
          "start_time": "2019-04-14T13:36:16.086066Z"
        },
        "id": "dZW5jAFCdyy2",
        "colab_type": "code",
        "colab": {}
      },
      "source": [
        "account_name='storagetba'\n",
        "account_key='eY8+WHK414qv4cd8fxWL1W8SYCcOVwLHtYGmcA58YP0bOhoh4raapVgSPuKkVj/8t5x0/enxky0wJwmFKGWH8A=='\n",
        "\n",
        "service_blob = BlockBlobService(account_name, account_key) "
      ],
      "execution_count": 0,
      "outputs": []
    },
    {
      "cell_type": "markdown",
      "metadata": {
        "id": "5hKZzZ5Fdyy6",
        "colab_type": "text"
      },
      "source": [
        "# Créer un container"
      ]
    },
    {
      "cell_type": "code",
      "metadata": {
        "id": "lxYqVW7Zdyy7",
        "colab_type": "code",
        "outputId": "0c4d746f-9443-4e9e-dfcc-ccfb63318b46",
        "colab": {
          "base_uri": "https://localhost:8080/",
          "height": 35
        }
      },
      "source": [
        "service_blob.create_container('default')"
      ],
      "execution_count": 4,
      "outputs": [
        {
          "output_type": "execute_result",
          "data": {
            "text/plain": [
              "True"
            ]
          },
          "metadata": {
            "tags": []
          },
          "execution_count": 4
        }
      ]
    },
    {
      "cell_type": "code",
      "metadata": {
        "id": "8UzUBIQTR9ux",
        "colab_type": "code",
        "outputId": "8cacab43-81b2-4a5e-fc2a-5cbbfd1c3256",
        "colab": {
          "base_uri": "https://localhost:8080/",
          "height": 35
        }
      },
      "source": [
        "cd .."
      ],
      "execution_count": 5,
      "outputs": [
        {
          "output_type": "stream",
          "text": [
            "/\n"
          ],
          "name": "stdout"
        }
      ]
    },
    {
      "cell_type": "markdown",
      "metadata": {
        "id": "7WYp7A7gdyy9",
        "colab_type": "text"
      },
      "source": [
        "# Uploader des données"
      ]
    },
    {
      "cell_type": "code",
      "metadata": {
        "id": "vnlYE4m4v2fP",
        "colab_type": "code",
        "colab": {
          "base_uri": "https://localhost:8080/",
          "height": 128
        },
        "outputId": "b84a20f2-05af-4529-b376-f4bd6f886c2e"
      },
      "source": [
        "from google.colab import drive\n",
        "drive.mount('/content/drive')"
      ],
      "execution_count": 11,
      "outputs": [
        {
          "output_type": "stream",
          "text": [
            "Go to this URL in a browser: https://accounts.google.com/o/oauth2/auth?client_id=947318989803-6bn6qk8qdgf4n4g3pfee6491hc0brc4i.apps.googleusercontent.com&redirect_uri=urn%3Aietf%3Awg%3Aoauth%3A2.0%3Aoob&scope=email%20https%3A%2F%2Fwww.googleapis.com%2Fauth%2Fdocs.test%20https%3A%2F%2Fwww.googleapis.com%2Fauth%2Fdrive%20https%3A%2F%2Fwww.googleapis.com%2Fauth%2Fdrive.photos.readonly%20https%3A%2F%2Fwww.googleapis.com%2Fauth%2Fpeopleapi.readonly&response_type=code\n",
            "\n",
            "Enter your authorization code:\n",
            "··········\n",
            "Mounted at /content/drive\n"
          ],
          "name": "stdout"
        }
      ]
    },
    {
      "cell_type": "code",
      "metadata": {
        "ExecuteTime": {
          "end_time": "2018-12-15T11:48:10.316132Z",
          "start_time": "2018-12-15T11:48:10.173662Z"
        },
        "id": "6z0_--ildyy-",
        "colab_type": "code",
        "outputId": "bc2f472c-e3f6-48d0-e6d3-5dd727438e0c",
        "colab": {
          "base_uri": "https://localhost:8080/",
          "height": 35
        }
      },
      "source": [
        "container_name = 'default'\n",
        "source_file_path = \"/content/drive/My Drive/train_titanic.csv\"\n",
        "destination_file_path = 'train_titanic.csv'\n",
        "\n",
        "service_blob.create_blob_from_path(container_name, destination_file_path, source_file_path)"
      ],
      "execution_count": 12,
      "outputs": [
        {
          "output_type": "execute_result",
          "data": {
            "text/plain": [
              "<azure.storage.blob.models.ResourceProperties at 0x7f1c4f9c0a58>"
            ]
          },
          "metadata": {
            "tags": []
          },
          "execution_count": 12
        }
      ]
    },
    {
      "cell_type": "markdown",
      "metadata": {
        "id": "RANj_AmPdyzA",
        "colab_type": "text"
      },
      "source": [
        "# Downloader des données"
      ]
    },
    {
      "cell_type": "code",
      "metadata": {
        "ExecuteTime": {
          "end_time": "2018-12-15T11:48:11.022042Z",
          "start_time": "2018-12-15T11:48:10.958553Z"
        },
        "id": "HtLTNw8idyzB",
        "colab_type": "code",
        "outputId": "da7ae1b3-301f-48cf-c9af-a6146d6990f5",
        "colab": {}
      },
      "source": [
        "container_name = 'default'\n",
        "source_file_path = 'Workbook1.xlsx'\n",
        "destination_file_path = 'Workbook1_uploaded.xlsx'\n",
        "\n",
        "service_blob.get_blob_to_path(container_name, source_file_path, destination_file_path)"
      ],
      "execution_count": 0,
      "outputs": [
        {
          "output_type": "execute_result",
          "data": {
            "text/plain": [
              "<azure.storage.blob.models.Blob at 0x10f65a2b0>"
            ]
          },
          "metadata": {
            "tags": []
          },
          "execution_count": 66
        }
      ]
    },
    {
      "cell_type": "markdown",
      "metadata": {
        "id": "0zpYhGUOdyzE",
        "colab_type": "text"
      },
      "source": [
        "# Lister les fichiers"
      ]
    },
    {
      "cell_type": "code",
      "metadata": {
        "ExecuteTime": {
          "end_time": "2018-12-15T11:48:11.289041Z",
          "start_time": "2018-12-15T11:48:11.253318Z"
        },
        "id": "2Ia6_pipdyzE",
        "colab_type": "code",
        "outputId": "3bd0d92e-98f6-4a99-a4fc-f67e7624e066",
        "colab": {
          "base_uri": "https://localhost:8080/",
          "height": 35
        }
      },
      "source": [
        "container_name = 'default'\n",
        "\n",
        "for blob in service_blob.list_blobs(container_name):\n",
        "    print(blob.name, \", last modified :\", blob.properties.last_modified)"
      ],
      "execution_count": 13,
      "outputs": [
        {
          "output_type": "stream",
          "text": [
            "train_titanic.csv , last modified : 2019-11-04 09:31:41+00:00\n"
          ],
          "name": "stdout"
        }
      ]
    },
    {
      "cell_type": "code",
      "metadata": {
        "id": "r9zKCZiCdyzH",
        "colab_type": "code",
        "colab": {}
      },
      "source": [
        ""
      ],
      "execution_count": 0,
      "outputs": []
    }
  ]
}