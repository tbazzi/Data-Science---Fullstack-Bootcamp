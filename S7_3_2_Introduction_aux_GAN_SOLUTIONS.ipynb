{
  "nbformat": 4,
  "nbformat_minor": 0,
  "metadata": {
    "colab": {
      "name": "S7_3_2 Introduction aux GAN - SOLUTIONS.ipynb",
      "provenance": [],
      "collapsed_sections": [],
      "include_colab_link": true
    },
    "kernelspec": {
      "name": "python3",
      "display_name": "Python 3"
    },
    "accelerator": "GPU"
  },
  "cells": [
    {
      "cell_type": "markdown",
      "metadata": {
        "id": "view-in-github",
        "colab_type": "text"
      },
      "source": [
        "<a href=\"https://colab.research.google.com/github/tbazzi/Data-Science---Fullstack-Bootcamp/blob/master/S7_3_2_Introduction_aux_GAN_SOLUTIONS.ipynb\" target=\"_parent\"><img src=\"https://colab.research.google.com/assets/colab-badge.svg\" alt=\"Open In Colab\"/></a>"
      ]
    },
    {
      "cell_type": "markdown",
      "metadata": {
        "id": "ntaL99qnF6-X",
        "colab_type": "text"
      },
      "source": [
        "# Créer des handwritten digits avec des GAN \n",
        "\n",
        "\n",
        "Les [GAN ou Generative Adversarial Networks](https://arxiv.org/abs/1406.2661) sont une des dernières avancées du Deep Learning, le principe est assez simple. Au lieu d'avoir un modèle qui va générer des images, nous allons avoir deux modèle : \n",
        "\n",
        "* **Un générateur** : Le premier va essayer de créer des images à partir du dataset d'images qu'on lui donne \n",
        "* **Un discriminateur** : Un autre modèle va essayer de distinguer les images créées par le générateur des vraies images\n",
        "\n",
        "Tout est ensuite une bataille entre le générateur qui va tenter de créer des images tellement parfaite que le discriminateur n'arrive plus à distinguer les _vraies_ images des images _générées_\n",
        "\n",
        "Tentons d'implémenter cela sur MNIST : \n",
        "\n",
        "[![Texte alternatif…](https://tensorflow.org/images/gan/dcgan.gif)]"
      ]
    },
    {
      "cell_type": "markdown",
      "metadata": {
        "id": "Usbo5E-jIEol",
        "colab_type": "text"
      },
      "source": [
        "* Importez les librairies suivantes \n",
        "  * tensorflow 2.0 \n",
        "  * glob\n",
        "  * matplotlib.pyplot\n",
        "  * numpy\n",
        "  * os \n",
        "  * time \n",
        "  * display from IPython"
      ]
    },
    {
      "cell_type": "code",
      "metadata": {
        "id": "8O9B7Fc4F4Wm",
        "colab_type": "code",
        "outputId": "120289ea-b974-442b-e9dd-96555b8c0c33",
        "colab": {
          "base_uri": "https://localhost:8080/",
          "height": 507
        }
      },
      "source": [
        "!pip install tensorflow-gpu==2.0.0beta1\n",
        "import tensorflow as tf \n",
        "import glob \n",
        "import matplotlib.pyplot as plt \n",
        "import numpy as np \n",
        "import os \n",
        "import time \n",
        "from IPython import display"
      ],
      "execution_count": 0,
      "outputs": [
        {
          "output_type": "stream",
          "text": [
            "Collecting tensorflow-gpu==2.0.0beta1\n",
            "\u001b[?25l  Downloading https://files.pythonhosted.org/packages/2b/53/e18c5e7a2263d3581a979645a185804782e59b8e13f42b9c3c3cfb5bb503/tensorflow_gpu-2.0.0b1-cp36-cp36m-manylinux1_x86_64.whl (348.9MB)\n",
            "\u001b[K     |████████████████████████████████| 348.9MB 67kB/s \n",
            "\u001b[?25hRequirement already satisfied: protobuf>=3.6.1 in /usr/local/lib/python3.6/dist-packages (from tensorflow-gpu==2.0.0beta1) (3.7.1)\n",
            "Collecting tb-nightly<1.14.0a20190604,>=1.14.0a20190603 (from tensorflow-gpu==2.0.0beta1)\n",
            "\u001b[?25l  Downloading https://files.pythonhosted.org/packages/a4/96/571b875cd81dda9d5dfa1422a4f9d749e67c0a8d4f4f0b33a4e5f5f35e27/tb_nightly-1.14.0a20190603-py3-none-any.whl (3.1MB)\n",
            "\u001b[K     |████████████████████████████████| 3.1MB 23.8MB/s \n",
            "\u001b[?25hRequirement already satisfied: numpy<2.0,>=1.14.5 in /usr/local/lib/python3.6/dist-packages (from tensorflow-gpu==2.0.0beta1) (1.16.4)\n",
            "Requirement already satisfied: wrapt>=1.11.1 in /usr/local/lib/python3.6/dist-packages (from tensorflow-gpu==2.0.0beta1) (1.11.2)\n",
            "Requirement already satisfied: grpcio>=1.8.6 in /usr/local/lib/python3.6/dist-packages (from tensorflow-gpu==2.0.0beta1) (1.15.0)\n",
            "Requirement already satisfied: google-pasta>=0.1.6 in /usr/local/lib/python3.6/dist-packages (from tensorflow-gpu==2.0.0beta1) (0.1.7)\n",
            "Requirement already satisfied: termcolor>=1.1.0 in /usr/local/lib/python3.6/dist-packages (from tensorflow-gpu==2.0.0beta1) (1.1.0)\n",
            "Requirement already satisfied: keras-applications>=1.0.6 in /usr/local/lib/python3.6/dist-packages (from tensorflow-gpu==2.0.0beta1) (1.0.8)\n",
            "Requirement already satisfied: keras-preprocessing>=1.0.5 in /usr/local/lib/python3.6/dist-packages (from tensorflow-gpu==2.0.0beta1) (1.1.0)\n",
            "Requirement already satisfied: wheel>=0.26 in /usr/local/lib/python3.6/dist-packages (from tensorflow-gpu==2.0.0beta1) (0.33.4)\n",
            "Requirement already satisfied: six>=1.10.0 in /usr/local/lib/python3.6/dist-packages (from tensorflow-gpu==2.0.0beta1) (1.12.0)\n",
            "Requirement already satisfied: absl-py>=0.7.0 in /usr/local/lib/python3.6/dist-packages (from tensorflow-gpu==2.0.0beta1) (0.7.1)\n",
            "Requirement already satisfied: gast>=0.2.0 in /usr/local/lib/python3.6/dist-packages (from tensorflow-gpu==2.0.0beta1) (0.2.2)\n",
            "Collecting tf-estimator-nightly<1.14.0.dev2019060502,>=1.14.0.dev2019060501 (from tensorflow-gpu==2.0.0beta1)\n",
            "\u001b[?25l  Downloading https://files.pythonhosted.org/packages/32/dd/99c47dd007dcf10d63fd895611b063732646f23059c618a373e85019eb0e/tf_estimator_nightly-1.14.0.dev2019060501-py2.py3-none-any.whl (496kB)\n",
            "\u001b[K     |████████████████████████████████| 501kB 34.2MB/s \n",
            "\u001b[?25hRequirement already satisfied: astor>=0.6.0 in /usr/local/lib/python3.6/dist-packages (from tensorflow-gpu==2.0.0beta1) (0.8.0)\n",
            "Requirement already satisfied: setuptools in /usr/local/lib/python3.6/dist-packages (from protobuf>=3.6.1->tensorflow-gpu==2.0.0beta1) (41.0.1)\n",
            "Requirement already satisfied: markdown>=2.6.8 in /usr/local/lib/python3.6/dist-packages (from tb-nightly<1.14.0a20190604,>=1.14.0a20190603->tensorflow-gpu==2.0.0beta1) (3.1.1)\n",
            "Requirement already satisfied: werkzeug>=0.11.15 in /usr/local/lib/python3.6/dist-packages (from tb-nightly<1.14.0a20190604,>=1.14.0a20190603->tensorflow-gpu==2.0.0beta1) (0.15.4)\n",
            "Requirement already satisfied: h5py in /usr/local/lib/python3.6/dist-packages (from keras-applications>=1.0.6->tensorflow-gpu==2.0.0beta1) (2.8.0)\n",
            "Installing collected packages: tb-nightly, tf-estimator-nightly, tensorflow-gpu\n",
            "Successfully installed tb-nightly-1.14.0a20190603 tensorflow-gpu-2.0.0b1 tf-estimator-nightly-1.14.0.dev2019060501\n"
          ],
          "name": "stdout"
        }
      ]
    },
    {
      "cell_type": "markdown",
      "metadata": {
        "id": "plRXJPYOIoyz",
        "colab_type": "text"
      },
      "source": [
        "* Nous avons besoin de télécharger le dataset MNIST. Vous pouvez le faire via [`tf.keras.datasets.mnist`](https://www.tensorflow.org/api_docs/python/tf/keras/datasets)"
      ]
    },
    {
      "cell_type": "code",
      "metadata": {
        "id": "D9dj_CilIhDR",
        "colab_type": "code",
        "outputId": "a2bd6f00-6039-4199-cd9d-7a92f6a4e06b",
        "colab": {
          "base_uri": "https://localhost:8080/",
          "height": 322
        }
      },
      "source": [
        "(X_train, y_train), (_, _) = tf.keras.datasets.mnist.load_data()\n",
        "print(X_train[:2], y_train[:2])"
      ],
      "execution_count": 0,
      "outputs": [
        {
          "output_type": "stream",
          "text": [
            "Downloading data from https://storage.googleapis.com/tensorflow/tf-keras-datasets/mnist.npz\n",
            "11493376/11490434 [==============================] - 0s 0us/step\n",
            "[[[0 0 0 ... 0 0 0]\n",
            "  [0 0 0 ... 0 0 0]\n",
            "  [0 0 0 ... 0 0 0]\n",
            "  ...\n",
            "  [0 0 0 ... 0 0 0]\n",
            "  [0 0 0 ... 0 0 0]\n",
            "  [0 0 0 ... 0 0 0]]\n",
            "\n",
            " [[0 0 0 ... 0 0 0]\n",
            "  [0 0 0 ... 0 0 0]\n",
            "  [0 0 0 ... 0 0 0]\n",
            "  ...\n",
            "  [0 0 0 ... 0 0 0]\n",
            "  [0 0 0 ... 0 0 0]\n",
            "  [0 0 0 ... 0 0 0]]] [5 0]\n"
          ],
          "name": "stdout"
        }
      ]
    },
    {
      "cell_type": "markdown",
      "metadata": {
        "id": "nnJEYEbGJK1Q",
        "colab_type": "text"
      },
      "source": [
        "* Il va falloir qu'on passe par une phase de preprocessing des données. \n",
        "  * Commencer par effectuer un `reshape` sur vos images d'entrainement pour qu'elles aient la shape suivante : (sample, height, width, channels = 1). \n",
        "  * Convertissez ces images en `float32`\n",
        "  * Normalisez vos images pour que chacun des pixels se retrouvent dans l'intervalle [-1, 1]. Vous pourrez tout simplement soustraire chacun des pixels par 127.5 (255/2) puis diviser le tout par 127.5 (255/2)"
      ]
    },
    {
      "cell_type": "code",
      "metadata": {
        "id": "9X6oansiJCk-",
        "colab_type": "code",
        "outputId": "4b341dd6-298a-49da-d288-c8c1f8404ff9",
        "colab": {
          "base_uri": "https://localhost:8080/",
          "height": 1000
        }
      },
      "source": [
        "train_images = X_train.reshape(X_train.shape[0], 28, 28, 1).astype(\"float32\")\n",
        "train_images = (train_images - 255/2)/255/2\n",
        "train_images[:2]"
      ],
      "execution_count": 0,
      "outputs": [
        {
          "output_type": "execute_result",
          "data": {
            "text/plain": [
              "array([[[[-0.25],\n",
              "         [-0.25],\n",
              "         [-0.25],\n",
              "         ...,\n",
              "         [-0.25],\n",
              "         [-0.25],\n",
              "         [-0.25]],\n",
              "\n",
              "        [[-0.25],\n",
              "         [-0.25],\n",
              "         [-0.25],\n",
              "         ...,\n",
              "         [-0.25],\n",
              "         [-0.25],\n",
              "         [-0.25]],\n",
              "\n",
              "        [[-0.25],\n",
              "         [-0.25],\n",
              "         [-0.25],\n",
              "         ...,\n",
              "         [-0.25],\n",
              "         [-0.25],\n",
              "         [-0.25]],\n",
              "\n",
              "        ...,\n",
              "\n",
              "        [[-0.25],\n",
              "         [-0.25],\n",
              "         [-0.25],\n",
              "         ...,\n",
              "         [-0.25],\n",
              "         [-0.25],\n",
              "         [-0.25]],\n",
              "\n",
              "        [[-0.25],\n",
              "         [-0.25],\n",
              "         [-0.25],\n",
              "         ...,\n",
              "         [-0.25],\n",
              "         [-0.25],\n",
              "         [-0.25]],\n",
              "\n",
              "        [[-0.25],\n",
              "         [-0.25],\n",
              "         [-0.25],\n",
              "         ...,\n",
              "         [-0.25],\n",
              "         [-0.25],\n",
              "         [-0.25]]],\n",
              "\n",
              "\n",
              "       [[[-0.25],\n",
              "         [-0.25],\n",
              "         [-0.25],\n",
              "         ...,\n",
              "         [-0.25],\n",
              "         [-0.25],\n",
              "         [-0.25]],\n",
              "\n",
              "        [[-0.25],\n",
              "         [-0.25],\n",
              "         [-0.25],\n",
              "         ...,\n",
              "         [-0.25],\n",
              "         [-0.25],\n",
              "         [-0.25]],\n",
              "\n",
              "        [[-0.25],\n",
              "         [-0.25],\n",
              "         [-0.25],\n",
              "         ...,\n",
              "         [-0.25],\n",
              "         [-0.25],\n",
              "         [-0.25]],\n",
              "\n",
              "        ...,\n",
              "\n",
              "        [[-0.25],\n",
              "         [-0.25],\n",
              "         [-0.25],\n",
              "         ...,\n",
              "         [-0.25],\n",
              "         [-0.25],\n",
              "         [-0.25]],\n",
              "\n",
              "        [[-0.25],\n",
              "         [-0.25],\n",
              "         [-0.25],\n",
              "         ...,\n",
              "         [-0.25],\n",
              "         [-0.25],\n",
              "         [-0.25]],\n",
              "\n",
              "        [[-0.25],\n",
              "         [-0.25],\n",
              "         [-0.25],\n",
              "         ...,\n",
              "         [-0.25],\n",
              "         [-0.25],\n",
              "         [-0.25]]]], dtype=float32)"
            ]
          },
          "metadata": {
            "tags": []
          },
          "execution_count": 5
        }
      ]
    },
    {
      "cell_type": "markdown",
      "metadata": {
        "id": "rhl-n_U4Kgqu",
        "colab_type": "text"
      },
      "source": [
        "* Visualisez une image dans votre dataset via matplotlib "
      ]
    },
    {
      "cell_type": "code",
      "metadata": {
        "id": "Jo3C0RFoKUzj",
        "colab_type": "code",
        "outputId": "dff80c41-088d-4717-c11e-fc773171f9a2",
        "colab": {
          "base_uri": "https://localhost:8080/",
          "height": 286
        }
      },
      "source": [
        "plt.imshow(train_images[0].squeeze())"
      ],
      "execution_count": 0,
      "outputs": [
        {
          "output_type": "execute_result",
          "data": {
            "text/plain": [
              "<matplotlib.image.AxesImage at 0x7f2db82d75f8>"
            ]
          },
          "metadata": {
            "tags": []
          },
          "execution_count": 6
        },
        {
          "output_type": "display_data",
          "data": {
            "image/png": "[encoded data removed]",
            "text/plain": [
              "<Figure size 432x288 with 1 Axes>"
            ]
          },
          "metadata": {
            "tags": []
          }
        }
      ]
    },
    {
      "cell_type": "markdown",
      "metadata": {
        "id": "43IiifiAK3j7",
        "colab_type": "text"
      },
      "source": [
        "* Créez un [`tf.data.Dataset`](https://www.tensorflow.org/api_docs/python/tf/data/Dataset) à partir de vos images de train. Vous appliquerez ensuite les dernières phases de preprocessing :\n",
        "  * Appliquez un shuffle avec un Buffer_Size de 6000\n",
        "  * Convertissez les images en batch de 256 images "
      ]
    },
    {
      "cell_type": "code",
      "metadata": {
        "id": "ZWFfyoTGKnEg",
        "colab_type": "code",
        "colab": {}
      },
      "source": [
        "BUFFER_SIZE = 60000\n",
        "BATCH_SIZE = 256\n",
        "\n",
        "train_set = tf.data.Dataset.from_tensor_slices(train_images).shuffle(BUFFER_SIZE).batch(BATCH_SIZE)"
      ],
      "execution_count": 0,
      "outputs": []
    },
    {
      "cell_type": "code",
      "metadata": {
        "id": "Ir-A73VAL9mx",
        "colab_type": "code",
        "outputId": "303814f9-ec3e-4ada-ea41-bbc96265689f",
        "colab": {
          "base_uri": "https://localhost:8080/",
          "height": 1000
        }
      },
      "source": [
        "for i in train_set.take(1):\n",
        "  print(i)"
      ],
      "execution_count": 0,
      "outputs": [
        {
          "output_type": "stream",
          "text": [
            "tf.Tensor(\n",
            "[[[[-0.25]\n",
            "   [-0.25]\n",
            "   [-0.25]\n",
            "   ...\n",
            "   [-0.25]\n",
            "   [-0.25]\n",
            "   [-0.25]]\n",
            "\n",
            "  [[-0.25]\n",
            "   [-0.25]\n",
            "   [-0.25]\n",
            "   ...\n",
            "   [-0.25]\n",
            "   [-0.25]\n",
            "   [-0.25]]\n",
            "\n",
            "  [[-0.25]\n",
            "   [-0.25]\n",
            "   [-0.25]\n",
            "   ...\n",
            "   [-0.25]\n",
            "   [-0.25]\n",
            "   [-0.25]]\n",
            "\n",
            "  ...\n",
            "\n",
            "  [[-0.25]\n",
            "   [-0.25]\n",
            "   [-0.25]\n",
            "   ...\n",
            "   [-0.25]\n",
            "   [-0.25]\n",
            "   [-0.25]]\n",
            "\n",
            "  [[-0.25]\n",
            "   [-0.25]\n",
            "   [-0.25]\n",
            "   ...\n",
            "   [-0.25]\n",
            "   [-0.25]\n",
            "   [-0.25]]\n",
            "\n",
            "  [[-0.25]\n",
            "   [-0.25]\n",
            "   [-0.25]\n",
            "   ...\n",
            "   [-0.25]\n",
            "   [-0.25]\n",
            "   [-0.25]]]\n",
            "\n",
            "\n",
            " [[[-0.25]\n",
            "   [-0.25]\n",
            "   [-0.25]\n",
            "   ...\n",
            "   [-0.25]\n",
            "   [-0.25]\n",
            "   [-0.25]]\n",
            "\n",
            "  [[-0.25]\n",
            "   [-0.25]\n",
            "   [-0.25]\n",
            "   ...\n",
            "   [-0.25]\n",
            "   [-0.25]\n",
            "   [-0.25]]\n",
            "\n",
            "  [[-0.25]\n",
            "   [-0.25]\n",
            "   [-0.25]\n",
            "   ...\n",
            "   [-0.25]\n",
            "   [-0.25]\n",
            "   [-0.25]]\n",
            "\n",
            "  ...\n",
            "\n",
            "  [[-0.25]\n",
            "   [-0.25]\n",
            "   [-0.25]\n",
            "   ...\n",
            "   [-0.25]\n",
            "   [-0.25]\n",
            "   [-0.25]]\n",
            "\n",
            "  [[-0.25]\n",
            "   [-0.25]\n",
            "   [-0.25]\n",
            "   ...\n",
            "   [-0.25]\n",
            "   [-0.25]\n",
            "   [-0.25]]\n",
            "\n",
            "  [[-0.25]\n",
            "   [-0.25]\n",
            "   [-0.25]\n",
            "   ...\n",
            "   [-0.25]\n",
            "   [-0.25]\n",
            "   [-0.25]]]\n",
            "\n",
            "\n",
            " [[[-0.25]\n",
            "   [-0.25]\n",
            "   [-0.25]\n",
            "   ...\n",
            "   [-0.25]\n",
            "   [-0.25]\n",
            "   [-0.25]]\n",
            "\n",
            "  [[-0.25]\n",
            "   [-0.25]\n",
            "   [-0.25]\n",
            "   ...\n",
            "   [-0.25]\n",
            "   [-0.25]\n",
            "   [-0.25]]\n",
            "\n",
            "  [[-0.25]\n",
            "   [-0.25]\n",
            "   [-0.25]\n",
            "   ...\n",
            "   [-0.25]\n",
            "   [-0.25]\n",
            "   [-0.25]]\n",
            "\n",
            "  ...\n",
            "\n",
            "  [[-0.25]\n",
            "   [-0.25]\n",
            "   [-0.25]\n",
            "   ...\n",
            "   [-0.25]\n",
            "   [-0.25]\n",
            "   [-0.25]]\n",
            "\n",
            "  [[-0.25]\n",
            "   [-0.25]\n",
            "   [-0.25]\n",
            "   ...\n",
            "   [-0.25]\n",
            "   [-0.25]\n",
            "   [-0.25]]\n",
            "\n",
            "  [[-0.25]\n",
            "   [-0.25]\n",
            "   [-0.25]\n",
            "   ...\n",
            "   [-0.25]\n",
            "   [-0.25]\n",
            "   [-0.25]]]\n",
            "\n",
            "\n",
            " ...\n",
            "\n",
            "\n",
            " [[[-0.25]\n",
            "   [-0.25]\n",
            "   [-0.25]\n",
            "   ...\n",
            "   [-0.25]\n",
            "   [-0.25]\n",
            "   [-0.25]]\n",
            "\n",
            "  [[-0.25]\n",
            "   [-0.25]\n",
            "   [-0.25]\n",
            "   ...\n",
            "   [-0.25]\n",
            "   [-0.25]\n",
            "   [-0.25]]\n",
            "\n",
            "  [[-0.25]\n",
            "   [-0.25]\n",
            "   [-0.25]\n",
            "   ...\n",
            "   [-0.25]\n",
            "   [-0.25]\n",
            "   [-0.25]]\n",
            "\n",
            "  ...\n",
            "\n",
            "  [[-0.25]\n",
            "   [-0.25]\n",
            "   [-0.25]\n",
            "   ...\n",
            "   [-0.25]\n",
            "   [-0.25]\n",
            "   [-0.25]]\n",
            "\n",
            "  [[-0.25]\n",
            "   [-0.25]\n",
            "   [-0.25]\n",
            "   ...\n",
            "   [-0.25]\n",
            "   [-0.25]\n",
            "   [-0.25]]\n",
            "\n",
            "  [[-0.25]\n",
            "   [-0.25]\n",
            "   [-0.25]\n",
            "   ...\n",
            "   [-0.25]\n",
            "   [-0.25]\n",
            "   [-0.25]]]\n",
            "\n",
            "\n",
            " [[[-0.25]\n",
            "   [-0.25]\n",
            "   [-0.25]\n",
            "   ...\n",
            "   [-0.25]\n",
            "   [-0.25]\n",
            "   [-0.25]]\n",
            "\n",
            "  [[-0.25]\n",
            "   [-0.25]\n",
            "   [-0.25]\n",
            "   ...\n",
            "   [-0.25]\n",
            "   [-0.25]\n",
            "   [-0.25]]\n",
            "\n",
            "  [[-0.25]\n",
            "   [-0.25]\n",
            "   [-0.25]\n",
            "   ...\n",
            "   [-0.25]\n",
            "   [-0.25]\n",
            "   [-0.25]]\n",
            "\n",
            "  ...\n",
            "\n",
            "  [[-0.25]\n",
            "   [-0.25]\n",
            "   [-0.25]\n",
            "   ...\n",
            "   [-0.25]\n",
            "   [-0.25]\n",
            "   [-0.25]]\n",
            "\n",
            "  [[-0.25]\n",
            "   [-0.25]\n",
            "   [-0.25]\n",
            "   ...\n",
            "   [-0.25]\n",
            "   [-0.25]\n",
            "   [-0.25]]\n",
            "\n",
            "  [[-0.25]\n",
            "   [-0.25]\n",
            "   [-0.25]\n",
            "   ...\n",
            "   [-0.25]\n",
            "   [-0.25]\n",
            "   [-0.25]]]\n",
            "\n",
            "\n",
            " [[[-0.25]\n",
            "   [-0.25]\n",
            "   [-0.25]\n",
            "   ...\n",
            "   [-0.25]\n",
            "   [-0.25]\n",
            "   [-0.25]]\n",
            "\n",
            "  [[-0.25]\n",
            "   [-0.25]\n",
            "   [-0.25]\n",
            "   ...\n",
            "   [-0.25]\n",
            "   [-0.25]\n",
            "   [-0.25]]\n",
            "\n",
            "  [[-0.25]\n",
            "   [-0.25]\n",
            "   [-0.25]\n",
            "   ...\n",
            "   [-0.25]\n",
            "   [-0.25]\n",
            "   [-0.25]]\n",
            "\n",
            "  ...\n",
            "\n",
            "  [[-0.25]\n",
            "   [-0.25]\n",
            "   [-0.25]\n",
            "   ...\n",
            "   [-0.25]\n",
            "   [-0.25]\n",
            "   [-0.25]]\n",
            "\n",
            "  [[-0.25]\n",
            "   [-0.25]\n",
            "   [-0.25]\n",
            "   ...\n",
            "   [-0.25]\n",
            "   [-0.25]\n",
            "   [-0.25]]\n",
            "\n",
            "  [[-0.25]\n",
            "   [-0.25]\n",
            "   [-0.25]\n",
            "   ...\n",
            "   [-0.25]\n",
            "   [-0.25]\n",
            "   [-0.25]]]], shape=(256, 28, 28, 1), dtype=float32)\n"
          ],
          "name": "stdout"
        }
      ]
    },
    {
      "cell_type": "markdown",
      "metadata": {
        "id": "MaZNEWYQNrYL",
        "colab_type": "text"
      },
      "source": [
        "* Nous allons maintenant créer notre _générateur_. Ce modèle prendra comme input des pixels complètement aléatoires qu'on appellera du _bruit_. L'input passera par une série de couches [_Conv2DTranspose_](https://www.tensorflow.org/versions/r2.0/api_docs/python/tf/keras/layers/Conv2DTranspose) qui vont produire une image à partir de ce random seed. Ces _Conv2DTranspose_ marche à l'inverse d'une convolution, qu'on appelle, de fait une _déconvolution_. Créez donc un modèle avec la structure suivante : \n",
        "\n",
        "    * Dense(7*7*256, use_bias=False, input_shape=(100,))\n",
        "    * BatchNormalization()\n",
        "    * LeakyReLU()\n",
        "\n",
        "    * Reshape((7, 7, 256))\n",
        "\n",
        "    * Conv2DTranspose(128, (5, 5), strides=(1, 1), padding='same', use_bias=False)\n",
        "    * BatchNormalization()\n",
        "    * LeakyReLU()\n",
        "\n",
        "    * Conv2DTranspose(64, (5, 5), strides=(2, 2), padding='same', use_bias=False)\n",
        "    * BatchNormalization()\n",
        "    * LeakyReLU()\n",
        "\n",
        "    * Conv2DTranspose(1, (5, 5), strides=(2, 2), padding='same', use_bias=False, activation='tanh')"
      ]
    },
    {
      "cell_type": "markdown",
      "metadata": {
        "id": "iV010y8QO8AZ",
        "colab_type": "text"
      },
      "source": [
        "NB : La fonction d'activation [LeakyRelu()](https://www.tensorflow.org/versions/r2.0/api_docs/python/tf/keras/layers/LeakyReLU) qui est adapté pour ce genre de problématique. LeakyRelu, à l'inverse de Relu, ne mets pas le neurone à 0 s'il n'est pas actif mais laisse un gradient.\n",
        "\n",
        "`f(x) = alpha * x for x < 0`\n",
        "\n",
        "`f(x) = x for x >= 0`"
      ]
    },
    {
      "cell_type": "code",
      "metadata": {
        "id": "5yJ_OpmGMEzm",
        "colab_type": "code",
        "colab": {}
      },
      "source": [
        "def make_generator_model():\n",
        "    model = tf.keras.Sequential([\n",
        "        tf.keras.layers.Dense(7*7*256, use_bias=False, input_shape=(100,)),\n",
        "        tf.keras.layers.BatchNormalization(),\n",
        "        tf.keras.layers.LeakyReLU(),\n",
        "        \n",
        "        tf.keras.layers.Reshape((7,7, 256)),\n",
        "        \n",
        "        tf.keras.layers.Conv2DTranspose(128, (5, 5), strides=(1, 1), padding='same', use_bias=False),\n",
        "        tf.keras.layers.BatchNormalization(),\n",
        "        tf.keras.layers.LeakyReLU(),\n",
        "        \n",
        "        tf.keras.layers.Conv2DTranspose(64, (5, 5), strides=(2, 2), padding='same', use_bias=False),\n",
        "        tf.keras.layers.BatchNormalization(),\n",
        "        tf.keras.layers.LeakyReLU(),\n",
        "        \n",
        "        tf.keras.layers.Conv2DTranspose(1, (5, 5), strides=(2, 2), padding='same', use_bias=False, activation=\"tanh\")\n",
        "        \n",
        "    ])\n",
        "\n",
        "    return model\n"
      ],
      "execution_count": 0,
      "outputs": []
    },
    {
      "cell_type": "markdown",
      "metadata": {
        "id": "fqTLjPpvQ58X",
        "colab_type": "text"
      },
      "source": [
        "* Testez votre modèle en créant une image complètement aléatoire. Pour cela : \n",
        "  * Créez un tenseurs de pixels aléatoires d'une shape de (100,) ---> Tentez de regarder [`tf.random.normal`](https://www.tensorflow.org/api_docs/python/tf/random/normal)\n",
        "  * Appliquez votre modèle sur ce tenseur aléatoire \n",
        "  * Visualisez avec plt"
      ]
    },
    {
      "cell_type": "code",
      "metadata": {
        "id": "r_AB68S8Qway",
        "colab_type": "code",
        "outputId": "f2b54210-8d2a-49d7-d9b0-ba6c05bd684b",
        "colab": {
          "base_uri": "https://localhost:8080/",
          "height": 286
        }
      },
      "source": [
        "### instanciation du modèle\n",
        "generator = make_generator_model()\n",
        "\n",
        "### Création de pixels aléatoire de taille (1, 100)\n",
        "random_pixels = tf.random.normal([1,100])\n",
        "\n",
        "### Application du modèle\n",
        "rand_img = generator(random_pixels, training=False)\n",
        "\n",
        "### Visualisation du modèle \n",
        "plt.imshow(rand_img.numpy().squeeze())"
      ],
      "execution_count": 0,
      "outputs": [
        {
          "output_type": "execute_result",
          "data": {
            "text/plain": [
              "<matplotlib.image.AxesImage at 0x7f2d69901898>"
            ]
          },
          "metadata": {
            "tags": []
          },
          "execution_count": 16
        },
        {
          "output_type": "display_data",
          "data": {
            "image/png": "[encoded data removed]",
            "text/plain": [
              "<Figure size 432x288 with 1 Axes>"
            ]
          },
          "metadata": {
            "tags": []
          }
        }
      ]
    },
    {
      "cell_type": "markdown",
      "metadata": {
        "id": "Qcw63FyFR-yb",
        "colab_type": "text"
      },
      "source": [
        "* Créons maintenant notre _discrimateur_. Ce modèle sera un simple CNN binaire qui va tenter de prédire si l'image est un faux ou un vrai. Vous pouvez prendre la structure suivante : \n",
        "\n",
        "  * Conv2D(64, (5, 5), strides=(2, 2), padding='same', input_shape=[28, 28, 1]))\n",
        "  * LeakyReLU()\n",
        "  * Dropout(0.3)\n",
        "  \n",
        "  * Conv2D(128, (5, 5), strides=(2, 2), padding='same')\n",
        "  * LeakyReLU()\n",
        "  * Dropout(0.3)\n",
        "  \n",
        "  * Flatten()\n",
        "  * Dense(1)"
      ]
    },
    {
      "cell_type": "code",
      "metadata": {
        "id": "URqEW06aRrfQ",
        "colab_type": "code",
        "colab": {}
      },
      "source": [
        "def make_discriminator_model():\n",
        "  \n",
        "    model = tf.keras.Sequential([\n",
        "        \n",
        "        tf.keras.layers.Conv2D(64, (5, 5), strides=(2, 2), padding='same', input_shape=[28, 28, 1]),\n",
        "        tf.keras.layers.LeakyReLU(),\n",
        "        tf.keras.layers.Dropout(0.3),\n",
        "        \n",
        "        tf.keras.layers.Conv2D(128, (5,5), strides=(2,2), padding=\"same\"),\n",
        "        tf.keras.layers.LeakyReLU(),\n",
        "        tf.keras.layers.Dropout(0.3),\n",
        "        \n",
        "        tf.keras.layers.Flatten(),\n",
        "        tf.keras.layers.Dense(1)        \n",
        "    ])\n",
        "\n",
        "    return model "
      ],
      "execution_count": 0,
      "outputs": []
    },
    {
      "cell_type": "markdown",
      "metadata": {
        "id": "S4-fQX2GWVTr",
        "colab_type": "text"
      },
      "source": [
        "* Testez votre modèle sur une image aléatoire. Celui-ci ne nous donnera pas des prédictions justes, le but est de vérifier que votre modèle fonctionne. "
      ]
    },
    {
      "cell_type": "code",
      "metadata": {
        "id": "2oey4SoqV4YW",
        "colab_type": "code",
        "outputId": "81bfeddc-ec0e-462a-f9df-eb4a6a14ab8b",
        "colab": {
          "base_uri": "https://localhost:8080/",
          "height": 54
        }
      },
      "source": [
        "discriminator = make_discriminator_model()\n",
        "discriminator(rand_img)"
      ],
      "execution_count": 0,
      "outputs": [
        {
          "output_type": "execute_result",
          "data": {
            "text/plain": [
              "<tf.Tensor: id=3036, shape=(1, 1), dtype=float32, numpy=array([[-0.00086636]], dtype=float32)>"
            ]
          },
          "metadata": {
            "tags": []
          },
          "execution_count": 21
        }
      ]
    },
    {
      "cell_type": "markdown",
      "metadata": {
        "id": "_nP6YsTAWqRj",
        "colab_type": "text"
      },
      "source": [
        "* Nous allons maintenant définir deux fonctions de coût : `discriminator_loss` et `generator_loss`\n",
        "  * **discriminator_loss** : devra définir à quel point notre discriminateur distingue les fausses images des vraies \n",
        "  * **generator_loss** : devra définir à quel notre generator arrive à _tromper_ notre discriminateur\n",
        "  \n",
        "  Créez une variable `cross_entropy` qui stockera la fonction `tf.keras.losses.BinaryCrossentropy(from_logits=True)"
      ]
    },
    {
      "cell_type": "code",
      "metadata": {
        "id": "N-tB_T12WjD5",
        "colab_type": "code",
        "outputId": "145de07e-9810-45e5-f4d9-e125af14d1f8",
        "colab": {
          "base_uri": "https://localhost:8080/",
          "height": 34
        }
      },
      "source": [
        "cross_entropy = tf.keras.losses.BinaryCrossentropy(from_logits=True)\n",
        "cross_entropy"
      ],
      "execution_count": 0,
      "outputs": [
        {
          "output_type": "execute_result",
          "data": {
            "text/plain": [
              "<tensorflow.python.keras.losses.BinaryCrossentropy at 0x7f2d697c4c50>"
            ]
          },
          "metadata": {
            "tags": []
          },
          "execution_count": 22
        }
      ]
    },
    {
      "cell_type": "markdown",
      "metadata": {
        "id": "X-roCs5hYAPV",
        "colab_type": "text"
      },
      "source": [
        "* Définissez votre `discriminator_loss`. Cette fonction prendra une somme de deux `loss`:\n",
        "  * `real_loss`: qui sera égale à la cross_entropy entre y_true_real & y_pred\n",
        "  * `fake_loss`: qui sera égale à la cross_entropy entre y_true_fake & y_pred\n",
        "  \n",
        "  `y_true_real` étant les valeurs qu'auraient dû trouver le modèle sur des images réelles : Ceci s'apparente en fait simple à une matrice de 1\n",
        "  \n",
        "  `y_true_fake` étant les valeurs qu'auraient dû trouver le modèle sur images factices : Ceci s'apparente simplement à une matrice de 0"
      ]
    },
    {
      "cell_type": "code",
      "metadata": {
        "id": "MWqSPu-aX_L2",
        "colab_type": "code",
        "colab": {}
      },
      "source": [
        "def discriminator_loss(real_outputs, fake_outputs):\n",
        "  real_loss = cross_entropy(tf.ones_like(real_outputs), real_outputs)\n",
        "  fake_loss = cross_entropy(tf.zeros_like(fake_outputs), fake_outputs)\n",
        "  \n",
        "  total_loss = real_loss + fake_loss \n",
        "  return total_loss"
      ],
      "execution_count": 0,
      "outputs": []
    },
    {
      "cell_type": "markdown",
      "metadata": {
        "id": "jUah8h88a2bS",
        "colab_type": "text"
      },
      "source": [
        "* Définissez maintenant `generator_loss` qui devra définir à quel point notre modèle arrive à tromper notre `discriminator`. Autremement dit, si notre `discriminator` définit une fausse image comme une _vraie image_ cela devra faire baisser `generator_loss`. \n",
        "\n",
        "Il suffira donc de calculer la cross entropy entre des images factices classées comme des images réelles et les prédictions de notre `generator` sur des images factices "
      ]
    },
    {
      "cell_type": "code",
      "metadata": {
        "id": "xFUG81sKat7-",
        "colab_type": "code",
        "colab": {}
      },
      "source": [
        "def generator_loss(fake_outputs):\n",
        "  return cross_entropy(tf.ones_like(fake_outputs), fake_outputs)"
      ],
      "execution_count": 0,
      "outputs": []
    },
    {
      "cell_type": "markdown",
      "metadata": {
        "id": "KjIuU_7PcCd7",
        "colab_type": "text"
      },
      "source": [
        "* Définissons maintenant deux optimiseurs pour nos deux fonctions de coût. Créez deux optimiseurs Adam avec un learning rate à `1e-4` chacun "
      ]
    },
    {
      "cell_type": "code",
      "metadata": {
        "id": "foP-A9yqcBZS",
        "colab_type": "code",
        "colab": {}
      },
      "source": [
        "generator_optimizer = tf.keras.optimizers.Adam(1e-4)\n",
        "discriminator_optimizer = tf.keras.optimizers.Adam(1e-4)"
      ],
      "execution_count": 0,
      "outputs": []
    },
    {
      "cell_type": "markdown",
      "metadata": {
        "id": "aSXRZr5ocg_1",
        "colab_type": "text"
      },
      "source": [
        "* Nous allons pouvoir créer notre boucle d'entrainement ! Commencons d'abord par définir quelques variables : \n",
        "  * EPOCHS = 50 ---> Nous allons définir 50 epochs pour notre boucle \n",
        "  * noise_dim = 100 ---> La dimension de notre tenseur aléatoire \n",
        "  * num_examples_to_generate = 16 ---> Nous créerons 16 images aléatoires \n",
        "  * seed = tf.random.normal([num_examples_to_generate, noise_dim]) ----> Nos images aléatoires "
      ]
    },
    {
      "cell_type": "code",
      "metadata": {
        "id": "P2trFkvbcTX_",
        "colab_type": "code",
        "colab": {}
      },
      "source": [
        "EPOCHS = 70\n",
        "noise_dim = 100\n",
        "num_examples_to_generate = 16\n",
        "seed = tf.random.normal([num_examples_to_generate, noise_dim])"
      ],
      "execution_count": 0,
      "outputs": []
    },
    {
      "cell_type": "markdown",
      "metadata": {
        "id": "Uof7Ybcnd7gc",
        "colab_type": "text"
      },
      "source": [
        "* Nous allons maintenant définir une fonction `train_step` qui va définir comment une étape de l'entrainement du modèle va se passer. Pour cela, vous devrez implémenter les choses suivantes :\n",
        "  * Initialisez une variable _noise_ qui sera égale à un tenseurs aléatoire de taille ([Batch_size, noise_dim])\n",
        "  * Commencez à enregistrer les gradients dans un block : `with tf.GradientTape() as gen_tape, tf.GradientTape() as disc_tape: \n",
        "    NB : En effet, nous suivrons les gradients des deux fonctions de coûts *gen_loss* et *disc_loss* . Une fois ceci fait, vous devrez à l'intérieur du block :\n",
        "    * Appliquer votre modèle _generator_ sur votre variable _noise_\n",
        "    * Appliquer votre _discriminator_ sur votre batch d'images réelles et sur vos images générées \n",
        "    * Calculez la *gen_loss* de votre _generator_ sur votre fausse image\n",
        "    * Calculez la *disc_loss* de votre _discriminator_ entre vos images réelles et vos images générées\n",
        "  * Une fois que vous avez codé votre block, vous devrez appliquer vos gradients sur *gen_loss* & *disc_loss* \n",
        "    * Vous pouvez le faire via `gen_tape.gradient(loss, weights)` & `disc_tape.gradient(loss, weights)`. N'hésitez pas à regarder cette documentation pour vous aider : [`GradientTape`](https://www.tensorflow.org/tutorials/eager/automatic_differentiation) & [`trainable_variables`](https://www.tensorflow.org/api_docs/python/tf/trainable_variables)\n",
        "  * Enfin, appliquez vos gradient grâce aux optimiseurs que vous avez définis plus haut. N'hésitez pas à vous aider de cette documentation [`apply_gradients`](https://www.tensorflow.org/api_docs/python/tf/train/Optimizer#apply_gradients)"
      ]
    },
    {
      "cell_type": "code",
      "metadata": {
        "id": "loDB0kH1d64N",
        "colab_type": "code",
        "colab": {}
      },
      "source": [
        "# Notice the use of `tf.function`\n",
        "# This annotation causes the function to be \"compiled\".\n",
        "@tf.function\n",
        "def train_step(images):\n",
        "    noise = tf.random.normal([BATCH_SIZE, noise_dim])\n",
        "\n",
        "    with tf.GradientTape() as gen_tape, tf.GradientTape() as disc_tape:\n",
        "      generated_images = generator(noise, training=True)\n",
        "\n",
        "      real_output = discriminator(images, training=True)\n",
        "      fake_output = discriminator(generated_images, training=True)\n",
        "\n",
        "      gen_loss = generator_loss(fake_output)\n",
        "      disc_loss = discriminator_loss(real_output, fake_output)\n",
        "\n",
        "    gradients_of_generator = gen_tape.gradient(gen_loss, generator.trainable_variables)\n",
        "    gradients_of_discriminator = disc_tape.gradient(disc_loss, discriminator.trainable_variables)\n",
        "\n",
        "    generator_optimizer.apply_gradients(zip(gradients_of_generator, generator.trainable_variables))\n",
        "    discriminator_optimizer.apply_gradients(zip(gradients_of_discriminator, discriminator.trainable_variables))"
      ],
      "execution_count": 0,
      "outputs": []
    },
    {
      "cell_type": "markdown",
      "metadata": {
        "id": "qKQx-q79elQe",
        "colab_type": "text"
      },
      "source": [
        "* Avant d'appliquer notre fonction d'entrainement, nous allons devoir créer une dernière fonction qui va permettre de générer et sauvegarder une image. Cela nous permettra de regarder la tête d'un batch d'images et s'apercevoir de comment notre modèle s'entraine. Appliquez le code suivant pour pouvoir regarder et enregistrer une image :\n",
        "\n",
        "```\n",
        "def generate_and_save_images(model, epoch, test_input):\n",
        "  # Notice `training` is set to False.\n",
        "  # This is so all layers run in inference mode (batchnorm).\n",
        "  predictions = model(test_input, training=False)\n",
        "\n",
        "  fig = plt.figure(figsize=(4,4))\n",
        "\n",
        "  for i in range(predictions.shape[0]):\n",
        "      plt.subplot(4, 4, i+1)\n",
        "      plt.imshow(predictions[i, :, :, 0] * 127.5 + 127.5, cmap='gray')\n",
        "      plt.axis('off')\n",
        "\n",
        "  plt.savefig('image_at_epoch_{:04d}.png'.format(epoch))\n",
        "  plt.show()\n",
        " ```"
      ]
    },
    {
      "cell_type": "code",
      "metadata": {
        "id": "ZpA6_QzNer3I",
        "colab_type": "code",
        "colab": {}
      },
      "source": [
        "def generate_and_save_images(model, epoch, test_input):\n",
        "  # Notice `training` is set to False.\n",
        "  # This is so all layers run in inference mode (batchnorm).\n",
        "  predictions = model(test_input, training=False)\n",
        "\n",
        "  fig = plt.figure(figsize=(4,4))\n",
        "\n",
        "  for i in range(predictions.shape[0]):\n",
        "      plt.subplot(4, 4, i+1)\n",
        "      plt.imshow(predictions[i, :, :, 0] * 127.5 + 127.5, cmap='gray')\n",
        "      plt.axis('off')\n",
        "\n",
        "  plt.savefig('image_at_epoch_{:04d}.png'.format(epoch))\n",
        "  plt.show()"
      ],
      "execution_count": 0,
      "outputs": []
    },
    {
      "cell_type": "markdown",
      "metadata": {
        "id": "Q4ZO21J6eOqu",
        "colab_type": "text"
      },
      "source": [
        "* Allons-y ! Commençons notre entrainement. Pour cela, vous aurez besoin de :\n",
        "\n",
        "  * Créer une première boucle qui va itérer sur le nombre d'épochs que vous avez définies\n",
        "  * Vous pouvez utiliser `time.time()` pour enregistrer le temps que prend chaque itération\n",
        "  * A l'intérieur de cette boucle créer une nouvelle boucle qui itérera sur chacun des batchs de votre *train_set*\n",
        "    * A l'intérieur de cette dernière boucle, appliquez votre fonction *train_step* sur votre batch d'images\n",
        "    * Ajoutez une ligne `display.clear_output(wait=True)` cela permet d'éviter d'avoir trop d'outputs dans notre console \n",
        "    * Appliquez la fonction *generate_and_save_images* avec comme argument votre _generator_, votre nombre d'epochs + 1, votre *test_input*\n",
        "  * Une fois que vous avez terminé votre boucle d'epochs, appliquez une dernière fois votre fonction *generate_and_save_images* pour afficher vos images créées par votre modèle. "
      ]
    },
    {
      "cell_type": "code",
      "metadata": {
        "id": "1B0FRKMVeM9_",
        "colab_type": "code",
        "outputId": "e490dd8e-15d3-496a-e9ce-29df7fdee66f",
        "colab": {
          "base_uri": "https://localhost:8080/",
          "height": 268
        }
      },
      "source": [
        "for epoch in range(EPOCHS):\n",
        "  start = time.time()\n",
        "\n",
        "  for image_batch in train_set:\n",
        "    train_step(image_batch)\n",
        "\n",
        "  # Enlève l'image précédente et enregistre la nouvelle\n",
        "  display.clear_output(wait=True)\n",
        "  generate_and_save_images(generator,\n",
        "                           epoch + 1,\n",
        "                           seed)\n",
        "\n",
        "  print ('Time for epoch {} is {} sec'.format(epoch + 1, time.time()-start))\n",
        "\n",
        "# Génère la toute dernière image\n",
        "display.clear_output(wait=True)\n",
        "generate_and_save_images(generator,\n",
        "                         EPOCHS,\n",
        "                         seed)"
      ],
      "execution_count": 0,
      "outputs": [
        {
          "output_type": "display_data",
          "data": {
            "image/png": "[encoded data removed]",
            "text/plain": [
              "<Figure size 288x288 with 16 Axes>"
            ]
          },
          "metadata": {
            "tags": []
          }
        }
      ]
    },
    {
      "cell_type": "markdown",
      "metadata": {
        "id": "IPVxhGTu5qNZ",
        "colab_type": "text"
      },
      "source": [
        "Bravo ! Vous avez réussit à créer des images en utilisant un principe simple de GAN. C'est une belle avancée en Deep Learning. Vous pouvez tenter d'appliquer ca sur d'autres types d'images maintenant. "
      ]
    },
    {
      "cell_type": "code",
      "metadata": {
        "id": "zREkiDree5Eb",
        "colab_type": "code",
        "colab": {}
      },
      "source": [
        ""
      ],
      "execution_count": 0,
      "outputs": []
    }
  ]
}