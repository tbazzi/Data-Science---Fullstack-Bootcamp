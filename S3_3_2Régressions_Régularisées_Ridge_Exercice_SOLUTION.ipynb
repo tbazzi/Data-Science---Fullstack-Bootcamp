{
  "nbformat": 4,
  "nbformat_minor": 0,
  "metadata": {
    "colab": {
      "name": "S3-3_2Régressions Régularisées - Ridge Exercice SOLUTION.ipynb",
      "provenance": [],
      "collapsed_sections": [],
      "include_colab_link": true
    },
    "kernelspec": {
      "name": "python3",
      "display_name": "Python 3"
    }
  },
  "cells": [
    {
      "cell_type": "markdown",
      "metadata": {
        "id": "view-in-github",
        "colab_type": "text"
      },
      "source": [
        "<a href=\"https://colab.research.google.com/github/tbazzi/Data-Science---Fullstack-Bootcamp/blob/master/S3_3_2R%C3%A9gressions_R%C3%A9gularis%C3%A9es_Ridge_Exercice_SOLUTION.ipynb\" target=\"_parent\"><img src=\"https://colab.research.google.com/assets/colab-badge.svg\" alt=\"Open In Colab\"/></a>"
      ]
    },
    {
      "cell_type": "markdown",
      "metadata": {
        "id": "-TrUvmyK-GpM",
        "colab_type": "text"
      },
      "source": [
        "# Régression Régularisées : RIDGE\n"
      ]
    },
    {
      "cell_type": "markdown",
      "metadata": {
        "id": "GhO_GXwS-XDS",
        "colab_type": "text"
      },
      "source": [
        "0. Importez les libairies usuelles "
      ]
    },
    {
      "cell_type": "code",
      "metadata": {
        "id": "nmzm6Lsf-ZvO",
        "colab_type": "code",
        "colab": {}
      },
      "source": [
        "import pandas as pd \n",
        "import numpy as np \n",
        "import matplotlib.pyplot as plt \n",
        "import seaborn as sns"
      ],
      "execution_count": 0,
      "outputs": []
    },
    {
      "cell_type": "markdown",
      "metadata": {
        "id": "t-4QtpM5-LW4",
        "colab_type": "text"
      },
      "source": [
        "  1. Chargez en mémoire le dataset des prix des logements à boston grâce à la commande :\n",
        "  \n",
        " \n",
        "```\n",
        "from sklearn.datasets import load_boston\n",
        "boston=load_boston()\n",
        "boston_df=pd.DataFrame(boston.data,columns=boston.feature_names)\n",
        "```"
      ]
    },
    {
      "cell_type": "code",
      "metadata": {
        "id": "iBuo8tZ0-BsL",
        "colab_type": "code",
        "outputId": "5b7bcf43-cb06-4b49-905e-814bb610fc49",
        "colab": {
          "base_uri": "https://localhost:8080/",
          "height": 202
        }
      },
      "source": [
        "from sklearn.datasets import load_boston\n",
        "boston=load_boston()\n",
        "boston_df=pd.DataFrame(boston.data,columns=boston.feature_names)\n",
        "boston_df.head()"
      ],
      "execution_count": 0,
      "outputs": [
        {
          "output_type": "execute_result",
          "data": {
            "text/html": [
              "<div>\n",
              "<style scoped>\n",
              "    .dataframe tbody tr th:only-of-type {\n",
              "        vertical-align: middle;\n",
              "    }\n",
              "\n",
              "    .dataframe tbody tr th {\n",
              "        vertical-align: top;\n",
              "    }\n",
              "\n",
              "    .dataframe thead th {\n",
              "        text-align: right;\n",
              "    }\n",
              "</style>\n",
              "<table border=\"1\" class=\"dataframe\">\n",
              "  <thead>\n",
              "    <tr style=\"text-align: right;\">\n",
              "      <th></th>\n",
              "      <th>CRIM</th>\n",
              "      <th>ZN</th>\n",
              "      <th>INDUS</th>\n",
              "      <th>CHAS</th>\n",
              "      <th>NOX</th>\n",
              "      <th>RM</th>\n",
              "      <th>AGE</th>\n",
              "      <th>DIS</th>\n",
              "      <th>RAD</th>\n",
              "      <th>TAX</th>\n",
              "      <th>PTRATIO</th>\n",
              "      <th>B</th>\n",
              "      <th>LSTAT</th>\n",
              "    </tr>\n",
              "  </thead>\n",
              "  <tbody>\n",
              "    <tr>\n",
              "      <th>0</th>\n",
              "      <td>0.00632</td>\n",
              "      <td>18.0</td>\n",
              "      <td>2.31</td>\n",
              "      <td>0.0</td>\n",
              "      <td>0.538</td>\n",
              "      <td>6.575</td>\n",
              "      <td>65.2</td>\n",
              "      <td>4.0900</td>\n",
              "      <td>1.0</td>\n",
              "      <td>296.0</td>\n",
              "      <td>15.3</td>\n",
              "      <td>396.90</td>\n",
              "      <td>4.98</td>\n",
              "    </tr>\n",
              "    <tr>\n",
              "      <th>1</th>\n",
              "      <td>0.02731</td>\n",
              "      <td>0.0</td>\n",
              "      <td>7.07</td>\n",
              "      <td>0.0</td>\n",
              "      <td>0.469</td>\n",
              "      <td>6.421</td>\n",
              "      <td>78.9</td>\n",
              "      <td>4.9671</td>\n",
              "      <td>2.0</td>\n",
              "      <td>242.0</td>\n",
              "      <td>17.8</td>\n",
              "      <td>396.90</td>\n",
              "      <td>9.14</td>\n",
              "    </tr>\n",
              "    <tr>\n",
              "      <th>2</th>\n",
              "      <td>0.02729</td>\n",
              "      <td>0.0</td>\n",
              "      <td>7.07</td>\n",
              "      <td>0.0</td>\n",
              "      <td>0.469</td>\n",
              "      <td>7.185</td>\n",
              "      <td>61.1</td>\n",
              "      <td>4.9671</td>\n",
              "      <td>2.0</td>\n",
              "      <td>242.0</td>\n",
              "      <td>17.8</td>\n",
              "      <td>392.83</td>\n",
              "      <td>4.03</td>\n",
              "    </tr>\n",
              "    <tr>\n",
              "      <th>3</th>\n",
              "      <td>0.03237</td>\n",
              "      <td>0.0</td>\n",
              "      <td>2.18</td>\n",
              "      <td>0.0</td>\n",
              "      <td>0.458</td>\n",
              "      <td>6.998</td>\n",
              "      <td>45.8</td>\n",
              "      <td>6.0622</td>\n",
              "      <td>3.0</td>\n",
              "      <td>222.0</td>\n",
              "      <td>18.7</td>\n",
              "      <td>394.63</td>\n",
              "      <td>2.94</td>\n",
              "    </tr>\n",
              "    <tr>\n",
              "      <th>4</th>\n",
              "      <td>0.06905</td>\n",
              "      <td>0.0</td>\n",
              "      <td>2.18</td>\n",
              "      <td>0.0</td>\n",
              "      <td>0.458</td>\n",
              "      <td>7.147</td>\n",
              "      <td>54.2</td>\n",
              "      <td>6.0622</td>\n",
              "      <td>3.0</td>\n",
              "      <td>222.0</td>\n",
              "      <td>18.7</td>\n",
              "      <td>396.90</td>\n",
              "      <td>5.33</td>\n",
              "    </tr>\n",
              "  </tbody>\n",
              "</table>\n",
              "</div>"
            ],
            "text/plain": [
              "      CRIM    ZN  INDUS  CHAS    NOX  ...  RAD    TAX  PTRATIO       B  LSTAT\n",
              "0  0.00632  18.0   2.31   0.0  0.538  ...  1.0  296.0     15.3  396.90   4.98\n",
              "1  0.02731   0.0   7.07   0.0  0.469  ...  2.0  242.0     17.8  396.90   9.14\n",
              "2  0.02729   0.0   7.07   0.0  0.469  ...  2.0  242.0     17.8  392.83   4.03\n",
              "3  0.03237   0.0   2.18   0.0  0.458  ...  3.0  222.0     18.7  394.63   2.94\n",
              "4  0.06905   0.0   2.18   0.0  0.458  ...  3.0  222.0     18.7  396.90   5.33\n",
              "\n",
              "[5 rows x 13 columns]"
            ]
          },
          "metadata": {
            "tags": []
          },
          "execution_count": 2
        }
      ]
    },
    {
      "cell_type": "code",
      "metadata": {
        "id": "TpGM2HVoryVP",
        "colab_type": "code",
        "outputId": "44114833-8905-44f4-c521-3c3b3b1e9e43",
        "colab": {
          "base_uri": "https://localhost:8080/",
          "height": 921
        }
      },
      "source": [
        "print(boston.DESCR)"
      ],
      "execution_count": 0,
      "outputs": [
        {
          "output_type": "stream",
          "text": [
            ".. _boston_dataset:\n",
            "\n",
            "Boston house prices dataset\n",
            "---------------------------\n",
            "\n",
            "**Data Set Characteristics:**  \n",
            "\n",
            "    :Number of Instances: 506 \n",
            "\n",
            "    :Number of Attributes: 13 numeric/categorical predictive. Median Value (attribute 14) is usually the target.\n",
            "\n",
            "    :Attribute Information (in order):\n",
            "        - CRIM     per capita crime rate by town\n",
            "        - ZN       proportion of residential land zoned for lots over 25,000 sq.ft.\n",
            "        - INDUS    proportion of non-retail business acres per town\n",
            "        - CHAS     Charles River dummy variable (= 1 if tract bounds river; 0 otherwise)\n",
            "        - NOX      nitric oxides concentration (parts per 10 million)\n",
            "        - RM       average number of rooms per dwelling\n",
            "        - AGE      proportion of owner-occupied units built prior to 1940\n",
            "        - DIS      weighted distances to five Boston employment centres\n",
            "        - RAD      index of accessibility to radial highways\n",
            "        - TAX      full-value property-tax rate per $10,000\n",
            "        - PTRATIO  pupil-teacher ratio by town\n",
            "        - B        1000(Bk - 0.63)^2 where Bk is the proportion of blacks by town\n",
            "        - LSTAT    % lower status of the population\n",
            "        - MEDV     Median value of owner-occupied homes in $1000's\n",
            "\n",
            "    :Missing Attribute Values: None\n",
            "\n",
            "    :Creator: Harrison, D. and Rubinfeld, D.L.\n",
            "\n",
            "This is a copy of UCI ML housing dataset.\n",
            "https://archive.ics.uci.edu/ml/machine-learning-databases/housing/\n",
            "\n",
            "\n",
            "This dataset was taken from the StatLib library which is maintained at Carnegie Mellon University.\n",
            "\n",
            "The Boston house-price data of Harrison, D. and Rubinfeld, D.L. 'Hedonic\n",
            "prices and the demand for clean air', J. Environ. Economics & Management,\n",
            "vol.5, 81-102, 1978.   Used in Belsley, Kuh & Welsch, 'Regression diagnostics\n",
            "...', Wiley, 1980.   N.B. Various transformations are used in the table on\n",
            "pages 244-261 of the latter.\n",
            "\n",
            "The Boston house-price data has been used in many machine learning papers that address regression\n",
            "problems.   \n",
            "     \n",
            ".. topic:: References\n",
            "\n",
            "   - Belsley, Kuh & Welsch, 'Regression diagnostics: Identifying Influential Data and Sources of Collinearity', Wiley, 1980. 244-261.\n",
            "   - Quinlan,R. (1993). Combining Instance-Based and Model-Based Learning. In Proceedings on the Tenth International Conference of Machine Learning, 236-243, University of Massachusetts, Amherst. Morgan Kaufmann.\n",
            "\n"
          ],
          "name": "stdout"
        }
      ]
    },
    {
      "cell_type": "code",
      "metadata": {
        "id": "nw_c1ROJr8rx",
        "colab_type": "code",
        "outputId": "a6657d23-2142-4342-93fa-86d313a0a345",
        "colab": {
          "base_uri": "https://localhost:8080/",
          "height": 191
        }
      },
      "source": [
        "boston_df[\"RAD\"].value_counts()"
      ],
      "execution_count": 0,
      "outputs": [
        {
          "output_type": "execute_result",
          "data": {
            "text/plain": [
              "24.0    132\n",
              "5.0     115\n",
              "4.0     110\n",
              "3.0      38\n",
              "6.0      26\n",
              "8.0      24\n",
              "2.0      24\n",
              "1.0      20\n",
              "7.0      17\n",
              "Name: RAD, dtype: int64"
            ]
          },
          "metadata": {
            "tags": []
          },
          "execution_count": 33
        }
      ]
    },
    {
      "cell_type": "markdown",
      "metadata": {
        "id": "whqaTzyw-lpr",
        "colab_type": "text"
      },
      "source": [
        "  2. Créez un dataframe contenant les variables explicatives et un autre contenant uniquement la variable cible qui est le prix des maisons"
      ]
    },
    {
      "cell_type": "code",
      "metadata": {
        "id": "zoFLJeNK-gxL",
        "colab_type": "code",
        "outputId": "1ec161a1-abb6-4893-9ea5-85d71f62b8d6",
        "colab": {
          "base_uri": "https://localhost:8080/",
          "height": 202
        }
      },
      "source": [
        "y = pd.DataFrame(boston.target, columns=[\"prices\"])\n",
        "y.head()"
      ],
      "execution_count": 0,
      "outputs": [
        {
          "output_type": "execute_result",
          "data": {
            "text/html": [
              "<div>\n",
              "<style scoped>\n",
              "    .dataframe tbody tr th:only-of-type {\n",
              "        vertical-align: middle;\n",
              "    }\n",
              "\n",
              "    .dataframe tbody tr th {\n",
              "        vertical-align: top;\n",
              "    }\n",
              "\n",
              "    .dataframe thead th {\n",
              "        text-align: right;\n",
              "    }\n",
              "</style>\n",
              "<table border=\"1\" class=\"dataframe\">\n",
              "  <thead>\n",
              "    <tr style=\"text-align: right;\">\n",
              "      <th></th>\n",
              "      <th>prices</th>\n",
              "    </tr>\n",
              "  </thead>\n",
              "  <tbody>\n",
              "    <tr>\n",
              "      <th>0</th>\n",
              "      <td>24.0</td>\n",
              "    </tr>\n",
              "    <tr>\n",
              "      <th>1</th>\n",
              "      <td>21.6</td>\n",
              "    </tr>\n",
              "    <tr>\n",
              "      <th>2</th>\n",
              "      <td>34.7</td>\n",
              "    </tr>\n",
              "    <tr>\n",
              "      <th>3</th>\n",
              "      <td>33.4</td>\n",
              "    </tr>\n",
              "    <tr>\n",
              "      <th>4</th>\n",
              "      <td>36.2</td>\n",
              "    </tr>\n",
              "  </tbody>\n",
              "</table>\n",
              "</div>"
            ],
            "text/plain": [
              "   prices\n",
              "0    24.0\n",
              "1    21.6\n",
              "2    34.7\n",
              "3    33.4\n",
              "4    36.2"
            ]
          },
          "metadata": {
            "tags": []
          },
          "execution_count": 4
        }
      ]
    },
    {
      "cell_type": "markdown",
      "metadata": {
        "id": "lC9PW2vu_h0v",
        "colab_type": "text"
      },
      "source": [
        "3. Utilisez la commande `train_test_split ` du package `sklearn.model_selection`  afin de créer un échantillon d’entraînement contenant 70% des observations et un échantillon test contenant 30% des observations."
      ]
    },
    {
      "cell_type": "code",
      "metadata": {
        "id": "9xdJd9sz_fOX",
        "colab_type": "code",
        "outputId": "b0db4fe4-3731-42cd-d636-00b0812b9096",
        "colab": {
          "base_uri": "https://localhost:8080/",
          "height": 314
        }
      },
      "source": [
        "from sklearn.model_selection import train_test_split\n",
        "X_train, X_test, y_train, y_test = train_test_split(boston_df, y, test_size = 0.3)\n",
        "from sklearn.preprocessing import StandardScaler\n",
        "sc = StandardScaler()\n",
        "sc_fit = sc.fit(X_train)\n",
        "X_train = pd.DataFrame(sc_fit.transform(X_train))\n",
        "X_test = pd.DataFrame(sc_fit.transform(X_test))\n",
        "\n",
        "X_test.describe()"
      ],
      "execution_count": 0,
      "outputs": [
        {
          "output_type": "execute_result",
          "data": {
            "text/html": [
              "<div>\n",
              "<style scoped>\n",
              "    .dataframe tbody tr th:only-of-type {\n",
              "        vertical-align: middle;\n",
              "    }\n",
              "\n",
              "    .dataframe tbody tr th {\n",
              "        vertical-align: top;\n",
              "    }\n",
              "\n",
              "    .dataframe thead th {\n",
              "        text-align: right;\n",
              "    }\n",
              "</style>\n",
              "<table border=\"1\" class=\"dataframe\">\n",
              "  <thead>\n",
              "    <tr style=\"text-align: right;\">\n",
              "      <th></th>\n",
              "      <th>0</th>\n",
              "      <th>1</th>\n",
              "      <th>2</th>\n",
              "      <th>3</th>\n",
              "      <th>4</th>\n",
              "      <th>5</th>\n",
              "      <th>6</th>\n",
              "      <th>7</th>\n",
              "      <th>8</th>\n",
              "      <th>9</th>\n",
              "      <th>10</th>\n",
              "      <th>11</th>\n",
              "      <th>12</th>\n",
              "    </tr>\n",
              "  </thead>\n",
              "  <tbody>\n",
              "    <tr>\n",
              "      <th>count</th>\n",
              "      <td>152.000000</td>\n",
              "      <td>152.000000</td>\n",
              "      <td>152.000000</td>\n",
              "      <td>152.000000</td>\n",
              "      <td>152.000000</td>\n",
              "      <td>152.000000</td>\n",
              "      <td>152.000000</td>\n",
              "      <td>152.000000</td>\n",
              "      <td>152.000000</td>\n",
              "      <td>152.000000</td>\n",
              "      <td>152.000000</td>\n",
              "      <td>152.000000</td>\n",
              "      <td>152.000000</td>\n",
              "    </tr>\n",
              "    <tr>\n",
              "      <th>mean</th>\n",
              "      <td>0.016513</td>\n",
              "      <td>0.188616</td>\n",
              "      <td>-0.067192</td>\n",
              "      <td>0.018186</td>\n",
              "      <td>0.038145</td>\n",
              "      <td>0.026525</td>\n",
              "      <td>-0.016625</td>\n",
              "      <td>0.051545</td>\n",
              "      <td>0.025560</td>\n",
              "      <td>-0.043819</td>\n",
              "      <td>-0.042679</td>\n",
              "      <td>0.028619</td>\n",
              "      <td>-0.009867</td>\n",
              "    </tr>\n",
              "    <tr>\n",
              "      <th>std</th>\n",
              "      <td>0.960514</td>\n",
              "      <td>1.117568</td>\n",
              "      <td>0.973651</td>\n",
              "      <td>1.034038</td>\n",
              "      <td>1.075383</td>\n",
              "      <td>0.964732</td>\n",
              "      <td>1.018639</td>\n",
              "      <td>1.067966</td>\n",
              "      <td>1.024674</td>\n",
              "      <td>1.000577</td>\n",
              "      <td>1.028121</td>\n",
              "      <td>1.001924</td>\n",
              "      <td>0.989780</td>\n",
              "    </tr>\n",
              "    <tr>\n",
              "      <th>min</th>\n",
              "      <td>-0.409537</td>\n",
              "      <td>-0.450148</td>\n",
              "      <td>-1.524568</td>\n",
              "      <td>-0.269680</td>\n",
              "      <td>-1.487055</td>\n",
              "      <td>-3.015642</td>\n",
              "      <td>-2.351277</td>\n",
              "      <td>-1.277004</td>\n",
              "      <td>-0.981566</td>\n",
              "      <td>-1.320410</td>\n",
              "      <td>-2.741003</td>\n",
              "      <td>-3.897317</td>\n",
              "      <td>-1.493033</td>\n",
              "    </tr>\n",
              "    <tr>\n",
              "      <th>25%</th>\n",
              "      <td>-0.400797</td>\n",
              "      <td>-0.450148</td>\n",
              "      <td>-0.916117</td>\n",
              "      <td>-0.269680</td>\n",
              "      <td>-0.930725</td>\n",
              "      <td>-0.501407</td>\n",
              "      <td>-0.845438</td>\n",
              "      <td>-0.820720</td>\n",
              "      <td>-0.634439</td>\n",
              "      <td>-0.793623</td>\n",
              "      <td>-0.516258</td>\n",
              "      <td>0.221685</td>\n",
              "      <td>-0.802311</td>\n",
              "    </tr>\n",
              "    <tr>\n",
              "      <th>50%</th>\n",
              "      <td>-0.378073</td>\n",
              "      <td>-0.450148</td>\n",
              "      <td>-0.229529</td>\n",
              "      <td>-0.269680</td>\n",
              "      <td>-0.135969</td>\n",
              "      <td>-0.086593</td>\n",
              "      <td>0.340656</td>\n",
              "      <td>-0.216613</td>\n",
              "      <td>-0.518730</td>\n",
              "      <td>-0.602199</td>\n",
              "      <td>0.077784</td>\n",
              "      <td>0.402757</td>\n",
              "      <td>-0.200940</td>\n",
              "    </tr>\n",
              "    <tr>\n",
              "      <th>75%</th>\n",
              "      <td>0.030991</td>\n",
              "      <td>0.452983</td>\n",
              "      <td>0.987374</td>\n",
              "      <td>-0.269680</td>\n",
              "      <td>0.952405</td>\n",
              "      <td>0.550769</td>\n",
              "      <td>0.906909</td>\n",
              "      <td>0.800307</td>\n",
              "      <td>1.679744</td>\n",
              "      <td>1.516823</td>\n",
              "      <td>0.799953</td>\n",
              "      <td>0.449505</td>\n",
              "      <td>0.548767</td>\n",
              "    </tr>\n",
              "    <tr>\n",
              "      <th>max</th>\n",
              "      <td>8.039405</td>\n",
              "      <td>3.563769</td>\n",
              "      <td>2.079838</td>\n",
              "      <td>3.708099</td>\n",
              "      <td>2.804629</td>\n",
              "      <td>3.415730</td>\n",
              "      <td>1.117690</td>\n",
              "      <td>3.308312</td>\n",
              "      <td>1.679744</td>\n",
              "      <td>1.516823</td>\n",
              "      <td>1.638600</td>\n",
              "      <td>0.449505</td>\n",
              "      <td>3.531539</td>\n",
              "    </tr>\n",
              "  </tbody>\n",
              "</table>\n",
              "</div>"
            ],
            "text/plain": [
              "               0           1           2   ...          10          11          12\n",
              "count  152.000000  152.000000  152.000000  ...  152.000000  152.000000  152.000000\n",
              "mean     0.016513    0.188616   -0.067192  ...   -0.042679    0.028619   -0.009867\n",
              "std      0.960514    1.117568    0.973651  ...    1.028121    1.001924    0.989780\n",
              "min     -0.409537   -0.450148   -1.524568  ...   -2.741003   -3.897317   -1.493033\n",
              "25%     -0.400797   -0.450148   -0.916117  ...   -0.516258    0.221685   -0.802311\n",
              "50%     -0.378073   -0.450148   -0.229529  ...    0.077784    0.402757   -0.200940\n",
              "75%      0.030991    0.452983    0.987374  ...    0.799953    0.449505    0.548767\n",
              "max      8.039405    3.563769    2.079838  ...    1.638600    0.449505    3.531539\n",
              "\n",
              "[8 rows x 13 columns]"
            ]
          },
          "metadata": {
            "tags": []
          },
          "execution_count": 5
        }
      ]
    },
    {
      "cell_type": "markdown",
      "metadata": {
        "id": "vPGXur4x_qve",
        "colab_type": "text"
      },
      "source": [
        "4. Générer un modèle de régression linéaire classique, un modèle ridge où alpha vaut 0.01 et un modèle ridge où alpha vaut 100."
      ]
    },
    {
      "cell_type": "code",
      "metadata": {
        "id": "CPCIHapL_mze",
        "colab_type": "code",
        "colab": {}
      },
      "source": [
        "from sklearn.linear_model import LinearRegression\n",
        "from sklearn.linear_model import Ridge\n",
        "linear_regressor = LinearRegression()\n",
        "ridge_regressor_small_alpha = Ridge(alpha = 0.01)\n",
        "ridge_regressor_large_alpha = Ridge(alpha = 100)"
      ],
      "execution_count": 0,
      "outputs": []
    },
    {
      "cell_type": "markdown",
      "metadata": {
        "id": "AEYP5etM_05G",
        "colab_type": "text"
      },
      "source": [
        "5. Entraînez ces modèles sur les données sur les données d’apprentissage"
      ]
    },
    {
      "cell_type": "code",
      "metadata": {
        "id": "0IQdvW5b_wUb",
        "colab_type": "code",
        "outputId": "547d3ee3-5a69-4a62-f4cd-1dfb57877e61",
        "colab": {
          "base_uri": "https://localhost:8080/",
          "height": 51
        }
      },
      "source": [
        "linear_regressor.fit(X_train, y_train)\n",
        "ridge_regressor_small_alpha.fit(X_train, y_train)\n",
        "ridge_regressor_large_alpha.fit(X_train, y_train)"
      ],
      "execution_count": 0,
      "outputs": [
        {
          "output_type": "execute_result",
          "data": {
            "text/plain": [
              "Ridge(alpha=100, copy_X=True, fit_intercept=True, max_iter=None,\n",
              "      normalize=False, random_state=None, solver='auto', tol=0.001)"
            ]
          },
          "metadata": {
            "tags": []
          },
          "execution_count": 7
        }
      ]
    },
    {
      "cell_type": "markdown",
      "metadata": {
        "id": "rxX35B6j_4iE",
        "colab_type": "text"
      },
      "source": [
        "6. Produisez les scores de performance de c’est trois modèles sur l’échantillon d’apprentissage et de validation grâce à l’attribut .score"
      ]
    },
    {
      "cell_type": "code",
      "metadata": {
        "id": "SlbgdO2y_2LA",
        "colab_type": "code",
        "outputId": "98c32d02-0cb8-45c2-f450-6c8f1b4dd794",
        "colab": {
          "base_uri": "https://localhost:8080/",
          "height": 69
        }
      },
      "source": [
        "print(\"Linear Regression score : {}\".format(linear_regressor.score(X_test, y_test)))\n",
        "print(\"Ridge with small Alpha score : {}\".format(ridge_regressor_small_alpha.score(X_test, y_test)))\n",
        "print(\"Ridge with large Alpha score : {}\".format(ridge_regressor_large_alpha.score(X_test,y_test)))"
      ],
      "execution_count": 0,
      "outputs": [
        {
          "output_type": "stream",
          "text": [
            "Linear Regression score : 0.6824395245128735\n",
            "Ridge with small Alpha score : 0.6824416565240421\n",
            "Ridge with large Alpha score : 0.6674538584979144\n"
          ],
          "name": "stdout"
        }
      ]
    },
    {
      "cell_type": "markdown",
      "metadata": {
        "id": "y-FCEvIUASw9",
        "colab_type": "text"
      },
      "source": [
        "7. Comparez les coefficients des trois modèle à l’aide d’un graphique, que remarquez vous ?"
      ]
    },
    {
      "cell_type": "code",
      "metadata": {
        "id": "MapKiy8yIWO7",
        "colab_type": "code",
        "outputId": "595054e4-ceb0-4d16-d0b5-bcaaf43ef9aa",
        "colab": {
          "base_uri": "https://localhost:8080/",
          "height": 69
        }
      },
      "source": [
        "linear_regressor.coef_[0]"
      ],
      "execution_count": 0,
      "outputs": [
        {
          "output_type": "execute_result",
          "data": {
            "text/plain": [
              "array([-0.96263421,  1.15284935,  0.30664493,  0.59018962, -2.06780644,\n",
              "        2.86934524,  0.0648878 , -3.07975352,  2.42694157, -2.13143251,\n",
              "       -2.1369742 ,  0.85142805, -3.7441575 ])"
            ]
          },
          "metadata": {
            "tags": []
          },
          "execution_count": 10
        }
      ]
    },
    {
      "cell_type": "code",
      "metadata": {
        "id": "s9Cw09XrAKOG",
        "colab_type": "code",
        "outputId": "d784ec64-41a0-4672-eb20-41fd35a199c5",
        "colab": {
          "base_uri": "https://localhost:8080/",
          "height": 222
        }
      },
      "source": [
        "coef = pd.DataFrame() # on créé un dataframe pour analyser les coefficients\n",
        "coef['features'] = boston_df.columns\n",
        "coef['coef_linear_regressor'] = linear_regressor.coef_[0]\n",
        "coef['coef_abs_linear_regressor'] = np.abs(linear_regressor.coef_[0])\n",
        "coef['coef_ridge_small_alpha'] = ridge_regressor_small_alpha.coef_[0]\n",
        "coef['coef_abs_ridge_small_alpha'] = np.abs(ridge_regressor_small_alpha.coef_[0])\n",
        "coef['coef_ridge_large_alpha'] = ridge_regressor_large_alpha.coef_[0]\n",
        "coef['coef_abs_ridge_large_alpha'] = np.abs(ridge_regressor_large_alpha.coef_[0])\n",
        "coef.head()"
      ],
      "execution_count": 0,
      "outputs": [
        {
          "output_type": "execute_result",
          "data": {
            "text/html": [
              "<div>\n",
              "<style scoped>\n",
              "    .dataframe tbody tr th:only-of-type {\n",
              "        vertical-align: middle;\n",
              "    }\n",
              "\n",
              "    .dataframe tbody tr th {\n",
              "        vertical-align: top;\n",
              "    }\n",
              "\n",
              "    .dataframe thead th {\n",
              "        text-align: right;\n",
              "    }\n",
              "</style>\n",
              "<table border=\"1\" class=\"dataframe\">\n",
              "  <thead>\n",
              "    <tr style=\"text-align: right;\">\n",
              "      <th></th>\n",
              "      <th>features</th>\n",
              "      <th>coef_linear_regressor</th>\n",
              "      <th>coef_abs_linear_regressor</th>\n",
              "      <th>coef_ridge_small_alpha</th>\n",
              "      <th>coef_abs_ridge_small_alpha</th>\n",
              "      <th>coef_ridge_large_alpha</th>\n",
              "      <th>coef_abs_ridge_large_alpha</th>\n",
              "    </tr>\n",
              "  </thead>\n",
              "  <tbody>\n",
              "    <tr>\n",
              "      <th>0</th>\n",
              "      <td>CRIM</td>\n",
              "      <td>-0.962634</td>\n",
              "      <td>0.962634</td>\n",
              "      <td>-0.962516</td>\n",
              "      <td>0.962516</td>\n",
              "      <td>-0.655683</td>\n",
              "      <td>0.655683</td>\n",
              "    </tr>\n",
              "    <tr>\n",
              "      <th>1</th>\n",
              "      <td>ZN</td>\n",
              "      <td>1.152849</td>\n",
              "      <td>1.152849</td>\n",
              "      <td>1.152625</td>\n",
              "      <td>1.152625</td>\n",
              "      <td>0.595627</td>\n",
              "      <td>0.595627</td>\n",
              "    </tr>\n",
              "    <tr>\n",
              "      <th>2</th>\n",
              "      <td>INDUS</td>\n",
              "      <td>0.306645</td>\n",
              "      <td>0.306645</td>\n",
              "      <td>0.306272</td>\n",
              "      <td>0.306272</td>\n",
              "      <td>-0.376809</td>\n",
              "      <td>0.376809</td>\n",
              "    </tr>\n",
              "    <tr>\n",
              "      <th>3</th>\n",
              "      <td>CHAS</td>\n",
              "      <td>0.590190</td>\n",
              "      <td>0.590190</td>\n",
              "      <td>0.590257</td>\n",
              "      <td>0.590257</td>\n",
              "      <td>0.718568</td>\n",
              "      <td>0.718568</td>\n",
              "    </tr>\n",
              "    <tr>\n",
              "      <th>4</th>\n",
              "      <td>NOX</td>\n",
              "      <td>-2.067806</td>\n",
              "      <td>2.067806</td>\n",
              "      <td>-2.067396</td>\n",
              "      <td>2.067396</td>\n",
              "      <td>-0.810717</td>\n",
              "      <td>0.810717</td>\n",
              "    </tr>\n",
              "  </tbody>\n",
              "</table>\n",
              "</div>"
            ],
            "text/plain": [
              "  features  ...  coef_abs_ridge_large_alpha\n",
              "0     CRIM  ...                    0.655683\n",
              "1       ZN  ...                    0.595627\n",
              "2    INDUS  ...                    0.376809\n",
              "3     CHAS  ...                    0.718568\n",
              "4      NOX  ...                    0.810717\n",
              "\n",
              "[5 rows x 7 columns]"
            ]
          },
          "metadata": {
            "tags": []
          },
          "execution_count": 11
        }
      ]
    },
    {
      "cell_type": "code",
      "metadata": {
        "id": "cJvQCAnfAWdm",
        "colab_type": "code",
        "outputId": "e735527c-447e-4c94-8478-3771243cff1c",
        "colab": {
          "base_uri": "https://localhost:8080/",
          "height": 300
        }
      },
      "source": [
        "perf_ridge_large_alpha = pd.DataFrame({\"params\": ridge_regressor_large_alpha.coef_[0], \n",
        "                                       \"model\": \"ridge Alpha = 100\", \n",
        "                                       \"index\": range(0, len(boston_df.columns))})\n",
        "\n",
        "perf_lin = pd.DataFrame({\"params\": linear_regressor.coef_[0], \n",
        "                                       \"model\": \"linear\", \n",
        "                                       \"index\": range(0, len(boston_df.columns))})\n",
        "\n",
        "perf_compar = pd.concat([perf_ridge_large_alpha,perf_lin])\n",
        "\n",
        "import seaborn as s\n",
        "s.pointplot(x = 'index',y = 'params',hue = 'model', data = perf_compar)"
      ],
      "execution_count": 0,
      "outputs": [
        {
          "output_type": "execute_result",
          "data": {
            "text/plain": [
              "<matplotlib.axes._subplots.AxesSubplot at 0x7f5c1f1126d8>"
            ]
          },
          "metadata": {
            "tags": []
          },
          "execution_count": 13
        },
        {
          "output_type": "display_data",
          "data": {
            "image/png": "[encoded data removed]",
            "text/plain": [
              "<Figure size 432x288 with 1 Axes>"
            ]
          },
          "metadata": {
            "tags": []
          }
        }
      ]
    },
    {
      "cell_type": "markdown",
      "metadata": {
        "id": "1ty5SIgDAzbw",
        "colab_type": "text"
      },
      "source": [
        "---> On remarque qu'on a pu pénaliser le coefficient lié à la Feature NOX pour en limiter son impact"
      ]
    },
    {
      "cell_type": "markdown",
      "metadata": {
        "id": "orQ4-NbwF4QW",
        "colab_type": "text"
      },
      "source": [
        "8. Déterminez la valeur optimale de alpha (à 1 prêt) à l'aide de la fonction GridSearchCV"
      ]
    },
    {
      "cell_type": "code",
      "metadata": {
        "id": "5kjsUd-2AqMw",
        "colab_type": "code",
        "outputId": "cd5fcaf9-1b78-4e63-d3ef-305aed1355d6",
        "colab": {
          "base_uri": "https://localhost:8080/",
          "height": 71
        }
      },
      "source": [
        "from sklearn.model_selection import GridSearchCV\n",
        "\n",
        "params = {'alpha':np.arange(0,100,1)}\n",
        "ridge = Ridge()\n",
        "\n",
        "grid = GridSearchCV(ridge, param_grid=params, cv=10)\n",
        "grid_fit = grid.fit(X_train, y_train)"
      ],
      "execution_count": 0,
      "outputs": [
        {
          "output_type": "stream",
          "text": [
            "/usr/local/lib/python3.6/dist-packages/sklearn/model_selection/_search.py:814: DeprecationWarning: The default of the `iid` parameter will change from True to False in version 0.22 and will be removed in 0.24. This will change numeric results when test-set sizes are unequal.\n",
            "  DeprecationWarning)\n"
          ],
          "name": "stderr"
        }
      ]
    },
    {
      "cell_type": "code",
      "metadata": {
        "id": "-Nb5OEGeEy4Y",
        "colab_type": "code",
        "outputId": "07a8f52b-b758-44b5-c9af-0c0317ebcdfc",
        "colab": {
          "base_uri": "https://localhost:8080/",
          "height": 34
        }
      },
      "source": [
        "grid_fit.best_params_\n",
        "\n",
        "# donc il me dit que alpha = 2 est le meilleur parametre pour optimisier mon modele "
      ],
      "execution_count": 0,
      "outputs": [
        {
          "output_type": "execute_result",
          "data": {
            "text/plain": [
              "{'alpha': 15}"
            ]
          },
          "metadata": {
            "tags": []
          },
          "execution_count": 18
        }
      ]
    },
    {
      "cell_type": "code",
      "metadata": {
        "id": "l1bcTNJRF08C",
        "colab_type": "code",
        "outputId": "768668e8-9081-470a-8eb5-1a7ccd73f158",
        "colab": {
          "base_uri": "https://localhost:8080/",
          "height": 34
        }
      },
      "source": [
        "grid_fit.best_estimator_.score(X_test,y_test)\n",
        "\n",
        "# il me recalcule le score du modele avec le alpha = 2"
      ],
      "execution_count": 0,
      "outputs": [
        {
          "output_type": "execute_result",
          "data": {
            "text/plain": [
              "0.6825433527413425"
            ]
          },
          "metadata": {
            "tags": []
          },
          "execution_count": 17
        }
      ]
    },
    {
      "cell_type": "code",
      "metadata": {
        "id": "NiK9FZfdHoUa",
        "colab_type": "code",
        "outputId": "2773f39e-02d3-49ce-ca4d-dda48c669acd",
        "colab": {
          "base_uri": "https://localhost:8080/",
          "height": 35
        }
      },
      "source": [
        "Ridge(alpha=0).fit(X_train,y_train).score(X_test,y_test)\n",
        "\n",
        "# il recalcule le score pour le modele lineaire (alpha = 0) pour le comparer avec le modele (alpha =2)"
      ],
      "execution_count": 0,
      "outputs": [
        {
          "output_type": "execute_result",
          "data": {
            "text/plain": [
              "0.7149625810590897"
            ]
          },
          "metadata": {
            "tags": []
          },
          "execution_count": 55
        }
      ]
    },
    {
      "cell_type": "markdown",
      "metadata": {
        "id": "1WHU-7SHg-1V",
        "colab_type": "text"
      },
      "source": [
        "le modele avec (alpha = 2) est mieux que l'autre de (alpha = 0)"
      ]
    },
    {
      "cell_type": "code",
      "metadata": {
        "id": "-yAiAhW2H3SU",
        "colab_type": "code",
        "outputId": "b3ffefad-e1e9-45ec-adbe-fb4eba3d5ee5",
        "colab": {
          "base_uri": "https://localhost:8080/",
          "height": 166
        }
      },
      "source": [
        ""
      ],
      "execution_count": 0,
      "outputs": [
        {
          "output_type": "error",
          "ename": "AttributeError",
          "evalue": "ignored",
          "traceback": [
            "\u001b[0;31m---------------------------------------------------------------------------\u001b[0m",
            "\u001b[0;31mAttributeError\u001b[0m                            Traceback (most recent call last)",
            "\u001b[0;32m<ipython-input-21-e29ac8011db5>\u001b[0m in \u001b[0;36m<module>\u001b[0;34m()\u001b[0m\n\u001b[0;32m----> 1\u001b[0;31m \u001b[0mgrid\u001b[0m\u001b[0;34m.\u001b[0m\u001b[0mkeys\u001b[0m\u001b[0;34m(\u001b[0m\u001b[0;34m)\u001b[0m\u001b[0;34m\u001b[0m\u001b[0;34m\u001b[0m\u001b[0m\n\u001b[0m",
            "\u001b[0;31mAttributeError\u001b[0m: 'GridSearchCV' object has no attribute 'keys'"
          ]
        }
      ]
    },
    {
      "cell_type": "code",
      "metadata": {
        "id": "Qd7uy7xCVvBC",
        "colab_type": "code",
        "colab": {}
      },
      "source": [
        ""
      ],
      "execution_count": 0,
      "outputs": []
    }
  ]
}