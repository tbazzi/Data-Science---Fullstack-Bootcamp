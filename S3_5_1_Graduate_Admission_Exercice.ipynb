{
  "nbformat": 4,
  "nbformat_minor": 0,
  "metadata": {
    "colab": {
      "name": "S3-5_1. Graduate Admission - Exercice.ipynb",
      "provenance": [],
      "collapsed_sections": [],
      "include_colab_link": true
    },
    "kernelspec": {
      "name": "python3",
      "display_name": "Python 3"
    }
  },
  "cells": [
    {
      "cell_type": "markdown",
      "metadata": {
        "id": "view-in-github",
        "colab_type": "text"
      },
      "source": [
        "<a href=\"https://colab.research.google.com/github/tbazzi/Data-Science---Fullstack-Bootcamp/blob/master/S3_5_1_Graduate_Admission_Exercice.ipynb\" target=\"_parent\"><img src=\"https://colab.research.google.com/assets/colab-badge.svg\" alt=\"Open In Colab\"/></a>"
      ]
    },
    {
      "cell_type": "markdown",
      "metadata": {
        "id": "jD61VJYLB6BN",
        "colab_type": "text"
      },
      "source": [
        "# Graduate Admission \n",
        "\n",
        "Nous allons étudier les facteurs qui déterminent l'admission d'un élève à un master en université américaine. \n",
        "\n",
        "Parmi ces facteurs, on compte : \n",
        "\n",
        "1. GRE Scores ( out of 340 ) \n",
        "2. TOEFL Scores ( out of 120 ) \n",
        "3. University Rating ( out of 5 ) \n",
        "4. Statement of Purpose and Letter of Recommendation Strength ( out of 5 ) \n",
        "5. Undergraduate GPA ( out of 10 ) \n",
        "6. Research Experience ( either 0 or 1 ) \n",
        "7. Chance of Admit ( ranging from 0 to 1 )"
      ]
    },
    {
      "cell_type": "markdown",
      "metadata": {
        "id": "4S-VAcpeCkHf",
        "colab_type": "text"
      },
      "source": [
        "0. Importez les librairies usuelles"
      ]
    },
    {
      "cell_type": "code",
      "metadata": {
        "id": "vJkuq_zVB5yU",
        "colab_type": "code",
        "colab": {}
      },
      "source": [
        "import seaborn as sns\n",
        "import pandas as pd\n",
        "import numpy as np\n",
        "import matplotlib.pyplot as plt"
      ],
      "execution_count": 0,
      "outputs": []
    },
    {
      "cell_type": "markdown",
      "metadata": {
        "id": "SwsWRh4tCr57",
        "colab_type": "text"
      },
      "source": [
        "1. Importez le dataset et affichez le sous forme de DataFrame "
      ]
    },
    {
      "cell_type": "code",
      "metadata": {
        "id": "OfydmfqZwN-_",
        "colab_type": "code",
        "colab": {
          "base_uri": "https://localhost:8080/",
          "height": 128
        },
        "outputId": "fe8b5954-6f87-4aaf-aa32-aa51be303969"
      },
      "source": [
        "from google.colab import drive\n",
        "drive.mount('/content/drive')"
      ],
      "execution_count": 2,
      "outputs": [
        {
          "output_type": "stream",
          "text": [
            "Go to this URL in a browser: https://accounts.google.com/o/oauth2/auth?client_id=947318989803-6bn6qk8qdgf4n4g3pfee6491hc0brc4i.apps.googleusercontent.com&redirect_uri=urn%3Aietf%3Awg%3Aoauth%3A2.0%3Aoob&scope=email%20https%3A%2F%2Fwww.googleapis.com%2Fauth%2Fdocs.test%20https%3A%2F%2Fwww.googleapis.com%2Fauth%2Fdrive%20https%3A%2F%2Fwww.googleapis.com%2Fauth%2Fdrive.photos.readonly%20https%3A%2F%2Fwww.googleapis.com%2Fauth%2Fpeopleapi.readonly&response_type=code\n",
            "\n",
            "Enter your authorization code:\n",
            "··········\n",
            "Mounted at /content/drive\n"
          ],
          "name": "stdout"
        }
      ]
    },
    {
      "cell_type": "code",
      "metadata": {
        "id": "YPFVtxQ0BzpA",
        "colab_type": "code",
        "outputId": "8f609ac3-474d-4e25-ec40-5a14136c102f",
        "colab": {
          "resources": {
            "http://localhost:8080/nbextensions/google.colab/files.js": {
              "data": "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",
              "ok": true,
              "headers": [
                [
                  "content-type",
                  "application/javascript"
                ]
              ],
              "status": 200,
              "status_text": ""
            }
          },
          "base_uri": "https://localhost:8080/",
          "height": 72
        }
      },
      "source": [
        ""
      ],
      "execution_count": 0,
      "outputs": [
        {
          "output_type": "display_data",
          "data": {
            "text/html": [
              "\n",
              "     <input type=\"file\" id=\"files-2d8cda25-51e7-4ad6-a1f4-58c85aa7a16e\" name=\"files[]\" multiple disabled />\n",
              "     <output id=\"result-2d8cda25-51e7-4ad6-a1f4-58c85aa7a16e\">\n",
              "      Upload widget is only available when the cell has been executed in the\n",
              "      current browser session. Please rerun this cell to enable.\n",
              "      </output>\n",
              "      <script src=\"/nbextensions/google.colab/files.js\"></script> "
            ],
            "text/plain": [
              "<IPython.core.display.HTML object>"
            ]
          },
          "metadata": {
            "tags": []
          }
        },
        {
          "output_type": "stream",
          "text": [
            "Saving Admission_Predict_Ver1.1.csv to Admission_Predict_Ver1.1.csv\n"
          ],
          "name": "stdout"
        }
      ]
    },
    {
      "cell_type": "code",
      "metadata": {
        "id": "42vTyCKLDDUk",
        "colab_type": "code",
        "colab": {
          "base_uri": "https://localhost:8080/",
          "height": 206
        },
        "outputId": "36adaf16-9d5a-49f3-82a8-37f90fb04087"
      },
      "source": [
        "df = pd.read_csv('/content/drive/My Drive/Admission_Predict_Ver1.1.csv')\n",
        "df.head()"
      ],
      "execution_count": 28,
      "outputs": [
        {
          "output_type": "execute_result",
          "data": {
            "text/html": [
              "<div>\n",
              "<style scoped>\n",
              "    .dataframe tbody tr th:only-of-type {\n",
              "        vertical-align: middle;\n",
              "    }\n",
              "\n",
              "    .dataframe tbody tr th {\n",
              "        vertical-align: top;\n",
              "    }\n",
              "\n",
              "    .dataframe thead th {\n",
              "        text-align: right;\n",
              "    }\n",
              "</style>\n",
              "<table border=\"1\" class=\"dataframe\">\n",
              "  <thead>\n",
              "    <tr style=\"text-align: right;\">\n",
              "      <th></th>\n",
              "      <th>Serial No.</th>\n",
              "      <th>GRE Score</th>\n",
              "      <th>TOEFL Score</th>\n",
              "      <th>University Rating</th>\n",
              "      <th>SOP</th>\n",
              "      <th>LOR</th>\n",
              "      <th>CGPA</th>\n",
              "      <th>Research</th>\n",
              "      <th>Chance of Admit</th>\n",
              "    </tr>\n",
              "  </thead>\n",
              "  <tbody>\n",
              "    <tr>\n",
              "      <th>0</th>\n",
              "      <td>1</td>\n",
              "      <td>337</td>\n",
              "      <td>118</td>\n",
              "      <td>4</td>\n",
              "      <td>4.5</td>\n",
              "      <td>4.5</td>\n",
              "      <td>9.65</td>\n",
              "      <td>1</td>\n",
              "      <td>0.92</td>\n",
              "    </tr>\n",
              "    <tr>\n",
              "      <th>1</th>\n",
              "      <td>2</td>\n",
              "      <td>324</td>\n",
              "      <td>107</td>\n",
              "      <td>4</td>\n",
              "      <td>4.0</td>\n",
              "      <td>4.5</td>\n",
              "      <td>8.87</td>\n",
              "      <td>1</td>\n",
              "      <td>0.76</td>\n",
              "    </tr>\n",
              "    <tr>\n",
              "      <th>2</th>\n",
              "      <td>3</td>\n",
              "      <td>316</td>\n",
              "      <td>104</td>\n",
              "      <td>3</td>\n",
              "      <td>3.0</td>\n",
              "      <td>3.5</td>\n",
              "      <td>8.00</td>\n",
              "      <td>1</td>\n",
              "      <td>0.72</td>\n",
              "    </tr>\n",
              "    <tr>\n",
              "      <th>3</th>\n",
              "      <td>4</td>\n",
              "      <td>322</td>\n",
              "      <td>110</td>\n",
              "      <td>3</td>\n",
              "      <td>3.5</td>\n",
              "      <td>2.5</td>\n",
              "      <td>8.67</td>\n",
              "      <td>1</td>\n",
              "      <td>0.80</td>\n",
              "    </tr>\n",
              "    <tr>\n",
              "      <th>4</th>\n",
              "      <td>5</td>\n",
              "      <td>314</td>\n",
              "      <td>103</td>\n",
              "      <td>2</td>\n",
              "      <td>2.0</td>\n",
              "      <td>3.0</td>\n",
              "      <td>8.21</td>\n",
              "      <td>0</td>\n",
              "      <td>0.65</td>\n",
              "    </tr>\n",
              "  </tbody>\n",
              "</table>\n",
              "</div>"
            ],
            "text/plain": [
              "   Serial No.  GRE Score  TOEFL Score  ...  CGPA  Research  Chance of Admit \n",
              "0           1        337          118  ...  9.65         1              0.92\n",
              "1           2        324          107  ...  8.87         1              0.76\n",
              "2           3        316          104  ...  8.00         1              0.72\n",
              "3           4        322          110  ...  8.67         1              0.80\n",
              "4           5        314          103  ...  8.21         0              0.65\n",
              "\n",
              "[5 rows x 9 columns]"
            ]
          },
          "metadata": {
            "tags": []
          },
          "execution_count": 28
        }
      ]
    },
    {
      "cell_type": "code",
      "metadata": {
        "id": "5uq1LFNeDMeN",
        "colab_type": "code",
        "outputId": "875e1bce-a48f-4181-9984-784a12b1f8c4",
        "colab": {
          "base_uri": "https://localhost:8080/",
          "height": 198
        }
      },
      "source": [
        ""
      ],
      "execution_count": 0,
      "outputs": [
        {
          "output_type": "execute_result",
          "data": {
            "text/html": [
              "<div>\n",
              "<style scoped>\n",
              "    .dataframe tbody tr th:only-of-type {\n",
              "        vertical-align: middle;\n",
              "    }\n",
              "\n",
              "    .dataframe tbody tr th {\n",
              "        vertical-align: top;\n",
              "    }\n",
              "\n",
              "    .dataframe thead th {\n",
              "        text-align: right;\n",
              "    }\n",
              "</style>\n",
              "<table border=\"1\" class=\"dataframe\">\n",
              "  <thead>\n",
              "    <tr style=\"text-align: right;\">\n",
              "      <th></th>\n",
              "      <th>Serial No.</th>\n",
              "      <th>GRE Score</th>\n",
              "      <th>TOEFL Score</th>\n",
              "      <th>University Rating</th>\n",
              "      <th>SOP</th>\n",
              "      <th>LOR</th>\n",
              "      <th>CGPA</th>\n",
              "      <th>Research</th>\n",
              "      <th>Chance of Admit</th>\n",
              "    </tr>\n",
              "  </thead>\n",
              "  <tbody>\n",
              "    <tr>\n",
              "      <th>0</th>\n",
              "      <td>1</td>\n",
              "      <td>337</td>\n",
              "      <td>118</td>\n",
              "      <td>4</td>\n",
              "      <td>4.5</td>\n",
              "      <td>4.5</td>\n",
              "      <td>9.65</td>\n",
              "      <td>1</td>\n",
              "      <td>0.92</td>\n",
              "    </tr>\n",
              "    <tr>\n",
              "      <th>1</th>\n",
              "      <td>2</td>\n",
              "      <td>324</td>\n",
              "      <td>107</td>\n",
              "      <td>4</td>\n",
              "      <td>4.0</td>\n",
              "      <td>4.5</td>\n",
              "      <td>8.87</td>\n",
              "      <td>1</td>\n",
              "      <td>0.76</td>\n",
              "    </tr>\n",
              "    <tr>\n",
              "      <th>2</th>\n",
              "      <td>3</td>\n",
              "      <td>316</td>\n",
              "      <td>104</td>\n",
              "      <td>3</td>\n",
              "      <td>3.0</td>\n",
              "      <td>3.5</td>\n",
              "      <td>8.00</td>\n",
              "      <td>1</td>\n",
              "      <td>0.72</td>\n",
              "    </tr>\n",
              "    <tr>\n",
              "      <th>3</th>\n",
              "      <td>4</td>\n",
              "      <td>322</td>\n",
              "      <td>110</td>\n",
              "      <td>3</td>\n",
              "      <td>3.5</td>\n",
              "      <td>2.5</td>\n",
              "      <td>8.67</td>\n",
              "      <td>1</td>\n",
              "      <td>0.80</td>\n",
              "    </tr>\n",
              "    <tr>\n",
              "      <th>4</th>\n",
              "      <td>5</td>\n",
              "      <td>314</td>\n",
              "      <td>103</td>\n",
              "      <td>2</td>\n",
              "      <td>2.0</td>\n",
              "      <td>3.0</td>\n",
              "      <td>8.21</td>\n",
              "      <td>0</td>\n",
              "      <td>0.65</td>\n",
              "    </tr>\n",
              "  </tbody>\n",
              "</table>\n",
              "</div>"
            ],
            "text/plain": [
              "   Serial No.  GRE Score  TOEFL Score  University Rating  SOP  LOR   CGPA  \\\n",
              "0           1        337          118                  4  4.5   4.5  9.65   \n",
              "1           2        324          107                  4  4.0   4.5  8.87   \n",
              "2           3        316          104                  3  3.0   3.5  8.00   \n",
              "3           4        322          110                  3  3.5   2.5  8.67   \n",
              "4           5        314          103                  2  2.0   3.0  8.21   \n",
              "\n",
              "   Research  Chance of Admit   \n",
              "0         1              0.92  \n",
              "1         1              0.76  \n",
              "2         1              0.72  \n",
              "3         1              0.80  \n",
              "4         0              0.65  "
            ]
          },
          "metadata": {
            "tags": []
          },
          "execution_count": 4
        }
      ]
    },
    {
      "cell_type": "markdown",
      "metadata": {
        "id": "Jm0EZ-8LErYt",
        "colab_type": "text"
      },
      "source": [
        "2. Notre variable est exprimée comme une probabilité. On voudrait que ce soit plutôt une classe. Remplacez donc toutes les probabilités supérieures à 75% par 1 et les autres par 0 "
      ]
    },
    {
      "cell_type": "code",
      "metadata": {
        "id": "WAqRusIMxnD4",
        "colab_type": "code",
        "colab": {
          "base_uri": "https://localhost:8080/",
          "height": 206
        },
        "outputId": "f5e32b76-0fdc-4d9b-b02e-a9e17a2f8f78"
      },
      "source": [
        "chance  = np.array(df.iloc[:,-1:])\n",
        "df[\"Chance of Admit\"] = [1 if float(i) > 0.75 else 0 for i in chance]\n",
        "df = df.drop(\"Chance of Admit \", axis= 1)\n",
        "df.head()"
      ],
      "execution_count": 29,
      "outputs": [
        {
          "output_type": "execute_result",
          "data": {
            "text/html": [
              "<div>\n",
              "<style scoped>\n",
              "    .dataframe tbody tr th:only-of-type {\n",
              "        vertical-align: middle;\n",
              "    }\n",
              "\n",
              "    .dataframe tbody tr th {\n",
              "        vertical-align: top;\n",
              "    }\n",
              "\n",
              "    .dataframe thead th {\n",
              "        text-align: right;\n",
              "    }\n",
              "</style>\n",
              "<table border=\"1\" class=\"dataframe\">\n",
              "  <thead>\n",
              "    <tr style=\"text-align: right;\">\n",
              "      <th></th>\n",
              "      <th>Serial No.</th>\n",
              "      <th>GRE Score</th>\n",
              "      <th>TOEFL Score</th>\n",
              "      <th>University Rating</th>\n",
              "      <th>SOP</th>\n",
              "      <th>LOR</th>\n",
              "      <th>CGPA</th>\n",
              "      <th>Research</th>\n",
              "      <th>Chance of Admit</th>\n",
              "    </tr>\n",
              "  </thead>\n",
              "  <tbody>\n",
              "    <tr>\n",
              "      <th>0</th>\n",
              "      <td>1</td>\n",
              "      <td>337</td>\n",
              "      <td>118</td>\n",
              "      <td>4</td>\n",
              "      <td>4.5</td>\n",
              "      <td>4.5</td>\n",
              "      <td>9.65</td>\n",
              "      <td>1</td>\n",
              "      <td>1</td>\n",
              "    </tr>\n",
              "    <tr>\n",
              "      <th>1</th>\n",
              "      <td>2</td>\n",
              "      <td>324</td>\n",
              "      <td>107</td>\n",
              "      <td>4</td>\n",
              "      <td>4.0</td>\n",
              "      <td>4.5</td>\n",
              "      <td>8.87</td>\n",
              "      <td>1</td>\n",
              "      <td>1</td>\n",
              "    </tr>\n",
              "    <tr>\n",
              "      <th>2</th>\n",
              "      <td>3</td>\n",
              "      <td>316</td>\n",
              "      <td>104</td>\n",
              "      <td>3</td>\n",
              "      <td>3.0</td>\n",
              "      <td>3.5</td>\n",
              "      <td>8.00</td>\n",
              "      <td>1</td>\n",
              "      <td>0</td>\n",
              "    </tr>\n",
              "    <tr>\n",
              "      <th>3</th>\n",
              "      <td>4</td>\n",
              "      <td>322</td>\n",
              "      <td>110</td>\n",
              "      <td>3</td>\n",
              "      <td>3.5</td>\n",
              "      <td>2.5</td>\n",
              "      <td>8.67</td>\n",
              "      <td>1</td>\n",
              "      <td>1</td>\n",
              "    </tr>\n",
              "    <tr>\n",
              "      <th>4</th>\n",
              "      <td>5</td>\n",
              "      <td>314</td>\n",
              "      <td>103</td>\n",
              "      <td>2</td>\n",
              "      <td>2.0</td>\n",
              "      <td>3.0</td>\n",
              "      <td>8.21</td>\n",
              "      <td>0</td>\n",
              "      <td>0</td>\n",
              "    </tr>\n",
              "  </tbody>\n",
              "</table>\n",
              "</div>"
            ],
            "text/plain": [
              "   Serial No.  GRE Score  TOEFL Score  ...  CGPA  Research  Chance of Admit\n",
              "0           1        337          118  ...  9.65         1                1\n",
              "1           2        324          107  ...  8.87         1                1\n",
              "2           3        316          104  ...  8.00         1                0\n",
              "3           4        322          110  ...  8.67         1                1\n",
              "4           5        314          103  ...  8.21         0                0\n",
              "\n",
              "[5 rows x 9 columns]"
            ]
          },
          "metadata": {
            "tags": []
          },
          "execution_count": 29
        }
      ]
    },
    {
      "cell_type": "code",
      "metadata": {
        "id": "xTXW__frDNrT",
        "colab_type": "code",
        "outputId": "1e87b1d3-da20-4c29-dd58-d9510a5381f3",
        "colab": {
          "base_uri": "https://localhost:8080/",
          "height": 198
        }
      },
      "source": [
        ""
      ],
      "execution_count": 0,
      "outputs": [
        {
          "output_type": "execute_result",
          "data": {
            "text/html": [
              "<div>\n",
              "<style scoped>\n",
              "    .dataframe tbody tr th:only-of-type {\n",
              "        vertical-align: middle;\n",
              "    }\n",
              "\n",
              "    .dataframe tbody tr th {\n",
              "        vertical-align: top;\n",
              "    }\n",
              "\n",
              "    .dataframe thead th {\n",
              "        text-align: right;\n",
              "    }\n",
              "</style>\n",
              "<table border=\"1\" class=\"dataframe\">\n",
              "  <thead>\n",
              "    <tr style=\"text-align: right;\">\n",
              "      <th></th>\n",
              "      <th>Serial No.</th>\n",
              "      <th>GRE Score</th>\n",
              "      <th>TOEFL Score</th>\n",
              "      <th>University Rating</th>\n",
              "      <th>SOP</th>\n",
              "      <th>LOR</th>\n",
              "      <th>CGPA</th>\n",
              "      <th>Research</th>\n",
              "      <th>Chance of Admit</th>\n",
              "    </tr>\n",
              "  </thead>\n",
              "  <tbody>\n",
              "    <tr>\n",
              "      <th>0</th>\n",
              "      <td>1</td>\n",
              "      <td>337</td>\n",
              "      <td>118</td>\n",
              "      <td>4</td>\n",
              "      <td>4.5</td>\n",
              "      <td>4.5</td>\n",
              "      <td>9.65</td>\n",
              "      <td>1</td>\n",
              "      <td>1</td>\n",
              "    </tr>\n",
              "    <tr>\n",
              "      <th>1</th>\n",
              "      <td>2</td>\n",
              "      <td>324</td>\n",
              "      <td>107</td>\n",
              "      <td>4</td>\n",
              "      <td>4.0</td>\n",
              "      <td>4.5</td>\n",
              "      <td>8.87</td>\n",
              "      <td>1</td>\n",
              "      <td>1</td>\n",
              "    </tr>\n",
              "    <tr>\n",
              "      <th>2</th>\n",
              "      <td>3</td>\n",
              "      <td>316</td>\n",
              "      <td>104</td>\n",
              "      <td>3</td>\n",
              "      <td>3.0</td>\n",
              "      <td>3.5</td>\n",
              "      <td>8.00</td>\n",
              "      <td>1</td>\n",
              "      <td>0</td>\n",
              "    </tr>\n",
              "    <tr>\n",
              "      <th>3</th>\n",
              "      <td>4</td>\n",
              "      <td>322</td>\n",
              "      <td>110</td>\n",
              "      <td>3</td>\n",
              "      <td>3.5</td>\n",
              "      <td>2.5</td>\n",
              "      <td>8.67</td>\n",
              "      <td>1</td>\n",
              "      <td>1</td>\n",
              "    </tr>\n",
              "    <tr>\n",
              "      <th>4</th>\n",
              "      <td>5</td>\n",
              "      <td>314</td>\n",
              "      <td>103</td>\n",
              "      <td>2</td>\n",
              "      <td>2.0</td>\n",
              "      <td>3.0</td>\n",
              "      <td>8.21</td>\n",
              "      <td>0</td>\n",
              "      <td>0</td>\n",
              "    </tr>\n",
              "  </tbody>\n",
              "</table>\n",
              "</div>"
            ],
            "text/plain": [
              "   Serial No.  GRE Score  TOEFL Score  University Rating  SOP  LOR   CGPA  \\\n",
              "0           1        337          118                  4  4.5   4.5  9.65   \n",
              "1           2        324          107                  4  4.0   4.5  8.87   \n",
              "2           3        316          104                  3  3.0   3.5  8.00   \n",
              "3           4        322          110                  3  3.5   2.5  8.67   \n",
              "4           5        314          103                  2  2.0   3.0  8.21   \n",
              "\n",
              "   Research  Chance of Admit   \n",
              "0         1                 1  \n",
              "1         1                 1  \n",
              "2         1                 0  \n",
              "3         1                 1  \n",
              "4         0                 0  "
            ]
          },
          "metadata": {
            "tags": []
          },
          "execution_count": 8
        }
      ]
    },
    {
      "cell_type": "markdown",
      "metadata": {
        "id": "UeTaQ7DoFf8X",
        "colab_type": "text"
      },
      "source": [
        "3. Regardez la répartition de GRE Score par rapport à l'admission "
      ]
    },
    {
      "cell_type": "code",
      "metadata": {
        "id": "adg70TS70mx8",
        "colab_type": "code",
        "colab": {
          "base_uri": "https://localhost:8080/",
          "height": 387
        },
        "outputId": "f530aa97-c6ee-4a2a-e4ae-e3aad4579225"
      },
      "source": [
        "sns.lmplot(x=\"GRE Score\", y=\"Chance of Admit\", data=df, logistic=True)"
      ],
      "execution_count": 25,
      "outputs": [
        {
          "output_type": "execute_result",
          "data": {
            "text/plain": [
              "<seaborn.axisgrid.FacetGrid at 0x7f2d2672e390>"
            ]
          },
          "metadata": {
            "tags": []
          },
          "execution_count": 25
        },
        {
          "output_type": "display_data",
          "data": {
            "image/png": "[encoded data removed]",
            "text/plain": [
              "<Figure size 360x360 with 1 Axes>"
            ]
          },
          "metadata": {
            "tags": []
          }
        }
      ]
    },
    {
      "cell_type": "code",
      "metadata": {
        "id": "qhBMJVxSFSg7",
        "colab_type": "code",
        "outputId": "5a729a10-1e2b-4779-86cb-59cbb6d4df0b",
        "colab": {
          "base_uri": "https://localhost:8080/",
          "height": 386
        }
      },
      "source": [
        ""
      ],
      "execution_count": 0,
      "outputs": [
        {
          "output_type": "execute_result",
          "data": {
            "text/plain": [
              "<seaborn.axisgrid.FacetGrid at 0x7f6ed059ae80>"
            ]
          },
          "metadata": {
            "tags": []
          },
          "execution_count": 12
        },
        {
          "output_type": "display_data",
          "data": {
            "image/png": "[encoded data removed]",
            "text/plain": [
              "<Figure size 360x360 with 1 Axes>"
            ]
          },
          "metadata": {
            "tags": []
          }
        }
      ]
    },
    {
      "cell_type": "markdown",
      "metadata": {
        "id": "YGseKoNSF-Ot",
        "colab_type": "text"
      },
      "source": [
        "4. Faites de même avec le Toefl Score  / CGPA"
      ]
    },
    {
      "cell_type": "code",
      "metadata": {
        "id": "rNZTFJ-E1oha",
        "colab_type": "code",
        "colab": {}
      },
      "source": [
        ""
      ],
      "execution_count": 0,
      "outputs": []
    },
    {
      "cell_type": "code",
      "metadata": {
        "id": "zuB9MegUF5c0",
        "colab_type": "code",
        "outputId": "3eb48ac4-37bb-483a-c7e3-a021c56d0418",
        "colab": {
          "base_uri": "https://localhost:8080/",
          "height": 386
        }
      },
      "source": [
        ""
      ],
      "execution_count": 0,
      "outputs": [
        {
          "output_type": "execute_result",
          "data": {
            "text/plain": [
              "<seaborn.axisgrid.FacetGrid at 0x7f6ed09245f8>"
            ]
          },
          "metadata": {
            "tags": []
          },
          "execution_count": 13
        },
        {
          "output_type": "display_data",
          "data": {
            "image/png": "[encoded data removed]",
            "text/plain": [
              "<Figure size 360x360 with 1 Axes>"
            ]
          },
          "metadata": {
            "tags": []
          }
        }
      ]
    },
    {
      "cell_type": "code",
      "metadata": {
        "id": "50Ha1TzbGesE",
        "colab_type": "code",
        "outputId": "8f699153-e1e2-41f9-9635-b70a118c021f",
        "colab": {
          "base_uri": "https://localhost:8080/",
          "height": 386
        }
      },
      "source": [
        ""
      ],
      "execution_count": 0,
      "outputs": [
        {
          "output_type": "execute_result",
          "data": {
            "text/plain": [
              "<seaborn.axisgrid.FacetGrid at 0x7f6ed050d780>"
            ]
          },
          "metadata": {
            "tags": []
          },
          "execution_count": 16
        },
        {
          "output_type": "display_data",
          "data": {
            "image/png": "[encoded data removed]",
            "text/plain": [
              "<Figure size 360x360 with 1 Axes>"
            ]
          },
          "metadata": {
            "tags": []
          }
        }
      ]
    },
    {
      "cell_type": "markdown",
      "metadata": {
        "id": "8C338NI-HJvd",
        "colab_type": "text"
      },
      "source": [
        "5. Faites un barplot sur la colonne LOR / SOP / University Rating / Research"
      ]
    },
    {
      "cell_type": "code",
      "metadata": {
        "id": "Cgka_a931z-T",
        "colab_type": "code",
        "colab": {
          "base_uri": "https://localhost:8080/",
          "height": 387
        },
        "outputId": "9a65276c-8be3-4a39-e162-956dae4762c7"
      },
      "source": [
        "sns.catplot(x=\"LOR \", y=\"Chance of Admit\", kind=\"bar\", data=df)"
      ],
      "execution_count": 30,
      "outputs": [
        {
          "output_type": "execute_result",
          "data": {
            "text/plain": [
              "<seaborn.axisgrid.FacetGrid at 0x7f2d239fb1d0>"
            ]
          },
          "metadata": {
            "tags": []
          },
          "execution_count": 30
        },
        {
          "output_type": "display_data",
          "data": {
            "image/png": "[encoded data removed]",
            "text/plain": [
              "<Figure size 360x360 with 1 Axes>"
            ]
          },
          "metadata": {
            "tags": []
          }
        }
      ]
    },
    {
      "cell_type": "code",
      "metadata": {
        "id": "0fbqDEkKGoNw",
        "colab_type": "code",
        "outputId": "d5e9265f-13c6-42b2-c10d-4ad23bc421d7",
        "colab": {
          "base_uri": "https://localhost:8080/",
          "height": 386
        }
      },
      "source": [
        ""
      ],
      "execution_count": 0,
      "outputs": [
        {
          "output_type": "execute_result",
          "data": {
            "text/plain": [
              "<seaborn.axisgrid.FacetGrid at 0x7f6ecda535f8>"
            ]
          },
          "metadata": {
            "tags": []
          },
          "execution_count": 18
        },
        {
          "output_type": "display_data",
          "data": {
            "image/png": "[encoded data removed]",
            "text/plain": [
              "<Figure size 360x360 with 1 Axes>"
            ]
          },
          "metadata": {
            "tags": []
          }
        }
      ]
    },
    {
      "cell_type": "code",
      "metadata": {
        "id": "FV9BbJGRGGS6",
        "colab_type": "code",
        "outputId": "6f1dbe35-c8e4-40fc-d28e-3b507de8f39e",
        "colab": {
          "base_uri": "https://localhost:8080/",
          "height": 386
        }
      },
      "source": [
        ""
      ],
      "execution_count": 0,
      "outputs": [
        {
          "output_type": "execute_result",
          "data": {
            "text/plain": [
              "<seaborn.axisgrid.FacetGrid at 0x7f6ecd9b5ba8>"
            ]
          },
          "metadata": {
            "tags": []
          },
          "execution_count": 19
        },
        {
          "output_type": "display_data",
          "data": {
            "image/png": "[encoded data removed]",
            "text/plain": [
              "<Figure size 360x360 with 1 Axes>"
            ]
          },
          "metadata": {
            "tags": []
          }
        }
      ]
    },
    {
      "cell_type": "code",
      "metadata": {
        "id": "N1T70ypEHSQu",
        "colab_type": "code",
        "outputId": "997298ca-edc2-41e9-cc15-fc56856abfd9",
        "colab": {
          "base_uri": "https://localhost:8080/",
          "height": 386
        }
      },
      "source": [
        ""
      ],
      "execution_count": 0,
      "outputs": [
        {
          "output_type": "execute_result",
          "data": {
            "text/plain": [
              "<seaborn.axisgrid.FacetGrid at 0x7f6ecd8e5f98>"
            ]
          },
          "metadata": {
            "tags": []
          },
          "execution_count": 22
        },
        {
          "output_type": "display_data",
          "data": {
            "image/png": "[encoded data removed]",
            "text/plain": [
              "<Figure size 360x360 with 1 Axes>"
            ]
          },
          "metadata": {
            "tags": []
          }
        }
      ]
    },
    {
      "cell_type": "code",
      "metadata": {
        "id": "cvUqKRdmHf0r",
        "colab_type": "code",
        "outputId": "3717e690-bd2b-44bf-8fbb-c2af1f878b43",
        "colab": {
          "base_uri": "https://localhost:8080/",
          "height": 386
        }
      },
      "source": [
        ""
      ],
      "execution_count": 0,
      "outputs": [
        {
          "output_type": "execute_result",
          "data": {
            "text/plain": [
              "<seaborn.axisgrid.FacetGrid at 0x7f6ecd9706d8>"
            ]
          },
          "metadata": {
            "tags": []
          },
          "execution_count": 23
        },
        {
          "output_type": "display_data",
          "data": {
            "image/png": "[encoded data removed]",
            "text/plain": [
              "<Figure size 360x360 with 1 Axes>"
            ]
          },
          "metadata": {
            "tags": []
          }
        }
      ]
    },
    {
      "cell_type": "markdown",
      "metadata": {
        "id": "9fc-8FhvILf0",
        "colab_type": "text"
      },
      "source": [
        "6. Séparez votre dataset en variables explicatives : ```X``` & variable cible : ```y``` "
      ]
    },
    {
      "cell_type": "code",
      "metadata": {
        "id": "51aaMj0QHyXd",
        "colab_type": "code",
        "colab": {
          "base_uri": "https://localhost:8080/",
          "height": 206
        },
        "outputId": "83c74907-e42b-4d38-e337-5cc421c59753"
      },
      "source": [
        "X = df.iloc[:,:-1]\n",
        "y = df.iloc[:,-1:]\n",
        "X.head()"
      ],
      "execution_count": 31,
      "outputs": [
        {
          "output_type": "execute_result",
          "data": {
            "text/html": [
              "<div>\n",
              "<style scoped>\n",
              "    .dataframe tbody tr th:only-of-type {\n",
              "        vertical-align: middle;\n",
              "    }\n",
              "\n",
              "    .dataframe tbody tr th {\n",
              "        vertical-align: top;\n",
              "    }\n",
              "\n",
              "    .dataframe thead th {\n",
              "        text-align: right;\n",
              "    }\n",
              "</style>\n",
              "<table border=\"1\" class=\"dataframe\">\n",
              "  <thead>\n",
              "    <tr style=\"text-align: right;\">\n",
              "      <th></th>\n",
              "      <th>Serial No.</th>\n",
              "      <th>GRE Score</th>\n",
              "      <th>TOEFL Score</th>\n",
              "      <th>University Rating</th>\n",
              "      <th>SOP</th>\n",
              "      <th>LOR</th>\n",
              "      <th>CGPA</th>\n",
              "      <th>Research</th>\n",
              "    </tr>\n",
              "  </thead>\n",
              "  <tbody>\n",
              "    <tr>\n",
              "      <th>0</th>\n",
              "      <td>1</td>\n",
              "      <td>337</td>\n",
              "      <td>118</td>\n",
              "      <td>4</td>\n",
              "      <td>4.5</td>\n",
              "      <td>4.5</td>\n",
              "      <td>9.65</td>\n",
              "      <td>1</td>\n",
              "    </tr>\n",
              "    <tr>\n",
              "      <th>1</th>\n",
              "      <td>2</td>\n",
              "      <td>324</td>\n",
              "      <td>107</td>\n",
              "      <td>4</td>\n",
              "      <td>4.0</td>\n",
              "      <td>4.5</td>\n",
              "      <td>8.87</td>\n",
              "      <td>1</td>\n",
              "    </tr>\n",
              "    <tr>\n",
              "      <th>2</th>\n",
              "      <td>3</td>\n",
              "      <td>316</td>\n",
              "      <td>104</td>\n",
              "      <td>3</td>\n",
              "      <td>3.0</td>\n",
              "      <td>3.5</td>\n",
              "      <td>8.00</td>\n",
              "      <td>1</td>\n",
              "    </tr>\n",
              "    <tr>\n",
              "      <th>3</th>\n",
              "      <td>4</td>\n",
              "      <td>322</td>\n",
              "      <td>110</td>\n",
              "      <td>3</td>\n",
              "      <td>3.5</td>\n",
              "      <td>2.5</td>\n",
              "      <td>8.67</td>\n",
              "      <td>1</td>\n",
              "    </tr>\n",
              "    <tr>\n",
              "      <th>4</th>\n",
              "      <td>5</td>\n",
              "      <td>314</td>\n",
              "      <td>103</td>\n",
              "      <td>2</td>\n",
              "      <td>2.0</td>\n",
              "      <td>3.0</td>\n",
              "      <td>8.21</td>\n",
              "      <td>0</td>\n",
              "    </tr>\n",
              "  </tbody>\n",
              "</table>\n",
              "</div>"
            ],
            "text/plain": [
              "   Serial No.  GRE Score  TOEFL Score  ...  LOR   CGPA  Research\n",
              "0           1        337          118  ...   4.5  9.65         1\n",
              "1           2        324          107  ...   4.5  8.87         1\n",
              "2           3        316          104  ...   3.5  8.00         1\n",
              "3           4        322          110  ...   2.5  8.67         1\n",
              "4           5        314          103  ...   3.0  8.21         0\n",
              "\n",
              "[5 rows x 8 columns]"
            ]
          },
          "metadata": {
            "tags": []
          },
          "execution_count": 31
        }
      ]
    },
    {
      "cell_type": "markdown",
      "metadata": {
        "id": "C_I8jXkbIa76",
        "colab_type": "text"
      },
      "source": [
        "7. Séparez votre dataset en données d'entrainement et de test "
      ]
    },
    {
      "cell_type": "code",
      "metadata": {
        "id": "fo9b9vLOIaPM",
        "colab_type": "code",
        "colab": {}
      },
      "source": [
        "from sklearn.model_selection import train_test_split\n",
        "X_train, X_test, y_train, y_test = train_test_split(X, y, test_size = 0.3, random_state=42, stratify = y)"
      ],
      "execution_count": 0,
      "outputs": []
    },
    {
      "cell_type": "markdown",
      "metadata": {
        "id": "WudLDVO8IpRi",
        "colab_type": "text"
      },
      "source": [
        "8. Tentez de faire un premier arbre de décision et évaluez votre score dans une matrice de confusion"
      ]
    },
    {
      "cell_type": "code",
      "metadata": {
        "id": "YqvQZ15m4S5y",
        "colab_type": "code",
        "colab": {
          "base_uri": "https://localhost:8080/",
          "height": 126
        },
        "outputId": "33f10105-87f2-4bb0-db5b-d062352494a0"
      },
      "source": [
        "from sklearn.tree import DecisionTreeClassifier\n",
        "classifier_gini = DecisionTreeClassifier(criterion=\"gini\")\n",
        "classifier_gini.fit(X_train,y_train)"
      ],
      "execution_count": 33,
      "outputs": [
        {
          "output_type": "execute_result",
          "data": {
            "text/plain": [
              "DecisionTreeClassifier(class_weight=None, criterion='gini', max_depth=None,\n",
              "                       max_features=None, max_leaf_nodes=None,\n",
              "                       min_impurity_decrease=0.0, min_impurity_split=None,\n",
              "                       min_samples_leaf=1, min_samples_split=2,\n",
              "                       min_weight_fraction_leaf=0.0, presort=False,\n",
              "                       random_state=None, splitter='best')"
            ]
          },
          "metadata": {
            "tags": []
          },
          "execution_count": 33
        }
      ]
    },
    {
      "cell_type": "code",
      "metadata": {
        "id": "48T_qLWFIok0",
        "colab_type": "code",
        "outputId": "ce28e9ca-a725-47c5-9356-cd0e36508277",
        "colab": {
          "base_uri": "https://localhost:8080/",
          "height": 121
        }
      },
      "source": [
        ""
      ],
      "execution_count": 0,
      "outputs": [
        {
          "output_type": "execute_result",
          "data": {
            "text/plain": [
              "DecisionTreeClassifier(class_weight=None, criterion='gini', max_depth=None,\n",
              "            max_features=None, max_leaf_nodes=None,\n",
              "            min_impurity_decrease=0.0, min_impurity_split=None,\n",
              "            min_samples_leaf=1, min_samples_split=2,\n",
              "            min_weight_fraction_leaf=0.0, presort=False, random_state=None,\n",
              "            splitter='best')"
            ]
          },
          "metadata": {
            "tags": []
          },
          "execution_count": 28
        }
      ]
    },
    {
      "cell_type": "code",
      "metadata": {
        "id": "GH6-KcJb4W9F",
        "colab_type": "code",
        "colab": {
          "base_uri": "https://localhost:8080/",
          "height": 35
        },
        "outputId": "52de8bb7-7515-4e34-ccdb-5f82c69d3d21"
      },
      "source": [
        "classifier_gini.score(X_test, y_test)"
      ],
      "execution_count": 34,
      "outputs": [
        {
          "output_type": "execute_result",
          "data": {
            "text/plain": [
              "0.8466666666666667"
            ]
          },
          "metadata": {
            "tags": []
          },
          "execution_count": 34
        }
      ]
    },
    {
      "cell_type": "code",
      "metadata": {
        "id": "2Zy5yP-yI-UN",
        "colab_type": "code",
        "outputId": "50ba672c-f1a2-4711-d377-6f80d1c5ba2f",
        "colab": {
          "base_uri": "https://localhost:8080/",
          "height": 35
        }
      },
      "source": [
        ""
      ],
      "execution_count": 0,
      "outputs": [
        {
          "output_type": "execute_result",
          "data": {
            "text/plain": [
              "0.8666666666666667"
            ]
          },
          "metadata": {
            "tags": []
          },
          "execution_count": 29
        }
      ]
    },
    {
      "cell_type": "markdown",
      "metadata": {
        "id": "xhO4D_8AJI6p",
        "colab_type": "text"
      },
      "source": [
        "9. Visualisez votre arbre via graphviz "
      ]
    },
    {
      "cell_type": "code",
      "metadata": {
        "id": "J1rIX4574dEs",
        "colab_type": "code",
        "colab": {
          "base_uri": "https://localhost:8080/",
          "height": 1000
        },
        "outputId": "ec39f5cb-43b7-4cd5-9670-389ebf595e48"
      },
      "source": [
        "import graphviz \n",
        "from sklearn.tree import export_graphviz\n",
        "dot_data = export_graphviz(classifier_gini, out_file=None, feature_names= X.columns) \n",
        "graph = graphviz.Source(dot_data) \n",
        "graph"
      ],
      "execution_count": 35,
      "outputs": [
        {
          "output_type": "execute_result",
          "data": {
            "text/plain": [
              "<graphviz.files.Source at 0x7f2d23a03828>"
            ],
            "image/svg+xml": "<?xml version=\"1.0\" encoding=\"UTF-8\" standalone=\"no\"?>\n<!DOCTYPE svg PUBLIC \"-//W3C//DTD SVG 1.1//EN\"\n \"http://www.w3.org/Graphics/SVG/1.1/DTD/svg11.dtd\">\n<!-- Generated by graphviz version 2.40.1 (20161225.0304)\n -->\n<!-- Title: Tree Pages: 1 -->\n<svg width=\"2218pt\" height=\"893pt\"\n viewBox=\"0.00 0.00 2218.00 893.00\" xmlns=\"http://www.w3.org/2000/svg\" xmlns:xlink=\"http://www.w3.org/1999/xlink\">\n<g id=\"graph0\" class=\"graph\" transform=\"scale(1 1) rotate(0) translate(4 889)\">\n<title>Tree</title>\n<polygon fill=\"#ffffff\" stroke=\"transparent\" points=\"-4,4 -4,-889 2214,-889 2214,4 -4,4\"/>\n<!-- 0 -->\n<g id=\"node1\" class=\"node\">\n<title>0</title>\n<polygon fill=\"none\" stroke=\"#000000\" points=\"1206.5,-885 1081.5,-885 1081.5,-817 1206.5,-817 1206.5,-885\"/>\n<text text-anchor=\"middle\" x=\"1144\" y=\"-869.8\" font-family=\"Times,serif\" font-size=\"14.00\" fill=\"#000000\">CGPA &lt;= 8.655</text>\n<text text-anchor=\"middle\" x=\"1144\" y=\"-854.8\" font-family=\"Times,serif\" font-size=\"14.00\" fill=\"#000000\">gini = 0.487</text>\n<text text-anchor=\"middle\" x=\"1144\" y=\"-839.8\" font-family=\"Times,serif\" font-size=\"14.00\" fill=\"#000000\">samples = 350</text>\n<text text-anchor=\"middle\" x=\"1144\" y=\"-824.8\" font-family=\"Times,serif\" font-size=\"14.00\" fill=\"#000000\">value = [203, 147]</text>\n</g>\n<!-- 1 -->\n<g id=\"node2\" class=\"node\">\n<title>1</title>\n<polygon fill=\"none\" stroke=\"#000000\" points=\"974.5,-781 819.5,-781 819.5,-713 974.5,-713 974.5,-781\"/>\n<text text-anchor=\"middle\" x=\"897\" y=\"-765.8\" font-family=\"Times,serif\" font-size=\"14.00\" fill=\"#000000\">TOEFL Score &lt;= 106.5</text>\n<text text-anchor=\"middle\" x=\"897\" y=\"-750.8\" font-family=\"Times,serif\" font-size=\"14.00\" fill=\"#000000\">gini = 0.109</text>\n<text text-anchor=\"middle\" x=\"897\" y=\"-735.8\" font-family=\"Times,serif\" font-size=\"14.00\" fill=\"#000000\">samples = 190</text>\n<text text-anchor=\"middle\" x=\"897\" y=\"-720.8\" font-family=\"Times,serif\" font-size=\"14.00\" fill=\"#000000\">value = [179, 11]</text>\n</g>\n<!-- 0&#45;&gt;1 -->\n<g id=\"edge1\" class=\"edge\">\n<title>0&#45;&gt;1</title>\n<path fill=\"none\" stroke=\"#000000\" d=\"M1081.3522,-824.622C1051.8236,-812.1889 1016.1074,-797.1505 984.0056,-783.634\"/>\n<polygon fill=\"#000000\" stroke=\"#000000\" points=\"985.1888,-780.3346 974.6142,-779.6797 982.4723,-786.786 985.1888,-780.3346\"/>\n<text text-anchor=\"middle\" x=\"984.0466\" y=\"-799.132\" font-family=\"Times,serif\" font-size=\"14.00\" fill=\"#000000\">True</text>\n</g>\n<!-- 36 -->\n<g id=\"node37\" class=\"node\">\n<title>36</title>\n<polygon fill=\"none\" stroke=\"#000000\" points=\"1476.5,-781 1359.5,-781 1359.5,-713 1476.5,-713 1476.5,-781\"/>\n<text text-anchor=\"middle\" x=\"1418\" y=\"-765.8\" font-family=\"Times,serif\" font-size=\"14.00\" fill=\"#000000\">CGPA &lt;= 8.85</text>\n<text text-anchor=\"middle\" x=\"1418\" y=\"-750.8\" font-family=\"Times,serif\" font-size=\"14.00\" fill=\"#000000\">gini = 0.255</text>\n<text text-anchor=\"middle\" x=\"1418\" y=\"-735.8\" font-family=\"Times,serif\" font-size=\"14.00\" fill=\"#000000\">samples = 160</text>\n<text text-anchor=\"middle\" x=\"1418\" y=\"-720.8\" font-family=\"Times,serif\" font-size=\"14.00\" fill=\"#000000\">value = [24, 136]</text>\n</g>\n<!-- 0&#45;&gt;36 -->\n<g id=\"edge36\" class=\"edge\">\n<title>0&#45;&gt;36</title>\n<path fill=\"none\" stroke=\"#000000\" d=\"M1206.5177,-827.2707C1249.338,-811.0177 1306.1059,-789.4707 1350.0448,-772.7932\"/>\n<polygon fill=\"#000000\" stroke=\"#000000\" points=\"1351.392,-776.0256 1359.4991,-769.2047 1348.9079,-769.4811 1351.392,-776.0256\"/>\n<text text-anchor=\"middle\" x=\"1349.245\" y=\"-788.305\" font-family=\"Times,serif\" font-size=\"14.00\" fill=\"#000000\">False</text>\n</g>\n<!-- 2 -->\n<g id=\"node3\" class=\"node\">\n<title>2</title>\n<polygon fill=\"none\" stroke=\"#000000\" points=\"607,-677 497,-677 497,-609 607,-609 607,-677\"/>\n<text text-anchor=\"middle\" x=\"552\" y=\"-661.8\" font-family=\"Times,serif\" font-size=\"14.00\" fill=\"#000000\">SOP &lt;= 4.75</text>\n<text text-anchor=\"middle\" x=\"552\" y=\"-646.8\" font-family=\"Times,serif\" font-size=\"14.00\" fill=\"#000000\">gini = 0.039</text>\n<text text-anchor=\"middle\" x=\"552\" y=\"-631.8\" font-family=\"Times,serif\" font-size=\"14.00\" fill=\"#000000\">samples = 152</text>\n<text text-anchor=\"middle\" x=\"552\" y=\"-616.8\" font-family=\"Times,serif\" font-size=\"14.00\" fill=\"#000000\">value = [149, 3]</text>\n</g>\n<!-- 1&#45;&gt;2 -->\n<g id=\"edge2\" class=\"edge\">\n<title>1&#45;&gt;2</title>\n<path fill=\"none\" stroke=\"#000000\" d=\"M819.1451,-723.5307C758.0873,-705.1249 674.1163,-679.8119 616.715,-662.5083\"/>\n<polygon fill=\"#000000\" stroke=\"#000000\" points=\"617.6137,-659.1237 607.0291,-659.5885 615.5934,-665.8258 617.6137,-659.1237\"/>\n</g>\n<!-- 17 -->\n<g id=\"node18\" class=\"node\">\n<title>17</title>\n<polygon fill=\"none\" stroke=\"#000000\" points=\"963,-677 831,-677 831,-609 963,-609 963,-677\"/>\n<text text-anchor=\"middle\" x=\"897\" y=\"-661.8\" font-family=\"Times,serif\" font-size=\"14.00\" fill=\"#000000\">Serial No. &lt;= 355.5</text>\n<text text-anchor=\"middle\" x=\"897\" y=\"-646.8\" font-family=\"Times,serif\" font-size=\"14.00\" fill=\"#000000\">gini = 0.332</text>\n<text text-anchor=\"middle\" x=\"897\" y=\"-631.8\" font-family=\"Times,serif\" font-size=\"14.00\" fill=\"#000000\">samples = 38</text>\n<text text-anchor=\"middle\" x=\"897\" y=\"-616.8\" font-family=\"Times,serif\" font-size=\"14.00\" fill=\"#000000\">value = [30, 8]</text>\n</g>\n<!-- 1&#45;&gt;17 -->\n<g id=\"edge17\" class=\"edge\">\n<title>1&#45;&gt;17</title>\n<path fill=\"none\" stroke=\"#000000\" d=\"M897,-712.9465C897,-704.776 897,-695.9318 897,-687.3697\"/>\n<polygon fill=\"#000000\" stroke=\"#000000\" points=\"900.5001,-687.13 897,-677.13 893.5001,-687.13 900.5001,-687.13\"/>\n</g>\n<!-- 3 -->\n<g id=\"node4\" class=\"node\">\n<title>3</title>\n<polygon fill=\"none\" stroke=\"#000000\" points=\"409,-573 299,-573 299,-505 409,-505 409,-573\"/>\n<text text-anchor=\"middle\" x=\"354\" y=\"-557.8\" font-family=\"Times,serif\" font-size=\"14.00\" fill=\"#000000\">LOR &#160;&lt;= 4.25</text>\n<text text-anchor=\"middle\" x=\"354\" y=\"-542.8\" font-family=\"Times,serif\" font-size=\"14.00\" fill=\"#000000\">gini = 0.027</text>\n<text text-anchor=\"middle\" x=\"354\" y=\"-527.8\" font-family=\"Times,serif\" font-size=\"14.00\" fill=\"#000000\">samples = 148</text>\n<text text-anchor=\"middle\" x=\"354\" y=\"-512.8\" font-family=\"Times,serif\" font-size=\"14.00\" fill=\"#000000\">value = [146, 2]</text>\n</g>\n<!-- 2&#45;&gt;3 -->\n<g id=\"edge3\" class=\"edge\">\n<title>2&#45;&gt;3</title>\n<path fill=\"none\" stroke=\"#000000\" d=\"M496.846,-614.0302C472.4891,-601.2367 443.695,-586.1125 418.3629,-572.8068\"/>\n<polygon fill=\"#000000\" stroke=\"#000000\" points=\"419.6819,-569.5462 409.2013,-567.9946 416.4268,-575.7434 419.6819,-569.5462\"/>\n</g>\n<!-- 14 -->\n<g id=\"node15\" class=\"node\">\n<title>14</title>\n<polygon fill=\"none\" stroke=\"#000000\" points=\"622,-573 482,-573 482,-505 622,-505 622,-573\"/>\n<text text-anchor=\"middle\" x=\"552\" y=\"-557.8\" font-family=\"Times,serif\" font-size=\"14.00\" fill=\"#000000\">GRE Score &lt;= 308.0</text>\n<text text-anchor=\"middle\" x=\"552\" y=\"-542.8\" font-family=\"Times,serif\" font-size=\"14.00\" fill=\"#000000\">gini = 0.375</text>\n<text text-anchor=\"middle\" x=\"552\" y=\"-527.8\" font-family=\"Times,serif\" font-size=\"14.00\" fill=\"#000000\">samples = 4</text>\n<text text-anchor=\"middle\" x=\"552\" y=\"-512.8\" font-family=\"Times,serif\" font-size=\"14.00\" fill=\"#000000\">value = [3, 1]</text>\n</g>\n<!-- 2&#45;&gt;14 -->\n<g id=\"edge14\" class=\"edge\">\n<title>2&#45;&gt;14</title>\n<path fill=\"none\" stroke=\"#000000\" d=\"M552,-608.9465C552,-600.776 552,-591.9318 552,-583.3697\"/>\n<polygon fill=\"#000000\" stroke=\"#000000\" points=\"555.5001,-583.13 552,-573.13 548.5001,-583.13 555.5001,-583.13\"/>\n</g>\n<!-- 4 -->\n<g id=\"node5\" class=\"node\">\n<title>4</title>\n<polygon fill=\"none\" stroke=\"#000000\" points=\"261.5,-469 106.5,-469 106.5,-401 261.5,-401 261.5,-469\"/>\n<text text-anchor=\"middle\" x=\"184\" y=\"-453.8\" font-family=\"Times,serif\" font-size=\"14.00\" fill=\"#000000\">TOEFL Score &lt;= 105.5</text>\n<text text-anchor=\"middle\" x=\"184\" y=\"-438.8\" font-family=\"Times,serif\" font-size=\"14.00\" fill=\"#000000\">gini = 0.014</text>\n<text text-anchor=\"middle\" x=\"184\" y=\"-423.8\" font-family=\"Times,serif\" font-size=\"14.00\" fill=\"#000000\">samples = 139</text>\n<text text-anchor=\"middle\" x=\"184\" y=\"-408.8\" font-family=\"Times,serif\" font-size=\"14.00\" fill=\"#000000\">value = [138, 1]</text>\n</g>\n<!-- 3&#45;&gt;4 -->\n<g id=\"edge4\" class=\"edge\">\n<title>3&#45;&gt;4</title>\n<path fill=\"none\" stroke=\"#000000\" d=\"M298.8059,-505.2342C282.7067,-495.3853 264.9742,-484.5372 248.3612,-474.3739\"/>\n<polygon fill=\"#000000\" stroke=\"#000000\" points=\"250.1472,-471.3635 239.7903,-469.1306 246.4942,-477.3348 250.1472,-471.3635\"/>\n</g>\n<!-- 11 -->\n<g id=\"node12\" class=\"node\">\n<title>11</title>\n<polygon fill=\"none\" stroke=\"#000000\" points=\"428,-469 280,-469 280,-401 428,-401 428,-469\"/>\n<text text-anchor=\"middle\" x=\"354\" y=\"-453.8\" font-family=\"Times,serif\" font-size=\"14.00\" fill=\"#000000\">TOEFL Score &lt;= 99.5</text>\n<text text-anchor=\"middle\" x=\"354\" y=\"-438.8\" font-family=\"Times,serif\" font-size=\"14.00\" fill=\"#000000\">gini = 0.198</text>\n<text text-anchor=\"middle\" x=\"354\" y=\"-423.8\" font-family=\"Times,serif\" font-size=\"14.00\" fill=\"#000000\">samples = 9</text>\n<text text-anchor=\"middle\" x=\"354\" y=\"-408.8\" font-family=\"Times,serif\" font-size=\"14.00\" fill=\"#000000\">value = [8, 1]</text>\n</g>\n<!-- 3&#45;&gt;11 -->\n<g id=\"edge11\" class=\"edge\">\n<title>3&#45;&gt;11</title>\n<path fill=\"none\" stroke=\"#000000\" d=\"M354,-504.9465C354,-496.776 354,-487.9318 354,-479.3697\"/>\n<polygon fill=\"#000000\" stroke=\"#000000\" points=\"357.5001,-479.13 354,-469.13 350.5001,-479.13 357.5001,-479.13\"/>\n</g>\n<!-- 5 -->\n<g id=\"node6\" class=\"node\">\n<title>5</title>\n<polygon fill=\"none\" stroke=\"#000000\" points=\"110,-357.5 0,-357.5 0,-304.5 110,-304.5 110,-357.5\"/>\n<text text-anchor=\"middle\" x=\"55\" y=\"-342.3\" font-family=\"Times,serif\" font-size=\"14.00\" fill=\"#000000\">gini = 0.0</text>\n<text text-anchor=\"middle\" x=\"55\" y=\"-327.3\" font-family=\"Times,serif\" font-size=\"14.00\" fill=\"#000000\">samples = 124</text>\n<text text-anchor=\"middle\" x=\"55\" y=\"-312.3\" font-family=\"Times,serif\" font-size=\"14.00\" fill=\"#000000\">value = [124, 0]</text>\n</g>\n<!-- 4&#45;&gt;5 -->\n<g id=\"edge5\" class=\"edge\">\n<title>4&#45;&gt;5</title>\n<path fill=\"none\" stroke=\"#000000\" d=\"M141.7606,-400.9465C127.0048,-389.0504 110.4775,-375.726 95.838,-363.9237\"/>\n<polygon fill=\"#000000\" stroke=\"#000000\" points=\"97.9043,-361.0938 87.9225,-357.5422 93.5109,-366.5433 97.9043,-361.0938\"/>\n</g>\n<!-- 6 -->\n<g id=\"node7\" class=\"node\">\n<title>6</title>\n<polygon fill=\"none\" stroke=\"#000000\" points=\"260,-365 128,-365 128,-297 260,-297 260,-365\"/>\n<text text-anchor=\"middle\" x=\"194\" y=\"-349.8\" font-family=\"Times,serif\" font-size=\"14.00\" fill=\"#000000\">Serial No. &lt;= 174.0</text>\n<text text-anchor=\"middle\" x=\"194\" y=\"-334.8\" font-family=\"Times,serif\" font-size=\"14.00\" fill=\"#000000\">gini = 0.124</text>\n<text text-anchor=\"middle\" x=\"194\" y=\"-319.8\" font-family=\"Times,serif\" font-size=\"14.00\" fill=\"#000000\">samples = 15</text>\n<text text-anchor=\"middle\" x=\"194\" y=\"-304.8\" font-family=\"Times,serif\" font-size=\"14.00\" fill=\"#000000\">value = [14, 1]</text>\n</g>\n<!-- 4&#45;&gt;6 -->\n<g id=\"edge6\" class=\"edge\">\n<title>4&#45;&gt;6</title>\n<path fill=\"none\" stroke=\"#000000\" d=\"M187.2744,-400.9465C188.0686,-392.6863 188.9291,-383.7374 189.7608,-375.0875\"/>\n<polygon fill=\"#000000\" stroke=\"#000000\" points=\"193.245,-375.4191 190.7183,-365.13 186.2771,-374.7491 193.245,-375.4191\"/>\n</g>\n<!-- 7 -->\n<g id=\"node8\" class=\"node\">\n<title>7</title>\n<polygon fill=\"none\" stroke=\"#000000\" points=\"194,-261 62,-261 62,-193 194,-193 194,-261\"/>\n<text text-anchor=\"middle\" x=\"128\" y=\"-245.8\" font-family=\"Times,serif\" font-size=\"14.00\" fill=\"#000000\">Serial No. &lt;= 137.5</text>\n<text text-anchor=\"middle\" x=\"128\" y=\"-230.8\" font-family=\"Times,serif\" font-size=\"14.00\" fill=\"#000000\">gini = 0.278</text>\n<text text-anchor=\"middle\" x=\"128\" y=\"-215.8\" font-family=\"Times,serif\" font-size=\"14.00\" fill=\"#000000\">samples = 6</text>\n<text text-anchor=\"middle\" x=\"128\" y=\"-200.8\" font-family=\"Times,serif\" font-size=\"14.00\" fill=\"#000000\">value = [5, 1]</text>\n</g>\n<!-- 6&#45;&gt;7 -->\n<g id=\"edge7\" class=\"edge\">\n<title>6&#45;&gt;7</title>\n<path fill=\"none\" stroke=\"#000000\" d=\"M172.3891,-296.9465C166.8622,-288.2373 160.8494,-278.7626 155.0854,-269.6801\"/>\n<polygon fill=\"#000000\" stroke=\"#000000\" points=\"157.9729,-267.6979 149.6594,-261.13 152.0626,-271.4487 157.9729,-267.6979\"/>\n</g>\n<!-- 10 -->\n<g id=\"node11\" class=\"node\">\n<title>10</title>\n<polygon fill=\"none\" stroke=\"#000000\" points=\"307.5,-253.5 212.5,-253.5 212.5,-200.5 307.5,-200.5 307.5,-253.5\"/>\n<text text-anchor=\"middle\" x=\"260\" y=\"-238.3\" font-family=\"Times,serif\" font-size=\"14.00\" fill=\"#000000\">gini = 0.0</text>\n<text text-anchor=\"middle\" x=\"260\" y=\"-223.3\" font-family=\"Times,serif\" font-size=\"14.00\" fill=\"#000000\">samples = 9</text>\n<text text-anchor=\"middle\" x=\"260\" y=\"-208.3\" font-family=\"Times,serif\" font-size=\"14.00\" fill=\"#000000\">value = [9, 0]</text>\n</g>\n<!-- 6&#45;&gt;10 -->\n<g id=\"edge10\" class=\"edge\">\n<title>6&#45;&gt;10</title>\n<path fill=\"none\" stroke=\"#000000\" d=\"M215.6109,-296.9465C222.671,-285.8215 230.5239,-273.4473 237.6381,-262.237\"/>\n<polygon fill=\"#000000\" stroke=\"#000000\" points=\"240.7528,-263.8609 243.1559,-253.5422 234.8425,-260.1101 240.7528,-263.8609\"/>\n</g>\n<!-- 8 -->\n<g id=\"node9\" class=\"node\">\n<title>8</title>\n<polygon fill=\"none\" stroke=\"#000000\" points=\"119.5,-149.5 24.5,-149.5 24.5,-96.5 119.5,-96.5 119.5,-149.5\"/>\n<text text-anchor=\"middle\" x=\"72\" y=\"-134.3\" font-family=\"Times,serif\" font-size=\"14.00\" fill=\"#000000\">gini = 0.0</text>\n<text text-anchor=\"middle\" x=\"72\" y=\"-119.3\" font-family=\"Times,serif\" font-size=\"14.00\" fill=\"#000000\">samples = 5</text>\n<text text-anchor=\"middle\" x=\"72\" y=\"-104.3\" font-family=\"Times,serif\" font-size=\"14.00\" fill=\"#000000\">value = [5, 0]</text>\n</g>\n<!-- 7&#45;&gt;8 -->\n<g id=\"edge8\" class=\"edge\">\n<title>7&#45;&gt;8</title>\n<path fill=\"none\" stroke=\"#000000\" d=\"M109.6635,-192.9465C103.7324,-181.9316 97.1419,-169.6922 91.1532,-158.5703\"/>\n<polygon fill=\"#000000\" stroke=\"#000000\" points=\"94.1146,-156.6875 86.2919,-149.5422 87.9513,-160.0063 94.1146,-156.6875\"/>\n</g>\n<!-- 9 -->\n<g id=\"node10\" class=\"node\">\n<title>9</title>\n<polygon fill=\"none\" stroke=\"#000000\" points=\"232.5,-149.5 137.5,-149.5 137.5,-96.5 232.5,-96.5 232.5,-149.5\"/>\n<text text-anchor=\"middle\" x=\"185\" y=\"-134.3\" font-family=\"Times,serif\" font-size=\"14.00\" fill=\"#000000\">gini = 0.0</text>\n<text text-anchor=\"middle\" x=\"185\" y=\"-119.3\" font-family=\"Times,serif\" font-size=\"14.00\" fill=\"#000000\">samples = 1</text>\n<text text-anchor=\"middle\" x=\"185\" y=\"-104.3\" font-family=\"Times,serif\" font-size=\"14.00\" fill=\"#000000\">value = [0, 1]</text>\n</g>\n<!-- 7&#45;&gt;9 -->\n<g id=\"edge9\" class=\"edge\">\n<title>7&#45;&gt;9</title>\n<path fill=\"none\" stroke=\"#000000\" d=\"M146.6639,-192.9465C152.7009,-181.9316 159.4091,-169.6922 165.5047,-158.5703\"/>\n<polygon fill=\"#000000\" stroke=\"#000000\" points=\"168.7158,-159.9936 170.4529,-149.5422 162.5773,-156.6292 168.7158,-159.9936\"/>\n</g>\n<!-- 12 -->\n<g id=\"node13\" class=\"node\">\n<title>12</title>\n<polygon fill=\"none\" stroke=\"#000000\" points=\"392.5,-357.5 297.5,-357.5 297.5,-304.5 392.5,-304.5 392.5,-357.5\"/>\n<text text-anchor=\"middle\" x=\"345\" y=\"-342.3\" font-family=\"Times,serif\" font-size=\"14.00\" fill=\"#000000\">gini = 0.0</text>\n<text text-anchor=\"middle\" x=\"345\" y=\"-327.3\" font-family=\"Times,serif\" font-size=\"14.00\" fill=\"#000000\">samples = 1</text>\n<text text-anchor=\"middle\" x=\"345\" y=\"-312.3\" font-family=\"Times,serif\" font-size=\"14.00\" fill=\"#000000\">value = [0, 1]</text>\n</g>\n<!-- 11&#45;&gt;12 -->\n<g id=\"edge12\" class=\"edge\">\n<title>11&#45;&gt;12</title>\n<path fill=\"none\" stroke=\"#000000\" d=\"M351.0531,-400.9465C350.1284,-390.2621 349.1041,-378.4254 348.1651,-367.5742\"/>\n<polygon fill=\"#000000\" stroke=\"#000000\" points=\"351.6461,-367.2031 347.2969,-357.5422 344.6722,-367.8067 351.6461,-367.2031\"/>\n</g>\n<!-- 13 -->\n<g id=\"node14\" class=\"node\">\n<title>13</title>\n<polygon fill=\"none\" stroke=\"#000000\" points=\"505.5,-357.5 410.5,-357.5 410.5,-304.5 505.5,-304.5 505.5,-357.5\"/>\n<text text-anchor=\"middle\" x=\"458\" y=\"-342.3\" font-family=\"Times,serif\" font-size=\"14.00\" fill=\"#000000\">gini = 0.0</text>\n<text text-anchor=\"middle\" x=\"458\" y=\"-327.3\" font-family=\"Times,serif\" font-size=\"14.00\" fill=\"#000000\">samples = 8</text>\n<text text-anchor=\"middle\" x=\"458\" y=\"-312.3\" font-family=\"Times,serif\" font-size=\"14.00\" fill=\"#000000\">value = [8, 0]</text>\n</g>\n<!-- 11&#45;&gt;13 -->\n<g id=\"edge13\" class=\"edge\">\n<title>11&#45;&gt;13</title>\n<path fill=\"none\" stroke=\"#000000\" d=\"M388.0535,-400.9465C399.6191,-389.3809 412.5348,-376.4652 424.0893,-364.9107\"/>\n<polygon fill=\"#000000\" stroke=\"#000000\" points=\"426.8616,-367.0881 431.4578,-357.5422 421.9119,-362.1384 426.8616,-367.0881\"/>\n</g>\n<!-- 15 -->\n<g id=\"node16\" class=\"node\">\n<title>15</title>\n<polygon fill=\"none\" stroke=\"#000000\" points=\"541.5,-461.5 446.5,-461.5 446.5,-408.5 541.5,-408.5 541.5,-461.5\"/>\n<text text-anchor=\"middle\" x=\"494\" y=\"-446.3\" font-family=\"Times,serif\" font-size=\"14.00\" fill=\"#000000\">gini = 0.0</text>\n<text text-anchor=\"middle\" x=\"494\" y=\"-431.3\" font-family=\"Times,serif\" font-size=\"14.00\" fill=\"#000000\">samples = 3</text>\n<text text-anchor=\"middle\" x=\"494\" y=\"-416.3\" font-family=\"Times,serif\" font-size=\"14.00\" fill=\"#000000\">value = [3, 0]</text>\n</g>\n<!-- 14&#45;&gt;15 -->\n<g id=\"edge15\" class=\"edge\">\n<title>14&#45;&gt;15</title>\n<path fill=\"none\" stroke=\"#000000\" d=\"M533.0086,-504.9465C526.8657,-493.9316 520.0399,-481.6922 513.8373,-470.5703\"/>\n<polygon fill=\"#000000\" stroke=\"#000000\" points=\"516.7299,-468.5711 508.8024,-461.5422 510.6163,-471.9806 516.7299,-468.5711\"/>\n</g>\n<!-- 16 -->\n<g id=\"node17\" class=\"node\">\n<title>16</title>\n<polygon fill=\"none\" stroke=\"#000000\" points=\"654.5,-461.5 559.5,-461.5 559.5,-408.5 654.5,-408.5 654.5,-461.5\"/>\n<text text-anchor=\"middle\" x=\"607\" y=\"-446.3\" font-family=\"Times,serif\" font-size=\"14.00\" fill=\"#000000\">gini = 0.0</text>\n<text text-anchor=\"middle\" x=\"607\" y=\"-431.3\" font-family=\"Times,serif\" font-size=\"14.00\" fill=\"#000000\">samples = 1</text>\n<text text-anchor=\"middle\" x=\"607\" y=\"-416.3\" font-family=\"Times,serif\" font-size=\"14.00\" fill=\"#000000\">value = [0, 1]</text>\n</g>\n<!-- 14&#45;&gt;16 -->\n<g id=\"edge16\" class=\"edge\">\n<title>14&#45;&gt;16</title>\n<path fill=\"none\" stroke=\"#000000\" d=\"M570.0091,-504.9465C575.8342,-493.9316 582.307,-481.6922 588.1888,-470.5703\"/>\n<polygon fill=\"#000000\" stroke=\"#000000\" points=\"591.3822,-472.0184 592.9633,-461.5422 585.1943,-468.7459 591.3822,-472.0184\"/>\n</g>\n<!-- 18 -->\n<g id=\"node19\" class=\"node\">\n<title>18</title>\n<polygon fill=\"none\" stroke=\"#000000\" points=\"879,-573 777,-573 777,-505 879,-505 879,-573\"/>\n<text text-anchor=\"middle\" x=\"828\" y=\"-557.8\" font-family=\"Times,serif\" font-size=\"14.00\" fill=\"#000000\">SOP &lt;= 4.25</text>\n<text text-anchor=\"middle\" x=\"828\" y=\"-542.8\" font-family=\"Times,serif\" font-size=\"14.00\" fill=\"#000000\">gini = 0.185</text>\n<text text-anchor=\"middle\" x=\"828\" y=\"-527.8\" font-family=\"Times,serif\" font-size=\"14.00\" fill=\"#000000\">samples = 29</text>\n<text text-anchor=\"middle\" x=\"828\" y=\"-512.8\" font-family=\"Times,serif\" font-size=\"14.00\" fill=\"#000000\">value = [26, 3]</text>\n</g>\n<!-- 17&#45;&gt;18 -->\n<g id=\"edge18\" class=\"edge\">\n<title>17&#45;&gt;18</title>\n<path fill=\"none\" stroke=\"#000000\" d=\"M874.4068,-608.9465C868.6286,-600.2373 862.3425,-590.7626 856.3166,-581.6801\"/>\n<polygon fill=\"#000000\" stroke=\"#000000\" points=\"859.089,-579.5278 850.6439,-573.13 853.256,-583.3978 859.089,-579.5278\"/>\n</g>\n<!-- 31 -->\n<g id=\"node32\" class=\"node\">\n<title>31</title>\n<polygon fill=\"none\" stroke=\"#000000\" points=\"1037,-573 897,-573 897,-505 1037,-505 1037,-573\"/>\n<text text-anchor=\"middle\" x=\"967\" y=\"-557.8\" font-family=\"Times,serif\" font-size=\"14.00\" fill=\"#000000\">GRE Score &lt;= 315.5</text>\n<text text-anchor=\"middle\" x=\"967\" y=\"-542.8\" font-family=\"Times,serif\" font-size=\"14.00\" fill=\"#000000\">gini = 0.494</text>\n<text text-anchor=\"middle\" x=\"967\" y=\"-527.8\" font-family=\"Times,serif\" font-size=\"14.00\" fill=\"#000000\">samples = 9</text>\n<text text-anchor=\"middle\" x=\"967\" y=\"-512.8\" font-family=\"Times,serif\" font-size=\"14.00\" fill=\"#000000\">value = [4, 5]</text>\n</g>\n<!-- 17&#45;&gt;31 -->\n<g id=\"edge31\" class=\"edge\">\n<title>17&#45;&gt;31</title>\n<path fill=\"none\" stroke=\"#000000\" d=\"M919.9206,-608.9465C925.7826,-600.2373 932.1598,-590.7626 938.273,-581.6801\"/>\n<polygon fill=\"#000000\" stroke=\"#000000\" points=\"941.3476,-583.3802 944.0279,-573.13 935.5405,-579.4716 941.3476,-583.3802\"/>\n</g>\n<!-- 19 -->\n<g id=\"node20\" class=\"node\">\n<title>19</title>\n<polygon fill=\"none\" stroke=\"#000000\" points=\"775,-469 673,-469 673,-401 775,-401 775,-469\"/>\n<text text-anchor=\"middle\" x=\"724\" y=\"-453.8\" font-family=\"Times,serif\" font-size=\"14.00\" fill=\"#000000\">SOP &lt;= 2.25</text>\n<text text-anchor=\"middle\" x=\"724\" y=\"-438.8\" font-family=\"Times,serif\" font-size=\"14.00\" fill=\"#000000\">gini = 0.133</text>\n<text text-anchor=\"middle\" x=\"724\" y=\"-423.8\" font-family=\"Times,serif\" font-size=\"14.00\" fill=\"#000000\">samples = 28</text>\n<text text-anchor=\"middle\" x=\"724\" y=\"-408.8\" font-family=\"Times,serif\" font-size=\"14.00\" fill=\"#000000\">value = [26, 2]</text>\n</g>\n<!-- 18&#45;&gt;19 -->\n<g id=\"edge19\" class=\"edge\">\n<title>18&#45;&gt;19</title>\n<path fill=\"none\" stroke=\"#000000\" d=\"M793.9465,-504.9465C784.7884,-495.7884 774.7838,-485.7838 765.2788,-476.2788\"/>\n<polygon fill=\"#000000\" stroke=\"#000000\" points=\"767.676,-473.7262 758.13,-469.13 762.7262,-478.676 767.676,-473.7262\"/>\n</g>\n<!-- 30 -->\n<g id=\"node31\" class=\"node\">\n<title>30</title>\n<polygon fill=\"none\" stroke=\"#000000\" points=\"888.5,-461.5 793.5,-461.5 793.5,-408.5 888.5,-408.5 888.5,-461.5\"/>\n<text text-anchor=\"middle\" x=\"841\" y=\"-446.3\" font-family=\"Times,serif\" font-size=\"14.00\" fill=\"#000000\">gini = 0.0</text>\n<text text-anchor=\"middle\" x=\"841\" y=\"-431.3\" font-family=\"Times,serif\" font-size=\"14.00\" fill=\"#000000\">samples = 1</text>\n<text text-anchor=\"middle\" x=\"841\" y=\"-416.3\" font-family=\"Times,serif\" font-size=\"14.00\" fill=\"#000000\">value = [0, 1]</text>\n</g>\n<!-- 18&#45;&gt;30 -->\n<g id=\"edge30\" class=\"edge\">\n<title>18&#45;&gt;30</title>\n<path fill=\"none\" stroke=\"#000000\" d=\"M832.2567,-504.9465C833.5922,-494.2621 835.0718,-482.4254 836.4282,-471.5742\"/>\n<polygon fill=\"#000000\" stroke=\"#000000\" points=\"839.9148,-471.8991 837.6822,-461.5422 832.9688,-471.0308 839.9148,-471.8991\"/>\n</g>\n<!-- 20 -->\n<g id=\"node21\" class=\"node\">\n<title>20</title>\n<polygon fill=\"none\" stroke=\"#000000\" points=\"708,-365 612,-365 612,-297 708,-297 708,-365\"/>\n<text text-anchor=\"middle\" x=\"660\" y=\"-349.8\" font-family=\"Times,serif\" font-size=\"14.00\" fill=\"#000000\">CGPA &lt;= 8.6</text>\n<text text-anchor=\"middle\" x=\"660\" y=\"-334.8\" font-family=\"Times,serif\" font-size=\"14.00\" fill=\"#000000\">gini = 0.5</text>\n<text text-anchor=\"middle\" x=\"660\" y=\"-319.8\" font-family=\"Times,serif\" font-size=\"14.00\" fill=\"#000000\">samples = 2</text>\n<text text-anchor=\"middle\" x=\"660\" y=\"-304.8\" font-family=\"Times,serif\" font-size=\"14.00\" fill=\"#000000\">value = [1, 1]</text>\n</g>\n<!-- 19&#45;&gt;20 -->\n<g id=\"edge20\" class=\"edge\">\n<title>19&#45;&gt;20</title>\n<path fill=\"none\" stroke=\"#000000\" d=\"M703.044,-400.9465C697.6845,-392.2373 691.8539,-382.7626 686.2647,-373.6801\"/>\n<polygon fill=\"#000000\" stroke=\"#000000\" points=\"689.2249,-371.8122 681.0031,-365.13 683.2633,-375.481 689.2249,-371.8122\"/>\n</g>\n<!-- 23 -->\n<g id=\"node24\" class=\"node\">\n<title>23</title>\n<polygon fill=\"none\" stroke=\"#000000\" points=\"866,-365 726,-365 726,-297 866,-297 866,-365\"/>\n<text text-anchor=\"middle\" x=\"796\" y=\"-349.8\" font-family=\"Times,serif\" font-size=\"14.00\" fill=\"#000000\">GRE Score &lt;= 307.5</text>\n<text text-anchor=\"middle\" x=\"796\" y=\"-334.8\" font-family=\"Times,serif\" font-size=\"14.00\" fill=\"#000000\">gini = 0.074</text>\n<text text-anchor=\"middle\" x=\"796\" y=\"-319.8\" font-family=\"Times,serif\" font-size=\"14.00\" fill=\"#000000\">samples = 26</text>\n<text text-anchor=\"middle\" x=\"796\" y=\"-304.8\" font-family=\"Times,serif\" font-size=\"14.00\" fill=\"#000000\">value = [25, 1]</text>\n</g>\n<!-- 19&#45;&gt;23 -->\n<g id=\"edge23\" class=\"edge\">\n<title>19&#45;&gt;23</title>\n<path fill=\"none\" stroke=\"#000000\" d=\"M747.5755,-400.9465C753.6671,-392.1475 760.2996,-382.5672 766.6466,-373.3993\"/>\n<polygon fill=\"#000000\" stroke=\"#000000\" points=\"769.5571,-375.3442 772.3715,-365.13 763.8017,-371.3597 769.5571,-375.3442\"/>\n</g>\n<!-- 21 -->\n<g id=\"node22\" class=\"node\">\n<title>21</title>\n<polygon fill=\"none\" stroke=\"#000000\" points=\"594.5,-253.5 499.5,-253.5 499.5,-200.5 594.5,-200.5 594.5,-253.5\"/>\n<text text-anchor=\"middle\" x=\"547\" y=\"-238.3\" font-family=\"Times,serif\" font-size=\"14.00\" fill=\"#000000\">gini = 0.0</text>\n<text text-anchor=\"middle\" x=\"547\" y=\"-223.3\" font-family=\"Times,serif\" font-size=\"14.00\" fill=\"#000000\">samples = 1</text>\n<text text-anchor=\"middle\" x=\"547\" y=\"-208.3\" font-family=\"Times,serif\" font-size=\"14.00\" fill=\"#000000\">value = [1, 0]</text>\n</g>\n<!-- 20&#45;&gt;21 -->\n<g id=\"edge21\" class=\"edge\">\n<title>20&#45;&gt;21</title>\n<path fill=\"none\" stroke=\"#000000\" d=\"M622.9996,-296.9465C610.3134,-285.2707 596.1322,-272.219 583.487,-260.5809\"/>\n<polygon fill=\"#000000\" stroke=\"#000000\" points=\"585.5673,-257.7389 575.8391,-253.5422 580.8269,-262.8895 585.5673,-257.7389\"/>\n</g>\n<!-- 22 -->\n<g id=\"node23\" class=\"node\">\n<title>22</title>\n<polygon fill=\"none\" stroke=\"#000000\" points=\"707.5,-253.5 612.5,-253.5 612.5,-200.5 707.5,-200.5 707.5,-253.5\"/>\n<text text-anchor=\"middle\" x=\"660\" y=\"-238.3\" font-family=\"Times,serif\" font-size=\"14.00\" fill=\"#000000\">gini = 0.0</text>\n<text text-anchor=\"middle\" x=\"660\" y=\"-223.3\" font-family=\"Times,serif\" font-size=\"14.00\" fill=\"#000000\">samples = 1</text>\n<text text-anchor=\"middle\" x=\"660\" y=\"-208.3\" font-family=\"Times,serif\" font-size=\"14.00\" fill=\"#000000\">value = [0, 1]</text>\n</g>\n<!-- 20&#45;&gt;22 -->\n<g id=\"edge22\" class=\"edge\">\n<title>20&#45;&gt;22</title>\n<path fill=\"none\" stroke=\"#000000\" d=\"M660,-296.9465C660,-286.2621 660,-274.4254 660,-263.5742\"/>\n<polygon fill=\"#000000\" stroke=\"#000000\" points=\"663.5001,-263.5421 660,-253.5422 656.5001,-263.5422 663.5001,-263.5421\"/>\n</g>\n<!-- 24 -->\n<g id=\"node25\" class=\"node\">\n<title>24</title>\n<polygon fill=\"none\" stroke=\"#000000\" points=\"866,-261 726,-261 726,-193 866,-193 866,-261\"/>\n<text text-anchor=\"middle\" x=\"796\" y=\"-245.8\" font-family=\"Times,serif\" font-size=\"14.00\" fill=\"#000000\">GRE Score &lt;= 306.5</text>\n<text text-anchor=\"middle\" x=\"796\" y=\"-230.8\" font-family=\"Times,serif\" font-size=\"14.00\" fill=\"#000000\">gini = 0.278</text>\n<text text-anchor=\"middle\" x=\"796\" y=\"-215.8\" font-family=\"Times,serif\" font-size=\"14.00\" fill=\"#000000\">samples = 6</text>\n<text text-anchor=\"middle\" x=\"796\" y=\"-200.8\" font-family=\"Times,serif\" font-size=\"14.00\" fill=\"#000000\">value = [5, 1]</text>\n</g>\n<!-- 23&#45;&gt;24 -->\n<g id=\"edge24\" class=\"edge\">\n<title>23&#45;&gt;24</title>\n<path fill=\"none\" stroke=\"#000000\" d=\"M796,-296.9465C796,-288.776 796,-279.9318 796,-271.3697\"/>\n<polygon fill=\"#000000\" stroke=\"#000000\" points=\"799.5001,-271.13 796,-261.13 792.5001,-271.13 799.5001,-271.13\"/>\n</g>\n<!-- 29 -->\n<g id=\"node30\" class=\"node\">\n<title>29</title>\n<polygon fill=\"none\" stroke=\"#000000\" points=\"986,-253.5 884,-253.5 884,-200.5 986,-200.5 986,-253.5\"/>\n<text text-anchor=\"middle\" x=\"935\" y=\"-238.3\" font-family=\"Times,serif\" font-size=\"14.00\" fill=\"#000000\">gini = 0.0</text>\n<text text-anchor=\"middle\" x=\"935\" y=\"-223.3\" font-family=\"Times,serif\" font-size=\"14.00\" fill=\"#000000\">samples = 20</text>\n<text text-anchor=\"middle\" x=\"935\" y=\"-208.3\" font-family=\"Times,serif\" font-size=\"14.00\" fill=\"#000000\">value = [20, 0]</text>\n</g>\n<!-- 23&#45;&gt;29 -->\n<g id=\"edge29\" class=\"edge\">\n<title>23&#45;&gt;29</title>\n<path fill=\"none\" stroke=\"#000000\" d=\"M841.5138,-296.9465C857.5606,-284.9403 875.5519,-271.4791 891.4339,-259.5962\"/>\n<polygon fill=\"#000000\" stroke=\"#000000\" points=\"893.6152,-262.3354 899.5254,-253.5422 889.4217,-256.7306 893.6152,-262.3354\"/>\n</g>\n<!-- 25 -->\n<g id=\"node26\" class=\"node\">\n<title>25</title>\n<polygon fill=\"none\" stroke=\"#000000\" points=\"778.5,-149.5 683.5,-149.5 683.5,-96.5 778.5,-96.5 778.5,-149.5\"/>\n<text text-anchor=\"middle\" x=\"731\" y=\"-134.3\" font-family=\"Times,serif\" font-size=\"14.00\" fill=\"#000000\">gini = 0.0</text>\n<text text-anchor=\"middle\" x=\"731\" y=\"-119.3\" font-family=\"Times,serif\" font-size=\"14.00\" fill=\"#000000\">samples = 4</text>\n<text text-anchor=\"middle\" x=\"731\" y=\"-104.3\" font-family=\"Times,serif\" font-size=\"14.00\" fill=\"#000000\">value = [4, 0]</text>\n</g>\n<!-- 24&#45;&gt;25 -->\n<g id=\"edge25\" class=\"edge\">\n<title>24&#45;&gt;25</title>\n<path fill=\"none\" stroke=\"#000000\" d=\"M774.7166,-192.9465C767.7634,-181.8215 760.0295,-169.4473 753.0231,-158.237\"/>\n<polygon fill=\"#000000\" stroke=\"#000000\" points=\"755.8569,-156.1671 747.5889,-149.5422 749.9209,-159.8772 755.8569,-156.1671\"/>\n</g>\n<!-- 26 -->\n<g id=\"node27\" class=\"node\">\n<title>26</title>\n<polygon fill=\"none\" stroke=\"#000000\" points=\"927.5,-157 796.5,-157 796.5,-89 927.5,-89 927.5,-157\"/>\n<text text-anchor=\"middle\" x=\"862\" y=\"-141.8\" font-family=\"Times,serif\" font-size=\"14.00\" fill=\"#000000\">Serial No. &lt;= 118.0</text>\n<text text-anchor=\"middle\" x=\"862\" y=\"-126.8\" font-family=\"Times,serif\" font-size=\"14.00\" fill=\"#000000\">gini = 0.5</text>\n<text text-anchor=\"middle\" x=\"862\" y=\"-111.8\" font-family=\"Times,serif\" font-size=\"14.00\" fill=\"#000000\">samples = 2</text>\n<text text-anchor=\"middle\" x=\"862\" y=\"-96.8\" font-family=\"Times,serif\" font-size=\"14.00\" fill=\"#000000\">value = [1, 1]</text>\n</g>\n<!-- 24&#45;&gt;26 -->\n<g id=\"edge26\" class=\"edge\">\n<title>24&#45;&gt;26</title>\n<path fill=\"none\" stroke=\"#000000\" d=\"M817.6109,-192.9465C823.1378,-184.2373 829.1506,-174.7626 834.9146,-165.6801\"/>\n<polygon fill=\"#000000\" stroke=\"#000000\" points=\"837.9374,-167.4487 840.3406,-157.13 832.0271,-163.6979 837.9374,-167.4487\"/>\n</g>\n<!-- 27 -->\n<g id=\"node28\" class=\"node\">\n<title>27</title>\n<polygon fill=\"none\" stroke=\"#000000\" points=\"852.5,-53 757.5,-53 757.5,0 852.5,0 852.5,-53\"/>\n<text text-anchor=\"middle\" x=\"805\" y=\"-37.8\" font-family=\"Times,serif\" font-size=\"14.00\" fill=\"#000000\">gini = 0.0</text>\n<text text-anchor=\"middle\" x=\"805\" y=\"-22.8\" font-family=\"Times,serif\" font-size=\"14.00\" fill=\"#000000\">samples = 1</text>\n<text text-anchor=\"middle\" x=\"805\" y=\"-7.8\" font-family=\"Times,serif\" font-size=\"14.00\" fill=\"#000000\">value = [1, 0]</text>\n</g>\n<!-- 26&#45;&gt;27 -->\n<g id=\"edge27\" class=\"edge\">\n<title>26&#45;&gt;27</title>\n<path fill=\"none\" stroke=\"#000000\" d=\"M841.9039,-88.9777C836.7656,-80.2786 831.227,-70.9018 826.0425,-62.1247\"/>\n<polygon fill=\"#000000\" stroke=\"#000000\" points=\"828.899,-60.0786 820.7996,-53.2485 822.8719,-63.6387 828.899,-60.0786\"/>\n</g>\n<!-- 28 -->\n<g id=\"node29\" class=\"node\">\n<title>28</title>\n<polygon fill=\"none\" stroke=\"#000000\" points=\"965.5,-53 870.5,-53 870.5,0 965.5,0 965.5,-53\"/>\n<text text-anchor=\"middle\" x=\"918\" y=\"-37.8\" font-family=\"Times,serif\" font-size=\"14.00\" fill=\"#000000\">gini = 0.0</text>\n<text text-anchor=\"middle\" x=\"918\" y=\"-22.8\" font-family=\"Times,serif\" font-size=\"14.00\" fill=\"#000000\">samples = 1</text>\n<text text-anchor=\"middle\" x=\"918\" y=\"-7.8\" font-family=\"Times,serif\" font-size=\"14.00\" fill=\"#000000\">value = [0, 1]</text>\n</g>\n<!-- 26&#45;&gt;28 -->\n<g id=\"edge28\" class=\"edge\">\n<title>26&#45;&gt;28</title>\n<path fill=\"none\" stroke=\"#000000\" d=\"M881.7435,-88.9777C886.7917,-80.2786 892.2331,-70.9018 897.3266,-62.1247\"/>\n<polygon fill=\"#000000\" stroke=\"#000000\" points=\"900.4855,-63.6544 902.4776,-53.2485 894.4311,-60.1409 900.4855,-63.6544\"/>\n</g>\n<!-- 32 -->\n<g id=\"node33\" class=\"node\">\n<title>32</title>\n<polygon fill=\"none\" stroke=\"#000000\" points=\"1001.5,-461.5 906.5,-461.5 906.5,-408.5 1001.5,-408.5 1001.5,-461.5\"/>\n<text text-anchor=\"middle\" x=\"954\" y=\"-446.3\" font-family=\"Times,serif\" font-size=\"14.00\" fill=\"#000000\">gini = 0.0</text>\n<text text-anchor=\"middle\" x=\"954\" y=\"-431.3\" font-family=\"Times,serif\" font-size=\"14.00\" fill=\"#000000\">samples = 3</text>\n<text text-anchor=\"middle\" x=\"954\" y=\"-416.3\" font-family=\"Times,serif\" font-size=\"14.00\" fill=\"#000000\">value = [3, 0]</text>\n</g>\n<!-- 31&#45;&gt;32 -->\n<g id=\"edge32\" class=\"edge\">\n<title>31&#45;&gt;32</title>\n<path fill=\"none\" stroke=\"#000000\" d=\"M962.7433,-504.9465C961.4078,-494.2621 959.9282,-482.4254 958.5718,-471.5742\"/>\n<polygon fill=\"#000000\" stroke=\"#000000\" points=\"962.0312,-471.0308 957.3178,-461.5422 955.0852,-471.8991 962.0312,-471.0308\"/>\n</g>\n<!-- 33 -->\n<g id=\"node34\" class=\"node\">\n<title>33</title>\n<polygon fill=\"none\" stroke=\"#000000\" points=\"1130.5,-469 1019.5,-469 1019.5,-401 1130.5,-401 1130.5,-469\"/>\n<text text-anchor=\"middle\" x=\"1075\" y=\"-453.8\" font-family=\"Times,serif\" font-size=\"14.00\" fill=\"#000000\">CGPA &lt;= 8.395</text>\n<text text-anchor=\"middle\" x=\"1075\" y=\"-438.8\" font-family=\"Times,serif\" font-size=\"14.00\" fill=\"#000000\">gini = 0.278</text>\n<text text-anchor=\"middle\" x=\"1075\" y=\"-423.8\" font-family=\"Times,serif\" font-size=\"14.00\" fill=\"#000000\">samples = 6</text>\n<text text-anchor=\"middle\" x=\"1075\" y=\"-408.8\" font-family=\"Times,serif\" font-size=\"14.00\" fill=\"#000000\">value = [1, 5]</text>\n</g>\n<!-- 31&#45;&gt;33 -->\n<g id=\"edge33\" class=\"edge\">\n<title>31&#45;&gt;33</title>\n<path fill=\"none\" stroke=\"#000000\" d=\"M1002.3632,-504.9465C1011.8736,-495.7884 1022.263,-485.7838 1032.1335,-476.2788\"/>\n<polygon fill=\"#000000\" stroke=\"#000000\" points=\"1034.7818,-478.5876 1039.5573,-469.13 1029.9263,-473.5453 1034.7818,-478.5876\"/>\n</g>\n<!-- 34 -->\n<g id=\"node35\" class=\"node\">\n<title>34</title>\n<polygon fill=\"none\" stroke=\"#000000\" points=\"1009.5,-357.5 914.5,-357.5 914.5,-304.5 1009.5,-304.5 1009.5,-357.5\"/>\n<text text-anchor=\"middle\" x=\"962\" y=\"-342.3\" font-family=\"Times,serif\" font-size=\"14.00\" fill=\"#000000\">gini = 0.0</text>\n<text text-anchor=\"middle\" x=\"962\" y=\"-327.3\" font-family=\"Times,serif\" font-size=\"14.00\" fill=\"#000000\">samples = 1</text>\n<text text-anchor=\"middle\" x=\"962\" y=\"-312.3\" font-family=\"Times,serif\" font-size=\"14.00\" fill=\"#000000\">value = [1, 0]</text>\n</g>\n<!-- 33&#45;&gt;34 -->\n<g id=\"edge34\" class=\"edge\">\n<title>33&#45;&gt;34</title>\n<path fill=\"none\" stroke=\"#000000\" d=\"M1037.9996,-400.9465C1025.3134,-389.2707 1011.1322,-376.219 998.487,-364.5809\"/>\n<polygon fill=\"#000000\" stroke=\"#000000\" points=\"1000.5673,-361.7389 990.8391,-357.5422 995.8269,-366.8895 1000.5673,-361.7389\"/>\n</g>\n<!-- 35 -->\n<g id=\"node36\" class=\"node\">\n<title>35</title>\n<polygon fill=\"none\" stroke=\"#000000\" points=\"1122.5,-357.5 1027.5,-357.5 1027.5,-304.5 1122.5,-304.5 1122.5,-357.5\"/>\n<text text-anchor=\"middle\" x=\"1075\" y=\"-342.3\" font-family=\"Times,serif\" font-size=\"14.00\" fill=\"#000000\">gini = 0.0</text>\n<text text-anchor=\"middle\" x=\"1075\" y=\"-327.3\" font-family=\"Times,serif\" font-size=\"14.00\" fill=\"#000000\">samples = 5</text>\n<text text-anchor=\"middle\" x=\"1075\" y=\"-312.3\" font-family=\"Times,serif\" font-size=\"14.00\" fill=\"#000000\">value = [0, 5]</text>\n</g>\n<!-- 33&#45;&gt;35 -->\n<g id=\"edge35\" class=\"edge\">\n<title>33&#45;&gt;35</title>\n<path fill=\"none\" stroke=\"#000000\" d=\"M1075,-400.9465C1075,-390.2621 1075,-378.4254 1075,-367.5742\"/>\n<polygon fill=\"#000000\" stroke=\"#000000\" points=\"1078.5001,-367.5421 1075,-357.5422 1071.5001,-367.5422 1078.5001,-367.5421\"/>\n</g>\n<!-- 37 -->\n<g id=\"node38\" class=\"node\">\n<title>37</title>\n<polygon fill=\"none\" stroke=\"#000000\" points=\"1484,-677 1352,-677 1352,-609 1484,-609 1484,-677\"/>\n<text text-anchor=\"middle\" x=\"1418\" y=\"-661.8\" font-family=\"Times,serif\" font-size=\"14.00\" fill=\"#000000\">Serial No. &lt;= 281.5</text>\n<text text-anchor=\"middle\" x=\"1418\" y=\"-646.8\" font-family=\"Times,serif\" font-size=\"14.00\" fill=\"#000000\">gini = 0.488</text>\n<text text-anchor=\"middle\" x=\"1418\" y=\"-631.8\" font-family=\"Times,serif\" font-size=\"14.00\" fill=\"#000000\">samples = 38</text>\n<text text-anchor=\"middle\" x=\"1418\" y=\"-616.8\" font-family=\"Times,serif\" font-size=\"14.00\" fill=\"#000000\">value = [16, 22]</text>\n</g>\n<!-- 36&#45;&gt;37 -->\n<g id=\"edge37\" class=\"edge\">\n<title>36&#45;&gt;37</title>\n<path fill=\"none\" stroke=\"#000000\" d=\"M1418,-712.9465C1418,-704.776 1418,-695.9318 1418,-687.3697\"/>\n<polygon fill=\"#000000\" stroke=\"#000000\" points=\"1421.5001,-687.13 1418,-677.13 1414.5001,-687.13 1421.5001,-687.13\"/>\n</g>\n<!-- 58 -->\n<g id=\"node59\" class=\"node\">\n<title>58</title>\n<polygon fill=\"none\" stroke=\"#000000\" points=\"1873.5,-677 1764.5,-677 1764.5,-609 1873.5,-609 1873.5,-677\"/>\n<text text-anchor=\"middle\" x=\"1819\" y=\"-661.8\" font-family=\"Times,serif\" font-size=\"14.00\" fill=\"#000000\">SOP &lt;= 3.75</text>\n<text text-anchor=\"middle\" x=\"1819\" y=\"-646.8\" font-family=\"Times,serif\" font-size=\"14.00\" fill=\"#000000\">gini = 0.123</text>\n<text text-anchor=\"middle\" x=\"1819\" y=\"-631.8\" font-family=\"Times,serif\" font-size=\"14.00\" fill=\"#000000\">samples = 122</text>\n<text text-anchor=\"middle\" x=\"1819\" y=\"-616.8\" font-family=\"Times,serif\" font-size=\"14.00\" fill=\"#000000\">value = [8, 114]</text>\n</g>\n<!-- 36&#45;&gt;58 -->\n<g id=\"edge58\" class=\"edge\">\n<title>36&#45;&gt;58</title>\n<path fill=\"none\" stroke=\"#000000\" d=\"M1476.7383,-731.7661C1550.7515,-712.5707 1677.5307,-679.6903 1754.2683,-659.7883\"/>\n<polygon fill=\"#000000\" stroke=\"#000000\" points=\"1755.4914,-663.0869 1764.2925,-657.1885 1753.7341,-656.3111 1755.4914,-663.0869\"/>\n</g>\n<!-- 38 -->\n<g id=\"node39\" class=\"node\">\n<title>38</title>\n<polygon fill=\"none\" stroke=\"#000000\" points=\"1407,-573 1275,-573 1275,-505 1407,-505 1407,-573\"/>\n<text text-anchor=\"middle\" x=\"1341\" y=\"-557.8\" font-family=\"Times,serif\" font-size=\"14.00\" fill=\"#000000\">Serial No. &lt;= 226.0</text>\n<text text-anchor=\"middle\" x=\"1341\" y=\"-542.8\" font-family=\"Times,serif\" font-size=\"14.00\" fill=\"#000000\">gini = 0.49</text>\n<text text-anchor=\"middle\" x=\"1341\" y=\"-527.8\" font-family=\"Times,serif\" font-size=\"14.00\" fill=\"#000000\">samples = 21</text>\n<text text-anchor=\"middle\" x=\"1341\" y=\"-512.8\" font-family=\"Times,serif\" font-size=\"14.00\" fill=\"#000000\">value = [12, 9]</text>\n</g>\n<!-- 37&#45;&gt;38 -->\n<g id=\"edge38\" class=\"edge\">\n<title>37&#45;&gt;38</title>\n<path fill=\"none\" stroke=\"#000000\" d=\"M1392.7873,-608.9465C1386.2727,-600.1475 1379.1795,-590.5672 1372.3918,-581.3993\"/>\n<polygon fill=\"#000000\" stroke=\"#000000\" points=\"1375.0327,-579.0843 1366.2693,-573.13 1369.4069,-583.2496 1375.0327,-579.0843\"/>\n</g>\n<!-- 49 -->\n<g id=\"node50\" class=\"node\">\n<title>49</title>\n<polygon fill=\"none\" stroke=\"#000000\" points=\"1565,-573 1425,-573 1425,-505 1565,-505 1565,-573\"/>\n<text text-anchor=\"middle\" x=\"1495\" y=\"-557.8\" font-family=\"Times,serif\" font-size=\"14.00\" fill=\"#000000\">GRE Score &lt;= 321.5</text>\n<text text-anchor=\"middle\" x=\"1495\" y=\"-542.8\" font-family=\"Times,serif\" font-size=\"14.00\" fill=\"#000000\">gini = 0.36</text>\n<text text-anchor=\"middle\" x=\"1495\" y=\"-527.8\" font-family=\"Times,serif\" font-size=\"14.00\" fill=\"#000000\">samples = 17</text>\n<text text-anchor=\"middle\" x=\"1495\" y=\"-512.8\" font-family=\"Times,serif\" font-size=\"14.00\" fill=\"#000000\">value = [4, 13]</text>\n</g>\n<!-- 37&#45;&gt;49 -->\n<g id=\"edge49\" class=\"edge\">\n<title>37&#45;&gt;49</title>\n<path fill=\"none\" stroke=\"#000000\" d=\"M1443.2127,-608.9465C1449.7273,-600.1475 1456.8205,-590.5672 1463.6082,-581.3993\"/>\n<polygon fill=\"#000000\" stroke=\"#000000\" points=\"1466.5931,-583.2496 1469.7307,-573.13 1460.9673,-579.0843 1466.5931,-583.2496\"/>\n</g>\n<!-- 39 -->\n<g id=\"node40\" class=\"node\">\n<title>39</title>\n<polygon fill=\"none\" stroke=\"#000000\" points=\"1281,-469 1149,-469 1149,-401 1281,-401 1281,-469\"/>\n<text text-anchor=\"middle\" x=\"1215\" y=\"-453.8\" font-family=\"Times,serif\" font-size=\"14.00\" fill=\"#000000\">Serial No. &lt;= 124.0</text>\n<text text-anchor=\"middle\" x=\"1215\" y=\"-438.8\" font-family=\"Times,serif\" font-size=\"14.00\" fill=\"#000000\">gini = 0.48</text>\n<text text-anchor=\"middle\" x=\"1215\" y=\"-423.8\" font-family=\"Times,serif\" font-size=\"14.00\" fill=\"#000000\">samples = 15</text>\n<text text-anchor=\"middle\" x=\"1215\" y=\"-408.8\" font-family=\"Times,serif\" font-size=\"14.00\" fill=\"#000000\">value = [6, 9]</text>\n</g>\n<!-- 38&#45;&gt;39 -->\n<g id=\"edge39\" class=\"edge\">\n<title>38&#45;&gt;39</title>\n<path fill=\"none\" stroke=\"#000000\" d=\"M1299.7429,-504.9465C1288.4299,-495.6088 1276.0508,-485.3911 1264.3342,-475.7203\"/>\n<polygon fill=\"#000000\" stroke=\"#000000\" points=\"1266.29,-472.7964 1256.3498,-469.13 1261.8341,-478.195 1266.29,-472.7964\"/>\n</g>\n<!-- 48 -->\n<g id=\"node49\" class=\"node\">\n<title>48</title>\n<polygon fill=\"none\" stroke=\"#000000\" points=\"1394.5,-461.5 1299.5,-461.5 1299.5,-408.5 1394.5,-408.5 1394.5,-461.5\"/>\n<text text-anchor=\"middle\" x=\"1347\" y=\"-446.3\" font-family=\"Times,serif\" font-size=\"14.00\" fill=\"#000000\">gini = 0.0</text>\n<text text-anchor=\"middle\" x=\"1347\" y=\"-431.3\" font-family=\"Times,serif\" font-size=\"14.00\" fill=\"#000000\">samples = 6</text>\n<text text-anchor=\"middle\" x=\"1347\" y=\"-416.3\" font-family=\"Times,serif\" font-size=\"14.00\" fill=\"#000000\">value = [6, 0]</text>\n</g>\n<!-- 38&#45;&gt;48 -->\n<g id=\"edge48\" class=\"edge\">\n<title>38&#45;&gt;48</title>\n<path fill=\"none\" stroke=\"#000000\" d=\"M1342.9646,-504.9465C1343.581,-494.2621 1344.2639,-482.4254 1344.8899,-471.5742\"/>\n<polygon fill=\"#000000\" stroke=\"#000000\" points=\"1348.3869,-471.7272 1345.4687,-461.5422 1341.3985,-471.3239 1348.3869,-471.7272\"/>\n</g>\n<!-- 40 -->\n<g id=\"node41\" class=\"node\">\n<title>40</title>\n<polygon fill=\"none\" stroke=\"#000000\" points=\"1256.5,-365 1145.5,-365 1145.5,-297 1256.5,-297 1256.5,-365\"/>\n<text text-anchor=\"middle\" x=\"1201\" y=\"-349.8\" font-family=\"Times,serif\" font-size=\"14.00\" fill=\"#000000\">CGPA &lt;= 8.685</text>\n<text text-anchor=\"middle\" x=\"1201\" y=\"-334.8\" font-family=\"Times,serif\" font-size=\"14.00\" fill=\"#000000\">gini = 0.444</text>\n<text text-anchor=\"middle\" x=\"1201\" y=\"-319.8\" font-family=\"Times,serif\" font-size=\"14.00\" fill=\"#000000\">samples = 9</text>\n<text text-anchor=\"middle\" x=\"1201\" y=\"-304.8\" font-family=\"Times,serif\" font-size=\"14.00\" fill=\"#000000\">value = [6, 3]</text>\n</g>\n<!-- 39&#45;&gt;40 -->\n<g id=\"edge40\" class=\"edge\">\n<title>39&#45;&gt;40</title>\n<path fill=\"none\" stroke=\"#000000\" d=\"M1210.4159,-400.9465C1209.3039,-392.6863 1208.0993,-383.7374 1206.9349,-375.0875\"/>\n<polygon fill=\"#000000\" stroke=\"#000000\" points=\"1210.3973,-374.5736 1205.5944,-365.13 1203.4599,-375.5076 1210.3973,-374.5736\"/>\n</g>\n<!-- 47 -->\n<g id=\"node48\" class=\"node\">\n<title>47</title>\n<polygon fill=\"none\" stroke=\"#000000\" points=\"1369.5,-357.5 1274.5,-357.5 1274.5,-304.5 1369.5,-304.5 1369.5,-357.5\"/>\n<text text-anchor=\"middle\" x=\"1322\" y=\"-342.3\" font-family=\"Times,serif\" font-size=\"14.00\" fill=\"#000000\">gini = 0.0</text>\n<text text-anchor=\"middle\" x=\"1322\" y=\"-327.3\" font-family=\"Times,serif\" font-size=\"14.00\" fill=\"#000000\">samples = 6</text>\n<text text-anchor=\"middle\" x=\"1322\" y=\"-312.3\" font-family=\"Times,serif\" font-size=\"14.00\" fill=\"#000000\">value = [0, 6]</text>\n</g>\n<!-- 39&#45;&gt;47 -->\n<g id=\"edge47\" class=\"edge\">\n<title>39&#45;&gt;47</title>\n<path fill=\"none\" stroke=\"#000000\" d=\"M1250.0358,-400.9465C1262.0484,-389.2707 1275.4766,-376.219 1287.4504,-364.5809\"/>\n<polygon fill=\"#000000\" stroke=\"#000000\" points=\"1289.9607,-367.0218 1294.6922,-357.5422 1285.0818,-362.0022 1289.9607,-367.0218\"/>\n</g>\n<!-- 41 -->\n<g id=\"node42\" class=\"node\">\n<title>41</title>\n<polygon fill=\"none\" stroke=\"#000000\" points=\"1128.5,-253.5 1033.5,-253.5 1033.5,-200.5 1128.5,-200.5 1128.5,-253.5\"/>\n<text text-anchor=\"middle\" x=\"1081\" y=\"-238.3\" font-family=\"Times,serif\" font-size=\"14.00\" fill=\"#000000\">gini = 0.0</text>\n<text text-anchor=\"middle\" x=\"1081\" y=\"-223.3\" font-family=\"Times,serif\" font-size=\"14.00\" fill=\"#000000\">samples = 2</text>\n<text text-anchor=\"middle\" x=\"1081\" y=\"-208.3\" font-family=\"Times,serif\" font-size=\"14.00\" fill=\"#000000\">value = [0, 2]</text>\n</g>\n<!-- 40&#45;&gt;41 -->\n<g id=\"edge41\" class=\"edge\">\n<title>40&#45;&gt;41</title>\n<path fill=\"none\" stroke=\"#000000\" d=\"M1161.7075,-296.9465C1148.1083,-285.1606 1132.8915,-271.9726 1119.3676,-260.2519\"/>\n<polygon fill=\"#000000\" stroke=\"#000000\" points=\"1121.4748,-257.4466 1111.6256,-253.5422 1116.8902,-262.7364 1121.4748,-257.4466\"/>\n</g>\n<!-- 42 -->\n<g id=\"node43\" class=\"node\">\n<title>42</title>\n<polygon fill=\"none\" stroke=\"#000000\" points=\"1307.5,-261 1146.5,-261 1146.5,-193 1307.5,-193 1307.5,-261\"/>\n<text text-anchor=\"middle\" x=\"1227\" y=\"-245.8\" font-family=\"Times,serif\" font-size=\"14.00\" fill=\"#000000\">University Rating &lt;= 4.5</text>\n<text text-anchor=\"middle\" x=\"1227\" y=\"-230.8\" font-family=\"Times,serif\" font-size=\"14.00\" fill=\"#000000\">gini = 0.245</text>\n<text text-anchor=\"middle\" x=\"1227\" y=\"-215.8\" font-family=\"Times,serif\" font-size=\"14.00\" fill=\"#000000\">samples = 7</text>\n<text text-anchor=\"middle\" x=\"1227\" y=\"-200.8\" font-family=\"Times,serif\" font-size=\"14.00\" fill=\"#000000\">value = [6, 1]</text>\n</g>\n<!-- 40&#45;&gt;42 -->\n<g id=\"edge42\" class=\"edge\">\n<title>40&#45;&gt;42</title>\n<path fill=\"none\" stroke=\"#000000\" d=\"M1209.5134,-296.9465C1211.5784,-288.6863 1213.8157,-279.7374 1215.9781,-271.0875\"/>\n<polygon fill=\"#000000\" stroke=\"#000000\" points=\"1219.4376,-271.6803 1218.4675,-261.13 1212.6466,-269.9825 1219.4376,-271.6803\"/>\n</g>\n<!-- 43 -->\n<g id=\"node44\" class=\"node\">\n<title>43</title>\n<polygon fill=\"none\" stroke=\"#000000\" points=\"1207.5,-149.5 1112.5,-149.5 1112.5,-96.5 1207.5,-96.5 1207.5,-149.5\"/>\n<text text-anchor=\"middle\" x=\"1160\" y=\"-134.3\" font-family=\"Times,serif\" font-size=\"14.00\" fill=\"#000000\">gini = 0.0</text>\n<text text-anchor=\"middle\" x=\"1160\" y=\"-119.3\" font-family=\"Times,serif\" font-size=\"14.00\" fill=\"#000000\">samples = 5</text>\n<text text-anchor=\"middle\" x=\"1160\" y=\"-104.3\" font-family=\"Times,serif\" font-size=\"14.00\" fill=\"#000000\">value = [5, 0]</text>\n</g>\n<!-- 42&#45;&gt;43 -->\n<g id=\"edge43\" class=\"edge\">\n<title>42&#45;&gt;43</title>\n<path fill=\"none\" stroke=\"#000000\" d=\"M1205.0617,-192.9465C1197.8946,-181.8215 1189.9227,-169.4473 1182.7007,-158.237\"/>\n<polygon fill=\"#000000\" stroke=\"#000000\" points=\"1185.4574,-156.0532 1177.0993,-149.5422 1179.5728,-159.8442 1185.4574,-156.0532\"/>\n</g>\n<!-- 44 -->\n<g id=\"node45\" class=\"node\">\n<title>44</title>\n<polygon fill=\"none\" stroke=\"#000000\" points=\"1336,-157 1226,-157 1226,-89 1336,-89 1336,-157\"/>\n<text text-anchor=\"middle\" x=\"1281\" y=\"-141.8\" font-family=\"Times,serif\" font-size=\"14.00\" fill=\"#000000\">Research &lt;= 0.5</text>\n<text text-anchor=\"middle\" x=\"1281\" y=\"-126.8\" font-family=\"Times,serif\" font-size=\"14.00\" fill=\"#000000\">gini = 0.5</text>\n<text text-anchor=\"middle\" x=\"1281\" y=\"-111.8\" font-family=\"Times,serif\" font-size=\"14.00\" fill=\"#000000\">samples = 2</text>\n<text text-anchor=\"middle\" x=\"1281\" y=\"-96.8\" font-family=\"Times,serif\" font-size=\"14.00\" fill=\"#000000\">value = [1, 1]</text>\n</g>\n<!-- 42&#45;&gt;44 -->\n<g id=\"edge44\" class=\"edge\">\n<title>42&#45;&gt;44</title>\n<path fill=\"none\" stroke=\"#000000\" d=\"M1244.6816,-192.9465C1249.1105,-184.4169 1253.9206,-175.153 1258.5472,-166.2424\"/>\n<polygon fill=\"#000000\" stroke=\"#000000\" points=\"1261.7767,-167.6178 1263.2787,-157.13 1255.5642,-164.3921 1261.7767,-167.6178\"/>\n</g>\n<!-- 45 -->\n<g id=\"node46\" class=\"node\">\n<title>45</title>\n<polygon fill=\"none\" stroke=\"#000000\" points=\"1271.5,-53 1176.5,-53 1176.5,0 1271.5,0 1271.5,-53\"/>\n<text text-anchor=\"middle\" x=\"1224\" y=\"-37.8\" font-family=\"Times,serif\" font-size=\"14.00\" fill=\"#000000\">gini = 0.0</text>\n<text text-anchor=\"middle\" x=\"1224\" y=\"-22.8\" font-family=\"Times,serif\" font-size=\"14.00\" fill=\"#000000\">samples = 1</text>\n<text text-anchor=\"middle\" x=\"1224\" y=\"-7.8\" font-family=\"Times,serif\" font-size=\"14.00\" fill=\"#000000\">value = [0, 1]</text>\n</g>\n<!-- 44&#45;&gt;45 -->\n<g id=\"edge45\" class=\"edge\">\n<title>44&#45;&gt;45</title>\n<path fill=\"none\" stroke=\"#000000\" d=\"M1260.9039,-88.9777C1255.7656,-80.2786 1250.227,-70.9018 1245.0425,-62.1247\"/>\n<polygon fill=\"#000000\" stroke=\"#000000\" points=\"1247.899,-60.0786 1239.7996,-53.2485 1241.8719,-63.6387 1247.899,-60.0786\"/>\n</g>\n<!-- 46 -->\n<g id=\"node47\" class=\"node\">\n<title>46</title>\n<polygon fill=\"none\" stroke=\"#000000\" points=\"1384.5,-53 1289.5,-53 1289.5,0 1384.5,0 1384.5,-53\"/>\n<text text-anchor=\"middle\" x=\"1337\" y=\"-37.8\" font-family=\"Times,serif\" font-size=\"14.00\" fill=\"#000000\">gini = 0.0</text>\n<text text-anchor=\"middle\" x=\"1337\" y=\"-22.8\" font-family=\"Times,serif\" font-size=\"14.00\" fill=\"#000000\">samples = 1</text>\n<text text-anchor=\"middle\" x=\"1337\" y=\"-7.8\" font-family=\"Times,serif\" font-size=\"14.00\" fill=\"#000000\">value = [1, 0]</text>\n</g>\n<!-- 44&#45;&gt;46 -->\n<g id=\"edge46\" class=\"edge\">\n<title>44&#45;&gt;46</title>\n<path fill=\"none\" stroke=\"#000000\" d=\"M1300.7435,-88.9777C1305.7917,-80.2786 1311.2331,-70.9018 1316.3266,-62.1247\"/>\n<polygon fill=\"#000000\" stroke=\"#000000\" points=\"1319.4855,-63.6544 1321.4776,-53.2485 1313.4311,-60.1409 1319.4855,-63.6544\"/>\n</g>\n<!-- 50 -->\n<g id=\"node51\" class=\"node\">\n<title>50</title>\n<polygon fill=\"none\" stroke=\"#000000\" points=\"1567.5,-469 1412.5,-469 1412.5,-401 1567.5,-401 1567.5,-469\"/>\n<text text-anchor=\"middle\" x=\"1490\" y=\"-453.8\" font-family=\"Times,serif\" font-size=\"14.00\" fill=\"#000000\">TOEFL Score &lt;= 108.0</text>\n<text text-anchor=\"middle\" x=\"1490\" y=\"-438.8\" font-family=\"Times,serif\" font-size=\"14.00\" fill=\"#000000\">gini = 0.494</text>\n<text text-anchor=\"middle\" x=\"1490\" y=\"-423.8\" font-family=\"Times,serif\" font-size=\"14.00\" fill=\"#000000\">samples = 9</text>\n<text text-anchor=\"middle\" x=\"1490\" y=\"-408.8\" font-family=\"Times,serif\" font-size=\"14.00\" fill=\"#000000\">value = [4, 5]</text>\n</g>\n<!-- 49&#45;&gt;50 -->\n<g id=\"edge50\" class=\"edge\">\n<title>49&#45;&gt;50</title>\n<path fill=\"none\" stroke=\"#000000\" d=\"M1493.3628,-504.9465C1492.97,-496.776 1492.5448,-487.9318 1492.1332,-479.3697\"/>\n<polygon fill=\"#000000\" stroke=\"#000000\" points=\"1495.6171,-478.9504 1491.6409,-469.13 1488.6252,-479.2866 1495.6171,-478.9504\"/>\n</g>\n<!-- 57 -->\n<g id=\"node58\" class=\"node\">\n<title>57</title>\n<polygon fill=\"none\" stroke=\"#000000\" points=\"1680.5,-461.5 1585.5,-461.5 1585.5,-408.5 1680.5,-408.5 1680.5,-461.5\"/>\n<text text-anchor=\"middle\" x=\"1633\" y=\"-446.3\" font-family=\"Times,serif\" font-size=\"14.00\" fill=\"#000000\">gini = 0.0</text>\n<text text-anchor=\"middle\" x=\"1633\" y=\"-431.3\" font-family=\"Times,serif\" font-size=\"14.00\" fill=\"#000000\">samples = 8</text>\n<text text-anchor=\"middle\" x=\"1633\" y=\"-416.3\" font-family=\"Times,serif\" font-size=\"14.00\" fill=\"#000000\">value = [0, 8]</text>\n</g>\n<!-- 49&#45;&gt;57 -->\n<g id=\"edge57\" class=\"edge\">\n<title>49&#45;&gt;57</title>\n<path fill=\"none\" stroke=\"#000000\" d=\"M1540.1864,-504.9465C1556.1177,-492.9403 1573.9796,-479.4791 1589.7473,-467.5962\"/>\n<polygon fill=\"#000000\" stroke=\"#000000\" points=\"1591.901,-470.3558 1597.7806,-461.5422 1587.688,-464.7656 1591.901,-470.3558\"/>\n</g>\n<!-- 51 -->\n<g id=\"node52\" class=\"node\">\n<title>51</title>\n<polygon fill=\"none\" stroke=\"#000000\" points=\"1491,-365 1391,-365 1391,-297 1491,-297 1491,-365\"/>\n<text text-anchor=\"middle\" x=\"1441\" y=\"-349.8\" font-family=\"Times,serif\" font-size=\"14.00\" fill=\"#000000\">LOR &#160;&lt;= 3.75</text>\n<text text-anchor=\"middle\" x=\"1441\" y=\"-334.8\" font-family=\"Times,serif\" font-size=\"14.00\" fill=\"#000000\">gini = 0.408</text>\n<text text-anchor=\"middle\" x=\"1441\" y=\"-319.8\" font-family=\"Times,serif\" font-size=\"14.00\" fill=\"#000000\">samples = 7</text>\n<text text-anchor=\"middle\" x=\"1441\" y=\"-304.8\" font-family=\"Times,serif\" font-size=\"14.00\" fill=\"#000000\">value = [2, 5]</text>\n</g>\n<!-- 50&#45;&gt;51 -->\n<g id=\"edge51\" class=\"edge\">\n<title>50&#45;&gt;51</title>\n<path fill=\"none\" stroke=\"#000000\" d=\"M1473.9556,-400.9465C1469.9368,-392.4169 1465.5721,-383.153 1461.3738,-374.2424\"/>\n<polygon fill=\"#000000\" stroke=\"#000000\" points=\"1464.5089,-372.6844 1457.0805,-365.13 1458.1765,-375.668 1464.5089,-372.6844\"/>\n</g>\n<!-- 56 -->\n<g id=\"node57\" class=\"node\">\n<title>56</title>\n<polygon fill=\"none\" stroke=\"#000000\" points=\"1604.5,-357.5 1509.5,-357.5 1509.5,-304.5 1604.5,-304.5 1604.5,-357.5\"/>\n<text text-anchor=\"middle\" x=\"1557\" y=\"-342.3\" font-family=\"Times,serif\" font-size=\"14.00\" fill=\"#000000\">gini = 0.0</text>\n<text text-anchor=\"middle\" x=\"1557\" y=\"-327.3\" font-family=\"Times,serif\" font-size=\"14.00\" fill=\"#000000\">samples = 2</text>\n<text text-anchor=\"middle\" x=\"1557\" y=\"-312.3\" font-family=\"Times,serif\" font-size=\"14.00\" fill=\"#000000\">value = [2, 0]</text>\n</g>\n<!-- 50&#45;&gt;56 -->\n<g id=\"edge56\" class=\"edge\">\n<title>50&#45;&gt;56</title>\n<path fill=\"none\" stroke=\"#000000\" d=\"M1511.9383,-400.9465C1519.1054,-389.8215 1527.0773,-377.4473 1534.2993,-366.237\"/>\n<polygon fill=\"#000000\" stroke=\"#000000\" points=\"1537.4272,-367.8442 1539.9007,-357.5422 1531.5426,-364.0532 1537.4272,-367.8442\"/>\n</g>\n<!-- 52 -->\n<g id=\"node53\" class=\"node\">\n<title>52</title>\n<polygon fill=\"none\" stroke=\"#000000\" points=\"1473.5,-253.5 1378.5,-253.5 1378.5,-200.5 1473.5,-200.5 1473.5,-253.5\"/>\n<text text-anchor=\"middle\" x=\"1426\" y=\"-238.3\" font-family=\"Times,serif\" font-size=\"14.00\" fill=\"#000000\">gini = 0.0</text>\n<text text-anchor=\"middle\" x=\"1426\" y=\"-223.3\" font-family=\"Times,serif\" font-size=\"14.00\" fill=\"#000000\">samples = 4</text>\n<text text-anchor=\"middle\" x=\"1426\" y=\"-208.3\" font-family=\"Times,serif\" font-size=\"14.00\" fill=\"#000000\">value = [0, 4]</text>\n</g>\n<!-- 51&#45;&gt;52 -->\n<g id=\"edge52\" class=\"edge\">\n<title>51&#45;&gt;52</title>\n<path fill=\"none\" stroke=\"#000000\" d=\"M1436.0884,-296.9465C1434.5474,-286.2621 1432.8402,-274.4254 1431.2751,-263.5742\"/>\n<polygon fill=\"#000000\" stroke=\"#000000\" points=\"1434.72,-262.9401 1429.8282,-253.5422 1427.7917,-263.9394 1434.72,-262.9401\"/>\n</g>\n<!-- 53 -->\n<g id=\"node54\" class=\"node\">\n<title>53</title>\n<polygon fill=\"none\" stroke=\"#000000\" points=\"1646.5,-261 1491.5,-261 1491.5,-193 1646.5,-193 1646.5,-261\"/>\n<text text-anchor=\"middle\" x=\"1569\" y=\"-245.8\" font-family=\"Times,serif\" font-size=\"14.00\" fill=\"#000000\">TOEFL Score &lt;= 102.0</text>\n<text text-anchor=\"middle\" x=\"1569\" y=\"-230.8\" font-family=\"Times,serif\" font-size=\"14.00\" fill=\"#000000\">gini = 0.444</text>\n<text text-anchor=\"middle\" x=\"1569\" y=\"-215.8\" font-family=\"Times,serif\" font-size=\"14.00\" fill=\"#000000\">samples = 3</text>\n<text text-anchor=\"middle\" x=\"1569\" y=\"-200.8\" font-family=\"Times,serif\" font-size=\"14.00\" fill=\"#000000\">value = [2, 1]</text>\n</g>\n<!-- 51&#45;&gt;53 -->\n<g id=\"edge53\" class=\"edge\">\n<title>51&#45;&gt;53</title>\n<path fill=\"none\" stroke=\"#000000\" d=\"M1482.912,-296.9465C1494.515,-287.519 1507.2221,-277.1946 1519.2259,-267.4415\"/>\n<polygon fill=\"#000000\" stroke=\"#000000\" points=\"1521.4398,-270.1524 1526.9939,-261.13 1517.0256,-264.7196 1521.4398,-270.1524\"/>\n</g>\n<!-- 54 -->\n<g id=\"node55\" class=\"node\">\n<title>54</title>\n<polygon fill=\"none\" stroke=\"#000000\" points=\"1559.5,-149.5 1464.5,-149.5 1464.5,-96.5 1559.5,-96.5 1559.5,-149.5\"/>\n<text text-anchor=\"middle\" x=\"1512\" y=\"-134.3\" font-family=\"Times,serif\" font-size=\"14.00\" fill=\"#000000\">gini = 0.0</text>\n<text text-anchor=\"middle\" x=\"1512\" y=\"-119.3\" font-family=\"Times,serif\" font-size=\"14.00\" fill=\"#000000\">samples = 1</text>\n<text text-anchor=\"middle\" x=\"1512\" y=\"-104.3\" font-family=\"Times,serif\" font-size=\"14.00\" fill=\"#000000\">value = [0, 1]</text>\n</g>\n<!-- 53&#45;&gt;54 -->\n<g id=\"edge54\" class=\"edge\">\n<title>53&#45;&gt;54</title>\n<path fill=\"none\" stroke=\"#000000\" d=\"M1550.3361,-192.9465C1544.2991,-181.9316 1537.5909,-169.6922 1531.4953,-158.5703\"/>\n<polygon fill=\"#000000\" stroke=\"#000000\" points=\"1534.4227,-156.6292 1526.5471,-149.5422 1528.2842,-159.9936 1534.4227,-156.6292\"/>\n</g>\n<!-- 55 -->\n<g id=\"node56\" class=\"node\">\n<title>55</title>\n<polygon fill=\"none\" stroke=\"#000000\" points=\"1672.5,-149.5 1577.5,-149.5 1577.5,-96.5 1672.5,-96.5 1672.5,-149.5\"/>\n<text text-anchor=\"middle\" x=\"1625\" y=\"-134.3\" font-family=\"Times,serif\" font-size=\"14.00\" fill=\"#000000\">gini = 0.0</text>\n<text text-anchor=\"middle\" x=\"1625\" y=\"-119.3\" font-family=\"Times,serif\" font-size=\"14.00\" fill=\"#000000\">samples = 2</text>\n<text text-anchor=\"middle\" x=\"1625\" y=\"-104.3\" font-family=\"Times,serif\" font-size=\"14.00\" fill=\"#000000\">value = [2, 0]</text>\n</g>\n<!-- 53&#45;&gt;55 -->\n<g id=\"edge55\" class=\"edge\">\n<title>53&#45;&gt;55</title>\n<path fill=\"none\" stroke=\"#000000\" d=\"M1587.3365,-192.9465C1593.2676,-181.9316 1599.8581,-169.6922 1605.8468,-158.5703\"/>\n<polygon fill=\"#000000\" stroke=\"#000000\" points=\"1609.0487,-160.0063 1610.7081,-149.5422 1602.8854,-156.6875 1609.0487,-160.0063\"/>\n</g>\n<!-- 59 -->\n<g id=\"node60\" class=\"node\">\n<title>59</title>\n<polygon fill=\"none\" stroke=\"#000000\" points=\"1885,-573 1753,-573 1753,-505 1885,-505 1885,-573\"/>\n<text text-anchor=\"middle\" x=\"1819\" y=\"-557.8\" font-family=\"Times,serif\" font-size=\"14.00\" fill=\"#000000\">Serial No. &lt;= 106.5</text>\n<text text-anchor=\"middle\" x=\"1819\" y=\"-542.8\" font-family=\"Times,serif\" font-size=\"14.00\" fill=\"#000000\">gini = 0.366</text>\n<text text-anchor=\"middle\" x=\"1819\" y=\"-527.8\" font-family=\"Times,serif\" font-size=\"14.00\" fill=\"#000000\">samples = 29</text>\n<text text-anchor=\"middle\" x=\"1819\" y=\"-512.8\" font-family=\"Times,serif\" font-size=\"14.00\" fill=\"#000000\">value = [7, 22]</text>\n</g>\n<!-- 58&#45;&gt;59 -->\n<g id=\"edge59\" class=\"edge\">\n<title>58&#45;&gt;59</title>\n<path fill=\"none\" stroke=\"#000000\" d=\"M1819,-608.9465C1819,-600.776 1819,-591.9318 1819,-583.3697\"/>\n<polygon fill=\"#000000\" stroke=\"#000000\" points=\"1822.5001,-583.13 1819,-573.13 1815.5001,-583.13 1822.5001,-583.13\"/>\n</g>\n<!-- 68 -->\n<g id=\"node69\" class=\"node\">\n<title>68</title>\n<polygon fill=\"none\" stroke=\"#000000\" points=\"2112,-573 1972,-573 1972,-505 2112,-505 2112,-573\"/>\n<text text-anchor=\"middle\" x=\"2042\" y=\"-557.8\" font-family=\"Times,serif\" font-size=\"14.00\" fill=\"#000000\">GRE Score &lt;= 310.5</text>\n<text text-anchor=\"middle\" x=\"2042\" y=\"-542.8\" font-family=\"Times,serif\" font-size=\"14.00\" fill=\"#000000\">gini = 0.021</text>\n<text text-anchor=\"middle\" x=\"2042\" y=\"-527.8\" font-family=\"Times,serif\" font-size=\"14.00\" fill=\"#000000\">samples = 93</text>\n<text text-anchor=\"middle\" x=\"2042\" y=\"-512.8\" font-family=\"Times,serif\" font-size=\"14.00\" fill=\"#000000\">value = [1, 92]</text>\n</g>\n<!-- 58&#45;&gt;68 -->\n<g id=\"edge68\" class=\"edge\">\n<title>58&#45;&gt;68</title>\n<path fill=\"none\" stroke=\"#000000\" d=\"M1873.5519,-617.5587C1900.3127,-605.0784 1933.0559,-589.808 1962.5346,-576.0601\"/>\n<polygon fill=\"#000000\" stroke=\"#000000\" points=\"1964.3957,-579.0541 1971.9792,-571.6554 1961.437,-572.7101 1964.3957,-579.0541\"/>\n</g>\n<!-- 60 -->\n<g id=\"node61\" class=\"node\">\n<title>60</title>\n<polygon fill=\"none\" stroke=\"#000000\" points=\"1803,-469 1699,-469 1699,-401 1803,-401 1803,-469\"/>\n<text text-anchor=\"middle\" x=\"1751\" y=\"-453.8\" font-family=\"Times,serif\" font-size=\"14.00\" fill=\"#000000\">CGPA &lt;= 9.31</text>\n<text text-anchor=\"middle\" x=\"1751\" y=\"-438.8\" font-family=\"Times,serif\" font-size=\"14.00\" fill=\"#000000\">gini = 0.278</text>\n<text text-anchor=\"middle\" x=\"1751\" y=\"-423.8\" font-family=\"Times,serif\" font-size=\"14.00\" fill=\"#000000\">samples = 6</text>\n<text text-anchor=\"middle\" x=\"1751\" y=\"-408.8\" font-family=\"Times,serif\" font-size=\"14.00\" fill=\"#000000\">value = [5, 1]</text>\n</g>\n<!-- 59&#45;&gt;60 -->\n<g id=\"edge60\" class=\"edge\">\n<title>59&#45;&gt;60</title>\n<path fill=\"none\" stroke=\"#000000\" d=\"M1796.7343,-504.9465C1791.0398,-496.2373 1784.8448,-486.7626 1778.9062,-477.6801\"/>\n<polygon fill=\"#000000\" stroke=\"#000000\" points=\"1781.7177,-475.5843 1773.3158,-469.13 1775.8589,-479.4151 1781.7177,-475.5843\"/>\n</g>\n<!-- 63 -->\n<g id=\"node64\" class=\"node\">\n<title>63</title>\n<polygon fill=\"none\" stroke=\"#000000\" points=\"1976.5,-469 1821.5,-469 1821.5,-401 1976.5,-401 1976.5,-469\"/>\n<text text-anchor=\"middle\" x=\"1899\" y=\"-453.8\" font-family=\"Times,serif\" font-size=\"14.00\" fill=\"#000000\">TOEFL Score &lt;= 100.0</text>\n<text text-anchor=\"middle\" x=\"1899\" y=\"-438.8\" font-family=\"Times,serif\" font-size=\"14.00\" fill=\"#000000\">gini = 0.159</text>\n<text text-anchor=\"middle\" x=\"1899\" y=\"-423.8\" font-family=\"Times,serif\" font-size=\"14.00\" fill=\"#000000\">samples = 23</text>\n<text text-anchor=\"middle\" x=\"1899\" y=\"-408.8\" font-family=\"Times,serif\" font-size=\"14.00\" fill=\"#000000\">value = [2, 21]</text>\n</g>\n<!-- 59&#45;&gt;63 -->\n<g id=\"edge63\" class=\"edge\">\n<title>59&#45;&gt;63</title>\n<path fill=\"none\" stroke=\"#000000\" d=\"M1845.195,-504.9465C1852.0325,-496.0578 1859.4834,-486.3716 1866.601,-477.1188\"/>\n<polygon fill=\"#000000\" stroke=\"#000000\" points=\"1869.4232,-479.1903 1872.7462,-469.13 1863.8748,-474.9223 1869.4232,-479.1903\"/>\n</g>\n<!-- 61 -->\n<g id=\"node62\" class=\"node\">\n<title>61</title>\n<polygon fill=\"none\" stroke=\"#000000\" points=\"1718.5,-357.5 1623.5,-357.5 1623.5,-304.5 1718.5,-304.5 1718.5,-357.5\"/>\n<text text-anchor=\"middle\" x=\"1671\" y=\"-342.3\" font-family=\"Times,serif\" font-size=\"14.00\" fill=\"#000000\">gini = 0.0</text>\n<text text-anchor=\"middle\" x=\"1671\" y=\"-327.3\" font-family=\"Times,serif\" font-size=\"14.00\" fill=\"#000000\">samples = 5</text>\n<text text-anchor=\"middle\" x=\"1671\" y=\"-312.3\" font-family=\"Times,serif\" font-size=\"14.00\" fill=\"#000000\">value = [5, 0]</text>\n</g>\n<!-- 60&#45;&gt;61 -->\n<g id=\"edge61\" class=\"edge\">\n<title>60&#45;&gt;61</title>\n<path fill=\"none\" stroke=\"#000000\" d=\"M1724.805,-400.9465C1716.0778,-389.6012 1706.3513,-376.9567 1697.5941,-365.5724\"/>\n<polygon fill=\"#000000\" stroke=\"#000000\" points=\"1700.2884,-363.3344 1691.417,-357.5422 1694.74,-367.6024 1700.2884,-363.3344\"/>\n</g>\n<!-- 62 -->\n<g id=\"node63\" class=\"node\">\n<title>62</title>\n<polygon fill=\"none\" stroke=\"#000000\" points=\"1831.5,-357.5 1736.5,-357.5 1736.5,-304.5 1831.5,-304.5 1831.5,-357.5\"/>\n<text text-anchor=\"middle\" x=\"1784\" y=\"-342.3\" font-family=\"Times,serif\" font-size=\"14.00\" fill=\"#000000\">gini = 0.0</text>\n<text text-anchor=\"middle\" x=\"1784\" y=\"-327.3\" font-family=\"Times,serif\" font-size=\"14.00\" fill=\"#000000\">samples = 1</text>\n<text text-anchor=\"middle\" x=\"1784\" y=\"-312.3\" font-family=\"Times,serif\" font-size=\"14.00\" fill=\"#000000\">value = [0, 1]</text>\n</g>\n<!-- 60&#45;&gt;62 -->\n<g id=\"edge62\" class=\"edge\">\n<title>60&#45;&gt;62</title>\n<path fill=\"none\" stroke=\"#000000\" d=\"M1761.8054,-400.9465C1765.2306,-390.1519 1769.029,-378.1813 1772.5011,-367.2389\"/>\n<polygon fill=\"#000000\" stroke=\"#000000\" points=\"1775.8895,-368.1324 1775.578,-357.5422 1769.2173,-366.0152 1775.8895,-368.1324\"/>\n</g>\n<!-- 64 -->\n<g id=\"node65\" class=\"node\">\n<title>64</title>\n<polygon fill=\"none\" stroke=\"#000000\" points=\"1945.5,-357.5 1850.5,-357.5 1850.5,-304.5 1945.5,-304.5 1945.5,-357.5\"/>\n<text text-anchor=\"middle\" x=\"1898\" y=\"-342.3\" font-family=\"Times,serif\" font-size=\"14.00\" fill=\"#000000\">gini = 0.0</text>\n<text text-anchor=\"middle\" x=\"1898\" y=\"-327.3\" font-family=\"Times,serif\" font-size=\"14.00\" fill=\"#000000\">samples = 1</text>\n<text text-anchor=\"middle\" x=\"1898\" y=\"-312.3\" font-family=\"Times,serif\" font-size=\"14.00\" fill=\"#000000\">value = [1, 0]</text>\n</g>\n<!-- 63&#45;&gt;64 -->\n<g id=\"edge64\" class=\"edge\">\n<title>63&#45;&gt;64</title>\n<path fill=\"none\" stroke=\"#000000\" d=\"M1898.6726,-400.9465C1898.5698,-390.2621 1898.456,-378.4254 1898.3517,-367.5742\"/>\n<polygon fill=\"#000000\" stroke=\"#000000\" points=\"1901.8513,-367.508 1898.2552,-357.5422 1894.8516,-367.5754 1901.8513,-367.508\"/>\n</g>\n<!-- 65 -->\n<g id=\"node66\" class=\"node\">\n<title>65</title>\n<polygon fill=\"none\" stroke=\"#000000\" points=\"2066,-365 1964,-365 1964,-297 2066,-297 2066,-365\"/>\n<text text-anchor=\"middle\" x=\"2015\" y=\"-349.8\" font-family=\"Times,serif\" font-size=\"14.00\" fill=\"#000000\">LOR &#160;&lt;= 2.75</text>\n<text text-anchor=\"middle\" x=\"2015\" y=\"-334.8\" font-family=\"Times,serif\" font-size=\"14.00\" fill=\"#000000\">gini = 0.087</text>\n<text text-anchor=\"middle\" x=\"2015\" y=\"-319.8\" font-family=\"Times,serif\" font-size=\"14.00\" fill=\"#000000\">samples = 22</text>\n<text text-anchor=\"middle\" x=\"2015\" y=\"-304.8\" font-family=\"Times,serif\" font-size=\"14.00\" fill=\"#000000\">value = [1, 21]</text>\n</g>\n<!-- 63&#45;&gt;65 -->\n<g id=\"edge65\" class=\"edge\">\n<title>63&#45;&gt;65</title>\n<path fill=\"none\" stroke=\"#000000\" d=\"M1936.9827,-400.9465C1947.2977,-391.6986 1958.5754,-381.5876 1969.2699,-371.9994\"/>\n<polygon fill=\"#000000\" stroke=\"#000000\" points=\"1971.8226,-374.4115 1976.9319,-365.13 1967.1498,-369.1995 1971.8226,-374.4115\"/>\n</g>\n<!-- 66 -->\n<g id=\"node67\" class=\"node\">\n<title>66</title>\n<polygon fill=\"none\" stroke=\"#000000\" points=\"2003.5,-253.5 1908.5,-253.5 1908.5,-200.5 2003.5,-200.5 2003.5,-253.5\"/>\n<text text-anchor=\"middle\" x=\"1956\" y=\"-238.3\" font-family=\"Times,serif\" font-size=\"14.00\" fill=\"#000000\">gini = 0.0</text>\n<text text-anchor=\"middle\" x=\"1956\" y=\"-223.3\" font-family=\"Times,serif\" font-size=\"14.00\" fill=\"#000000\">samples = 1</text>\n<text text-anchor=\"middle\" x=\"1956\" y=\"-208.3\" font-family=\"Times,serif\" font-size=\"14.00\" fill=\"#000000\">value = [1, 0]</text>\n</g>\n<!-- 65&#45;&gt;66 -->\n<g id=\"edge66\" class=\"edge\">\n<title>65&#45;&gt;66</title>\n<path fill=\"none\" stroke=\"#000000\" d=\"M1995.6812,-296.9465C1989.4324,-285.9316 1982.4888,-273.6922 1976.1793,-262.5703\"/>\n<polygon fill=\"#000000\" stroke=\"#000000\" points=\"1979.0362,-260.513 1971.0576,-253.5422 1972.9477,-263.967 1979.0362,-260.513\"/>\n</g>\n<!-- 67 -->\n<g id=\"node68\" class=\"node\">\n<title>67</title>\n<polygon fill=\"none\" stroke=\"#000000\" points=\"2124,-253.5 2022,-253.5 2022,-200.5 2124,-200.5 2124,-253.5\"/>\n<text text-anchor=\"middle\" x=\"2073\" y=\"-238.3\" font-family=\"Times,serif\" font-size=\"14.00\" fill=\"#000000\">gini = 0.0</text>\n<text text-anchor=\"middle\" x=\"2073\" y=\"-223.3\" font-family=\"Times,serif\" font-size=\"14.00\" fill=\"#000000\">samples = 21</text>\n<text text-anchor=\"middle\" x=\"2073\" y=\"-208.3\" font-family=\"Times,serif\" font-size=\"14.00\" fill=\"#000000\">value = [0, 21]</text>\n</g>\n<!-- 65&#45;&gt;67 -->\n<g id=\"edge67\" class=\"edge\">\n<title>65&#45;&gt;67</title>\n<path fill=\"none\" stroke=\"#000000\" d=\"M2033.9914,-296.9465C2040.1343,-285.9316 2046.9601,-273.6922 2053.1627,-262.5703\"/>\n<polygon fill=\"#000000\" stroke=\"#000000\" points=\"2056.3837,-263.9806 2058.1976,-253.5422 2050.2701,-260.5711 2056.3837,-263.9806\"/>\n</g>\n<!-- 69 -->\n<g id=\"node70\" class=\"node\">\n<title>69</title>\n<polygon fill=\"none\" stroke=\"#000000\" points=\"2089.5,-461.5 1994.5,-461.5 1994.5,-408.5 2089.5,-408.5 2089.5,-461.5\"/>\n<text text-anchor=\"middle\" x=\"2042\" y=\"-446.3\" font-family=\"Times,serif\" font-size=\"14.00\" fill=\"#000000\">gini = 0.0</text>\n<text text-anchor=\"middle\" x=\"2042\" y=\"-431.3\" font-family=\"Times,serif\" font-size=\"14.00\" fill=\"#000000\">samples = 1</text>\n<text text-anchor=\"middle\" x=\"2042\" y=\"-416.3\" font-family=\"Times,serif\" font-size=\"14.00\" fill=\"#000000\">value = [1, 0]</text>\n</g>\n<!-- 68&#45;&gt;69 -->\n<g id=\"edge69\" class=\"edge\">\n<title>68&#45;&gt;69</title>\n<path fill=\"none\" stroke=\"#000000\" d=\"M2042,-504.9465C2042,-494.2621 2042,-482.4254 2042,-471.5742\"/>\n<polygon fill=\"#000000\" stroke=\"#000000\" points=\"2045.5001,-471.5421 2042,-461.5422 2038.5001,-471.5422 2045.5001,-471.5421\"/>\n</g>\n<!-- 70 -->\n<g id=\"node71\" class=\"node\">\n<title>70</title>\n<polygon fill=\"none\" stroke=\"#000000\" points=\"2210,-461.5 2108,-461.5 2108,-408.5 2210,-408.5 2210,-461.5\"/>\n<text text-anchor=\"middle\" x=\"2159\" y=\"-446.3\" font-family=\"Times,serif\" font-size=\"14.00\" fill=\"#000000\">gini = 0.0</text>\n<text text-anchor=\"middle\" x=\"2159\" y=\"-431.3\" font-family=\"Times,serif\" font-size=\"14.00\" fill=\"#000000\">samples = 92</text>\n<text text-anchor=\"middle\" x=\"2159\" y=\"-416.3\" font-family=\"Times,serif\" font-size=\"14.00\" fill=\"#000000\">value = [0, 92]</text>\n</g>\n<!-- 68&#45;&gt;70 -->\n<g id=\"edge70\" class=\"edge\">\n<title>68&#45;&gt;70</title>\n<path fill=\"none\" stroke=\"#000000\" d=\"M2080.3102,-504.9465C2093.5694,-493.1606 2108.4058,-479.9726 2121.5916,-468.2519\"/>\n<polygon fill=\"#000000\" stroke=\"#000000\" points=\"2123.9912,-470.8018 2129.1401,-461.5422 2119.3407,-465.5699 2123.9912,-470.8018\"/>\n</g>\n</g>\n</svg>\n"
          },
          "metadata": {
            "tags": []
          },
          "execution_count": 35
        }
      ]
    },
    {
      "cell_type": "code",
      "metadata": {
        "id": "upWzZV62JC29",
        "colab_type": "code",
        "outputId": "135a5582-58bd-4f81-dce1-95ce5fafac84",
        "colab": {
          "base_uri": "https://localhost:8080/",
          "height": 1371
        }
      },
      "source": [
        ""
      ],
      "execution_count": 0,
      "outputs": [
        {
          "output_type": "execute_result",
          "data": {
            "text/plain": [
              "<graphviz.files.Source at 0x7f6ed059a358>"
            ],
            "image/svg+xml": "<?xml version=\"1.0\" encoding=\"UTF-8\" standalone=\"no\"?>\n<!DOCTYPE svg PUBLIC \"-//W3C//DTD SVG 1.1//EN\"\n \"http://www.w3.org/Graphics/SVG/1.1/DTD/svg11.dtd\">\n<!-- Generated by graphviz version 2.40.1 (20161225.0304)\n -->\n<!-- Title: Tree Pages: 1 -->\n<svg width=\"2074pt\" height=\"997pt\"\n viewBox=\"0.00 0.00 2073.50 997.00\" xmlns=\"http://www.w3.org/2000/svg\" xmlns:xlink=\"http://www.w3.org/1999/xlink\">\n<g id=\"graph0\" class=\"graph\" transform=\"scale(1 1) rotate(0) translate(4 993)\">\n<title>Tree</title>\n<polygon fill=\"#ffffff\" stroke=\"transparent\" points=\"-4,4 -4,-993 2069.5,-993 2069.5,4 -4,4\"/>\n<!-- 0 -->\n<g id=\"node1\" class=\"node\">\n<title>0</title>\n<polygon fill=\"none\" stroke=\"#000000\" points=\"818.5,-989 693.5,-989 693.5,-921 818.5,-921 818.5,-989\"/>\n<text text-anchor=\"middle\" x=\"756\" y=\"-973.8\" font-family=\"Times,serif\" font-size=\"14.00\" fill=\"#000000\">X[6] &lt;= 8.63</text>\n<text text-anchor=\"middle\" x=\"756\" y=\"-958.8\" font-family=\"Times,serif\" font-size=\"14.00\" fill=\"#000000\">gini = 0.492</text>\n<text text-anchor=\"middle\" x=\"756\" y=\"-943.8\" font-family=\"Times,serif\" font-size=\"14.00\" fill=\"#000000\">samples = 350</text>\n<text text-anchor=\"middle\" x=\"756\" y=\"-928.8\" font-family=\"Times,serif\" font-size=\"14.00\" fill=\"#000000\">value = [197, 153]</text>\n</g>\n<!-- 1 -->\n<g id=\"node2\" class=\"node\">\n<title>1</title>\n<polygon fill=\"none\" stroke=\"#000000\" points=\"594.5,-885 477.5,-885 477.5,-817 594.5,-817 594.5,-885\"/>\n<text text-anchor=\"middle\" x=\"536\" y=\"-869.8\" font-family=\"Times,serif\" font-size=\"14.00\" fill=\"#000000\">X[6] &lt;= 8.435</text>\n<text text-anchor=\"middle\" x=\"536\" y=\"-854.8\" font-family=\"Times,serif\" font-size=\"14.00\" fill=\"#000000\">gini = 0.14</text>\n<text text-anchor=\"middle\" x=\"536\" y=\"-839.8\" font-family=\"Times,serif\" font-size=\"14.00\" fill=\"#000000\">samples = 185</text>\n<text text-anchor=\"middle\" x=\"536\" y=\"-824.8\" font-family=\"Times,serif\" font-size=\"14.00\" fill=\"#000000\">value = [171, 14]</text>\n</g>\n<!-- 0&#45;&gt;1 -->\n<g id=\"edge1\" class=\"edge\">\n<title>0&#45;&gt;1</title>\n<path fill=\"none\" stroke=\"#000000\" d=\"M693.2513,-925.337C665.2886,-912.1182 632.2962,-896.5218 603.7708,-883.0371\"/>\n<polygon fill=\"#000000\" stroke=\"#000000\" points=\"605.2148,-879.8484 594.6782,-878.7388 602.2231,-886.1769 605.2148,-879.8484\"/>\n<text text-anchor=\"middle\" x=\"603.1051\" y=\"-898.5758\" font-family=\"Times,serif\" font-size=\"14.00\" fill=\"#000000\">True</text>\n</g>\n<!-- 34 -->\n<g id=\"node35\" class=\"node\">\n<title>34</title>\n<polygon fill=\"none\" stroke=\"#000000\" points=\"1123.5,-885 1006.5,-885 1006.5,-817 1123.5,-817 1123.5,-885\"/>\n<text text-anchor=\"middle\" x=\"1065\" y=\"-869.8\" font-family=\"Times,serif\" font-size=\"14.00\" fill=\"#000000\">X[1] &lt;= 319.5</text>\n<text text-anchor=\"middle\" x=\"1065\" y=\"-854.8\" font-family=\"Times,serif\" font-size=\"14.00\" fill=\"#000000\">gini = 0.265</text>\n<text text-anchor=\"middle\" x=\"1065\" y=\"-839.8\" font-family=\"Times,serif\" font-size=\"14.00\" fill=\"#000000\">samples = 165</text>\n<text text-anchor=\"middle\" x=\"1065\" y=\"-824.8\" font-family=\"Times,serif\" font-size=\"14.00\" fill=\"#000000\">value = [26, 139]</text>\n</g>\n<!-- 0&#45;&gt;34 -->\n<g id=\"edge34\" class=\"edge\">\n<title>0&#45;&gt;34</title>\n<path fill=\"none\" stroke=\"#000000\" d=\"M818.5308,-933.954C870.2448,-916.5487 943.5728,-891.8687 996.7916,-873.9569\"/>\n<polygon fill=\"#000000\" stroke=\"#000000\" points=\"998.1238,-877.2015 1006.4849,-870.6944 995.8909,-870.5672 998.1238,-877.2015\"/>\n<text text-anchor=\"middle\" x=\"995.3697\" y=\"-889.3875\" font-family=\"Times,serif\" font-size=\"14.00\" fill=\"#000000\">False</text>\n</g>\n<!-- 2 -->\n<g id=\"node3\" class=\"node\">\n<title>2</title>\n<polygon fill=\"none\" stroke=\"#000000\" points=\"410,-781 300,-781 300,-713 410,-713 410,-781\"/>\n<text text-anchor=\"middle\" x=\"355\" y=\"-765.8\" font-family=\"Times,serif\" font-size=\"14.00\" fill=\"#000000\">X[1] &lt;= 326.0</text>\n<text text-anchor=\"middle\" x=\"355\" y=\"-750.8\" font-family=\"Times,serif\" font-size=\"14.00\" fill=\"#000000\">gini = 0.053</text>\n<text text-anchor=\"middle\" x=\"355\" y=\"-735.8\" font-family=\"Times,serif\" font-size=\"14.00\" fill=\"#000000\">samples = 146</text>\n<text text-anchor=\"middle\" x=\"355\" y=\"-720.8\" font-family=\"Times,serif\" font-size=\"14.00\" fill=\"#000000\">value = [142, 4]</text>\n</g>\n<!-- 1&#45;&gt;2 -->\n<g id=\"edge2\" class=\"edge\">\n<title>1&#45;&gt;2</title>\n<path fill=\"none\" stroke=\"#000000\" d=\"M477.2345,-817.2342C458.6102,-806.5329 437.9328,-794.652 418.9621,-783.7517\"/>\n<polygon fill=\"#000000\" stroke=\"#000000\" points=\"420.5066,-780.6025 410.0922,-778.6552 417.0191,-786.672 420.5066,-780.6025\"/>\n</g>\n<!-- 15 -->\n<g id=\"node16\" class=\"node\">\n<title>15</title>\n<polygon fill=\"none\" stroke=\"#000000\" points=\"591,-781 481,-781 481,-713 591,-713 591,-781\"/>\n<text text-anchor=\"middle\" x=\"536\" y=\"-765.8\" font-family=\"Times,serif\" font-size=\"14.00\" fill=\"#000000\">X[0] &lt;= 131.0</text>\n<text text-anchor=\"middle\" x=\"536\" y=\"-750.8\" font-family=\"Times,serif\" font-size=\"14.00\" fill=\"#000000\">gini = 0.381</text>\n<text text-anchor=\"middle\" x=\"536\" y=\"-735.8\" font-family=\"Times,serif\" font-size=\"14.00\" fill=\"#000000\">samples = 39</text>\n<text text-anchor=\"middle\" x=\"536\" y=\"-720.8\" font-family=\"Times,serif\" font-size=\"14.00\" fill=\"#000000\">value = [29, 10]</text>\n</g>\n<!-- 1&#45;&gt;15 -->\n<g id=\"edge15\" class=\"edge\">\n<title>1&#45;&gt;15</title>\n<path fill=\"none\" stroke=\"#000000\" d=\"M536,-816.9465C536,-808.776 536,-799.9318 536,-791.3697\"/>\n<polygon fill=\"#000000\" stroke=\"#000000\" points=\"539.5001,-791.13 536,-781.13 532.5001,-791.13 539.5001,-791.13\"/>\n</g>\n<!-- 3 -->\n<g id=\"node4\" class=\"node\">\n<title>3</title>\n<polygon fill=\"none\" stroke=\"#000000\" points=\"234,-677 124,-677 124,-609 234,-609 234,-677\"/>\n<text text-anchor=\"middle\" x=\"179\" y=\"-661.8\" font-family=\"Times,serif\" font-size=\"14.00\" fill=\"#000000\">X[6] &lt;= 8.205</text>\n<text text-anchor=\"middle\" x=\"179\" y=\"-646.8\" font-family=\"Times,serif\" font-size=\"14.00\" fill=\"#000000\">gini = 0.041</text>\n<text text-anchor=\"middle\" x=\"179\" y=\"-631.8\" font-family=\"Times,serif\" font-size=\"14.00\" fill=\"#000000\">samples = 144</text>\n<text text-anchor=\"middle\" x=\"179\" y=\"-616.8\" font-family=\"Times,serif\" font-size=\"14.00\" fill=\"#000000\">value = [141, 3]</text>\n</g>\n<!-- 2&#45;&gt;3 -->\n<g id=\"edge3\" class=\"edge\">\n<title>2&#45;&gt;3</title>\n<path fill=\"none\" stroke=\"#000000\" d=\"M299.7954,-714.3791C281.6936,-703.6826 261.4313,-691.7094 242.7504,-680.6707\"/>\n<polygon fill=\"#000000\" stroke=\"#000000\" points=\"244.3986,-677.5792 234.0087,-675.5052 240.8374,-683.6057 244.3986,-677.5792\"/>\n</g>\n<!-- 12 -->\n<g id=\"node13\" class=\"node\">\n<title>12</title>\n<polygon fill=\"none\" stroke=\"#000000\" points=\"402.5,-677 307.5,-677 307.5,-609 402.5,-609 402.5,-677\"/>\n<text text-anchor=\"middle\" x=\"355\" y=\"-661.8\" font-family=\"Times,serif\" font-size=\"14.00\" fill=\"#000000\">X[6] &lt;= 8.35</text>\n<text text-anchor=\"middle\" x=\"355\" y=\"-646.8\" font-family=\"Times,serif\" font-size=\"14.00\" fill=\"#000000\">gini = 0.5</text>\n<text text-anchor=\"middle\" x=\"355\" y=\"-631.8\" font-family=\"Times,serif\" font-size=\"14.00\" fill=\"#000000\">samples = 2</text>\n<text text-anchor=\"middle\" x=\"355\" y=\"-616.8\" font-family=\"Times,serif\" font-size=\"14.00\" fill=\"#000000\">value = [1, 1]</text>\n</g>\n<!-- 2&#45;&gt;12 -->\n<g id=\"edge12\" class=\"edge\">\n<title>2&#45;&gt;12</title>\n<path fill=\"none\" stroke=\"#000000\" d=\"M355,-712.9465C355,-704.776 355,-695.9318 355,-687.3697\"/>\n<polygon fill=\"#000000\" stroke=\"#000000\" points=\"358.5001,-687.13 355,-677.13 351.5001,-687.13 358.5001,-687.13\"/>\n</g>\n<!-- 4 -->\n<g id=\"node5\" class=\"node\">\n<title>4</title>\n<polygon fill=\"none\" stroke=\"#000000\" points=\"110,-565.5 0,-565.5 0,-512.5 110,-512.5 110,-565.5\"/>\n<text text-anchor=\"middle\" x=\"55\" y=\"-550.3\" font-family=\"Times,serif\" font-size=\"14.00\" fill=\"#000000\">gini = 0.0</text>\n<text text-anchor=\"middle\" x=\"55\" y=\"-535.3\" font-family=\"Times,serif\" font-size=\"14.00\" fill=\"#000000\">samples = 106</text>\n<text text-anchor=\"middle\" x=\"55\" y=\"-520.3\" font-family=\"Times,serif\" font-size=\"14.00\" fill=\"#000000\">value = [106, 0]</text>\n</g>\n<!-- 3&#45;&gt;4 -->\n<g id=\"edge4\" class=\"edge\">\n<title>3&#45;&gt;4</title>\n<path fill=\"none\" stroke=\"#000000\" d=\"M138.3978,-608.9465C124.3453,-597.1606 108.6212,-583.9726 94.6465,-572.2519\"/>\n<polygon fill=\"#000000\" stroke=\"#000000\" points=\"96.5575,-569.2866 86.6464,-565.5422 92.0592,-574.65 96.5575,-569.2866\"/>\n</g>\n<!-- 5 -->\n<g id=\"node6\" class=\"node\">\n<title>5</title>\n<polygon fill=\"none\" stroke=\"#000000\" points=\"230,-573 128,-573 128,-505 230,-505 230,-573\"/>\n<text text-anchor=\"middle\" x=\"179\" y=\"-557.8\" font-family=\"Times,serif\" font-size=\"14.00\" fill=\"#000000\">X[7] &lt;= 0.5</text>\n<text text-anchor=\"middle\" x=\"179\" y=\"-542.8\" font-family=\"Times,serif\" font-size=\"14.00\" fill=\"#000000\">gini = 0.145</text>\n<text text-anchor=\"middle\" x=\"179\" y=\"-527.8\" font-family=\"Times,serif\" font-size=\"14.00\" fill=\"#000000\">samples = 38</text>\n<text text-anchor=\"middle\" x=\"179\" y=\"-512.8\" font-family=\"Times,serif\" font-size=\"14.00\" fill=\"#000000\">value = [35, 3]</text>\n</g>\n<!-- 3&#45;&gt;5 -->\n<g id=\"edge5\" class=\"edge\">\n<title>3&#45;&gt;5</title>\n<path fill=\"none\" stroke=\"#000000\" d=\"M179,-608.9465C179,-600.776 179,-591.9318 179,-583.3697\"/>\n<polygon fill=\"#000000\" stroke=\"#000000\" points=\"182.5001,-583.13 179,-573.13 175.5001,-583.13 182.5001,-583.13\"/>\n</g>\n<!-- 6 -->\n<g id=\"node7\" class=\"node\">\n<title>6</title>\n<polygon fill=\"none\" stroke=\"#000000\" points=\"170,-461.5 68,-461.5 68,-408.5 170,-408.5 170,-461.5\"/>\n<text text-anchor=\"middle\" x=\"119\" y=\"-446.3\" font-family=\"Times,serif\" font-size=\"14.00\" fill=\"#000000\">gini = 0.0</text>\n<text text-anchor=\"middle\" x=\"119\" y=\"-431.3\" font-family=\"Times,serif\" font-size=\"14.00\" fill=\"#000000\">samples = 26</text>\n<text text-anchor=\"middle\" x=\"119\" y=\"-416.3\" font-family=\"Times,serif\" font-size=\"14.00\" fill=\"#000000\">value = [26, 0]</text>\n</g>\n<!-- 5&#45;&gt;6 -->\n<g id=\"edge6\" class=\"edge\">\n<title>5&#45;&gt;6</title>\n<path fill=\"none\" stroke=\"#000000\" d=\"M159.3538,-504.9465C152.9355,-493.8215 145.7965,-481.4473 139.329,-470.237\"/>\n<polygon fill=\"#000000\" stroke=\"#000000\" points=\"142.3417,-468.455 134.3128,-461.5422 136.2784,-471.9531 142.3417,-468.455\"/>\n</g>\n<!-- 7 -->\n<g id=\"node8\" class=\"node\">\n<title>7</title>\n<polygon fill=\"none\" stroke=\"#000000\" points=\"283.5,-469 188.5,-469 188.5,-401 283.5,-401 283.5,-469\"/>\n<text text-anchor=\"middle\" x=\"236\" y=\"-453.8\" font-family=\"Times,serif\" font-size=\"14.00\" fill=\"#000000\">X[6] &lt;= 8.31</text>\n<text text-anchor=\"middle\" x=\"236\" y=\"-438.8\" font-family=\"Times,serif\" font-size=\"14.00\" fill=\"#000000\">gini = 0.375</text>\n<text text-anchor=\"middle\" x=\"236\" y=\"-423.8\" font-family=\"Times,serif\" font-size=\"14.00\" fill=\"#000000\">samples = 12</text>\n<text text-anchor=\"middle\" x=\"236\" y=\"-408.8\" font-family=\"Times,serif\" font-size=\"14.00\" fill=\"#000000\">value = [9, 3]</text>\n</g>\n<!-- 5&#45;&gt;7 -->\n<g id=\"edge7\" class=\"edge\">\n<title>5&#45;&gt;7</title>\n<path fill=\"none\" stroke=\"#000000\" d=\"M197.6639,-504.9465C202.388,-496.3271 207.5231,-486.9579 212.454,-477.9611\"/>\n<polygon fill=\"#000000\" stroke=\"#000000\" points=\"215.5571,-479.5815 217.2941,-469.13 209.4186,-476.2171 215.5571,-479.5815\"/>\n</g>\n<!-- 8 -->\n<g id=\"node9\" class=\"node\">\n<title>8</title>\n<polygon fill=\"none\" stroke=\"#000000\" points=\"228.5,-365 127.5,-365 127.5,-297 228.5,-297 228.5,-365\"/>\n<text text-anchor=\"middle\" x=\"178\" y=\"-349.8\" font-family=\"Times,serif\" font-size=\"14.00\" fill=\"#000000\">X[1] &lt;= 307.0</text>\n<text text-anchor=\"middle\" x=\"178\" y=\"-334.8\" font-family=\"Times,serif\" font-size=\"14.00\" fill=\"#000000\">gini = 0.48</text>\n<text text-anchor=\"middle\" x=\"178\" y=\"-319.8\" font-family=\"Times,serif\" font-size=\"14.00\" fill=\"#000000\">samples = 5</text>\n<text text-anchor=\"middle\" x=\"178\" y=\"-304.8\" font-family=\"Times,serif\" font-size=\"14.00\" fill=\"#000000\">value = [2, 3]</text>\n</g>\n<!-- 7&#45;&gt;8 -->\n<g id=\"edge8\" class=\"edge\">\n<title>7&#45;&gt;8</title>\n<path fill=\"none\" stroke=\"#000000\" d=\"M217.0086,-400.9465C212.2017,-392.3271 206.9765,-382.9579 201.9591,-373.9611\"/>\n<polygon fill=\"#000000\" stroke=\"#000000\" points=\"204.9615,-372.1589 197.034,-365.13 198.848,-375.5684 204.9615,-372.1589\"/>\n</g>\n<!-- 11 -->\n<g id=\"node12\" class=\"node\">\n<title>11</title>\n<polygon fill=\"none\" stroke=\"#000000\" points=\"341.5,-357.5 246.5,-357.5 246.5,-304.5 341.5,-304.5 341.5,-357.5\"/>\n<text text-anchor=\"middle\" x=\"294\" y=\"-342.3\" font-family=\"Times,serif\" font-size=\"14.00\" fill=\"#000000\">gini = 0.0</text>\n<text text-anchor=\"middle\" x=\"294\" y=\"-327.3\" font-family=\"Times,serif\" font-size=\"14.00\" fill=\"#000000\">samples = 7</text>\n<text text-anchor=\"middle\" x=\"294\" y=\"-312.3\" font-family=\"Times,serif\" font-size=\"14.00\" fill=\"#000000\">value = [7, 0]</text>\n</g>\n<!-- 7&#45;&gt;11 -->\n<g id=\"edge11\" class=\"edge\">\n<title>7&#45;&gt;11</title>\n<path fill=\"none\" stroke=\"#000000\" d=\"M254.9914,-400.9465C261.1343,-389.9316 267.9601,-377.6922 274.1627,-366.5703\"/>\n<polygon fill=\"#000000\" stroke=\"#000000\" points=\"277.3837,-367.9806 279.1976,-357.5422 271.2701,-364.5711 277.3837,-367.9806\"/>\n</g>\n<!-- 9 -->\n<g id=\"node10\" class=\"node\">\n<title>9</title>\n<polygon fill=\"none\" stroke=\"#000000\" points=\"169.5,-253.5 74.5,-253.5 74.5,-200.5 169.5,-200.5 169.5,-253.5\"/>\n<text text-anchor=\"middle\" x=\"122\" y=\"-238.3\" font-family=\"Times,serif\" font-size=\"14.00\" fill=\"#000000\">gini = 0.0</text>\n<text text-anchor=\"middle\" x=\"122\" y=\"-223.3\" font-family=\"Times,serif\" font-size=\"14.00\" fill=\"#000000\">samples = 2</text>\n<text text-anchor=\"middle\" x=\"122\" y=\"-208.3\" font-family=\"Times,serif\" font-size=\"14.00\" fill=\"#000000\">value = [2, 0]</text>\n</g>\n<!-- 8&#45;&gt;9 -->\n<g id=\"edge9\" class=\"edge\">\n<title>8&#45;&gt;9</title>\n<path fill=\"none\" stroke=\"#000000\" d=\"M159.6635,-296.9465C153.7324,-285.9316 147.1419,-273.6922 141.1532,-262.5703\"/>\n<polygon fill=\"#000000\" stroke=\"#000000\" points=\"144.1146,-260.6875 136.2919,-253.5422 137.9513,-264.0063 144.1146,-260.6875\"/>\n</g>\n<!-- 10 -->\n<g id=\"node11\" class=\"node\">\n<title>10</title>\n<polygon fill=\"none\" stroke=\"#000000\" points=\"282.5,-253.5 187.5,-253.5 187.5,-200.5 282.5,-200.5 282.5,-253.5\"/>\n<text text-anchor=\"middle\" x=\"235\" y=\"-238.3\" font-family=\"Times,serif\" font-size=\"14.00\" fill=\"#000000\">gini = 0.0</text>\n<text text-anchor=\"middle\" x=\"235\" y=\"-223.3\" font-family=\"Times,serif\" font-size=\"14.00\" fill=\"#000000\">samples = 3</text>\n<text text-anchor=\"middle\" x=\"235\" y=\"-208.3\" font-family=\"Times,serif\" font-size=\"14.00\" fill=\"#000000\">value = [0, 3]</text>\n</g>\n<!-- 8&#45;&gt;10 -->\n<g id=\"edge10\" class=\"edge\">\n<title>8&#45;&gt;10</title>\n<path fill=\"none\" stroke=\"#000000\" d=\"M196.6639,-296.9465C202.7009,-285.9316 209.4091,-273.6922 215.5047,-262.5703\"/>\n<polygon fill=\"#000000\" stroke=\"#000000\" points=\"218.7158,-263.9936 220.4529,-253.5422 212.5773,-260.6292 218.7158,-263.9936\"/>\n</g>\n<!-- 13 -->\n<g id=\"node14\" class=\"node\">\n<title>13</title>\n<polygon fill=\"none\" stroke=\"#000000\" points=\"343.5,-565.5 248.5,-565.5 248.5,-512.5 343.5,-512.5 343.5,-565.5\"/>\n<text text-anchor=\"middle\" x=\"296\" y=\"-550.3\" font-family=\"Times,serif\" font-size=\"14.00\" fill=\"#000000\">gini = 0.0</text>\n<text text-anchor=\"middle\" x=\"296\" y=\"-535.3\" font-family=\"Times,serif\" font-size=\"14.00\" fill=\"#000000\">samples = 1</text>\n<text text-anchor=\"middle\" x=\"296\" y=\"-520.3\" font-family=\"Times,serif\" font-size=\"14.00\" fill=\"#000000\">value = [1, 0]</text>\n</g>\n<!-- 12&#45;&gt;13 -->\n<g id=\"edge13\" class=\"edge\">\n<title>12&#45;&gt;13</title>\n<path fill=\"none\" stroke=\"#000000\" d=\"M335.6812,-608.9465C329.4324,-597.9316 322.4888,-585.6922 316.1793,-574.5703\"/>\n<polygon fill=\"#000000\" stroke=\"#000000\" points=\"319.0362,-572.513 311.0576,-565.5422 312.9477,-575.967 319.0362,-572.513\"/>\n</g>\n<!-- 14 -->\n<g id=\"node15\" class=\"node\">\n<title>14</title>\n<polygon fill=\"none\" stroke=\"#000000\" points=\"456.5,-565.5 361.5,-565.5 361.5,-512.5 456.5,-512.5 456.5,-565.5\"/>\n<text text-anchor=\"middle\" x=\"409\" y=\"-550.3\" font-family=\"Times,serif\" font-size=\"14.00\" fill=\"#000000\">gini = 0.0</text>\n<text text-anchor=\"middle\" x=\"409\" y=\"-535.3\" font-family=\"Times,serif\" font-size=\"14.00\" fill=\"#000000\">samples = 1</text>\n<text text-anchor=\"middle\" x=\"409\" y=\"-520.3\" font-family=\"Times,serif\" font-size=\"14.00\" fill=\"#000000\">value = [0, 1]</text>\n</g>\n<!-- 12&#45;&gt;14 -->\n<g id=\"edge14\" class=\"edge\">\n<title>12&#45;&gt;14</title>\n<path fill=\"none\" stroke=\"#000000\" d=\"M372.6816,-608.9465C378.4009,-597.9316 384.756,-585.6922 390.5308,-574.5703\"/>\n<polygon fill=\"#000000\" stroke=\"#000000\" points=\"393.7165,-576.03 395.2185,-565.5422 387.504,-572.8043 393.7165,-576.03\"/>\n</g>\n<!-- 16 -->\n<g id=\"node17\" class=\"node\">\n<title>16</title>\n<polygon fill=\"none\" stroke=\"#000000\" points=\"516.5,-669.5 421.5,-669.5 421.5,-616.5 516.5,-616.5 516.5,-669.5\"/>\n<text text-anchor=\"middle\" x=\"469\" y=\"-654.3\" font-family=\"Times,serif\" font-size=\"14.00\" fill=\"#000000\">gini = 0.0</text>\n<text text-anchor=\"middle\" x=\"469\" y=\"-639.3\" font-family=\"Times,serif\" font-size=\"14.00\" fill=\"#000000\">samples = 9</text>\n<text text-anchor=\"middle\" x=\"469\" y=\"-624.3\" font-family=\"Times,serif\" font-size=\"14.00\" fill=\"#000000\">value = [9, 0]</text>\n</g>\n<!-- 15&#45;&gt;16 -->\n<g id=\"edge16\" class=\"edge\">\n<title>15&#45;&gt;16</title>\n<path fill=\"none\" stroke=\"#000000\" d=\"M514.0617,-712.9465C506.8946,-701.8215 498.9227,-689.4473 491.7007,-678.237\"/>\n<polygon fill=\"#000000\" stroke=\"#000000\" points=\"494.4574,-676.0532 486.0993,-669.5422 488.5728,-679.8442 494.4574,-676.0532\"/>\n</g>\n<!-- 17 -->\n<g id=\"node18\" class=\"node\">\n<title>17</title>\n<polygon fill=\"none\" stroke=\"#000000\" points=\"645,-677 535,-677 535,-609 645,-609 645,-677\"/>\n<text text-anchor=\"middle\" x=\"590\" y=\"-661.8\" font-family=\"Times,serif\" font-size=\"14.00\" fill=\"#000000\">X[3] &lt;= 2.5</text>\n<text text-anchor=\"middle\" x=\"590\" y=\"-646.8\" font-family=\"Times,serif\" font-size=\"14.00\" fill=\"#000000\">gini = 0.444</text>\n<text text-anchor=\"middle\" x=\"590\" y=\"-631.8\" font-family=\"Times,serif\" font-size=\"14.00\" fill=\"#000000\">samples = 30</text>\n<text text-anchor=\"middle\" x=\"590\" y=\"-616.8\" font-family=\"Times,serif\" font-size=\"14.00\" fill=\"#000000\">value = [20, 10]</text>\n</g>\n<!-- 15&#45;&gt;17 -->\n<g id=\"edge17\" class=\"edge\">\n<title>15&#45;&gt;17</title>\n<path fill=\"none\" stroke=\"#000000\" d=\"M553.6816,-712.9465C558.1105,-704.4169 562.9206,-695.153 567.5472,-686.2424\"/>\n<polygon fill=\"#000000\" stroke=\"#000000\" points=\"570.7767,-687.6178 572.2787,-677.13 564.5642,-684.3921 570.7767,-687.6178\"/>\n</g>\n<!-- 18 -->\n<g id=\"node19\" class=\"node\">\n<title>18</title>\n<polygon fill=\"none\" stroke=\"#000000\" points=\"577,-573 475,-573 475,-505 577,-505 577,-573\"/>\n<text text-anchor=\"middle\" x=\"526\" y=\"-557.8\" font-family=\"Times,serif\" font-size=\"14.00\" fill=\"#000000\">X[1] &lt;= 320.5</text>\n<text text-anchor=\"middle\" x=\"526\" y=\"-542.8\" font-family=\"Times,serif\" font-size=\"14.00\" fill=\"#000000\">gini = 0.165</text>\n<text text-anchor=\"middle\" x=\"526\" y=\"-527.8\" font-family=\"Times,serif\" font-size=\"14.00\" fill=\"#000000\">samples = 11</text>\n<text text-anchor=\"middle\" x=\"526\" y=\"-512.8\" font-family=\"Times,serif\" font-size=\"14.00\" fill=\"#000000\">value = [10, 1]</text>\n</g>\n<!-- 17&#45;&gt;18 -->\n<g id=\"edge18\" class=\"edge\">\n<title>17&#45;&gt;18</title>\n<path fill=\"none\" stroke=\"#000000\" d=\"M569.044,-608.9465C563.6845,-600.2373 557.8539,-590.7626 552.2647,-581.6801\"/>\n<polygon fill=\"#000000\" stroke=\"#000000\" points=\"555.2249,-579.8122 547.0031,-573.13 549.2633,-583.481 555.2249,-579.8122\"/>\n</g>\n<!-- 21 -->\n<g id=\"node22\" class=\"node\">\n<title>21</title>\n<polygon fill=\"none\" stroke=\"#000000\" points=\"697,-573 595,-573 595,-505 697,-505 697,-573\"/>\n<text text-anchor=\"middle\" x=\"646\" y=\"-557.8\" font-family=\"Times,serif\" font-size=\"14.00\" fill=\"#000000\">X[5] &lt;= 4.25</text>\n<text text-anchor=\"middle\" x=\"646\" y=\"-542.8\" font-family=\"Times,serif\" font-size=\"14.00\" fill=\"#000000\">gini = 0.499</text>\n<text text-anchor=\"middle\" x=\"646\" y=\"-527.8\" font-family=\"Times,serif\" font-size=\"14.00\" fill=\"#000000\">samples = 19</text>\n<text text-anchor=\"middle\" x=\"646\" y=\"-512.8\" font-family=\"Times,serif\" font-size=\"14.00\" fill=\"#000000\">value = [10, 9]</text>\n</g>\n<!-- 17&#45;&gt;21 -->\n<g id=\"edge21\" class=\"edge\">\n<title>17&#45;&gt;21</title>\n<path fill=\"none\" stroke=\"#000000\" d=\"M608.3365,-608.9465C612.9777,-600.3271 618.0227,-590.9579 622.8671,-581.9611\"/>\n<polygon fill=\"#000000\" stroke=\"#000000\" points=\"625.9629,-583.5941 627.6223,-573.13 619.7996,-580.2754 625.9629,-583.5941\"/>\n</g>\n<!-- 19 -->\n<g id=\"node20\" class=\"node\">\n<title>19</title>\n<polygon fill=\"none\" stroke=\"#000000\" points=\"460,-461.5 358,-461.5 358,-408.5 460,-408.5 460,-461.5\"/>\n<text text-anchor=\"middle\" x=\"409\" y=\"-446.3\" font-family=\"Times,serif\" font-size=\"14.00\" fill=\"#000000\">gini = 0.0</text>\n<text text-anchor=\"middle\" x=\"409\" y=\"-431.3\" font-family=\"Times,serif\" font-size=\"14.00\" fill=\"#000000\">samples = 10</text>\n<text text-anchor=\"middle\" x=\"409\" y=\"-416.3\" font-family=\"Times,serif\" font-size=\"14.00\" fill=\"#000000\">value = [10, 0]</text>\n</g>\n<!-- 18&#45;&gt;19 -->\n<g id=\"edge19\" class=\"edge\">\n<title>18&#45;&gt;19</title>\n<path fill=\"none\" stroke=\"#000000\" d=\"M487.6898,-504.9465C474.4306,-493.1606 459.5942,-479.9726 446.4084,-468.2519\"/>\n<polygon fill=\"#000000\" stroke=\"#000000\" points=\"448.6593,-465.5699 438.8599,-461.5422 444.0088,-470.8018 448.6593,-465.5699\"/>\n</g>\n<!-- 20 -->\n<g id=\"node21\" class=\"node\">\n<title>20</title>\n<polygon fill=\"none\" stroke=\"#000000\" points=\"573.5,-461.5 478.5,-461.5 478.5,-408.5 573.5,-408.5 573.5,-461.5\"/>\n<text text-anchor=\"middle\" x=\"526\" y=\"-446.3\" font-family=\"Times,serif\" font-size=\"14.00\" fill=\"#000000\">gini = 0.0</text>\n<text text-anchor=\"middle\" x=\"526\" y=\"-431.3\" font-family=\"Times,serif\" font-size=\"14.00\" fill=\"#000000\">samples = 1</text>\n<text text-anchor=\"middle\" x=\"526\" y=\"-416.3\" font-family=\"Times,serif\" font-size=\"14.00\" fill=\"#000000\">value = [0, 1]</text>\n</g>\n<!-- 18&#45;&gt;20 -->\n<g id=\"edge20\" class=\"edge\">\n<title>18&#45;&gt;20</title>\n<path fill=\"none\" stroke=\"#000000\" d=\"M526,-504.9465C526,-494.2621 526,-482.4254 526,-471.5742\"/>\n<polygon fill=\"#000000\" stroke=\"#000000\" points=\"529.5001,-471.5421 526,-461.5422 522.5001,-471.5422 529.5001,-471.5421\"/>\n</g>\n<!-- 22 -->\n<g id=\"node23\" class=\"node\">\n<title>22</title>\n<polygon fill=\"none\" stroke=\"#000000\" points=\"686.5,-469 591.5,-469 591.5,-401 686.5,-401 686.5,-469\"/>\n<text text-anchor=\"middle\" x=\"639\" y=\"-453.8\" font-family=\"Times,serif\" font-size=\"14.00\" fill=\"#000000\">X[5] &lt;= 3.75</text>\n<text text-anchor=\"middle\" x=\"639\" y=\"-438.8\" font-family=\"Times,serif\" font-size=\"14.00\" fill=\"#000000\">gini = 0.492</text>\n<text text-anchor=\"middle\" x=\"639\" y=\"-423.8\" font-family=\"Times,serif\" font-size=\"14.00\" fill=\"#000000\">samples = 16</text>\n<text text-anchor=\"middle\" x=\"639\" y=\"-408.8\" font-family=\"Times,serif\" font-size=\"14.00\" fill=\"#000000\">value = [7, 9]</text>\n</g>\n<!-- 21&#45;&gt;22 -->\n<g id=\"edge22\" class=\"edge\">\n<title>21&#45;&gt;22</title>\n<path fill=\"none\" stroke=\"#000000\" d=\"M643.7079,-504.9465C643.158,-496.776 642.5627,-487.9318 641.9864,-479.3697\"/>\n<polygon fill=\"#000000\" stroke=\"#000000\" points=\"645.461,-478.8723 641.2972,-469.13 638.4768,-479.3425 645.461,-478.8723\"/>\n</g>\n<!-- 33 -->\n<g id=\"node34\" class=\"node\">\n<title>33</title>\n<polygon fill=\"none\" stroke=\"#000000\" points=\"799.5,-461.5 704.5,-461.5 704.5,-408.5 799.5,-408.5 799.5,-461.5\"/>\n<text text-anchor=\"middle\" x=\"752\" y=\"-446.3\" font-family=\"Times,serif\" font-size=\"14.00\" fill=\"#000000\">gini = 0.0</text>\n<text text-anchor=\"middle\" x=\"752\" y=\"-431.3\" font-family=\"Times,serif\" font-size=\"14.00\" fill=\"#000000\">samples = 3</text>\n<text text-anchor=\"middle\" x=\"752\" y=\"-416.3\" font-family=\"Times,serif\" font-size=\"14.00\" fill=\"#000000\">value = [3, 0]</text>\n</g>\n<!-- 21&#45;&gt;33 -->\n<g id=\"edge33\" class=\"edge\">\n<title>21&#45;&gt;33</title>\n<path fill=\"none\" stroke=\"#000000\" d=\"M680.7084,-504.9465C692.6087,-493.2707 705.9114,-480.219 717.7733,-468.5809\"/>\n<polygon fill=\"#000000\" stroke=\"#000000\" points=\"720.2605,-471.0439 724.9474,-461.5422 715.3581,-466.0473 720.2605,-471.0439\"/>\n</g>\n<!-- 23 -->\n<g id=\"node24\" class=\"node\">\n<title>23</title>\n<polygon fill=\"none\" stroke=\"#000000\" points=\"630.5,-365 529.5,-365 529.5,-297 630.5,-297 630.5,-365\"/>\n<text text-anchor=\"middle\" x=\"580\" y=\"-349.8\" font-family=\"Times,serif\" font-size=\"14.00\" fill=\"#000000\">X[6] &lt;= 8.515</text>\n<text text-anchor=\"middle\" x=\"580\" y=\"-334.8\" font-family=\"Times,serif\" font-size=\"14.00\" fill=\"#000000\">gini = 0.48</text>\n<text text-anchor=\"middle\" x=\"580\" y=\"-319.8\" font-family=\"Times,serif\" font-size=\"14.00\" fill=\"#000000\">samples = 10</text>\n<text text-anchor=\"middle\" x=\"580\" y=\"-304.8\" font-family=\"Times,serif\" font-size=\"14.00\" fill=\"#000000\">value = [6, 4]</text>\n</g>\n<!-- 22&#45;&gt;23 -->\n<g id=\"edge23\" class=\"edge\">\n<title>22&#45;&gt;23</title>\n<path fill=\"none\" stroke=\"#000000\" d=\"M619.6812,-400.9465C614.7913,-392.3271 609.4761,-382.9579 604.3722,-373.9611\"/>\n<polygon fill=\"#000000\" stroke=\"#000000\" points=\"607.3408,-372.1008 599.3622,-365.13 601.2524,-375.5549 607.3408,-372.1008\"/>\n</g>\n<!-- 30 -->\n<g id=\"node31\" class=\"node\">\n<title>30</title>\n<polygon fill=\"none\" stroke=\"#000000\" points=\"749.5,-365 648.5,-365 648.5,-297 749.5,-297 749.5,-365\"/>\n<text text-anchor=\"middle\" x=\"699\" y=\"-349.8\" font-family=\"Times,serif\" font-size=\"14.00\" fill=\"#000000\">X[1] &lt;= 322.5</text>\n<text text-anchor=\"middle\" x=\"699\" y=\"-334.8\" font-family=\"Times,serif\" font-size=\"14.00\" fill=\"#000000\">gini = 0.278</text>\n<text text-anchor=\"middle\" x=\"699\" y=\"-319.8\" font-family=\"Times,serif\" font-size=\"14.00\" fill=\"#000000\">samples = 6</text>\n<text text-anchor=\"middle\" x=\"699\" y=\"-304.8\" font-family=\"Times,serif\" font-size=\"14.00\" fill=\"#000000\">value = [1, 5]</text>\n</g>\n<!-- 22&#45;&gt;30 -->\n<g id=\"edge30\" class=\"edge\">\n<title>22&#45;&gt;30</title>\n<path fill=\"none\" stroke=\"#000000\" d=\"M658.6462,-400.9465C663.619,-392.3271 669.0243,-382.9579 674.2148,-373.9611\"/>\n<polygon fill=\"#000000\" stroke=\"#000000\" points=\"677.344,-375.5409 679.3096,-365.13 671.2807,-372.0428 677.344,-375.5409\"/>\n</g>\n<!-- 24 -->\n<g id=\"node25\" class=\"node\">\n<title>24</title>\n<polygon fill=\"none\" stroke=\"#000000\" points=\"516.5,-261 415.5,-261 415.5,-193 516.5,-193 516.5,-261\"/>\n<text text-anchor=\"middle\" x=\"466\" y=\"-245.8\" font-family=\"Times,serif\" font-size=\"14.00\" fill=\"#000000\">X[2] &lt;= 102.0</text>\n<text text-anchor=\"middle\" x=\"466\" y=\"-230.8\" font-family=\"Times,serif\" font-size=\"14.00\" fill=\"#000000\">gini = 0.444</text>\n<text text-anchor=\"middle\" x=\"466\" y=\"-215.8\" font-family=\"Times,serif\" font-size=\"14.00\" fill=\"#000000\">samples = 6</text>\n<text text-anchor=\"middle\" x=\"466\" y=\"-200.8\" font-family=\"Times,serif\" font-size=\"14.00\" fill=\"#000000\">value = [2, 4]</text>\n</g>\n<!-- 23&#45;&gt;24 -->\n<g id=\"edge24\" class=\"edge\">\n<title>23&#45;&gt;24</title>\n<path fill=\"none\" stroke=\"#000000\" d=\"M542.6721,-296.9465C532.535,-287.6986 521.4517,-277.5876 510.9417,-267.9994\"/>\n<polygon fill=\"#000000\" stroke=\"#000000\" points=\"513.1583,-265.284 503.4117,-261.13 508.4405,-270.4553 513.1583,-265.284\"/>\n</g>\n<!-- 29 -->\n<g id=\"node30\" class=\"node\">\n<title>29</title>\n<polygon fill=\"none\" stroke=\"#000000\" points=\"629.5,-253.5 534.5,-253.5 534.5,-200.5 629.5,-200.5 629.5,-253.5\"/>\n<text text-anchor=\"middle\" x=\"582\" y=\"-238.3\" font-family=\"Times,serif\" font-size=\"14.00\" fill=\"#000000\">gini = 0.0</text>\n<text text-anchor=\"middle\" x=\"582\" y=\"-223.3\" font-family=\"Times,serif\" font-size=\"14.00\" fill=\"#000000\">samples = 4</text>\n<text text-anchor=\"middle\" x=\"582\" y=\"-208.3\" font-family=\"Times,serif\" font-size=\"14.00\" fill=\"#000000\">value = [4, 0]</text>\n</g>\n<!-- 23&#45;&gt;29 -->\n<g id=\"edge29\" class=\"edge\">\n<title>23&#45;&gt;29</title>\n<path fill=\"none\" stroke=\"#000000\" d=\"M580.6549,-296.9465C580.8603,-286.2621 581.088,-274.4254 581.2966,-263.5742\"/>\n<polygon fill=\"#000000\" stroke=\"#000000\" points=\"584.7966,-263.6076 581.4896,-253.5422 577.7979,-263.473 584.7966,-263.6076\"/>\n</g>\n<!-- 25 -->\n<g id=\"node26\" class=\"node\">\n<title>25</title>\n<polygon fill=\"none\" stroke=\"#000000\" points=\"455.5,-149.5 360.5,-149.5 360.5,-96.5 455.5,-96.5 455.5,-149.5\"/>\n<text text-anchor=\"middle\" x=\"408\" y=\"-134.3\" font-family=\"Times,serif\" font-size=\"14.00\" fill=\"#000000\">gini = 0.0</text>\n<text text-anchor=\"middle\" x=\"408\" y=\"-119.3\" font-family=\"Times,serif\" font-size=\"14.00\" fill=\"#000000\">samples = 1</text>\n<text text-anchor=\"middle\" x=\"408\" y=\"-104.3\" font-family=\"Times,serif\" font-size=\"14.00\" fill=\"#000000\">value = [1, 0]</text>\n</g>\n<!-- 24&#45;&gt;25 -->\n<g id=\"edge25\" class=\"edge\">\n<title>24&#45;&gt;25</title>\n<path fill=\"none\" stroke=\"#000000\" d=\"M447.0086,-192.9465C440.8657,-181.9316 434.0399,-169.6922 427.8373,-158.5703\"/>\n<polygon fill=\"#000000\" stroke=\"#000000\" points=\"430.7299,-156.5711 422.8024,-149.5422 424.6163,-159.9806 430.7299,-156.5711\"/>\n</g>\n<!-- 26 -->\n<g id=\"node27\" class=\"node\">\n<title>26</title>\n<polygon fill=\"none\" stroke=\"#000000\" points=\"574.5,-157 473.5,-157 473.5,-89 574.5,-89 574.5,-157\"/>\n<text text-anchor=\"middle\" x=\"524\" y=\"-141.8\" font-family=\"Times,serif\" font-size=\"14.00\" fill=\"#000000\">X[2] &lt;= 108.0</text>\n<text text-anchor=\"middle\" x=\"524\" y=\"-126.8\" font-family=\"Times,serif\" font-size=\"14.00\" fill=\"#000000\">gini = 0.32</text>\n<text text-anchor=\"middle\" x=\"524\" y=\"-111.8\" font-family=\"Times,serif\" font-size=\"14.00\" fill=\"#000000\">samples = 5</text>\n<text text-anchor=\"middle\" x=\"524\" y=\"-96.8\" font-family=\"Times,serif\" font-size=\"14.00\" fill=\"#000000\">value = [1, 4]</text>\n</g>\n<!-- 24&#45;&gt;26 -->\n<g id=\"edge26\" class=\"edge\">\n<title>24&#45;&gt;26</title>\n<path fill=\"none\" stroke=\"#000000\" d=\"M484.9914,-192.9465C489.7983,-184.3271 495.0235,-174.9579 500.0409,-165.9611\"/>\n<polygon fill=\"#000000\" stroke=\"#000000\" points=\"503.152,-167.5684 504.966,-157.13 497.0385,-164.1589 503.152,-167.5684\"/>\n</g>\n<!-- 27 -->\n<g id=\"node28\" class=\"node\">\n<title>27</title>\n<polygon fill=\"none\" stroke=\"#000000\" points=\"515.5,-53 420.5,-53 420.5,0 515.5,0 515.5,-53\"/>\n<text text-anchor=\"middle\" x=\"468\" y=\"-37.8\" font-family=\"Times,serif\" font-size=\"14.00\" fill=\"#000000\">gini = 0.0</text>\n<text text-anchor=\"middle\" x=\"468\" y=\"-22.8\" font-family=\"Times,serif\" font-size=\"14.00\" fill=\"#000000\">samples = 4</text>\n<text text-anchor=\"middle\" x=\"468\" y=\"-7.8\" font-family=\"Times,serif\" font-size=\"14.00\" fill=\"#000000\">value = [0, 4]</text>\n</g>\n<!-- 26&#45;&gt;27 -->\n<g id=\"edge27\" class=\"edge\">\n<title>26&#45;&gt;27</title>\n<path fill=\"none\" stroke=\"#000000\" d=\"M504.2565,-88.9777C499.2083,-80.2786 493.7669,-70.9018 488.6734,-62.1247\"/>\n<polygon fill=\"#000000\" stroke=\"#000000\" points=\"491.5689,-60.1409 483.5224,-53.2485 485.5145,-63.6544 491.5689,-60.1409\"/>\n</g>\n<!-- 28 -->\n<g id=\"node29\" class=\"node\">\n<title>28</title>\n<polygon fill=\"none\" stroke=\"#000000\" points=\"628.5,-53 533.5,-53 533.5,0 628.5,0 628.5,-53\"/>\n<text text-anchor=\"middle\" x=\"581\" y=\"-37.8\" font-family=\"Times,serif\" font-size=\"14.00\" fill=\"#000000\">gini = 0.0</text>\n<text text-anchor=\"middle\" x=\"581\" y=\"-22.8\" font-family=\"Times,serif\" font-size=\"14.00\" fill=\"#000000\">samples = 1</text>\n<text text-anchor=\"middle\" x=\"581\" y=\"-7.8\" font-family=\"Times,serif\" font-size=\"14.00\" fill=\"#000000\">value = [1, 0]</text>\n</g>\n<!-- 26&#45;&gt;28 -->\n<g id=\"edge28\" class=\"edge\">\n<title>26&#45;&gt;28</title>\n<path fill=\"none\" stroke=\"#000000\" d=\"M544.0961,-88.9777C549.2344,-80.2786 554.773,-70.9018 559.9575,-62.1247\"/>\n<polygon fill=\"#000000\" stroke=\"#000000\" points=\"563.1281,-63.6387 565.2004,-53.2485 557.101,-60.0786 563.1281,-63.6387\"/>\n</g>\n<!-- 31 -->\n<g id=\"node32\" class=\"node\">\n<title>31</title>\n<polygon fill=\"none\" stroke=\"#000000\" points=\"745.5,-253.5 650.5,-253.5 650.5,-200.5 745.5,-200.5 745.5,-253.5\"/>\n<text text-anchor=\"middle\" x=\"698\" y=\"-238.3\" font-family=\"Times,serif\" font-size=\"14.00\" fill=\"#000000\">gini = 0.0</text>\n<text text-anchor=\"middle\" x=\"698\" y=\"-223.3\" font-family=\"Times,serif\" font-size=\"14.00\" fill=\"#000000\">samples = 5</text>\n<text text-anchor=\"middle\" x=\"698\" y=\"-208.3\" font-family=\"Times,serif\" font-size=\"14.00\" fill=\"#000000\">value = [0, 5]</text>\n</g>\n<!-- 30&#45;&gt;31 -->\n<g id=\"edge31\" class=\"edge\">\n<title>30&#45;&gt;31</title>\n<path fill=\"none\" stroke=\"#000000\" d=\"M698.6726,-296.9465C698.5698,-286.2621 698.456,-274.4254 698.3517,-263.5742\"/>\n<polygon fill=\"#000000\" stroke=\"#000000\" points=\"701.8513,-263.508 698.2552,-253.5422 694.8516,-263.5754 701.8513,-263.508\"/>\n</g>\n<!-- 32 -->\n<g id=\"node33\" class=\"node\">\n<title>32</title>\n<polygon fill=\"none\" stroke=\"#000000\" points=\"858.5,-253.5 763.5,-253.5 763.5,-200.5 858.5,-200.5 858.5,-253.5\"/>\n<text text-anchor=\"middle\" x=\"811\" y=\"-238.3\" font-family=\"Times,serif\" font-size=\"14.00\" fill=\"#000000\">gini = 0.0</text>\n<text text-anchor=\"middle\" x=\"811\" y=\"-223.3\" font-family=\"Times,serif\" font-size=\"14.00\" fill=\"#000000\">samples = 1</text>\n<text text-anchor=\"middle\" x=\"811\" y=\"-208.3\" font-family=\"Times,serif\" font-size=\"14.00\" fill=\"#000000\">value = [1, 0]</text>\n</g>\n<!-- 30&#45;&gt;32 -->\n<g id=\"edge32\" class=\"edge\">\n<title>30&#45;&gt;32</title>\n<path fill=\"none\" stroke=\"#000000\" d=\"M735.673,-296.9465C748.2469,-285.2707 762.3026,-272.219 774.8359,-260.5809\"/>\n<polygon fill=\"#000000\" stroke=\"#000000\" points=\"777.4698,-262.9115 782.4161,-253.5422 772.7066,-257.7819 777.4698,-262.9115\"/>\n</g>\n<!-- 35 -->\n<g id=\"node36\" class=\"node\">\n<title>35</title>\n<polygon fill=\"none\" stroke=\"#000000\" points=\"1120,-781 1010,-781 1010,-713 1120,-713 1120,-781\"/>\n<text text-anchor=\"middle\" x=\"1065\" y=\"-765.8\" font-family=\"Times,serif\" font-size=\"14.00\" fill=\"#000000\">X[0] &lt;= 127.0</text>\n<text text-anchor=\"middle\" x=\"1065\" y=\"-750.8\" font-family=\"Times,serif\" font-size=\"14.00\" fill=\"#000000\">gini = 0.5</text>\n<text text-anchor=\"middle\" x=\"1065\" y=\"-735.8\" font-family=\"Times,serif\" font-size=\"14.00\" fill=\"#000000\">samples = 35</text>\n<text text-anchor=\"middle\" x=\"1065\" y=\"-720.8\" font-family=\"Times,serif\" font-size=\"14.00\" fill=\"#000000\">value = [17, 18]</text>\n</g>\n<!-- 34&#45;&gt;35 -->\n<g id=\"edge35\" class=\"edge\">\n<title>34&#45;&gt;35</title>\n<path fill=\"none\" stroke=\"#000000\" d=\"M1065,-816.9465C1065,-808.776 1065,-799.9318 1065,-791.3697\"/>\n<polygon fill=\"#000000\" stroke=\"#000000\" points=\"1068.5001,-791.13 1065,-781.13 1061.5001,-791.13 1068.5001,-791.13\"/>\n</g>\n<!-- 60 -->\n<g id=\"node61\" class=\"node\">\n<title>60</title>\n<polygon fill=\"none\" stroke=\"#000000\" points=\"1666,-781 1556,-781 1556,-713 1666,-713 1666,-781\"/>\n<text text-anchor=\"middle\" x=\"1611\" y=\"-765.8\" font-family=\"Times,serif\" font-size=\"14.00\" fill=\"#000000\">X[4] &lt;= 3.75</text>\n<text text-anchor=\"middle\" x=\"1611\" y=\"-750.8\" font-family=\"Times,serif\" font-size=\"14.00\" fill=\"#000000\">gini = 0.129</text>\n<text text-anchor=\"middle\" x=\"1611\" y=\"-735.8\" font-family=\"Times,serif\" font-size=\"14.00\" fill=\"#000000\">samples = 130</text>\n<text text-anchor=\"middle\" x=\"1611\" y=\"-720.8\" font-family=\"Times,serif\" font-size=\"14.00\" fill=\"#000000\">value = [9, 121]</text>\n</g>\n<!-- 34&#45;&gt;60 -->\n<g id=\"edge60\" class=\"edge\">\n<title>34&#45;&gt;60</title>\n<path fill=\"none\" stroke=\"#000000\" d=\"M1123.6907,-839.8208C1226.5499,-820.2286 1438.6188,-779.8345 1545.8585,-759.4079\"/>\n<polygon fill=\"#000000\" stroke=\"#000000\" points=\"1546.7336,-762.8042 1555.9021,-757.4948 1545.4238,-755.9279 1546.7336,-762.8042\"/>\n</g>\n<!-- 36 -->\n<g id=\"node37\" class=\"node\">\n<title>36</title>\n<polygon fill=\"none\" stroke=\"#000000\" points=\"1025.5,-677 930.5,-677 930.5,-609 1025.5,-609 1025.5,-677\"/>\n<text text-anchor=\"middle\" x=\"978\" y=\"-661.8\" font-family=\"Times,serif\" font-size=\"14.00\" fill=\"#000000\">X[3] &lt;= 3.5</text>\n<text text-anchor=\"middle\" x=\"978\" y=\"-646.8\" font-family=\"Times,serif\" font-size=\"14.00\" fill=\"#000000\">gini = 0.219</text>\n<text text-anchor=\"middle\" x=\"978\" y=\"-631.8\" font-family=\"Times,serif\" font-size=\"14.00\" fill=\"#000000\">samples = 8</text>\n<text text-anchor=\"middle\" x=\"978\" y=\"-616.8\" font-family=\"Times,serif\" font-size=\"14.00\" fill=\"#000000\">value = [7, 1]</text>\n</g>\n<!-- 35&#45;&gt;36 -->\n<g id=\"edge36\" class=\"edge\">\n<title>35&#45;&gt;36</title>\n<path fill=\"none\" stroke=\"#000000\" d=\"M1036.5129,-712.9465C1029.0021,-703.968 1020.8105,-694.1758 1012.9995,-684.8385\"/>\n<polygon fill=\"#000000\" stroke=\"#000000\" points=\"1015.652,-682.5544 1006.5511,-677.13 1010.2829,-687.0459 1015.652,-682.5544\"/>\n</g>\n<!-- 41 -->\n<g id=\"node42\" class=\"node\">\n<title>41</title>\n<polygon fill=\"none\" stroke=\"#000000\" points=\"1208,-677 1098,-677 1098,-609 1208,-609 1208,-677\"/>\n<text text-anchor=\"middle\" x=\"1153\" y=\"-661.8\" font-family=\"Times,serif\" font-size=\"14.00\" fill=\"#000000\">X[4] &lt;= 3.25</text>\n<text text-anchor=\"middle\" x=\"1153\" y=\"-646.8\" font-family=\"Times,serif\" font-size=\"14.00\" fill=\"#000000\">gini = 0.466</text>\n<text text-anchor=\"middle\" x=\"1153\" y=\"-631.8\" font-family=\"Times,serif\" font-size=\"14.00\" fill=\"#000000\">samples = 27</text>\n<text text-anchor=\"middle\" x=\"1153\" y=\"-616.8\" font-family=\"Times,serif\" font-size=\"14.00\" fill=\"#000000\">value = [10, 17]</text>\n</g>\n<!-- 35&#45;&gt;41 -->\n<g id=\"edge41\" class=\"edge\">\n<title>35&#45;&gt;41</title>\n<path fill=\"none\" stroke=\"#000000\" d=\"M1093.8145,-712.9465C1101.4117,-703.968 1109.6974,-694.1758 1117.5982,-684.8385\"/>\n<polygon fill=\"#000000\" stroke=\"#000000\" points=\"1120.3332,-687.0247 1124.1208,-677.13 1114.9895,-682.5031 1120.3332,-687.0247\"/>\n</g>\n<!-- 37 -->\n<g id=\"node38\" class=\"node\">\n<title>37</title>\n<polygon fill=\"none\" stroke=\"#000000\" points=\"909.5,-565.5 814.5,-565.5 814.5,-512.5 909.5,-512.5 909.5,-565.5\"/>\n<text text-anchor=\"middle\" x=\"862\" y=\"-550.3\" font-family=\"Times,serif\" font-size=\"14.00\" fill=\"#000000\">gini = 0.0</text>\n<text text-anchor=\"middle\" x=\"862\" y=\"-535.3\" font-family=\"Times,serif\" font-size=\"14.00\" fill=\"#000000\">samples = 6</text>\n<text text-anchor=\"middle\" x=\"862\" y=\"-520.3\" font-family=\"Times,serif\" font-size=\"14.00\" fill=\"#000000\">value = [6, 0]</text>\n</g>\n<!-- 36&#45;&gt;37 -->\n<g id=\"edge37\" class=\"edge\">\n<title>36&#45;&gt;37</title>\n<path fill=\"none\" stroke=\"#000000\" d=\"M940.0173,-608.9465C926.8714,-597.1606 912.1618,-583.9726 899.0887,-572.2519\"/>\n<polygon fill=\"#000000\" stroke=\"#000000\" points=\"901.3869,-569.6116 891.6047,-565.5422 896.714,-574.8236 901.3869,-569.6116\"/>\n</g>\n<!-- 38 -->\n<g id=\"node39\" class=\"node\">\n<title>38</title>\n<polygon fill=\"none\" stroke=\"#000000\" points=\"1028.5,-573 927.5,-573 927.5,-505 1028.5,-505 1028.5,-573\"/>\n<text text-anchor=\"middle\" x=\"978\" y=\"-557.8\" font-family=\"Times,serif\" font-size=\"14.00\" fill=\"#000000\">X[1] &lt;= 312.0</text>\n<text text-anchor=\"middle\" x=\"978\" y=\"-542.8\" font-family=\"Times,serif\" font-size=\"14.00\" fill=\"#000000\">gini = 0.5</text>\n<text text-anchor=\"middle\" x=\"978\" y=\"-527.8\" font-family=\"Times,serif\" font-size=\"14.00\" fill=\"#000000\">samples = 2</text>\n<text text-anchor=\"middle\" x=\"978\" y=\"-512.8\" font-family=\"Times,serif\" font-size=\"14.00\" fill=\"#000000\">value = [1, 1]</text>\n</g>\n<!-- 36&#45;&gt;38 -->\n<g id=\"edge38\" class=\"edge\">\n<title>36&#45;&gt;38</title>\n<path fill=\"none\" stroke=\"#000000\" d=\"M978,-608.9465C978,-600.776 978,-591.9318 978,-583.3697\"/>\n<polygon fill=\"#000000\" stroke=\"#000000\" points=\"981.5001,-583.13 978,-573.13 974.5001,-583.13 981.5001,-583.13\"/>\n</g>\n<!-- 39 -->\n<g id=\"node40\" class=\"node\">\n<title>39</title>\n<polygon fill=\"none\" stroke=\"#000000\" points=\"912.5,-461.5 817.5,-461.5 817.5,-408.5 912.5,-408.5 912.5,-461.5\"/>\n<text text-anchor=\"middle\" x=\"865\" y=\"-446.3\" font-family=\"Times,serif\" font-size=\"14.00\" fill=\"#000000\">gini = 0.0</text>\n<text text-anchor=\"middle\" x=\"865\" y=\"-431.3\" font-family=\"Times,serif\" font-size=\"14.00\" fill=\"#000000\">samples = 1</text>\n<text text-anchor=\"middle\" x=\"865\" y=\"-416.3\" font-family=\"Times,serif\" font-size=\"14.00\" fill=\"#000000\">value = [1, 0]</text>\n</g>\n<!-- 38&#45;&gt;39 -->\n<g id=\"edge39\" class=\"edge\">\n<title>38&#45;&gt;39</title>\n<path fill=\"none\" stroke=\"#000000\" d=\"M940.9996,-504.9465C928.3134,-493.2707 914.1322,-480.219 901.487,-468.5809\"/>\n<polygon fill=\"#000000\" stroke=\"#000000\" points=\"903.5673,-465.7389 893.8391,-461.5422 898.8269,-470.8895 903.5673,-465.7389\"/>\n</g>\n<!-- 40 -->\n<g id=\"node41\" class=\"node\">\n<title>40</title>\n<polygon fill=\"none\" stroke=\"#000000\" points=\"1025.5,-461.5 930.5,-461.5 930.5,-408.5 1025.5,-408.5 1025.5,-461.5\"/>\n<text text-anchor=\"middle\" x=\"978\" y=\"-446.3\" font-family=\"Times,serif\" font-size=\"14.00\" fill=\"#000000\">gini = 0.0</text>\n<text text-anchor=\"middle\" x=\"978\" y=\"-431.3\" font-family=\"Times,serif\" font-size=\"14.00\" fill=\"#000000\">samples = 1</text>\n<text text-anchor=\"middle\" x=\"978\" y=\"-416.3\" font-family=\"Times,serif\" font-size=\"14.00\" fill=\"#000000\">value = [0, 1]</text>\n</g>\n<!-- 38&#45;&gt;40 -->\n<g id=\"edge40\" class=\"edge\">\n<title>38&#45;&gt;40</title>\n<path fill=\"none\" stroke=\"#000000\" d=\"M978,-504.9465C978,-494.2621 978,-482.4254 978,-471.5742\"/>\n<polygon fill=\"#000000\" stroke=\"#000000\" points=\"981.5001,-471.5421 978,-461.5422 974.5001,-471.5422 981.5001,-471.5421\"/>\n</g>\n<!-- 42 -->\n<g id=\"node43\" class=\"node\">\n<title>42</title>\n<polygon fill=\"none\" stroke=\"#000000\" points=\"1203.5,-573 1102.5,-573 1102.5,-505 1203.5,-505 1203.5,-573\"/>\n<text text-anchor=\"middle\" x=\"1153\" y=\"-557.8\" font-family=\"Times,serif\" font-size=\"14.00\" fill=\"#000000\">X[0] &lt;= 201.5</text>\n<text text-anchor=\"middle\" x=\"1153\" y=\"-542.8\" font-family=\"Times,serif\" font-size=\"14.00\" fill=\"#000000\">gini = 0.42</text>\n<text text-anchor=\"middle\" x=\"1153\" y=\"-527.8\" font-family=\"Times,serif\" font-size=\"14.00\" fill=\"#000000\">samples = 10</text>\n<text text-anchor=\"middle\" x=\"1153\" y=\"-512.8\" font-family=\"Times,serif\" font-size=\"14.00\" fill=\"#000000\">value = [7, 3]</text>\n</g>\n<!-- 41&#45;&gt;42 -->\n<g id=\"edge42\" class=\"edge\">\n<title>41&#45;&gt;42</title>\n<path fill=\"none\" stroke=\"#000000\" d=\"M1153,-608.9465C1153,-600.776 1153,-591.9318 1153,-583.3697\"/>\n<polygon fill=\"#000000\" stroke=\"#000000\" points=\"1156.5001,-583.13 1153,-573.13 1149.5001,-583.13 1156.5001,-583.13\"/>\n</g>\n<!-- 49 -->\n<g id=\"node50\" class=\"node\">\n<title>49</title>\n<polygon fill=\"none\" stroke=\"#000000\" points=\"1378,-573 1276,-573 1276,-505 1378,-505 1378,-573\"/>\n<text text-anchor=\"middle\" x=\"1327\" y=\"-557.8\" font-family=\"Times,serif\" font-size=\"14.00\" fill=\"#000000\">X[2] &lt;= 111.0</text>\n<text text-anchor=\"middle\" x=\"1327\" y=\"-542.8\" font-family=\"Times,serif\" font-size=\"14.00\" fill=\"#000000\">gini = 0.291</text>\n<text text-anchor=\"middle\" x=\"1327\" y=\"-527.8\" font-family=\"Times,serif\" font-size=\"14.00\" fill=\"#000000\">samples = 17</text>\n<text text-anchor=\"middle\" x=\"1327\" y=\"-512.8\" font-family=\"Times,serif\" font-size=\"14.00\" fill=\"#000000\">value = [3, 14]</text>\n</g>\n<!-- 41&#45;&gt;49 -->\n<g id=\"edge49\" class=\"edge\">\n<title>41&#45;&gt;49</title>\n<path fill=\"none\" stroke=\"#000000\" d=\"M1208.0547,-610.0938C1226.8769,-598.8437 1248.0156,-586.209 1267.1942,-574.746\"/>\n<polygon fill=\"#000000\" stroke=\"#000000\" points=\"1269.0647,-577.7056 1275.8527,-569.5708 1265.4734,-571.697 1269.0647,-577.7056\"/>\n</g>\n<!-- 43 -->\n<g id=\"node44\" class=\"node\">\n<title>43</title>\n<polygon fill=\"none\" stroke=\"#000000\" points=\"1138.5,-461.5 1043.5,-461.5 1043.5,-408.5 1138.5,-408.5 1138.5,-461.5\"/>\n<text text-anchor=\"middle\" x=\"1091\" y=\"-446.3\" font-family=\"Times,serif\" font-size=\"14.00\" fill=\"#000000\">gini = 0.0</text>\n<text text-anchor=\"middle\" x=\"1091\" y=\"-431.3\" font-family=\"Times,serif\" font-size=\"14.00\" fill=\"#000000\">samples = 2</text>\n<text text-anchor=\"middle\" x=\"1091\" y=\"-416.3\" font-family=\"Times,serif\" font-size=\"14.00\" fill=\"#000000\">value = [0, 2]</text>\n</g>\n<!-- 42&#45;&gt;43 -->\n<g id=\"edge43\" class=\"edge\">\n<title>42&#45;&gt;43</title>\n<path fill=\"none\" stroke=\"#000000\" d=\"M1132.6989,-504.9465C1126.0666,-493.8215 1118.6897,-481.4473 1112.0067,-470.237\"/>\n<polygon fill=\"#000000\" stroke=\"#000000\" points=\"1114.9502,-468.3394 1106.8232,-461.5422 1108.9376,-471.9239 1114.9502,-468.3394\"/>\n</g>\n<!-- 44 -->\n<g id=\"node45\" class=\"node\">\n<title>44</title>\n<polygon fill=\"none\" stroke=\"#000000\" points=\"1257.5,-469 1156.5,-469 1156.5,-401 1257.5,-401 1257.5,-469\"/>\n<text text-anchor=\"middle\" x=\"1207\" y=\"-453.8\" font-family=\"Times,serif\" font-size=\"14.00\" fill=\"#000000\">X[0] &lt;= 393.0</text>\n<text text-anchor=\"middle\" x=\"1207\" y=\"-438.8\" font-family=\"Times,serif\" font-size=\"14.00\" fill=\"#000000\">gini = 0.219</text>\n<text text-anchor=\"middle\" x=\"1207\" y=\"-423.8\" font-family=\"Times,serif\" font-size=\"14.00\" fill=\"#000000\">samples = 8</text>\n<text text-anchor=\"middle\" x=\"1207\" y=\"-408.8\" font-family=\"Times,serif\" font-size=\"14.00\" fill=\"#000000\">value = [7, 1]</text>\n</g>\n<!-- 42&#45;&gt;44 -->\n<g id=\"edge44\" class=\"edge\">\n<title>42&#45;&gt;44</title>\n<path fill=\"none\" stroke=\"#000000\" d=\"M1170.6816,-504.9465C1175.1105,-496.4169 1179.9206,-487.153 1184.5472,-478.2424\"/>\n<polygon fill=\"#000000\" stroke=\"#000000\" points=\"1187.7767,-479.6178 1189.2787,-469.13 1181.5642,-476.3921 1187.7767,-479.6178\"/>\n</g>\n<!-- 45 -->\n<g id=\"node46\" class=\"node\">\n<title>45</title>\n<polygon fill=\"none\" stroke=\"#000000\" points=\"1142.5,-357.5 1047.5,-357.5 1047.5,-304.5 1142.5,-304.5 1142.5,-357.5\"/>\n<text text-anchor=\"middle\" x=\"1095\" y=\"-342.3\" font-family=\"Times,serif\" font-size=\"14.00\" fill=\"#000000\">gini = 0.0</text>\n<text text-anchor=\"middle\" x=\"1095\" y=\"-327.3\" font-family=\"Times,serif\" font-size=\"14.00\" fill=\"#000000\">samples = 6</text>\n<text text-anchor=\"middle\" x=\"1095\" y=\"-312.3\" font-family=\"Times,serif\" font-size=\"14.00\" fill=\"#000000\">value = [6, 0]</text>\n</g>\n<!-- 44&#45;&gt;45 -->\n<g id=\"edge45\" class=\"edge\">\n<title>44&#45;&gt;45</title>\n<path fill=\"none\" stroke=\"#000000\" d=\"M1170.327,-400.9465C1157.7531,-389.2707 1143.6974,-376.219 1131.1641,-364.5809\"/>\n<polygon fill=\"#000000\" stroke=\"#000000\" points=\"1133.2934,-361.7819 1123.5839,-357.5422 1128.5302,-366.9115 1133.2934,-361.7819\"/>\n</g>\n<!-- 46 -->\n<g id=\"node47\" class=\"node\">\n<title>46</title>\n<polygon fill=\"none\" stroke=\"#000000\" points=\"1255.5,-365 1160.5,-365 1160.5,-297 1255.5,-297 1255.5,-365\"/>\n<text text-anchor=\"middle\" x=\"1208\" y=\"-349.8\" font-family=\"Times,serif\" font-size=\"14.00\" fill=\"#000000\">X[5] &lt;= 3.75</text>\n<text text-anchor=\"middle\" x=\"1208\" y=\"-334.8\" font-family=\"Times,serif\" font-size=\"14.00\" fill=\"#000000\">gini = 0.5</text>\n<text text-anchor=\"middle\" x=\"1208\" y=\"-319.8\" font-family=\"Times,serif\" font-size=\"14.00\" fill=\"#000000\">samples = 2</text>\n<text text-anchor=\"middle\" x=\"1208\" y=\"-304.8\" font-family=\"Times,serif\" font-size=\"14.00\" fill=\"#000000\">value = [1, 1]</text>\n</g>\n<!-- 44&#45;&gt;46 -->\n<g id=\"edge46\" class=\"edge\">\n<title>44&#45;&gt;46</title>\n<path fill=\"none\" stroke=\"#000000\" d=\"M1207.3274,-400.9465C1207.406,-392.776 1207.491,-383.9318 1207.5734,-375.3697\"/>\n<polygon fill=\"#000000\" stroke=\"#000000\" points=\"1211.0754,-375.1632 1207.6718,-365.13 1204.0757,-375.0958 1211.0754,-375.1632\"/>\n</g>\n<!-- 47 -->\n<g id=\"node48\" class=\"node\">\n<title>47</title>\n<polygon fill=\"none\" stroke=\"#000000\" points=\"1144.5,-253.5 1049.5,-253.5 1049.5,-200.5 1144.5,-200.5 1144.5,-253.5\"/>\n<text text-anchor=\"middle\" x=\"1097\" y=\"-238.3\" font-family=\"Times,serif\" font-size=\"14.00\" fill=\"#000000\">gini = 0.0</text>\n<text text-anchor=\"middle\" x=\"1097\" y=\"-223.3\" font-family=\"Times,serif\" font-size=\"14.00\" fill=\"#000000\">samples = 1</text>\n<text text-anchor=\"middle\" x=\"1097\" y=\"-208.3\" font-family=\"Times,serif\" font-size=\"14.00\" fill=\"#000000\">value = [0, 1]</text>\n</g>\n<!-- 46&#45;&gt;47 -->\n<g id=\"edge47\" class=\"edge\">\n<title>46&#45;&gt;47</title>\n<path fill=\"none\" stroke=\"#000000\" d=\"M1171.6544,-296.9465C1159.1928,-285.2707 1145.2626,-272.219 1132.8412,-260.5809\"/>\n<polygon fill=\"#000000\" stroke=\"#000000\" points=\"1135.0191,-257.8253 1125.3287,-253.5422 1130.2331,-262.9335 1135.0191,-257.8253\"/>\n</g>\n<!-- 48 -->\n<g id=\"node49\" class=\"node\">\n<title>48</title>\n<polygon fill=\"none\" stroke=\"#000000\" points=\"1257.5,-253.5 1162.5,-253.5 1162.5,-200.5 1257.5,-200.5 1257.5,-253.5\"/>\n<text text-anchor=\"middle\" x=\"1210\" y=\"-238.3\" font-family=\"Times,serif\" font-size=\"14.00\" fill=\"#000000\">gini = 0.0</text>\n<text text-anchor=\"middle\" x=\"1210\" y=\"-223.3\" font-family=\"Times,serif\" font-size=\"14.00\" fill=\"#000000\">samples = 1</text>\n<text text-anchor=\"middle\" x=\"1210\" y=\"-208.3\" font-family=\"Times,serif\" font-size=\"14.00\" fill=\"#000000\">value = [1, 0]</text>\n</g>\n<!-- 46&#45;&gt;48 -->\n<g id=\"edge48\" class=\"edge\">\n<title>46&#45;&gt;48</title>\n<path fill=\"none\" stroke=\"#000000\" d=\"M1208.6549,-296.9465C1208.8603,-286.2621 1209.088,-274.4254 1209.2966,-263.5742\"/>\n<polygon fill=\"#000000\" stroke=\"#000000\" points=\"1212.7966,-263.6076 1209.4896,-253.5422 1205.7979,-263.473 1212.7966,-263.6076\"/>\n</g>\n<!-- 50 -->\n<g id=\"node51\" class=\"node\">\n<title>50</title>\n<polygon fill=\"none\" stroke=\"#000000\" points=\"1378,-469 1276,-469 1276,-401 1378,-401 1378,-469\"/>\n<text text-anchor=\"middle\" x=\"1327\" y=\"-453.8\" font-family=\"Times,serif\" font-size=\"14.00\" fill=\"#000000\">X[6] &lt;= 8.785</text>\n<text text-anchor=\"middle\" x=\"1327\" y=\"-438.8\" font-family=\"Times,serif\" font-size=\"14.00\" fill=\"#000000\">gini = 0.219</text>\n<text text-anchor=\"middle\" x=\"1327\" y=\"-423.8\" font-family=\"Times,serif\" font-size=\"14.00\" fill=\"#000000\">samples = 16</text>\n<text text-anchor=\"middle\" x=\"1327\" y=\"-408.8\" font-family=\"Times,serif\" font-size=\"14.00\" fill=\"#000000\">value = [2, 14]</text>\n</g>\n<!-- 49&#45;&gt;50 -->\n<g id=\"edge50\" class=\"edge\">\n<title>49&#45;&gt;50</title>\n<path fill=\"none\" stroke=\"#000000\" d=\"M1327,-504.9465C1327,-496.776 1327,-487.9318 1327,-479.3697\"/>\n<polygon fill=\"#000000\" stroke=\"#000000\" points=\"1330.5001,-479.13 1327,-469.13 1323.5001,-479.13 1330.5001,-479.13\"/>\n</g>\n<!-- 59 -->\n<g id=\"node60\" class=\"node\">\n<title>59</title>\n<polygon fill=\"none\" stroke=\"#000000\" points=\"1491.5,-461.5 1396.5,-461.5 1396.5,-408.5 1491.5,-408.5 1491.5,-461.5\"/>\n<text text-anchor=\"middle\" x=\"1444\" y=\"-446.3\" font-family=\"Times,serif\" font-size=\"14.00\" fill=\"#000000\">gini = 0.0</text>\n<text text-anchor=\"middle\" x=\"1444\" y=\"-431.3\" font-family=\"Times,serif\" font-size=\"14.00\" fill=\"#000000\">samples = 1</text>\n<text text-anchor=\"middle\" x=\"1444\" y=\"-416.3\" font-family=\"Times,serif\" font-size=\"14.00\" fill=\"#000000\">value = [1, 0]</text>\n</g>\n<!-- 49&#45;&gt;59 -->\n<g id=\"edge59\" class=\"edge\">\n<title>49&#45;&gt;59</title>\n<path fill=\"none\" stroke=\"#000000\" d=\"M1365.3102,-504.9465C1378.5694,-493.1606 1393.4058,-479.9726 1406.5916,-468.2519\"/>\n<polygon fill=\"#000000\" stroke=\"#000000\" points=\"1408.9912,-470.8018 1414.1401,-461.5422 1404.3407,-465.5699 1408.9912,-470.8018\"/>\n</g>\n<!-- 51 -->\n<g id=\"node52\" class=\"node\">\n<title>51</title>\n<polygon fill=\"none\" stroke=\"#000000\" points=\"1376.5,-365 1275.5,-365 1275.5,-297 1376.5,-297 1376.5,-365\"/>\n<text text-anchor=\"middle\" x=\"1326\" y=\"-349.8\" font-family=\"Times,serif\" font-size=\"14.00\" fill=\"#000000\">X[6] &lt;= 8.775</text>\n<text text-anchor=\"middle\" x=\"1326\" y=\"-334.8\" font-family=\"Times,serif\" font-size=\"14.00\" fill=\"#000000\">gini = 0.408</text>\n<text text-anchor=\"middle\" x=\"1326\" y=\"-319.8\" font-family=\"Times,serif\" font-size=\"14.00\" fill=\"#000000\">samples = 7</text>\n<text text-anchor=\"middle\" x=\"1326\" y=\"-304.8\" font-family=\"Times,serif\" font-size=\"14.00\" fill=\"#000000\">value = [2, 5]</text>\n</g>\n<!-- 50&#45;&gt;51 -->\n<g id=\"edge51\" class=\"edge\">\n<title>50&#45;&gt;51</title>\n<path fill=\"none\" stroke=\"#000000\" d=\"M1326.6726,-400.9465C1326.594,-392.776 1326.509,-383.9318 1326.4266,-375.3697\"/>\n<polygon fill=\"#000000\" stroke=\"#000000\" points=\"1329.9243,-375.0958 1326.3282,-365.13 1322.9246,-375.1632 1329.9243,-375.0958\"/>\n</g>\n<!-- 58 -->\n<g id=\"node59\" class=\"node\">\n<title>58</title>\n<polygon fill=\"none\" stroke=\"#000000\" points=\"1489.5,-357.5 1394.5,-357.5 1394.5,-304.5 1489.5,-304.5 1489.5,-357.5\"/>\n<text text-anchor=\"middle\" x=\"1442\" y=\"-342.3\" font-family=\"Times,serif\" font-size=\"14.00\" fill=\"#000000\">gini = 0.0</text>\n<text text-anchor=\"middle\" x=\"1442\" y=\"-327.3\" font-family=\"Times,serif\" font-size=\"14.00\" fill=\"#000000\">samples = 9</text>\n<text text-anchor=\"middle\" x=\"1442\" y=\"-312.3\" font-family=\"Times,serif\" font-size=\"14.00\" fill=\"#000000\">value = [0, 9]</text>\n</g>\n<!-- 50&#45;&gt;58 -->\n<g id=\"edge58\" class=\"edge\">\n<title>50&#45;&gt;58</title>\n<path fill=\"none\" stroke=\"#000000\" d=\"M1364.6553,-400.9465C1377.6878,-389.1606 1392.2706,-375.9726 1405.2311,-364.2519\"/>\n<polygon fill=\"#000000\" stroke=\"#000000\" points=\"1407.5812,-366.8456 1412.6505,-357.5422 1402.886,-361.6537 1407.5812,-366.8456\"/>\n</g>\n<!-- 52 -->\n<g id=\"node53\" class=\"node\">\n<title>52</title>\n<polygon fill=\"none\" stroke=\"#000000\" points=\"1371.5,-261 1276.5,-261 1276.5,-193 1371.5,-193 1371.5,-261\"/>\n<text text-anchor=\"middle\" x=\"1324\" y=\"-245.8\" font-family=\"Times,serif\" font-size=\"14.00\" fill=\"#000000\">X[5] &lt;= 4.25</text>\n<text text-anchor=\"middle\" x=\"1324\" y=\"-230.8\" font-family=\"Times,serif\" font-size=\"14.00\" fill=\"#000000\">gini = 0.278</text>\n<text text-anchor=\"middle\" x=\"1324\" y=\"-215.8\" font-family=\"Times,serif\" font-size=\"14.00\" fill=\"#000000\">samples = 6</text>\n<text text-anchor=\"middle\" x=\"1324\" y=\"-200.8\" font-family=\"Times,serif\" font-size=\"14.00\" fill=\"#000000\">value = [1, 5]</text>\n</g>\n<!-- 51&#45;&gt;52 -->\n<g id=\"edge52\" class=\"edge\">\n<title>51&#45;&gt;52</title>\n<path fill=\"none\" stroke=\"#000000\" d=\"M1325.3451,-296.9465C1325.188,-288.776 1325.0179,-279.9318 1324.8533,-271.3697\"/>\n<polygon fill=\"#000000\" stroke=\"#000000\" points=\"1328.3481,-271.0608 1324.6563,-261.13 1321.3494,-271.1955 1328.3481,-271.0608\"/>\n</g>\n<!-- 57 -->\n<g id=\"node58\" class=\"node\">\n<title>57</title>\n<polygon fill=\"none\" stroke=\"#000000\" points=\"1484.5,-253.5 1389.5,-253.5 1389.5,-200.5 1484.5,-200.5 1484.5,-253.5\"/>\n<text text-anchor=\"middle\" x=\"1437\" y=\"-238.3\" font-family=\"Times,serif\" font-size=\"14.00\" fill=\"#000000\">gini = 0.0</text>\n<text text-anchor=\"middle\" x=\"1437\" y=\"-223.3\" font-family=\"Times,serif\" font-size=\"14.00\" fill=\"#000000\">samples = 1</text>\n<text text-anchor=\"middle\" x=\"1437\" y=\"-208.3\" font-family=\"Times,serif\" font-size=\"14.00\" fill=\"#000000\">value = [1, 0]</text>\n</g>\n<!-- 51&#45;&gt;57 -->\n<g id=\"edge57\" class=\"edge\">\n<title>51&#45;&gt;57</title>\n<path fill=\"none\" stroke=\"#000000\" d=\"M1362.3456,-296.9465C1374.8072,-285.2707 1388.7374,-272.219 1401.1588,-260.5809\"/>\n<polygon fill=\"#000000\" stroke=\"#000000\" points=\"1403.7669,-262.9335 1408.6713,-253.5422 1398.9809,-257.8253 1403.7669,-262.9335\"/>\n</g>\n<!-- 53 -->\n<g id=\"node54\" class=\"node\">\n<title>53</title>\n<polygon fill=\"none\" stroke=\"#000000\" points=\"1315.5,-149.5 1220.5,-149.5 1220.5,-96.5 1315.5,-96.5 1315.5,-149.5\"/>\n<text text-anchor=\"middle\" x=\"1268\" y=\"-134.3\" font-family=\"Times,serif\" font-size=\"14.00\" fill=\"#000000\">gini = 0.0</text>\n<text text-anchor=\"middle\" x=\"1268\" y=\"-119.3\" font-family=\"Times,serif\" font-size=\"14.00\" fill=\"#000000\">samples = 4</text>\n<text text-anchor=\"middle\" x=\"1268\" y=\"-104.3\" font-family=\"Times,serif\" font-size=\"14.00\" fill=\"#000000\">value = [0, 4]</text>\n</g>\n<!-- 52&#45;&gt;53 -->\n<g id=\"edge53\" class=\"edge\">\n<title>52&#45;&gt;53</title>\n<path fill=\"none\" stroke=\"#000000\" d=\"M1305.6635,-192.9465C1299.7324,-181.9316 1293.1419,-169.6922 1287.1532,-158.5703\"/>\n<polygon fill=\"#000000\" stroke=\"#000000\" points=\"1290.1146,-156.6875 1282.2919,-149.5422 1283.9513,-160.0063 1290.1146,-156.6875\"/>\n</g>\n<!-- 54 -->\n<g id=\"node55\" class=\"node\">\n<title>54</title>\n<polygon fill=\"none\" stroke=\"#000000\" points=\"1428.5,-157 1333.5,-157 1333.5,-89 1428.5,-89 1428.5,-157\"/>\n<text text-anchor=\"middle\" x=\"1381\" y=\"-141.8\" font-family=\"Times,serif\" font-size=\"14.00\" fill=\"#000000\">X[3] &lt;= 4.0</text>\n<text text-anchor=\"middle\" x=\"1381\" y=\"-126.8\" font-family=\"Times,serif\" font-size=\"14.00\" fill=\"#000000\">gini = 0.5</text>\n<text text-anchor=\"middle\" x=\"1381\" y=\"-111.8\" font-family=\"Times,serif\" font-size=\"14.00\" fill=\"#000000\">samples = 2</text>\n<text text-anchor=\"middle\" x=\"1381\" y=\"-96.8\" font-family=\"Times,serif\" font-size=\"14.00\" fill=\"#000000\">value = [1, 1]</text>\n</g>\n<!-- 52&#45;&gt;54 -->\n<g id=\"edge54\" class=\"edge\">\n<title>52&#45;&gt;54</title>\n<path fill=\"none\" stroke=\"#000000\" d=\"M1342.6639,-192.9465C1347.388,-184.3271 1352.5231,-174.9579 1357.454,-165.9611\"/>\n<polygon fill=\"#000000\" stroke=\"#000000\" points=\"1360.5571,-167.5815 1362.2941,-157.13 1354.4186,-164.2171 1360.5571,-167.5815\"/>\n</g>\n<!-- 55 -->\n<g id=\"node56\" class=\"node\">\n<title>55</title>\n<polygon fill=\"none\" stroke=\"#000000\" points=\"1372.5,-53 1277.5,-53 1277.5,0 1372.5,0 1372.5,-53\"/>\n<text text-anchor=\"middle\" x=\"1325\" y=\"-37.8\" font-family=\"Times,serif\" font-size=\"14.00\" fill=\"#000000\">gini = 0.0</text>\n<text text-anchor=\"middle\" x=\"1325\" y=\"-22.8\" font-family=\"Times,serif\" font-size=\"14.00\" fill=\"#000000\">samples = 1</text>\n<text text-anchor=\"middle\" x=\"1325\" y=\"-7.8\" font-family=\"Times,serif\" font-size=\"14.00\" fill=\"#000000\">value = [1, 0]</text>\n</g>\n<!-- 54&#45;&gt;55 -->\n<g id=\"edge55\" class=\"edge\">\n<title>54&#45;&gt;55</title>\n<path fill=\"none\" stroke=\"#000000\" d=\"M1361.2565,-88.9777C1356.2083,-80.2786 1350.7669,-70.9018 1345.6734,-62.1247\"/>\n<polygon fill=\"#000000\" stroke=\"#000000\" points=\"1348.5689,-60.1409 1340.5224,-53.2485 1342.5145,-63.6544 1348.5689,-60.1409\"/>\n</g>\n<!-- 56 -->\n<g id=\"node57\" class=\"node\">\n<title>56</title>\n<polygon fill=\"none\" stroke=\"#000000\" points=\"1485.5,-53 1390.5,-53 1390.5,0 1485.5,0 1485.5,-53\"/>\n<text text-anchor=\"middle\" x=\"1438\" y=\"-37.8\" font-family=\"Times,serif\" font-size=\"14.00\" fill=\"#000000\">gini = 0.0</text>\n<text text-anchor=\"middle\" x=\"1438\" y=\"-22.8\" font-family=\"Times,serif\" font-size=\"14.00\" fill=\"#000000\">samples = 1</text>\n<text text-anchor=\"middle\" x=\"1438\" y=\"-7.8\" font-family=\"Times,serif\" font-size=\"14.00\" fill=\"#000000\">value = [0, 1]</text>\n</g>\n<!-- 54&#45;&gt;56 -->\n<g id=\"edge56\" class=\"edge\">\n<title>54&#45;&gt;56</title>\n<path fill=\"none\" stroke=\"#000000\" d=\"M1401.0961,-88.9777C1406.2344,-80.2786 1411.773,-70.9018 1416.9575,-62.1247\"/>\n<polygon fill=\"#000000\" stroke=\"#000000\" points=\"1420.1281,-63.6387 1422.2004,-53.2485 1414.101,-60.0786 1420.1281,-63.6387\"/>\n</g>\n<!-- 61 -->\n<g id=\"node62\" class=\"node\">\n<title>61</title>\n<polygon fill=\"none\" stroke=\"#000000\" points=\"1662,-677 1560,-677 1560,-609 1662,-609 1662,-677\"/>\n<text text-anchor=\"middle\" x=\"1611\" y=\"-661.8\" font-family=\"Times,serif\" font-size=\"14.00\" fill=\"#000000\">X[0] &lt;= 117.0</text>\n<text text-anchor=\"middle\" x=\"1611\" y=\"-646.8\" font-family=\"Times,serif\" font-size=\"14.00\" fill=\"#000000\">gini = 0.382</text>\n<text text-anchor=\"middle\" x=\"1611\" y=\"-631.8\" font-family=\"Times,serif\" font-size=\"14.00\" fill=\"#000000\">samples = 35</text>\n<text text-anchor=\"middle\" x=\"1611\" y=\"-616.8\" font-family=\"Times,serif\" font-size=\"14.00\" fill=\"#000000\">value = [9, 26]</text>\n</g>\n<!-- 60&#45;&gt;61 -->\n<g id=\"edge61\" class=\"edge\">\n<title>60&#45;&gt;61</title>\n<path fill=\"none\" stroke=\"#000000\" d=\"M1611,-712.9465C1611,-704.776 1611,-695.9318 1611,-687.3697\"/>\n<polygon fill=\"#000000\" stroke=\"#000000\" points=\"1614.5001,-687.13 1611,-677.13 1607.5001,-687.13 1614.5001,-687.13\"/>\n</g>\n<!-- 76 -->\n<g id=\"node77\" class=\"node\">\n<title>76</title>\n<polygon fill=\"none\" stroke=\"#000000\" points=\"1782,-669.5 1680,-669.5 1680,-616.5 1782,-616.5 1782,-669.5\"/>\n<text text-anchor=\"middle\" x=\"1731\" y=\"-654.3\" font-family=\"Times,serif\" font-size=\"14.00\" fill=\"#000000\">gini = 0.0</text>\n<text text-anchor=\"middle\" x=\"1731\" y=\"-639.3\" font-family=\"Times,serif\" font-size=\"14.00\" fill=\"#000000\">samples = 95</text>\n<text text-anchor=\"middle\" x=\"1731\" y=\"-624.3\" font-family=\"Times,serif\" font-size=\"14.00\" fill=\"#000000\">value = [0, 95]</text>\n</g>\n<!-- 60&#45;&gt;76 -->\n<g id=\"edge76\" class=\"edge\">\n<title>60&#45;&gt;76</title>\n<path fill=\"none\" stroke=\"#000000\" d=\"M1650.2925,-712.9465C1663.8917,-701.1606 1679.1085,-687.9726 1692.6324,-676.2519\"/>\n<polygon fill=\"#000000\" stroke=\"#000000\" points=\"1695.1098,-678.7364 1700.3744,-669.5422 1690.5252,-673.4466 1695.1098,-678.7364\"/>\n</g>\n<!-- 62 -->\n<g id=\"node63\" class=\"node\">\n<title>62</title>\n<polygon fill=\"none\" stroke=\"#000000\" points=\"1658.5,-573 1563.5,-573 1563.5,-505 1658.5,-505 1658.5,-573\"/>\n<text text-anchor=\"middle\" x=\"1611\" y=\"-557.8\" font-family=\"Times,serif\" font-size=\"14.00\" fill=\"#000000\">X[0] &lt;= 49.0</text>\n<text text-anchor=\"middle\" x=\"1611\" y=\"-542.8\" font-family=\"Times,serif\" font-size=\"14.00\" fill=\"#000000\">gini = 0.444</text>\n<text text-anchor=\"middle\" x=\"1611\" y=\"-527.8\" font-family=\"Times,serif\" font-size=\"14.00\" fill=\"#000000\">samples = 6</text>\n<text text-anchor=\"middle\" x=\"1611\" y=\"-512.8\" font-family=\"Times,serif\" font-size=\"14.00\" fill=\"#000000\">value = [4, 2]</text>\n</g>\n<!-- 61&#45;&gt;62 -->\n<g id=\"edge62\" class=\"edge\">\n<title>61&#45;&gt;62</title>\n<path fill=\"none\" stroke=\"#000000\" d=\"M1611,-608.9465C1611,-600.776 1611,-591.9318 1611,-583.3697\"/>\n<polygon fill=\"#000000\" stroke=\"#000000\" points=\"1614.5001,-583.13 1611,-573.13 1607.5001,-583.13 1614.5001,-583.13\"/>\n</g>\n<!-- 65 -->\n<g id=\"node66\" class=\"node\">\n<title>65</title>\n<polygon fill=\"none\" stroke=\"#000000\" points=\"1834,-573 1732,-573 1732,-505 1834,-505 1834,-573\"/>\n<text text-anchor=\"middle\" x=\"1783\" y=\"-557.8\" font-family=\"Times,serif\" font-size=\"14.00\" fill=\"#000000\">X[5] &lt;= 1.75</text>\n<text text-anchor=\"middle\" x=\"1783\" y=\"-542.8\" font-family=\"Times,serif\" font-size=\"14.00\" fill=\"#000000\">gini = 0.285</text>\n<text text-anchor=\"middle\" x=\"1783\" y=\"-527.8\" font-family=\"Times,serif\" font-size=\"14.00\" fill=\"#000000\">samples = 29</text>\n<text text-anchor=\"middle\" x=\"1783\" y=\"-512.8\" font-family=\"Times,serif\" font-size=\"14.00\" fill=\"#000000\">value = [5, 24]</text>\n</g>\n<!-- 61&#45;&gt;65 -->\n<g id=\"edge65\" class=\"edge\">\n<title>61&#45;&gt;65</title>\n<path fill=\"none\" stroke=\"#000000\" d=\"M1662.14,-612.0782C1681.2898,-600.4992 1703.2154,-587.2419 1723.0881,-575.2258\"/>\n<polygon fill=\"#000000\" stroke=\"#000000\" points=\"1725.0137,-578.1516 1731.7601,-569.9823 1721.3917,-572.1615 1725.0137,-578.1516\"/>\n</g>\n<!-- 63 -->\n<g id=\"node64\" class=\"node\">\n<title>63</title>\n<polygon fill=\"none\" stroke=\"#000000\" points=\"1604.5,-461.5 1509.5,-461.5 1509.5,-408.5 1604.5,-408.5 1604.5,-461.5\"/>\n<text text-anchor=\"middle\" x=\"1557\" y=\"-446.3\" font-family=\"Times,serif\" font-size=\"14.00\" fill=\"#000000\">gini = 0.0</text>\n<text text-anchor=\"middle\" x=\"1557\" y=\"-431.3\" font-family=\"Times,serif\" font-size=\"14.00\" fill=\"#000000\">samples = 2</text>\n<text text-anchor=\"middle\" x=\"1557\" y=\"-416.3\" font-family=\"Times,serif\" font-size=\"14.00\" fill=\"#000000\">value = [0, 2]</text>\n</g>\n<!-- 62&#45;&gt;63 -->\n<g id=\"edge63\" class=\"edge\">\n<title>62&#45;&gt;63</title>\n<path fill=\"none\" stroke=\"#000000\" d=\"M1593.3184,-504.9465C1587.5991,-493.9316 1581.244,-481.6922 1575.4692,-470.5703\"/>\n<polygon fill=\"#000000\" stroke=\"#000000\" points=\"1578.496,-468.8043 1570.7815,-461.5422 1572.2835,-472.03 1578.496,-468.8043\"/>\n</g>\n<!-- 64 -->\n<g id=\"node65\" class=\"node\">\n<title>64</title>\n<polygon fill=\"none\" stroke=\"#000000\" points=\"1717.5,-461.5 1622.5,-461.5 1622.5,-408.5 1717.5,-408.5 1717.5,-461.5\"/>\n<text text-anchor=\"middle\" x=\"1670\" y=\"-446.3\" font-family=\"Times,serif\" font-size=\"14.00\" fill=\"#000000\">gini = 0.0</text>\n<text text-anchor=\"middle\" x=\"1670\" y=\"-431.3\" font-family=\"Times,serif\" font-size=\"14.00\" fill=\"#000000\">samples = 4</text>\n<text text-anchor=\"middle\" x=\"1670\" y=\"-416.3\" font-family=\"Times,serif\" font-size=\"14.00\" fill=\"#000000\">value = [4, 0]</text>\n</g>\n<!-- 62&#45;&gt;64 -->\n<g id=\"edge64\" class=\"edge\">\n<title>62&#45;&gt;64</title>\n<path fill=\"none\" stroke=\"#000000\" d=\"M1630.3188,-504.9465C1636.5676,-493.9316 1643.5112,-481.6922 1649.8207,-470.5703\"/>\n<polygon fill=\"#000000\" stroke=\"#000000\" points=\"1653.0523,-471.967 1654.9424,-461.5422 1646.9638,-468.513 1653.0523,-471.967\"/>\n</g>\n<!-- 66 -->\n<g id=\"node67\" class=\"node\">\n<title>66</title>\n<polygon fill=\"none\" stroke=\"#000000\" points=\"1830.5,-461.5 1735.5,-461.5 1735.5,-408.5 1830.5,-408.5 1830.5,-461.5\"/>\n<text text-anchor=\"middle\" x=\"1783\" y=\"-446.3\" font-family=\"Times,serif\" font-size=\"14.00\" fill=\"#000000\">gini = 0.0</text>\n<text text-anchor=\"middle\" x=\"1783\" y=\"-431.3\" font-family=\"Times,serif\" font-size=\"14.00\" fill=\"#000000\">samples = 1</text>\n<text text-anchor=\"middle\" x=\"1783\" y=\"-416.3\" font-family=\"Times,serif\" font-size=\"14.00\" fill=\"#000000\">value = [1, 0]</text>\n</g>\n<!-- 65&#45;&gt;66 -->\n<g id=\"edge66\" class=\"edge\">\n<title>65&#45;&gt;66</title>\n<path fill=\"none\" stroke=\"#000000\" d=\"M1783,-504.9465C1783,-494.2621 1783,-482.4254 1783,-471.5742\"/>\n<polygon fill=\"#000000\" stroke=\"#000000\" points=\"1786.5001,-471.5421 1783,-461.5422 1779.5001,-471.5422 1786.5001,-471.5421\"/>\n</g>\n<!-- 67 -->\n<g id=\"node68\" class=\"node\">\n<title>67</title>\n<polygon fill=\"none\" stroke=\"#000000\" points=\"1951,-469 1849,-469 1849,-401 1951,-401 1951,-469\"/>\n<text text-anchor=\"middle\" x=\"1900\" y=\"-453.8\" font-family=\"Times,serif\" font-size=\"14.00\" fill=\"#000000\">X[4] &lt;= 3.25</text>\n<text text-anchor=\"middle\" x=\"1900\" y=\"-438.8\" font-family=\"Times,serif\" font-size=\"14.00\" fill=\"#000000\">gini = 0.245</text>\n<text text-anchor=\"middle\" x=\"1900\" y=\"-423.8\" font-family=\"Times,serif\" font-size=\"14.00\" fill=\"#000000\">samples = 28</text>\n<text text-anchor=\"middle\" x=\"1900\" y=\"-408.8\" font-family=\"Times,serif\" font-size=\"14.00\" fill=\"#000000\">value = [4, 24]</text>\n</g>\n<!-- 65&#45;&gt;67 -->\n<g id=\"edge67\" class=\"edge\">\n<title>65&#45;&gt;67</title>\n<path fill=\"none\" stroke=\"#000000\" d=\"M1821.3102,-504.9465C1831.7141,-495.6986 1843.089,-485.5876 1853.8757,-475.9994\"/>\n<polygon fill=\"#000000\" stroke=\"#000000\" points=\"1856.4549,-478.3896 1861.6038,-469.13 1851.8044,-473.1577 1856.4549,-478.3896\"/>\n</g>\n<!-- 68 -->\n<g id=\"node69\" class=\"node\">\n<title>68</title>\n<polygon fill=\"none\" stroke=\"#000000\" points=\"1891,-357.5 1789,-357.5 1789,-304.5 1891,-304.5 1891,-357.5\"/>\n<text text-anchor=\"middle\" x=\"1840\" y=\"-342.3\" font-family=\"Times,serif\" font-size=\"14.00\" fill=\"#000000\">gini = 0.0</text>\n<text text-anchor=\"middle\" x=\"1840\" y=\"-327.3\" font-family=\"Times,serif\" font-size=\"14.00\" fill=\"#000000\">samples = 13</text>\n<text text-anchor=\"middle\" x=\"1840\" y=\"-312.3\" font-family=\"Times,serif\" font-size=\"14.00\" fill=\"#000000\">value = [0, 13]</text>\n</g>\n<!-- 67&#45;&gt;68 -->\n<g id=\"edge68\" class=\"edge\">\n<title>67&#45;&gt;68</title>\n<path fill=\"none\" stroke=\"#000000\" d=\"M1880.3538,-400.9465C1873.9355,-389.8215 1866.7965,-377.4473 1860.329,-366.237\"/>\n<polygon fill=\"#000000\" stroke=\"#000000\" points=\"1863.3417,-364.455 1855.3128,-357.5422 1857.2784,-367.9531 1863.3417,-364.455\"/>\n</g>\n<!-- 69 -->\n<g id=\"node70\" class=\"node\">\n<title>69</title>\n<polygon fill=\"none\" stroke=\"#000000\" points=\"2010.5,-365 1909.5,-365 1909.5,-297 2010.5,-297 2010.5,-365\"/>\n<text text-anchor=\"middle\" x=\"1960\" y=\"-349.8\" font-family=\"Times,serif\" font-size=\"14.00\" fill=\"#000000\">X[5] &lt;= 3.75</text>\n<text text-anchor=\"middle\" x=\"1960\" y=\"-334.8\" font-family=\"Times,serif\" font-size=\"14.00\" fill=\"#000000\">gini = 0.391</text>\n<text text-anchor=\"middle\" x=\"1960\" y=\"-319.8\" font-family=\"Times,serif\" font-size=\"14.00\" fill=\"#000000\">samples = 15</text>\n<text text-anchor=\"middle\" x=\"1960\" y=\"-304.8\" font-family=\"Times,serif\" font-size=\"14.00\" fill=\"#000000\">value = [4, 11]</text>\n</g>\n<!-- 67&#45;&gt;69 -->\n<g id=\"edge69\" class=\"edge\">\n<title>67&#45;&gt;69</title>\n<path fill=\"none\" stroke=\"#000000\" d=\"M1919.6462,-400.9465C1924.619,-392.3271 1930.0243,-382.9579 1935.2148,-373.9611\"/>\n<polygon fill=\"#000000\" stroke=\"#000000\" points=\"1938.344,-375.5409 1940.3096,-365.13 1932.2807,-372.0428 1938.344,-375.5409\"/>\n</g>\n<!-- 70 -->\n<g id=\"node71\" class=\"node\">\n<title>70</title>\n<polygon fill=\"none\" stroke=\"#000000\" points=\"1952.5,-261 1851.5,-261 1851.5,-193 1952.5,-193 1952.5,-261\"/>\n<text text-anchor=\"middle\" x=\"1902\" y=\"-245.8\" font-family=\"Times,serif\" font-size=\"14.00\" fill=\"#000000\">X[1] &lt;= 323.0</text>\n<text text-anchor=\"middle\" x=\"1902\" y=\"-230.8\" font-family=\"Times,serif\" font-size=\"14.00\" fill=\"#000000\">gini = 0.5</text>\n<text text-anchor=\"middle\" x=\"1902\" y=\"-215.8\" font-family=\"Times,serif\" font-size=\"14.00\" fill=\"#000000\">samples = 8</text>\n<text text-anchor=\"middle\" x=\"1902\" y=\"-200.8\" font-family=\"Times,serif\" font-size=\"14.00\" fill=\"#000000\">value = [4, 4]</text>\n</g>\n<!-- 69&#45;&gt;70 -->\n<g id=\"edge70\" class=\"edge\">\n<title>69&#45;&gt;70</title>\n<path fill=\"none\" stroke=\"#000000\" d=\"M1941.0086,-296.9465C1936.2017,-288.3271 1930.9765,-278.9579 1925.9591,-269.9611\"/>\n<polygon fill=\"#000000\" stroke=\"#000000\" points=\"1928.9615,-268.1589 1921.034,-261.13 1922.848,-271.5684 1928.9615,-268.1589\"/>\n</g>\n<!-- 75 -->\n<g id=\"node76\" class=\"node\">\n<title>75</title>\n<polygon fill=\"none\" stroke=\"#000000\" points=\"2065.5,-253.5 1970.5,-253.5 1970.5,-200.5 2065.5,-200.5 2065.5,-253.5\"/>\n<text text-anchor=\"middle\" x=\"2018\" y=\"-238.3\" font-family=\"Times,serif\" font-size=\"14.00\" fill=\"#000000\">gini = 0.0</text>\n<text text-anchor=\"middle\" x=\"2018\" y=\"-223.3\" font-family=\"Times,serif\" font-size=\"14.00\" fill=\"#000000\">samples = 7</text>\n<text text-anchor=\"middle\" x=\"2018\" y=\"-208.3\" font-family=\"Times,serif\" font-size=\"14.00\" fill=\"#000000\">value = [0, 7]</text>\n</g>\n<!-- 69&#45;&gt;75 -->\n<g id=\"edge75\" class=\"edge\">\n<title>69&#45;&gt;75</title>\n<path fill=\"none\" stroke=\"#000000\" d=\"M1978.9914,-296.9465C1985.1343,-285.9316 1991.9601,-273.6922 1998.1627,-262.5703\"/>\n<polygon fill=\"#000000\" stroke=\"#000000\" points=\"2001.3837,-263.9806 2003.1976,-253.5422 1995.2701,-260.5711 2001.3837,-263.9806\"/>\n</g>\n<!-- 71 -->\n<g id=\"node72\" class=\"node\">\n<title>71</title>\n<polygon fill=\"none\" stroke=\"#000000\" points=\"1891.5,-149.5 1796.5,-149.5 1796.5,-96.5 1891.5,-96.5 1891.5,-149.5\"/>\n<text text-anchor=\"middle\" x=\"1844\" y=\"-134.3\" font-family=\"Times,serif\" font-size=\"14.00\" fill=\"#000000\">gini = 0.0</text>\n<text text-anchor=\"middle\" x=\"1844\" y=\"-119.3\" font-family=\"Times,serif\" font-size=\"14.00\" fill=\"#000000\">samples = 3</text>\n<text text-anchor=\"middle\" x=\"1844\" y=\"-104.3\" font-family=\"Times,serif\" font-size=\"14.00\" fill=\"#000000\">value = [3, 0]</text>\n</g>\n<!-- 70&#45;&gt;71 -->\n<g id=\"edge71\" class=\"edge\">\n<title>70&#45;&gt;71</title>\n<path fill=\"none\" stroke=\"#000000\" d=\"M1883.0086,-192.9465C1876.8657,-181.9316 1870.0399,-169.6922 1863.8373,-158.5703\"/>\n<polygon fill=\"#000000\" stroke=\"#000000\" points=\"1866.7299,-156.5711 1858.8024,-149.5422 1860.6163,-159.9806 1866.7299,-156.5711\"/>\n</g>\n<!-- 72 -->\n<g id=\"node73\" class=\"node\">\n<title>72</title>\n<polygon fill=\"none\" stroke=\"#000000\" points=\"2010.5,-157 1909.5,-157 1909.5,-89 2010.5,-89 2010.5,-157\"/>\n<text text-anchor=\"middle\" x=\"1960\" y=\"-141.8\" font-family=\"Times,serif\" font-size=\"14.00\" fill=\"#000000\">X[2] &lt;= 114.0</text>\n<text text-anchor=\"middle\" x=\"1960\" y=\"-126.8\" font-family=\"Times,serif\" font-size=\"14.00\" fill=\"#000000\">gini = 0.32</text>\n<text text-anchor=\"middle\" x=\"1960\" y=\"-111.8\" font-family=\"Times,serif\" font-size=\"14.00\" fill=\"#000000\">samples = 5</text>\n<text text-anchor=\"middle\" x=\"1960\" y=\"-96.8\" font-family=\"Times,serif\" font-size=\"14.00\" fill=\"#000000\">value = [1, 4]</text>\n</g>\n<!-- 70&#45;&gt;72 -->\n<g id=\"edge72\" class=\"edge\">\n<title>70&#45;&gt;72</title>\n<path fill=\"none\" stroke=\"#000000\" d=\"M1920.9914,-192.9465C1925.7983,-184.3271 1931.0235,-174.9579 1936.0409,-165.9611\"/>\n<polygon fill=\"#000000\" stroke=\"#000000\" points=\"1939.152,-167.5684 1940.966,-157.13 1933.0385,-164.1589 1939.152,-167.5684\"/>\n</g>\n<!-- 73 -->\n<g id=\"node74\" class=\"node\">\n<title>73</title>\n<polygon fill=\"none\" stroke=\"#000000\" points=\"1950.5,-53 1855.5,-53 1855.5,0 1950.5,0 1950.5,-53\"/>\n<text text-anchor=\"middle\" x=\"1903\" y=\"-37.8\" font-family=\"Times,serif\" font-size=\"14.00\" fill=\"#000000\">gini = 0.0</text>\n<text text-anchor=\"middle\" x=\"1903\" y=\"-22.8\" font-family=\"Times,serif\" font-size=\"14.00\" fill=\"#000000\">samples = 4</text>\n<text text-anchor=\"middle\" x=\"1903\" y=\"-7.8\" font-family=\"Times,serif\" font-size=\"14.00\" fill=\"#000000\">value = [0, 4]</text>\n</g>\n<!-- 72&#45;&gt;73 -->\n<g id=\"edge73\" class=\"edge\">\n<title>72&#45;&gt;73</title>\n<path fill=\"none\" stroke=\"#000000\" d=\"M1939.9039,-88.9777C1934.7656,-80.2786 1929.227,-70.9018 1924.0425,-62.1247\"/>\n<polygon fill=\"#000000\" stroke=\"#000000\" points=\"1926.899,-60.0786 1918.7996,-53.2485 1920.8719,-63.6387 1926.899,-60.0786\"/>\n</g>\n<!-- 74 -->\n<g id=\"node75\" class=\"node\">\n<title>74</title>\n<polygon fill=\"none\" stroke=\"#000000\" points=\"2063.5,-53 1968.5,-53 1968.5,0 2063.5,0 2063.5,-53\"/>\n<text text-anchor=\"middle\" x=\"2016\" y=\"-37.8\" font-family=\"Times,serif\" font-size=\"14.00\" fill=\"#000000\">gini = 0.0</text>\n<text text-anchor=\"middle\" x=\"2016\" y=\"-22.8\" font-family=\"Times,serif\" font-size=\"14.00\" fill=\"#000000\">samples = 1</text>\n<text text-anchor=\"middle\" x=\"2016\" y=\"-7.8\" font-family=\"Times,serif\" font-size=\"14.00\" fill=\"#000000\">value = [1, 0]</text>\n</g>\n<!-- 72&#45;&gt;74 -->\n<g id=\"edge74\" class=\"edge\">\n<title>72&#45;&gt;74</title>\n<path fill=\"none\" stroke=\"#000000\" d=\"M1979.7435,-88.9777C1984.7917,-80.2786 1990.2331,-70.9018 1995.3266,-62.1247\"/>\n<polygon fill=\"#000000\" stroke=\"#000000\" points=\"1998.4855,-63.6544 2000.4776,-53.2485 1992.4311,-60.1409 1998.4855,-63.6544\"/>\n</g>\n</g>\n</svg>\n"
          },
          "metadata": {
            "tags": []
          },
          "execution_count": 31
        }
      ]
    },
    {
      "cell_type": "markdown",
      "metadata": {
        "id": "qGvgHDplJzSM",
        "colab_type": "text"
      },
      "source": [
        "10. Classez les features les plus importantes qui déterminent les admissions "
      ]
    },
    {
      "cell_type": "code",
      "metadata": {
        "id": "OcHiZfL75iEB",
        "colab_type": "code",
        "colab": {
          "base_uri": "https://localhost:8080/",
          "height": 387
        },
        "outputId": "dc560afb-f35d-4b5e-ce76-6b390cfc30ac"
      },
      "source": [
        "coeffs = pd.DataFrame(data = np.array([classifier_gini.feature_importances_]), columns = X.columns )\n",
        "#coeffs = coeffs.sort_values(by = \"CGPA\", axis = 0, ascending=False)\n",
        "sns.catplot(kind=\"bar\", orient='h', data=coeffs)"
      ],
      "execution_count": 47,
      "outputs": [
        {
          "output_type": "execute_result",
          "data": {
            "text/plain": [
              "<seaborn.axisgrid.FacetGrid at 0x7f2d1d517e48>"
            ]
          },
          "metadata": {
            "tags": []
          },
          "execution_count": 47
        },
        {
          "output_type": "display_data",
          "data": {
            "image/png": "[encoded data removed]",
            "text/plain": [
              "<Figure size 360x360 with 1 Axes>"
            ]
          },
          "metadata": {
            "tags": []
          }
        }
      ]
    },
    {
      "cell_type": "code",
      "metadata": {
        "id": "MfuJRwRVJNpb",
        "colab_type": "code",
        "outputId": "38e0a0ab-9f60-4e81-fd68-7393f7a1c20a",
        "colab": {
          "base_uri": "https://localhost:8080/",
          "height": 386
        }
      },
      "source": [
        ""
      ],
      "execution_count": 0,
      "outputs": [
        {
          "output_type": "execute_result",
          "data": {
            "text/plain": [
              "<seaborn.axisgrid.FacetGrid at 0x7f6ecd9ddba8>"
            ]
          },
          "metadata": {
            "tags": []
          },
          "execution_count": 35
        },
        {
          "output_type": "display_data",
          "data": {
            "image/png": "[encoded data removed]",
            "text/plain": [
              "<Figure size 360x360 with 1 Axes>"
            ]
          },
          "metadata": {
            "tags": []
          }
        }
      ]
    },
    {
      "cell_type": "markdown",
      "metadata": {
        "id": "XUPbDowsLDQi",
        "colab_type": "text"
      },
      "source": [
        "11. Essayons d'améliorer notre score. Faites une Random Forest avec 50 arbres de decision"
      ]
    },
    {
      "cell_type": "code",
      "metadata": {
        "id": "rk0sKPkA7ung",
        "colab_type": "code",
        "colab": {
          "base_uri": "https://localhost:8080/",
          "height": 201
        },
        "outputId": "b853e20f-a11c-459d-d1b0-8939d1658332"
      },
      "source": [
        "#Import Random Forest Model\n",
        "from sklearn.ensemble import RandomForestClassifier\n",
        "\n",
        "#Create a Gaussian Classifier\n",
        "clf=RandomForestClassifier(n_estimators=50)\n",
        "\n",
        "#Train the model using the training sets y_pred=clf.predict(X_test)\n",
        "clf.fit(X_train,y_train)\n"
      ],
      "execution_count": 48,
      "outputs": [
        {
          "output_type": "stream",
          "text": [
            "/usr/local/lib/python3.6/dist-packages/ipykernel_launcher.py:7: DataConversionWarning: A column-vector y was passed when a 1d array was expected. Please change the shape of y to (n_samples,), for example using ravel().\n",
            "  import sys\n"
          ],
          "name": "stderr"
        },
        {
          "output_type": "execute_result",
          "data": {
            "text/plain": [
              "RandomForestClassifier(bootstrap=True, class_weight=None, criterion='gini',\n",
              "                       max_depth=None, max_features='auto', max_leaf_nodes=None,\n",
              "                       min_impurity_decrease=0.0, min_impurity_split=None,\n",
              "                       min_samples_leaf=1, min_samples_split=2,\n",
              "                       min_weight_fraction_leaf=0.0, n_estimators=50,\n",
              "                       n_jobs=None, oob_score=False, random_state=None,\n",
              "                       verbose=0, warm_start=False)"
            ]
          },
          "metadata": {
            "tags": []
          },
          "execution_count": 48
        }
      ]
    },
    {
      "cell_type": "code",
      "metadata": {
        "id": "7FobTV6Z8Ksi",
        "colab_type": "code",
        "colab": {
          "base_uri": "https://localhost:8080/",
          "height": 35
        },
        "outputId": "741ba437-4007-40af-ef03-8d56cddfddea"
      },
      "source": [
        "clf.score(X_test, y_test)"
      ],
      "execution_count": 50,
      "outputs": [
        {
          "output_type": "execute_result",
          "data": {
            "text/plain": [
              "0.8866666666666667"
            ]
          },
          "metadata": {
            "tags": []
          },
          "execution_count": 50
        }
      ]
    },
    {
      "cell_type": "code",
      "metadata": {
        "id": "kBgyZo6zKFkH",
        "colab_type": "code",
        "outputId": "aad7f177-7477-4979-8af9-c8dcc12a944e",
        "colab": {
          "base_uri": "https://localhost:8080/",
          "height": 35
        }
      },
      "source": [
        ""
      ],
      "execution_count": 0,
      "outputs": [
        {
          "output_type": "execute_result",
          "data": {
            "text/plain": [
              "0.8866666666666667"
            ]
          },
          "metadata": {
            "tags": []
          },
          "execution_count": 53
        }
      ]
    },
    {
      "cell_type": "markdown",
      "metadata": {
        "id": "4CNiNG2cL7E1",
        "colab_type": "text"
      },
      "source": [
        "12. Tentez de refaire le modèle avec uniquement 20 arbres "
      ]
    },
    {
      "cell_type": "code",
      "metadata": {
        "id": "si2h4xU88SSt",
        "colab_type": "code",
        "colab": {
          "base_uri": "https://localhost:8080/",
          "height": 92
        },
        "outputId": "96b40a4d-bc1e-4fde-e69d-f684db4e8c22"
      },
      "source": [
        "#Create a Gaussian Classifier\n",
        "clf20=RandomForestClassifier(n_estimators=20)\n",
        "\n",
        "#Train the model using the training sets y_pred=clf.predict(X_test)\n",
        "clf20.fit(X_train,y_train)\n",
        "clf20.score(X_test, y_test)"
      ],
      "execution_count": 51,
      "outputs": [
        {
          "output_type": "stream",
          "text": [
            "/usr/local/lib/python3.6/dist-packages/ipykernel_launcher.py:4: DataConversionWarning: A column-vector y was passed when a 1d array was expected. Please change the shape of y to (n_samples,), for example using ravel().\n",
            "  after removing the cwd from sys.path.\n"
          ],
          "name": "stderr"
        },
        {
          "output_type": "execute_result",
          "data": {
            "text/plain": [
              "0.9"
            ]
          },
          "metadata": {
            "tags": []
          },
          "execution_count": 51
        }
      ]
    },
    {
      "cell_type": "code",
      "metadata": {
        "id": "5aJVsnQKLgwS",
        "colab_type": "code",
        "outputId": "b331ca86-f7df-439d-c4f2-bbb2b214ed34",
        "colab": {
          "base_uri": "https://localhost:8080/",
          "height": 35
        }
      },
      "source": [
        ""
      ],
      "execution_count": 0,
      "outputs": [
        {
          "output_type": "execute_result",
          "data": {
            "text/plain": [
              "0.8933333333333333"
            ]
          },
          "metadata": {
            "tags": []
          },
          "execution_count": 52
        }
      ]
    },
    {
      "cell_type": "markdown",
      "metadata": {
        "id": "3GvthjalMMkQ",
        "colab_type": "text"
      },
      "source": [
        "---> Il semblerait qu'il y ait un nombre optimum d'arbres."
      ]
    },
    {
      "cell_type": "markdown",
      "metadata": {
        "id": "XHnFdM6mMRJI",
        "colab_type": "text"
      },
      "source": [
        "13. Faites une Grid Search pour trouver le nombre optimum d'arbres "
      ]
    },
    {
      "cell_type": "code",
      "metadata": {
        "id": "2KO7qgbE8hmV",
        "colab_type": "code",
        "colab": {
          "base_uri": "https://localhost:8080/",
          "height": 146
        },
        "outputId": "718490d7-3ea6-4f3d-f485-74a7cffc395d"
      },
      "source": [
        "from sklearn.model_selection import GridSearchCV\n",
        "\n",
        "parameters = {\n",
        "    'n_estimators'      : np.arange(1,100),\n",
        "    #'max_depth'         : [8, 9, 10, 11, 12],\n",
        "    'random_state'      : [0],\n",
        "    'max_features': ['auto'],\n",
        "    'criterion' :['gini']\n",
        "}\n",
        "\n",
        "clfG = GridSearchCV(RandomForestClassifier(), parameters, cv=10, n_jobs=-1)\n",
        "clfG.fit(X_train, y_train)\n",
        "\n",
        "print(clfG.score(X_test, y_test))\n",
        "print(clfG.best_params_)\n",
        "\n"
      ],
      "execution_count": 59,
      "outputs": [
        {
          "output_type": "stream",
          "text": [
            "0.9\n",
            "{'criterion': 'gini', 'max_features': 'auto', 'n_estimators': 92, 'random_state': 0}\n"
          ],
          "name": "stdout"
        },
        {
          "output_type": "stream",
          "text": [
            "/usr/local/lib/python3.6/dist-packages/sklearn/model_selection/_search.py:814: DeprecationWarning: The default of the `iid` parameter will change from True to False in version 0.22 and will be removed in 0.24. This will change numeric results when test-set sizes are unequal.\n",
            "  DeprecationWarning)\n",
            "/usr/local/lib/python3.6/dist-packages/sklearn/model_selection/_search.py:715: DataConversionWarning: A column-vector y was passed when a 1d array was expected. Please change the shape of y to (n_samples,), for example using ravel().\n",
            "  self.best_estimator_.fit(X, y, **fit_params)\n"
          ],
          "name": "stderr"
        }
      ]
    },
    {
      "cell_type": "code",
      "metadata": {
        "id": "epotZu2XMAx1",
        "colab_type": "code",
        "outputId": "50b8dcce-e182-4d69-e822-571d0811754f",
        "colab": {
          "base_uri": "https://localhost:8080/",
          "height": 104
        }
      },
      "source": [
        ""
      ],
      "execution_count": 0,
      "outputs": [
        {
          "output_type": "stream",
          "text": [
            "Fitting 5 folds for each of 30 candidates, totalling 150 fits\n"
          ],
          "name": "stdout"
        },
        {
          "output_type": "stream",
          "text": [
            "[Parallel(n_jobs=-1)]: Using backend LokyBackend with 2 concurrent workers.\n",
            "[Parallel(n_jobs=-1)]: Done 119 tasks      | elapsed:    5.2s\n",
            "[Parallel(n_jobs=-1)]: Done 147 out of 150 | elapsed:    6.3s remaining:    0.1s\n",
            "[Parallel(n_jobs=-1)]: Done 150 out of 150 | elapsed:    6.4s finished\n"
          ],
          "name": "stderr"
        }
      ]
    },
    {
      "cell_type": "code",
      "metadata": {
        "id": "jJ0kJYnLMYp4",
        "colab_type": "code",
        "outputId": "20189b1a-5288-4df8-d7fe-565f601ff127",
        "colab": {
          "base_uri": "https://localhost:8080/",
          "height": 138
        }
      },
      "source": [
        ""
      ],
      "execution_count": 0,
      "outputs": [
        {
          "output_type": "execute_result",
          "data": {
            "text/plain": [
              "RandomForestClassifier(bootstrap=True, class_weight=None, criterion='gini',\n",
              "            max_depth=None, max_features='auto', max_leaf_nodes=None,\n",
              "            min_impurity_decrease=0.0, min_impurity_split=None,\n",
              "            min_samples_leaf=1, min_samples_split=2,\n",
              "            min_weight_fraction_leaf=0.0, n_estimators=30, n_jobs=None,\n",
              "            oob_score=False, random_state=None, verbose=0,\n",
              "            warm_start=False)"
            ]
          },
          "metadata": {
            "tags": []
          },
          "execution_count": 60
        }
      ]
    },
    {
      "cell_type": "code",
      "metadata": {
        "id": "LEt8sFDtM9WD",
        "colab_type": "code",
        "outputId": "0366dcaf-7a27-4fea-a1d3-4ed45ddd5a86",
        "colab": {
          "base_uri": "https://localhost:8080/",
          "height": 35
        }
      },
      "source": [
        ""
      ],
      "execution_count": 0,
      "outputs": [
        {
          "output_type": "execute_result",
          "data": {
            "text/plain": [
              "0.8933333333333333"
            ]
          },
          "metadata": {
            "tags": []
          },
          "execution_count": 61
        }
      ]
    },
    {
      "cell_type": "markdown",
      "metadata": {
        "id": "hYHSAC06NV59",
        "colab_type": "text"
      },
      "source": [
        "14. Regardez les feature importance "
      ]
    },
    {
      "cell_type": "code",
      "metadata": {
        "id": "1VD-yrWe-HAI",
        "colab_type": "code",
        "colab": {
          "base_uri": "https://localhost:8080/",
          "height": 92
        },
        "outputId": "2b0ae53f-0bdb-4841-b6eb-e1b16d5ac2f3"
      },
      "source": [
        "#Import Random Forest Model\n",
        "from sklearn.ensemble import RandomForestClassifier\n",
        "\n",
        "#Create a Gaussian Classifier\n",
        "clf55=RandomForestClassifier(n_estimators=92, criterion='gini')\n",
        "\n",
        "#Train the model using the training sets y_pred=clf.predict(X_test)\n",
        "clf55.fit(X_train,y_train)\n",
        "clf55.score(X_test, y_test)\n"
      ],
      "execution_count": 60,
      "outputs": [
        {
          "output_type": "stream",
          "text": [
            "/usr/local/lib/python3.6/dist-packages/ipykernel_launcher.py:7: DataConversionWarning: A column-vector y was passed when a 1d array was expected. Please change the shape of y to (n_samples,), for example using ravel().\n",
            "  import sys\n"
          ],
          "name": "stderr"
        },
        {
          "output_type": "execute_result",
          "data": {
            "text/plain": [
              "0.9066666666666666"
            ]
          },
          "metadata": {
            "tags": []
          },
          "execution_count": 60
        }
      ]
    },
    {
      "cell_type": "code",
      "metadata": {
        "id": "NEOQ4dWl_SYk",
        "colab_type": "code",
        "colab": {
          "base_uri": "https://localhost:8080/",
          "height": 387
        },
        "outputId": "22ff2fdc-9900-413c-874d-a560202a14c7"
      },
      "source": [
        "coeffs = pd.DataFrame(data = np.array([clf55.feature_importances_]), columns = X.columns)\n",
        "\n",
        "sns.catplot(kind=\"bar\", orient='h', data=coeffs)"
      ],
      "execution_count": 61,
      "outputs": [
        {
          "output_type": "execute_result",
          "data": {
            "text/plain": [
              "<seaborn.axisgrid.FacetGrid at 0x7f2d1c8dc9b0>"
            ]
          },
          "metadata": {
            "tags": []
          },
          "execution_count": 61
        },
        {
          "output_type": "display_data",
          "data": {
            "image/png": "[encoded data removed]",
            "text/plain": [
              "<Figure size 360x360 with 1 Axes>"
            ]
          },
          "metadata": {
            "tags": []
          }
        }
      ]
    },
    {
      "cell_type": "code",
      "metadata": {
        "id": "EaBzVRhCNSCF",
        "colab_type": "code",
        "outputId": "7b6d9169-39c9-41a8-9e6e-200537412fd4",
        "colab": {
          "base_uri": "https://localhost:8080/",
          "height": 52
        }
      },
      "source": [
        ""
      ],
      "execution_count": 0,
      "outputs": [
        {
          "output_type": "execute_result",
          "data": {
            "text/plain": [
              "array([0.07408172, 0.28838331, 0.14280778, 0.0880146 , 0.09202124,\n",
              "       0.04311252, 0.23057896, 0.04099987])"
            ]
          },
          "metadata": {
            "tags": []
          },
          "execution_count": 62
        }
      ]
    },
    {
      "cell_type": "code",
      "metadata": {
        "id": "g9LZMIbiNtIB",
        "colab_type": "code",
        "outputId": "4c03cb95-ed72-4d45-a9d0-4633a2d3be93",
        "colab": {
          "base_uri": "https://localhost:8080/",
          "height": 386
        }
      },
      "source": [
        ""
      ],
      "execution_count": 0,
      "outputs": [
        {
          "output_type": "execute_result",
          "data": {
            "text/plain": [
              "<seaborn.axisgrid.FacetGrid at 0x7f6ec8b3f240>"
            ]
          },
          "metadata": {
            "tags": []
          },
          "execution_count": 63
        },
        {
          "output_type": "display_data",
          "data": {
            "image/png": "[encoded data removed]",
            "text/plain": [
              "<Figure size 360x360 with 1 Axes>"
            ]
          },
          "metadata": {
            "tags": []
          }
        }
      ]
    },
    {
      "cell_type": "code",
      "metadata": {
        "id": "mjMARqzhN1O9",
        "colab_type": "code",
        "colab": {}
      },
      "source": [
        ""
      ],
      "execution_count": 0,
      "outputs": []
    }
  ]
}