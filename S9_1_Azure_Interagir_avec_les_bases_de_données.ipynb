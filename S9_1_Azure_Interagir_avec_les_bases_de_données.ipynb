{
  "nbformat": 4,
  "nbformat_minor": 0,
  "metadata": {
    "kernelspec": {
      "name": "python3",
      "display_name": "Python 3"
    },
    "language_info": {
      "codemirror_mode": {
        "name": "ipython",
        "version": 3
      },
      "file_extension": ".py",
      "mimetype": "text/x-python",
      "name": "python",
      "nbconvert_exporter": "python",
      "pygments_lexer": "ipython3",
      "version": "3.7.2"
    },
    "colab": {
      "name": "S9_1_Azure_Interagir avec les bases de données.ipynb",
      "provenance": [],
      "collapsed_sections": [],
      "include_colab_link": true
    },
    "accelerator": "GPU"
  },
  "cells": [
    {
      "cell_type": "markdown",
      "metadata": {
        "id": "view-in-github",
        "colab_type": "text"
      },
      "source": [
        "<a href=\"https://colab.research.google.com/github/tbazzi/Data-Science---Fullstack-Bootcamp/blob/master/S9_1_Azure_Interagir_avec_les_bases_de_donne%CC%81es.ipynb\" target=\"_parent\"><img src=\"https://colab.research.google.com/assets/colab-badge.svg\" alt=\"Open In Colab\"/></a>"
      ]
    },
    {
      "cell_type": "markdown",
      "metadata": {
        "id": "IMJ12rIu_5zw",
        "colab_type": "text"
      },
      "source": [
        "# Imports"
      ]
    },
    {
      "cell_type": "code",
      "metadata": {
        "ExecuteTime": {
          "end_time": "2019-04-15T09:20:06.629455Z",
          "start_time": "2019-04-15T09:20:06.591019Z"
        },
        "id": "JEKfJ7o5_5zy",
        "colab_type": "code",
        "outputId": "9776cfd1-ea1d-4d23-fcb0-781ba2813beb",
        "colab": {
          "base_uri": "https://localhost:8080/",
          "height": 73
        }
      },
      "source": [
        "import pandas as pd\n",
        "import sqlalchemy\n",
        "import psycopg2\n"
      ],
      "execution_count": 1,
      "outputs": [
        {
          "output_type": "stream",
          "text": [
            "/usr/local/lib/python3.6/dist-packages/psycopg2/__init__.py:144: UserWarning: The psycopg2 wheel package will be renamed from release 2.8; in order to keep installing from binary please use \"pip install psycopg2-binary\" instead. For details see: <http://initd.org/psycopg/docs/install.html#binary-install-from-pypi>.\n",
            "  \"\"\")\n"
          ],
          "name": "stderr"
        }
      ]
    },
    {
      "cell_type": "markdown",
      "metadata": {
        "id": "fRo566R-_5z1",
        "colab_type": "text"
      },
      "source": [
        "# Creér la connexion"
      ]
    },
    {
      "cell_type": "code",
      "metadata": {
        "ExecuteTime": {
          "end_time": "2019-04-15T09:20:08.577266Z",
          "start_time": "2019-04-15T09:20:07.209361Z"
        },
        "id": "rYU9firE_5z1",
        "colab_type": "code",
        "colab": {}
      },
      "source": [
        "# Update connection string information obtained from the portal\n",
        "\n",
        "\n",
        "dbname='postgres' \n",
        "user='admintb@postgretb' \n",
        "host='postgretb.postgres.database.azure.com'\n",
        "password='*' \n",
        "port='5432' \n",
        "sslmode='require'\n",
        "\n",
        "# Construct connection string\n",
        "conn_string = \"host={0} user={1} dbname={2} password={3} sslmode={4}\".format(host, user, dbname, password, sslmode)\n",
        "\n",
        "conn = psycopg2.connect(conn_string) \n",
        "\n",
        "#------------------------------------------"
      ],
      "execution_count": 0,
      "outputs": []
    },
    {
      "cell_type": "code",
      "metadata": {
        "ExecuteTime": {
          "end_time": "2019-04-15T09:20:08.613557Z",
          "start_time": "2019-04-15T09:20:08.578988Z"
        },
        "id": "AwYHEIxZ_5z6",
        "colab_type": "code",
        "colab": {
          "base_uri": "https://localhost:8080/",
          "height": 143
        },
        "outputId": "60afd43f-ce37-40b5-bcdf-594991fed2a6"
      },
      "source": [
        "data = [\n",
        "    {\"Col1\": 1, \"Col2\": \"A\"},\n",
        "    {\"Col1\": 2, \"Col2\": \"B\"},\n",
        "    {\"Col1\": 3, \"Col2\": \"C\"}\n",
        "]\n",
        "\n",
        "df_test = pd.DataFrame(data)\n",
        "df_test"
      ],
      "execution_count": 31,
      "outputs": [
        {
          "output_type": "execute_result",
          "data": {
            "text/html": [
              "<div>\n",
              "<style scoped>\n",
              "    .dataframe tbody tr th:only-of-type {\n",
              "        vertical-align: middle;\n",
              "    }\n",
              "\n",
              "    .dataframe tbody tr th {\n",
              "        vertical-align: top;\n",
              "    }\n",
              "\n",
              "    .dataframe thead th {\n",
              "        text-align: right;\n",
              "    }\n",
              "</style>\n",
              "<table border=\"1\" class=\"dataframe\">\n",
              "  <thead>\n",
              "    <tr style=\"text-align: right;\">\n",
              "      <th></th>\n",
              "      <th>Col1</th>\n",
              "      <th>Col2</th>\n",
              "    </tr>\n",
              "  </thead>\n",
              "  <tbody>\n",
              "    <tr>\n",
              "      <th>0</th>\n",
              "      <td>1</td>\n",
              "      <td>A</td>\n",
              "    </tr>\n",
              "    <tr>\n",
              "      <th>1</th>\n",
              "      <td>2</td>\n",
              "      <td>B</td>\n",
              "    </tr>\n",
              "    <tr>\n",
              "      <th>2</th>\n",
              "      <td>3</td>\n",
              "      <td>C</td>\n",
              "    </tr>\n",
              "  </tbody>\n",
              "</table>\n",
              "</div>"
            ],
            "text/plain": [
              "   Col1 Col2\n",
              "0     1    A\n",
              "1     2    B\n",
              "2     3    C"
            ]
          },
          "metadata": {
            "tags": []
          },
          "execution_count": 31
        }
      ]
    },
    {
      "cell_type": "markdown",
      "metadata": {
        "id": "MVCws9tD_5z8",
        "colab_type": "text"
      },
      "source": [
        "# Charger des données"
      ]
    },
    {
      "cell_type": "code",
      "metadata": {
        "id": "F5khdwBmCyzy",
        "colab_type": "code",
        "colab": {
          "base_uri": "https://localhost:8080/",
          "height": 55
        },
        "outputId": "38673a2e-c527-4351-d6ee-97f3b6a140fc"
      },
      "source": [
        "conn."
      ],
      "execution_count": 28,
      "outputs": [
        {
          "output_type": "execute_result",
          "data": {
            "text/plain": [
              "<connection object at 0x7f5fbc4673d8; dsn: 'user=admintb@postgretb password=xxx dbname=postgres host=postgretb.postgres.database.azure.com sslmode=allow', closed: 0>"
            ]
          },
          "metadata": {
            "tags": []
          },
          "execution_count": 28
        }
      ]
    },
    {
      "cell_type": "code",
      "metadata": {
        "ExecuteTime": {
          "end_time": "2018-12-15T12:48:33.795909Z",
          "start_time": "2018-12-15T12:48:32.194730Z"
        },
        "id": "4GD6ygEi_5z8",
        "colab_type": "code",
        "colab": {}
      },
      "source": [
        "connexion_string = \"postgresql://{0}:{1}@{2}/{3}\".format(user, password, host, dbname)\n",
        "engine = sqlalchemy.create_engine(connexion_string)\n",
        "engine.connect()\n",
        "df_test.to_sql(\"table_1\", engine, index=False, if_exists=\"replace\")"
      ],
      "execution_count": 0,
      "outputs": []
    },
    {
      "cell_type": "markdown",
      "metadata": {
        "id": "NaZMxdNs_5z-",
        "colab_type": "text"
      },
      "source": [
        "# Récupérer des données"
      ]
    },
    {
      "cell_type": "code",
      "metadata": {
        "ExecuteTime": {
          "end_time": "2019-04-15T09:20:13.944574Z",
          "start_time": "2019-04-15T09:20:13.099499Z"
        },
        "id": "RYUZGVaY_5z_",
        "colab_type": "code",
        "colab": {
          "base_uri": "https://localhost:8080/",
          "height": 143
        },
        "outputId": "7ed8f787-0414-4441-88b9-7c87f8908b20"
      },
      "source": [
        "df_test = pd.read_sql(\"SELECT * FROM table_1\", engine)\n",
        "df_test"
      ],
      "execution_count": 34,
      "outputs": [
        {
          "output_type": "execute_result",
          "data": {
            "text/html": [
              "<div>\n",
              "<style scoped>\n",
              "    .dataframe tbody tr th:only-of-type {\n",
              "        vertical-align: middle;\n",
              "    }\n",
              "\n",
              "    .dataframe tbody tr th {\n",
              "        vertical-align: top;\n",
              "    }\n",
              "\n",
              "    .dataframe thead th {\n",
              "        text-align: right;\n",
              "    }\n",
              "</style>\n",
              "<table border=\"1\" class=\"dataframe\">\n",
              "  <thead>\n",
              "    <tr style=\"text-align: right;\">\n",
              "      <th></th>\n",
              "      <th>Col1</th>\n",
              "      <th>Col2</th>\n",
              "    </tr>\n",
              "  </thead>\n",
              "  <tbody>\n",
              "    <tr>\n",
              "      <th>0</th>\n",
              "      <td>1</td>\n",
              "      <td>A</td>\n",
              "    </tr>\n",
              "    <tr>\n",
              "      <th>1</th>\n",
              "      <td>2</td>\n",
              "      <td>B</td>\n",
              "    </tr>\n",
              "    <tr>\n",
              "      <th>2</th>\n",
              "      <td>3</td>\n",
              "      <td>C</td>\n",
              "    </tr>\n",
              "  </tbody>\n",
              "</table>\n",
              "</div>"
            ],
            "text/plain": [
              "   Col1 Col2\n",
              "0     1    A\n",
              "1     2    B\n",
              "2     3    C"
            ]
          },
          "metadata": {
            "tags": []
          },
          "execution_count": 34
        }
      ]
    },
    {
      "cell_type": "markdown",
      "metadata": {
        "id": "9MdAu46x_50B",
        "colab_type": "text"
      },
      "source": [
        "# Ressources"
      ]
    },
    {
      "cell_type": "code",
      "metadata": {
        "ExecuteTime": {
          "end_time": "2018-12-15T12:39:15.018896Z",
          "start_time": "2018-12-15T12:39:15.016196Z"
        },
        "id": "X7AE4Ayo_50B",
        "colab_type": "code",
        "outputId": "c95e3b10-3137-4849-a9b2-f99f887ff8da",
        "colab": {}
      },
      "source": [
        "print(\"Doc Microsoft pour Azure Postgres : \")\n",
        "\n",
        "print(\"https://docs.microsoft.com/fr-fr/azure/postgresql/quickstart-create-server-database-portal\")"
      ],
      "execution_count": 0,
      "outputs": [
        {
          "output_type": "stream",
          "text": [
            "Doc Microsoft pour Azure Postgres : \n",
            "https://docs.microsoft.com/fr-fr/azure/postgresql/quickstart-create-server-database-portal\n"
          ],
          "name": "stdout"
        }
      ]
    },
    {
      "cell_type": "code",
      "metadata": {
        "ExecuteTime": {
          "end_time": "2018-12-15T12:39:51.057049Z",
          "start_time": "2018-12-15T12:39:51.054297Z"
        },
        "id": "icIDKYaZ_50E",
        "colab_type": "code",
        "outputId": "2fb30a1e-6d9b-4461-da72-443c9df0ce33",
        "colab": {}
      },
      "source": [
        "print(\"Commande de connexion depuis la console Azure : \")\n",
        "\n",
        "print(\"psql --host=bddserverstudent.postgres.database.azure.com --port=5432 --username=jedha@bddserverstudent --dbname=postgres\")"
      ],
      "execution_count": 0,
      "outputs": [
        {
          "output_type": "stream",
          "text": [
            "Commande de connexion depuis la console : \n",
            "psql --host=bddserverstudent.postgres.database.azure.com --port=5432 --username=jedha@bddserverstudent --dbname=postgres\n"
          ],
          "name": "stdout"
        }
      ]
    },
    {
      "cell_type": "code",
      "metadata": {
        "id": "_5WKmBg6_50H",
        "colab_type": "code",
        "colab": {}
      },
      "source": [
        "psql --host=bddserverstudent.postgres.database.azure.com --port=5432 --username=admission@bddserverstudent --dbname=postgres"
      ],
      "execution_count": 0,
      "outputs": []
    }
  ]
}