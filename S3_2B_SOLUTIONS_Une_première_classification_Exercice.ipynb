{
  "nbformat": 4,
  "nbformat_minor": 0,
  "metadata": {
    "colab": {
      "name": "S3-2B_SOLUTIONS Une première classification - Exercice.ipynb",
      "provenance": [],
      "include_colab_link": true
    },
    "kernelspec": {
      "name": "python3",
      "display_name": "Python 3"
    }
  },
  "cells": [
    {
      "cell_type": "markdown",
      "metadata": {
        "id": "view-in-github",
        "colab_type": "text"
      },
      "source": [
        "<a href=\"https://colab.research.google.com/github/tbazzi/Data-Science---Fullstack-Bootcamp/blob/master/S3_2B_SOLUTIONS_Une_premi%C3%A8re_classification_Exercice.ipynb\" target=\"_parent\"><img src=\"https://colab.research.google.com/assets/colab-badge.svg\" alt=\"Open In Colab\"/></a>"
      ]
    },
    {
      "cell_type": "markdown",
      "metadata": {
        "id": "usOJx9DirKlc",
        "colab_type": "text"
      },
      "source": [
        "# Une première classification \n",
        "\n"
      ]
    },
    {
      "cell_type": "markdown",
      "metadata": {
        "id": "4HOSklqzr1L0",
        "colab_type": "text"
      },
      "source": [
        "0. Importez les librairies usuelles"
      ]
    },
    {
      "cell_type": "code",
      "metadata": {
        "id": "-rZlhFzrr4rG",
        "colab_type": "code",
        "colab": {}
      },
      "source": [
        "import pandas as pd \n",
        "import numpy as np \n",
        "import matplotlib.pyplot as plt \n",
        "import seaborn as sns \n",
        "import warnings\n",
        "warnings.filterwarnings('ignore')"
      ],
      "execution_count": 0,
      "outputs": []
    },
    {
      "cell_type": "markdown",
      "metadata": {
        "id": "gu6y8V-trQ_M",
        "colab_type": "text"
      },
      "source": [
        "1. Téléchargez les données du dataset : ```ex2data1.txt``` et insérez les dans un dataframe "
      ]
    },
    {
      "cell_type": "code",
      "metadata": {
        "id": "CJ4tPZc0q2KQ",
        "colab_type": "code",
        "outputId": "04be8893-b07d-4e87-c1b8-586b7293723b",
        "colab": {
          "base_uri": "https://localhost:8080/",
          "height": 202
        }
      },
      "source": [
        "dataset = pd.read_csv(\"https://raw.githubusercontent.com/JedhaBootcamp/FULL_STACK_12_WEEK_PROGRAM/master/S0.3%20--%20Machine%20Learning%20Supervis%C3%A9/S3-2%20--%20R%C3%A9gression%20Logistique%20-%20Cross%20validation/S3-2B/Datasets/ex2data1.txt?token=AFB53D5SLTX5OSRITEZ3NXS5SMZMQ\", header=None)\n",
        "dataset.head()"
      ],
      "execution_count": 0,
      "outputs": [
        {
          "output_type": "execute_result",
          "data": {
            "text/html": [
              "<div>\n",
              "<style scoped>\n",
              "    .dataframe tbody tr th:only-of-type {\n",
              "        vertical-align: middle;\n",
              "    }\n",
              "\n",
              "    .dataframe tbody tr th {\n",
              "        vertical-align: top;\n",
              "    }\n",
              "\n",
              "    .dataframe thead th {\n",
              "        text-align: right;\n",
              "    }\n",
              "</style>\n",
              "<table border=\"1\" class=\"dataframe\">\n",
              "  <thead>\n",
              "    <tr style=\"text-align: right;\">\n",
              "      <th></th>\n",
              "      <th>0</th>\n",
              "      <th>1</th>\n",
              "      <th>2</th>\n",
              "    </tr>\n",
              "  </thead>\n",
              "  <tbody>\n",
              "    <tr>\n",
              "      <th>0</th>\n",
              "      <td>34.623660</td>\n",
              "      <td>78.024693</td>\n",
              "      <td>0</td>\n",
              "    </tr>\n",
              "    <tr>\n",
              "      <th>1</th>\n",
              "      <td>30.286711</td>\n",
              "      <td>43.894998</td>\n",
              "      <td>0</td>\n",
              "    </tr>\n",
              "    <tr>\n",
              "      <th>2</th>\n",
              "      <td>35.847409</td>\n",
              "      <td>72.902198</td>\n",
              "      <td>0</td>\n",
              "    </tr>\n",
              "    <tr>\n",
              "      <th>3</th>\n",
              "      <td>60.182599</td>\n",
              "      <td>86.308552</td>\n",
              "      <td>1</td>\n",
              "    </tr>\n",
              "    <tr>\n",
              "      <th>4</th>\n",
              "      <td>79.032736</td>\n",
              "      <td>75.344376</td>\n",
              "      <td>1</td>\n",
              "    </tr>\n",
              "  </tbody>\n",
              "</table>\n",
              "</div>"
            ],
            "text/plain": [
              "           0          1  2\n",
              "0  34.623660  78.024693  0\n",
              "1  30.286711  43.894998  0\n",
              "2  35.847409  72.902198  0\n",
              "3  60.182599  86.308552  1\n",
              "4  79.032736  75.344376  1"
            ]
          },
          "metadata": {
            "tags": []
          },
          "execution_count": 3
        }
      ]
    },
    {
      "cell_type": "markdown",
      "metadata": {
        "id": "8w2DsE8XsD6w",
        "colab_type": "text"
      },
      "source": [
        "2. Renommez respectivement les colonnes : \n",
        "\n",
        "\"Col_1\" / \"Col_2\" / \"Target\""
      ]
    },
    {
      "cell_type": "code",
      "metadata": {
        "id": "tT6oikN_rj2B",
        "colab_type": "code",
        "outputId": "43634202-6bf1-446e-df4f-b64479b7d7ae",
        "colab": {
          "base_uri": "https://localhost:8080/",
          "height": 202
        }
      },
      "source": [
        "dataset = dataset.rename(columns= {0: \"Col_1\",\n",
        "                        1: \"Col_2\",\n",
        "                        2: \"Target\"}\n",
        "                        )\n",
        "\n",
        "dataset.head()"
      ],
      "execution_count": 0,
      "outputs": [
        {
          "output_type": "execute_result",
          "data": {
            "text/html": [
              "<div>\n",
              "<style scoped>\n",
              "    .dataframe tbody tr th:only-of-type {\n",
              "        vertical-align: middle;\n",
              "    }\n",
              "\n",
              "    .dataframe tbody tr th {\n",
              "        vertical-align: top;\n",
              "    }\n",
              "\n",
              "    .dataframe thead th {\n",
              "        text-align: right;\n",
              "    }\n",
              "</style>\n",
              "<table border=\"1\" class=\"dataframe\">\n",
              "  <thead>\n",
              "    <tr style=\"text-align: right;\">\n",
              "      <th></th>\n",
              "      <th>Col_1</th>\n",
              "      <th>Col_2</th>\n",
              "      <th>Target</th>\n",
              "    </tr>\n",
              "  </thead>\n",
              "  <tbody>\n",
              "    <tr>\n",
              "      <th>0</th>\n",
              "      <td>34.623660</td>\n",
              "      <td>78.024693</td>\n",
              "      <td>0</td>\n",
              "    </tr>\n",
              "    <tr>\n",
              "      <th>1</th>\n",
              "      <td>30.286711</td>\n",
              "      <td>43.894998</td>\n",
              "      <td>0</td>\n",
              "    </tr>\n",
              "    <tr>\n",
              "      <th>2</th>\n",
              "      <td>35.847409</td>\n",
              "      <td>72.902198</td>\n",
              "      <td>0</td>\n",
              "    </tr>\n",
              "    <tr>\n",
              "      <th>3</th>\n",
              "      <td>60.182599</td>\n",
              "      <td>86.308552</td>\n",
              "      <td>1</td>\n",
              "    </tr>\n",
              "    <tr>\n",
              "      <th>4</th>\n",
              "      <td>79.032736</td>\n",
              "      <td>75.344376</td>\n",
              "      <td>1</td>\n",
              "    </tr>\n",
              "  </tbody>\n",
              "</table>\n",
              "</div>"
            ],
            "text/plain": [
              "       Col_1      Col_2  Target\n",
              "0  34.623660  78.024693       0\n",
              "1  30.286711  43.894998       0\n",
              "2  35.847409  72.902198       0\n",
              "3  60.182599  86.308552       1\n",
              "4  79.032736  75.344376       1"
            ]
          },
          "metadata": {
            "tags": []
          },
          "execution_count": 4
        }
      ]
    },
    {
      "cell_type": "markdown",
      "metadata": {
        "id": "tIk791Zls60V",
        "colab_type": "text"
      },
      "source": [
        "3. Visualisez les données sous la forme d’un nuage de point où les différentes classes sont indiquées par différents symboles"
      ]
    },
    {
      "cell_type": "code",
      "metadata": {
        "id": "wcZXSzFss6ir",
        "colab_type": "code",
        "outputId": "b24443b8-8450-402e-a605-de96f9fe93a4",
        "colab": {
          "base_uri": "https://localhost:8080/",
          "height": 386
        }
      },
      "source": [
        "sns.relplot(x=dataset.columns[0], \n",
        "            y=dataset.columns[1], \n",
        "            hue=dataset.columns[-1], \n",
        "            data=dataset)"
      ],
      "execution_count": 0,
      "outputs": [
        {
          "output_type": "execute_result",
          "data": {
            "text/plain": [
              "<seaborn.axisgrid.FacetGrid at 0x7f81dd7ba6a0>"
            ]
          },
          "metadata": {
            "tags": []
          },
          "execution_count": 5
        },
        {
          "output_type": "display_data",
          "data": {
            "image/png": "[encoded data removed]",
            "text/plain": [
              "<Figure size 428.609x360 with 1 Axes>"
            ]
          },
          "metadata": {
            "tags": []
          }
        }
      ]
    },
    {
      "cell_type": "markdown",
      "metadata": {
        "id": "yr6jQNa0t-1N",
        "colab_type": "text"
      },
      "source": [
        "4. Séparez votre dataset en X pour les variables explicatives et y pour la variable d'entraînement "
      ]
    },
    {
      "cell_type": "code",
      "metadata": {
        "id": "_qVXX4QZt-j_",
        "colab_type": "code",
        "colab": {}
      },
      "source": [
        "X = dataset.iloc[:, :-1]\n",
        "y = dataset.iloc[:, -1]"
      ],
      "execution_count": 0,
      "outputs": []
    },
    {
      "cell_type": "markdown",
      "metadata": {
        "id": "eiW1VJ4hu0eC",
        "colab_type": "text"
      },
      "source": [
        "5. Séparez les données en échantillon d’apprentissage et échantillon de validation grâce à la commande `from sklearn.model_selection import train_test_split`"
      ]
    },
    {
      "cell_type": "code",
      "metadata": {
        "id": "KpEn7djMu5SA",
        "colab_type": "code",
        "colab": {}
      },
      "source": [
        "from sklearn.model_selection import train_test_split\n",
        "X_train, X_test, y_train, y_test = train_test_split(X,y, test_size = 0.3, stratify=y, random_state = 42)"
      ],
      "execution_count": 0,
      "outputs": []
    },
    {
      "cell_type": "markdown",
      "metadata": {
        "id": "vrMMuiomtYse",
        "colab_type": "text"
      },
      "source": [
        "6. Analysez les variables explicatives, y a t’il besoin de les normaliser ? si oui utiliser la fonction vue précédemment pour centrer réduire les variables explicatives."
      ]
    },
    {
      "cell_type": "code",
      "metadata": {
        "id": "MqyKIVhdtSr6",
        "colab_type": "code",
        "colab": {}
      },
      "source": [
        "# Oui il faut normaliser \n",
        "from sklearn.preprocessing import StandardScaler\n",
        "sc_x = StandardScaler()\n",
        "X_train = sc_x.fit_transform(X_train)\n",
        "X_test = sc_x.transform(X_test)"
      ],
      "execution_count": 0,
      "outputs": []
    },
    {
      "cell_type": "markdown",
      "metadata": {
        "id": "iG6bk4uUvXXQ",
        "colab_type": "text"
      },
      "source": [
        "7. Utilisez la régression logistique pour classer les données à votre disposition"
      ]
    },
    {
      "cell_type": "code",
      "metadata": {
        "id": "BV-kq27ovUXB",
        "colab_type": "code",
        "outputId": "78415115-5684-4422-9d3f-38f7052958a3",
        "colab": {
          "base_uri": "https://localhost:8080/",
          "height": 103
        }
      },
      "source": [
        "from sklearn.linear_model import LogisticRegression\n",
        "classifier = LogisticRegression()\n",
        "classifier.fit(X_train, y_train)"
      ],
      "execution_count": 0,
      "outputs": [
        {
          "output_type": "execute_result",
          "data": {
            "text/plain": [
              "LogisticRegression(C=1.0, class_weight=None, dual=False, fit_intercept=True,\n",
              "                   intercept_scaling=1, l1_ratio=None, max_iter=100,\n",
              "                   multi_class='warn', n_jobs=None, penalty='l2',\n",
              "                   random_state=None, solver='warn', tol=0.0001, verbose=0,\n",
              "                   warm_start=False)"
            ]
          },
          "metadata": {
            "tags": []
          },
          "execution_count": 10
        }
      ]
    },
    {
      "cell_type": "markdown",
      "metadata": {
        "id": "JH8gQTnvvi8u",
        "colab_type": "text"
      },
      "source": [
        "8. Regardez votre score sur votre échantillon de test "
      ]
    },
    {
      "cell_type": "code",
      "metadata": {
        "id": "ykqcvNrSvl5-",
        "colab_type": "code",
        "outputId": "a4e2f276-f731-40a4-c831-84440fe9b6f5",
        "colab": {
          "base_uri": "https://localhost:8080/",
          "height": 34
        }
      },
      "source": [
        "classifier.score(X_test, y_test)"
      ],
      "execution_count": 0,
      "outputs": [
        {
          "output_type": "execute_result",
          "data": {
            "text/plain": [
              "0.9333333333333333"
            ]
          },
          "metadata": {
            "tags": []
          },
          "execution_count": 11
        }
      ]
    },
    {
      "cell_type": "markdown",
      "metadata": {
        "id": "2Ed3oR-HvsaR",
        "colab_type": "text"
      },
      "source": [
        "9. Regardez votre score moyen sur une cross-validation avec K=10"
      ]
    },
    {
      "cell_type": "code",
      "metadata": {
        "id": "KYR1Yk1Yvhuj",
        "colab_type": "code",
        "outputId": "e6fb1315-2723-447c-9632-791a5968d9db",
        "colab": {
          "base_uri": "https://localhost:8080/",
          "height": 34
        }
      },
      "source": [
        "from sklearn.model_selection import cross_val_score\n",
        "#cross_val_score(classifier,X, y, cv=10)#.mean()\n",
        "cross_val_score(classifier,X, y, cv=10).std()"
      ],
      "execution_count": 0,
      "outputs": [
        {
          "output_type": "execute_result",
          "data": {
            "text/plain": [
              "0.09000000000000001"
            ]
          },
          "metadata": {
            "tags": []
          },
          "execution_count": 58
        }
      ]
    },
    {
      "cell_type": "markdown",
      "metadata": {
        "id": "WDc2BPmkxQ4x",
        "colab_type": "text"
      },
      "source": [
        "10. Produisez les prédictions de votre modèle pour l’echantillon d’apprentissage et l’échantillon test"
      ]
    },
    {
      "cell_type": "code",
      "metadata": {
        "id": "iOPDbkPAxQgY",
        "colab_type": "code",
        "colab": {}
      },
      "source": [
        "y_pred = classifier.predict(X_test)"
      ],
      "execution_count": 0,
      "outputs": []
    },
    {
      "cell_type": "markdown",
      "metadata": {
        "id": "vzOqG02CxZgD",
        "colab_type": "text"
      },
      "source": [
        "11. Produisez la matrice de confusion pour vos prédictions sur l’échantillon de test et d’apprentissage, que dites vous des performances de votre modèle et son pouvoir de généralisation?"
      ]
    },
    {
      "cell_type": "code",
      "metadata": {
        "id": "bqYnxVJJv6q_",
        "colab_type": "code",
        "outputId": "53118cc2-f9dc-492f-a0a4-defc9f61d4e0",
        "colab": {
          "base_uri": "https://localhost:8080/",
          "height": 286
        }
      },
      "source": [
        "from sklearn.metrics import confusion_matrix\n",
        "cm = confusion_matrix(y_test, y_pred)\n",
        "sns.heatmap(cm, annot=True, fmt=\"d\")"
      ],
      "execution_count": 0,
      "outputs": [
        {
          "output_type": "execute_result",
          "data": {
            "text/plain": [
              "<matplotlib.axes._subplots.AxesSubplot at 0x7fbe5d7ead30>"
            ]
          },
          "metadata": {
            "tags": []
          },
          "execution_count": 60
        },
        {
          "output_type": "display_data",
          "data": {
            "image/png": "[encoded data removed]",
            "text/plain": [
              "<Figure size 432x288 with 2 Axes>"
            ]
          },
          "metadata": {
            "tags": []
          }
        }
      ]
    },
    {
      "cell_type": "markdown",
      "metadata": {
        "id": "a-baBi4gxo-K",
        "colab_type": "text"
      },
      "source": [
        "12. Afficher la courbe ROC de votre modèle pour les données de validation"
      ]
    },
    {
      "cell_type": "code",
      "metadata": {
        "id": "aRS1KP0VxkjR",
        "colab_type": "code",
        "outputId": "21cf6721-3f1d-47e5-f490-299ee9bc6c24",
        "colab": {
          "base_uri": "https://localhost:8080/",
          "height": 295
        }
      },
      "source": [
        "from sklearn.metrics import roc_auc_score\n",
        "from sklearn.metrics import roc_curve\n",
        "logit_roc_auc = roc_auc_score(y_test, classifier.predict(X_test))\n",
        "fpr, tpr, thresholds = roc_curve(y_test, classifier.predict_proba(X_test)[:,1])\n",
        "plt.figure()\n",
        "plt.plot(fpr, tpr, label='Logistic Regression (area = %0.2f)' % logit_roc_auc)\n",
        "plt.plot([0, 1], [0, 1],'r--')\n",
        "plt.xlim([-0.05, 1.05])\n",
        "plt.ylim([-0.05, 1.05])\n",
        "plt.xlabel('False Positive Rate')\n",
        "plt.ylabel('True Positive Rate')\n",
        "plt.title('Receiver operating characteristic')\n",
        "plt.legend(loc=\"lower right\")\n",
        "plt.savefig('Log_ROC')\n",
        "plt.show()"
      ],
      "execution_count": 0,
      "outputs": [
        {
          "output_type": "display_data",
          "data": {
            "image/png": "[encoded data removed]",
            "text/plain": [
              "<Figure size 432x288 with 1 Axes>"
            ]
          },
          "metadata": {
            "tags": []
          }
        }
      ]
    },
    {
      "cell_type": "code",
      "metadata": {
        "id": "QWUAXkiox0b2",
        "colab_type": "code",
        "colab": {}
      },
      "source": [
        ""
      ],
      "execution_count": 0,
      "outputs": []
    }
  ]
}