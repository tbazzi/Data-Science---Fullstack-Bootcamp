{
  "nbformat": 4,
  "nbformat_minor": 0,
  "metadata": {
    "kernelspec": {
      "display_name": "Python 3",
      "language": "python",
      "name": "python3"
    },
    "language_info": {
      "codemirror_mode": {
        "name": "ipython",
        "version": 3
      },
      "file_extension": ".py",
      "mimetype": "text/x-python",
      "name": "python",
      "nbconvert_exporter": "python",
      "pygments_lexer": "ipython3",
      "version": "3.6.8"
    },
    "colab": {
      "name": "S10_1_1. Coding Challenge - SOLUTION.ipynb",
      "provenance": [],
      "include_colab_link": true
    }
  },
  "cells": [
    {
      "cell_type": "markdown",
      "metadata": {
        "id": "view-in-github",
        "colab_type": "text"
      },
      "source": [
        "<a href=\"https://colab.research.google.com/github/tbazzi/Data-Science---Fullstack-Bootcamp/blob/master/S10_1_1_Coding_Challenge_SOLUTION.ipynb\" target=\"_parent\"><img src=\"https://colab.research.google.com/assets/colab-badge.svg\" alt=\"Open In Colab\"/></a>"
      ]
    },
    {
      "cell_type": "markdown",
      "metadata": {
        "id": "mExMCKWTgaRk",
        "colab_type": "text"
      },
      "source": [
        "This notebook was prepared by [Antoine Krajnc](https://github.com/antoinekrajnc). Source and license info is on [GitHub](https://github.com/donnemartin/interactive-coding-challenges)."
      ]
    },
    {
      "cell_type": "markdown",
      "metadata": {
        "id": "BwpN-G2mgaRp",
        "colab_type": "text"
      },
      "source": [
        "# Challenge Notebook"
      ]
    },
    {
      "cell_type": "markdown",
      "metadata": {
        "id": "w_Qd-9xpgaRw",
        "colab_type": "text"
      },
      "source": [
        "Here is your first data science coding challenge. This is meant for people who would like to land in a Junior Data Scientist position"
      ]
    },
    {
      "cell_type": "markdown",
      "metadata": {
        "id": "Us5TW9-FgaR0",
        "colab_type": "text"
      },
      "source": [
        "## Question 1 : How would you declare a ```name``` function in Python (0.25 pt)"
      ]
    },
    {
      "cell_type": "markdown",
      "metadata": {
        "id": "7-g-heOCgaR4",
        "colab_type": "text"
      },
      "source": [
        "A. ```def name():```\n",
        "\n",
        "B. ```function name():```\n",
        "\n",
        "C. ```name():```\n",
        "\n",
        "D. ```void name():```"
      ]
    },
    {
      "cell_type": "code",
      "metadata": {
        "id": "TobnunH1gaR8",
        "colab_type": "code",
        "colab": {}
      },
      "source": [
        "# Add the answer within the two quotes \n",
        "def answer1():\n",
        "    answer = \"A\"\n",
        "    return answer"
      ],
      "execution_count": 0,
      "outputs": []
    },
    {
      "cell_type": "markdown",
      "metadata": {
        "id": "0Ta1H-T3gaSI",
        "colab_type": "text"
      },
      "source": [
        "## Question 2 : ```val = {'0':0, '1':1, '2', 2}``` (0.25 pt)\n",
        "#### What is the data type of ```val```"
      ]
    },
    {
      "cell_type": "markdown",
      "metadata": {
        "id": "yYVjC2aLgaSL",
        "colab_type": "text"
      },
      "source": [
        "A. ```list```\n",
        "\n",
        "B. ```dict```\n",
        "\n",
        "C. ```array```\n",
        "\n",
        "D. ```map```\n",
        "\n",
        "E. ```set```"
      ]
    },
    {
      "cell_type": "code",
      "metadata": {
        "id": "53VUnry5gaSQ",
        "colab_type": "code",
        "colab": {}
      },
      "source": [
        "def answer2():\n",
        "    answer = \"B\"\n",
        "    return answer"
      ],
      "execution_count": 0,
      "outputs": []
    },
    {
      "cell_type": "markdown",
      "metadata": {
        "id": "NgjG0N8RgaSZ",
        "colab_type": "text"
      },
      "source": [
        "## Question 3 : Build a function ```average(table)``` (2.5 pt)\n",
        "\n",
        "#### This function should return the mean of ```table``` given as parameter. ```table``` is a list and its items are always numbers\n",
        "\n",
        "#### ```average()``` should return 0 if ```table``` is empty."
      ]
    },
    {
      "cell_type": "code",
      "metadata": {
        "id": "TpIsppnBgaSb",
        "colab_type": "code",
        "colab": {}
      },
      "source": [
        "def average(table):\n",
        "    \n",
        "    sum = 0 \n",
        "    \n",
        "    for item in table:\n",
        "        sum += item \n",
        "    \n",
        "    avg = sum / len(table)\n",
        "    return avg    "
      ],
      "execution_count": 0,
      "outputs": []
    },
    {
      "cell_type": "markdown",
      "metadata": {
        "id": "ej1U6LrVgaSm",
        "colab_type": "text"
      },
      "source": [
        "## Question 4 : How would you create an instance ```point``` of the following object ? (0.25 pt)"
      ]
    },
    {
      "cell_type": "markdown",
      "metadata": {
        "id": "sCm5fzDPgaSo",
        "colab_type": "text"
      },
      "source": [
        "```\n",
        "class Point():\n",
        "    def __init__(self, x, y):\n",
        "        self.x = x\n",
        "        self.y = y\n",
        "       \n",
        "    def __init__(self, other):\n",
        "        return(self.x, self.y) == (other.x, other.y)\n",
        "```\n",
        "    "
      ]
    },
    {
      "cell_type": "markdown",
      "metadata": {
        "id": "GNf8F1QHgaSp",
        "colab_type": "text"
      },
      "source": [
        "A. ```point = new Point(x, y)```\n",
        "\n",
        "B. ```point = Point(point(x, y)```\n",
        "\n",
        "C. ```point = Point(x, y)```"
      ]
    },
    {
      "cell_type": "code",
      "metadata": {
        "id": "o986YEhlgaSr",
        "colab_type": "code",
        "colab": {}
      },
      "source": [
        "def answer4():\n",
        "    answer = \"C\"\n",
        "    return answer"
      ],
      "execution_count": 0,
      "outputs": []
    },
    {
      "cell_type": "markdown",
      "metadata": {
        "id": "yFCqdvjNgaS4",
        "colab_type": "text"
      },
      "source": [
        "## Question 5 : How a AND operator in Python ? (0.25 pt)"
      ]
    },
    {
      "cell_type": "markdown",
      "metadata": {
        "id": "CUdsIQcAgaS7",
        "colab_type": "text"
      },
      "source": [
        "A. ```&&```\n",
        "\n",
        "B. ```and```\n",
        "\n",
        "C. ```.```\n",
        "\n",
        "D. ```||```"
      ]
    },
    {
      "cell_type": "code",
      "metadata": {
        "id": "evIZICaqgaS-",
        "colab_type": "code",
        "colab": {}
      },
      "source": [
        "def answer5():\n",
        "    \n",
        "    answer= \"B\"\n",
        "    \n",
        "    return answer"
      ],
      "execution_count": 0,
      "outputs": []
    },
    {
      "cell_type": "markdown",
      "metadata": {
        "id": "7if1YHcYgaTJ",
        "colab_type": "text"
      },
      "source": [
        "## Question 6 : What is the difference between ```tuples``` &  ```lists``` (0.25 pt)"
      ]
    },
    {
      "cell_type": "markdown",
      "metadata": {
        "id": "Q-TgQSnYgaTL",
        "colab_type": "text"
      },
      "source": [
        "A. ```list``` has a order, ```tuple``` has not.\n",
        "\n",
        "B. ```list``` can contain duplicates, ```tuple``` has only unique values.\n",
        "\n",
        "C. ```tuple``` can have different datatype as items, ```list``` cannot. \n",
        "\n",
        "D. ```tuple``` is immutable, ```list``` is mutable"
      ]
    },
    {
      "cell_type": "code",
      "metadata": {
        "id": "ZRJgsrCzgaTN",
        "colab_type": "code",
        "colab": {}
      },
      "source": [
        "def answer6():\n",
        "    \n",
        "    answer = 'D'\n",
        "    \n",
        "    return answer"
      ],
      "execution_count": 0,
      "outputs": []
    },
    {
      "cell_type": "markdown",
      "metadata": {
        "id": "mvGpF9p9gaTX",
        "colab_type": "text"
      },
      "source": [
        "## Question 7 : The following code is located in  ```file.py```. When using command ```python3 file.py```, in which order each block of code will be executed? (0.25 pt)"
      ]
    },
    {
      "cell_type": "markdown",
      "metadata": {
        "id": "-wtWnGXlgaTa",
        "colab_type": "text"
      },
      "source": [
        "```\n",
        "#code block A\n",
        "\n",
        "def main():\n",
        "    #code block B\n",
        "    \n",
        "if __name__ == '__main__':\n",
        "    main()\n",
        "    \n",
        "#code block C\n",
        "\n",
        "```"
      ]
    },
    {
      "cell_type": "markdown",
      "metadata": {
        "id": "7t_oJNuHgaTb",
        "colab_type": "text"
      },
      "source": [
        "A. ```A then B then C ```\n",
        "\n",
        "B. ```only B```\n",
        "\n",
        "C. ```A then B```\n",
        "\n",
        "D. ```A then C then B```\n",
        "\n",
        "E. ```A then C ```"
      ]
    },
    {
      "cell_type": "code",
      "metadata": {
        "id": "c1UcSIiHgaTc",
        "colab_type": "code",
        "colab": {}
      },
      "source": [
        "def answer7():\n",
        "    \n",
        "    answer = 'A'\n",
        "    \n",
        "    return answer "
      ],
      "execution_count": 0,
      "outputs": []
    },
    {
      "cell_type": "markdown",
      "metadata": {
        "id": "_Kk2nMPUgaTi",
        "colab_type": "text"
      },
      "source": [
        "## Question 8 : which of the following gives you the maximum value of ```values= [0, 1, 2]```?  (0.5 pt)"
      ]
    },
    {
      "cell_type": "markdown",
      "metadata": {
        "id": "RJpYJi3ygaTk",
        "colab_type": "text"
      },
      "source": [
        "A. ```max(values)```\n",
        "\n",
        "B. ```math.max(values)```\n",
        "\n",
        "C. ```values.max()```\n",
        "\n",
        "D. ```All of the above```\n",
        "\n",
        "E. ```None of the above```"
      ]
    },
    {
      "cell_type": "code",
      "metadata": {
        "id": "LRPGtzHXgaTm",
        "colab_type": "code",
        "colab": {}
      },
      "source": [
        "def answer8():\n",
        "    \n",
        "    answer = \"D\"\n",
        "    \n",
        "    return answer"
      ],
      "execution_count": 0,
      "outputs": []
    },
    {
      "cell_type": "markdown",
      "metadata": {
        "id": "JDb3SEnsgaTs",
        "colab_type": "text"
      },
      "source": [
        "## Question 9 : You are building a function that returns all files that belongs to a given folder. What would be the best value to return if the given folder is empty? (0.5 pt)"
      ]
    },
    {
      "cell_type": "markdown",
      "metadata": {
        "id": "E1U4OdAdgaTv",
        "colab_type": "text"
      },
      "source": [
        "A. Function should return an empty list \n",
        "\n",
        "B. Function should return ```None```\n",
        "\n",
        "C. Function should raise an exception"
      ]
    },
    {
      "cell_type": "code",
      "metadata": {
        "id": "rG7iia_QgaTy",
        "colab_type": "code",
        "colab": {}
      },
      "source": [
        "def answer9():\n",
        "    answer = \"A\"\n",
        "    return answer"
      ],
      "execution_count": 0,
      "outputs": []
    },
    {
      "cell_type": "markdown",
      "metadata": {
        "id": "uvU924VZgaT5",
        "colab_type": "text"
      },
      "source": [
        "# Question 10: Challenge (4 pt)\n",
        "\n",
        "### You are given two arrays of integers a and b of the same length, and an integer k. We will be iterating through array a from left to right, and simultaneously through array b from right to left, and looking at pairs ```(x, y)```, where ````x ∈ a``` and ```y ∈ b```. Such a pair is called tiny if the concatenation ```xy``` is strictly less than ```k```.\n",
        "\n",
        "### Your task is to return the number of tiny pairs that you'll encounter during the simultaneous iteration through a and b."
      ]
    },
    {
      "cell_type": "markdown",
      "metadata": {
        "id": "KMweU6NcgaT9",
        "colab_type": "text"
      },
      "source": [
        "Example\n",
        "\n",
        "For ```a = [1, 2, 3]```, ```b = [1, 2, 3]```, and ```k = 31```, the output should be\n",
        "```countTinyPairs(a, b, k) = 2```.\n",
        "\n",
        "We're considering the following pairs during iteration:\n",
        "\n",
        "(1, 3). Their concatenation equals 13, which is less than 31, so the pair is tiny;\n",
        "(2, 2). Their concatenation equals 22, which is less than 31, so the pair is tiny;\n",
        "(3, 1). Their concatenation equals 31, which is not less than 31, so the pair is not tiny.\n",
        "As you can see, there are 2 tiny pairs during the iteration, so the answer is 2.\n",
        "\n",
        "For ```a = [16, 1, 4, 2, 14]```, ```b = [7, 11, 2, 0, 15]```, and ```k = 743```, the output should be\n",
        "```countTinyPairs(a, b, k) = 4```.\n",
        "\n",
        "We're considering the following pairs during iteration:\n",
        "\n",
        "(16, 15). Their concatenation equals 1615, which is greater than 743, so the pair is not tiny;\n",
        "(1, 0). Their concatenation equals 10, which is less than 743, so the pair is tiny;\n",
        "(4, 2). Their concatenation equals 42, which is less than 743, so the pair is tiny.\n",
        "(2, 11). Their concatenation equals 211, which is less than 743, so the pair is tiny;\n",
        "(14, 7). Their concatenation equals 147, which is less than 743, so the pair is tiny.\n",
        "There are 4 tiny pairs during the iteration, so the answer is 4.\n",
        "\n",
        "**Input/Output**\n",
        "\n",
        "[execution time limit] 4 seconds (py3)\n",
        "\n",
        "[input] array.integer a\n",
        "\n",
        "An array of non-negative integers.\n",
        "\n",
        "**Guaranteed constraints:**\n",
        "\n",
        "0 ≤ a.length ≤ 105,\n",
        "0 ≤ a[i] ≤ 104.\n",
        "\n",
        "[input] array.integer b\n",
        "\n",
        "An array of non-negative integers.\n",
        "\n",
        "**Guaranteed constraints:**\n",
        "\n",
        "b.length = a.length,\n",
        "0 ≤ b[i] ≤ 104.\n",
        "\n",
        "[input] integer k\n",
        "\n",
        "An integer to compare concatenated pairs with.\n",
        "\n",
        "**Guaranteed constraints:**\n",
        "0 ≤ k ≤ 109.\n",
        "\n",
        "[output] integer\n",
        "\n",
        "The number of tiny pairs during the iteration."
      ]
    },
    {
      "cell_type": "code",
      "metadata": {
        "id": "LN25DRiogaT-",
        "colab_type": "code",
        "colab": {}
      },
      "source": [
        "def countTinyPairs(a, b, k):\n",
        "\n",
        "    sum = 0 \n",
        "    b.reverse()\n",
        "    for i in range(0, len(a)):\n",
        "        \n",
        "        tinypair = float(\"{}{}\".format(a[i], b[i]))\n",
        "        \n",
        "        if tinypair < k:\n",
        "            sum += 1\n",
        "                \n",
        "    return sum"
      ],
      "execution_count": 0,
      "outputs": []
    },
    {
      "cell_type": "markdown",
      "metadata": {
        "id": "Wyj_OXyzgaUE",
        "colab_type": "text"
      },
      "source": [
        "# Question 11 : Challenge (5 pt)\n",
        "\n",
        "Fred is a very predictable man. For instance, when he uses his laptop, all he does is watch TV shows. He keeps on watching TV shows until his battery dies. Also, he is a very meticulous man, i.e. he pays great attention to minute details. He has been keeping logs of every time he charged his laptop, which includes how long he charged his laptop for and after that how long was he able to watch the TV. Now, Fred wants to use this log to predict how long will he be able to watch TV for when he starts so that he can plan his activities after watching his TV shows accordingly.\n",
        "\n",
        "**Challenge**\n",
        "\n",
        "You are given access to Fred’s laptop charging log by reading from the file “trainingdata.txt”. The training data file will consist of 100 lines, each with 2 comma-separated numbers.\n",
        "\n",
        "The first number denotes the amount of time the laptop was charged.\n",
        "The second number denotes the amount of time the battery lasted.\n",
        "The training data file can be downloaded here : https://s3.amazonaws.com/hr-testcases/399/assets/trainingdata.txt (this will be the same training data used when your program is run). The input for each of the test cases will consist of exactly 1 number rounded to 2 decimal places. For each input, output 1 number: the amount of time you predict his battery will last.\n",
        "\n",
        "Sample Input\n",
        "\n",
        "1.50\n",
        "\n",
        "Sample Output\n",
        "\n",
        "3.00"
      ]
    },
    {
      "cell_type": "code",
      "metadata": {
        "id": "Mnh_V8KRgaUG",
        "colab_type": "code",
        "colab": {},
        "outputId": "b6e2371d-22b2-4694-a53a-d2965b274f2c"
      },
      "source": [
        "import math\n",
        "import os\n",
        "import random\n",
        "import re\n",
        "import sys\n",
        "import pandas as pd\n",
        "import numpy as np\n",
        "\n",
        "def prediction(timeCharged):\n",
        "\n",
        "    if timeCharged < 4.11:\n",
        "        batteryLife = 2 * timeCharged\n",
        "    else:\n",
        "        batteryLife = 8\n",
        "\n",
        "    return print(batteryLife)\n",
        "\n",
        "if __name__ == '__main__':\n",
        "    timeCharged = float(input())\n",
        "    prediction(timeCharged)"
      ],
      "execution_count": 0,
      "outputs": [
        {
          "output_type": "stream",
          "text": [
            "2\n",
            "4.0\n"
          ],
          "name": "stdout"
        }
      ]
    },
    {
      "cell_type": "markdown",
      "metadata": {
        "id": "FLVC8WjrgaUN",
        "colab_type": "text"
      },
      "source": [
        "## Question 12 : Challenge (2 pt)"
      ]
    },
    {
      "cell_type": "markdown",
      "metadata": {
        "id": "gChDrLoegaUP",
        "colab_type": "text"
      },
      "source": [
        "**Objective**\n",
        "In this challenge, we practice calculating probability.\n",
        "\n",
        "**Task**\n",
        "In a single toss of two fair (evenly-weighted) -sided dice, find the probability of that their sum will be at most 9.\n",
        "\n",
        "*Output Format*\n",
        "\n",
        "In the editor below, submit your answer as Plain Text in the form of an irreducible fraction , where  and  are both integers.\n",
        "\n",
        "Your answer should resemble something like:\n",
        "\n",
        "3/4  \n",
        "(This is NOT the answer, just a demonstration of the answer format.)"
      ]
    },
    {
      "cell_type": "code",
      "metadata": {
        "id": "roioXoI1gaUR",
        "colab_type": "code",
        "colab": {}
      },
      "source": [
        "def answer12():\n",
        "    answer = 5/6\n",
        "    return answer"
      ],
      "execution_count": 0,
      "outputs": []
    },
    {
      "cell_type": "markdown",
      "metadata": {
        "id": "T0ajniW1gaUa",
        "colab_type": "text"
      },
      "source": [
        "## Question 13 : Which of the following is needed in K-means clustering? (0.5 pt)"
      ]
    },
    {
      "cell_type": "markdown",
      "metadata": {
        "id": "9V2ZSFOwgaUd",
        "colab_type": "text"
      },
      "source": [
        "A. Initial guess as to clusters centroïds\n",
        "\n",
        "B. Numbers of clusters\n",
        "\n",
        "C. Define distance metrics\n",
        "\n",
        "D. All the above"
      ]
    },
    {
      "cell_type": "code",
      "metadata": {
        "id": "W4XXcYwMgaUe",
        "colab_type": "code",
        "colab": {}
      },
      "source": [
        "def answer13():\n",
        "    answer = \"D\"\n",
        "    return answer"
      ],
      "execution_count": 0,
      "outputs": []
    },
    {
      "cell_type": "markdown",
      "metadata": {
        "id": "_ZHBcsqLgaUl",
        "colab_type": "text"
      },
      "source": [
        "## Question 14 : what is the difference between supervised & unsupervised learning? (0.5 pt)\n"
      ]
    },
    {
      "cell_type": "markdown",
      "metadata": {
        "id": "QsvWcN5bgaUo",
        "colab_type": "text"
      },
      "source": [
        "A. Supervised learning doesn't need labelled data in the training set whereas unsupervised learning does\n",
        "\n",
        "B. Supervised learning needs labelled data in the training set whereas unsupervised learning does not\n",
        "\n",
        "C. Supervised learning is used in Machine Learning whereas unsupervised learning is used in Deep Learning\n",
        "\n",
        "D. None of the above"
      ]
    },
    {
      "cell_type": "code",
      "metadata": {
        "id": "4tbJE8WngaUp",
        "colab_type": "code",
        "colab": {}
      },
      "source": [
        "def answer14():\n",
        "    answer = \"B\"\n",
        "    return answer"
      ],
      "execution_count": 0,
      "outputs": []
    },
    {
      "cell_type": "markdown",
      "metadata": {
        "id": "GLyEVjARgaUt",
        "colab_type": "text"
      },
      "source": [
        "## Question 15 : What is bias / variance trade off ?  (0.5 pt)"
      ]
    },
    {
      "cell_type": "markdown",
      "metadata": {
        "id": "XdUc-0EKgaUu",
        "colab_type": "text"
      },
      "source": [
        "A. If you increase a ML model bias, it will systematically decrease variance and vice-versa\n",
        "\n",
        "B. Our goal as data scientist is to have the lowest bias & variance when building a model \n",
        "\n",
        "C. Bias corresponds to under-fitting and variance corresponds to over-fitting\n",
        "\n",
        "D. All of the above"
      ]
    },
    {
      "cell_type": "code",
      "metadata": {
        "id": "uXM5OWkXgaUv",
        "colab_type": "code",
        "colab": {}
      },
      "source": [
        "def answer15():\n",
        "    answer = \"D\"\n",
        "    return answer"
      ],
      "execution_count": 0,
      "outputs": []
    },
    {
      "cell_type": "markdown",
      "metadata": {
        "id": "NJMdgauogaUz",
        "colab_type": "text"
      },
      "source": [
        "## Question 16 : What is a confusion matrix useful for ? (0.5 pt)"
      ]
    },
    {
      "cell_type": "markdown",
      "metadata": {
        "id": "RULW5rLEgaU3",
        "colab_type": "text"
      },
      "source": [
        "A. To see bias in any Machine Learning model\n",
        "\n",
        "B. To assess performance of a classification model \n",
        "\n",
        "C. To see correlations between features \n",
        "\n",
        "D. To see colinearity between features "
      ]
    },
    {
      "cell_type": "code",
      "metadata": {
        "id": "29KtNdYYgaU4",
        "colab_type": "code",
        "colab": {}
      },
      "source": [
        "def answer16():\n",
        "    answer = \"B\"\n",
        "    return answer"
      ],
      "execution_count": 0,
      "outputs": []
    },
    {
      "cell_type": "markdown",
      "metadata": {
        "id": "nM8UoGzXgaU7",
        "colab_type": "text"
      },
      "source": [
        "## Question 17 : What is recall ? (0.5 pt)\n",
        "\n",
        "#### In this question TP = True Positives, P = Positives, TN = True Negatives, N = Negatives, FP = False Positives, FN = False Negatives"
      ]
    },
    {
      "cell_type": "markdown",
      "metadata": {
        "id": "RP573zLbgaU9",
        "colab_type": "text"
      },
      "source": [
        "A. ```TP / P```\n",
        "\n",
        "B. ```(TP + TN) / (P + N)```\n",
        "\n",
        "C. ```TP / (TP + FN)```\n",
        "\n",
        "D. ```TP / (TP + FP)```"
      ]
    },
    {
      "cell_type": "code",
      "metadata": {
        "id": "GNOMyma_gaVB",
        "colab_type": "code",
        "colab": {}
      },
      "source": [
        "def answer17():\n",
        "    answer = \"C\"\n",
        "    return answer "
      ],
      "execution_count": 0,
      "outputs": []
    },
    {
      "cell_type": "markdown",
      "metadata": {
        "id": "mzV8k6f_gaVI",
        "colab_type": "text"
      },
      "source": [
        "## Question 18 : I can use cross-validation on a time series to improve the accuracy  (0.5 pt)"
      ]
    },
    {
      "cell_type": "markdown",
      "metadata": {
        "id": "DgfGH9WPgaVJ",
        "colab_type": "text"
      },
      "source": [
        "A. True\n",
        "\n",
        "B. False"
      ]
    },
    {
      "cell_type": "code",
      "metadata": {
        "id": "3hRJrTDMgaVK",
        "colab_type": "code",
        "colab": {}
      },
      "source": [
        "def answer18():\n",
        "    answer = \"B\"\n",
        "    return answer"
      ],
      "execution_count": 0,
      "outputs": []
    },
    {
      "cell_type": "markdown",
      "metadata": {
        "id": "g45RY0d6gaVN",
        "colab_type": "text"
      },
      "source": [
        "## Question 19 : What could you do to deal with overfitting ? (0.5 pt)"
      ]
    },
    {
      "cell_type": "markdown",
      "metadata": {
        "id": "m1rhBxwKgaVO",
        "colab_type": "text"
      },
      "source": [
        "A. Use regularization technics like L1 or L2\n",
        "\n",
        "B. Use cross-validation technics like K-fold\n",
        "\n",
        "C. Use Principal Component Analysis \n",
        "\n",
        "D. Add trees in my random forest algorithm\n",
        "\n",
        "E. Remove rows in my dataset \n",
        "\n",
        "F. All of the above \n",
        "\n",
        "G. Answer A, answer B & answer C\n",
        "\n",
        "H. Answer A, answer B & answer D\n",
        "\n",
        "I. Answer A, answer C & answer D\n"
      ]
    },
    {
      "cell_type": "code",
      "metadata": {
        "id": "Z39ld5hUgaVP",
        "colab_type": "code",
        "colab": {}
      },
      "source": [
        "def answer19():\n",
        "    answer =\"G\"\n",
        "    return answer"
      ],
      "execution_count": 0,
      "outputs": []
    },
    {
      "cell_type": "markdown",
      "metadata": {
        "id": "RVZngUpAgaVT",
        "colab_type": "text"
      },
      "source": [
        "## Question 20 : What is the difference between bagging & boosting ? (0.5 pt)"
      ]
    },
    {
      "cell_type": "markdown",
      "metadata": {
        "id": "f3aCh_hfgaVT",
        "colab_type": "text"
      },
      "source": [
        "A. Bagging & Boosting are both part of the Ensemble Learning. There are no difference \n",
        "\n",
        "B. Bagging is sequential whereas Boosting gets estimations of all models at once\n",
        "\n",
        "C. Bagging gets estimations of all models at once whereas Boosting is sequential \n",
        "\n",
        "D. Bagging is used only for decision trees whereas Boosting can be used of any models"
      ]
    },
    {
      "cell_type": "code",
      "metadata": {
        "id": "nPMtvhXcgaVV",
        "colab_type": "code",
        "colab": {}
      },
      "source": [
        "def answer20():\n",
        "    answer= \"C\"\n",
        "    return answer"
      ],
      "execution_count": 0,
      "outputs": []
    },
    {
      "cell_type": "markdown",
      "metadata": {
        "id": "yWLIKdW2gaVa",
        "colab_type": "text"
      },
      "source": [
        "## Unit Test"
      ]
    },
    {
      "cell_type": "markdown",
      "metadata": {
        "id": "4kCt2S-ugaVc",
        "colab_type": "text"
      },
      "source": [
        "**The following unit test is expected to fail until you solve the challenge.**"
      ]
    },
    {
      "cell_type": "code",
      "metadata": {
        "id": "-UV_zqK1gaVd",
        "colab_type": "code",
        "colab": {}
      },
      "source": [
        "# %load coding_challenge_full_stack_program_solutions.py\n",
        "# %load coding_challenge_full_stack_program_solutions.py\n",
        "from nose.tools import assert_equal\n",
        "import pandas.util.testing as pdt\n",
        "\n",
        "\n",
        "class TestFoo(object):\n",
        "    \n",
        "    def __init__(self, score = 0):\n",
        "        self.score = score\n",
        "\n",
        "    def test_response1(self):\n",
        "        assert_equal(answer1(), \"A\")\n",
        "        self.score += 0.25\n",
        "        \n",
        "    def test_response2(self):\n",
        "        assert_equal(answer2(), \"B\")\n",
        "        self.score += 0.25\n",
        "        \n",
        "    def test_response3(self):\n",
        "        try:       \n",
        "            assert average([3,1,3,4]) == 2.75\n",
        "            self.score += 2.5\n",
        "        except:\n",
        "            assert (average([3,1,3,4]) == 2.75).all()\n",
        "            self.score += 2.5\n",
        "        \n",
        "    def test_response4(self):\n",
        "        assert_equal(answer4(), \"C\")\n",
        "        self.score += 0.25\n",
        "        \n",
        "    def test_response5(self):\n",
        "        assert_equal(answer5(), \"B\")\n",
        "        self.score += 0.25\n",
        "        \n",
        "    def test_response6(self):\n",
        "        assert_equal(answer6(), \"D\")\n",
        "        self.score += 0.25\n",
        "        \n",
        "    def test_response7(self):\n",
        "        assert_equal(answer7(), \"A\")\n",
        "        self.score += 0.25\n",
        "        \n",
        "    def test_response8(self):\n",
        "        assert_equal(answer8(), \"E\")\n",
        "        self.score += 0.5\n",
        "       \n",
        "    def test_response9(self):\n",
        "        assert_equal(answer9(), \"A\")\n",
        "        self.score += 0.5\n",
        "        \n",
        "    def test_response10(self):\n",
        "        assert countTinyPairs([16, 1, 4, 2, 14], [7, 11, 2, 0, 15], 743), 4\n",
        "        self.score += 4\n",
        "        \n",
        "    def test_response11(self):\n",
        "        assert_equal(answer11(), \"A\")\n",
        "        self.score += 5   \n",
        "\n",
        "    def test_response12(self):\n",
        "        assert_equal(answer12(), 5/6)\n",
        "        self.score += 2 \n",
        "        \n",
        "    def test_response13(self):\n",
        "        assert_equal(answer13(), \"D\")\n",
        "        self.score += 0.5\n",
        "        \n",
        "    def test_response14(self):\n",
        "        assert_equal(answer14(), \"B\")\n",
        "        self.score += 0.5  \n",
        "\n",
        "    def test_response15(self):\n",
        "        assert_equal(answer15(), \"D\")\n",
        "        self.score += 0.5\n",
        "        \n",
        "    def test_response16(self):\n",
        "        assert_equal(answer16(), \"B\")\n",
        "        self.score += 0.5  \n",
        "\n",
        "    def test_response17(self):\n",
        "        assert_equal(answer17(), \"C\")\n",
        "        self.score += 0.5\n",
        "        \n",
        "    def test_response18(self):\n",
        "        assert_equal(answer18(), \"B\")\n",
        "        self.score += 0.5  \n",
        "        \n",
        "    def test_response19(self):\n",
        "        assert_equal(answer19(), \"G\")\n",
        "        self.score += 0.5  \n",
        "        \n",
        "    def test_response20(self):\n",
        "        assert_equal(answer20(), \"C\")\n",
        "        self.score += 0.5          \n",
        "        \n",
        "    def print_scores(self):\n",
        "        print(\"merci d'avoir passé le test, voici votre score : {}\".format(self.score))\n",
        "\n",
        "def main():\n",
        "    test = TestFoo()\n",
        " \n",
        "    for func in [test.test_response1,\n",
        "                 test.test_response2,\n",
        "                 test.test_response3,\n",
        "                 test.test_response4,\n",
        "                 test.test_response5,\n",
        "                 test.test_response6,\n",
        "                 test.test_response7,\n",
        "                 test.test_response8,\n",
        "                 test.test_response9,\n",
        "                 test.test_response10,\n",
        "                 test.test_response11,\n",
        "                 test.test_response12,\n",
        "                 test.test_response13,\n",
        "                 test.test_response14,\n",
        "                 test.test_response15,\n",
        "                 test.test_response16,\n",
        "                 test.test_response17,\n",
        "                 test.test_response18,\n",
        "                 test.test_response19,\n",
        "                 test.test_response20\n",
        "                ]:\n",
        "        try:\n",
        "            func()\n",
        "        except:\n",
        "            print(\"error : {}\".format(func))\n",
        "    \n",
        "    test.print_scores()\n",
        "\n",
        "if __name__ == '__main__':\n",
        "    main()"
      ],
      "execution_count": 0,
      "outputs": []
    },
    {
      "cell_type": "code",
      "metadata": {
        "id": "PG5cyKO9gaVh",
        "colab_type": "code",
        "colab": {}
      },
      "source": [
        ""
      ],
      "execution_count": 0,
      "outputs": []
    }
  ]
}