{
  "nbformat": 4,
  "nbformat_minor": 0,
  "metadata": {
    "colab": {
      "name": "S5-5_1. Revisions de Mathématiques Descente de Gradient - Exercice.ipynb",
      "provenance": [],
      "collapsed_sections": [],
      "include_colab_link": true
    },
    "language_info": {
      "codemirror_mode": {
        "name": "ipython",
        "version": 3
      },
      "file_extension": ".py",
      "mimetype": "text/x-python",
      "name": "python",
      "nbconvert_exporter": "python",
      "pygments_lexer": "ipython3",
      "version": "3.6.6"
    },
    "kernelspec": {
      "display_name": "Python 3",
      "language": "python",
      "name": "python3"
    }
  },
  "cells": [
    {
      "cell_type": "markdown",
      "metadata": {
        "id": "view-in-github",
        "colab_type": "text"
      },
      "source": [
        "<a href=\"https://colab.research.google.com/github/tbazzi/Data-Science---Fullstack-Bootcamp/blob/master/S5_5_1_Revisions_de_Math%C3%A9matiques_Descente_de_Gradient_Exercice.ipynb\" target=\"_parent\"><img src=\"https://colab.research.google.com/assets/colab-badge.svg\" alt=\"Open In Colab\"/></a>"
      ]
    },
    {
      "cell_type": "markdown",
      "metadata": {
        "id": "oE5Os8EXOQm1",
        "colab_type": "text"
      },
      "source": [
        "# Révisions de Mathématiques - Descente de Gradient\n",
        "\n",
        "## Pratiquons les maths\n",
        "\n",
        "Nous allons faire des maths avec python! Regardons quelque chose d’intéressant\n",
        "\n",
        "\n",
        "\n"
      ]
    },
    {
      "cell_type": "markdown",
      "metadata": {
        "id": "40MOQqEKOZNS",
        "colab_type": "text"
      },
      "source": [
        "1. Importez les librairies Pandas, Numpy, Seaborn & Matplotlib"
      ]
    },
    {
      "cell_type": "code",
      "metadata": {
        "id": "N44Ecs6SN-Nb",
        "colab_type": "code",
        "colab": {}
      },
      "source": [
        "import seaborn as sns\n",
        "import pandas as pd\n",
        "import numpy as np\n",
        "#import matplotlib as plt\n",
        "import matplotlib.pyplot as plt"
      ],
      "execution_count": 0,
      "outputs": []
    },
    {
      "cell_type": "markdown",
      "metadata": {
        "id": "E64ZRoJ6Obrg",
        "colab_type": "text"
      },
      "source": [
        "2. Créez un série x qui prendra les valeurs -2 jusqu’à 15 avec un pas de 0.001"
      ]
    },
    {
      "cell_type": "code",
      "metadata": {
        "id": "ZM0BDXex-KKV",
        "colab_type": "code",
        "colab": {
          "base_uri": "https://localhost:8080/",
          "height": 35
        },
        "outputId": "db42b4ee-3614-4816-f3d5-c64f487d0b68"
      },
      "source": [
        "x = np.arange(-2, 15, 0.001)\n",
        "x"
      ],
      "execution_count": 2,
      "outputs": [
        {
          "output_type": "execute_result",
          "data": {
            "text/plain": [
              "array([-2.   , -1.999, -1.998, ..., 14.997, 14.998, 14.999])"
            ]
          },
          "metadata": {
            "tags": []
          },
          "execution_count": 2
        }
      ]
    },
    {
      "cell_type": "code",
      "metadata": {
        "id": "mnLLfyE9N-Nf",
        "colab_type": "code",
        "outputId": "fa96ea6e-aa4b-41f9-e9d4-ef4b946afa3d",
        "colab": {
          "base_uri": "https://localhost:8080/",
          "height": 121
        }
      },
      "source": [
        ""
      ],
      "execution_count": 0,
      "outputs": [
        {
          "output_type": "execute_result",
          "data": {
            "text/plain": [
              "0   -2.000\n",
              "1   -1.999\n",
              "2   -1.998\n",
              "3   -1.997\n",
              "4   -1.996\n",
              "dtype: float64"
            ]
          },
          "metadata": {
            "tags": []
          },
          "execution_count": 7
        }
      ]
    },
    {
      "cell_type": "markdown",
      "metadata": {
        "id": "fZWhORQYOoKS",
        "colab_type": "text"
      },
      "source": [
        "3. Créez une variable y qui sera égale à : \n",
        "\n",
        "```\n",
        "f(x)=1/2*x**3 -7*x**2+5*x+12\n",
        "```\n"
      ]
    },
    {
      "cell_type": "code",
      "metadata": {
        "id": "4O2HuyYA-kIR",
        "colab_type": "code",
        "colab": {}
      },
      "source": [
        "def f(x):\n",
        "  return 1/2*x**3 -7*x**2+5*x+12"
      ],
      "execution_count": 0,
      "outputs": []
    },
    {
      "cell_type": "code",
      "metadata": {
        "id": "gWGV79xHOo9V",
        "colab_type": "code",
        "outputId": "bbe715c0-9251-42b4-a767-378e583a6fd5",
        "colab": {
          "base_uri": "https://localhost:8080/",
          "height": 121
        }
      },
      "source": [
        ""
      ],
      "execution_count": 0,
      "outputs": [
        {
          "output_type": "execute_result",
          "data": {
            "text/plain": [
              "0   -30.00000\n",
              "1   -29.96101\n",
              "2   -29.92204\n",
              "3   -29.88309\n",
              "4   -29.84416\n",
              "dtype: float64"
            ]
          },
          "metadata": {
            "tags": []
          },
          "execution_count": 8
        }
      ]
    },
    {
      "cell_type": "markdown",
      "metadata": {
        "id": "zSxO__cSPLaZ",
        "colab_type": "text"
      },
      "source": [
        "4. Créez un dataframe qui prendra les colonnes x et y"
      ]
    },
    {
      "cell_type": "code",
      "metadata": {
        "id": "I1wqxZcn-y8G",
        "colab_type": "code",
        "colab": {
          "base_uri": "https://localhost:8080/",
          "height": 206
        },
        "outputId": "4f3c5799-734b-4bfe-a901-559e2514d818"
      },
      "source": [
        "df = pd.DataFrame(x, columns = [\"x\"])\n",
        "df[\"y\"] = df.x.apply(lambda z: f(z))\n",
        "df.head()"
      ],
      "execution_count": 5,
      "outputs": [
        {
          "output_type": "execute_result",
          "data": {
            "text/html": [
              "<div>\n",
              "<style scoped>\n",
              "    .dataframe tbody tr th:only-of-type {\n",
              "        vertical-align: middle;\n",
              "    }\n",
              "\n",
              "    .dataframe tbody tr th {\n",
              "        vertical-align: top;\n",
              "    }\n",
              "\n",
              "    .dataframe thead th {\n",
              "        text-align: right;\n",
              "    }\n",
              "</style>\n",
              "<table border=\"1\" class=\"dataframe\">\n",
              "  <thead>\n",
              "    <tr style=\"text-align: right;\">\n",
              "      <th></th>\n",
              "      <th>x</th>\n",
              "      <th>y</th>\n",
              "    </tr>\n",
              "  </thead>\n",
              "  <tbody>\n",
              "    <tr>\n",
              "      <th>0</th>\n",
              "      <td>-2.000</td>\n",
              "      <td>-30.00000</td>\n",
              "    </tr>\n",
              "    <tr>\n",
              "      <th>1</th>\n",
              "      <td>-1.999</td>\n",
              "      <td>-29.96101</td>\n",
              "    </tr>\n",
              "    <tr>\n",
              "      <th>2</th>\n",
              "      <td>-1.998</td>\n",
              "      <td>-29.92204</td>\n",
              "    </tr>\n",
              "    <tr>\n",
              "      <th>3</th>\n",
              "      <td>-1.997</td>\n",
              "      <td>-29.88309</td>\n",
              "    </tr>\n",
              "    <tr>\n",
              "      <th>4</th>\n",
              "      <td>-1.996</td>\n",
              "      <td>-29.84416</td>\n",
              "    </tr>\n",
              "  </tbody>\n",
              "</table>\n",
              "</div>"
            ],
            "text/plain": [
              "       x         y\n",
              "0 -2.000 -30.00000\n",
              "1 -1.999 -29.96101\n",
              "2 -1.998 -29.92204\n",
              "3 -1.997 -29.88309\n",
              "4 -1.996 -29.84416"
            ]
          },
          "metadata": {
            "tags": []
          },
          "execution_count": 5
        }
      ]
    },
    {
      "cell_type": "code",
      "metadata": {
        "id": "bxIF1OAJPP9B",
        "colab_type": "code",
        "outputId": "efd52213-c7b9-4308-9cc2-1c6330cebc0a",
        "colab": {
          "base_uri": "https://localhost:8080/",
          "height": 198
        }
      },
      "source": [
        ""
      ],
      "execution_count": 0,
      "outputs": [
        {
          "output_type": "execute_result",
          "data": {
            "text/html": [
              "<div>\n",
              "<style scoped>\n",
              "    .dataframe tbody tr th:only-of-type {\n",
              "        vertical-align: middle;\n",
              "    }\n",
              "\n",
              "    .dataframe tbody tr th {\n",
              "        vertical-align: top;\n",
              "    }\n",
              "\n",
              "    .dataframe thead th {\n",
              "        text-align: right;\n",
              "    }\n",
              "</style>\n",
              "<table border=\"1\" class=\"dataframe\">\n",
              "  <thead>\n",
              "    <tr style=\"text-align: right;\">\n",
              "      <th></th>\n",
              "      <th>x</th>\n",
              "      <th>y</th>\n",
              "    </tr>\n",
              "  </thead>\n",
              "  <tbody>\n",
              "    <tr>\n",
              "      <th>0</th>\n",
              "      <td>-2.000</td>\n",
              "      <td>-30.00000</td>\n",
              "    </tr>\n",
              "    <tr>\n",
              "      <th>1</th>\n",
              "      <td>-1.999</td>\n",
              "      <td>-29.96101</td>\n",
              "    </tr>\n",
              "    <tr>\n",
              "      <th>2</th>\n",
              "      <td>-1.998</td>\n",
              "      <td>-29.92204</td>\n",
              "    </tr>\n",
              "    <tr>\n",
              "      <th>3</th>\n",
              "      <td>-1.997</td>\n",
              "      <td>-29.88309</td>\n",
              "    </tr>\n",
              "    <tr>\n",
              "      <th>4</th>\n",
              "      <td>-1.996</td>\n",
              "      <td>-29.84416</td>\n",
              "    </tr>\n",
              "  </tbody>\n",
              "</table>\n",
              "</div>"
            ],
            "text/plain": [
              "       x         y\n",
              "0 -2.000 -30.00000\n",
              "1 -1.999 -29.96101\n",
              "2 -1.998 -29.92204\n",
              "3 -1.997 -29.88309\n",
              "4 -1.996 -29.84416"
            ]
          },
          "metadata": {
            "tags": []
          },
          "execution_count": 9
        }
      ]
    },
    {
      "cell_type": "markdown",
      "metadata": {
        "id": "U9O3bAw-POq0",
        "colab_type": "text"
      },
      "source": [
        "5. Visualisez cette fonction via seaborn"
      ]
    },
    {
      "cell_type": "code",
      "metadata": {
        "id": "VgpFtUqO_Y_X",
        "colab_type": "code",
        "colab": {
          "base_uri": "https://localhost:8080/",
          "height": 301
        },
        "outputId": "f41ae964-8cb7-4af8-90cd-f7ae533a4401"
      },
      "source": [
        "sns.lineplot(x = \"x\", y = \"y\", data=df)"
      ],
      "execution_count": 6,
      "outputs": [
        {
          "output_type": "execute_result",
          "data": {
            "text/plain": [
              "<matplotlib.axes._subplots.AxesSubplot at 0x7fb283c99eb8>"
            ]
          },
          "metadata": {
            "tags": []
          },
          "execution_count": 6
        },
        {
          "output_type": "display_data",
          "data": {
            "image/png": "[encoded data removed]",
            "text/plain": [
              "<Figure size 432x288 with 1 Axes>"
            ]
          },
          "metadata": {
            "tags": []
          }
        }
      ]
    },
    {
      "cell_type": "code",
      "metadata": {
        "id": "fQGcOuctN-Nk",
        "colab_type": "code",
        "outputId": "6684b330-81c6-4e01-bff4-f755f24fd67f",
        "colab": {
          "base_uri": "https://localhost:8080/",
          "height": 369
        }
      },
      "source": [
        ""
      ],
      "execution_count": 0,
      "outputs": [
        {
          "output_type": "display_data",
          "data": {
            "image/png": "[encoded data removed]",
            "text/plain": [
              "<Figure size 360x360 with 1 Axes>"
            ]
          },
          "metadata": {
            "tags": []
          }
        }
      ]
    },
    {
      "cell_type": "markdown",
      "metadata": {
        "id": "DqbrpODBQDE7",
        "colab_type": "text"
      },
      "source": [
        "6. Calculez la dérivée du polynôme de la question 3\n",
        "7. Créez une série qui sera égale à cette dérivée"
      ]
    },
    {
      "cell_type": "code",
      "metadata": {
        "id": "cPEpJQOH_j-E",
        "colab_type": "code",
        "colab": {}
      },
      "source": [
        "def fd(x):\n",
        "  return 1/2*3*x**2 -7*2*x+5"
      ],
      "execution_count": 0,
      "outputs": []
    },
    {
      "cell_type": "code",
      "metadata": {
        "id": "Vcg1IXtEN-Nr",
        "colab_type": "code",
        "outputId": "38718420-0cf1-4d35-e98f-b045358b0d92",
        "colab": {
          "base_uri": "https://localhost:8080/",
          "height": 121
        }
      },
      "source": [
        ""
      ],
      "execution_count": 0,
      "outputs": [
        {
          "output_type": "execute_result",
          "data": {
            "text/plain": [
              "0    39.000000\n",
              "1    38.980002\n",
              "2    38.960006\n",
              "3    38.940014\n",
              "4    38.920024\n",
              "dtype: float64"
            ]
          },
          "metadata": {
            "tags": []
          },
          "execution_count": 11
        }
      ]
    },
    {
      "cell_type": "code",
      "metadata": {
        "id": "1cTOP2urN-Nt",
        "colab_type": "code",
        "colab": {}
      },
      "source": [
        "df[\"y'\"] = df.x.apply(lambda z : fd(z))"
      ],
      "execution_count": 0,
      "outputs": []
    },
    {
      "cell_type": "code",
      "metadata": {
        "id": "qURvcO0CN-Nw",
        "colab_type": "code",
        "colab": {
          "base_uri": "https://localhost:8080/",
          "height": 206
        },
        "outputId": "5f3b3d00-d22c-4c8c-f67a-eb967ccac8c0"
      },
      "source": [
        "df.head()"
      ],
      "execution_count": 12,
      "outputs": [
        {
          "output_type": "execute_result",
          "data": {
            "text/html": [
              "<div>\n",
              "<style scoped>\n",
              "    .dataframe tbody tr th:only-of-type {\n",
              "        vertical-align: middle;\n",
              "    }\n",
              "\n",
              "    .dataframe tbody tr th {\n",
              "        vertical-align: top;\n",
              "    }\n",
              "\n",
              "    .dataframe thead th {\n",
              "        text-align: right;\n",
              "    }\n",
              "</style>\n",
              "<table border=\"1\" class=\"dataframe\">\n",
              "  <thead>\n",
              "    <tr style=\"text-align: right;\">\n",
              "      <th></th>\n",
              "      <th>x</th>\n",
              "      <th>y</th>\n",
              "      <th>y'</th>\n",
              "    </tr>\n",
              "  </thead>\n",
              "  <tbody>\n",
              "    <tr>\n",
              "      <th>0</th>\n",
              "      <td>-2.000</td>\n",
              "      <td>-30.00000</td>\n",
              "      <td>39.000000</td>\n",
              "    </tr>\n",
              "    <tr>\n",
              "      <th>1</th>\n",
              "      <td>-1.999</td>\n",
              "      <td>-29.96101</td>\n",
              "      <td>38.980002</td>\n",
              "    </tr>\n",
              "    <tr>\n",
              "      <th>2</th>\n",
              "      <td>-1.998</td>\n",
              "      <td>-29.92204</td>\n",
              "      <td>38.960006</td>\n",
              "    </tr>\n",
              "    <tr>\n",
              "      <th>3</th>\n",
              "      <td>-1.997</td>\n",
              "      <td>-29.88309</td>\n",
              "      <td>38.940014</td>\n",
              "    </tr>\n",
              "    <tr>\n",
              "      <th>4</th>\n",
              "      <td>-1.996</td>\n",
              "      <td>-29.84416</td>\n",
              "      <td>38.920024</td>\n",
              "    </tr>\n",
              "  </tbody>\n",
              "</table>\n",
              "</div>"
            ],
            "text/plain": [
              "       x         y         y'\n",
              "0 -2.000 -30.00000  39.000000\n",
              "1 -1.999 -29.96101  38.980002\n",
              "2 -1.998 -29.92204  38.960006\n",
              "3 -1.997 -29.88309  38.940014\n",
              "4 -1.996 -29.84416  38.920024"
            ]
          },
          "metadata": {
            "tags": []
          },
          "execution_count": 12
        }
      ]
    },
    {
      "cell_type": "markdown",
      "metadata": {
        "id": "AjUgyP4zQUrt",
        "colab_type": "text"
      },
      "source": [
        "8. Visualiser la fonction via seaborn "
      ]
    },
    {
      "cell_type": "code",
      "metadata": {
        "id": "ASAfas5yDhOk",
        "colab_type": "code",
        "colab": {
          "base_uri": "https://localhost:8080/",
          "height": 301
        },
        "outputId": "96e7fa0c-dd92-431f-84c1-d0c0191530aa"
      },
      "source": [
        "sns.lineplot(x = \"x\", y = \"y'\", data=df)"
      ],
      "execution_count": 13,
      "outputs": [
        {
          "output_type": "execute_result",
          "data": {
            "text/plain": [
              "<matplotlib.axes._subplots.AxesSubplot at 0x7fb283a3c780>"
            ]
          },
          "metadata": {
            "tags": []
          },
          "execution_count": 13
        },
        {
          "output_type": "display_data",
          "data": {
            "image/png": "[encoded data removed]",
            "text/plain": [
              "<Figure size 432x288 with 1 Axes>"
            ]
          },
          "metadata": {
            "tags": []
          }
        }
      ]
    },
    {
      "cell_type": "code",
      "metadata": {
        "id": "UdXMWh9ZN-Ny",
        "colab_type": "code",
        "outputId": "51fb1e03-1e9c-4d21-a0e2-8a71977a7458",
        "colab": {
          "base_uri": "https://localhost:8080/",
          "height": 369
        }
      },
      "source": [
        ""
      ],
      "execution_count": 0,
      "outputs": [
        {
          "output_type": "display_data",
          "data": {
            "image/png": "[encoded data removed]",
            "text/plain": [
              "<Figure size 360x360 with 1 Axes>"
            ]
          },
          "metadata": {
            "tags": []
          }
        }
      ]
    },
    {
      "cell_type": "markdown",
      "metadata": {
        "id": "jiZshbxoQadw",
        "colab_type": "text"
      },
      "source": [
        "9. Trouvez les x pour lequel la dérivée de y se rapproche le plus de la valeur 0"
      ]
    },
    {
      "cell_type": "code",
      "metadata": {
        "id": "MSNVzInKDys3",
        "colab_type": "code",
        "colab": {
          "base_uri": "https://localhost:8080/",
          "height": 1000
        },
        "outputId": "8a9a38bd-4eea-4681-e6b4-60100919761b"
      },
      "source": [
        "df[(df[\"y'\"]>-0.1) & (df[\"y'\"]<0.1)]#.sort_values(\"y'\")"
      ],
      "execution_count": 40,
      "outputs": [
        {
          "output_type": "execute_result",
          "data": {
            "text/html": [
              "<div>\n",
              "<style scoped>\n",
              "    .dataframe tbody tr th:only-of-type {\n",
              "        vertical-align: middle;\n",
              "    }\n",
              "\n",
              "    .dataframe tbody tr th {\n",
              "        vertical-align: top;\n",
              "    }\n",
              "\n",
              "    .dataframe thead th {\n",
              "        text-align: right;\n",
              "    }\n",
              "</style>\n",
              "<table border=\"1\" class=\"dataframe\">\n",
              "  <thead>\n",
              "    <tr style=\"text-align: right;\">\n",
              "      <th></th>\n",
              "      <th>x</th>\n",
              "      <th>y</th>\n",
              "      <th>y'</th>\n",
              "      <th>gr</th>\n",
              "    </tr>\n",
              "  </thead>\n",
              "  <tbody>\n",
              "    <tr>\n",
              "      <th>2365</th>\n",
              "      <td>0.365</td>\n",
              "      <td>12.916739</td>\n",
              "      <td>0.089838</td>\n",
              "      <td>8.983800e-05</td>\n",
              "    </tr>\n",
              "    <tr>\n",
              "      <th>2366</th>\n",
              "      <td>0.366</td>\n",
              "      <td>12.916822</td>\n",
              "      <td>0.076934</td>\n",
              "      <td>7.693450e-05</td>\n",
              "    </tr>\n",
              "    <tr>\n",
              "      <th>2367</th>\n",
              "      <td>0.367</td>\n",
              "      <td>12.916892</td>\n",
              "      <td>0.064034</td>\n",
              "      <td>6.403400e-05</td>\n",
              "    </tr>\n",
              "    <tr>\n",
              "      <th>2368</th>\n",
              "      <td>0.368</td>\n",
              "      <td>12.916950</td>\n",
              "      <td>0.051136</td>\n",
              "      <td>5.113650e-05</td>\n",
              "    </tr>\n",
              "    <tr>\n",
              "      <th>2369</th>\n",
              "      <td>0.369</td>\n",
              "      <td>12.916995</td>\n",
              "      <td>0.038242</td>\n",
              "      <td>3.824200e-05</td>\n",
              "    </tr>\n",
              "    <tr>\n",
              "      <th>2370</th>\n",
              "      <td>0.370</td>\n",
              "      <td>12.917026</td>\n",
              "      <td>0.025350</td>\n",
              "      <td>2.535050e-05</td>\n",
              "    </tr>\n",
              "    <tr>\n",
              "      <th>2371</th>\n",
              "      <td>0.371</td>\n",
              "      <td>12.917045</td>\n",
              "      <td>0.012462</td>\n",
              "      <td>1.246200e-05</td>\n",
              "    </tr>\n",
              "    <tr>\n",
              "      <th>2372</th>\n",
              "      <td>0.372</td>\n",
              "      <td>12.917051</td>\n",
              "      <td>-0.000424</td>\n",
              "      <td>-4.235000e-07</td>\n",
              "    </tr>\n",
              "    <tr>\n",
              "      <th>2373</th>\n",
              "      <td>0.373</td>\n",
              "      <td>12.917045</td>\n",
              "      <td>-0.013306</td>\n",
              "      <td>-1.330600e-05</td>\n",
              "    </tr>\n",
              "    <tr>\n",
              "      <th>2374</th>\n",
              "      <td>0.374</td>\n",
              "      <td>12.917025</td>\n",
              "      <td>-0.026186</td>\n",
              "      <td>-2.618550e-05</td>\n",
              "    </tr>\n",
              "    <tr>\n",
              "      <th>2375</th>\n",
              "      <td>0.375</td>\n",
              "      <td>12.916992</td>\n",
              "      <td>-0.039062</td>\n",
              "      <td>-3.906200e-05</td>\n",
              "    </tr>\n",
              "    <tr>\n",
              "      <th>2376</th>\n",
              "      <td>0.376</td>\n",
              "      <td>12.916947</td>\n",
              "      <td>-0.051936</td>\n",
              "      <td>-5.193550e-05</td>\n",
              "    </tr>\n",
              "    <tr>\n",
              "      <th>2377</th>\n",
              "      <td>0.377</td>\n",
              "      <td>12.916888</td>\n",
              "      <td>-0.064806</td>\n",
              "      <td>-6.480600e-05</td>\n",
              "    </tr>\n",
              "    <tr>\n",
              "      <th>2378</th>\n",
              "      <td>0.378</td>\n",
              "      <td>12.916817</td>\n",
              "      <td>-0.077674</td>\n",
              "      <td>-7.767350e-05</td>\n",
              "    </tr>\n",
              "    <tr>\n",
              "      <th>2379</th>\n",
              "      <td>0.379</td>\n",
              "      <td>12.916733</td>\n",
              "      <td>-0.090538</td>\n",
              "      <td>-9.053800e-05</td>\n",
              "    </tr>\n",
              "    <tr>\n",
              "      <th>10954</th>\n",
              "      <td>8.954</td>\n",
              "      <td>-145.509295</td>\n",
              "      <td>-0.094826</td>\n",
              "      <td>-9.482550e-05</td>\n",
              "    </tr>\n",
              "    <tr>\n",
              "      <th>10955</th>\n",
              "      <td>8.955</td>\n",
              "      <td>-145.509383</td>\n",
              "      <td>-0.081963</td>\n",
              "      <td>-8.196200e-05</td>\n",
              "    </tr>\n",
              "    <tr>\n",
              "      <th>10956</th>\n",
              "      <td>8.956</td>\n",
              "      <td>-145.509459</td>\n",
              "      <td>-0.069096</td>\n",
              "      <td>-6.909550e-05</td>\n",
              "    </tr>\n",
              "    <tr>\n",
              "      <th>10957</th>\n",
              "      <td>8.957</td>\n",
              "      <td>-145.509521</td>\n",
              "      <td>-0.056227</td>\n",
              "      <td>-5.622600e-05</td>\n",
              "    </tr>\n",
              "    <tr>\n",
              "      <th>10958</th>\n",
              "      <td>8.958</td>\n",
              "      <td>-145.509571</td>\n",
              "      <td>-0.043354</td>\n",
              "      <td>-4.335350e-05</td>\n",
              "    </tr>\n",
              "    <tr>\n",
              "      <th>10959</th>\n",
              "      <td>8.959</td>\n",
              "      <td>-145.509608</td>\n",
              "      <td>-0.030479</td>\n",
              "      <td>-3.047800e-05</td>\n",
              "    </tr>\n",
              "    <tr>\n",
              "      <th>10960</th>\n",
              "      <td>8.960</td>\n",
              "      <td>-145.509632</td>\n",
              "      <td>-0.017600</td>\n",
              "      <td>-1.759950e-05</td>\n",
              "    </tr>\n",
              "    <tr>\n",
              "      <th>10961</th>\n",
              "      <td>8.961</td>\n",
              "      <td>-145.509643</td>\n",
              "      <td>-0.004719</td>\n",
              "      <td>-4.718000e-06</td>\n",
              "    </tr>\n",
              "    <tr>\n",
              "      <th>10962</th>\n",
              "      <td>8.962</td>\n",
              "      <td>-145.509641</td>\n",
              "      <td>0.008166</td>\n",
              "      <td>8.166500e-06</td>\n",
              "    </tr>\n",
              "    <tr>\n",
              "      <th>10963</th>\n",
              "      <td>8.963</td>\n",
              "      <td>-145.509627</td>\n",
              "      <td>0.021053</td>\n",
              "      <td>2.105400e-05</td>\n",
              "    </tr>\n",
              "    <tr>\n",
              "      <th>10964</th>\n",
              "      <td>8.964</td>\n",
              "      <td>-145.509599</td>\n",
              "      <td>0.033944</td>\n",
              "      <td>3.394450e-05</td>\n",
              "    </tr>\n",
              "    <tr>\n",
              "      <th>10965</th>\n",
              "      <td>8.965</td>\n",
              "      <td>-145.509559</td>\n",
              "      <td>0.046837</td>\n",
              "      <td>4.683800e-05</td>\n",
              "    </tr>\n",
              "    <tr>\n",
              "      <th>10966</th>\n",
              "      <td>8.966</td>\n",
              "      <td>-145.509506</td>\n",
              "      <td>0.059734</td>\n",
              "      <td>5.973450e-05</td>\n",
              "    </tr>\n",
              "    <tr>\n",
              "      <th>10967</th>\n",
              "      <td>8.967</td>\n",
              "      <td>-145.509439</td>\n",
              "      <td>0.072633</td>\n",
              "      <td>7.263400e-05</td>\n",
              "    </tr>\n",
              "    <tr>\n",
              "      <th>10968</th>\n",
              "      <td>8.968</td>\n",
              "      <td>-145.509360</td>\n",
              "      <td>0.085536</td>\n",
              "      <td>8.553650e-05</td>\n",
              "    </tr>\n",
              "    <tr>\n",
              "      <th>10969</th>\n",
              "      <td>8.969</td>\n",
              "      <td>-145.509268</td>\n",
              "      <td>0.098441</td>\n",
              "      <td>9.844200e-05</td>\n",
              "    </tr>\n",
              "  </tbody>\n",
              "</table>\n",
              "</div>"
            ],
            "text/plain": [
              "           x           y        y'            gr\n",
              "2365   0.365   12.916739  0.089838  8.983800e-05\n",
              "2366   0.366   12.916822  0.076934  7.693450e-05\n",
              "2367   0.367   12.916892  0.064034  6.403400e-05\n",
              "2368   0.368   12.916950  0.051136  5.113650e-05\n",
              "2369   0.369   12.916995  0.038242  3.824200e-05\n",
              "2370   0.370   12.917026  0.025350  2.535050e-05\n",
              "2371   0.371   12.917045  0.012462  1.246200e-05\n",
              "2372   0.372   12.917051 -0.000424 -4.235000e-07\n",
              "2373   0.373   12.917045 -0.013306 -1.330600e-05\n",
              "2374   0.374   12.917025 -0.026186 -2.618550e-05\n",
              "2375   0.375   12.916992 -0.039062 -3.906200e-05\n",
              "2376   0.376   12.916947 -0.051936 -5.193550e-05\n",
              "2377   0.377   12.916888 -0.064806 -6.480600e-05\n",
              "2378   0.378   12.916817 -0.077674 -7.767350e-05\n",
              "2379   0.379   12.916733 -0.090538 -9.053800e-05\n",
              "10954  8.954 -145.509295 -0.094826 -9.482550e-05\n",
              "10955  8.955 -145.509383 -0.081963 -8.196200e-05\n",
              "10956  8.956 -145.509459 -0.069096 -6.909550e-05\n",
              "10957  8.957 -145.509521 -0.056227 -5.622600e-05\n",
              "10958  8.958 -145.509571 -0.043354 -4.335350e-05\n",
              "10959  8.959 -145.509608 -0.030479 -3.047800e-05\n",
              "10960  8.960 -145.509632 -0.017600 -1.759950e-05\n",
              "10961  8.961 -145.509643 -0.004719 -4.718000e-06\n",
              "10962  8.962 -145.509641  0.008166  8.166500e-06\n",
              "10963  8.963 -145.509627  0.021053  2.105400e-05\n",
              "10964  8.964 -145.509599  0.033944  3.394450e-05\n",
              "10965  8.965 -145.509559  0.046837  4.683800e-05\n",
              "10966  8.966 -145.509506  0.059734  5.973450e-05\n",
              "10967  8.967 -145.509439  0.072633  7.263400e-05\n",
              "10968  8.968 -145.509360  0.085536  8.553650e-05\n",
              "10969  8.969 -145.509268  0.098441  9.844200e-05"
            ]
          },
          "metadata": {
            "tags": []
          },
          "execution_count": 40
        }
      ]
    },
    {
      "cell_type": "code",
      "metadata": {
        "id": "oSiI_KUZN-N1",
        "colab_type": "code",
        "outputId": "f6a52a2c-1235-4311-bd4e-fc9c7679d522",
        "colab": {
          "base_uri": "https://localhost:8080/",
          "height": 138
        }
      },
      "source": [
        ""
      ],
      "execution_count": 0,
      "outputs": [
        {
          "output_type": "execute_result",
          "data": {
            "text/html": [
              "<div>\n",
              "<style scoped>\n",
              "    .dataframe tbody tr th:only-of-type {\n",
              "        vertical-align: middle;\n",
              "    }\n",
              "\n",
              "    .dataframe tbody tr th {\n",
              "        vertical-align: top;\n",
              "    }\n",
              "\n",
              "    .dataframe thead th {\n",
              "        text-align: right;\n",
              "    }\n",
              "</style>\n",
              "<table border=\"1\" class=\"dataframe\">\n",
              "  <thead>\n",
              "    <tr style=\"text-align: right;\">\n",
              "      <th></th>\n",
              "      <th>x</th>\n",
              "      <th>y</th>\n",
              "    </tr>\n",
              "  </thead>\n",
              "  <tbody>\n",
              "    <tr>\n",
              "      <th>372</th>\n",
              "      <td>0.372</td>\n",
              "      <td>-0.000424</td>\n",
              "    </tr>\n",
              "    <tr>\n",
              "      <th>8961</th>\n",
              "      <td>8.961</td>\n",
              "      <td>-0.004719</td>\n",
              "    </tr>\n",
              "    <tr>\n",
              "      <th>8962</th>\n",
              "      <td>8.962</td>\n",
              "      <td>0.008166</td>\n",
              "    </tr>\n",
              "  </tbody>\n",
              "</table>\n",
              "</div>"
            ],
            "text/plain": [
              "          x         y\n",
              "372   0.372 -0.000424\n",
              "8961  8.961 -0.004719\n",
              "8962  8.962  0.008166"
            ]
          },
          "metadata": {
            "tags": []
          },
          "execution_count": 15
        }
      ]
    },
    {
      "cell_type": "markdown",
      "metadata": {
        "id": "jrXi29xCQd62",
        "colab_type": "text"
      },
      "source": [
        "9. Utilisez la méthode Numpy .gradient() sur la série y\n"
      ]
    },
    {
      "cell_type": "code",
      "metadata": {
        "id": "6TyWvFTuF1EJ",
        "colab_type": "code",
        "colab": {
          "base_uri": "https://localhost:8080/",
          "height": 206
        },
        "outputId": "9c406724-c6a2-469b-d5d9-42c40d790df8"
      },
      "source": [
        "gr = np.gradient(df.y, x)\n",
        "df[\"gr\"] = gr\n",
        "df.head()"
      ],
      "execution_count": 42,
      "outputs": [
        {
          "output_type": "execute_result",
          "data": {
            "text/html": [
              "<div>\n",
              "<style scoped>\n",
              "    .dataframe tbody tr th:only-of-type {\n",
              "        vertical-align: middle;\n",
              "    }\n",
              "\n",
              "    .dataframe tbody tr th {\n",
              "        vertical-align: top;\n",
              "    }\n",
              "\n",
              "    .dataframe thead th {\n",
              "        text-align: right;\n",
              "    }\n",
              "</style>\n",
              "<table border=\"1\" class=\"dataframe\">\n",
              "  <thead>\n",
              "    <tr style=\"text-align: right;\">\n",
              "      <th></th>\n",
              "      <th>x</th>\n",
              "      <th>y</th>\n",
              "      <th>y'</th>\n",
              "      <th>gr</th>\n",
              "    </tr>\n",
              "  </thead>\n",
              "  <tbody>\n",
              "    <tr>\n",
              "      <th>0</th>\n",
              "      <td>-2.000</td>\n",
              "      <td>-30.00000</td>\n",
              "      <td>39.000000</td>\n",
              "      <td>38.990000</td>\n",
              "    </tr>\n",
              "    <tr>\n",
              "      <th>1</th>\n",
              "      <td>-1.999</td>\n",
              "      <td>-29.96101</td>\n",
              "      <td>38.980002</td>\n",
              "      <td>38.980002</td>\n",
              "    </tr>\n",
              "    <tr>\n",
              "      <th>2</th>\n",
              "      <td>-1.998</td>\n",
              "      <td>-29.92204</td>\n",
              "      <td>38.960006</td>\n",
              "      <td>38.960007</td>\n",
              "    </tr>\n",
              "    <tr>\n",
              "      <th>3</th>\n",
              "      <td>-1.997</td>\n",
              "      <td>-29.88309</td>\n",
              "      <td>38.940014</td>\n",
              "      <td>38.940014</td>\n",
              "    </tr>\n",
              "    <tr>\n",
              "      <th>4</th>\n",
              "      <td>-1.996</td>\n",
              "      <td>-29.84416</td>\n",
              "      <td>38.920024</td>\n",
              "      <td>38.920024</td>\n",
              "    </tr>\n",
              "  </tbody>\n",
              "</table>\n",
              "</div>"
            ],
            "text/plain": [
              "       x         y         y'         gr\n",
              "0 -2.000 -30.00000  39.000000  38.990000\n",
              "1 -1.999 -29.96101  38.980002  38.980002\n",
              "2 -1.998 -29.92204  38.960006  38.960007\n",
              "3 -1.997 -29.88309  38.940014  38.940014\n",
              "4 -1.996 -29.84416  38.920024  38.920024"
            ]
          },
          "metadata": {
            "tags": []
          },
          "execution_count": 42
        }
      ]
    },
    {
      "cell_type": "code",
      "metadata": {
        "id": "2CksaogeN-No",
        "colab_type": "code",
        "outputId": "8212ac6f-3057-4063-ec96-a1f0763962b7",
        "colab": {
          "base_uri": "https://localhost:8080/",
          "height": 198
        }
      },
      "source": [
        ""
      ],
      "execution_count": 0,
      "outputs": [
        {
          "output_type": "execute_result",
          "data": {
            "text/html": [
              "<div>\n",
              "<style scoped>\n",
              "    .dataframe tbody tr th:only-of-type {\n",
              "        vertical-align: middle;\n",
              "    }\n",
              "\n",
              "    .dataframe tbody tr th {\n",
              "        vertical-align: top;\n",
              "    }\n",
              "\n",
              "    .dataframe thead th {\n",
              "        text-align: right;\n",
              "    }\n",
              "</style>\n",
              "<table border=\"1\" class=\"dataframe\">\n",
              "  <thead>\n",
              "    <tr style=\"text-align: right;\">\n",
              "      <th></th>\n",
              "      <th>0</th>\n",
              "    </tr>\n",
              "  </thead>\n",
              "  <tbody>\n",
              "    <tr>\n",
              "      <th>0</th>\n",
              "      <td>38.990000</td>\n",
              "    </tr>\n",
              "    <tr>\n",
              "      <th>1</th>\n",
              "      <td>38.980002</td>\n",
              "    </tr>\n",
              "    <tr>\n",
              "      <th>2</th>\n",
              "      <td>38.960006</td>\n",
              "    </tr>\n",
              "    <tr>\n",
              "      <th>3</th>\n",
              "      <td>38.940014</td>\n",
              "    </tr>\n",
              "    <tr>\n",
              "      <th>4</th>\n",
              "      <td>38.920024</td>\n",
              "    </tr>\n",
              "  </tbody>\n",
              "</table>\n",
              "</div>"
            ],
            "text/plain": [
              "           0\n",
              "0  38.990000\n",
              "1  38.980002\n",
              "2  38.960006\n",
              "3  38.940014\n",
              "4  38.920024"
            ]
          },
          "metadata": {
            "tags": []
          },
          "execution_count": 16
        }
      ]
    },
    {
      "cell_type": "markdown",
      "metadata": {
        "id": "wKZWD_igQfjd",
        "colab_type": "text"
      },
      "source": [
        "10.  Comparez à votre dérivée. Que voyez vous ?"
      ]
    },
    {
      "cell_type": "markdown",
      "metadata": {
        "id": "wjQaJ1RoQgoQ",
        "colab_type": "text"
      },
      "source": [
        ""
      ]
    },
    {
      "cell_type": "code",
      "metadata": {
        "id": "vLazvFhoQz_A",
        "colab_type": "code",
        "colab": {
          "base_uri": "https://localhost:8080/",
          "height": 301
        },
        "outputId": "bfae0d0a-5947-4f11-b196-a868af7d3d2a"
      },
      "source": [
        "sns.lineplot(x = \"x\", y = \"gr\", data=df)"
      ],
      "execution_count": 43,
      "outputs": [
        {
          "output_type": "execute_result",
          "data": {
            "text/plain": [
              "<matplotlib.axes._subplots.AxesSubplot at 0x7fb280f9d908>"
            ]
          },
          "metadata": {
            "tags": []
          },
          "execution_count": 43
        },
        {
          "output_type": "display_data",
          "data": {
            "image/png": "[encoded data removed]",
            "text/plain": [
              "<Figure size 432x288 with 1 Axes>"
            ]
          },
          "metadata": {
            "tags": []
          }
        }
      ]
    },
    {
      "cell_type": "markdown",
      "metadata": {
        "id": "2YSWv8D7Q4t2",
        "colab_type": "text"
      },
      "source": [
        "gradient ~= y1-y0/x1-x0"
      ]
    }
  ]
}